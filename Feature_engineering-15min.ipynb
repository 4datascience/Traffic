{
 "cells": [
  {
   "cell_type": "markdown",
   "metadata": {
    "id": "uZ_KQy9CaghT",
    "tags": []
   },
   "source": [
    "# **INITIALISATION**"
   ]
  },
  {
   "cell_type": "markdown",
   "metadata": {
    "id": "J1aLPKnRdfSq"
   },
   "source": [
    "## Python Environment"
   ]
  },
  {
   "cell_type": "markdown",
   "metadata": {
    "id": "2O_6vDSUdG5G"
   },
   "source": [
    "### Import Python libraries"
   ]
  },
  {
   "cell_type": "code",
   "execution_count": 1,
   "metadata": {
    "id": "0aZLKV7udGBe"
   },
   "outputs": [],
   "source": [
    "# Data libraries\n",
    "import os\n",
    "import pandas as pd\n",
    "import calendar\n",
    "import numpy as np\n",
    "import gc\n",
    "import math\n",
    "from operator import itemgetter\n",
    "from datetime import datetime\n",
    "\n",
    "# Plotting\n",
    "import matplotlib.pyplot as plt\n",
    "from matplotlib.ticker import StrMethodFormatter\n",
    "from seaborn import violinplot, boxenplot\n",
    "\n",
    "# Model training\n",
    "from sklearn.model_selection import cross_validate\n",
    "from sklearn import metrics, preprocessing\n",
    "from sklearn.pipeline import make_pipeline\n",
    "from sklearn.naive_bayes import GaussianNB\n",
    "#from imblearn.ensemble import RUSBoostClassifier\n",
    "from sklearn.ensemble import AdaBoostClassifier\n",
    "from sklearn.tree import DecisionTreeClassifier\n",
    "from sklearn import base\n",
    "import joblib\n",
    "    # Keras\n",
    "from tensorflow import keras\n",
    "from keras.models import Sequential\n",
    "from keras.layers import Dense, Dropout, LSTM, Activation, Lambda\n",
    "    # Tensorflow\n",
    "import tensorflow as tf\n",
    "\n",
    "# Statistical tests\n",
    "from scipy.stats import shapiro"
   ]
  },
  {
   "cell_type": "markdown",
   "metadata": {
    "id": "4sHUoA4jdmit"
   },
   "source": [
    "### SET ENVIRONMENT VARIABLES"
   ]
  },
  {
   "cell_type": "code",
   "execution_count": 2,
   "metadata": {
    "id": "aGdil-f9dr5k"
   },
   "outputs": [],
   "source": [
    "# WORKING FOLDER: /content/local/Traffic/data or /content/drive/MyDrive/Traffic/data\n",
    "ROOT = '/content/local/Traffic/data'\n",
    "# PREDICTION HORIZON\n",
    "PREDICTED_MINUTES_AHEAD = 15\n",
    "if (PREDICTED_MINUTES_AHEAD%5 != 0): raise ValueError(\"Invalid prediction horizon. Must be multiple of 5 minutes\")\n",
    "INPUT_MINUTES_BEFORE = 45\n",
    "if (INPUT_MINUTES_BEFORE%5 != 0): raise ValueError(\"Invalid input minutes span. Must be multiple of 5 minutes\")"
   ]
  },
  {
   "cell_type": "markdown",
   "metadata": {
    "id": "v7P6CQyDdblM",
    "jp-MarkdownHeadingCollapsed": true,
    "tags": []
   },
   "source": [
    "## Files (Ignore if working locally)"
   ]
  },
  {
   "cell_type": "markdown",
   "metadata": {
    "id": "s7uxqluGalb6",
    "tags": []
   },
   "source": [
    "### Mount \\<Google Drive\\>"
   ]
  },
  {
   "cell_type": "code",
   "execution_count": null,
   "metadata": {
    "colab": {
     "base_uri": "https://localhost:8080/"
    },
    "id": "PtJt6uekJtLb",
    "outputId": "d69b4573-b5d6-442d-9525-dac0f6d854e2"
   },
   "outputs": [],
   "source": [
    "from google.colab import drive\n",
    "drive.mount('/content/drive')\n",
    "!rm -rf sample_data"
   ]
  },
  {
   "cell_type": "markdown",
   "metadata": {
    "id": "EPQCjHeEa0Tt",
    "tags": []
   },
   "source": [
    "### Clone \\<Github\\>"
   ]
  },
  {
   "cell_type": "code",
   "execution_count": null,
   "metadata": {
    "colab": {
     "base_uri": "https://localhost:8080/"
    },
    "id": "9T3lXEPdJv29",
    "outputId": "eba39175-cb03-4cae-ebb4-c91057d4ab7d"
   },
   "outputs": [],
   "source": [
    "!sh /content/drive/MyDrive/Traffic/scripts/initialisation.sh"
   ]
  },
  {
   "cell_type": "code",
   "execution_count": null,
   "metadata": {
    "colab": {
     "base_uri": "https://localhost:8080/"
    },
    "id": "wTfD2Vw6a64d",
    "outputId": "bf4680f8-e4cc-440a-f9df-c11f283eafa2"
   },
   "outputs": [],
   "source": [
    "%cd /content/Traffic\n",
    "!git config user.email diego@google.colab.com\n",
    "!git config user.name \"Google Colab\"\n",
    "!git config http.postBuffer 524288000"
   ]
  },
  {
   "cell_type": "markdown",
   "metadata": {
    "id": "wOQaX0TnQJti",
    "jp-MarkdownHeadingCollapsed": true,
    "tags": []
   },
   "source": [
    "# **UPLOAD DATA**"
   ]
  },
  {
   "cell_type": "markdown",
   "metadata": {
    "id": "fRqNJgJxQf8l",
    "tags": []
   },
   "source": [
    "## TO GOOGLE DRIVE [ LINK_ID, TT_ARR, LOS_DEP ]"
   ]
  },
  {
   "cell_type": "code",
   "execution_count": 4,
   "metadata": {
    "colab": {
     "base_uri": "https://localhost:8080/"
    },
    "id": "0Jet-m9yQJSQ",
    "outputId": "8b659314-fbf3-4f74-ba1d-c4af2da2e837"
   },
   "outputs": [
    {
     "name": "stdout",
     "output_type": "stream",
     "text": [
      "Sevilla_2018.csv 273.0\n",
      "Training percentage (7387200 elements):\n",
      "\t62.45434623813002%\n",
      "Validation percentage:\n",
      "\t37.54261017774531%\n"
     ]
    }
   ],
   "source": [
    "\n",
    "\n",
    "training = []\n",
    "validation = []\n",
    "total_size = 0\n",
    "\n",
    "directory = '/content/drive/MyDrive/Traffic/data/processed/'\n",
    "filenames = os.listdir(directory)\n",
    "filenames.sort()\n",
    "for filename in filenames:\n",
    "    f = os.path.join(directory, filename)\n",
    "    df=pd.read_csv(f)\n",
    "    print(f'{filename} {df.shape[0]/(60*24*6)}')\n",
    "    df[\"date\"] = pd.to_datetime(df[\"date\"], format='%d-%b-%Y %H:%M:%S')\n",
    "    df = df.set_index(\"date\")\n",
    "    Y = df.shift(-PREDICTED_MINUTES_AHEAD, freq='min')[['link_id', 'LOS_dep']]\n",
    "    # Training set\n",
    "    X = df.loc[(df.index.day < 20)][['link_id', 'tt_arr']]\n",
    "    training.append( pd.merge(X, Y, on=['date', 'link_id'], how='inner') )\n",
    "    # Validation set\n",
    "    X = df.loc[~(df.index.day < 20)][['link_id', 'tt_arr']]\n",
    "    validation.append( pd.merge(X, Y, on=['date', 'link_id'], how='inner') )\n",
    "    total_size += df.shape[0]\n",
    "del df\n",
    "training_df = pd.concat(training)\n",
    "validation_df = pd.concat(validation)\n",
    "\n",
    "del training, validation\n",
    "print(f'Training percentage ({training_df.shape[0]} elements):\\n\\t{training_df.shape[0] / total_size * 100}%')\n",
    "print(f'Validation percentage:\\n\\t{validation_df.shape[0] / total_size * 100}%')\n",
    "\n",
    "training_df.to_csv(f'/content/drive/MyDrive/Traffic/data/intermediate/Sevilla_{PREDICTED_MINUTES_AHEAD}m_training.csv')\n",
    "validation_df.to_csv(f'/content/drive/MyDrive/Traffic/data/intermediate/Sevilla_{PREDICTED_MINUTES_AHEAD}m_validating.csv')"
   ]
  },
  {
   "cell_type": "markdown",
   "metadata": {
    "id": "uNktJwINXeVt",
    "tags": []
   },
   "source": [
    "## TO GOOGLE DRIVE [ LINK_ID, TT_ARR, TT_ARR-5, TT_ARR-10, ..., TT_ARR-N, LOS_DEP ]"
   ]
  },
  {
   "cell_type": "code",
   "execution_count": 5,
   "metadata": {
    "colab": {
     "base_uri": "https://localhost:8080/"
    },
    "id": "BokEgQrdavRt",
    "outputId": "393ac4b5-488f-4292-a764-24ca40a30e8d"
   },
   "outputs": [
    {
     "name": "stdout",
     "output_type": "stream",
     "text": [
      "Sevilla_2015.csv 365.0\n",
      "Sevilla_2016.csv 366.0\n",
      "Sevilla_2017.csv 365.0\n",
      "Sevilla_2018.csv 273.0\n",
      "Training percentage (7386120 elements):\n",
      "\t62.44521548575602%\n",
      "Validation percentage:\n",
      "\t37.54261017774531%\n"
     ]
    }
   ],
   "source": [
    "\n",
    "\n",
    "training = []\n",
    "validation = []\n",
    "total_size = 0\n",
    "\n",
    "directory = '/content/drive/MyDrive/Traffic/data/processed/'\n",
    "filenames = os.listdir(directory)\n",
    "filenames.sort()\n",
    "for filename in filenames:\n",
    "    f = os.path.join(directory, filename)\n",
    "    df=pd.read_csv(f)\n",
    "    print(f'{filename} {df.shape[0]/(60*24*6)}')\n",
    "    df[\"date\"] = pd.to_datetime(df[\"date\"], format='%d-%b-%Y %H:%M:%S')\n",
    "    df = df.set_index(\"date\")\n",
    "    Y = df.shift(-PREDICTED_MINUTES_AHEAD, freq='min')[['link_id', 'LOS_dep']]\n",
    "    # Training set\n",
    "    X = df.loc[(df.index.day < 20)][['link_id', 'tt_arr']]\n",
    "    for offset in range(1,int((INPUT_MINUTES_BEFORE)/5)+1):\n",
    "        X = pd.merge(X, df.shift(offset*5, freq='min')[['link_id', 'tt_arr']], on=['date', 'link_id'], how='inner', suffixes=[None, f'-{int(offset*5)}'])\n",
    "    training.append( pd.merge(X, Y, on=['date', 'link_id'], how='inner') )\n",
    "    # Validation set\n",
    "    X = df.loc[~(df.index.day < 20)][['link_id', 'tt_arr']]\n",
    "    for offset in range(1,int((INPUT_MINUTES_BEFORE)/5)+1):\n",
    "        X = pd.merge(X, df.shift(offset*5, freq='min')[['link_id', 'tt_arr']], on=['date', 'link_id'], how='inner', suffixes=[None, f'-{int(offset*5)}'])\n",
    "    validation.append( pd.merge(X, Y, on=['date', 'link_id'], how='inner') )\n",
    "    total_size += df.shape[0]\n",
    "del df\n",
    "training_df = pd.concat(training)\n",
    "validation_df = pd.concat(validation)\n",
    "\n",
    "del training, validation\n",
    "print(f'Training percentage ({training_df.shape[0]} elements):\\n\\t{training_df.shape[0] / total_size * 100}%')\n",
    "print(f'Validation percentage:\\n\\t{validation_df.shape[0] / total_size * 100}%')\n",
    "\n",
    "training_df.to_csv(f'/content/drive/MyDrive/Traffic/data/intermediate/Sevilla_{PREDICTED_MINUTES_AHEAD}m_horizon_{INPUT_MINUTES_BEFORE}m_feed_training.csv')\n",
    "validation_df.to_csv(f'/content/drive/MyDrive/Traffic/data/intermediate/Sevilla_{PREDICTED_MINUTES_AHEAD}m_horizon_{INPUT_MINUTES_BEFORE}m_feed_validating.csv')"
   ]
  },
  {
   "cell_type": "markdown",
   "metadata": {
    "id": "GNBT0n1PaJDE",
    "jp-MarkdownHeadingCollapsed": true,
    "tags": []
   },
   "source": [
    "# **DOWNLOAD DATA**"
   ]
  },
  {
   "cell_type": "markdown",
   "metadata": {
    "id": "lQ3s6vVAhUqe"
   },
   "source": [
    "## Without temporal information"
   ]
  },
  {
   "cell_type": "code",
   "execution_count": null,
   "metadata": {
    "id": "VbJeopr8bNxm"
   },
   "outputs": [],
   "source": [
    "training_df = pd.read_csv(f'/content/drive/MyDrive/Traffic/data/intermediate/Sevilla_{PREDICTED_MINUTES_AHEAD}m_training.csv')\n",
    "training_df[\"date\"] = pd.to_datetime(training_df[\"date\"], format='%Y-%m-%d %H:%M:%S')\n",
    "training_df = training_df.set_index(\"date\")\n",
    "validation_df = pd.read_csv(f'/content/drive/MyDrive/Traffic/data/intermediate/Sevilla_{PREDICTED_MINUTES_AHEAD}m_validating.csv')\n",
    "validation_df[\"date\"] = pd.to_datetime(validation_df[\"date\"], format='%Y-%m-%d %H:%M:%S')\n",
    "validation_df = validation_df.set_index(\"date\")"
   ]
  },
  {
   "cell_type": "markdown",
   "metadata": {
    "id": "kVAtVDMNhafE"
   },
   "source": [
    "## With temporal information"
   ]
  },
  {
   "cell_type": "code",
   "execution_count": 3,
   "metadata": {
    "id": "uinjRHA3hcbc"
   },
   "outputs": [],
   "source": [
    "training_df = pd.read_csv(f'/content/drive/MyDrive/Traffic/data/intermediate/Sevilla_{PREDICTED_MINUTES_AHEAD}m_horizon_{INPUT_MINUTES_BEFORE}m_feed_training.csv')\n",
    "training_df[\"date\"] = pd.to_datetime(training_df[\"date\"], format='%Y-%m-%d %H:%M:%S')\n",
    "training_df = training_df.set_index(\"date\")\n",
    "validation_df = pd.read_csv(f'/content/drive/MyDrive/Traffic/data/intermediate/Sevilla_{PREDICTED_MINUTES_AHEAD}m_horizon_{INPUT_MINUTES_BEFORE}m_feed_validating.csv')\n",
    "validation_df[\"date\"] = pd.to_datetime(validation_df[\"date\"], format='%Y-%m-%d %H:%M:%S')\n",
    "validation_df = validation_df.set_index(\"date\")"
   ]
  },
  {
   "cell_type": "markdown",
   "metadata": {
    "id": "Jf0vYHbXf_9d",
    "jp-MarkdownHeadingCollapsed": true,
    "tags": []
   },
   "source": [
    "# **NAIVE BAYES**"
   ]
  },
  {
   "cell_type": "markdown",
   "metadata": {
    "id": "b0q_xwSKgXob",
    "jp-MarkdownHeadingCollapsed": true,
    "tags": []
   },
   "source": [
    "### **NO FEATURE ENGINEERING**"
   ]
  },
  {
   "cell_type": "code",
   "execution_count": 6,
   "metadata": {
    "colab": {
     "base_uri": "https://localhost:8080/"
    },
    "id": "_M_l-rXMC-QF",
    "outputId": "b6c0521f-3bd9-4469-fcfa-7c3ffacdc7a4"
   },
   "outputs": [
    {
     "name": "stdout",
     "output_type": "stream",
     "text": [
      "LINK 5\n",
      "\tLOS 1: Recall 97.06%\n",
      "\tLOS 2: Recall 16.3%\n",
      "\tLOS 3: Recall 29.74%\n",
      "\tLOS 4: Recall 12.87%\n",
      "\tLOS 5: Recall 15.41%\n",
      "\tLOS 6: Recall 52.94%\n",
      "LINK 6\n",
      "\tLOS 1: Recall 95.87%\n",
      "\tLOS 2: Recall 19.53%\n",
      "\tLOS 3: Recall 26.65%\n",
      "\tLOS 4: Recall 7.94%\n",
      "\tLOS 5: Recall 9.26%\n",
      "\tLOS 6: Recall 27.36%\n",
      "LINK 7\n",
      "\tLOS 1: Recall 97.75%\n",
      "\tLOS 2: Recall 41.23%\n",
      "\tLOS 3: Recall 30.9%\n",
      "\tLOS 4: Recall 5.34%\n",
      "\tLOS 5: Recall 6.74%\n",
      "\tLOS 6: Recall 20.29%\n",
      "LINK 8\n",
      "\tLOS 1: Recall 99.28%\n",
      "\tLOS 2: Recall 12.33%\n",
      "\tLOS 3: Recall 76.0%\n",
      "\tLOS 4: Recall 0.27%\n",
      "\tLOS 5: Recall 1.96%\n",
      "\tLOS 6: Recall 47.67%\n",
      "LINK 9\n",
      "\tLOS 1: Recall 97.18%\n",
      "\tLOS 2: Recall 59.08%\n",
      "\tLOS 3: Recall 15.8%\n",
      "\tLOS 4: Recall 23.17%\n",
      "\tLOS 5: Recall 8.2%\n",
      "\tLOS 6: Recall 3.12%\n",
      "LINK 10\n",
      "\tLOS 1: Recall 98.94%\n",
      "\tLOS 2: Recall 18.75%\n",
      "\tLOS 3: Recall 19.21%\n",
      "\tLOS 4: Recall 16.4%\n",
      "\tLOS 5: Recall 29.91%\n",
      "\tLOS 6: Recall 39.21%\n"
     ]
    }
   ],
   "source": [
    "for LINK in range(5,11):\n",
    "    print(f\"LINK {LINK}\")\n",
    "    X_train = training_df[training_df['link_id'] == LINK]['tt_arr'].values.reshape(-1, 1)\n",
    "    y_train = training_df[training_df['link_id'] == LINK]['LOS_dep'].values\n",
    "    \n",
    "    sc = preprocessing.StandardScaler()\n",
    "    X_train = sc.fit_transform(X_train)\n",
    "\n",
    "    model = GaussianNB().fit(X_train, y_train)\n",
    "    for LOS in range(1,7):\n",
    "        X_test = sc.transform( validation_df[(validation_df['link_id'] == LINK) & (validation_df['LOS_dep'] == LOS)]['tt_arr'].values.reshape(-1, 1) )\n",
    "        y_pred = model.predict(X_test)\n",
    "\n",
    "        score = metrics.recall_score([LOS]*len(y_pred), y_pred, average='micro')\n",
    "        print(f\"\\tLOS {LOS}: Recall {round(score*100, 2) }%\")"
   ]
  },
  {
   "cell_type": "markdown",
   "metadata": {
    "id": "kMCMH4xLVPOg",
    "jp-MarkdownHeadingCollapsed": true,
    "tags": []
   },
   "source": [
    "### **FEATURE ENGINEERING ADJACENT LINK INFORMATION**"
   ]
  },
  {
   "cell_type": "markdown",
   "metadata": {
    "id": "QwOislVpWYCx"
   },
   "source": [
    "*Features creation*\n",
    "\n",
    "For each link, the tt_arrival of the other links are added as features. Therefore we will be using 6 features in total."
   ]
  },
  {
   "cell_type": "code",
   "execution_count": 7,
   "metadata": {
    "colab": {
     "base_uri": "https://localhost:8080/"
    },
    "id": "xUUuA-vpinjr",
    "outputId": "614d0c27-626e-43de-cfef-2483ed71514d"
   },
   "outputs": [
    {
     "name": "stdout",
     "output_type": "stream",
     "text": [
      "LINK 5\n",
      "\tLOS 1: Recall 94.48%\n",
      "\tLOS 2: Recall 37.96%\n",
      "\tLOS 3: Recall 31.61%\n",
      "\tLOS 4: Recall 16.19%\n",
      "\tLOS 5: Recall 16.67%\n",
      "\tLOS 6: Recall 53.88%\n",
      "LINK 6\n",
      "\tLOS 1: Recall 92.24%\n",
      "\tLOS 2: Recall 27.5%\n",
      "\tLOS 3: Recall 44.02%\n",
      "\tLOS 4: Recall 11.4%\n",
      "\tLOS 5: Recall 21.32%\n",
      "\tLOS 6: Recall 28.53%\n",
      "LINK 7\n",
      "\tLOS 1: Recall 91.59%\n",
      "\tLOS 2: Recall 50.36%\n",
      "\tLOS 3: Recall 37.48%\n",
      "\tLOS 4: Recall 6.56%\n",
      "\tLOS 5: Recall 9.73%\n",
      "\tLOS 6: Recall 35.34%\n",
      "LINK 8\n",
      "\tLOS 1: Recall 94.09%\n",
      "\tLOS 2: Recall 33.53%\n",
      "\tLOS 3: Recall 72.62%\n",
      "\tLOS 4: Recall 15.21%\n",
      "\tLOS 5: Recall 8.71%\n",
      "\tLOS 6: Recall 53.87%\n",
      "LINK 9\n",
      "\tLOS 1: Recall 90.85%\n",
      "\tLOS 2: Recall 56.7%\n",
      "\tLOS 3: Recall 24.21%\n",
      "\tLOS 4: Recall 23.91%\n",
      "\tLOS 5: Recall 15.77%\n",
      "\tLOS 6: Recall 17.0%\n",
      "LINK 10\n",
      "\tLOS 1: Recall 92.08%\n",
      "\tLOS 2: Recall 29.96%\n",
      "\tLOS 3: Recall 19.14%\n",
      "\tLOS 4: Recall 11.88%\n",
      "\tLOS 5: Recall 26.31%\n",
      "\tLOS 6: Recall 41.83%\n"
     ]
    }
   ],
   "source": [
    "for LINK in range(5,11):\n",
    "    print(f\"LINK {LINK}\")\n",
    "    other_links = [5,6,7,8,9,10]; other_links.remove(LINK)\n",
    "    training_df_link = training_df[training_df['link_id'] == LINK].copy()\n",
    "\n",
    "    for other_link in other_links:\n",
    "        training_df_link = pd.merge(training_df_link, training_df[training_df['link_id'] == other_link]['tt_arr'], on=['date'], how='inner', suffixes=[None, f'_{other_link}'])\n",
    "    \n",
    "    X_train = training_df_link.filter(regex=(\"tt_ar[^-]+$\")).values\n",
    "    y_train = training_df_link['LOS_dep'].values\n",
    "    \n",
    "    sc = preprocessing.StandardScaler()\n",
    "    X_train = sc.fit_transform(X_train)\n",
    "\n",
    "    model = GaussianNB().fit(X_train, y_train)\n",
    "    for LOS in range(1,7):\n",
    "        validation_df_link = validation_df[(validation_df['link_id'] == LINK) & (validation_df['LOS_dep'] == LOS)].copy()\n",
    "        for other_link in other_links:\n",
    "            validation_df_link = pd.merge(validation_df_link, validation_df[validation_df['link_id'] == other_link]['tt_arr'], on=['date'], how='inner', suffixes=[None, f'_{other_link}'])\n",
    "        X_test = sc.transform( validation_df_link.filter(regex=(\"tt_ar[^-]+$\")).values )\n",
    "        y_pred = model.predict(X_test)\n",
    "\n",
    "        score = metrics.recall_score([LOS]*len(y_pred), y_pred, average='micro')\n",
    "        print(f\"\\tLOS {LOS}: Recall {round(score*100, 2) }%\")"
   ]
  },
  {
   "cell_type": "markdown",
   "metadata": {
    "id": "q5rt2wXpNypB",
    "jp-MarkdownHeadingCollapsed": true,
    "tags": []
   },
   "source": [
    "### **FEATURE ENGINEERING ADJACENT LINK INFORMATION + TEMPORAL INFORMATION (UP TO PREVIOUS 45MIN)**"
   ]
  },
  {
   "cell_type": "markdown",
   "metadata": {
    "id": "ZZRaFA1QN_X0"
   },
   "source": [
    "*Features creation*\n",
    "\n",
    "For each link, the tt_arrival of the other links, covering the previous 50min from prediction time, are added as features. Therefore we will be using 60 features in total as maximum."
   ]
  },
  {
   "cell_type": "code",
   "execution_count": 8,
   "metadata": {
    "colab": {
     "base_uri": "https://localhost:8080/"
    },
    "id": "F9LI4WsIllAB",
    "outputId": "c0b6c309-60a0-4ceb-f9fa-e5a8096d3b40"
   },
   "outputs": [
    {
     "name": "stdout",
     "output_type": "stream",
     "text": [
      "USING PREVIOUS 45m INFORMATION\n",
      "LINK 5\n",
      "\tLOS 1: Recall 91.78%\n",
      "\tLOS 2: Recall 34.62%\n",
      "\tLOS 3: Recall 25.98%\n",
      "\tLOS 4: Recall 15.91%\n",
      "\tLOS 5: Recall 16.6%\n",
      "\tLOS 6: Recall 60.33%\n",
      "LINK 6\n",
      "\tLOS 1: Recall 89.17%\n",
      "\tLOS 2: Recall 27.77%\n",
      "\tLOS 3: Recall 36.66%\n",
      "\tLOS 4: Recall 12.58%\n",
      "\tLOS 5: Recall 20.0%\n",
      "\tLOS 6: Recall 36.52%\n",
      "LINK 7\n",
      "\tLOS 1: Recall 88.39%\n",
      "\tLOS 2: Recall 52.61%\n",
      "\tLOS 3: Recall 26.44%\n",
      "\tLOS 4: Recall 13.76%\n",
      "\tLOS 5: Recall 10.47%\n",
      "\tLOS 6: Recall 28.4%\n",
      "LINK 8\n",
      "\tLOS 1: Recall 89.54%\n",
      "\tLOS 2: Recall 20.21%\n",
      "\tLOS 3: Recall 66.89%\n",
      "\tLOS 4: Recall 30.25%\n",
      "\tLOS 5: Recall 12.96%\n",
      "\tLOS 6: Recall 42.57%\n",
      "LINK 9\n",
      "\tLOS 1: Recall 87.18%\n",
      "\tLOS 2: Recall 41.58%\n",
      "\tLOS 3: Recall 9.6%\n",
      "\tLOS 4: Recall 2.97%\n",
      "\tLOS 5: Recall 9.57%\n",
      "\tLOS 6: Recall 45.61%\n",
      "LINK 10\n",
      "\tLOS 1: Recall 87.55%\n",
      "\tLOS 2: Recall 28.5%\n",
      "\tLOS 3: Recall 11.67%\n",
      "\tLOS 4: Recall 12.65%\n",
      "\tLOS 5: Recall 12.18%\n",
      "\tLOS 6: Recall 42.65%\n"
     ]
    }
   ],
   "source": [
    "print(f'USING PREVIOUS {INPUT_MINUTES_BEFORE}m INFORMATION')\n",
    "for LINK in range(5,11):\n",
    "    print(f\"LINK {LINK}\")\n",
    "    other_links = [5,6,7,8,9,10]; other_links.remove(LINK)\n",
    "    training_df_link = training_df[training_df['link_id'] == LINK].copy()\n",
    "\n",
    "    for other_link in other_links:\n",
    "        training_df_link = pd.merge(training_df_link, training_df[training_df['link_id'] == other_link].filter(regex=(\"tt_arr.*\")), on=['date'], how='inner', suffixes=[None, f'_{other_link}'])\n",
    "    \n",
    "    X_train = training_df_link.filter(regex=(\"tt_arr.*\")).values\n",
    "    y_train = training_df_link['LOS_dep'].values\n",
    "    \n",
    "    sc = preprocessing.StandardScaler()\n",
    "    X_train = sc.fit_transform(X_train)\n",
    "\n",
    "    model = GaussianNB().fit(X_train, y_train)\n",
    "    for LOS in range(1,7):\n",
    "        validation_df_link = validation_df[(validation_df['link_id'] == LINK) & (validation_df['LOS_dep'] == LOS)].copy()\n",
    "        for other_link in other_links:\n",
    "            validation_df_link = pd.merge(validation_df_link, validation_df[validation_df['link_id'] == other_link].filter(regex=(\"tt_arr.*\")), on=['date'], how='inner', suffixes=[None, f'_{other_link}'])\n",
    "        X_test = sc.transform( validation_df_link.filter(regex=(\"tt_arr.*\")).values )\n",
    "        y_pred = model.predict(X_test)\n",
    "\n",
    "        score = metrics.recall_score([LOS]*len(y_pred), y_pred, average='micro')\n",
    "        print(f\"\\tLOS {LOS}: Recall {round(score*100, 2) }%\")"
   ]
  },
  {
   "cell_type": "markdown",
   "metadata": {
    "id": "RMogxy-BNDjn",
    "jp-MarkdownHeadingCollapsed": true,
    "tags": []
   },
   "source": [
    "# **AdaBoost**"
   ]
  },
  {
   "cell_type": "markdown",
   "metadata": {
    "id": "YkB202STmN-4",
    "jp-MarkdownHeadingCollapsed": true,
    "tags": []
   },
   "source": [
    "### *Algorithms*"
   ]
  },
  {
   "cell_type": "markdown",
   "metadata": {
    "id": "x5kQKXvwbMtK"
   },
   "source": [
    "**Algorithm implementation SAMME**"
   ]
  },
  {
   "cell_type": "code",
   "execution_count": 9,
   "metadata": {
    "id": "jMBdunUFYwAB"
   },
   "outputs": [],
   "source": [
    "def labelToIndex(cl,clf):\n",
    "    return clf.labelDict[cl]\n",
    "\n",
    "def indexToLabel(i,clf):\n",
    "    return clf.classes[i]\n",
    "\n",
    "class AdaBoostClassifier_:\n",
    "    \n",
    "    def __init__(self,base_estimator=None,n_estimators=50,learning_rate=1.0):\n",
    "        print(\"SAMME Implementation of AdaBoost\")\n",
    "        self.n_estimators = n_estimators\n",
    "        self.learning_rate = learning_rate\n",
    "        self.models = [None]*n_estimators\n",
    "        if base_estimator == None:\n",
    "            base_estimator = DecisionTreeClassifier(max_depth=1)\n",
    "        self.base_estimator = base_estimator\n",
    "        self.estimator_errors_ = []\n",
    "        self.observation_weights_ = {}\n",
    "        \n",
    "    def fit(self, df: pd.DataFrame, X_columns: str, y_column: str):\n",
    "        \"\"\"\n",
    "        param df: Training dataframe with shape (n_samples, )\n",
    "        param X_columns: pattern matching DataFrame column names that contain the features\n",
    "        param y_column: name of DataFrame column name with the labels\n",
    "        \"\"\"\n",
    "        \n",
    "        # Initialize observation weights as 1/N where N is total `n_samples`\n",
    "        N = df.shape[0]\n",
    "        w = {epoch: 1/N for epoch in df.index}\n",
    "        \n",
    "        # Class labels mapping to indices\n",
    "        self.createLabelDict(np.unique(df[y_column]))\n",
    "        k = len(self.classes)\n",
    "\n",
    "        # Training data initalization\n",
    "        X_ = df.filter(regex=(X_columns)).values\n",
    "        y_ = df[y_column].values\n",
    "        w_indices_ = np.array(list(w.keys()))\n",
    "        \n",
    "        # M iterations (#WeakLearners)\n",
    "        for m in range(self.n_estimators):\n",
    "            w_ = np.array(list(w.values()))\n",
    "\n",
    "        # 1) WeakLearner training\n",
    "            Gm = base.clone(self.base_estimator).\\\n",
    "                            fit(X_,y_,sample_weight=w_).predict\n",
    "        \n",
    "        # 2) Error-rate computation\n",
    "            incorrect = Gm(X_) != y_\n",
    "            errM = np.average(incorrect,weights=w_,axis=0)\n",
    "            self.estimator_errors_.append(np.average(incorrect,axis=0))\n",
    "        \n",
    "        # 3) WeakLearner weight for ensemble computation [errM < (k-1)/k]\n",
    "            BetaM = np.log((1-errM)/errM)+np.log(k-1)\n",
    "            self.models[m] = (BetaM,Gm)\n",
    "\n",
    "        # 4) Observation weights update for next iteration with weights normalization\n",
    "            w_ *= np.exp(self.learning_rate* BetaM*(incorrect*(w_ > 0)))\n",
    "            norm_ = np.sum(w_)\n",
    "            for i, j in enumerate(w_indices_):\n",
    "                w[j] = w_[i]/norm_\n",
    "        \n",
    "        self.observation_weights_ = w\n",
    "        return self\n",
    "            \n",
    "    def createLabelDict(self,classes):\n",
    "        self.labelDict = {}\n",
    "        self.classes = classes\n",
    "        for i,cl in enumerate(classes):\n",
    "            self.labelDict[cl] = i\n",
    "\n",
    "    def predict(self,X):\n",
    "        k = len(self.classes)\n",
    "        Bms_ = [Bm for Bm,_ in self.models]\n",
    "        prob_matrix = np.full((X.shape[0],k), -sum(Bms_)/(k-1))\n",
    "        \n",
    "        # Obtain the predicted index array with shape (#obs,#weak_learners)\n",
    "        iTL = np.vectorize(labelToIndex)\n",
    "        y_pred = np.stack([iTL(Gm(X),self) for _,Gm in self.models], axis=-1)\n",
    "\n",
    "        # Weight the indices count using Beta (Bm) associated to each weak_learner\n",
    "        prob_matrix += np.apply_along_axis(lambda x: np.bincount(x, weights=Bms_, minlength=k), axis=1, arr=y_pred)*k/(k-1)\n",
    "        \n",
    "        iTL = np.vectorize(indexToLabel)\n",
    "        return iTL(np.argmax(prob_matrix,axis=1),self)"
   ]
  },
  {
   "cell_type": "markdown",
   "metadata": {
    "id": "nlogJYdJbOZZ"
   },
   "source": [
    "**Algorithm implementation SAMME.R**"
   ]
  },
  {
   "cell_type": "code",
   "execution_count": 17,
   "metadata": {
    "id": "3XzVduvjbSPG"
   },
   "outputs": [],
   "source": [
    "def labelToIndex(cl,clf):\n",
    "    return clf.labelDict[cl]\n",
    "\n",
    "def indexToLabel(i,clf):\n",
    "    return clf.classes[i]\n",
    "\n",
    "class AdaBoostClassifier_:\n",
    "    \n",
    "    def __init__(self,base_estimator=None,n_estimators=50,learning_rate=1.0):\n",
    "        print(\"SAMME.R Implementation of AdaBoost\")\n",
    "        self.n_estimators = n_estimators\n",
    "        self.learning_rate = learning_rate\n",
    "        self.models = []\n",
    "        if base_estimator == None:\n",
    "            base_estimator = DecisionTreeClassifier(max_depth=1)\n",
    "        self.base_estimator = base_estimator\n",
    "        self.estimator_errors_ = []\n",
    "        self.observation_weights_ = {}\n",
    "        \n",
    "    def fit(self, df: pd.DataFrame, X_columns: str, y_column: str):\n",
    "        \"\"\"\n",
    "        param df: Training dataframe with shape (n_samples, )\n",
    "        param X_columns: pattern matching DataFrame column names that contain the features\n",
    "        param y_column: name of DataFrame column name with the labels\n",
    "        \"\"\"\n",
    "        \n",
    "        # Initialize observation weights as 1/N where N is total `n_samples`\n",
    "        N = df.shape[0]\n",
    "        w = {epoch: 1/N for epoch in df.index}\n",
    "        \n",
    "        # Class labels mapping to indices\n",
    "        self.createLabelDict(np.unique(df[y_column]))\n",
    "        k = len(self.classes)\n",
    "\n",
    "        # Training data initalization\n",
    "        X_ = df.filter(regex=(X_columns)).values\n",
    "        y_ = df[y_column].values\n",
    "        w_indices_ = np.array(list(w.keys()))\n",
    "        \n",
    "        # M iterations (#WeakLearners)\n",
    "        for m in range(self.n_estimators):\n",
    "            w_ = np.array(list(w.values()))\n",
    "\n",
    "        # 1) WeakLearner training\n",
    "            Gm = base.clone(self.base_estimator).\\\n",
    "                            fit(X_,y_,sample_weight=w_).predict_proba\n",
    "            self.models.append(Gm)\n",
    "        \n",
    "        # 2) Error-rate computation\n",
    "            sum_model_hypothesis = np.sum(np.stack([self._prob2classWeight_(model(X_)) for model in self.models], axis=-1), axis=-1)\n",
    "            iTL = np.vectorize(indexToLabel)            \n",
    "            incorrect = iTL(np.argmax(sum_model_hypothesis,axis=1),self) != y_\n",
    "            self.estimator_errors_.append(np.average(incorrect,axis=0))\n",
    "\n",
    "        # 3) Observation weights update for next iteration with weights normalization\n",
    "            iTL = np.vectorize(labelToIndex)\n",
    "            tmp_ = iTL(y_,self)\n",
    "            w_ *= np.exp(-self.learning_rate* (k-1)/k * np.log(Gm(X_)[np.arange(len(tmp_)),tmp_]))\n",
    "            norm_ = sum(w_)\n",
    "            for i, j in enumerate(w_indices_):\n",
    "                w[j] = w_[i]/norm_\n",
    "        \n",
    "        self.observation_weights_ = w\n",
    "        return self\n",
    "            \n",
    "    def createLabelDict(self,classes):\n",
    "        self.labelDict = {}\n",
    "        self.classes = classes\n",
    "        for i,cl in enumerate(classes):\n",
    "            self.labelDict[cl] = i\n",
    "\n",
    "    def _prob2classWeight_(self, probabilities):\n",
    "        \"\"\"\n",
    "        Following the SAMME.R algorithm, returns the hypothesis probabilities for each class\n",
    "        param probabilities: The class probabiilties output by the fitted model (n_samples, n_classes)\n",
    "        \"\"\"\n",
    "        k = len(self.classes)\n",
    "        tmp_ = np.log(probabilities+1e-8)\n",
    "        h_k = np.log(probabilities+1e-8)\n",
    "        for i in range(k):\n",
    "            h_k[:,i] -= np.sum(np.delete(tmp_,i,axis=1), axis=1) / k\n",
    "        h_k *= (k-1)\n",
    "        return h_k\n",
    "    \n",
    "    def predict(self,X):\n",
    "        sum_model_hypothesis = np.sum(np.stack([self._prob2classWeight_(model(X)) for model in self.models], axis=-1), axis=-1)\n",
    "        iTL = np.vectorize(indexToLabel)            \n",
    "        return iTL(np.argmax(sum_model_hypothesis,axis=1),self)"
   ]
  },
  {
   "cell_type": "markdown",
   "metadata": {
    "id": "rGggV6MdOQ_O"
   },
   "source": [
    "**Algorithm implementation M2**"
   ]
  },
  {
   "cell_type": "code",
   "execution_count": 24,
   "metadata": {
    "id": "sLLHlzg7OOhd"
   },
   "outputs": [],
   "source": [
    "def labelToIndex(cl,clf):\n",
    "    return clf.labelDict[cl]\n",
    "\n",
    "def indexToLabel(i,clf):\n",
    "    return clf.classes[i]\n",
    "\n",
    "class AdaBoostClassifier_:\n",
    "    \n",
    "    def __init__(self,base_estimator=None,n_estimators=50,learning_rate=1.0):\n",
    "        print(\"M2 Implementation of AdaBoost\")\n",
    "        self.n_estimators = n_estimators\n",
    "        self.learning_rate = learning_rate\n",
    "        self.models = []\n",
    "        if base_estimator == None:\n",
    "            base_estimator = DecisionTreeClassifier(max_depth=1)\n",
    "        self.base_estimator = base_estimator\n",
    "        self.estimator_errors_ = []        \n",
    "        self.observation_weights_ = {}\n",
    "\n",
    "    def fit(self, df: pd.DataFrame, X_columns: str, y_column: str):\n",
    "        \"\"\"\n",
    "        param df: Training dataframe with shape (n_samples, )\n",
    "        param X_columns: pattern matching DataFrame column names that contain the features\n",
    "        param y_column: name of DataFrame column name with the labels\n",
    "        \"\"\"        \n",
    "        \n",
    "        # Class labels mapping to indices\n",
    "        self.createLabelDict(np.unique(df[y_column]))\n",
    "        k = len(self.classes)\n",
    "\n",
    "        # Initialize observation weights as 1/(N*(k-1)) where N is total `n_samples` and k is the numebr of classes\n",
    "        N = df.shape[0]\n",
    "        B = N*(k-1)\n",
    "        D = {epoch: [1/B]*(k-1) for epoch in df.index}\n",
    "\n",
    "        # Training data initalization\n",
    "        X_ = df.filter(regex=(X_columns)).values\n",
    "        y_ = df[y_column].values\n",
    "        \n",
    "        # M iterations (#WeakLearners)\n",
    "        for m in range(self.n_estimators):\n",
    "            D_ = np.sum(list(D.values()), axis=-1)\n",
    "            iTL = np.vectorize(labelToIndex)\n",
    "            y_indices_ = iTL(y_,self)\n",
    "\n",
    "        # 1) WeakLearner training\n",
    "            Gm = base.clone(self.base_estimator).\\\n",
    "                            fit(X_,y_,sample_weight=D_).predict_proba\n",
    "            self.models.append(Gm)\n",
    "        \n",
    "        # 2) Error-rate computation\n",
    "            predictions_proba = Gm(X_)\n",
    "            sum_pseudolosses = 0\n",
    "            for i, epoch in enumerate(D):\n",
    "                k_index = 0\n",
    "                for cl in range(k):\n",
    "                    if cl != y_indices_[i]:\n",
    "                        sum_pseudolosses += D[epoch][k_index]*(1-predictions_proba[i,y_indices_[i]]+predictions_proba[i,cl])\n",
    "                        k_index += 1\n",
    "\n",
    "            error = 0.5 * sum_pseudolosses\n",
    "            self.estimator_errors_.append(error)\n",
    "        \n",
    "        # 3) WeakLearner weight for ensemble computation\n",
    "            BetaM = error/(1- error +1e-8)\n",
    "            self.models[m] = (BetaM,Gm)\n",
    "\n",
    "        # 4) Observation weights update for next iteration with weights normalization\n",
    "            norm_ = 0\n",
    "            for i, epoch in enumerate(D.keys()):\n",
    "                k_index = 0\n",
    "                for cl in range(k):\n",
    "                    if cl != y_indices_[i]:\n",
    "                        w_ = 0.5*(1+predictions_proba[i,y_indices_[i]]-predictions_proba[i,cl])\n",
    "                        D[epoch][k_index] *= BetaM**(self.learning_rate*w_)\n",
    "                        norm_ += D[epoch][k_index]\n",
    "                        k_index += 1\n",
    "            for epoch in D.keys():\n",
    "                for k_index in range(k-1):\n",
    "                    D[epoch][k_index] /= norm_\n",
    "        \n",
    "        self.observation_weights_ = D\n",
    "        \n",
    "        return self\n",
    "            \n",
    "    def createLabelDict(self,classes):\n",
    "        self.labelDict = {}\n",
    "        self.classes = classes\n",
    "        for i,cl in enumerate(classes):\n",
    "            self.labelDict[cl] = i\n",
    "    \n",
    "    def predict(self,X):\n",
    "        sum_model_hypothesis = np.sum(np.stack([-np.log(Bm)*Gm(X) for Bm,Gm in self.models], axis=-1), axis=-1)\n",
    "        iTL = np.vectorize(indexToLabel)            \n",
    "        return iTL(np.argmax(sum_model_hypothesis,axis=1),self)"
   ]
  },
  {
   "cell_type": "markdown",
   "metadata": {
    "id": "DcJh_1IMYm8j",
    "jp-MarkdownHeadingCollapsed": true,
    "tags": []
   },
   "source": [
    "### **NO FEATURE ENGINEERING SAMME**"
   ]
  },
  {
   "cell_type": "code",
   "execution_count": 10,
   "metadata": {
    "colab": {
     "base_uri": "https://localhost:8080/"
    },
    "id": "04ipnQIXbtyo",
    "outputId": "14b6aaf5-9b4e-4236-8e59-38a258d8b47a"
   },
   "outputs": [
    {
     "name": "stdout",
     "output_type": "stream",
     "text": [
      "LINK 5\n",
      "SAMME Implementation of AdaBoost\n",
      "\tLOS 1: Recall 96.08%\n",
      "\tLOS 2: Recall 38.52%\n",
      "\tLOS 3: Recall 43.49%\n",
      "\tLOS 4: Recall 9.01%\n",
      "\tLOS 5: Recall 35.61%\n",
      "\tLOS 6: Recall 60.61%\n",
      "LINK 6\n",
      "SAMME Implementation of AdaBoost\n",
      "\tLOS 1: Recall 98.82%\n",
      "\tLOS 2: Recall 0.0%\n",
      "\tLOS 3: Recall 65.81%\n",
      "\tLOS 4: Recall 0.0%\n",
      "\tLOS 5: Recall 13.89%\n",
      "\tLOS 6: Recall 40.2%\n",
      "LINK 7\n",
      "SAMME Implementation of AdaBoost\n",
      "\tLOS 1: Recall 98.11%\n",
      "\tLOS 2: Recall 27.38%\n",
      "\tLOS 3: Recall 58.02%\n",
      "\tLOS 4: Recall 0.0%\n",
      "\tLOS 5: Recall 0.0%\n",
      "\tLOS 6: Recall 0.0%\n",
      "LINK 8\n",
      "SAMME Implementation of AdaBoost\n",
      "\tLOS 1: Recall 99.6%\n",
      "\tLOS 2: Recall 5.69%\n",
      "\tLOS 3: Recall 66.37%\n",
      "\tLOS 4: Recall 30.5%\n",
      "\tLOS 5: Recall 12.79%\n",
      "\tLOS 6: Recall 36.38%\n",
      "LINK 9\n",
      "SAMME Implementation of AdaBoost\n",
      "\tLOS 1: Recall 96.82%\n",
      "\tLOS 2: Recall 59.31%\n",
      "\tLOS 3: Recall 35.32%\n",
      "\tLOS 4: Recall 8.46%\n",
      "\tLOS 5: Recall 27.66%\n",
      "\tLOS 6: Recall 0.0%\n",
      "LINK 10\n",
      "SAMME Implementation of AdaBoost\n",
      "\tLOS 1: Recall 99.28%\n",
      "\tLOS 2: Recall 4.1%\n",
      "\tLOS 3: Recall 24.17%\n",
      "\tLOS 4: Recall 25.04%\n",
      "\tLOS 5: Recall 33.56%\n",
      "\tLOS 6: Recall 45.66%\n"
     ]
    }
   ],
   "source": [
    "for LINK in range(5,11):\n",
    "    print(f\"LINK {LINK}\")\n",
    "    filename = f'{ROOT}/models/AdaBoost_{PREDICTED_MINUTES_AHEAD}m_SAMME_nofeat_link{LINK}.joblib'\n",
    "\n",
    "    # Max Depth = 3 because we have 6 possible classes (2^3=8)\n",
    "    model = AdaBoostClassifier_(base_estimator=DecisionTreeClassifier(max_depth=3), n_estimators=60, learning_rate=0.3).fit(training_df[training_df['link_id'] == LINK], 'tt_arr$', 'LOS_dep')\n",
    "    joblib.dump(model, filename)\n",
    "\n",
    "    for LOS in range(1,7):\n",
    "        X_test = validation_df[(validation_df['link_id'] == LINK) & (validation_df['LOS_dep'] == LOS)]['tt_arr'].values.reshape(-1, 1)\n",
    "        y_pred = model.predict(X_test)\n",
    "\n",
    "        score = metrics.recall_score([LOS]*len(y_pred), y_pred, average='micro')\n",
    "        print(f\"\\tLOS {LOS}: Recall {round(score*100, 2) }%\")"
   ]
  },
  {
   "cell_type": "code",
   "execution_count": 11,
   "metadata": {
    "colab": {
     "base_uri": "https://localhost:8080/",
     "height": 472
    },
    "id": "f9ZR9V4AeVmv",
    "outputId": "f7365753-d602-4f0b-8e9f-8fce020eb4e3"
   },
   "outputs": [
    {
     "data": {
      "image/png": "[encoded data removed]",
      "text/plain": [
       "<Figure size 432x288 with 1 Axes>"
      ]
     },
     "metadata": {
      "needs_background": "light"
     },
     "output_type": "display_data"
    }
   ],
   "source": [
    "fig, ax = plt.subplots()\n",
    "ax.plot(np.arange(len(model.observation_weights_)), model.observation_weights_.values())\n",
    "\n",
    "ax.set(xlabel='Observation', ylabel='weight',\n",
    "       title='Weight per observation')\n",
    "ax.grid()\n",
    "plt.show()"
   ]
  },
  {
   "cell_type": "code",
   "execution_count": 12,
   "metadata": {
    "colab": {
     "base_uri": "https://localhost:8080/",
     "height": 472
    },
    "id": "DVs9B0zjfDbt",
    "outputId": "b5d731aa-2b41-46e0-862e-aeae364accd8"
   },
   "outputs": [
    {
     "data": {
      "image/png": "[encoded data removed]",
      "text/plain": [
       "<Figure size 432x288 with 1 Axes>"
      ]
     },
     "metadata": {
      "needs_background": "light"
     },
     "output_type": "display_data"
    }
   ],
   "source": [
    "fig, ax = plt.subplots()\n",
    "ax.plot(np.arange(model.n_estimators), model.estimator_errors_)\n",
    "\n",
    "ax.set(xlabel='#Estimator', ylabel='Estimation error',\n",
    "       title='Evolution of errors training estimators')\n",
    "ax.grid()\n",
    "plt.show()"
   ]
  },
  {
   "cell_type": "markdown",
   "metadata": {
    "id": "xgEAoIcAsohG"
   },
   "source": [
    "*Validate with implementation from sklearn*"
   ]
  },
  {
   "cell_type": "code",
   "execution_count": 13,
   "metadata": {
    "colab": {
     "base_uri": "https://localhost:8080/"
    },
    "id": "yJYav2UfwG2t",
    "outputId": "79699cc8-cad1-48bd-9303-3a9e35deefc7"
   },
   "outputs": [
    {
     "name": "stdout",
     "output_type": "stream",
     "text": [
      "LINK 5\n",
      "\tLOS 1: Recall 95.02%\n",
      "\tLOS 2: Recall 34.86%\n",
      "\tLOS 3: Recall 51.75%\n",
      "\tLOS 4: Recall 18.1%\n",
      "\tLOS 5: Recall 0.0%\n",
      "\tLOS 6: Recall 61.64%\n",
      "LINK 6\n",
      "\tLOS 1: Recall 98.69%\n",
      "\tLOS 2: Recall 0.34%\n",
      "\tLOS 3: Recall 70.59%\n",
      "\tLOS 4: Recall 17.99%\n",
      "\tLOS 5: Recall 0.0%\n",
      "\tLOS 6: Recall 0.0%\n",
      "LINK 7\n",
      "\tLOS 1: Recall 98.42%\n",
      "\tLOS 2: Recall 0.0%\n",
      "\tLOS 3: Recall 63.13%\n",
      "\tLOS 4: Recall 0.0%\n",
      "\tLOS 5: Recall 0.0%\n",
      "\tLOS 6: Recall 0.0%\n",
      "LINK 8\n",
      "\tLOS 1: Recall 99.31%\n",
      "\tLOS 2: Recall 0.0%\n",
      "\tLOS 3: Recall 81.69%\n",
      "\tLOS 4: Recall 0.0%\n",
      "\tLOS 5: Recall 0.0%\n",
      "\tLOS 6: Recall 36.38%\n",
      "LINK 9\n",
      "\tLOS 1: Recall 95.64%\n",
      "\tLOS 2: Recall 64.34%\n",
      "\tLOS 3: Recall 47.04%\n",
      "\tLOS 4: Recall 0.0%\n",
      "\tLOS 5: Recall 0.0%\n",
      "\tLOS 6: Recall 0.0%\n",
      "LINK 10\n",
      "\tLOS 1: Recall 99.26%\n",
      "\tLOS 2: Recall 5.19%\n",
      "\tLOS 3: Recall 30.01%\n",
      "\tLOS 4: Recall 0.0%\n",
      "\tLOS 5: Recall 63.61%\n",
      "\tLOS 6: Recall 0.0%\n"
     ]
    }
   ],
   "source": [
    "for LINK in range(5,11):\n",
    "    print(f\"LINK {LINK}\")\n",
    "    X = training_df[training_df['link_id'] == LINK]['tt_arr'].values.reshape(-1, 1)\n",
    "    y = training_df[training_df['link_id'] == LINK]['LOS_dep'].values\n",
    "\n",
    "    model = AdaBoostClassifier(n_estimators=60, learning_rate=0.3, algorithm=\"SAMME\").fit(X, y)\n",
    "\n",
    "    for LOS in range(1,7):\n",
    "        X_test = validation_df[(validation_df['link_id'] == LINK) & (validation_df['LOS_dep'] == LOS)]['tt_arr'].values.reshape(-1, 1)\n",
    "        y_pred = model.predict(X_test)\n",
    "\n",
    "        score = metrics.recall_score([LOS]*len(y_pred), y_pred, average='micro')\n",
    "        print(f\"\\tLOS {LOS}: Recall {round(score*100, 2) }%\")"
   ]
  },
  {
   "cell_type": "code",
   "execution_count": 14,
   "metadata": {
    "colab": {
     "base_uri": "https://localhost:8080/",
     "height": 472
    },
    "id": "5XOZJXAyyViT",
    "outputId": "3e272d33-77e8-4631-8c72-543133988f08"
   },
   "outputs": [
    {
     "data": {
      "image/png": "[encoded data removed]",
      "text/plain": [
       "<Figure size 432x288 with 1 Axes>"
      ]
     },
     "metadata": {
      "needs_background": "light"
     },
     "output_type": "display_data"
    }
   ],
   "source": [
    "fig, ax = plt.subplots()\n",
    "ax.plot(np.arange(model.n_estimators), model.estimator_errors_)\n",
    "\n",
    "ax.set(xlabel='#Estimator', ylabel='Estimation error',\n",
    "       title='Evolution of errors training estimators')\n",
    "ax.grid()\n",
    "plt.show()"
   ]
  },
  {
   "cell_type": "markdown",
   "metadata": {
    "id": "3pDHddWEbkTV",
    "jp-MarkdownHeadingCollapsed": true,
    "tags": []
   },
   "source": [
    "### **NO FEATURE ENGINEERING SAMME.R**"
   ]
  },
  {
   "cell_type": "code",
   "execution_count": 18,
   "metadata": {
    "colab": {
     "base_uri": "https://localhost:8080/"
    },
    "id": "phEAAjhRbnex",
    "outputId": "c0e09892-69a2-48d4-a213-4edbb66864af"
   },
   "outputs": [
    {
     "name": "stdout",
     "output_type": "stream",
     "text": [
      "LINK 5\n",
      "SAMME.R Implementation of AdaBoost\n",
      "\tLOS 1: Recall 95.3%\n",
      "\tLOS 2: Recall 40.44%\n",
      "\tLOS 3: Recall 52.18%\n",
      "\tLOS 4: Recall 14.73%\n",
      "\tLOS 5: Recall 18.28%\n",
      "\tLOS 6: Recall 53.81%\n",
      "LINK 6\n",
      "SAMME.R Implementation of AdaBoost\n",
      "\tLOS 1: Recall 98.75%\n",
      "\tLOS 2: Recall 0.0%\n",
      "\tLOS 3: Recall 72.69%\n",
      "\tLOS 4: Recall 2.39%\n",
      "\tLOS 5: Recall 15.1%\n",
      "\tLOS 6: Recall 38.68%\n",
      "LINK 7\n",
      "SAMME.R Implementation of AdaBoost\n",
      "\tLOS 1: Recall 97.68%\n",
      "\tLOS 2: Recall 31.5%\n",
      "\tLOS 3: Recall 58.31%\n",
      "\tLOS 4: Recall 0.0%\n",
      "\tLOS 5: Recall 0.0%\n",
      "\tLOS 6: Recall 0.0%\n",
      "LINK 8\n",
      "SAMME.R Implementation of AdaBoost\n",
      "\tLOS 1: Recall 99.68%\n",
      "\tLOS 2: Recall 0.0%\n",
      "\tLOS 3: Recall 69.66%\n",
      "\tLOS 4: Recall 19.38%\n",
      "\tLOS 5: Recall 3.5%\n",
      "\tLOS 6: Recall 42.93%\n",
      "LINK 9\n",
      "SAMME.R Implementation of AdaBoost\n",
      "\tLOS 1: Recall 96.83%\n",
      "\tLOS 2: Recall 60.37%\n",
      "\tLOS 3: Recall 31.9%\n",
      "\tLOS 4: Recall 5.58%\n",
      "\tLOS 5: Recall 0.95%\n",
      "\tLOS 6: Recall 0.0%\n",
      "LINK 10\n",
      "SAMME.R Implementation of AdaBoost\n",
      "\tLOS 1: Recall 99.3%\n",
      "\tLOS 2: Recall 4.66%\n",
      "\tLOS 3: Recall 26.27%\n",
      "\tLOS 4: Recall 23.99%\n",
      "\tLOS 5: Recall 42.57%\n",
      "\tLOS 6: Recall 23.45%\n"
     ]
    }
   ],
   "source": [
    "for LINK in range(5,11):\n",
    "    print(f\"LINK {LINK}\")\n",
    "    filename = f'{ROOT}/models/AdaBoost_{PREDICTED_MINUTES_AHEAD}m_SAMME.R_nofeat_link{LINK}.joblib'\n",
    "\n",
    "    # Max Depth = 3 because we have 6 possible classes (2^3=8 separable regions)\n",
    "    model = AdaBoostClassifier_(base_estimator=DecisionTreeClassifier(max_depth=3), n_estimators=60, learning_rate=0.3).fit(training_df[training_df['link_id'] == LINK], 'tt_arr$', 'LOS_dep')\n",
    "    joblib.dump(model, filename)\n",
    "\n",
    "    for LOS in range(1,7):\n",
    "        X_test = validation_df[(validation_df['link_id'] == LINK) & (validation_df['LOS_dep'] == LOS)]['tt_arr'].values.reshape(-1, 1)\n",
    "        y_pred = model.predict(X_test)\n",
    "\n",
    "        score = metrics.recall_score([LOS]*len(y_pred), y_pred, average='micro')\n",
    "        print(f\"\\tLOS {LOS}: Recall {round(score*100, 2) }%\")"
   ]
  },
  {
   "cell_type": "code",
   "execution_count": 19,
   "metadata": {
    "colab": {
     "base_uri": "https://localhost:8080/",
     "height": 472
    },
    "id": "oTrQInejiyaL",
    "outputId": "3d0edab4-608a-414a-8925-ed7f8c42fc55"
   },
   "outputs": [
    {
     "data": {
      "image/png": "[encoded data removed]",
      "text/plain": [
       "<Figure size 432x288 with 1 Axes>"
      ]
     },
     "metadata": {
      "needs_background": "light"
     },
     "output_type": "display_data"
    }
   ],
   "source": [
    "fig, ax = plt.subplots()\n",
    "ax.plot(np.arange(model.n_estimators), model.estimator_errors_)\n",
    "\n",
    "ax.set(xlabel='#Estimator', ylabel='Estimation error',\n",
    "       title='Evolution of errors training estimators')\n",
    "ax.grid()\n",
    "plt.show()"
   ]
  },
  {
   "cell_type": "markdown",
   "metadata": {
    "id": "AxrzoVWGnANI"
   },
   "source": [
    "*Validate with implementation from sklearn*"
   ]
  },
  {
   "cell_type": "code",
   "execution_count": 20,
   "metadata": {
    "colab": {
     "base_uri": "https://localhost:8080/"
    },
    "id": "hXP_q6JJnFxT",
    "outputId": "1934e1aa-8836-4584-db2c-e62b2cc895ee"
   },
   "outputs": [
    {
     "name": "stdout",
     "output_type": "stream",
     "text": [
      "LINK 5\n",
      "\tLOS 1: Recall 95.02%\n",
      "\tLOS 2: Recall 44.26%\n",
      "\tLOS 3: Recall 52.38%\n",
      "\tLOS 4: Recall 14.73%\n",
      "\tLOS 5: Recall 18.28%\n",
      "\tLOS 6: Recall 54.04%\n",
      "LINK 6\n",
      "\tLOS 1: Recall 98.75%\n",
      "\tLOS 2: Recall 0.0%\n",
      "\tLOS 3: Recall 73.74%\n",
      "\tLOS 4: Recall 0.0%\n",
      "\tLOS 5: Recall 20.86%\n",
      "\tLOS 6: Recall 0.0%\n",
      "LINK 7\n",
      "\tLOS 1: Recall 97.79%\n",
      "\tLOS 2: Recall 29.95%\n",
      "\tLOS 3: Recall 60.02%\n",
      "\tLOS 4: Recall 0.0%\n",
      "\tLOS 5: Recall 0.0%\n",
      "\tLOS 6: Recall 0.0%\n",
      "LINK 8\n",
      "\tLOS 1: Recall 99.68%\n",
      "\tLOS 2: Recall 0.0%\n",
      "\tLOS 3: Recall 70.61%\n",
      "\tLOS 4: Recall 13.75%\n",
      "\tLOS 5: Recall 8.29%\n",
      "\tLOS 6: Recall 36.38%\n",
      "LINK 9\n",
      "\tLOS 1: Recall 97.45%\n",
      "\tLOS 2: Recall 56.68%\n",
      "\tLOS 3: Recall 18.08%\n",
      "\tLOS 4: Recall 4.54%\n",
      "\tLOS 5: Recall 0.0%\n",
      "\tLOS 6: Recall 0.0%\n",
      "LINK 10\n",
      "\tLOS 1: Recall 99.48%\n",
      "\tLOS 2: Recall 0.0%\n",
      "\tLOS 3: Recall 23.94%\n",
      "\tLOS 4: Recall 23.99%\n",
      "\tLOS 5: Recall 38.63%\n",
      "\tLOS 6: Recall 39.36%\n"
     ]
    }
   ],
   "source": [
    "for LINK in range(5,11):\n",
    "    print(f\"LINK {LINK}\")\n",
    "    X = training_df[training_df['link_id'] == LINK]['tt_arr'].values.reshape(-1, 1)\n",
    "    y = training_df[training_df['link_id'] == LINK]['LOS_dep'].values\n",
    "\n",
    "    model = AdaBoostClassifier(n_estimators=60, learning_rate=0.3, algorithm=\"SAMME.R\").fit(X, y)\n",
    "\n",
    "    for LOS in range(1,7):\n",
    "        X_test = validation_df[(validation_df['link_id'] == LINK) & (validation_df['LOS_dep'] == LOS)]['tt_arr'].values.reshape(-1, 1)\n",
    "        y_pred = model.predict(X_test)\n",
    "\n",
    "        score = metrics.recall_score([LOS]*len(y_pred), y_pred, average='micro')\n",
    "        print(f\"\\tLOS {LOS}: Recall {round(score*100, 2) }%\")"
   ]
  },
  {
   "cell_type": "code",
   "execution_count": 21,
   "metadata": {
    "colab": {
     "base_uri": "https://localhost:8080/",
     "height": 472
    },
    "id": "Nq3IWGAQnIqU",
    "outputId": "444be42a-2124-423b-8230-9386d036d4d6"
   },
   "outputs": [
    {
     "data": {
      "image/png": "[encoded data removed]",
      "text/plain": [
       "<Figure size 432x288 with 1 Axes>"
      ]
     },
     "metadata": {
      "needs_background": "light"
     },
     "output_type": "display_data"
    }
   ],
   "source": [
    "fig, ax = plt.subplots()\n",
    "ax.plot(np.arange(model.n_estimators), model.estimator_errors_)\n",
    "\n",
    "ax.set(xlabel='#Estimator', ylabel='Estimation error',\n",
    "       title='Evolution of errors training estimators')\n",
    "ax.grid()\n",
    "plt.show()"
   ]
  },
  {
   "cell_type": "markdown",
   "metadata": {
    "id": "w_Ca_aXeOqMM",
    "jp-MarkdownHeadingCollapsed": true,
    "tags": []
   },
   "source": [
    "### **NO FEATURE ENGINEERING M2**"
   ]
  },
  {
   "cell_type": "code",
   "execution_count": 25,
   "metadata": {
    "colab": {
     "base_uri": "https://localhost:8080/"
    },
    "id": "cTMrnYPSOx56",
    "outputId": "3a9e23c3-f2db-40ba-ae95-61e639c33032"
   },
   "outputs": [
    {
     "name": "stdout",
     "output_type": "stream",
     "text": [
      "LINK 5\n",
      "M2 Implementation of AdaBoost\n",
      "\tLOS 1: Recall 95.85%\n",
      "\tLOS 2: Recall 36.91%\n",
      "\tLOS 3: Recall 53.22%\n",
      "\tLOS 4: Recall 14.73%\n",
      "\tLOS 5: Recall 11.96%\n",
      "\tLOS 6: Recall 61.64%\n",
      "LINK 6\n",
      "M2 Implementation of AdaBoost\n",
      "\tLOS 1: Recall 98.75%\n",
      "\tLOS 2: Recall 0.0%\n",
      "\tLOS 3: Recall 73.74%\n",
      "\tLOS 4: Recall 0.0%\n",
      "\tLOS 5: Recall 20.86%\n",
      "\tLOS 6: Recall 0.0%\n",
      "LINK 7\n",
      "M2 Implementation of AdaBoost\n",
      "\tLOS 1: Recall 97.74%\n",
      "\tLOS 2: Recall 31.28%\n",
      "\tLOS 3: Recall 58.31%\n",
      "\tLOS 4: Recall 0.0%\n",
      "\tLOS 5: Recall 0.0%\n",
      "\tLOS 6: Recall 0.0%\n",
      "LINK 8\n",
      "M2 Implementation of AdaBoost\n",
      "\tLOS 1: Recall 99.68%\n",
      "\tLOS 2: Recall 0.0%\n",
      "\tLOS 3: Recall 69.5%\n",
      "\tLOS 4: Recall 23.34%\n",
      "\tLOS 5: Recall 0.0%\n",
      "\tLOS 6: Recall 36.38%\n",
      "LINK 9\n",
      "M2 Implementation of AdaBoost\n",
      "\tLOS 1: Recall 96.82%\n",
      "\tLOS 2: Recall 62.06%\n",
      "\tLOS 3: Recall 19.93%\n",
      "\tLOS 4: Recall 0.0%\n",
      "\tLOS 5: Recall 0.0%\n",
      "\tLOS 6: Recall 0.0%\n",
      "LINK 10\n",
      "M2 Implementation of AdaBoost\n",
      "\tLOS 1: Recall 99.48%\n",
      "\tLOS 2: Recall 0.0%\n",
      "\tLOS 3: Recall 18.24%\n",
      "\tLOS 4: Recall 31.28%\n",
      "\tLOS 5: Recall 34.12%\n",
      "\tLOS 6: Recall 45.66%\n"
     ]
    }
   ],
   "source": [
    "for LINK in range(5,11):\n",
    "    print(f\"LINK {LINK}\")\n",
    "    filename = f'/{ROOT}/models/AdaBoost_{PREDICTED_MINUTES_AHEAD}m_M2_nofeat_link{LINK}.joblib'\n",
    "\n",
    "    # Max Depth = 3 because we have 6 possible classes (2^3=8 separable regions)\n",
    "    model = AdaBoostClassifier_(base_estimator=DecisionTreeClassifier(max_depth=3), n_estimators=60, learning_rate=0.3).fit(training_df[training_df['link_id'] == LINK], 'tt_arr$', 'LOS_dep')\n",
    "    joblib.dump(model, filename)\n",
    "\n",
    "    for LOS in range(1,7):\n",
    "        X_test = validation_df[(validation_df['link_id'] == LINK) & (validation_df['LOS_dep'] == LOS)]['tt_arr'].values.reshape(-1, 1)\n",
    "        y_pred = model.predict(X_test)\n",
    "\n",
    "        score = metrics.recall_score([LOS]*len(y_pred), y_pred, average='micro')\n",
    "        print(f\"\\tLOS {LOS}: Recall {round(score*100, 2) }%\")"
   ]
  },
  {
   "cell_type": "code",
   "execution_count": 26,
   "metadata": {
    "colab": {
     "base_uri": "https://localhost:8080/",
     "height": 472
    },
    "id": "f_NY9RtAikd-",
    "outputId": "0031b0da-65a8-40fe-b76e-187e0f1f4a3b"
   },
   "outputs": [
    {
     "data": {
      "image/png": "[encoded data removed]",
      "text/plain": [
       "<Figure size 432x288 with 1 Axes>"
      ]
     },
     "metadata": {
      "needs_background": "light"
     },
     "output_type": "display_data"
    }
   ],
   "source": [
    "fig, ax = plt.subplots()\n",
    "ax.plot(np.arange(model.n_estimators), model.estimator_errors_)\n",
    "\n",
    "ax.set(xlabel='#Estimator', ylabel='Estimation error',\n",
    "       title='Evolution of errors training estimators')\n",
    "ax.grid()\n",
    "plt.show()"
   ]
  },
  {
   "cell_type": "markdown",
   "metadata": {
    "id": "7mRQ067bsgED",
    "jp-MarkdownHeadingCollapsed": true,
    "tags": []
   },
   "source": [
    "## Feature engineering SAMME"
   ]
  },
  {
   "cell_type": "markdown",
   "metadata": {
    "id": "J-6iXrUQsmMa",
    "tags": []
   },
   "source": [
    "### **FEATURE ENGINEERING ADJACENT LINK INFORMATION**"
   ]
  },
  {
   "cell_type": "markdown",
   "metadata": {
    "id": "BbOf-QHasmMb"
   },
   "source": [
    "*Features creation*\n",
    "\n",
    "For each link, the tt_arrival of the other links are added as features. Therefore we will be using 6 features in total."
   ]
  },
  {
   "cell_type": "code",
   "execution_count": 15,
   "metadata": {
    "id": "y6Ro4-Q7stJ5"
   },
   "outputs": [
    {
     "name": "stdout",
     "output_type": "stream",
     "text": [
      "LINK 5\n",
      "SAMME Implementation of AdaBoost\n",
      "\tLOS 1: Recall 95.53%\n",
      "\tLOS 2: Recall 32.91%\n",
      "\tLOS 3: Recall 38.57%\n",
      "\tLOS 4: Recall 10.39%\n",
      "\tLOS 5: Recall 17.0%\n",
      "\tLOS 6: Recall 59.84%\n",
      "LINK 6\n",
      "SAMME Implementation of AdaBoost\n",
      "\tLOS 1: Recall 98.51%\n",
      "\tLOS 2: Recall 6.14%\n",
      "\tLOS 3: Recall 67.94%\n",
      "\tLOS 4: Recall 6.97%\n",
      "\tLOS 5: Recall 23.18%\n",
      "\tLOS 6: Recall 32.32%\n",
      "LINK 7\n",
      "SAMME Implementation of AdaBoost\n",
      "\tLOS 1: Recall 97.39%\n",
      "\tLOS 2: Recall 38.33%\n",
      "\tLOS 3: Recall 54.23%\n",
      "\tLOS 4: Recall 7.55%\n",
      "\tLOS 5: Recall 2.91%\n",
      "\tLOS 6: Recall 2.23%\n",
      "LINK 8\n",
      "SAMME Implementation of AdaBoost\n",
      "\tLOS 1: Recall 99.46%\n",
      "\tLOS 2: Recall 18.5%\n",
      "\tLOS 3: Recall 68.26%\n",
      "\tLOS 4: Recall 13.61%\n",
      "\tLOS 5: Recall 12.21%\n",
      "\tLOS 6: Recall 38.09%\n",
      "LINK 9\n",
      "SAMME Implementation of AdaBoost\n",
      "\tLOS 1: Recall 96.37%\n",
      "\tLOS 2: Recall 61.72%\n",
      "\tLOS 3: Recall 30.83%\n",
      "\tLOS 4: Recall 10.99%\n",
      "\tLOS 5: Recall 25.87%\n",
      "\tLOS 6: Recall 0.0%\n",
      "LINK 10\n",
      "SAMME Implementation of AdaBoost\n",
      "\tLOS 1: Recall 98.85%\n",
      "\tLOS 2: Recall 26.45%\n",
      "\tLOS 3: Recall 19.62%\n",
      "\tLOS 4: Recall 29.16%\n",
      "\tLOS 5: Recall 36.49%\n",
      "\tLOS 6: Recall 44.75%\n"
     ]
    }
   ],
   "source": [
    "for LINK in range(5,11):\n",
    "    print(f\"LINK {LINK}\")\n",
    "    filename = f'{ROOT}/models/AdaBoost_{PREDICTED_MINUTES_AHEAD}m_SAMME_adjacent_link{LINK}.joblib'\n",
    "\n",
    "    other_links = [5,6,7,8,9,10]; other_links.remove(LINK)\n",
    "    training_df_link = training_df.copy()\n",
    "    training_df_link = training_df_link[training_df_link['link_id'] == LINK]\n",
    "\n",
    "    for other_link in other_links:\n",
    "        training_df_link = pd.merge(training_df_link, training_df[training_df['link_id'] == other_link].filter(regex=(\"tt_ar[^-]+$\")), on=['date'], how='inner', suffixes=[None, f'_{other_link}'])\n",
    "\n",
    "    model = AdaBoostClassifier_(base_estimator=DecisionTreeClassifier(max_depth=3), n_estimators=60, learning_rate=0.3).fit(training_df_link, \"tt_ar[^-]+$\", 'LOS_dep')\n",
    "    joblib.dump(model, filename)\n",
    "\n",
    "    for LOS in range(1,7):\n",
    "        validation_df_link = validation_df[(validation_df['link_id'] == LINK) & (validation_df['LOS_dep'] == LOS)].copy()\n",
    "        for other_link in other_links:\n",
    "            validation_df_link = pd.merge(validation_df_link, validation_df[validation_df['link_id'] == other_link].filter(regex=(\"tt_ar[^-]+$\")), on=['date'], how='inner', suffixes=[None, f'_{other_link}'])\n",
    "        X_test = validation_df_link.filter(regex=(\"tt_ar[^-]+$\")).values\n",
    "        y_pred = model.predict(X_test)\n",
    "\n",
    "        score = metrics.recall_score([LOS]*len(y_pred), y_pred, average='micro')\n",
    "        print(f\"\\tLOS {LOS}: Recall {round(score*100, 2) }%\")"
   ]
  },
  {
   "cell_type": "markdown",
   "metadata": {
    "id": "KpvBdxc9s6XC",
    "tags": []
   },
   "source": [
    "### **FEATURE ENGINEERING ADJACENT LINK INFORMATION + TEMPORAL INFORMATION (UP TO PREVIOUS 45MIN)**"
   ]
  },
  {
   "cell_type": "markdown",
   "metadata": {
    "id": "_TQuxAFZs6XE"
   },
   "source": [
    "*Features creation*\n",
    "\n",
    "For each link, the tt_arrival of the other links, covering the previous 50min from prediction time, are added as features. Therefore we will be using 60 features in total as maximum."
   ]
  },
  {
   "cell_type": "code",
   "execution_count": 16,
   "metadata": {
    "colab": {
     "base_uri": "https://localhost:8080/"
    },
    "id": "xrchAR-stEmK",
    "outputId": "63ee0b14-e985-46e4-dda4-4cf79e072269"
   },
   "outputs": [
    {
     "name": "stdout",
     "output_type": "stream",
     "text": [
      "USING PREVIOUS 45m INFORMATION\n",
      "LINK 5\n",
      "SAMME Implementation of AdaBoost\n",
      "\tLOS 1: Recall 95.34%\n",
      "\tLOS 2: Recall 45.66%\n",
      "\tLOS 3: Recall 34.62%\n",
      "\tLOS 4: Recall 15.17%\n",
      "\tLOS 5: Recall 19.22%\n",
      "\tLOS 6: Recall 52.03%\n",
      "LINK 6\n",
      "SAMME Implementation of AdaBoost\n",
      "\tLOS 1: Recall 98.41%\n",
      "\tLOS 2: Recall 7.34%\n",
      "\tLOS 3: Recall 70.79%\n",
      "\tLOS 4: Recall 11.14%\n",
      "\tLOS 5: Recall 23.02%\n",
      "\tLOS 6: Recall 28.12%\n",
      "LINK 7\n",
      "SAMME Implementation of AdaBoost\n",
      "\tLOS 1: Recall 97.4%\n",
      "\tLOS 2: Recall 39.68%\n",
      "\tLOS 3: Recall 54.27%\n",
      "\tLOS 4: Recall 5.95%\n",
      "\tLOS 5: Recall 1.01%\n",
      "\tLOS 6: Recall 3.14%\n",
      "LINK 8\n",
      "SAMME Implementation of AdaBoost\n",
      "\tLOS 1: Recall 99.41%\n",
      "\tLOS 2: Recall 20.74%\n",
      "\tLOS 3: Recall 71.75%\n",
      "\tLOS 4: Recall 12.36%\n",
      "\tLOS 5: Recall 8.96%\n",
      "\tLOS 6: Recall 39.81%\n",
      "LINK 9\n",
      "SAMME Implementation of AdaBoost\n",
      "\tLOS 1: Recall 96.8%\n",
      "\tLOS 2: Recall 60.56%\n",
      "\tLOS 3: Recall 24.41%\n",
      "\tLOS 4: Recall 20.51%\n",
      "\tLOS 5: Recall 24.61%\n",
      "\tLOS 6: Recall 0.0%\n",
      "LINK 10\n",
      "SAMME Implementation of AdaBoost\n",
      "\tLOS 1: Recall 99.22%\n",
      "\tLOS 2: Recall 5.93%\n",
      "\tLOS 3: Recall 28.88%\n",
      "\tLOS 4: Recall 27.41%\n",
      "\tLOS 5: Recall 47.92%\n",
      "\tLOS 6: Recall 40.78%\n"
     ]
    }
   ],
   "source": [
    "print(f'USING PREVIOUS {INPUT_MINUTES_BEFORE}m INFORMATION')\n",
    "for LINK in range(5,11):\n",
    "    print(f\"LINK {LINK}\")\n",
    "    filename = f'{ROOT}/models/AdaBoost_{PREDICTED_MINUTES_AHEAD}m_SAMME_temp{INPUT_MINUTES_BEFORE}m_link{LINK}.joblib'\n",
    "\n",
    "    other_links = [5,6,7,8,9,10]; other_links.remove(LINK)\n",
    "    training_df_link = training_df.copy()\n",
    "    training_df_link = training_df_link[training_df_link['link_id'] == LINK]\n",
    "\n",
    "    for other_link in other_links:\n",
    "        training_df_link = pd.merge(training_df_link, training_df[training_df['link_id'] == other_link].filter(regex=(\"tt_arr.*\")), on=['date'], how='inner', suffixes=[None, f'_{other_link}'])\n",
    "\n",
    "    model = AdaBoostClassifier_(base_estimator=DecisionTreeClassifier(max_depth=3), n_estimators=60, learning_rate=0.3).fit(training_df_link, \"tt_arr.*\", 'LOS_dep')\n",
    "    joblib.dump(model, filename)\n",
    "\n",
    "    for LOS in range(1,7):\n",
    "        validation_df_link = validation_df[(validation_df['link_id'] == LINK) & (validation_df['LOS_dep'] == LOS)].copy()\n",
    "        for other_link in other_links:\n",
    "            validation_df_link = pd.merge(validation_df_link, validation_df[validation_df['link_id'] == other_link].filter(regex=(\"tt_arr.*\")), on=['date'], how='inner', suffixes=[None, f'_{other_link}'])\n",
    "        X_test = validation_df_link.filter(regex=(\"tt_arr.*\")).values\n",
    "        y_pred = model.predict(X_test)\n",
    "\n",
    "        score = metrics.recall_score([LOS]*len(y_pred), y_pred, average='micro')\n",
    "        print(f\"\\tLOS {LOS}: Recall {round(score*100, 2) }%\")"
   ]
  },
  {
   "cell_type": "markdown",
   "metadata": {
    "id": "iN57ErfEtQEj",
    "jp-MarkdownHeadingCollapsed": true,
    "tags": []
   },
   "source": [
    "## Feature engineering SAMME.R"
   ]
  },
  {
   "cell_type": "markdown",
   "metadata": {
    "id": "QX-1y_K9tQEk",
    "tags": []
   },
   "source": [
    "### **FEATURE ENGINEERING ADJACENT LINK INFORMATION**"
   ]
  },
  {
   "cell_type": "markdown",
   "metadata": {
    "id": "jZr9HEIotQEl"
   },
   "source": [
    "*Features creation*\n",
    "\n",
    "For each link, the tt_arrival of the other links are added as features. Therefore we will be using 6 features in total."
   ]
  },
  {
   "cell_type": "code",
   "execution_count": 22,
   "metadata": {
    "id": "MeqLvOwLtScZ"
   },
   "outputs": [
    {
     "name": "stdout",
     "output_type": "stream",
     "text": [
      "LINK 5\n",
      "SAMME.R Implementation of AdaBoost\n",
      "\tLOS 1: Recall 96.03%\n",
      "\tLOS 2: Recall 32.78%\n",
      "\tLOS 3: Recall 35.91%\n",
      "\tLOS 4: Recall 10.91%\n",
      "\tLOS 5: Recall 14.3%\n",
      "\tLOS 6: Recall 42.98%\n",
      "LINK 6\n",
      "SAMME.R Implementation of AdaBoost\n",
      "\tLOS 1: Recall 98.53%\n",
      "\tLOS 2: Recall 2.42%\n",
      "\tLOS 3: Recall 74.6%\n",
      "\tLOS 4: Recall 3.55%\n",
      "\tLOS 5: Recall 14.42%\n",
      "\tLOS 6: Recall 21.12%\n",
      "LINK 7\n",
      "SAMME.R Implementation of AdaBoost\n",
      "\tLOS 1: Recall 97.78%\n",
      "\tLOS 2: Recall 34.51%\n",
      "\tLOS 3: Recall 58.88%\n",
      "\tLOS 4: Recall 2.08%\n",
      "\tLOS 5: Recall 2.6%\n",
      "\tLOS 6: Recall 2.88%\n",
      "LINK 8\n",
      "SAMME.R Implementation of AdaBoost\n",
      "\tLOS 1: Recall 99.54%\n",
      "\tLOS 2: Recall 8.62%\n",
      "\tLOS 3: Recall 72.52%\n",
      "\tLOS 4: Recall 10.48%\n",
      "\tLOS 5: Recall 7.58%\n",
      "\tLOS 6: Recall 48.81%\n",
      "LINK 9\n",
      "SAMME.R Implementation of AdaBoost\n",
      "\tLOS 1: Recall 97.27%\n",
      "\tLOS 2: Recall 57.85%\n",
      "\tLOS 3: Recall 31.0%\n",
      "\tLOS 4: Recall 7.29%\n",
      "\tLOS 5: Recall 8.52%\n",
      "\tLOS 6: Recall 0.0%\n",
      "LINK 10\n",
      "SAMME.R Implementation of AdaBoost\n",
      "\tLOS 1: Recall 99.24%\n",
      "\tLOS 2: Recall 5.17%\n",
      "\tLOS 3: Recall 25.49%\n",
      "\tLOS 4: Recall 22.26%\n",
      "\tLOS 5: Recall 36.43%\n",
      "\tLOS 6: Recall 36.63%\n"
     ]
    }
   ],
   "source": [
    "for LINK in range(5,11):\n",
    "    print(f\"LINK {LINK}\")\n",
    "    filename = f'{ROOT}/models/AdaBoost_{PREDICTED_MINUTES_AHEAD}m_SAMME.R_adjacent_link{LINK}.joblib'\n",
    "\n",
    "    other_links = [5,6,7,8,9,10]; other_links.remove(LINK)\n",
    "    training_df_link = training_df.copy()\n",
    "    training_df_link = training_df_link[training_df_link['link_id'] == LINK]\n",
    "\n",
    "    for other_link in other_links:\n",
    "        training_df_link = pd.merge(training_df_link, training_df[training_df['link_id'] == other_link].filter(regex=(\"tt_ar[^-]+$\")), on=['date'], how='inner', suffixes=[None, f'_{other_link}'])\n",
    "\n",
    "    model = AdaBoostClassifier_(base_estimator=DecisionTreeClassifier(max_depth=3), n_estimators=60, learning_rate=0.3).fit(training_df_link, \"tt_ar[^-]+$\", 'LOS_dep')\n",
    "    joblib.dump(model, filename)\n",
    "\n",
    "    for LOS in range(1,7):\n",
    "        validation_df_link = validation_df[(validation_df['link_id'] == LINK) & (validation_df['LOS_dep'] == LOS)].copy()\n",
    "        for other_link in other_links:\n",
    "            validation_df_link = pd.merge(validation_df_link, validation_df[validation_df['link_id'] == other_link].filter(regex=(\"tt_ar[^-]+$\")), on=['date'], how='inner', suffixes=[None, f'_{other_link}'])\n",
    "        X_test = validation_df_link.filter(regex=(\"tt_ar[^-]+$\")).values\n",
    "        y_pred = model.predict(X_test)\n",
    "\n",
    "        score = metrics.recall_score([LOS]*len(y_pred), y_pred, average='micro')\n",
    "        print(f\"\\tLOS {LOS}: Recall {round(score*100, 2) }%\")"
   ]
  },
  {
   "cell_type": "markdown",
   "metadata": {
    "id": "A-8NrOlytQEl",
    "tags": []
   },
   "source": [
    "### **FEATURE ENGINEERING ADJACENT LINK INFORMATION + TEMPORAL INFORMATION (UP TO PREVIOUS 45MIN)**"
   ]
  },
  {
   "cell_type": "markdown",
   "metadata": {
    "id": "pgq0XefftQEm"
   },
   "source": [
    "*Features creation*\n",
    "\n",
    "For each link, the tt_arrival of the other links, covering the previous 50min from prediction time, are added as features. Therefore we will be using 60 features in total as maximum."
   ]
  },
  {
   "cell_type": "code",
   "execution_count": 23,
   "metadata": {
    "id": "rDd9yKj6tT2b"
   },
   "outputs": [
    {
     "name": "stdout",
     "output_type": "stream",
     "text": [
      "USING PREVIOUS 45m INFORMATION\n",
      "LINK 5\n",
      "SAMME.R Implementation of AdaBoost\n",
      "\tLOS 1: Recall 95.71%\n",
      "\tLOS 2: Recall 34.38%\n",
      "\tLOS 3: Recall 37.58%\n",
      "\tLOS 4: Recall 11.92%\n",
      "\tLOS 5: Recall 13.05%\n",
      "\tLOS 6: Recall 39.58%\n",
      "LINK 6\n",
      "SAMME.R Implementation of AdaBoost\n",
      "\tLOS 1: Recall 98.41%\n",
      "\tLOS 2: Recall 2.5%\n",
      "\tLOS 3: Recall 75.53%\n",
      "\tLOS 4: Recall 4.71%\n",
      "\tLOS 5: Recall 13.96%\n",
      "\tLOS 6: Recall 17.15%\n",
      "LINK 7\n",
      "SAMME.R Implementation of AdaBoost\n",
      "\tLOS 1: Recall 97.83%\n",
      "\tLOS 2: Recall 36.35%\n",
      "\tLOS 3: Recall 55.95%\n",
      "\tLOS 4: Recall 3.27%\n",
      "\tLOS 5: Recall 2.29%\n",
      "\tLOS 6: Recall 6.94%\n",
      "LINK 8\n",
      "SAMME.R Implementation of AdaBoost\n",
      "\tLOS 1: Recall 99.53%\n",
      "\tLOS 2: Recall 15.03%\n",
      "\tLOS 3: Recall 72.42%\n",
      "\tLOS 4: Recall 15.4%\n",
      "\tLOS 5: Recall 6.21%\n",
      "\tLOS 6: Recall 47.89%\n",
      "LINK 9\n",
      "SAMME.R Implementation of AdaBoost\n",
      "\tLOS 1: Recall 97.17%\n",
      "\tLOS 2: Recall 58.83%\n",
      "\tLOS 3: Recall 32.42%\n",
      "\tLOS 4: Recall 12.74%\n",
      "\tLOS 5: Recall 3.89%\n",
      "\tLOS 6: Recall 0.0%\n",
      "LINK 10\n",
      "SAMME.R Implementation of AdaBoost\n",
      "\tLOS 1: Recall 99.16%\n",
      "\tLOS 2: Recall 6.21%\n",
      "\tLOS 3: Recall 32.59%\n",
      "\tLOS 4: Recall 29.61%\n",
      "\tLOS 5: Recall 40.8%\n",
      "\tLOS 6: Recall 32.03%\n"
     ]
    }
   ],
   "source": [
    "print(f'USING PREVIOUS {INPUT_MINUTES_BEFORE}m INFORMATION')\n",
    "for LINK in range(5,11):\n",
    "    print(f\"LINK {LINK}\")\n",
    "    filename = f'{ROOT}/models/AdaBoost_{PREDICTED_MINUTES_AHEAD}m_SAMME.R_temp{INPUT_MINUTES_BEFORE}m_link{LINK}.joblib'\n",
    "\n",
    "    other_links = [5,6,7,8,9,10]; other_links.remove(LINK)\n",
    "    training_df_link = training_df.copy()\n",
    "    training_df_link = training_df_link[training_df_link['link_id'] == LINK]\n",
    "\n",
    "    for other_link in other_links:\n",
    "        training_df_link = pd.merge(training_df_link, training_df[training_df['link_id'] == other_link].filter(regex=(\"tt_arr.*\")), on=['date'], how='inner', suffixes=[None, f'_{other_link}'])\n",
    "\n",
    "    model = AdaBoostClassifier_(base_estimator=DecisionTreeClassifier(max_depth=3), n_estimators=60, learning_rate=0.3).fit(training_df_link, \"tt_arr.*\", 'LOS_dep')\n",
    "    joblib.dump(model, filename)\n",
    "\n",
    "    for LOS in range(1,7):\n",
    "        validation_df_link = validation_df[(validation_df['link_id'] == LINK) & (validation_df['LOS_dep'] == LOS)].copy()\n",
    "        for other_link in other_links:\n",
    "            validation_df_link = pd.merge(validation_df_link, validation_df[validation_df['link_id'] == other_link].filter(regex=(\"tt_arr.*\")), on=['date'], how='inner', suffixes=[None, f'_{other_link}'])\n",
    "        X_test = validation_df_link.filter(regex=(\"tt_arr.*\")).values\n",
    "        y_pred = model.predict(X_test)\n",
    "\n",
    "        score = metrics.recall_score([LOS]*len(y_pred), y_pred, average='micro')\n",
    "        print(f\"\\tLOS {LOS}: Recall {round(score*100, 2) }%\")"
   ]
  },
  {
   "cell_type": "markdown",
   "metadata": {
    "id": "8kMuPjKAtZ9U",
    "jp-MarkdownHeadingCollapsed": true,
    "tags": []
   },
   "source": [
    "## Feature engineering M2"
   ]
  },
  {
   "cell_type": "markdown",
   "metadata": {
    "id": "MFPtdH0htZ9V",
    "tags": []
   },
   "source": [
    "### **FEATURE ENGINEERING ADJACENT LINK INFORMATION**"
   ]
  },
  {
   "cell_type": "markdown",
   "metadata": {
    "id": "W-KS7Q_ntZ9W"
   },
   "source": [
    "*Features creation*\n",
    "\n",
    "For each link, the tt_arrival of the other links are added as features. Therefore we will be using 6 features in total."
   ]
  },
  {
   "cell_type": "code",
   "execution_count": 27,
   "metadata": {
    "id": "gfQaEmUHtfDl"
   },
   "outputs": [
    {
     "name": "stdout",
     "output_type": "stream",
     "text": [
      "LINK 5\n",
      "M2 Implementation of AdaBoost\n",
      "\tLOS 1: Recall 95.87%\n",
      "\tLOS 2: Recall 30.03%\n",
      "\tLOS 3: Recall 47.86%\n",
      "\tLOS 4: Recall 14.73%\n",
      "\tLOS 5: Recall 11.96%\n",
      "\tLOS 6: Recall 61.64%\n",
      "LINK 6\n",
      "M2 Implementation of AdaBoost\n",
      "\tLOS 1: Recall 98.68%\n",
      "\tLOS 2: Recall 0.0%\n",
      "\tLOS 3: Recall 75.76%\n",
      "\tLOS 4: Recall 0.0%\n",
      "\tLOS 5: Recall 20.29%\n",
      "\tLOS 6: Recall 0.0%\n",
      "LINK 7\n",
      "M2 Implementation of AdaBoost\n",
      "\tLOS 1: Recall 97.64%\n",
      "\tLOS 2: Recall 35.77%\n",
      "\tLOS 3: Recall 58.21%\n",
      "\tLOS 4: Recall 0.0%\n",
      "\tLOS 5: Recall 0.0%\n",
      "\tLOS 6: Recall 0.0%\n",
      "LINK 8\n",
      "M2 Implementation of AdaBoost\n",
      "\tLOS 1: Recall 99.44%\n",
      "\tLOS 2: Recall 9.62%\n",
      "\tLOS 3: Recall 73.16%\n",
      "\tLOS 4: Recall 15.74%\n",
      "\tLOS 5: Recall 0.0%\n",
      "\tLOS 6: Recall 48.11%\n",
      "LINK 9\n",
      "M2 Implementation of AdaBoost\n",
      "\tLOS 1: Recall 97.21%\n",
      "\tLOS 2: Recall 60.35%\n",
      "\tLOS 3: Recall 22.55%\n",
      "\tLOS 4: Recall 0.83%\n",
      "\tLOS 5: Recall 0.0%\n",
      "\tLOS 6: Recall 0.0%\n",
      "LINK 10\n",
      "M2 Implementation of AdaBoost\n",
      "\tLOS 1: Recall 99.46%\n",
      "\tLOS 2: Recall 1.82%\n",
      "\tLOS 3: Recall 23.96%\n",
      "\tLOS 4: Recall 23.99%\n",
      "\tLOS 5: Recall 34.12%\n",
      "\tLOS 6: Recall 45.66%\n"
     ]
    }
   ],
   "source": [
    "for LINK in range(5,11):\n",
    "    print(f\"LINK {LINK}\")\n",
    "    filename = f'{ROOT}/models/AdaBoost_{PREDICTED_MINUTES_AHEAD}m_M2_adjacent_link{LINK}.joblib'\n",
    "\n",
    "    other_links = [5,6,7,8,9,10]; other_links.remove(LINK)\n",
    "    training_df_link = training_df.copy()\n",
    "    training_df_link = training_df_link[training_df_link['link_id'] == LINK]\n",
    "\n",
    "    for other_link in other_links:\n",
    "        training_df_link = pd.merge(training_df_link, training_df[training_df['link_id'] == other_link].filter(regex=(\"tt_ar[^-]+$\")), on=['date'], how='inner', suffixes=[None, f'_{other_link}'])\n",
    "\n",
    "    model = AdaBoostClassifier_(base_estimator=DecisionTreeClassifier(max_depth=3), n_estimators=60, learning_rate=0.3).fit(training_df_link, \"tt_ar[^-]+$\", 'LOS_dep')\n",
    "    joblib.dump(model, filename)\n",
    "\n",
    "    for LOS in range(1,7):\n",
    "        validation_df_link = validation_df[(validation_df['link_id'] == LINK) & (validation_df['LOS_dep'] == LOS)].copy()\n",
    "        for other_link in other_links:\n",
    "            validation_df_link = pd.merge(validation_df_link, validation_df[validation_df['link_id'] == other_link].filter(regex=(\"tt_ar[^-]+$\")), on=['date'], how='inner', suffixes=[None, f'_{other_link}'])\n",
    "        X_test = validation_df_link.filter(regex=(\"tt_ar[^-]+$\")).values\n",
    "        y_pred = model.predict(X_test)\n",
    "\n",
    "        score = metrics.recall_score([LOS]*len(y_pred), y_pred, average='micro')\n",
    "        print(f\"\\tLOS {LOS}: Recall {round(score*100, 2) }%\")"
   ]
  },
  {
   "cell_type": "markdown",
   "metadata": {
    "id": "UbhOVU0qtZ9W",
    "tags": []
   },
   "source": [
    "### **FEATURE ENGINEERING ADJACENT LINK INFORMATION + TEMPORAL INFORMATION (UP TO PREVIOUS 45MIN)**"
   ]
  },
  {
   "cell_type": "markdown",
   "metadata": {
    "id": "URsbx593tZ9X"
   },
   "source": [
    "*Features creation*\n",
    "\n",
    "For each link, the tt_arrival of the other links, covering the previous 50min from prediction time, are added as features. Therefore we will be using 60 features in total as maximum."
   ]
  },
  {
   "cell_type": "code",
   "execution_count": 28,
   "metadata": {
    "id": "5_8-VsFdthPa"
   },
   "outputs": [
    {
     "name": "stdout",
     "output_type": "stream",
     "text": [
      "USING PREVIOUS 45m INFORMATION\n",
      "LINK 5\n",
      "M2 Implementation of AdaBoost\n",
      "\tLOS 1: Recall 95.86%\n",
      "\tLOS 2: Recall 29.99%\n",
      "\tLOS 3: Recall 47.94%\n",
      "\tLOS 4: Recall 14.73%\n",
      "\tLOS 5: Recall 11.96%\n",
      "\tLOS 6: Recall 61.64%\n",
      "LINK 6\n",
      "M2 Implementation of AdaBoost\n",
      "\tLOS 1: Recall 98.68%\n",
      "\tLOS 2: Recall 0.0%\n",
      "\tLOS 3: Recall 75.72%\n",
      "\tLOS 4: Recall 0.0%\n",
      "\tLOS 5: Recall 20.29%\n",
      "\tLOS 6: Recall 0.0%\n",
      "LINK 7\n",
      "M2 Implementation of AdaBoost\n",
      "\tLOS 1: Recall 97.65%\n",
      "\tLOS 2: Recall 35.34%\n",
      "\tLOS 3: Recall 58.74%\n",
      "\tLOS 4: Recall 0.0%\n",
      "\tLOS 5: Recall 0.0%\n",
      "\tLOS 6: Recall 0.0%\n",
      "LINK 8\n",
      "M2 Implementation of AdaBoost\n",
      "\tLOS 1: Recall 99.58%\n",
      "\tLOS 2: Recall 5.8%\n",
      "\tLOS 3: Recall 72.99%\n",
      "\tLOS 4: Recall 16.02%\n",
      "\tLOS 5: Recall 0.0%\n",
      "\tLOS 6: Recall 48.11%\n",
      "LINK 9\n",
      "M2 Implementation of AdaBoost\n",
      "\tLOS 1: Recall 97.22%\n",
      "\tLOS 2: Recall 60.32%\n",
      "\tLOS 3: Recall 22.6%\n",
      "\tLOS 4: Recall 1.44%\n",
      "\tLOS 5: Recall 0.0%\n",
      "\tLOS 6: Recall 0.0%\n",
      "LINK 10\n",
      "M2 Implementation of AdaBoost\n",
      "\tLOS 1: Recall 99.44%\n",
      "\tLOS 2: Recall 0.35%\n",
      "\tLOS 3: Recall 28.77%\n",
      "\tLOS 4: Recall 30.81%\n",
      "\tLOS 5: Recall 34.12%\n",
      "\tLOS 6: Recall 45.66%\n"
     ]
    }
   ],
   "source": [
    "print(f'USING PREVIOUS {INPUT_MINUTES_BEFORE}m INFORMATION')\n",
    "for LINK in range(5,11):\n",
    "    print(f\"LINK {LINK}\")\n",
    "    filename = f'{ROOT}/models/AdaBoost_{PREDICTED_MINUTES_AHEAD}m_M2_temp{INPUT_MINUTES_BEFORE}m_link{LINK}.joblib'\n",
    "\n",
    "    other_links = [5,6,7,8,9,10]; other_links.remove(LINK)\n",
    "    training_df_link = training_df.copy()\n",
    "    training_df_link = training_df_link[training_df_link['link_id'] == LINK]\n",
    "\n",
    "    for other_link in other_links:\n",
    "        training_df_link = pd.merge(training_df_link, training_df[training_df['link_id'] == other_link].filter(regex=(\"tt_arr.*\")), on=['date'], how='inner', suffixes=[None, f'_{other_link}'])\n",
    "\n",
    "    model = AdaBoostClassifier_(base_estimator=DecisionTreeClassifier(max_depth=3), n_estimators=60, learning_rate=0.3).fit(training_df_link, \"tt_arr.*\", 'LOS_dep')\n",
    "    joblib.dump(model, filename)\n",
    "\n",
    "    for LOS in range(1,7):\n",
    "        validation_df_link = validation_df[(validation_df['link_id'] == LINK) & (validation_df['LOS_dep'] == LOS)].copy()\n",
    "        for other_link in other_links:\n",
    "            validation_df_link = pd.merge(validation_df_link, validation_df[validation_df['link_id'] == other_link].filter(regex=(\"tt_arr.*\")), on=['date'], how='inner', suffixes=[None, f'_{other_link}'])\n",
    "        X_test = validation_df_link.filter(regex=(\"tt_arr.*\")).values\n",
    "        y_pred = model.predict(X_test)\n",
    "\n",
    "        score = metrics.recall_score([LOS]*len(y_pred), y_pred, average='micro')\n",
    "        print(f\"\\tLOS {LOS}: Recall {round(score*100, 2) }%\")"
   ]
  },
  {
   "cell_type": "markdown",
   "metadata": {
    "id": "56v0Qmq5YalF",
    "jp-MarkdownHeadingCollapsed": true,
    "tags": []
   },
   "source": [
    "# **RUSBoost**"
   ]
  },
  {
   "cell_type": "markdown",
   "metadata": {
    "id": "K8YP3zubmE0w",
    "jp-MarkdownHeadingCollapsed": true,
    "tags": []
   },
   "source": [
    "### *Algorithms*"
   ]
  },
  {
   "cell_type": "markdown",
   "metadata": {
    "id": "hvykyM8IbeNb"
   },
   "source": [
    "**Algorithm implementation SAMME**"
   ]
  },
  {
   "cell_type": "code",
   "execution_count": 29,
   "metadata": {
    "id": "ZlA-vfNNpYOP"
   },
   "outputs": [],
   "source": [
    "def labelToIndex(i,clf):\n",
    "    return clf.labelDict[i]\n",
    "\n",
    "def indexToLabel(i,clf):\n",
    "    return clf.classes[i]\n",
    "\n",
    "class RUSBoostClassifier_:\n",
    "    \n",
    "    def __init__(self,base_estimator=None,n_estimators=50,learning_rate=1.0):\n",
    "        print(\"SAMME Implementation of RUSBoost\")\n",
    "        self.n_estimators = n_estimators\n",
    "        self.learning_rate = learning_rate\n",
    "        self.models = [None]*n_estimators\n",
    "        if base_estimator == None:\n",
    "            base_estimator = DecisionTreeClassifier(max_depth=1)\n",
    "        self.base_estimator = base_estimator\n",
    "        self.estimator_errors_ = []\n",
    "        self.observation_weights_ = {}\n",
    "        \n",
    "    def fit(self, df: pd.DataFrame, X_columns: str, y_column: str):\n",
    "        \"\"\"\n",
    "        param df: Training dataframe with shape (n_samples, )\n",
    "        param X_columns: pattern matching DataFrame column names that contain the features\n",
    "        param y_column: name of DataFrame column name with the labels\n",
    "        \"\"\"\n",
    "        \n",
    "        # Initialize observation weights as 1/N where N is total `n_samples`\n",
    "        N = df.shape[0]\n",
    "        w = {epoch: 1/N for epoch in df.index}\n",
    "        \n",
    "        # `undersampling_n` elements to sample from each class, equal #samples minority class\n",
    "        self.createLabelDict(np.unique(df[y_column]))\n",
    "        k = len(self.classes)\n",
    "        undersampling_n = min(df[y_column].value_counts())\n",
    "\n",
    "        # Get whole dataset samples to later calculate the weighting factors on every iteration\n",
    "        X = df.filter(regex=(X_columns)).values\n",
    "        y = df[y_column].values\n",
    "        \n",
    "        # M iterations (#WeakLearners)\n",
    "        for m in range(self.n_estimators):\n",
    "            \n",
    "        # 1) Random UnderSampling\n",
    "            df_ = pd.DataFrame()\n",
    "            for label_ in self.classes:\n",
    "                # Quizas muestrear usando la inversa de los pesos (.sample(weights=1/w)) para hacer overfit en los casos con menos error == underfit\n",
    "                df_ = pd.concat([ df_, df[ df[y_column]==label_ ].sample(undersampling_n, replace=False) ])\n",
    "            \n",
    "            # Indices are dates in integer format\n",
    "            w_ = np.array([w[epoch] for epoch in df_.index])\n",
    "\n",
    "            X_ = df_.filter(regex=(X_columns)).values\n",
    "            y_ = df_[y_column].values\n",
    "\n",
    "        # 2) WeakLearner training\n",
    "            Gm = base.clone(self.base_estimator).\\\n",
    "                            fit(X_,y_,sample_weight=w_).predict\n",
    "        \n",
    "        # 3) Error-rate computation\n",
    "            incorrect = Gm(X) != y\n",
    "            errM = np.average(incorrect,weights=list(w.values()),axis=0)\n",
    "            self.estimator_errors_.append(errM)\n",
    "        \n",
    "        # 4) WeakLearner weight for ensemble computation [errM < (k-1)/k]\n",
    "            BetaM = np.log((1-errM)/errM)+np.log(k-1)            \n",
    "            self.models[m] = (BetaM,Gm)\n",
    "\n",
    "        # 5) Observation weights update for next iteration with weights normalization\n",
    "            norm_ = 0\n",
    "            w_ = np.array(list(w.values()))\n",
    "            positive_mask = w_ > 0\n",
    "            w_ *= np.exp(self.learning_rate* BetaM*(incorrect * positive_mask))\n",
    "            for i, epoch in enumerate(w.keys()):\n",
    "                w[epoch] = w_[i]\n",
    "                norm_ += w_[i]\n",
    "            for epoch in w.keys():\n",
    "                w[epoch] /= norm_\n",
    "        \n",
    "        self.observation_weights_ = w\n",
    "        return self\n",
    "            \n",
    "    def createLabelDict(self,classes):\n",
    "        self.labelDict = {}\n",
    "        self.classes = classes\n",
    "        for i,cl in enumerate(classes):\n",
    "            self.labelDict[cl] = i\n",
    "\n",
    "    def predict(self,X):\n",
    "        k = len(self.classes)\n",
    "        Bms_ = [Bm for Bm,_ in self.models]\n",
    "        prob_matrix = np.full((X.shape[0],k), -sum(Bms_)/(k-1))\n",
    "        \n",
    "        # Obtain the predicted index array with shape (#obs,#weak_learners)\n",
    "        iTL = np.vectorize(labelToIndex)\n",
    "        y_pred = np.stack([iTL(Gm(X),self) for _,Gm in self.models], axis=-1)\n",
    "\n",
    "        # Weight the indices count using Bm associated to each weak_learner\n",
    "        prob_matrix += np.apply_along_axis(lambda x: np.bincount(x, weights=Bms_, minlength=k), axis=1, arr=y_pred)*k/(k-1)\n",
    "        \n",
    "        iTL = np.vectorize(indexToLabel)\n",
    "        return iTL(np.argmax(prob_matrix,axis=1),self)"
   ]
  },
  {
   "cell_type": "markdown",
   "metadata": {
    "id": "ufAzojIniPjV"
   },
   "source": [
    "**Algorithm implementation M2**"
   ]
  },
  {
   "cell_type": "code",
   "execution_count": 35,
   "metadata": {
    "id": "wvGE01esiNX8"
   },
   "outputs": [],
   "source": [
    "def labelToIndex(cl,clf):\n",
    "    return clf.labelDict[cl]\n",
    "\n",
    "def indexToLabel(i,clf):\n",
    "    return clf.classes[i]\n",
    "\n",
    "class RUSBoostClassifier_:\n",
    "    \n",
    "    def __init__(self,base_estimator=None,n_estimators=50,learning_rate=1.0):\n",
    "        print(\"M2 Implementation of RUSBoost\")\n",
    "        self.n_estimators = n_estimators\n",
    "        self.learning_rate = learning_rate\n",
    "        self.models = []\n",
    "        if base_estimator == None:\n",
    "            base_estimator = DecisionTreeClassifier(max_depth=1)\n",
    "        self.base_estimator = base_estimator\n",
    "        self.estimator_errors_ = []\n",
    "        self.observation_weights_ = {}\n",
    "\n",
    "    def fit(self, df: pd.DataFrame, X_columns: str, y_column: str):\n",
    "        \"\"\"\n",
    "        param df: Training dataframe with shape (n_samples, )\n",
    "        param X_columns: pattern matching DataFrame column names that contain the features\n",
    "        param y_column: name of DataFrame column name with the labels\n",
    "        \"\"\"        \n",
    "        \n",
    "        # Class labels mapping to indices\n",
    "        self.createLabelDict(np.unique(df[y_column]))\n",
    "        k = len(self.classes)\n",
    "        # `undersampling_n` elements to sample from each class, equal #samples minority class\n",
    "        undersampling_n = min(df[y_column].value_counts())\n",
    "\n",
    "        # Initialize observation weights as 1/(N*(k-1)) where N is total `n_samples` and k is the numebr of classes\n",
    "        N = df.shape[0]\n",
    "        B = N*(k-1)\n",
    "        D = {epoch: np.full(k-1,1/B) for epoch in df.index}\n",
    "\n",
    "        # Get whole dataset samples to later calculate the weighting factors on every iteration\n",
    "        X = df.filter(regex=(X_columns)).values\n",
    "        y = df[y_column].values\n",
    "        iTL = np.vectorize(labelToIndex)\n",
    "        y_indices = iTL(y,self)\n",
    "        \n",
    "        # M iterations (#WeakLearners)\n",
    "        for m in range(self.n_estimators):\n",
    "\n",
    "        # 1) Random UnderSampling\n",
    "            df_ = pd.DataFrame()\n",
    "            for label_ in self.classes:\n",
    "                # Quizas muestrear usando la inversa de los pesos (.sample(weights=1/w)) para hacer overfit en los casos con menos error == underfit\n",
    "                df_ = pd.concat([ df_, df[ df[y_column]==label_ ].sample(undersampling_n, replace=False) ])\n",
    "\n",
    "            \n",
    "            # Training data initalization\n",
    "            X_ = df_.filter(regex=(X_columns)).values\n",
    "            y_ = df_[y_column].values\n",
    "            D_ = np.sum([D[epoch] for epoch in df_.index], axis=-1)\n",
    "\n",
    "        # 2) WeakLearner training\n",
    "            Gm = base.clone(self.base_estimator).\\\n",
    "                            fit(X_,y_,sample_weight=D_).predict_proba\n",
    "            self.models.append(Gm)\n",
    "        \n",
    "        # 3) Error-rate computation\n",
    "            predictions_proba = Gm(X)\n",
    "            sum_pseudolosses = 0\n",
    "            for i, epoch in enumerate(D.keys()):\n",
    "                k_index = 0\n",
    "                for cl in range(k):\n",
    "                    if cl != y_indices[i]:\n",
    "                        sum_pseudolosses += D[epoch][k_index]*(1-predictions_proba[i,y_indices[i]]+predictions_proba[i,cl])\n",
    "                        k_index += 1\n",
    "\n",
    "            error = 0.5 * sum_pseudolosses\n",
    "            self.estimator_errors_.append(error)\n",
    "        \n",
    "        # 4) WeakLearner weight for ensemble computation\n",
    "            BetaM = error/(1-error)\n",
    "            self.models[m] = (BetaM,Gm)\n",
    "\n",
    "        # 5) Observation weights update for next iteration with weights normalization\n",
    "            norm_ = 0\n",
    "            for i, epoch in enumerate(D.keys()):\n",
    "                k_index = 0\n",
    "                for cl in range(k):\n",
    "                    if cl != y_indices[i]:\n",
    "                        w_ = 0.5*(1+predictions_proba[i,y_indices[i]]-predictions_proba[i,cl])\n",
    "                        D[epoch][k_index] *= BetaM**(self.learning_rate*w_)\n",
    "                        norm_ += D[epoch][k_index]\n",
    "                        k_index += 1\n",
    "            for epoch in D.keys():\n",
    "                D[epoch] /= norm_\n",
    "        \n",
    "        self.observation_weights_ = D\n",
    "        \n",
    "        return self\n",
    "            \n",
    "    def createLabelDict(self,classes):\n",
    "        self.labelDict = {}\n",
    "        self.classes = classes\n",
    "        for i,cl in enumerate(classes):\n",
    "            self.labelDict[cl] = i\n",
    "    \n",
    "    def predict(self,X):\n",
    "        sum_model_hypothesis = np.sum(np.stack([-np.log(Bm)*Gm(X) for Bm,Gm in self.models], axis=-1), axis=-1)\n",
    "        iTL = np.vectorize(indexToLabel)            \n",
    "        return iTL(np.argmax(sum_model_hypothesis,axis=1),self)\n"
   ]
  },
  {
   "cell_type": "markdown",
   "metadata": {
    "id": "0-sWClA_oG-s",
    "jp-MarkdownHeadingCollapsed": true,
    "tags": []
   },
   "source": [
    "### **NO FEATURE ENGINEERING SAMME**"
   ]
  },
  {
   "cell_type": "code",
   "execution_count": 30,
   "metadata": {
    "colab": {
     "base_uri": "https://localhost:8080/"
    },
    "id": "mYPP7uf-rlIw",
    "outputId": "3b780349-5ed7-4f89-c5c0-15999bc76c09"
   },
   "outputs": [
    {
     "name": "stdout",
     "output_type": "stream",
     "text": [
      "LINK 5\n",
      "SAMME Implementation of RUSBoost\n",
      "\tLOS 1: Recall 81.25%\n",
      "\tLOS 2: Recall 69.77%\n",
      "\tLOS 3: Recall 31.89%\n",
      "\tLOS 4: Recall 21.31%\n",
      "\tLOS 5: Recall 35.88%\n",
      "\tLOS 6: Recall 71.31%\n",
      "LINK 6\n",
      "SAMME Implementation of RUSBoost\n",
      "\tLOS 1: Recall 80.93%\n",
      "\tLOS 2: Recall 62.71%\n",
      "\tLOS 3: Recall 50.12%\n",
      "\tLOS 4: Recall 0.05%\n",
      "\tLOS 5: Recall 51.89%\n",
      "\tLOS 6: Recall 56.3%\n",
      "LINK 7\n",
      "SAMME Implementation of RUSBoost\n",
      "\tLOS 1: Recall 90.44%\n",
      "\tLOS 2: Recall 34.92%\n",
      "\tLOS 3: Recall 50.24%\n",
      "\tLOS 4: Recall 3.29%\n",
      "\tLOS 5: Recall 35.47%\n",
      "\tLOS 6: Recall 33.51%\n",
      "LINK 8\n",
      "SAMME Implementation of RUSBoost\n",
      "\tLOS 1: Recall 93.05%\n",
      "\tLOS 2: Recall 42.94%\n",
      "\tLOS 3: Recall 71.23%\n",
      "\tLOS 4: Recall 0.0%\n",
      "\tLOS 5: Recall 0.0%\n",
      "\tLOS 6: Recall 77.28%\n",
      "LINK 9\n",
      "SAMME Implementation of RUSBoost\n",
      "\tLOS 1: Recall 92.8%\n",
      "\tLOS 2: Recall 60.61%\n",
      "\tLOS 3: Recall 49.3%\n",
      "\tLOS 4: Recall 3.71%\n",
      "\tLOS 5: Recall 39.33%\n",
      "\tLOS 6: Recall 32.01%\n",
      "LINK 10\n",
      "SAMME Implementation of RUSBoost\n",
      "\tLOS 1: Recall 90.03%\n",
      "\tLOS 2: Recall 58.53%\n",
      "\tLOS 3: Recall 38.25%\n",
      "\tLOS 4: Recall 19.16%\n",
      "\tLOS 5: Recall 31.81%\n",
      "\tLOS 6: Recall 48.02%\n"
     ]
    }
   ],
   "source": [
    "for LINK in range(5,11):\n",
    "    print(f\"LINK {LINK}\")\n",
    "    filename = f'{ROOT}/models/RUSBoost_{PREDICTED_MINUTES_AHEAD}m_SAMME_nofeat_link{LINK}.joblib'\n",
    "\n",
    "    model = RUSBoostClassifier_(base_estimator=DecisionTreeClassifier(max_depth=3), n_estimators=60, learning_rate=0.3).fit(training_df[training_df['link_id'] == LINK], 'tt_arr$', 'LOS_dep')\n",
    "    joblib.dump(model, filename)\n",
    "\n",
    "    for LOS in range(1,7):\n",
    "        X_test = validation_df[(validation_df['link_id'] == LINK) & (validation_df['LOS_dep'] == LOS)]['tt_arr'].values.reshape(-1, 1)\n",
    "        y_pred = model.predict(X_test)\n",
    "\n",
    "        score = metrics.recall_score([LOS]*len(y_pred), y_pred, average='micro')\n",
    "        print(f\"\\tLOS {LOS}: Recall {round(score*100, 2) }%\")"
   ]
  },
  {
   "cell_type": "code",
   "execution_count": 31,
   "metadata": {
    "colab": {
     "base_uri": "https://localhost:8080/",
     "height": 472
    },
    "id": "CubsFZ5p1h8I",
    "outputId": "5ebb646f-8bdc-4ca7-838d-fe52809dfcf2"
   },
   "outputs": [
    {
     "data": {
      "image/png": "[encoded data removed]",
      "text/plain": [
       "<Figure size 432x288 with 1 Axes>"
      ]
     },
     "metadata": {
      "needs_background": "light"
     },
     "output_type": "display_data"
    }
   ],
   "source": [
    "fig, ax = plt.subplots()\n",
    "\n",
    "ax.plot(np.arange(len(model.observation_weights_)), model.observation_weights_.values())\n",
    "\n",
    "tmp = training_df[training_df['link_id'] == LINK]\n",
    "ax.plot(np.arange(len(model.observation_weights_)), np.array(list(model.observation_weights_.values()))*np.array(tmp['LOS_dep'] == 6).astype(np.int8).astype(np.int8))\n",
    "\n",
    "ax.set(xlabel='Observation', ylabel='weight',\n",
    "       title='Weight per observation')\n",
    "ax.grid()\n",
    "plt.show()"
   ]
  },
  {
   "cell_type": "code",
   "execution_count": 32,
   "metadata": {
    "colab": {
     "base_uri": "https://localhost:8080/",
     "height": 472
    },
    "id": "fzFBi1h7q_EO",
    "outputId": "848687ae-deee-43c3-c9b1-ffccf89b32fc"
   },
   "outputs": [
    {
     "data": {
      "image/png": "[encoded data removed]",
      "text/plain": [
       "<Figure size 432x288 with 1 Axes>"
      ]
     },
     "metadata": {
      "needs_background": "light"
     },
     "output_type": "display_data"
    }
   ],
   "source": [
    "fig, ax = plt.subplots()\n",
    "ax.plot(np.arange(model.n_estimators), model.estimator_errors_)\n",
    "\n",
    "ax.set(xlabel='#Estimator', ylabel='Estimation error',\n",
    "       title='Evolution of errors training estimators')\n",
    "ax.grid()\n",
    "plt.show()"
   ]
  },
  {
   "cell_type": "markdown",
   "metadata": {
    "id": "Z8T8KoJtliq5",
    "jp-MarkdownHeadingCollapsed": true,
    "tags": []
   },
   "source": [
    "### **NO FEATURE ENGINEERING M2**"
   ]
  },
  {
   "cell_type": "code",
   "execution_count": 36,
   "metadata": {
    "colab": {
     "base_uri": "https://localhost:8080/"
    },
    "id": "oqF7lfLMlpOp",
    "outputId": "61226b7f-eda0-44bc-9116-6a4b60a97e49"
   },
   "outputs": [
    {
     "name": "stdout",
     "output_type": "stream",
     "text": [
      "LINK 5\n",
      "M2 Implementation of RUSBoost\n",
      "\tLOS 1: Recall 82.76%\n",
      "\tLOS 2: Recall 55.52%\n",
      "\tLOS 3: Recall 36.86%\n",
      "\tLOS 4: Recall 25.56%\n",
      "\tLOS 5: Recall 31.32%\n",
      "\tLOS 6: Recall 71.82%\n",
      "LINK 6\n",
      "M2 Implementation of RUSBoost\n",
      "\tLOS 1: Recall 80.93%\n",
      "\tLOS 2: Recall 63.04%\n",
      "\tLOS 3: Recall 45.37%\n",
      "\tLOS 4: Recall 43.58%\n",
      "\tLOS 5: Recall 30.67%\n",
      "\tLOS 6: Recall 50.88%\n",
      "LINK 7\n",
      "M2 Implementation of RUSBoost\n",
      "\tLOS 1: Recall 83.22%\n",
      "\tLOS 2: Recall 66.78%\n",
      "\tLOS 3: Recall 48.01%\n",
      "\tLOS 4: Recall 12.74%\n",
      "\tLOS 5: Recall 1.82%\n",
      "\tLOS 6: Recall 59.03%\n",
      "LINK 8\n",
      "M2 Implementation of RUSBoost\n",
      "\tLOS 1: Recall 90.43%\n",
      "\tLOS 2: Recall 59.42%\n",
      "\tLOS 3: Recall 67.79%\n",
      "\tLOS 4: Recall 4.57%\n",
      "\tLOS 5: Recall 32.75%\n",
      "\tLOS 6: Recall 42.93%\n",
      "LINK 9\n",
      "M2 Implementation of RUSBoost\n",
      "\tLOS 1: Recall 88.92%\n",
      "\tLOS 2: Recall 67.32%\n",
      "\tLOS 3: Recall 53.43%\n",
      "\tLOS 4: Recall 45.16%\n",
      "\tLOS 5: Recall 31.02%\n",
      "\tLOS 6: Recall 32.01%\n",
      "LINK 10\n",
      "M2 Implementation of RUSBoost\n",
      "\tLOS 1: Recall 90.03%\n",
      "\tLOS 2: Recall 59.21%\n",
      "\tLOS 3: Recall 27.45%\n",
      "\tLOS 4: Recall 28.76%\n",
      "\tLOS 5: Recall 30.38%\n",
      "\tLOS 6: Recall 53.31%\n"
     ]
    }
   ],
   "source": [
    "for LINK in range(5,11):\n",
    "    print(f\"LINK {LINK}\")\n",
    "    filename = f'{ROOT}/models/RUSBoost_{PREDICTED_MINUTES_AHEAD}m_M2_nofeat_link{LINK}.joblib'\n",
    "\n",
    "    model = RUSBoostClassifier_(base_estimator=DecisionTreeClassifier(max_depth=3), n_estimators=60, learning_rate=0.3).fit(training_df[training_df['link_id'] == LINK], 'tt_arr$', 'LOS_dep')\n",
    "    joblib.dump(model, filename)\n",
    "\n",
    "    for LOS in range(1,7):\n",
    "        X_test = validation_df[(validation_df['link_id'] == LINK) & (validation_df['LOS_dep'] == LOS)]['tt_arr'].values.reshape(-1, 1)\n",
    "        y_pred = model.predict(X_test)\n",
    "\n",
    "        score = metrics.recall_score([LOS]*len(y_pred), y_pred, average='micro')\n",
    "        print(f\"\\tLOS {LOS}: Recall {round(score*100, 2) }%\")"
   ]
  },
  {
   "cell_type": "code",
   "execution_count": 37,
   "metadata": {
    "colab": {
     "base_uri": "https://localhost:8080/",
     "height": 472
    },
    "id": "x6zbR-vhlrsx",
    "outputId": "4cc16337-c95d-44de-dbe4-1562486d8c42"
   },
   "outputs": [
    {
     "data": {
      "image/png": "[encoded data removed]",
      "text/plain": [
       "<Figure size 432x288 with 1 Axes>"
      ]
     },
     "metadata": {
      "needs_background": "light"
     },
     "output_type": "display_data"
    }
   ],
   "source": [
    "fig, ax = plt.subplots()\n",
    "ax.plot(np.arange(model.n_estimators), model.estimator_errors_)\n",
    "\n",
    "ax.set(xlabel='#Estimator', ylabel='Estimation error',\n",
    "       title='Evolution of errors training estimators')\n",
    "ax.grid()\n",
    "plt.show()"
   ]
  },
  {
   "cell_type": "markdown",
   "metadata": {
    "id": "9Dm-Rr2LryUa",
    "jp-MarkdownHeadingCollapsed": true,
    "tags": []
   },
   "source": [
    "## Feature engineering SAMME"
   ]
  },
  {
   "cell_type": "markdown",
   "metadata": {
    "id": "5GwdnL80wEtn",
    "tags": []
   },
   "source": [
    "### **FEATURE ENGINEERING ADJACENT LINK INFORMATION**"
   ]
  },
  {
   "cell_type": "markdown",
   "metadata": {
    "id": "SX6uOIxdwEtp"
   },
   "source": [
    "*Features creation*\n",
    "\n",
    "For each link, the tt_arrival of the other links are added as features. Therefore we will be using 6 features in total."
   ]
  },
  {
   "cell_type": "code",
   "execution_count": 33,
   "metadata": {
    "id": "lG3lIJ4Swav-"
   },
   "outputs": [
    {
     "name": "stdout",
     "output_type": "stream",
     "text": [
      "LINK 5\n",
      "SAMME Implementation of RUSBoost\n",
      "\tLOS 1: Recall 82.84%\n",
      "\tLOS 2: Recall 68.21%\n",
      "\tLOS 3: Recall 39.19%\n",
      "\tLOS 4: Recall 25.55%\n",
      "\tLOS 5: Recall 44.74%\n",
      "\tLOS 6: Recall 63.68%\n",
      "LINK 6\n",
      "SAMME Implementation of RUSBoost\n",
      "\tLOS 1: Recall 85.98%\n",
      "\tLOS 2: Recall 46.68%\n",
      "\tLOS 3: Recall 59.71%\n",
      "\tLOS 4: Recall 36.98%\n",
      "\tLOS 5: Recall 41.17%\n",
      "\tLOS 6: Recall 40.61%\n",
      "LINK 7\n",
      "SAMME Implementation of RUSBoost\n",
      "\tLOS 1: Recall 88.23%\n",
      "\tLOS 2: Recall 48.77%\n",
      "\tLOS 3: Recall 52.69%\n",
      "\tLOS 4: Recall 22.38%\n",
      "\tLOS 5: Recall 6.67%\n",
      "\tLOS 6: Recall 58.12%\n",
      "LINK 8\n",
      "SAMME Implementation of RUSBoost\n",
      "\tLOS 1: Recall 91.29%\n",
      "\tLOS 2: Recall 39.19%\n",
      "\tLOS 3: Recall 75.84%\n",
      "\tLOS 4: Recall 9.06%\n",
      "\tLOS 5: Recall 26.62%\n",
      "\tLOS 6: Recall 30.27%\n",
      "LINK 9\n",
      "SAMME Implementation of RUSBoost\n",
      "\tLOS 1: Recall 86.37%\n",
      "\tLOS 2: Recall 83.1%\n",
      "\tLOS 3: Recall 1.78%\n",
      "\tLOS 4: Recall 6.15%\n",
      "\tLOS 5: Recall 28.6%\n",
      "\tLOS 6: Recall 38.53%\n",
      "LINK 10\n",
      "SAMME Implementation of RUSBoost\n",
      "\tLOS 1: Recall 90.95%\n",
      "\tLOS 2: Recall 57.71%\n",
      "\tLOS 3: Recall 8.58%\n",
      "\tLOS 4: Recall 38.16%\n",
      "\tLOS 5: Recall 8.53%\n",
      "\tLOS 6: Recall 75.86%\n"
     ]
    }
   ],
   "source": [
    "for LINK in range(5,11):\n",
    "    print(f\"LINK {LINK}\")\n",
    "    filename = f'{ROOT}/models/RUSBoost_{PREDICTED_MINUTES_AHEAD}m_SAMME_adjacent_link{LINK}.joblib'\n",
    "\n",
    "    other_links = [5,6,7,8,9,10]; other_links.remove(LINK)\n",
    "    training_df_link = training_df.copy()\n",
    "    training_df_link = training_df_link[training_df_link['link_id'] == LINK]\n",
    "\n",
    "    for other_link in other_links:\n",
    "        training_df_link = pd.merge(training_df_link, training_df[training_df['link_id'] == other_link].filter(regex=(\"tt_ar[^-]+$\")), on=['date'], how='inner', suffixes=[None, f'_{other_link}'])\n",
    "\n",
    "    model = RUSBoostClassifier_(base_estimator=DecisionTreeClassifier(max_depth=3), n_estimators=60, learning_rate=0.3).fit(training_df_link, \"tt_ar[^-]+$\", 'LOS_dep')\n",
    "    joblib.dump(model, filename)\n",
    "\n",
    "    for LOS in range(1,7):\n",
    "        validation_df_link = validation_df[(validation_df['link_id'] == LINK) & (validation_df['LOS_dep'] == LOS)].copy()\n",
    "        for other_link in other_links:\n",
    "            validation_df_link = pd.merge(validation_df_link, validation_df[validation_df['link_id'] == other_link].filter(regex=(\"tt_ar[^-]+$\")), on=['date'], how='inner', suffixes=[None, f'_{other_link}'])\n",
    "        X_test = validation_df_link.filter(regex=(\"tt_ar[^-]+$\")).values\n",
    "        y_pred = model.predict(X_test)\n",
    "\n",
    "        score = metrics.recall_score([LOS]*len(y_pred), y_pred, average='micro')\n",
    "        print(f\"\\tLOS {LOS}: Recall {round(score*100, 2) }%\")"
   ]
  },
  {
   "cell_type": "markdown",
   "metadata": {
    "id": "sOP6-k1pNP3l",
    "tags": []
   },
   "source": [
    "### **FEATURE ENGINEERING ADJACENT LINK INFORMATION + TEMPORAL INFORMATION (UP TO PREVIOUS 45MIN)**"
   ]
  },
  {
   "cell_type": "markdown",
   "metadata": {
    "id": "rxNerGt4wTQW"
   },
   "source": [
    "*Features creation*\n",
    "\n",
    "For each link, the tt_arrival of the other links, covering the previous 50min from prediction time, are added as features. Therefore we will be using 60 features in total as maximum."
   ]
  },
  {
   "cell_type": "code",
   "execution_count": 34,
   "metadata": {
    "colab": {
     "base_uri": "https://localhost:8080/"
    },
    "id": "M6JecW2nvBMv",
    "outputId": "dc442871-3613-4bf2-f223-8081041cbfc5"
   },
   "outputs": [
    {
     "name": "stdout",
     "output_type": "stream",
     "text": [
      "USING PREVIOUS 45m INFORMATION\n",
      "LINK 5\n",
      "SAMME Implementation of RUSBoost\n",
      "\tLOS 1: Recall 84.37%\n",
      "\tLOS 2: Recall 46.76%\n",
      "\tLOS 3: Recall 49.47%\n",
      "\tLOS 4: Recall 22.08%\n",
      "\tLOS 5: Recall 45.35%\n",
      "\tLOS 6: Recall 58.17%\n",
      "LINK 6\n",
      "SAMME Implementation of RUSBoost\n",
      "\tLOS 1: Recall 87.37%\n",
      "\tLOS 2: Recall 50.77%\n",
      "\tLOS 3: Recall 34.46%\n",
      "\tLOS 4: Recall 53.72%\n",
      "\tLOS 5: Recall 1.94%\n",
      "\tLOS 6: Recall 65.99%\n",
      "LINK 7\n",
      "SAMME Implementation of RUSBoost\n",
      "\tLOS 1: Recall 87.6%\n",
      "\tLOS 2: Recall 67.3%\n",
      "\tLOS 3: Recall 29.97%\n",
      "\tLOS 4: Recall 33.87%\n",
      "\tLOS 5: Recall 1.4%\n",
      "\tLOS 6: Recall 61.65%\n",
      "LINK 8\n",
      "SAMME Implementation of RUSBoost\n",
      "\tLOS 1: Recall 91.55%\n",
      "\tLOS 2: Recall 40.43%\n",
      "\tLOS 3: Recall 70.71%\n",
      "\tLOS 4: Recall 37.15%\n",
      "\tLOS 5: Recall 2.25%\n",
      "\tLOS 6: Recall 42.36%\n",
      "LINK 9\n",
      "SAMME Implementation of RUSBoost\n",
      "\tLOS 1: Recall 86.37%\n",
      "\tLOS 2: Recall 56.62%\n",
      "\tLOS 3: Recall 58.59%\n",
      "\tLOS 4: Recall 42.58%\n",
      "\tLOS 5: Recall 0.0%\n",
      "\tLOS 6: Recall 60.62%\n",
      "LINK 10\n",
      "SAMME Implementation of RUSBoost\n",
      "\tLOS 1: Recall 93.16%\n",
      "\tLOS 2: Recall 22.09%\n",
      "\tLOS 3: Recall 23.25%\n",
      "\tLOS 4: Recall 52.75%\n",
      "\tLOS 5: Recall 9.65%\n",
      "\tLOS 6: Recall 59.72%\n"
     ]
    }
   ],
   "source": [
    "print(f'USING PREVIOUS {INPUT_MINUTES_BEFORE}m INFORMATION')\n",
    "for LINK in range(5,11):\n",
    "    print(f\"LINK {LINK}\")\n",
    "    filename = f'{ROOT}/models/RUSBoost_{PREDICTED_MINUTES_AHEAD}m_SAMME_temp{INPUT_MINUTES_BEFORE}m_link{LINK}.joblib'\n",
    "\n",
    "    other_links = [5,6,7,8,9,10]; other_links.remove(LINK)\n",
    "    training_df_link = training_df.copy()\n",
    "    training_df_link = training_df_link[training_df_link['link_id'] == LINK]\n",
    "\n",
    "    for other_link in other_links:\n",
    "        training_df_link = pd.merge(training_df_link, training_df[training_df['link_id'] == other_link].filter(regex=(\"tt_arr.*\")), on=['date'], how='inner', suffixes=[None, f'_{other_link}'])\n",
    "\n",
    "    model = RUSBoostClassifier_(base_estimator=DecisionTreeClassifier(max_depth=3), n_estimators=60, learning_rate=0.3).fit(training_df_link, \"tt_arr.*\", 'LOS_dep')\n",
    "    joblib.dump(model, filename)\n",
    "\n",
    "    for LOS in range(1,7):\n",
    "        validation_df_link = validation_df[(validation_df['link_id'] == LINK) & (validation_df['LOS_dep'] == LOS)].copy()\n",
    "        for other_link in other_links:\n",
    "            validation_df_link = pd.merge(validation_df_link, validation_df[validation_df['link_id'] == other_link].filter(regex=(\"tt_arr.*\")), on=['date'], how='inner', suffixes=[None, f'_{other_link}'])\n",
    "        X_test = validation_df_link.filter(regex=(\"tt_arr.*\")).values\n",
    "        y_pred = model.predict(X_test)\n",
    "\n",
    "        score = metrics.recall_score([LOS]*len(y_pred), y_pred, average='micro')\n",
    "        print(f\"\\tLOS {LOS}: Recall {round(score*100, 2) }%\")"
   ]
  },
  {
   "cell_type": "markdown",
   "metadata": {
    "id": "OOgz5KTvr6jU",
    "jp-MarkdownHeadingCollapsed": true,
    "tags": []
   },
   "source": [
    "## Feature engineering M2"
   ]
  },
  {
   "cell_type": "markdown",
   "metadata": {
    "id": "mc6_lQUSsKiM",
    "tags": []
   },
   "source": [
    "### **FEATURE ENGINEERING ADJACENT LINK INFORMATION**"
   ]
  },
  {
   "cell_type": "markdown",
   "metadata": {
    "id": "_c5Zd21qsNCy"
   },
   "source": [
    "*Features creation*\n",
    "\n",
    "For each link, the tt_arrival of the other links are added as features. Therefore we will be using 6 features in total."
   ]
  },
  {
   "cell_type": "code",
   "execution_count": 38,
   "metadata": {
    "id": "dKswQdsJsPLO"
   },
   "outputs": [
    {
     "name": "stdout",
     "output_type": "stream",
     "text": [
      "LINK 5\n",
      "M2 Implementation of RUSBoost\n",
      "\tLOS 1: Recall 83.16%\n",
      "\tLOS 2: Recall 56.94%\n",
      "\tLOS 3: Recall 41.8%\n",
      "\tLOS 4: Recall 21.69%\n",
      "\tLOS 5: Recall 39.41%\n",
      "\tLOS 6: Recall 67.75%\n",
      "LINK 6\n",
      "M2 Implementation of RUSBoost\n",
      "\tLOS 1: Recall 79.53%\n",
      "\tLOS 2: Recall 69.44%\n",
      "\tLOS 3: Recall 42.52%\n",
      "\tLOS 4: Recall 49.9%\n",
      "\tLOS 5: Recall 31.09%\n",
      "\tLOS 6: Recall 52.04%\n",
      "LINK 7\n",
      "M2 Implementation of RUSBoost\n",
      "\tLOS 1: Recall 81.95%\n",
      "\tLOS 2: Recall 70.25%\n",
      "\tLOS 3: Recall 34.66%\n",
      "\tLOS 4: Recall 30.71%\n",
      "\tLOS 5: Recall 12.52%\n",
      "\tLOS 6: Recall 58.64%\n",
      "LINK 8\n",
      "M2 Implementation of RUSBoost\n",
      "\tLOS 1: Recall 88.5%\n",
      "\tLOS 2: Recall 58.19%\n",
      "\tLOS 3: Recall 70.09%\n",
      "\tLOS 4: Recall 18.19%\n",
      "\tLOS 5: Recall 31.42%\n",
      "\tLOS 6: Recall 52.99%\n",
      "LINK 9\n",
      "M2 Implementation of RUSBoost\n",
      "\tLOS 1: Recall 85.97%\n",
      "\tLOS 2: Recall 71.78%\n",
      "\tLOS 3: Recall 54.69%\n",
      "\tLOS 4: Recall 42.71%\n",
      "\tLOS 5: Recall 26.29%\n",
      "\tLOS 6: Recall 26.06%\n",
      "LINK 10\n",
      "M2 Implementation of RUSBoost\n",
      "\tLOS 1: Recall 90.31%\n",
      "\tLOS 2: Recall 60.18%\n",
      "\tLOS 3: Recall 26.1%\n",
      "\tLOS 4: Recall 28.76%\n",
      "\tLOS 5: Recall 27.36%\n",
      "\tLOS 6: Recall 56.96%\n"
     ]
    }
   ],
   "source": [
    "for LINK in range(5,11):\n",
    "    print(f\"LINK {LINK}\")\n",
    "    filename = f'{ROOT}/models/RUSBoost_{PREDICTED_MINUTES_AHEAD}m_M2_adjacent_link{LINK}.joblib'\n",
    "\n",
    "    other_links = [5,6,7,8,9,10]; other_links.remove(LINK)\n",
    "    training_df_link = training_df.copy()\n",
    "    training_df_link = training_df_link[training_df_link['link_id'] == LINK]\n",
    "\n",
    "    for other_link in other_links:\n",
    "        training_df_link = pd.merge(training_df_link, training_df[training_df['link_id'] == other_link].filter(regex=(\"tt_ar[^-]+$\")), on=['date'], how='inner', suffixes=[None, f'_{other_link}'])\n",
    "\n",
    "    model = RUSBoostClassifier_(base_estimator=DecisionTreeClassifier(max_depth=3), n_estimators=60, learning_rate=0.3).fit(training_df_link, \"tt_ar[^-]+$\", 'LOS_dep')\n",
    "    joblib.dump(model, filename)\n",
    "\n",
    "    for LOS in range(1,7):\n",
    "        validation_df_link = validation_df[(validation_df['link_id'] == LINK) & (validation_df['LOS_dep'] == LOS)].copy()\n",
    "        for other_link in other_links:\n",
    "            validation_df_link = pd.merge(validation_df_link, validation_df[validation_df['link_id'] == other_link].filter(regex=(\"tt_ar[^-]+$\")), on=['date'], how='inner', suffixes=[None, f'_{other_link}'])\n",
    "        X_test = validation_df_link.filter(regex=(\"tt_ar[^-]+$\")).values\n",
    "        y_pred = model.predict(X_test)\n",
    "\n",
    "        score = metrics.recall_score([LOS]*len(y_pred), y_pred, average='micro')\n",
    "        print(f\"\\tLOS {LOS}: Recall {round(score*100, 2) }%\")"
   ]
  },
  {
   "cell_type": "markdown",
   "metadata": {
    "id": "poTwjhkKsQ62",
    "tags": []
   },
   "source": [
    "### **FEATURE ENGINEERING ADJACENT LINK INFORMATION + TEMPORAL INFORMATION (UP TO PREVIOUS 45MIN)**"
   ]
  },
  {
   "cell_type": "markdown",
   "metadata": {
    "id": "LFmqR-o_sTPj"
   },
   "source": [
    "*Features creation*\n",
    "\n",
    "For each link, the tt_arrival of the other links, covering the previous 50min from prediction time, are added as features. Therefore we will be using 60 features in total as maximum."
   ]
  },
  {
   "cell_type": "code",
   "execution_count": 39,
   "metadata": {
    "colab": {
     "base_uri": "https://localhost:8080/"
    },
    "id": "y74FuDnRsVhu",
    "outputId": "11f55f1e-2ccd-44f5-c815-181251dcff05"
   },
   "outputs": [
    {
     "name": "stdout",
     "output_type": "stream",
     "text": [
      "USING PREVIOUS 45m INFORMATION\n",
      "LINK 5\n",
      "M2 Implementation of RUSBoost\n",
      "\tLOS 1: Recall 83.32%\n",
      "\tLOS 2: Recall 55.64%\n",
      "\tLOS 3: Recall 43.16%\n",
      "\tLOS 4: Recall 21.56%\n",
      "\tLOS 5: Recall 40.82%\n",
      "\tLOS 6: Recall 67.03%\n",
      "LINK 6\n",
      "M2 Implementation of RUSBoost\n",
      "\tLOS 1: Recall 80.48%\n",
      "\tLOS 2: Recall 68.11%\n",
      "\tLOS 3: Recall 43.64%\n",
      "\tLOS 4: Recall 52.19%\n",
      "\tLOS 5: Recall 29.64%\n",
      "\tLOS 6: Recall 53.33%\n",
      "LINK 7\n",
      "M2 Implementation of RUSBoost\n",
      "\tLOS 1: Recall 81.84%\n",
      "\tLOS 2: Recall 69.98%\n",
      "\tLOS 3: Recall 34.65%\n",
      "\tLOS 4: Recall 32.09%\n",
      "\tLOS 5: Recall 6.86%\n",
      "\tLOS 6: Recall 60.47%\n",
      "LINK 8\n",
      "M2 Implementation of RUSBoost\n",
      "\tLOS 1: Recall 87.99%\n",
      "\tLOS 2: Recall 56.26%\n",
      "\tLOS 3: Recall 67.67%\n",
      "\tLOS 4: Recall 22.05%\n",
      "\tLOS 5: Recall 29.83%\n",
      "\tLOS 6: Recall 53.12%\n",
      "LINK 9\n",
      "M2 Implementation of RUSBoost\n",
      "\tLOS 1: Recall 85.96%\n",
      "\tLOS 2: Recall 71.19%\n",
      "\tLOS 3: Recall 54.66%\n",
      "\tLOS 4: Recall 35.3%\n",
      "\tLOS 5: Recall 26.5%\n",
      "\tLOS 6: Recall 25.21%\n",
      "LINK 10\n",
      "M2 Implementation of RUSBoost\n",
      "\tLOS 1: Recall 90.18%\n",
      "\tLOS 2: Recall 59.3%\n",
      "\tLOS 3: Recall 25.15%\n",
      "\tLOS 4: Recall 32.16%\n",
      "\tLOS 5: Recall 35.77%\n",
      "\tLOS 6: Recall 64.47%\n"
     ]
    }
   ],
   "source": [
    "print(f'USING PREVIOUS {INPUT_MINUTES_BEFORE}m INFORMATION')\n",
    "for LINK in range(5,11):\n",
    "    print(f\"LINK {LINK}\")\n",
    "    filename = f'{ROOT}/models/RUSBoost_{PREDICTED_MINUTES_AHEAD}m_M2_temp{INPUT_MINUTES_BEFORE}m_link{LINK}.joblib'\n",
    "\n",
    "    other_links = [5,6,7,8,9,10]; other_links.remove(LINK)\n",
    "    training_df_link = training_df.copy()\n",
    "    training_df_link = training_df_link[training_df_link['link_id'] == LINK]\n",
    "\n",
    "    for other_link in other_links:\n",
    "        training_df_link = pd.merge(training_df_link, training_df[training_df['link_id'] == other_link].filter(regex=(\"tt_arr.*\")), on=['date'], how='inner', suffixes=[None, f'_{other_link}'])\n",
    "\n",
    "    model = RUSBoostClassifier_(base_estimator=DecisionTreeClassifier(max_depth=3), n_estimators=60, learning_rate=0.3).fit(training_df_link, \"tt_arr.*\", 'LOS_dep')\n",
    "    joblib.dump(model, filename)\n",
    "\n",
    "    for LOS in range(1,7):\n",
    "        validation_df_link = validation_df[(validation_df['link_id'] == LINK) & (validation_df['LOS_dep'] == LOS)].copy()\n",
    "        for other_link in other_links:\n",
    "            validation_df_link = pd.merge(validation_df_link, validation_df[validation_df['link_id'] == other_link].filter(regex=(\"tt_arr.*\")), on=['date'], how='inner', suffixes=[None, f'_{other_link}'])\n",
    "        X_test = validation_df_link.filter(regex=(\"tt_arr.*\")).values\n",
    "        y_pred = model.predict(X_test)\n",
    "\n",
    "        score = metrics.recall_score([LOS]*len(y_pred), y_pred, average='micro')\n",
    "        print(f\"\\tLOS {LOS}: Recall {round(score*100, 2) }%\")"
   ]
  },
  {
   "cell_type": "markdown",
   "metadata": {
    "id": "SFPlNAf6Lx4j",
    "jp-MarkdownHeadingCollapsed": true,
    "tags": []
   },
   "source": [
    "# **Modified RUSBoost**"
   ]
  },
  {
   "cell_type": "markdown",
   "metadata": {
    "id": "6bhoLHJ_Lx4o",
    "jp-MarkdownHeadingCollapsed": true,
    "tags": []
   },
   "source": [
    "### *Algorithms*"
   ]
  },
  {
   "cell_type": "markdown",
   "metadata": {
    "id": "U6GMHz0WLx4o"
   },
   "source": [
    "**Algorithm implementation M2**"
   ]
  },
  {
   "cell_type": "code",
   "execution_count": 40,
   "metadata": {
    "id": "KYN6IC8LL3Rk"
   },
   "outputs": [],
   "source": [
    "def labelToIndex(cl,clf):\n",
    "    return clf.labelDict[cl]\n",
    "\n",
    "def indexToLabel(i,clf):\n",
    "    return clf.classes[i]\n",
    "\n",
    "class ModifiedRUSBoostClassifier_:\n",
    "    \n",
    "    def __init__(self,base_estimator=None,n_estimators=50,learning_rate=1.0):\n",
    "        print(\"M2 Implementation of MODIFIED RUSBoost\")\n",
    "        self.n_estimators = n_estimators\n",
    "        self.learning_rate = learning_rate\n",
    "        self.models = []\n",
    "        if base_estimator == None:\n",
    "            base_estimator = DecisionTreeClassifier(max_depth=1)\n",
    "        self.base_estimator = base_estimator\n",
    "        self.estimator_errors_ = []\n",
    "        self.observation_weights_ = {}\n",
    "\n",
    "    def fit(self, df: pd.DataFrame, X_columns: str, y_column: str):\n",
    "        \"\"\"\n",
    "        param df: Training dataframe with shape (n_samples, )\n",
    "        param X_columns: pattern matching DataFrame column names that contain the features\n",
    "        param y_column: name of DataFrame column name with the labels\n",
    "        \"\"\"        \n",
    "        \n",
    "        # Class labels mapping to indices\n",
    "        self.createLabelDict(np.unique(df[y_column]))\n",
    "        k = len(self.classes)\n",
    "        # `undersampling_n` elements to sample from each class, equal #samples minority class\n",
    "        undersampling_n = min(df[y_column].value_counts())\n",
    "\n",
    "        # Initialize observation weights as 1/(N*(k-1)) where N is total `n_samples` and k is the number of classes\n",
    "        N = df.shape[0]\n",
    "        B = N*(k-1)\n",
    "        D = {epoch: np.full(k-1,1/B) for epoch in df.index}\n",
    "\n",
    "        # Get whole dataset samples to later calculate the weighting factors on every iteration\n",
    "        X = df.filter(regex=(X_columns)).values\n",
    "        y = df[y_column].values\n",
    "        iTL = np.vectorize(labelToIndex)\n",
    "        y_indices = iTL(y,self)\n",
    "        \n",
    "        # M iterations (#WeakLearners)\n",
    "        for m in range(self.n_estimators):\n",
    "\n",
    "        # 1) Random UnderSampling\n",
    "            df_ = pd.DataFrame()\n",
    "            for label_ in self.classes:\n",
    "                _df_label_ = df[ df[y_column]==label_ ]\n",
    "                if len(_df_label_) <= undersampling_n:\n",
    "                    df_ = pd.concat([ df_, df[ df[y_column]==label_ ] ])\n",
    "                else:\n",
    "                    # Order weights array in decreasing order to select the first `undersampling_n` elements\n",
    "                    _D_ = {epoch: weight for epoch, weight in D.items() if epoch in _df_label_.index}\n",
    "                    _D_ = [epoch for epoch,_ in sorted(_D_.items(), key = lambda x: sum(itemgetter(1)(x)), reverse = True)[:undersampling_n]]\n",
    "                    df_ = pd.concat([ df_, _df_label_.loc[_D_] ])\n",
    "\n",
    "            \n",
    "            # Training data initalization\n",
    "            X_ = df_.filter(regex=(X_columns)).values\n",
    "            y_ = df_[y_column].values\n",
    "            D_ = np.sum([D[epoch] for epoch in df_.index], axis=-1)\n",
    "\n",
    "        # 2) WeakLearner training\n",
    "            Gm = base.clone(self.base_estimator).\\\n",
    "                            fit(X_,y_,sample_weight=D_).predict_proba\n",
    "            self.models.append(Gm)\n",
    "        \n",
    "        # 3) Error-rate computation\n",
    "            predictions_proba = Gm(X)\n",
    "            sum_pseudolosses = 0\n",
    "            for i, epoch in enumerate(D.keys()):\n",
    "                k_index = 0\n",
    "                for cl in range(k):\n",
    "                    if cl != y_indices[i]:\n",
    "                        sum_pseudolosses += D[epoch][k_index]*(1-predictions_proba[i,y_indices[i]]+predictions_proba[i,cl])\n",
    "                        k_index += 1\n",
    "\n",
    "            error = 0.5 * sum_pseudolosses\n",
    "            self.estimator_errors_.append(error)\n",
    "        \n",
    "        # 4) WeakLearner weight for ensemble computation\n",
    "            BetaM = error/(1-error)\n",
    "            self.models[m] = (BetaM,Gm)\n",
    "\n",
    "        # 5) Observation weights update for next iteration with weights normalization\n",
    "            norm_ = 0\n",
    "            for i, epoch in enumerate(D.keys()):\n",
    "                k_index = 0\n",
    "                for cl in range(k):\n",
    "                    if cl != y_indices[i]:\n",
    "                        w_ = 0.5*(1+predictions_proba[i,y_indices[i]]-predictions_proba[i,cl])\n",
    "                        D[epoch][k_index] *= BetaM**(self.learning_rate*w_)\n",
    "                        norm_ += D[epoch][k_index]\n",
    "                        k_index += 1\n",
    "            for epoch in D.keys():\n",
    "                D[epoch] /= norm_\n",
    "\n",
    "        self.observation_weights_ = D\n",
    "        \n",
    "        return self\n",
    "            \n",
    "    def createLabelDict(self,classes):\n",
    "        self.labelDict = {}\n",
    "        self.classes = classes\n",
    "        for i,cl in enumerate(classes):\n",
    "            self.labelDict[cl] = i\n",
    "    \n",
    "    def predict(self,X):\n",
    "        sum_model_hypothesis = np.sum(np.stack([-np.log(Bm)*Gm(X) for Bm,Gm in self.models], axis=-1), axis=-1)\n",
    "        iTL = np.vectorize(indexToLabel)            \n",
    "        return iTL(np.argmax(sum_model_hypothesis,axis=1),self)"
   ]
  },
  {
   "cell_type": "markdown",
   "metadata": {
    "id": "Z8T8KoJtliq5",
    "jp-MarkdownHeadingCollapsed": true,
    "tags": []
   },
   "source": [
    "### **NO FEATURE ENGINEERING M2**"
   ]
  },
  {
   "cell_type": "code",
   "execution_count": 41,
   "metadata": {},
   "outputs": [
    {
     "name": "stdout",
     "output_type": "stream",
     "text": [
      "LINK 5\n",
      "M2 Implementation of MODIFIED RUSBoost\n",
      "\tLOS 1: Recall 95.64%\n",
      "\tLOS 2: Recall 0.0%\n",
      "\tLOS 3: Recall 0.0%\n",
      "\tLOS 4: Recall 9.4%\n",
      "\tLOS 5: Recall 0.0%\n",
      "\tLOS 6: Recall 0.0%\n",
      "LINK 6\n",
      "M2 Implementation of MODIFIED RUSBoost\n",
      "\tLOS 1: Recall 81.75%\n",
      "\tLOS 2: Recall 23.54%\n",
      "\tLOS 3: Recall 46.03%\n",
      "\tLOS 4: Recall 47.83%\n",
      "\tLOS 5: Recall 0.0%\n",
      "\tLOS 6: Recall 1.17%\n",
      "LINK 7\n",
      "M2 Implementation of MODIFIED RUSBoost\n",
      "\tLOS 1: Recall 91.03%\n",
      "\tLOS 2: Recall 0.0%\n",
      "\tLOS 3: Recall 0.0%\n",
      "\tLOS 4: Recall 0.11%\n",
      "\tLOS 5: Recall 0.0%\n",
      "\tLOS 6: Recall 0.0%\n",
      "LINK 8\n",
      "M2 Implementation of MODIFIED RUSBoost\n",
      "\tLOS 1: Recall 95.72%\n",
      "\tLOS 2: Recall 0.0%\n",
      "\tLOS 3: Recall 0.06%\n",
      "\tLOS 4: Recall 0.0%\n",
      "\tLOS 5: Recall 0.0%\n",
      "\tLOS 6: Recall 0.0%\n",
      "LINK 9\n",
      "M2 Implementation of MODIFIED RUSBoost\n",
      "\tLOS 1: Recall 97.59%\n",
      "\tLOS 2: Recall 1.03%\n",
      "\tLOS 3: Recall 0.0%\n",
      "\tLOS 4: Recall 0.0%\n",
      "\tLOS 5: Recall 0.0%\n",
      "\tLOS 6: Recall 0.0%\n",
      "LINK 10\n",
      "M2 Implementation of MODIFIED RUSBoost\n",
      "\tLOS 1: Recall 95.62%\n",
      "\tLOS 2: Recall 0.0%\n",
      "\tLOS 3: Recall 0.0%\n",
      "\tLOS 4: Recall 0.24%\n",
      "\tLOS 5: Recall 0.0%\n",
      "\tLOS 6: Recall 0.0%\n"
     ]
    }
   ],
   "source": [
    "for LINK in range(5,11):\n",
    "    print(f\"LINK {LINK}\")\n",
    "    filename = f'{ROOT}/models/ModifiedRUSBoost_{PREDICTED_MINUTES_AHEAD}m_M2_nofeat_link{LINK}.joblib'\n",
    "\n",
    "    model = ModifiedRUSBoostClassifier_(base_estimator=DecisionTreeClassifier(max_depth=3), n_estimators=60, learning_rate=0.3).fit(training_df[training_df['link_id'] == LINK], \"tt_arr$\", 'LOS_dep')\n",
    "    joblib.dump(model, filename)\n",
    "\n",
    "    for LOS in range(1,7):\n",
    "        X_test = validation_df[(validation_df['link_id'] == LINK) & (validation_df['LOS_dep'] == LOS)]['tt_arr'].values.reshape(-1, 1)\n",
    "        y_pred = model.predict(X_test)\n",
    "\n",
    "        score = metrics.recall_score([LOS]*len(y_pred), y_pred, average='micro')\n",
    "        print(f\"\\tLOS {LOS}: Recall {round(score*100, 2) }%\")"
   ]
  },
  {
   "cell_type": "markdown",
   "metadata": {
    "id": "mc6_lQUSsKiM",
    "jp-MarkdownHeadingCollapsed": true,
    "tags": []
   },
   "source": [
    "### **FEATURE ENGINEERING ADJACENT LINK INFORMATION**"
   ]
  },
  {
   "cell_type": "code",
   "execution_count": 42,
   "metadata": {},
   "outputs": [
    {
     "name": "stdout",
     "output_type": "stream",
     "text": [
      "LINK 5\n",
      "M2 Implementation of MODIFIED RUSBoost\n",
      "\tLOS 1: Recall 20.83%\n",
      "\tLOS 2: Recall 4.52%\n",
      "\tLOS 3: Recall 24.95%\n",
      "\tLOS 4: Recall 0.0%\n",
      "\tLOS 5: Recall 0.0%\n",
      "\tLOS 6: Recall 0.0%\n",
      "LINK 6\n",
      "M2 Implementation of MODIFIED RUSBoost\n",
      "\tLOS 1: Recall 18.48%\n",
      "\tLOS 2: Recall 54.24%\n",
      "\tLOS 3: Recall 81.02%\n",
      "\tLOS 4: Recall 0.0%\n",
      "\tLOS 5: Recall 39.65%\n",
      "\tLOS 6: Recall 0.0%\n",
      "LINK 7\n",
      "M2 Implementation of MODIFIED RUSBoost\n",
      "\tLOS 1: Recall 28.76%\n",
      "\tLOS 2: Recall 1.42%\n",
      "\tLOS 3: Recall 1.13%\n",
      "\tLOS 4: Recall 60.8%\n",
      "\tLOS 5: Recall 50.58%\n",
      "\tLOS 6: Recall 0.0%\n",
      "LINK 8\n",
      "M2 Implementation of MODIFIED RUSBoost\n",
      "\tLOS 1: Recall 92.43%\n",
      "\tLOS 2: Recall 0.08%\n",
      "\tLOS 3: Recall 0.0%\n",
      "\tLOS 4: Recall 0.0%\n",
      "\tLOS 5: Recall 0.0%\n",
      "\tLOS 6: Recall 0.0%\n",
      "LINK 9\n",
      "M2 Implementation of MODIFIED RUSBoost\n",
      "\tLOS 1: Recall 10.95%\n",
      "\tLOS 2: Recall 10.19%\n",
      "\tLOS 3: Recall 25.92%\n",
      "\tLOS 4: Recall 71.64%\n",
      "\tLOS 5: Recall 0.0%\n",
      "\tLOS 6: Recall 0.0%\n",
      "LINK 10\n",
      "M2 Implementation of MODIFIED RUSBoost\n",
      "\tLOS 1: Recall 94.02%\n",
      "\tLOS 2: Recall 0.0%\n",
      "\tLOS 3: Recall 0.0%\n",
      "\tLOS 4: Recall 0.04%\n",
      "\tLOS 5: Recall 0.07%\n",
      "\tLOS 6: Recall 0.0%\n"
     ]
    }
   ],
   "source": [
    "for LINK in range(5,11):\n",
    "    print(f\"LINK {LINK}\")\n",
    "    filename = f'{ROOT}/models/ModifiedRUSBoost_{PREDICTED_MINUTES_AHEAD}m_M2_adjacent_linkm_link{LINK}.joblib'\n",
    "\n",
    "    other_links = [5,6,7,8,9,10]; other_links.remove(LINK)\n",
    "    training_df_link = training_df.copy()\n",
    "    training_df_link = training_df_link[training_df_link['link_id'] == LINK]\n",
    "\n",
    "    for other_link in other_links:\n",
    "        training_df_link = pd.merge(training_df_link, training_df[training_df['link_id'] == other_link].filter(regex=(\"tt_ar[^-]+$\")), on=['date'], how='inner', suffixes=[None, f'_{other_link}'])\n",
    "\n",
    "    model = ModifiedRUSBoostClassifier_(base_estimator=DecisionTreeClassifier(max_depth=3), n_estimators=60, learning_rate=0.3).fit(training_df_link, \"tt_ar[^-]+$\", 'LOS_dep')\n",
    "    joblib.dump(model, filename)\n",
    "\n",
    "    for LOS in range(1,7):\n",
    "        validation_df_link = validation_df[(validation_df['link_id'] == LINK) & (validation_df['LOS_dep'] == LOS)].copy()\n",
    "        for other_link in other_links:\n",
    "            validation_df_link = pd.merge(validation_df_link, validation_df[validation_df['link_id'] == other_link].filter(regex=(\"tt_ar[^-]+$\")), on=['date'], how='inner', suffixes=[None, f'_{other_link}'])\n",
    "        X_test = validation_df_link.filter(regex=(\"tt_ar[^-]+$\")).values\n",
    "        y_pred = model.predict(X_test)\n",
    "\n",
    "        score = metrics.recall_score([LOS]*len(y_pred), y_pred, average='micro')\n",
    "        print(f\"\\tLOS {LOS}: Recall {round(score*100, 2) }%\")"
   ]
  },
  {
   "cell_type": "markdown",
   "metadata": {
    "id": "EizvT4LFMHFt",
    "jp-MarkdownHeadingCollapsed": true,
    "tags": []
   },
   "source": [
    "### **FEATURE ENGINEERING ADJACENT LINK INFORMATION + TEMPORAL INFORMATION (UP TO PREVIOUS 45MIN)**"
   ]
  },
  {
   "cell_type": "markdown",
   "metadata": {
    "id": "aXU1_hUvMHFu"
   },
   "source": [
    "*Features creation*\n",
    "\n",
    "For each link, the tt_arrival of the other links, covering the previous 50min from prediction time, are added as features. Therefore we will be using 60 features in total as maximum."
   ]
  },
  {
   "cell_type": "code",
   "execution_count": 43,
   "metadata": {
    "id": "pyAilkmPMMPb"
   },
   "outputs": [
    {
     "name": "stdout",
     "output_type": "stream",
     "text": [
      "USING PREVIOUS 45m INFORMATION\n",
      "LINK 5\n",
      "M2 Implementation of MODIFIED RUSBoost\n",
      "\tLOS 1: Recall 97.37%\n",
      "\tLOS 2: Recall 0.0%\n",
      "\tLOS 3: Recall 0.01%\n",
      "\tLOS 4: Recall 7.47%\n",
      "\tLOS 5: Recall 0.36%\n",
      "\tLOS 6: Recall 0.0%\n",
      "LINK 6\n",
      "M2 Implementation of MODIFIED RUSBoost\n",
      "\tLOS 1: Recall 14.95%\n",
      "\tLOS 2: Recall 66.08%\n",
      "\tLOS 3: Recall 76.78%\n",
      "\tLOS 4: Recall 0.0%\n",
      "\tLOS 5: Recall 0.0%\n",
      "\tLOS 6: Recall 0.0%\n",
      "LINK 7\n",
      "M2 Implementation of MODIFIED RUSBoost\n",
      "\tLOS 1: Recall 31.7%\n",
      "\tLOS 2: Recall 2.22%\n",
      "\tLOS 3: Recall 10.41%\n",
      "\tLOS 4: Recall 26.95%\n",
      "\tLOS 5: Recall 40.08%\n",
      "\tLOS 6: Recall 0.0%\n",
      "LINK 8\n",
      "M2 Implementation of MODIFIED RUSBoost\n",
      "\tLOS 1: Recall 92.09%\n",
      "\tLOS 2: Recall 0.08%\n",
      "\tLOS 3: Recall 0.0%\n",
      "\tLOS 4: Recall 0.0%\n",
      "\tLOS 5: Recall 0.0%\n",
      "\tLOS 6: Recall 0.0%\n",
      "LINK 9\n",
      "M2 Implementation of MODIFIED RUSBoost\n",
      "\tLOS 1: Recall 19.95%\n",
      "\tLOS 2: Recall 24.11%\n",
      "\tLOS 3: Recall 50.27%\n",
      "\tLOS 4: Recall 64.22%\n",
      "\tLOS 5: Recall 0.0%\n",
      "\tLOS 6: Recall 0.0%\n",
      "LINK 10\n",
      "M2 Implementation of MODIFIED RUSBoost\n",
      "\tLOS 1: Recall 97.27%\n",
      "\tLOS 2: Recall 0.0%\n",
      "\tLOS 3: Recall 0.0%\n",
      "\tLOS 4: Recall 0.0%\n",
      "\tLOS 5: Recall 0.0%\n",
      "\tLOS 6: Recall 0.0%\n"
     ]
    }
   ],
   "source": [
    "print(f'USING PREVIOUS {INPUT_MINUTES_BEFORE}m INFORMATION')\n",
    "for LINK in range(5,11):\n",
    "    print(f\"LINK {LINK}\")\n",
    "    filename = f'{ROOT}/models/ModifiedRUSBoost_{PREDICTED_MINUTES_AHEAD}m_M2_temp{INPUT_MINUTES_BEFORE}m_link{LINK}.joblib'\n",
    "\n",
    "    other_links = [5,6,7,8,9,10]; other_links.remove(LINK)\n",
    "    training_df_link = training_df.copy()\n",
    "    training_df_link = training_df_link[training_df_link['link_id'] == LINK]\n",
    "\n",
    "    for other_link in other_links:\n",
    "        training_df_link = pd.merge(training_df_link, training_df[training_df['link_id'] == other_link].filter(regex=(\"tt_arr.*\")), on=['date'], how='inner', suffixes=[None, f'_{other_link}'])\n",
    "\n",
    "    model = ModifiedRUSBoostClassifier_(base_estimator=DecisionTreeClassifier(max_depth=3), n_estimators=60, learning_rate=0.3).fit(training_df_link, \"tt_arr.*\", 'LOS_dep')\n",
    "    joblib.dump(model, filename)\n",
    "\n",
    "    for LOS in range(1,7):\n",
    "        validation_df_link = validation_df[(validation_df['link_id'] == LINK) & (validation_df['LOS_dep'] == LOS)].copy()\n",
    "        for other_link in other_links:\n",
    "            validation_df_link = pd.merge(validation_df_link, validation_df[validation_df['link_id'] == other_link].filter(regex=(\"tt_arr.*\")), on=['date'], how='inner', suffixes=[None, f'_{other_link}'])\n",
    "        X_test = validation_df_link.filter(regex=(\"tt_arr.*\")).values\n",
    "        y_pred = model.predict(X_test)\n",
    "\n",
    "        score = metrics.recall_score([LOS]*len(y_pred), y_pred, average='micro')\n",
    "        print(f\"\\tLOS {LOS}: Recall {round(score*100, 2) }%\")"
   ]
  },
  {
   "cell_type": "markdown",
   "metadata": {
    "id": "YdG4O3Ww2eoi",
    "tags": []
   },
   "source": [
    "# **LSTM**"
   ]
  },
  {
   "cell_type": "markdown",
   "metadata": {
    "id": "J_97Az6Ddwtq"
   },
   "source": [
    "Chosen number of LSTM units equal to number of classes to directly obtain number of classes predictions, and attach a same dimensionality Dense layer that combines each class prediction. This can be useful to compensate for possible class imbalance. https://tung2389.github.io/coding-note/unitslstm"
   ]
  },
  {
   "cell_type": "markdown",
   "metadata": {
    "id": "kXrhCdD6piR8",
    "tags": []
   },
   "source": [
    "### **NO FEATURE ENGINEERING**"
   ]
  },
  {
   "cell_type": "markdown",
   "metadata": {
    "id": "CvVzUnHs7h8s"
   },
   "source": [
    "**TRAIN or LOAD switch**"
   ]
  },
  {
   "cell_type": "code",
   "execution_count": 9,
   "metadata": {
    "id": "H0SB66O57h9M"
   },
   "outputs": [],
   "source": [
    "train_again = False"
   ]
  },
  {
   "cell_type": "code",
   "execution_count": null,
   "metadata": {
    "colab": {
     "base_uri": "https://localhost:8080/"
    },
    "id": "mA1Q8r2Apjki",
    "outputId": "5fdfac78-1485-4219-98d4-06b966e7b141"
   },
   "outputs": [
    {
     "name": "stdout",
     "output_type": "stream",
     "text": [
      "LINK 5\n",
      "17716/17716 [==============================] - 54s 3ms/step\n",
      "\tLOS 1: Recall 96.97%\n",
      "2564/2564 [==============================] - 9s 3ms/step\n",
      "\tLOS 2: Recall 41.61%\n",
      "1646/1646 [==============================] - 5s 3ms/step\n",
      "\tLOS 3: Recall 45.58%\n",
      "635/635 [==============================] - 2s 3ms/step\n",
      "\tLOS 4: Recall 15.32%\n",
      "322/322 [==============================] - 1s 3ms/step\n",
      "\tLOS 5: Recall 22.69%\n",
      "247/247 [==============================] - 1s 3ms/step\n",
      "\tLOS 6: Recall 58.86%\n",
      "LINK 6\n",
      "19746/19746 [==============================] - 65s 3ms/step\n",
      "\tLOS 1: Recall 98.71%\n",
      "1299/1299 [==============================] - 4s 3ms/step\n",
      "\tLOS 2: Recall 12.12%\n",
      "1464/1464 [==============================] - 5s 3ms/step\n",
      "\tLOS 3: Recall 66.77%\n",
      "425/425 [==============================] - 1s 3ms/step\n",
      "\tLOS 4: Recall 9.74%\n",
      "142/142 [==============================] - 0s 3ms/step\n",
      "\tLOS 5: Recall 15.19%\n",
      "54/54 [==============================] - 0s 4ms/step\n",
      "\tLOS 6: Recall 25.9%\n",
      "LINK 7\n",
      "19654/19654 [==============================] - 65s 3ms/step\n",
      "\tLOS 1: Recall 98.13%\n",
      "1942/1942 [==============================] - 6s 3ms/step\n",
      "\tLOS 2: Recall 33.6%\n",
      "1200/1200 [==============================] - 4s 3ms/step\n",
      "\tLOS 3: Recall 55.51%\n",
      "229/229 [==============================] - 1s 3ms/step\n",
      "\tLOS 4: Recall 3.38%\n",
      "81/81 [==============================] - 0s 3ms/step\n",
      "\tLOS 5: Recall 0.62%\n",
      "24/24 [==============================] - 0s 3ms/step\n",
      "\tLOS 6: Recall 13.61%\n",
      "LINK 8\n",
      "21741/21741 [==============================] - 70s 3ms/step\n",
      "\tLOS 1: Recall 99.63%\n",
      "408/408 [==============================] - 1s 4ms/step\n",
      "\tLOS 2: Recall 11.89%\n",
      "659/659 [==============================] - 2s 3ms/step\n",
      "\tLOS 3: Recall 69.62%\n",
      "176/176 [==============================] - 1s 3ms/step\n",
      "\tLOS 4: Recall 18.53%\n",
      "75/75 [==============================] - 0s 3ms/step\n",
      "\tLOS 5: Recall 5.21%\n",
      "72/72 [==============================] - 0s 3ms/step\n",
      "\tLOS 6: Recall 48.81%\n",
      "LINK 9\n",
      "20035/20035 [==============================] - 66s 3ms/step\n",
      "\tLOS 1: Recall 97.45%\n",
      "2461/2461 [==============================] - 8s 3ms/step\n",
      "\tLOS 2: Recall 55.34%\n",
      "521/521 [==============================] - 2s 3ms/step\n",
      "\tLOS 3: Recall 27.74%\n",
      "72/72 [==============================] - 0s 3ms/step\n",
      "\tLOS 4: Recall 11.56%\n",
      "30/30 [==============================] - 0s 3ms/step\n",
      "\tLOS 5: Recall 10.62%\n",
      "12/12 [==============================] - 0s 3ms/step\n",
      "\tLOS 6: Recall 0.0%\n",
      "LINK 10\n",
      "21211/21211 [==============================] - 68s 3ms/step\n",
      "\tLOS 1: Recall 99.35%\n",
      "673/673 [==============================] - 2s 3ms/step\n",
      "\tLOS 2: Recall 7.19%\n",
      "458/458 [==============================] - 1s 3ms/step\n",
      "\tLOS 3: Recall 30.89%\n",
      "338/338 [==============================] - 1s 3ms/step\n",
      "\tLOS 4: Recall 23.14%\n",
      "283/283 [==============================] - 1s 3ms/step\n",
      "\tLOS 5: Recall 47.82%\n",
      "168/168 [==============================] - 1s 3ms/step\n",
      "\tLOS 6: Recall 47.08%\n"
     ]
    }
   ],
   "source": [
    "for LINK in range(5,11):\n",
    "    print(f\"LINK {LINK}\")\n",
    "    \n",
    "    X = training_df[training_df['link_id'] == LINK].filter(regex=(\"tt_arr.*\")).values\n",
    "    #Correctly order the sequence [X(t-N),...,X(t)]\n",
    "    X = np.flip(X, 1)\n",
    "    # Min-Max Scaling\n",
    "    sc = preprocessing.MinMaxScaler().fit(np.array([[X[:,-1].max()]*X.shape[1], [X[:,-1].min()]*X.shape[1]]))\n",
    "    \n",
    "    y = training_df[training_df['link_id'] == LINK]['LOS_dep'].values\n",
    "    y = np.expand_dims(y, axis=1)\n",
    "\n",
    "    onehot_encoder = preprocessing.OneHotEncoder()\n",
    "    y = onehot_encoder.fit_transform(y).toarray()\n",
    "    \n",
    "    if train_again:\n",
    "        X = sc.transform(X)\n",
    "        X = np.expand_dims(X, axis=2)\n",
    "\n",
    "        # build the model\n",
    "        num_features = X.shape[2]\n",
    "        num_out = y.shape[1]\n",
    "\n",
    "        model = keras.models.Sequential()\n",
    "\n",
    "        model.add(keras.layers.LSTM(\n",
    "                input_shape=(int(INPUT_MINUTES_BEFORE/5)+1, num_features),\n",
    "                units=64-num_features,\n",
    "                return_sequences=False))\n",
    "        model.add(keras.layers.Dropout(0.2))\n",
    "\n",
    "        model.add(keras.layers.Dense(units=num_out, activation='softmax'))\n",
    "\n",
    "        model.compile(loss='categorical_crossentropy', optimizer='adam', metrics=['accuracy'])\n",
    "\n",
    "        model.fit(X, y, epochs=10, batch_size=256, validation_split=0, verbose=0)\n",
    "\n",
    "        model.save(f'{ROOT}/models/LSTM_{PREDICTED_MINUTES_AHEAD}m_horizon_{INPUT_MINUTES_BEFORE}m_nofeat_link{LINK}.h5')\n",
    "    \n",
    "    else:\n",
    "        model = keras.models.load_model(f'{ROOT}/models/LSTM_{PREDICTED_MINUTES_AHEAD}m_horizon_{INPUT_MINUTES_BEFORE}m_nofeat_link{LINK}.h5')\n",
    "    \n",
    "    for LOS in range(1,7):\n",
    "        X_test = sc.transform( validation_df[(validation_df['link_id'] == LINK) & (validation_df['LOS_dep'] == LOS)].filter(regex=(\"tt_arr.*\")).values )\n",
    "        X_test = np.flip(X_test, 1)\n",
    "        X_test = np.expand_dims(X_test, axis=2)\n",
    "        y_pred = model.predict(X_test)\n",
    "        y_pred = onehot_encoder.inverse_transform(y_pred)\n",
    "\n",
    "        score = metrics.recall_score([LOS]*len(y_pred), y_pred, average='micro')\n",
    "        print(f\"\\tLOS {LOS}: Recall {round(score*100, 2) }%\")\n",
    "\n",
    "    del model\n",
    "    gc.collect()"
   ]
  },
  {
   "cell_type": "markdown",
   "metadata": {
    "id": "v4hiITcW2eoj",
    "tags": []
   },
   "source": [
    "### **FEATURE ENGINEERING ADJACENT LINK INFORMATION**"
   ]
  },
  {
   "cell_type": "markdown",
   "metadata": {
    "id": "8fYb-uhw60Gr"
   },
   "source": [
    "**TRAIN or LOAD switch**"
   ]
  },
  {
   "cell_type": "code",
   "execution_count": null,
   "metadata": {
    "id": "R_QtgDIsA2nY"
   },
   "outputs": [],
   "source": [
    "train_again = False"
   ]
  },
  {
   "cell_type": "code",
   "execution_count": 6,
   "metadata": {
    "colab": {
     "base_uri": "https://localhost:8080/"
    },
    "id": "yoXuuTvqA-l9",
    "outputId": "d4157ab8-acf7-4814-962c-1eb17511a098"
   },
   "outputs": [
    {
     "name": "stdout",
     "output_type": "stream",
     "text": [
      "LINK 5\n",
      "23129/23129 [==============================] - 59s 3ms/step\n",
      "\tLOS 1: Recall 82.83%\n",
      "23129/23129 [==============================] - 59s 3ms/step\n",
      "\tLOS 2: Recall 7.17%\n",
      "23129/23129 [==============================] - 59s 3ms/step\n",
      "\tLOS 3: Recall 6.94%\n",
      "23129/23129 [==============================] - 59s 3ms/step\n",
      "\tLOS 4: Recall 1.47%\n",
      "23129/23129 [==============================] - 59s 3ms/step\n",
      "\tLOS 5: Recall 0.93%\n",
      "23129/23129 [==============================] - 59s 3ms/step\n",
      "\tLOS 6: Recall 0.66%\n",
      "LINK 6\n",
      "23129/23129 [==============================] - 60s 3ms/step\n",
      "\tLOS 1: Recall 90.56%\n",
      "23129/23129 [==============================] - 59s 3ms/step\n",
      "\tLOS 2: Recall 1.53%\n",
      "23129/23129 [==============================] - 59s 3ms/step\n",
      "\tLOS 3: Recall 6.83%\n",
      "23129/23129 [==============================] - 59s 3ms/step\n",
      "\tLOS 4: Recall 0.65%\n",
      "23129/23129 [==============================] - 59s 3ms/step\n",
      "\tLOS 5: Recall 0.34%\n",
      "23129/23129 [==============================] - 59s 3ms/step\n",
      "\tLOS 6: Recall 0.08%\n",
      "LINK 7\n",
      "23129/23129 [==============================] - 62s 3ms/step\n",
      "\tLOS 1: Recall 88.71%\n",
      "23129/23129 [==============================] - 61s 3ms/step\n",
      "\tLOS 2: Recall 4.97%\n",
      "23129/23129 [==============================] - 61s 3ms/step\n",
      "\tLOS 3: Recall 6.11%\n",
      "23129/23129 [==============================] - 62s 3ms/step\n",
      "\tLOS 4: Recall 0.09%\n",
      "23129/23129 [==============================] - 62s 3ms/step\n",
      "\tLOS 5: Recall 0.08%\n",
      "23129/23129 [==============================] - 62s 3ms/step\n",
      "\tLOS 6: Recall 0.04%\n",
      "LINK 8\n",
      "23129/23129 [==============================] - 63s 3ms/step\n",
      "\tLOS 1: Recall 95.34%\n",
      "23129/23129 [==============================] - 62s 3ms/step\n",
      "\tLOS 2: Recall 1.04%\n",
      "23129/23129 [==============================] - 63s 3ms/step\n",
      "\tLOS 3: Recall 2.64%\n",
      "23129/23129 [==============================] - 63s 3ms/step\n",
      "\tLOS 4: Recall 0.42%\n",
      "23129/23129 [==============================] - 62s 3ms/step\n",
      "\tLOS 5: Recall 0.11%\n",
      "23129/23129 [==============================] - 64s 3ms/step\n",
      "\tLOS 6: Recall 0.46%\n",
      "LINK 9\n",
      "23129/23129 [==============================] - 63s 3ms/step\n",
      "\tLOS 1: Recall 88.92%\n",
      "23129/23129 [==============================] - 64s 3ms/step\n",
      "\tLOS 2: Recall 9.6%\n",
      "23129/23129 [==============================] - 64s 3ms/step\n",
      "\tLOS 3: Recall 1.23%\n",
      "23129/23129 [==============================] - 65s 3ms/step\n",
      "\tLOS 4: Recall 0.21%\n",
      "23129/23129 [==============================] - 65s 3ms/step\n",
      "\tLOS 5: Recall 0.04%\n",
      "23129/23129 [==============================] - 65s 3ms/step\n",
      "\tLOS 6: Recall 0.0%\n",
      "LINK 10\n",
      "23129/23129 [==============================] - 63s 3ms/step\n",
      "\tLOS 1: Recall 94.62%\n",
      "23129/23129 [==============================] - 66s 3ms/step\n",
      "\tLOS 2: Recall 0.7%\n",
      "23129/23129 [==============================] - 66s 3ms/step\n",
      "\tLOS 3: Recall 1.65%\n",
      "23129/23129 [==============================] - 64s 3ms/step\n",
      "\tLOS 4: Recall 1.25%\n",
      "23129/23129 [==============================] - 64s 3ms/step\n",
      "\tLOS 5: Recall 1.21%\n",
      "23129/23129 [==============================] - 65s 3ms/step\n",
      "\tLOS 6: Recall 0.57%\n"
     ]
    }
   ],
   "source": [
    "for LINK in range(5,11):\n",
    "    print(f\"LINK {LINK}\")\n",
    "    other_links = [5,6,7,8,9,10]; other_links.remove(LINK)\n",
    "\n",
    "    X = training_df[training_df['link_id'] == LINK].filter(regex=(\"tt_arr.*\")).values\n",
    "    # Min-Max Scaling per Link\n",
    "    sc = {}\n",
    "    sc[LINK] = preprocessing.MinMaxScaler().fit(np.array([[X[:,0].max()]*X.shape[1], [X[:,0].min()]*X.shape[1]]))\n",
    "    X = sc[LINK].transform(X)\n",
    "    X = np.expand_dims(X, axis=2)\n",
    "\n",
    "    for other_link in other_links:\n",
    "        temp = training_df[training_df['link_id'] == other_link].filter(regex=(\"tt_arr.*\")).values\n",
    "        sc[other_link] = preprocessing.MinMaxScaler().fit(np.array([[temp[:,0].max()]*temp.shape[1], [temp[:,0].min()]*temp.shape[1]]))\n",
    "        temp = sc[other_link].transform(temp)\n",
    "        X = np.concatenate( (X, np.expand_dims(temp, axis=2)) , axis=2)\n",
    "    #Correctly order the sequence [X(t-N),...,X(t)]\n",
    "    X = np.flip(X, 1)\n",
    "    \n",
    "    y = training_df[training_df['link_id'] == LINK]['LOS_dep'].values\n",
    "    y = np.expand_dims(y, axis=1)\n",
    "\n",
    "    onehot_encoder = preprocessing.OneHotEncoder()\n",
    "    y = onehot_encoder.fit_transform(y).toarray()\n",
    "        \n",
    "    if train_again:\n",
    "        # build the model\n",
    "        num_features = X.shape[2]\n",
    "        num_out = y.shape[1]\n",
    "\n",
    "        model = keras.models.Sequential()\n",
    "\n",
    "        model.add(keras.layers.LSTM(\n",
    "                input_shape=(int(INPUT_MINUTES_BEFORE/5)+1, num_features),\n",
    "                units=64-num_features,\n",
    "                return_sequences=False))\n",
    "        model.add(keras.layers.Dropout(0.2))\n",
    "\n",
    "        model.add(keras.layers.Dense(units=num_out, activation='softmax'))\n",
    "\n",
    "        model.compile(loss='categorical_crossentropy', optimizer='adam', metrics=['accuracy'])\n",
    "\n",
    "        model.fit(X, y, epochs=10, batch_size=256, validation_split=0, verbose=0)\n",
    "\n",
    "        model.save(f'{ROOT}/models/LSTM_{PREDICTED_MINUTES_AHEAD}m_horizon_{INPUT_MINUTES_BEFORE}m_adjacent_link{LINK}.h5')\n",
    "    \n",
    "    else:\n",
    "        model = keras.models.load_model(f'{ROOT}/models/LSTM_{PREDICTED_MINUTES_AHEAD}m_horizon_{INPUT_MINUTES_BEFORE}m_adjacent_link{LINK}.h5')\n",
    "    \n",
    "    for LOS in range(1,7):        \n",
    "        X_test = sc[LINK].transform( validation_df[validation_df['link_id'] == LINK].filter(regex=(\"tt_arr.*\")).values )\n",
    "        X_test = np.expand_dims(X_test, axis=2)\n",
    "\n",
    "        for other_link in other_links:\n",
    "            temp = validation_df[validation_df['link_id'] == other_link].filter(regex=(\"tt_arr.*\")).values\n",
    "            temp = sc[other_link].transform(temp)\n",
    "            X_test = np.concatenate( (X_test, np.expand_dims(temp, axis=2)) , axis=2)\n",
    "        X_test = np.flip(X_test, 1)\n",
    "        y_pred = model.predict(X_test)\n",
    "        y_pred = onehot_encoder.inverse_transform(y_pred)\n",
    "\n",
    "        score = metrics.recall_score([LOS]*len(y_pred), y_pred, average='micro')\n",
    "        print(f\"\\tLOS {LOS}: Recall {round(score*100, 2) }%\")\n",
    "\n",
    "    del model\n",
    "    gc.collect()"
   ]
  },
  {
   "cell_type": "markdown",
   "metadata": {
    "id": "Xl4PkY479EXD"
   },
   "source": [
    "### **FEATURE ENGINEERING CLASS BALANCING BY RUS**"
   ]
  },
  {
   "cell_type": "markdown",
   "metadata": {
    "id": "OPv4d6drm3P9"
   },
   "source": [
    "https://machinelearningmastery.com/gentle-introduction-mini-batch-gradient-descent-configure-batch-size/\n",
    "Stochastic Gradient descent increases variance but avoids local minima. A Boosting of high variance LSTM can reduce this variance."
   ]
  },
  {
   "cell_type": "markdown",
   "metadata": {
    "id": "LOIbBK0pdwtr",
    "jp-MarkdownHeadingCollapsed": true,
    "tags": []
   },
   "source": [
    "# **LSTM Stacked**"
   ]
  },
  {
   "cell_type": "markdown",
   "metadata": {
    "id": "qFUkrQCIdwtr"
   },
   "source": [
    "Determine number of hidden units in first LSTM (don't want to sparse the hidden units space much more than the features space)\n",
    "units = highestPowerof2(num_features+1)"
   ]
  },
  {
   "cell_type": "code",
   "execution_count": null,
   "metadata": {
    "id": "j5ZkoH8ydwtr"
   },
   "outputs": [],
   "source": [
    "def highestPowerof2(n):\n",
    "    for i in range(n, 0, -1):\n",
    "        if ((i & (i - 1)) == 0): return i;"
   ]
  },
  {
   "cell_type": "markdown",
   "metadata": {
    "id": "S-XBUKOydwtr"
   },
   "source": [
    "## **NO FEATURE ENGINEERING**"
   ]
  },
  {
   "cell_type": "markdown",
   "metadata": {
    "id": "i_mfCQI7dwtr"
   },
   "source": [
    "**TRAIN or LOAD switch**"
   ]
  },
  {
   "cell_type": "code",
   "execution_count": null,
   "metadata": {
    "id": "tMh1maWQdwtr"
   },
   "outputs": [],
   "source": [
    "train_again = False"
   ]
  },
  {
   "cell_type": "code",
   "execution_count": null,
   "metadata": {
    "id": "WMuXd4TIdwtr"
   },
   "outputs": [],
   "source": [
    "for LINK in range(5,11):\n",
    "    print(f\"LINK {LINK}\")\n",
    "    \n",
    "    X = training_df[training_df['link_id'] == LINK].filter(regex=(\"tt_arr.*\")).values\n",
    "    # Min-Max Scaling\n",
    "    sc = preprocessing.MinMaxScaler().fit(np.array([[X[:,0].max()]*X.shape[1], [X[:,0].min()]*X.shape[1]]))\n",
    "    \n",
    "    if train_again:\n",
    "        X = sc.transform(X)\n",
    "        X = np.expand_dims(X, axis=2)\n",
    "        print(f'Size of training data array {X.shape}')\n",
    "        y = training_df[training_df['link_id'] == LINK]['LOS_dep'].values\n",
    "        y = np.expand_dims(y, axis=1)\n",
    "        \n",
    "        onehot_encoder = preprocessing.OneHotEncoder()\n",
    "        y = onehot_encoder.fit_transform(y).toarray()\n",
    "        print(f'Size of training labels {y.shape}')\n",
    "\n",
    "        # build the model\n",
    "        num_features = X.shape[2]\n",
    "        num_out = y.shape[1]\n",
    "\n",
    "        model = keras.models.Sequential()\n",
    "\n",
    "        model.add(keras.layers.LSTM(\n",
    "                input_shape=(int(INPUT_MINUTES_BEFORE/5)+1, num_features),\n",
    "                units=highestPowerof2(num_features+1),\n",
    "                return_sequences=True))\n",
    "        model.add(keras.layers.Dropout(0.2))\n",
    "\n",
    "        model.add(keras.layers.LSTM(\n",
    "                units=num_out,\n",
    "                return_sequences=False))\n",
    "        model.add(keras.layers.Dropout(0.2))\n",
    "\n",
    "        model.add(keras.layers.Dense(units=num_out, activation='softmax'))\n",
    "\n",
    "        model.compile(loss='categorical_crossentropy', optimizer='adam', metrics=['accuracy'])\n",
    "\n",
    "        model.fit(X, y, epochs=10, batch_size=500, validation_split=0, verbose=0)\n",
    "\n",
    "        model.save(f'{ROOT}/models/LSTM_Stacked_{PREDICTED_MINUTES_AHEAD}m_horizon_{INPUT_MINUTES_BEFORE}m_nofeat_link{LINK}.h5')\n",
    "    \n",
    "    else:\n",
    "        model = keras.models.load_model(f'{ROOT}/models/LSTM_Stacked_{PREDICTED_MINUTES_AHEAD}m_horizon_{INPUT_MINUTES_BEFORE}m_nofeat_link{LINK}.h5')\n",
    "    \n",
    "    for LOS in range(1,7):\n",
    "        X_test = sc.transform( validation_df[(validation_df['link_id'] == LINK) & (validation_df['LOS_dep'] == LOS)].filter(regex=(\"tt_arr.*\")).values )\n",
    "        X_test = np.expand_dims(X_test, axis=2)\n",
    "        y_pred = model.predict(X_test)\n",
    "        y_pred = onehot_encoder.inverse_transform(y_pred)\n",
    "\n",
    "        score = metrics.recall_score([LOS]*len(y_pred), y_pred, average='micro')\n",
    "        print(f\"\\tLOS {LOS}: Recall {round(score*100, 2) }%\")\n",
    "\n",
    "    del model\n",
    "    gc.collect()"
   ]
  },
  {
   "cell_type": "markdown",
   "metadata": {
    "id": "CSV6kOdGdwtr"
   },
   "source": [
    "### **FEATURE ENGINEERING ADJACENT LINK INFORMATION**"
   ]
  },
  {
   "cell_type": "markdown",
   "metadata": {
    "id": "51kHKIKjdwtr"
   },
   "source": [
    "**TRAIN or LOAD switch**"
   ]
  },
  {
   "cell_type": "code",
   "execution_count": null,
   "metadata": {
    "id": "XjfBKxitdwtr"
   },
   "outputs": [],
   "source": [
    "train_again = False"
   ]
  },
  {
   "cell_type": "code",
   "execution_count": null,
   "metadata": {
    "id": "JFUBi3K9dwts"
   },
   "outputs": [],
   "source": [
    "for LINK in range(5,11):\n",
    "    print(f\"LINK {LINK}\")\n",
    "    other_links = [5,6,7,8,9,10]; other_links.remove(LINK)\n",
    "\n",
    "    X = training_df[training_df['link_id'] == LINK].filter(regex=(\"tt_arr.*\")).values\n",
    "    # Min-Max Scaling per Link\n",
    "    sc = {}\n",
    "    sc[LINK] = preprocessing.MinMaxScaler().fit(np.array([[X[:,0].max()]*X.shape[1], [X[:,0].min()]*X.shape[1]]))\n",
    "    X = sc[LINK].transform(X)\n",
    "    X = np.expand_dims(X, axis=2)\n",
    "\n",
    "    for other_link in other_links:\n",
    "        temp = training_df[training_df['link_id'] == other_link].filter(regex=(\"tt_arr.*\")).values\n",
    "        sc[other_link] = preprocessing.MinMaxScaler().fit(np.array([[temp[:,0].max()]*temp.shape[1], [temp[:,0].min()]*temp.shape[1]]))\n",
    "        temp = sc[other_link].transform(temp)\n",
    "        X = np.concatenate( (X, np.expand_dims(temp, axis=2)) , axis=2)\n",
    "        \n",
    "    if train_again:\n",
    "        print(f'Size of training data array {X.shape}')\n",
    "        y = training_df[training_df['link_id'] == LINK]['LOS_dep'].values\n",
    "        y = np.expand_dims(y, axis=1)\n",
    "        \n",
    "        onehot_encoder = preprocessing.OneHotEncoder()\n",
    "        y = onehot_encoder.fit_transform(y).toarray()\n",
    "        print(f'Size of training labels {y.shape}')\n",
    "\n",
    "        # build the model\n",
    "        num_features = X.shape[2]\n",
    "        num_out = y.shape[1]\n",
    "\n",
    "        model = keras.models.Sequential()\n",
    "        \n",
    "        model.add(keras.layers.LSTM(\n",
    "                input_shape=(int(INPUT_MINUTES_BEFORE/5)+1, num_features),\n",
    "                units=highestPowerof2(num_features+1),\n",
    "                return_sequences=True))\n",
    "        model.add(keras.layers.Dropout(0.2))\n",
    "\n",
    "        model.add(keras.layers.LSTM(\n",
    "                units=num_out,\n",
    "                return_sequences=False))\n",
    "        model.add(keras.layers.Dropout(0.2))\n",
    "\n",
    "        model.add(keras.layers.Dense(units=num_out, activation='softmax'))\n",
    "\n",
    "        model.compile(loss='categorical_crossentropy', optimizer='adam', metrics=['accuracy'])\n",
    "\n",
    "        model.fit(X, y, epochs=10, batch_size=500, validation_split=0, verbose=1)\n",
    "\n",
    "        model.save(f'{ROOT}/models/LSTM_Stacked_{PREDICTED_MINUTES_AHEAD}m_horizon_{INPUT_MINUTES_BEFORE}m_adjacent_link{LINK}.h5')\n",
    "    \n",
    "    else:\n",
    "        model = keras.models.load_model(f'{ROOT}/models/LSTM_Stacked_{PREDICTED_MINUTES_AHEAD}m_horizon_{INPUT_MINUTES_BEFORE}m_adjacent_link{LINK}.h5')\n",
    "    \n",
    "    for LOS in range(1,7):        \n",
    "        X_test = sc[LINK].transform( validation_df[validation_df['link_id'] == LINK].filter(regex=(\"tt_arr.*\")).values )\n",
    "        X_test = np.expand_dims(X_test, axis=2)\n",
    "\n",
    "        for other_link in other_links:\n",
    "            temp = validation_df[validation_df['link_id'] == other_link].filter(regex=(\"tt_arr.*\")).values\n",
    "            temp = sc[other_link].transform(temp)\n",
    "            X_test = np.concatenate( (X_test, np.expand_dims(temp, axis=2)) , axis=2)\n",
    "        y_pred = model.predict(X_test)\n",
    "        y_pred = onehot_encoder.inverse_transform(y_pred)\n",
    "\n",
    "        score = metrics.recall_score([LOS]*len(y_pred), y_pred, average='micro')\n",
    "        print(f\"\\tLOS {LOS}: Recall {round(score*100, 2) }%\")\n",
    "\n",
    "    del model\n",
    "    gc.collect()"
   ]
  },
  {
   "cell_type": "markdown",
   "metadata": {
    "jp-MarkdownHeadingCollapsed": true,
    "tags": []
   },
   "source": [
    "# **LSTM RUSBoost**"
   ]
  },
  {
   "cell_type": "markdown",
   "metadata": {
    "jp-MarkdownHeadingCollapsed": true,
    "tags": []
   },
   "source": [
    "### *Algorithms*"
   ]
  },
  {
   "cell_type": "markdown",
   "metadata": {},
   "source": [
    "**Algorithm implementation M2**"
   ]
  },
  {
   "cell_type": "code",
   "execution_count": 4,
   "metadata": {},
   "outputs": [],
   "source": [
    "def labelToIndex(cl,clf):\n",
    "    return clf.labelDict[cl]\n",
    "\n",
    "def indexToLabel(i,clf):\n",
    "    return clf.classes[i]\n",
    "\n",
    "class LSTMRUSBoostClassifier_:\n",
    "    \n",
    "    def __init__(self, sequence_length: int, n_lstm=50, learning_rate=1.0):\n",
    "        \"\"\"\n",
    "        param sequence_length: Length of each feature sequence. sequence_length = N in the feature sample [x(t),...,x(t-N)]\n",
    "        \"\"\"\n",
    "        print(\"M2 Implementation of LSTM RUSBoost\")\n",
    "        self.n_lstm = n_lstm\n",
    "        self.learning_rate = learning_rate\n",
    "        self.models = []\n",
    "        self.scaler = []\n",
    "        self.onehot_encoder = preprocessing.OneHotEncoder\n",
    "        self.sequence_length = sequence_length\n",
    "        self.estimator_errors_ = []\n",
    "        self.observation_weights_ = {}\n",
    "\n",
    "    def fit(self, df: pd.DataFrame, X_columns: str, y_column: str):\n",
    "        \"\"\"\n",
    "        param df: Training dataframe with shape (n_samples, ). Sample sequence order is expected to be received as [x(t),...,x(t-N)]\n",
    "        param X_columns: pattern matching DataFrame column names that contain the features\n",
    "        param y_column: name of DataFrame column name with the labels\n",
    "        \"\"\"        \n",
    "        \n",
    "        # Class labels mapping to internal indices ('lab1'->0, 'lab2'->1,...'labN'->N)\n",
    "        self.createLabelDict(np.unique(df[y_column]))\n",
    "        # `undersampling_n` elements to sample from each class, equal #samples minority class\n",
    "        undersampling_n = min(df[y_column].value_counts())\n",
    "\n",
    "        # Initialize observation weights as 1/(N*(k-1)) where N is total `n_samples` and k is the number of classes\n",
    "        N = df.shape[0]\n",
    "        k = len(self.classes)\n",
    "        B = N*(k-1)\n",
    "        D = {epoch: np.full(k-1,1/B) for epoch in df.index}\n",
    "\n",
    "        # Get whole dataset samples to later calculate the weighting factors on every iteration\n",
    "        X = df.filter(regex=(X_columns)).values\n",
    "        if X.shape[1] == self.sequence_length:\n",
    "            X = np.expand_dims(X, axis=2)\n",
    "        elif X.shape[1] % self.sequence_length == 0:\n",
    "            X = X.reshape((X.shape[0],self.sequence_length,int(X.shape[0]/self.sequence_length)), order='F')\n",
    "        else:\n",
    "            print(\"The length of all feature sequences must be the same\")\n",
    "        #Correctly order the sequence [X(t-N),...,X(t)]\n",
    "        X = np.flip(X, 1)\n",
    "\n",
    "        # Initialize input scaler for each feature\n",
    "        for feature in range(X.shape[2]):\n",
    "            self.scaler.append( preprocessing.MinMaxScaler().fit(np.array([[X[:,-1,feature].max()]*self.sequence_length, [X[:,-1,feature].min()]*self.sequence_length])) )\n",
    "            X[:,:,feature] = self.scaler[feature].transform(X[:,:,feature])\n",
    "        \n",
    "        # Initialize output one-hot vector encoder\n",
    "        y = df[y_column].values\n",
    "        iTL = np.vectorize(labelToIndex)\n",
    "        y_indices = iTL(y,self)\n",
    "        self.onehot_encoder = self.onehot_encoder().fit(np.expand_dims(y, axis=1))\n",
    "        \n",
    "        # M iterations (#WeakLearners)\n",
    "        for m in range(self.n_lstm):\n",
    "\n",
    "        # 1) Random UnderSampling\n",
    "            df_ = pd.DataFrame()\n",
    "            for label_ in self.classes:\n",
    "                df_ = pd.concat([ df_, df[ df[y_column]==label_ ].sample(undersampling_n, replace=False) ])\n",
    "            \n",
    "            # Training data initalization\n",
    "            X_ = df_.filter(regex=(X_columns)).values\n",
    "            if X_.shape[1] == self.sequence_length:\n",
    "                X_ = np.expand_dims(X_, axis=2)\n",
    "            elif X_.shape[1] % self.sequence_length == 0:\n",
    "                X_ = X_.reshape((X_.shape[0],self.sequence_length,int(X_.shape[0]/self.sequence_length)), order='F')\n",
    "            # Scale inputs\n",
    "            for feature in range(X_.shape[2]):\n",
    "                X_[:,:,feature] = self.scaler[feature].transform(X_[:,:,feature])\n",
    "            #Correctly order the sequence [X(t-N),...,X(t)]\n",
    "            X_ = np.flip(X_, 1)\n",
    "\n",
    "            y_ = df_[y_column].values\n",
    "            y_ = self.onehot_encoder.transform(np.expand_dims(y_, axis=1)).toarray()\n",
    "            D_ = np.sum([D[epoch] for epoch in df_.index], axis=-1)\n",
    "\n",
    "        # 2) LSTM training\n",
    "            num_features = X_.shape[2]\n",
    "            num_out = y_.shape[1]\n",
    "\n",
    "            model = keras.models.Sequential()\n",
    "\n",
    "            model.add(keras.layers.LSTM(\n",
    "                    input_shape=(self.sequence_length, num_features),\n",
    "                    units=32,\n",
    "                    return_sequences=False))\n",
    "            model.add(keras.layers.Dropout(0.2))\n",
    "\n",
    "            model.add(keras.layers.Dense(units=num_out, activation='softmax'))\n",
    "\n",
    "            model.compile(loss='categorical_crossentropy', optimizer='adam', metrics=['accuracy'])\n",
    "            model.fit(X_, y_, sample_weight=D_, epochs=5, batch_size=32, validation_split=0, verbose=0)\n",
    "        \n",
    "        # 3) Error-rate computation\n",
    "            predictions_proba = model.predict(X,verbose=None)\n",
    "            sum_pseudolosses = 0\n",
    "            for i, epoch in enumerate(D.keys()):\n",
    "                k_index = 0\n",
    "                for cl in range(k):\n",
    "                    if cl != y_indices[i]:\n",
    "                        sum_pseudolosses += D[epoch][k_index]*(1-predictions_proba[i,y_indices[i]]+predictions_proba[i,cl])\n",
    "                        k_index += 1\n",
    "\n",
    "            error = 0.5 * sum_pseudolosses\n",
    "            self.estimator_errors_.append(error)\n",
    "        \n",
    "        # 4) WeakLearner weight for ensemble computation\n",
    "            BetaM = error/(1-error)\n",
    "            self.models.append( (BetaM,model.predict) )\n",
    "\n",
    "        # 5) Observation weights update for next iteration with weights normalization\n",
    "            norm_ = 0\n",
    "            for i, epoch in enumerate(D.keys()):\n",
    "                k_index = 0\n",
    "                for cl in range(k):\n",
    "                    if cl != y_indices[i]:\n",
    "                        w_ = 0.5*(1+predictions_proba[i,y_indices[i]]-predictions_proba[i,cl])\n",
    "                        D[epoch][k_index] *= BetaM**(self.learning_rate*w_)\n",
    "                        norm_ += D[epoch][k_index]\n",
    "                        k_index += 1\n",
    "            for epoch in D.keys():\n",
    "                D[epoch] /= norm_\n",
    "\n",
    "        self.observation_weights_ = D\n",
    "        \n",
    "        return self\n",
    "            \n",
    "    def createLabelDict(self,classes):\n",
    "        self.labelDict = {}\n",
    "        self.classes = classes\n",
    "        for i,cl in enumerate(classes):\n",
    "            self.labelDict[cl] = i\n",
    "    \n",
    "    def predict(self,X):\n",
    "        if X.shape[1] == self.sequence_length:\n",
    "            X = np.expand_dims(X, axis=2)\n",
    "        elif X.shape[1] % self.sequence_length == 0:\n",
    "            X = X.reshape((X.shape[0],self.sequence_length,int(X.shape[0]/self.sequence_length)), order='F')\n",
    "        else:\n",
    "            print(\"The length of all feature sequences must be the same\")\n",
    "        \n",
    "        # Scale inputs\n",
    "        for feature in range(X.shape[2]):\n",
    "            X[:,:,feature] = self.scaler[feature].transform(X[:,:,feature])\n",
    "        \n",
    "        sum_model_hypothesis = np.sum(np.stack([-np.log(Bm)*Gm(X,verbose=None) for Bm,Gm in self.models], axis=-1), axis=-1)\n",
    "        return self.onehot_encoder.inverse_transform(sum_model_hypothesis)"
   ]
  },
  {
   "cell_type": "markdown",
   "metadata": {},
   "source": [
    "### **NO FEATURE ENGINEERING M2**"
   ]
  },
  {
   "cell_type": "code",
   "execution_count": 5,
   "metadata": {},
   "outputs": [
    {
     "name": "stdout",
     "output_type": "stream",
     "text": [
      "LINK 5\n",
      "M2 Implementation of LSTM RUSBoost\n",
      "\tLOS 1: Recall 85.56%\n",
      "\tLOS 2: Recall 46.93%\n",
      "\tLOS 3: Recall 23.41%\n",
      "\tLOS 4: Recall 28.72%\n",
      "\tLOS 5: Recall 24.14%\n",
      "\tLOS 6: Recall 49.5%\n",
      "LINK 6\n",
      "M2 Implementation of LSTM RUSBoost\n",
      "\tLOS 1: Recall 97.84%\n",
      "\tLOS 2: Recall 2.51%\n",
      "\tLOS 3: Recall 7.43%\n",
      "\tLOS 4: Recall 0.58%\n",
      "\tLOS 5: Recall 8.16%\n",
      "\tLOS 6: Recall 70.89%\n",
      "LINK 7\n",
      "M2 Implementation of LSTM RUSBoost\n",
      "\tLOS 1: Recall 97.36%\n",
      "\tLOS 2: Recall 0.0%\n",
      "\tLOS 3: Recall 0.0%\n",
      "\tLOS 4: Recall 0.0%\n",
      "\tLOS 5: Recall 3.99%\n",
      "\tLOS 6: Recall 78.66%\n",
      "LINK 8\n",
      "M2 Implementation of LSTM RUSBoost\n",
      "\tLOS 1: Recall 97.52%\n",
      "\tLOS 2: Recall 18.57%\n",
      "\tLOS 3: Recall 8.91%\n",
      "\tLOS 4: Recall 0.62%\n",
      "\tLOS 5: Recall 6.17%\n",
      "\tLOS 6: Recall 53.03%\n",
      "LINK 9\n",
      "M2 Implementation of LSTM RUSBoost\n",
      "\tLOS 1: Recall 87.98%\n",
      "\tLOS 2: Recall 70.18%\n",
      "\tLOS 3: Recall 0.0%\n",
      "\tLOS 4: Recall 0.0%\n",
      "\tLOS 5: Recall 0.0%\n",
      "\tLOS 6: Recall 0.0%\n",
      "LINK 10\n",
      "M2 Implementation of LSTM RUSBoost\n",
      "\tLOS 1: Recall 95.55%\n",
      "\tLOS 2: Recall 31.97%\n",
      "\tLOS 3: Recall 17.71%\n",
      "\tLOS 4: Recall 0.67%\n",
      "\tLOS 5: Recall 4.21%\n",
      "\tLOS 6: Recall 48.28%\n"
     ]
    }
   ],
   "source": [
    "for LINK in range(5,11):\n",
    "    print(f\"LINK {LINK}\")\n",
    "    \n",
    "    filename = f'{ROOT}/models/LSTM-RUSBoost_{PREDICTED_MINUTES_AHEAD}m_horizon_{INPUT_MINUTES_BEFORE}m_M2_nofeat_link{LINK}.joblib'\n",
    "\n",
    "    model = LSTMRUSBoostClassifier_(sequence_length=int(INPUT_MINUTES_BEFORE/5)+1, n_lstm=30, learning_rate=0.3).fit(training_df[training_df['link_id'] == LINK], \"tt_arr.*\", 'LOS_dep')\n",
    "    joblib.dump(model, filename)\n",
    "\n",
    "    for LOS in range(1,7):\n",
    "        X_test = validation_df[(validation_df['link_id'] == LINK) & (validation_df['LOS_dep'] == LOS)].filter(regex=(\"tt_arr.*\")).values\n",
    "        y_pred = model.predict(X_test)\n",
    "\n",
    "        score = metrics.recall_score([LOS]*len(y_pred), y_pred, average='micro')\n",
    "        print(f\"\\tLOS {LOS}: Recall {round(score*100, 2) }%\")"
   ]
  },
  {
   "cell_type": "markdown",
   "metadata": {
    "id": "l3Uq8ZqIQ55g",
    "jp-MarkdownHeadingCollapsed": true,
    "tags": []
   },
   "source": [
    "# **CLEAN UP**"
   ]
  },
  {
   "cell_type": "code",
   "execution_count": null,
   "metadata": {
    "colab": {
     "base_uri": "https://localhost:8080/"
    },
    "id": "aMbYu1JbnzEy",
    "outputId": "748cdc1c-738c-4908-e1c9-efd6ca3dc112"
   },
   "outputs": [],
   "source": [
    "!git status"
   ]
  },
  {
   "cell_type": "code",
   "execution_count": null,
   "metadata": {
    "id": "kQnWKUfl8zBx"
   },
   "outputs": [],
   "source": [
    "!git pull"
   ]
  },
  {
   "cell_type": "markdown",
   "metadata": {
    "id": "rN4hjHN5n8ns"
   },
   "source": [
    "## COMMIT AND REMOVE"
   ]
  },
  {
   "cell_type": "code",
   "execution_count": null,
   "metadata": {
    "colab": {
     "base_uri": "https://localhost:8080/"
    },
    "id": "xKwc6DK9xcrr",
    "outputId": "f818a739-6cb7-4c61-ee9f-969701996e61"
   },
   "outputs": [],
   "source": [
    "%cd /content/Traffic\n",
    "!sh /content/drive/MyDrive/Traffic/scripts/logout.sh"
   ]
  },
  {
   "cell_type": "code",
   "execution_count": null,
   "metadata": {
    "colab": {
     "base_uri": "https://localhost:8080/",
     "height": 304
    },
    "id": "2ifNpENMcesP",
    "outputId": "ca191f22-7c84-4569-e9cd-25875f101521",
    "tags": []
   },
   "outputs": [],
   "source": [
    "drive.flush_and_unmount()\n",
    "!rm -rf /content/Traffic"
   ]
  }
 ],
 "metadata": {
  "colab": {
   "authorship_tag": "ABX9TyMHe0NkQoa9ACIkTbFtjTmK",
   "include_colab_link": true,
   "mount_file_id": "1Z2Z4EeQPbfgdwWew4IfwOLqQ_conuu2c",
   "provenance": []
  },
  "gpuClass": "standard",
  "kernelspec": {
   "display_name": "Python 3",
   "language": "python",
   "name": "python3"
  },
  "language_info": {
   "codemirror_mode": {
    "name": "ipython",
    "version": 3
   },
   "file_extension": ".py",
   "mimetype": "text/x-python",
   "name": "python",
   "nbconvert_exporter": "python",
   "pygments_lexer": "ipython3",
   "version": "3.9.16"
  }
 },
 "nbformat": 4,
 "nbformat_minor": 4
}
