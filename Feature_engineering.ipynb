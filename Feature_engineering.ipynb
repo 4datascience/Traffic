{
  "nbformat": 4,
  "nbformat_minor": 0,
  "metadata": {
    "colab": {
      "provenance": [],
      "mount_file_id": "1Z2Z4EeQPbfgdwWew4IfwOLqQ_conuu2c",
      "authorship_tag": "ABX9TyM7uAMLogHbgpaYnlaHDW0a",
      "include_colab_link": true
    },
    "kernelspec": {
      "name": "python3",
      "display_name": "Python 3"
    },
    "language_info": {
      "name": "python"
    },
    "accelerator": "GPU",
    "gpuClass": "standard"
  },
  "cells": [
    {
      "cell_type": "markdown",
      "metadata": {
        "id": "view-in-github",
        "colab_type": "text"
      },
      "source": [
        "<a href=\"https://colab.research.google.com/github/4datascience/Traffic/blob/master/Feature_engineering.ipynb\" target=\"_parent\"><img src=\"https://colab.research.google.com/assets/colab-badge.svg\" alt=\"Open In Colab\"/></a>"
      ]
    },
    {
      "cell_type": "markdown",
      "source": [
        "#**INITIALISATION**"
      ],
      "metadata": {
        "id": "uZ_KQy9CaghT"
      }
    },
    {
      "cell_type": "markdown",
      "source": [
        "## Python Environment"
      ],
      "metadata": {
        "id": "J1aLPKnRdfSq"
      }
    },
    {
      "cell_type": "markdown",
      "source": [
        "### Import Python libraries"
      ],
      "metadata": {
        "id": "2O_6vDSUdG5G"
      }
    },
    {
      "cell_type": "code",
      "source": [
        "# Data libraries\n",
        "from google.colab import drive\n",
        "import os\n",
        "import pandas as pd\n",
        "import calendar\n",
        "import numpy as np\n",
        "import gc\n",
        "import math\n",
        "\n",
        "# Plotting\n",
        "import matplotlib.pyplot as plt\n",
        "from matplotlib.ticker import StrMethodFormatter\n",
        "from seaborn import violinplot, boxenplot\n",
        "\n",
        "# Model training\n",
        "from sklearn.model_selection import cross_validate\n",
        "from sklearn import metrics, preprocessing\n",
        "from sklearn.pipeline import make_pipeline\n",
        "from sklearn.naive_bayes import GaussianNB\n",
        "#from imblearn.ensemble import RUSBoostClassifier\n",
        "from sklearn.tree import DecisionTreeClassifier\n",
        "from sklearn import base\n",
        "    # Keras\n",
        "from tensorflow import keras\n",
        "from keras.models import Sequential\n",
        "from keras.layers import Dense, Dropout, LSTM, Activation, Lambda\n",
        "    # Tensorflow\n",
        "import tensorflow as tf\n",
        "\n",
        "# Statistical tests\n",
        "from scipy.stats import shapiro"
      ],
      "metadata": {
        "id": "0aZLKV7udGBe"
      },
      "execution_count": 1,
      "outputs": []
    },
    {
      "cell_type": "markdown",
      "source": [
        "### SET ENVIRONMENT VARIABLES"
      ],
      "metadata": {
        "id": "4sHUoA4jdmit"
      }
    },
    {
      "cell_type": "code",
      "source": [
        "# PREDICTION HORIZON\n",
        "PREDICTED_MINUTES_AHEAD = 5\n",
        "if (PREDICTED_MINUTES_AHEAD%5 != 0): raise ValueError(\"Invalid prediction horizon. Must be multiple of 5 minutes\")\n",
        "INPUT_MINUTES_BEFORE = 45\n",
        "if (INPUT_MINUTES_BEFORE%5 != 0): raise ValueError(\"Invalid input minutes span. Must be multiple of 5 minutes\")"
      ],
      "metadata": {
        "id": "aGdil-f9dr5k"
      },
      "execution_count": 2,
      "outputs": []
    },
    {
      "cell_type": "markdown",
      "source": [
        "## Files"
      ],
      "metadata": {
        "id": "v7P6CQyDdblM"
      }
    },
    {
      "cell_type": "markdown",
      "source": [
        "### Mount \\<Google Drive\\>"
      ],
      "metadata": {
        "id": "s7uxqluGalb6"
      }
    },
    {
      "cell_type": "code",
      "execution_count": 3,
      "metadata": {
        "colab": {
          "base_uri": "https://localhost:8080/"
        },
        "id": "PtJt6uekJtLb",
        "outputId": "d62074fd-a4dd-4047-f8bd-1210dc578ec6"
      },
      "outputs": [
        {
          "output_type": "stream",
          "name": "stdout",
          "text": [
            "Mounted at /content/drive\n"
          ]
        }
      ],
      "source": [
        "drive.mount('/content/drive')\n",
        "!rm -rf sample_data"
      ]
    },
    {
      "cell_type": "markdown",
      "source": [
        "### Clone \\<Github\\>"
      ],
      "metadata": {
        "id": "EPQCjHeEa0Tt"
      }
    },
    {
      "cell_type": "code",
      "source": [
        "!sh /content/drive/MyDrive/Traffic/scripts/initialisation.sh"
      ],
      "metadata": {
        "id": "9T3lXEPdJv29",
        "outputId": "eba39175-cb03-4cae-ebb4-c91057d4ab7d",
        "colab": {
          "base_uri": "https://localhost:8080/"
        }
      },
      "execution_count": null,
      "outputs": [
        {
          "output_type": "stream",
          "name": "stdout",
          "text": [
            "/content/drive/MyDrive/Traffic/scripts/initialisation.sh: 1: %cd: not found\n",
            "Cloning into 'Traffic'...\n",
            "remote: Enumerating objects: 104, done.\u001b[K\n",
            "remote: Counting objects: 100% (104/104), done.\u001b[K\n",
            "remote: Compressing objects: 100% (96/96), done.\u001b[K\n",
            "remote: Total 104 (delta 42), reused 36 (delta 3), pack-reused 0\u001b[K\n",
            "Receiving objects: 100% (104/104), 9.85 MiB | 17.27 MiB/s, done.\n",
            "Resolving deltas: 100% (42/42), done.\n",
            "/content/drive/MyDrive/Traffic/scripts/initialisation.sh: 3: %cd: not found\n"
          ]
        }
      ]
    },
    {
      "cell_type": "code",
      "source": [
        "%cd /content/Traffic\n",
        "!git config user.email diego@google.colab.com\n",
        "!git config user.name \"Google Colab\"\n",
        "!git config http.postBuffer 524288000"
      ],
      "metadata": {
        "id": "wTfD2Vw6a64d",
        "outputId": "bf4680f8-e4cc-440a-f9df-c11f283eafa2",
        "colab": {
          "base_uri": "https://localhost:8080/"
        }
      },
      "execution_count": null,
      "outputs": [
        {
          "output_type": "stream",
          "name": "stdout",
          "text": [
            "/content/Traffic\n"
          ]
        }
      ]
    },
    {
      "cell_type": "markdown",
      "source": [
        "#**UPLOAD DATA**"
      ],
      "metadata": {
        "id": "wOQaX0TnQJti"
      }
    },
    {
      "cell_type": "markdown",
      "source": [
        "## TO GOOGLE DRIVE [ LINK_ID, TT_ARR, LOS_DEP ]"
      ],
      "metadata": {
        "id": "fRqNJgJxQf8l"
      }
    },
    {
      "cell_type": "code",
      "source": [
        "\n",
        "\n",
        "training = []\n",
        "validation = []\n",
        "total_size = 0\n",
        "\n",
        "directory = '/content/drive/MyDrive/Traffic/data/processed/'\n",
        "for filename in os.listdir(directory):\n",
        "    f = os.path.join(directory, filename)\n",
        "    df=pd.read_csv(f)\n",
        "    print(f'{filename} {df.shape[0]/(60*24*6)}')\n",
        "    df[\"date\"] = pd.to_datetime(df[\"date\"], format='%d-%b-%Y %H:%M:%S')\n",
        "    df = df.set_index(\"date\")\n",
        "    Y = df.shift(-PREDICTED_MINUTES_AHEAD, freq='min')[['link_id', 'LOS_dep']]\n",
        "    # Training set\n",
        "    X = df.loc[(df.index.day < 20)][['link_id', 'tt_arr']]\n",
        "    training.append( pd.merge(X, Y, on=['date', 'link_id'], how='inner') )\n",
        "    # Validation set\n",
        "    X = df.loc[~(df.index.day < 20)][['link_id', 'tt_arr']]\n",
        "    validation.append( pd.merge(X, Y, on=['date', 'link_id'], how='inner') )\n",
        "    total_size += df.shape[0]\n",
        "del df\n",
        "training_df = pd.concat(training)\n",
        "validation_df = pd.concat(validation)\n",
        "\n",
        "del training, validation\n",
        "print(f'Training percentage ({training_df.shape[0]} elements):\\n\\t{training_df.shape[0] / total_size * 100}%')\n",
        "print(f'Validation percentage:\\n\\t{validation_df.shape[0] / total_size * 100}%')\n",
        "\n",
        "training_df.to_csv(f'/content/drive/MyDrive/Traffic/data/intermediate/Sevilla_{PREDICTED_MINUTES_AHEAD}m_training.csv')\n",
        "validation_df.to_csv(f'/content/drive/MyDrive/Traffic/data/intermediate/Sevilla_{PREDICTED_MINUTES_AHEAD}m_validating.csv')"
      ],
      "metadata": {
        "id": "0Jet-m9yQJSQ",
        "outputId": "8b659314-fbf3-4f74-ba1d-c4af2da2e837",
        "colab": {
          "base_uri": "https://localhost:8080/"
        }
      },
      "execution_count": null,
      "outputs": [
        {
          "output_type": "stream",
          "name": "stdout",
          "text": [
            "Sevilla_2015.csv 365.0\n",
            "Sevilla_2016.csv 366.0\n",
            "Sevilla_2017.csv 365.0\n",
            "Sevilla_2018.csv 273.0\n",
            "Training percentage (7387200 elements):\n",
            "\t62.45434623813002%\n",
            "Validation percentage:\n",
            "\t37.54261017774531%\n"
          ]
        }
      ]
    },
    {
      "cell_type": "markdown",
      "source": [
        "## TO GOOGLE DRIVE [ LINK_ID, TT_ARR, TT_ARR-5, TT_ARR-10, ..., TT_ARR-N, LOS_DEP ]"
      ],
      "metadata": {
        "id": "uNktJwINXeVt"
      }
    },
    {
      "cell_type": "code",
      "source": [
        "\n",
        "\n",
        "training = []\n",
        "validation = []\n",
        "total_size = 0\n",
        "\n",
        "directory = '/content/drive/MyDrive/Traffic/data/processed/'\n",
        "for filename in os.listdir(directory):\n",
        "    f = os.path.join(directory, filename)\n",
        "    df=pd.read_csv(f)\n",
        "    print(f'{filename} {df.shape[0]/(60*24*6)}')\n",
        "    df[\"date\"] = pd.to_datetime(df[\"date\"], format='%d-%b-%Y %H:%M:%S')\n",
        "    df = df.set_index(\"date\")\n",
        "    Y = df.shift(-PREDICTED_MINUTES_AHEAD, freq='min')[['link_id', 'LOS_dep']]\n",
        "    # Training set\n",
        "    X = df.loc[(df.index.day < 20)][['link_id', 'tt_arr']]\n",
        "    for offset in range(1,int((INPUT_MINUTES_BEFORE)/5)+1):\n",
        "        X = pd.merge(X, df.shift(offset*5, freq='min')[['link_id', 'tt_arr']], on=['date', 'link_id'], how='inner', suffixes=[None, f'-{int(offset*5)}'])\n",
        "    training.append( pd.merge(X, Y, on=['date', 'link_id'], how='inner') )\n",
        "    # Validation set\n",
        "    X = df.loc[~(df.index.day < 20)][['link_id', 'tt_arr']]\n",
        "    for offset in range(1,int((INPUT_MINUTES_BEFORE)/5)+1):\n",
        "        X = pd.merge(X, df.shift(offset*5, freq='min')[['link_id', 'tt_arr']], on=['date', 'link_id'], how='inner', suffixes=[None, f'-{int(offset*5)}'])\n",
        "    validation.append( pd.merge(X, Y, on=['date', 'link_id'], how='inner') )\n",
        "    total_size += df.shape[0]\n",
        "del df\n",
        "training_df = pd.concat(training)\n",
        "validation_df = pd.concat(validation)\n",
        "\n",
        "del training, validation\n",
        "print(f'Training percentage ({training_df.shape[0]} elements):\\n\\t{training_df.shape[0] / total_size * 100}%')\n",
        "print(f'Validation percentage:\\n\\t{validation_df.shape[0] / total_size * 100}%')\n",
        "\n",
        "training_df.to_csv(f'/content/drive/MyDrive/Traffic/data/intermediate/Sevilla_{PREDICTED_MINUTES_AHEAD}m_horizon_{INPUT_MINUTES_BEFORE}m_feed_training.csv')\n",
        "validation_df.to_csv(f'/content/drive/MyDrive/Traffic/data/intermediate/Sevilla_{PREDICTED_MINUTES_AHEAD}m_horizon_{INPUT_MINUTES_BEFORE}m_feed_validating.csv')"
      ],
      "metadata": {
        "id": "BokEgQrdavRt",
        "outputId": "393ac4b5-488f-4292-a764-24ca40a30e8d",
        "colab": {
          "base_uri": "https://localhost:8080/"
        }
      },
      "execution_count": null,
      "outputs": [
        {
          "output_type": "stream",
          "name": "stdout",
          "text": [
            "Sevilla_2015.csv 365.0\n",
            "Sevilla_2016.csv 366.0\n",
            "Sevilla_2017.csv 365.0\n",
            "Sevilla_2018.csv 273.0\n",
            "Training percentage (7386120 elements):\n",
            "\t62.44521548575602%\n",
            "Validation percentage:\n",
            "\t37.54463923382843%\n"
          ]
        }
      ]
    },
    {
      "cell_type": "markdown",
      "source": [
        "#**DOWNLOAD DATA**"
      ],
      "metadata": {
        "id": "GNBT0n1PaJDE"
      }
    },
    {
      "cell_type": "markdown",
      "source": [
        "## Without temporal information"
      ],
      "metadata": {
        "id": "lQ3s6vVAhUqe"
      }
    },
    {
      "cell_type": "code",
      "source": [
        "training_df = pd.read_csv(f'/content/drive/MyDrive/Traffic/data/intermediate/Sevilla_{PREDICTED_MINUTES_AHEAD}m_training.csv')\n",
        "training_df[\"date\"] = pd.to_datetime(training_df[\"date\"], format='%Y-%m-%d %H:%M:%S')\n",
        "training_df = training_df.set_index(\"date\")\n",
        "validation_df = pd.read_csv(f'/content/drive/MyDrive/Traffic/data/intermediate/Sevilla_{PREDICTED_MINUTES_AHEAD}m_validating.csv')\n",
        "validation_df[\"date\"] = pd.to_datetime(validation_df[\"date\"], format='%Y-%m-%d %H:%M:%S')\n",
        "validation_df = validation_df.set_index(\"date\")"
      ],
      "metadata": {
        "id": "VbJeopr8bNxm"
      },
      "execution_count": 3,
      "outputs": []
    },
    {
      "cell_type": "markdown",
      "source": [
        "## With temporal information"
      ],
      "metadata": {
        "id": "kVAtVDMNhafE"
      }
    },
    {
      "cell_type": "code",
      "source": [
        "training_df = pd.read_csv(f'/content/drive/MyDrive/Traffic/data/intermediate/Sevilla_{PREDICTED_MINUTES_AHEAD}m_horizon_{INPUT_MINUTES_BEFORE}m_feed_training.csv')\n",
        "training_df[\"date\"] = pd.to_datetime(training_df[\"date\"], format='%Y-%m-%d %H:%M:%S')\n",
        "training_df = training_df.set_index(\"date\")\n",
        "validation_df = pd.read_csv(f'/content/drive/MyDrive/Traffic/data/intermediate/Sevilla_{PREDICTED_MINUTES_AHEAD}m_horizon_{INPUT_MINUTES_BEFORE}m_feed_validating.csv')\n",
        "validation_df[\"date\"] = pd.to_datetime(validation_df[\"date\"], format='%Y-%m-%d %H:%M:%S')\n",
        "validation_df = validation_df.set_index(\"date\")"
      ],
      "metadata": {
        "id": "uinjRHA3hcbc"
      },
      "execution_count": null,
      "outputs": []
    },
    {
      "cell_type": "markdown",
      "source": [
        "# DATA EXPLORATION"
      ],
      "metadata": {
        "id": "u_1jQ8xMeJVL"
      }
    },
    {
      "cell_type": "markdown",
      "source": [
        "## Visual"
      ],
      "metadata": {
        "id": "F4Q-LjQboREY"
      }
    },
    {
      "cell_type": "markdown",
      "source": [
        "> Dataframe content"
      ],
      "metadata": {
        "id": "kWEUIgWaiIHu"
      }
    },
    {
      "cell_type": "code",
      "source": [
        "training_df[training_df['link_id']==8].head(10)"
      ],
      "metadata": {
        "colab": {
          "base_uri": "https://localhost:8080/",
          "height": 438
        },
        "id": "E33RcTyqFuxE",
        "outputId": "229f6004-5c27-45af-a87a-399ae5f6e8bd"
      },
      "execution_count": null,
      "outputs": [
        {
          "output_type": "execute_result",
          "data": {
            "text/plain": [
              "                     link_id  tt_arr  tt_arr-5  tt_arr-10  tt_arr-15  \\\n",
              "date                                                                   \n",
              "2015-01-01 00:45:00        8   109.0     109.0      109.0      109.0   \n",
              "2015-01-01 00:46:00        8   109.0     109.0      109.0      109.0   \n",
              "2015-01-01 00:47:00        8   109.0     109.0      109.0      109.0   \n",
              "2015-01-01 00:48:00        8   109.0     109.0      109.0      109.0   \n",
              "2015-01-01 00:49:00        8   109.0     109.0      109.0      109.0   \n",
              "2015-01-01 00:50:00        8   109.0     109.0      109.0      109.0   \n",
              "2015-01-01 00:51:00        8   109.0     109.0      109.0      109.0   \n",
              "2015-01-01 00:52:00        8   109.0     109.0      109.0      109.0   \n",
              "2015-01-01 00:53:00        8   109.0     109.0      109.0      109.0   \n",
              "2015-01-01 00:54:00        8   109.0     109.0      109.0      109.0   \n",
              "\n",
              "                     tt_arr-20  tt_arr-25  tt_arr-30  tt_arr-35  tt_arr-40  \\\n",
              "date                                                                         \n",
              "2015-01-01 00:45:00      109.0      109.0      109.0      109.0      109.0   \n",
              "2015-01-01 00:46:00      109.0      109.0      109.0      109.0      109.0   \n",
              "2015-01-01 00:47:00      109.0      109.0      109.0      109.0      109.0   \n",
              "2015-01-01 00:48:00      109.0      109.0      109.0      109.0      109.0   \n",
              "2015-01-01 00:49:00      109.0      109.0      109.0      109.0      109.0   \n",
              "2015-01-01 00:50:00      109.0      109.0      109.0      109.0      109.0   \n",
              "2015-01-01 00:51:00      109.0      109.0      109.0      109.0      109.0   \n",
              "2015-01-01 00:52:00      109.0      109.0      109.0      109.0      109.0   \n",
              "2015-01-01 00:53:00      109.0      109.0      109.0      109.0      109.0   \n",
              "2015-01-01 00:54:00      109.0      109.0      109.0      109.0      109.0   \n",
              "\n",
              "                     tt_arr-45  LOS_dep  \n",
              "date                                     \n",
              "2015-01-01 00:45:00      109.0        1  \n",
              "2015-01-01 00:46:00      109.0        1  \n",
              "2015-01-01 00:47:00      109.0        1  \n",
              "2015-01-01 00:48:00      109.0        1  \n",
              "2015-01-01 00:49:00      109.0        1  \n",
              "2015-01-01 00:50:00      109.0        1  \n",
              "2015-01-01 00:51:00      109.0        1  \n",
              "2015-01-01 00:52:00      109.0        1  \n",
              "2015-01-01 00:53:00      109.0        1  \n",
              "2015-01-01 00:54:00      109.0        1  "
            ],
            "text/html": [
              "\n",
              "  <div id=\"df-63e02ab5-0bec-47ae-a1b7-f98cfa69c665\">\n",
              "    <div class=\"colab-df-container\">\n",
              "      <div>\n",
              "<style scoped>\n",
              "    .dataframe tbody tr th:only-of-type {\n",
              "        vertical-align: middle;\n",
              "    }\n",
              "\n",
              "    .dataframe tbody tr th {\n",
              "        vertical-align: top;\n",
              "    }\n",
              "\n",
              "    .dataframe thead th {\n",
              "        text-align: right;\n",
              "    }\n",
              "</style>\n",
              "<table border=\"1\" class=\"dataframe\">\n",
              "  <thead>\n",
              "    <tr style=\"text-align: right;\">\n",
              "      <th></th>\n",
              "      <th>link_id</th>\n",
              "      <th>tt_arr</th>\n",
              "      <th>tt_arr-5</th>\n",
              "      <th>tt_arr-10</th>\n",
              "      <th>tt_arr-15</th>\n",
              "      <th>tt_arr-20</th>\n",
              "      <th>tt_arr-25</th>\n",
              "      <th>tt_arr-30</th>\n",
              "      <th>tt_arr-35</th>\n",
              "      <th>tt_arr-40</th>\n",
              "      <th>tt_arr-45</th>\n",
              "      <th>LOS_dep</th>\n",
              "    </tr>\n",
              "    <tr>\n",
              "      <th>date</th>\n",
              "      <th></th>\n",
              "      <th></th>\n",
              "      <th></th>\n",
              "      <th></th>\n",
              "      <th></th>\n",
              "      <th></th>\n",
              "      <th></th>\n",
              "      <th></th>\n",
              "      <th></th>\n",
              "      <th></th>\n",
              "      <th></th>\n",
              "      <th></th>\n",
              "    </tr>\n",
              "  </thead>\n",
              "  <tbody>\n",
              "    <tr>\n",
              "      <th>2015-01-01 00:45:00</th>\n",
              "      <td>8</td>\n",
              "      <td>109.0</td>\n",
              "      <td>109.0</td>\n",
              "      <td>109.0</td>\n",
              "      <td>109.0</td>\n",
              "      <td>109.0</td>\n",
              "      <td>109.0</td>\n",
              "      <td>109.0</td>\n",
              "      <td>109.0</td>\n",
              "      <td>109.0</td>\n",
              "      <td>109.0</td>\n",
              "      <td>1</td>\n",
              "    </tr>\n",
              "    <tr>\n",
              "      <th>2015-01-01 00:46:00</th>\n",
              "      <td>8</td>\n",
              "      <td>109.0</td>\n",
              "      <td>109.0</td>\n",
              "      <td>109.0</td>\n",
              "      <td>109.0</td>\n",
              "      <td>109.0</td>\n",
              "      <td>109.0</td>\n",
              "      <td>109.0</td>\n",
              "      <td>109.0</td>\n",
              "      <td>109.0</td>\n",
              "      <td>109.0</td>\n",
              "      <td>1</td>\n",
              "    </tr>\n",
              "    <tr>\n",
              "      <th>2015-01-01 00:47:00</th>\n",
              "      <td>8</td>\n",
              "      <td>109.0</td>\n",
              "      <td>109.0</td>\n",
              "      <td>109.0</td>\n",
              "      <td>109.0</td>\n",
              "      <td>109.0</td>\n",
              "      <td>109.0</td>\n",
              "      <td>109.0</td>\n",
              "      <td>109.0</td>\n",
              "      <td>109.0</td>\n",
              "      <td>109.0</td>\n",
              "      <td>1</td>\n",
              "    </tr>\n",
              "    <tr>\n",
              "      <th>2015-01-01 00:48:00</th>\n",
              "      <td>8</td>\n",
              "      <td>109.0</td>\n",
              "      <td>109.0</td>\n",
              "      <td>109.0</td>\n",
              "      <td>109.0</td>\n",
              "      <td>109.0</td>\n",
              "      <td>109.0</td>\n",
              "      <td>109.0</td>\n",
              "      <td>109.0</td>\n",
              "      <td>109.0</td>\n",
              "      <td>109.0</td>\n",
              "      <td>1</td>\n",
              "    </tr>\n",
              "    <tr>\n",
              "      <th>2015-01-01 00:49:00</th>\n",
              "      <td>8</td>\n",
              "      <td>109.0</td>\n",
              "      <td>109.0</td>\n",
              "      <td>109.0</td>\n",
              "      <td>109.0</td>\n",
              "      <td>109.0</td>\n",
              "      <td>109.0</td>\n",
              "      <td>109.0</td>\n",
              "      <td>109.0</td>\n",
              "      <td>109.0</td>\n",
              "      <td>109.0</td>\n",
              "      <td>1</td>\n",
              "    </tr>\n",
              "    <tr>\n",
              "      <th>2015-01-01 00:50:00</th>\n",
              "      <td>8</td>\n",
              "      <td>109.0</td>\n",
              "      <td>109.0</td>\n",
              "      <td>109.0</td>\n",
              "      <td>109.0</td>\n",
              "      <td>109.0</td>\n",
              "      <td>109.0</td>\n",
              "      <td>109.0</td>\n",
              "      <td>109.0</td>\n",
              "      <td>109.0</td>\n",
              "      <td>109.0</td>\n",
              "      <td>1</td>\n",
              "    </tr>\n",
              "    <tr>\n",
              "      <th>2015-01-01 00:51:00</th>\n",
              "      <td>8</td>\n",
              "      <td>109.0</td>\n",
              "      <td>109.0</td>\n",
              "      <td>109.0</td>\n",
              "      <td>109.0</td>\n",
              "      <td>109.0</td>\n",
              "      <td>109.0</td>\n",
              "      <td>109.0</td>\n",
              "      <td>109.0</td>\n",
              "      <td>109.0</td>\n",
              "      <td>109.0</td>\n",
              "      <td>1</td>\n",
              "    </tr>\n",
              "    <tr>\n",
              "      <th>2015-01-01 00:52:00</th>\n",
              "      <td>8</td>\n",
              "      <td>109.0</td>\n",
              "      <td>109.0</td>\n",
              "      <td>109.0</td>\n",
              "      <td>109.0</td>\n",
              "      <td>109.0</td>\n",
              "      <td>109.0</td>\n",
              "      <td>109.0</td>\n",
              "      <td>109.0</td>\n",
              "      <td>109.0</td>\n",
              "      <td>109.0</td>\n",
              "      <td>1</td>\n",
              "    </tr>\n",
              "    <tr>\n",
              "      <th>2015-01-01 00:53:00</th>\n",
              "      <td>8</td>\n",
              "      <td>109.0</td>\n",
              "      <td>109.0</td>\n",
              "      <td>109.0</td>\n",
              "      <td>109.0</td>\n",
              "      <td>109.0</td>\n",
              "      <td>109.0</td>\n",
              "      <td>109.0</td>\n",
              "      <td>109.0</td>\n",
              "      <td>109.0</td>\n",
              "      <td>109.0</td>\n",
              "      <td>1</td>\n",
              "    </tr>\n",
              "    <tr>\n",
              "      <th>2015-01-01 00:54:00</th>\n",
              "      <td>8</td>\n",
              "      <td>109.0</td>\n",
              "      <td>109.0</td>\n",
              "      <td>109.0</td>\n",
              "      <td>109.0</td>\n",
              "      <td>109.0</td>\n",
              "      <td>109.0</td>\n",
              "      <td>109.0</td>\n",
              "      <td>109.0</td>\n",
              "      <td>109.0</td>\n",
              "      <td>109.0</td>\n",
              "      <td>1</td>\n",
              "    </tr>\n",
              "  </tbody>\n",
              "</table>\n",
              "</div>\n",
              "      <button class=\"colab-df-convert\" onclick=\"convertToInteractive('df-63e02ab5-0bec-47ae-a1b7-f98cfa69c665')\"\n",
              "              title=\"Convert this dataframe to an interactive table.\"\n",
              "              style=\"display:none;\">\n",
              "        \n",
              "  <svg xmlns=\"http://www.w3.org/2000/svg\" height=\"24px\"viewBox=\"0 0 24 24\"\n",
              "       width=\"24px\">\n",
              "    <path d=\"M0 0h24v24H0V0z\" fill=\"none\"/>\n",
              "    <path d=\"M18.56 5.44l.94 2.06.94-2.06 2.06-.94-2.06-.94-.94-2.06-.94 2.06-2.06.94zm-11 1L8.5 8.5l.94-2.06 2.06-.94-2.06-.94L8.5 2.5l-.94 2.06-2.06.94zm10 10l.94 2.06.94-2.06 2.06-.94-2.06-.94-.94-2.06-.94 2.06-2.06.94z\"/><path d=\"M17.41 7.96l-1.37-1.37c-.4-.4-.92-.59-1.43-.59-.52 0-1.04.2-1.43.59L10.3 9.45l-7.72 7.72c-.78.78-.78 2.05 0 2.83L4 21.41c.39.39.9.59 1.41.59.51 0 1.02-.2 1.41-.59l7.78-7.78 2.81-2.81c.8-.78.8-2.07 0-2.86zM5.41 20L4 18.59l7.72-7.72 1.47 1.35L5.41 20z\"/>\n",
              "  </svg>\n",
              "      </button>\n",
              "      \n",
              "  <style>\n",
              "    .colab-df-container {\n",
              "      display:flex;\n",
              "      flex-wrap:wrap;\n",
              "      gap: 12px;\n",
              "    }\n",
              "\n",
              "    .colab-df-convert {\n",
              "      background-color: #E8F0FE;\n",
              "      border: none;\n",
              "      border-radius: 50%;\n",
              "      cursor: pointer;\n",
              "      display: none;\n",
              "      fill: #1967D2;\n",
              "      height: 32px;\n",
              "      padding: 0 0 0 0;\n",
              "      width: 32px;\n",
              "    }\n",
              "\n",
              "    .colab-df-convert:hover {\n",
              "      background-color: #E2EBFA;\n",
              "      box-shadow: 0px 1px 2px rgba(60, 64, 67, 0.3), 0px 1px 3px 1px rgba(60, 64, 67, 0.15);\n",
              "      fill: #174EA6;\n",
              "    }\n",
              "\n",
              "    [theme=dark] .colab-df-convert {\n",
              "      background-color: #3B4455;\n",
              "      fill: #D2E3FC;\n",
              "    }\n",
              "\n",
              "    [theme=dark] .colab-df-convert:hover {\n",
              "      background-color: #434B5C;\n",
              "      box-shadow: 0px 1px 3px 1px rgba(0, 0, 0, 0.15);\n",
              "      filter: drop-shadow(0px 1px 2px rgba(0, 0, 0, 0.3));\n",
              "      fill: #FFFFFF;\n",
              "    }\n",
              "  </style>\n",
              "\n",
              "      <script>\n",
              "        const buttonEl =\n",
              "          document.querySelector('#df-63e02ab5-0bec-47ae-a1b7-f98cfa69c665 button.colab-df-convert');\n",
              "        buttonEl.style.display =\n",
              "          google.colab.kernel.accessAllowed ? 'block' : 'none';\n",
              "\n",
              "        async function convertToInteractive(key) {\n",
              "          const element = document.querySelector('#df-63e02ab5-0bec-47ae-a1b7-f98cfa69c665');\n",
              "          const dataTable =\n",
              "            await google.colab.kernel.invokeFunction('convertToInteractive',\n",
              "                                                     [key], {});\n",
              "          if (!dataTable) return;\n",
              "\n",
              "          const docLinkHtml = 'Like what you see? Visit the ' +\n",
              "            '<a target=\"_blank\" href=https://colab.research.google.com/notebooks/data_table.ipynb>data table notebook</a>'\n",
              "            + ' to learn more about interactive tables.';\n",
              "          element.innerHTML = '';\n",
              "          dataTable['output_type'] = 'display_data';\n",
              "          await google.colab.output.renderOutput(dataTable, element);\n",
              "          const docLink = document.createElement('div');\n",
              "          docLink.innerHTML = docLinkHtml;\n",
              "          element.appendChild(docLink);\n",
              "        }\n",
              "      </script>\n",
              "    </div>\n",
              "  </div>\n",
              "  "
            ]
          },
          "metadata": {},
          "execution_count": 11
        }
      ]
    },
    {
      "cell_type": "code",
      "source": [
        "training_df[training_df['link_id']==5].sample(n=10)"
      ],
      "metadata": {
        "id": "BTRvJfL8iSmI",
        "outputId": "fd91da8f-c479-4baf-925b-0484364ff508",
        "colab": {
          "base_uri": "https://localhost:8080/",
          "height": 394
        }
      },
      "execution_count": null,
      "outputs": [
        {
          "output_type": "execute_result",
          "data": {
            "text/plain": [
              "                     link_id  tt_arr  LOS_dep\n",
              "date                                         \n",
              "2016-06-04 12:35:00        5   291.0        1\n",
              "2017-02-04 03:47:00        5   281.0        1\n",
              "2015-12-04 14:02:00        5   688.0        4\n",
              "2015-02-10 00:19:00        5   304.0        1\n",
              "2015-06-18 17:21:00        5   320.0        1\n",
              "2016-03-14 09:47:00        5   346.0        1\n",
              "2017-09-09 13:20:00        5   507.0        1\n",
              "2015-04-04 14:05:00        5   299.5        1\n",
              "2018-08-11 12:26:00        5   373.0        1\n",
              "2015-08-08 05:35:00        5   301.0        1"
            ],
            "text/html": [
              "\n",
              "  <div id=\"df-47b6c36b-3113-4274-b654-3479c24036bb\">\n",
              "    <div class=\"colab-df-container\">\n",
              "      <div>\n",
              "<style scoped>\n",
              "    .dataframe tbody tr th:only-of-type {\n",
              "        vertical-align: middle;\n",
              "    }\n",
              "\n",
              "    .dataframe tbody tr th {\n",
              "        vertical-align: top;\n",
              "    }\n",
              "\n",
              "    .dataframe thead th {\n",
              "        text-align: right;\n",
              "    }\n",
              "</style>\n",
              "<table border=\"1\" class=\"dataframe\">\n",
              "  <thead>\n",
              "    <tr style=\"text-align: right;\">\n",
              "      <th></th>\n",
              "      <th>link_id</th>\n",
              "      <th>tt_arr</th>\n",
              "      <th>LOS_dep</th>\n",
              "    </tr>\n",
              "    <tr>\n",
              "      <th>date</th>\n",
              "      <th></th>\n",
              "      <th></th>\n",
              "      <th></th>\n",
              "    </tr>\n",
              "  </thead>\n",
              "  <tbody>\n",
              "    <tr>\n",
              "      <th>2016-06-04 12:35:00</th>\n",
              "      <td>5</td>\n",
              "      <td>291.0</td>\n",
              "      <td>1</td>\n",
              "    </tr>\n",
              "    <tr>\n",
              "      <th>2017-02-04 03:47:00</th>\n",
              "      <td>5</td>\n",
              "      <td>281.0</td>\n",
              "      <td>1</td>\n",
              "    </tr>\n",
              "    <tr>\n",
              "      <th>2015-12-04 14:02:00</th>\n",
              "      <td>5</td>\n",
              "      <td>688.0</td>\n",
              "      <td>4</td>\n",
              "    </tr>\n",
              "    <tr>\n",
              "      <th>2015-02-10 00:19:00</th>\n",
              "      <td>5</td>\n",
              "      <td>304.0</td>\n",
              "      <td>1</td>\n",
              "    </tr>\n",
              "    <tr>\n",
              "      <th>2015-06-18 17:21:00</th>\n",
              "      <td>5</td>\n",
              "      <td>320.0</td>\n",
              "      <td>1</td>\n",
              "    </tr>\n",
              "    <tr>\n",
              "      <th>2016-03-14 09:47:00</th>\n",
              "      <td>5</td>\n",
              "      <td>346.0</td>\n",
              "      <td>1</td>\n",
              "    </tr>\n",
              "    <tr>\n",
              "      <th>2017-09-09 13:20:00</th>\n",
              "      <td>5</td>\n",
              "      <td>507.0</td>\n",
              "      <td>1</td>\n",
              "    </tr>\n",
              "    <tr>\n",
              "      <th>2015-04-04 14:05:00</th>\n",
              "      <td>5</td>\n",
              "      <td>299.5</td>\n",
              "      <td>1</td>\n",
              "    </tr>\n",
              "    <tr>\n",
              "      <th>2018-08-11 12:26:00</th>\n",
              "      <td>5</td>\n",
              "      <td>373.0</td>\n",
              "      <td>1</td>\n",
              "    </tr>\n",
              "    <tr>\n",
              "      <th>2015-08-08 05:35:00</th>\n",
              "      <td>5</td>\n",
              "      <td>301.0</td>\n",
              "      <td>1</td>\n",
              "    </tr>\n",
              "  </tbody>\n",
              "</table>\n",
              "</div>\n",
              "      <button class=\"colab-df-convert\" onclick=\"convertToInteractive('df-47b6c36b-3113-4274-b654-3479c24036bb')\"\n",
              "              title=\"Convert this dataframe to an interactive table.\"\n",
              "              style=\"display:none;\">\n",
              "        \n",
              "  <svg xmlns=\"http://www.w3.org/2000/svg\" height=\"24px\"viewBox=\"0 0 24 24\"\n",
              "       width=\"24px\">\n",
              "    <path d=\"M0 0h24v24H0V0z\" fill=\"none\"/>\n",
              "    <path d=\"M18.56 5.44l.94 2.06.94-2.06 2.06-.94-2.06-.94-.94-2.06-.94 2.06-2.06.94zm-11 1L8.5 8.5l.94-2.06 2.06-.94-2.06-.94L8.5 2.5l-.94 2.06-2.06.94zm10 10l.94 2.06.94-2.06 2.06-.94-2.06-.94-.94-2.06-.94 2.06-2.06.94z\"/><path d=\"M17.41 7.96l-1.37-1.37c-.4-.4-.92-.59-1.43-.59-.52 0-1.04.2-1.43.59L10.3 9.45l-7.72 7.72c-.78.78-.78 2.05 0 2.83L4 21.41c.39.39.9.59 1.41.59.51 0 1.02-.2 1.41-.59l7.78-7.78 2.81-2.81c.8-.78.8-2.07 0-2.86zM5.41 20L4 18.59l7.72-7.72 1.47 1.35L5.41 20z\"/>\n",
              "  </svg>\n",
              "      </button>\n",
              "      \n",
              "  <style>\n",
              "    .colab-df-container {\n",
              "      display:flex;\n",
              "      flex-wrap:wrap;\n",
              "      gap: 12px;\n",
              "    }\n",
              "\n",
              "    .colab-df-convert {\n",
              "      background-color: #E8F0FE;\n",
              "      border: none;\n",
              "      border-radius: 50%;\n",
              "      cursor: pointer;\n",
              "      display: none;\n",
              "      fill: #1967D2;\n",
              "      height: 32px;\n",
              "      padding: 0 0 0 0;\n",
              "      width: 32px;\n",
              "    }\n",
              "\n",
              "    .colab-df-convert:hover {\n",
              "      background-color: #E2EBFA;\n",
              "      box-shadow: 0px 1px 2px rgba(60, 64, 67, 0.3), 0px 1px 3px 1px rgba(60, 64, 67, 0.15);\n",
              "      fill: #174EA6;\n",
              "    }\n",
              "\n",
              "    [theme=dark] .colab-df-convert {\n",
              "      background-color: #3B4455;\n",
              "      fill: #D2E3FC;\n",
              "    }\n",
              "\n",
              "    [theme=dark] .colab-df-convert:hover {\n",
              "      background-color: #434B5C;\n",
              "      box-shadow: 0px 1px 3px 1px rgba(0, 0, 0, 0.15);\n",
              "      filter: drop-shadow(0px 1px 2px rgba(0, 0, 0, 0.3));\n",
              "      fill: #FFFFFF;\n",
              "    }\n",
              "  </style>\n",
              "\n",
              "      <script>\n",
              "        const buttonEl =\n",
              "          document.querySelector('#df-47b6c36b-3113-4274-b654-3479c24036bb button.colab-df-convert');\n",
              "        buttonEl.style.display =\n",
              "          google.colab.kernel.accessAllowed ? 'block' : 'none';\n",
              "\n",
              "        async function convertToInteractive(key) {\n",
              "          const element = document.querySelector('#df-47b6c36b-3113-4274-b654-3479c24036bb');\n",
              "          const dataTable =\n",
              "            await google.colab.kernel.invokeFunction('convertToInteractive',\n",
              "                                                     [key], {});\n",
              "          if (!dataTable) return;\n",
              "\n",
              "          const docLinkHtml = 'Like what you see? Visit the ' +\n",
              "            '<a target=\"_blank\" href=https://colab.research.google.com/notebooks/data_table.ipynb>data table notebook</a>'\n",
              "            + ' to learn more about interactive tables.';\n",
              "          element.innerHTML = '';\n",
              "          dataTable['output_type'] = 'display_data';\n",
              "          await google.colab.output.renderOutput(dataTable, element);\n",
              "          const docLink = document.createElement('div');\n",
              "          docLink.innerHTML = docLinkHtml;\n",
              "          element.appendChild(docLink);\n",
              "        }\n",
              "      </script>\n",
              "    </div>\n",
              "  </div>\n",
              "  "
            ]
          },
          "metadata": {},
          "execution_count": 7
        }
      ]
    },
    {
      "cell_type": "markdown",
      "source": [
        "> Per weekday link LOS histogram\n"
      ],
      "metadata": {
        "id": "uztk_icRpyfN"
      }
    },
    {
      "cell_type": "code",
      "source": [
        "dias_semana = ['Monday', 'Tuesday', 'Wednesday', 'Thursday', 'Friday', 'Saturday', 'Sunday']\n",
        "fig, axes = plt.subplots(nrows=2, ncols=4)\n",
        "for weekday in range(0,7):\n",
        "    plot_df = pd.DataFrame(index=[i for i in range(1,7)])\n",
        "    for LINK in range(5,11):\n",
        "        plot_df[f'Link{LINK}'] = training_df[(training_df['link_id']==LINK) & (training_df.index.weekday == weekday)].groupby('LOS_dep')['tt_arr'].count()\n",
        "    plot_df.fillna(0)\n",
        "    \n",
        "    plot_df.plot.bar(ax=axes[math.floor(weekday/4),weekday%4], rot=0, figsize=(15,8), log=True)\n",
        "    # Set title\n",
        "    axes[math.floor(weekday/4),weekday%4].set_title(f'{dias_semana[weekday]}')\n",
        "\n",
        "for x_col in axes:\n",
        "    for x in x_col:\n",
        "        if x.get_title() != '':\n",
        "            # Despine\n",
        "            x.spines['right'].set_visible(False)\n",
        "            x.spines['top'].set_visible(False)\n",
        "            x.spines['left'].set_visible(False)\n",
        "\n",
        "            # Switch off ticks\n",
        "            x.tick_params(axis=\"both\", which=\"both\", bottom=\"off\", top=\"off\", labelbottom=\"on\", left=\"off\", right=\"off\", labelleft=\"on\")\n",
        "\n",
        "            # Draw horizontal axis lines\n",
        "            vals = x.get_yticks()\n",
        "            for tick in vals:\n",
        "                x.axhline(y=tick, linestyle='dashed', alpha=0.4, color='#eeeeee', zorder=1)\n",
        "\n",
        "            # Set y-lim\n",
        "            x.set_ylim(top=1e6)\n",
        "\n",
        "            # Set x-axis label\n",
        "            x.set_xlabel(f\"LOS\", labelpad=20, weight='bold', size=12)"
      ],
      "metadata": {
        "id": "vEXbqgri97D_",
        "outputId": "3b694900-edb9-4df6-bc91-40e19f8f3169",
        "colab": {
          "base_uri": "https://localhost:8080/",
          "height": 532
        }
      },
      "execution_count": null,
      "outputs": [
        {
          "output_type": "display_data",
          "data": {
            "text/plain": [
              "<Figure size 1080x576 with 8 Axes>"
            ],
            "image/png": "[encoded data removed]"
          },
          "metadata": {
            "needs_background": "light"
          }
        }
      ]
    },
    {
      "cell_type": "markdown",
      "source": [
        "> Per hour link LOS histogram"
      ],
      "metadata": {
        "id": "wSrnpPc_Unbz"
      }
    },
    {
      "cell_type": "code",
      "source": [
        "fig, axes = plt.subplots(nrows=3, ncols=8)\n",
        "for hour in range(0,24):\n",
        "    plot_df = pd.DataFrame(index=[i for i in range(1,7)])\n",
        "    for LINK in range(5,11):\n",
        "        plot_df[f'Link{LINK}'] = training_df[(training_df['link_id']==LINK) & (training_df.index.hour == hour)].groupby('LOS_dep')['tt_arr'].count()\n",
        "    plot_df.fillna(0)\n",
        "    \n",
        "    plot_df.plot.bar(ax=axes[math.floor(hour/8),hour%8], rot=0, figsize=(30,12), log=True)\n",
        "    # Set title\n",
        "    axes[math.floor(hour/8),hour%8].set_title(f'Hour {hour}')\n",
        "\n",
        "for x_col in axes:\n",
        "    for x in x_col:\n",
        "        if x.get_title() != '':\n",
        "            # Despine\n",
        "            x.spines['right'].set_visible(False)\n",
        "            x.spines['top'].set_visible(False)\n",
        "            x.spines['left'].set_visible(False)\n",
        "\n",
        "            # Switch off ticks\n",
        "            x.tick_params(axis=\"both\", which=\"both\", bottom=\"off\", top=\"off\", labelbottom=\"on\", left=\"off\", right=\"off\", labelleft=\"on\")\n",
        "\n",
        "            # Draw horizontal axis lines\n",
        "            vals = x.get_yticks()\n",
        "            for tick in vals:\n",
        "                x.axhline(y=tick, linestyle='dashed', alpha=0.4, color='#eeeeee', zorder=1)\n",
        "\n",
        "            # Set y-lim\n",
        "            x.set_ylim(top=1e6)\n",
        "\n",
        "            # Set x-axis label\n",
        "            x.set_xlabel(f\"LOS\", labelpad=20, weight='bold', size=12)"
      ],
      "metadata": {
        "id": "LrhJGWF5tX1X",
        "outputId": "aa0f8976-c235-4b0c-c011-215b75bd096f",
        "colab": {
          "base_uri": "https://localhost:8080/",
          "height": 749
        }
      },
      "execution_count": null,
      "outputs": [
        {
          "output_type": "display_data",
          "data": {
            "text/plain": [
              "<Figure size 2160x864 with 24 Axes>"
            ],
            "image/png": "[encoded data removed]"
          },
          "metadata": {
            "needs_background": "light"
          }
        }
      ]
    },
    {
      "cell_type": "markdown",
      "source": [
        "> Statistical distribution of Times of Arrival per Level of Service"
      ],
      "metadata": {
        "id": "lai3PjvDrjAe"
      }
    },
    {
      "cell_type": "code",
      "source": [
        "fig, axs = plt.subplots(6,6)\n",
        "fig.set_size_inches(25, 10)\n",
        "for LINK in range(5,11):\n",
        "    plot_df=training_df[(training_df['link_id']==LINK)]\n",
        "\n",
        "    # Plot violinplot tt_arr per LOS\n",
        "    for LOS in range(1,7):\n",
        "        axs[LOS-1,LINK-5].set(xlim=(0, 1800))\n",
        "        violinplot(data=plot_df[plot_df[\"LOS_dep\"] == LOS], x=\"tt_arr\", cut=0, ax=axs[LOS-1,LINK-5]).set(ylabel=f\"LOS {LOS}\")"
      ],
      "metadata": {
        "colab": {
          "base_uri": "https://localhost:8080/",
          "height": 606
        },
        "id": "rfKm1u3IwXrW",
        "outputId": "d81bab32-a967-495b-d71b-6731a2c18814"
      },
      "execution_count": null,
      "outputs": [
        {
          "output_type": "display_data",
          "data": {
            "text/plain": [
              "<Figure size 1800x720 with 36 Axes>"
            ],
            "image/png": "[encoded data removed]"
          },
          "metadata": {
            "needs_background": "light"
          }
        }
      ]
    },
    {
      "cell_type": "markdown",
      "source": [
        "## Statistical"
      ],
      "metadata": {
        "id": "vSWs7NiIosxn"
      }
    },
    {
      "cell_type": "markdown",
      "source": [
        "> Features available"
      ],
      "metadata": {
        "id": "qRCPZB2RoaEj"
      }
    },
    {
      "cell_type": "code",
      "source": [
        "training_df[['link_id','tt_arr','LOS_dep']].describe()"
      ],
      "metadata": {
        "colab": {
          "base_uri": "https://localhost:8080/",
          "height": 300
        },
        "id": "l3_060ENohq6",
        "outputId": "f0b56dd6-d7da-444a-db95-b9373ab8298c"
      },
      "execution_count": null,
      "outputs": [
        {
          "output_type": "execute_result",
          "data": {
            "text/plain": [
              "            link_id        tt_arr       LOS_dep\n",
              "count  7.386120e+06  7.386120e+06  7.386120e+06\n",
              "mean   7.500000e+00  2.466202e+02  1.214961e+00\n",
              "std    1.707825e+00  1.247695e+02  6.847303e-01\n",
              "min    5.000000e+00  9.400000e+01  1.000000e+00\n",
              "25%    6.000000e+00  1.250000e+02  1.000000e+00\n",
              "50%    7.500000e+00  2.440000e+02  1.000000e+00\n",
              "75%    9.000000e+00  3.080000e+02  1.000000e+00\n",
              "max    1.000000e+01  1.756500e+03  6.000000e+00"
            ],
            "text/html": [
              "\n",
              "  <div id=\"df-e24d4568-f8db-4635-9087-3b425d241b56\">\n",
              "    <div class=\"colab-df-container\">\n",
              "      <div>\n",
              "<style scoped>\n",
              "    .dataframe tbody tr th:only-of-type {\n",
              "        vertical-align: middle;\n",
              "    }\n",
              "\n",
              "    .dataframe tbody tr th {\n",
              "        vertical-align: top;\n",
              "    }\n",
              "\n",
              "    .dataframe thead th {\n",
              "        text-align: right;\n",
              "    }\n",
              "</style>\n",
              "<table border=\"1\" class=\"dataframe\">\n",
              "  <thead>\n",
              "    <tr style=\"text-align: right;\">\n",
              "      <th></th>\n",
              "      <th>link_id</th>\n",
              "      <th>tt_arr</th>\n",
              "      <th>LOS_dep</th>\n",
              "    </tr>\n",
              "  </thead>\n",
              "  <tbody>\n",
              "    <tr>\n",
              "      <th>count</th>\n",
              "      <td>7.386120e+06</td>\n",
              "      <td>7.386120e+06</td>\n",
              "      <td>7.386120e+06</td>\n",
              "    </tr>\n",
              "    <tr>\n",
              "      <th>mean</th>\n",
              "      <td>7.500000e+00</td>\n",
              "      <td>2.466202e+02</td>\n",
              "      <td>1.214961e+00</td>\n",
              "    </tr>\n",
              "    <tr>\n",
              "      <th>std</th>\n",
              "      <td>1.707825e+00</td>\n",
              "      <td>1.247695e+02</td>\n",
              "      <td>6.847303e-01</td>\n",
              "    </tr>\n",
              "    <tr>\n",
              "      <th>min</th>\n",
              "      <td>5.000000e+00</td>\n",
              "      <td>9.400000e+01</td>\n",
              "      <td>1.000000e+00</td>\n",
              "    </tr>\n",
              "    <tr>\n",
              "      <th>25%</th>\n",
              "      <td>6.000000e+00</td>\n",
              "      <td>1.250000e+02</td>\n",
              "      <td>1.000000e+00</td>\n",
              "    </tr>\n",
              "    <tr>\n",
              "      <th>50%</th>\n",
              "      <td>7.500000e+00</td>\n",
              "      <td>2.440000e+02</td>\n",
              "      <td>1.000000e+00</td>\n",
              "    </tr>\n",
              "    <tr>\n",
              "      <th>75%</th>\n",
              "      <td>9.000000e+00</td>\n",
              "      <td>3.080000e+02</td>\n",
              "      <td>1.000000e+00</td>\n",
              "    </tr>\n",
              "    <tr>\n",
              "      <th>max</th>\n",
              "      <td>1.000000e+01</td>\n",
              "      <td>1.756500e+03</td>\n",
              "      <td>6.000000e+00</td>\n",
              "    </tr>\n",
              "  </tbody>\n",
              "</table>\n",
              "</div>\n",
              "      <button class=\"colab-df-convert\" onclick=\"convertToInteractive('df-e24d4568-f8db-4635-9087-3b425d241b56')\"\n",
              "              title=\"Convert this dataframe to an interactive table.\"\n",
              "              style=\"display:none;\">\n",
              "        \n",
              "  <svg xmlns=\"http://www.w3.org/2000/svg\" height=\"24px\"viewBox=\"0 0 24 24\"\n",
              "       width=\"24px\">\n",
              "    <path d=\"M0 0h24v24H0V0z\" fill=\"none\"/>\n",
              "    <path d=\"M18.56 5.44l.94 2.06.94-2.06 2.06-.94-2.06-.94-.94-2.06-.94 2.06-2.06.94zm-11 1L8.5 8.5l.94-2.06 2.06-.94-2.06-.94L8.5 2.5l-.94 2.06-2.06.94zm10 10l.94 2.06.94-2.06 2.06-.94-2.06-.94-.94-2.06-.94 2.06-2.06.94z\"/><path d=\"M17.41 7.96l-1.37-1.37c-.4-.4-.92-.59-1.43-.59-.52 0-1.04.2-1.43.59L10.3 9.45l-7.72 7.72c-.78.78-.78 2.05 0 2.83L4 21.41c.39.39.9.59 1.41.59.51 0 1.02-.2 1.41-.59l7.78-7.78 2.81-2.81c.8-.78.8-2.07 0-2.86zM5.41 20L4 18.59l7.72-7.72 1.47 1.35L5.41 20z\"/>\n",
              "  </svg>\n",
              "      </button>\n",
              "      \n",
              "  <style>\n",
              "    .colab-df-container {\n",
              "      display:flex;\n",
              "      flex-wrap:wrap;\n",
              "      gap: 12px;\n",
              "    }\n",
              "\n",
              "    .colab-df-convert {\n",
              "      background-color: #E8F0FE;\n",
              "      border: none;\n",
              "      border-radius: 50%;\n",
              "      cursor: pointer;\n",
              "      display: none;\n",
              "      fill: #1967D2;\n",
              "      height: 32px;\n",
              "      padding: 0 0 0 0;\n",
              "      width: 32px;\n",
              "    }\n",
              "\n",
              "    .colab-df-convert:hover {\n",
              "      background-color: #E2EBFA;\n",
              "      box-shadow: 0px 1px 2px rgba(60, 64, 67, 0.3), 0px 1px 3px 1px rgba(60, 64, 67, 0.15);\n",
              "      fill: #174EA6;\n",
              "    }\n",
              "\n",
              "    [theme=dark] .colab-df-convert {\n",
              "      background-color: #3B4455;\n",
              "      fill: #D2E3FC;\n",
              "    }\n",
              "\n",
              "    [theme=dark] .colab-df-convert:hover {\n",
              "      background-color: #434B5C;\n",
              "      box-shadow: 0px 1px 3px 1px rgba(0, 0, 0, 0.15);\n",
              "      filter: drop-shadow(0px 1px 2px rgba(0, 0, 0, 0.3));\n",
              "      fill: #FFFFFF;\n",
              "    }\n",
              "  </style>\n",
              "\n",
              "      <script>\n",
              "        const buttonEl =\n",
              "          document.querySelector('#df-e24d4568-f8db-4635-9087-3b425d241b56 button.colab-df-convert');\n",
              "        buttonEl.style.display =\n",
              "          google.colab.kernel.accessAllowed ? 'block' : 'none';\n",
              "\n",
              "        async function convertToInteractive(key) {\n",
              "          const element = document.querySelector('#df-e24d4568-f8db-4635-9087-3b425d241b56');\n",
              "          const dataTable =\n",
              "            await google.colab.kernel.invokeFunction('convertToInteractive',\n",
              "                                                     [key], {});\n",
              "          if (!dataTable) return;\n",
              "\n",
              "          const docLinkHtml = 'Like what you see? Visit the ' +\n",
              "            '<a target=\"_blank\" href=https://colab.research.google.com/notebooks/data_table.ipynb>data table notebook</a>'\n",
              "            + ' to learn more about interactive tables.';\n",
              "          element.innerHTML = '';\n",
              "          dataTable['output_type'] = 'display_data';\n",
              "          await google.colab.output.renderOutput(dataTable, element);\n",
              "          const docLink = document.createElement('div');\n",
              "          docLink.innerHTML = docLinkHtml;\n",
              "          element.appendChild(docLink);\n",
              "        }\n",
              "      </script>\n",
              "    </div>\n",
              "  </div>\n",
              "  "
            ]
          },
          "metadata": {},
          "execution_count": 18
        }
      ]
    },
    {
      "cell_type": "markdown",
      "source": [
        "> Per-link id data balance\n",
        "\n",
        "\n",
        "\n"
      ],
      "metadata": {
        "id": "LffejJtNee70"
      }
    },
    {
      "cell_type": "code",
      "source": [
        "training_df[training_df['LOS_dep']==4]['link_id'].value_counts()[training_df.link_id.unique()]"
      ],
      "metadata": {
        "colab": {
          "base_uri": "https://localhost:8080/"
        },
        "id": "FHc-vNs-oeQi",
        "outputId": "22c390c7-5bc7-44fc-b264-40b0f253ac2c"
      },
      "execution_count": null,
      "outputs": [
        {
          "output_type": "execute_result",
          "data": {
            "text/plain": [
              "5     28407\n",
              "6     20875\n",
              "7     11497\n",
              "8      8188\n",
              "9      4173\n",
              "10    20101\n",
              "Name: link_id, dtype: int64"
            ]
          },
          "metadata": {},
          "execution_count": 25
        }
      ]
    },
    {
      "cell_type": "markdown",
      "source": [
        "> Test normality of Times of Arrival"
      ],
      "metadata": {
        "id": "wF_8AlPWoH5g"
      }
    },
    {
      "cell_type": "code",
      "source": [
        "for LINK in range(5,11):\n",
        "    print(f\"LINK {LINK}\")\n",
        "    for LOS in range(1,7):\n",
        "        print(f\"\\tLOS {LOS}\\tPvalue {shapiro(training_df[(training_df['link_id']==LINK) & (training_df['LOS_dep']==LOS)]['tt_arr']).pvalue}\")"
      ],
      "metadata": {
        "colab": {
          "base_uri": "https://localhost:8080/"
        },
        "id": "mKq-cbYopKVw",
        "outputId": "5a3e2f63-f664-4bc2-eb1a-5bf65432a8ef"
      },
      "execution_count": null,
      "outputs": [
        {
          "output_type": "stream",
          "name": "stdout",
          "text": [
            "LINK 5\n",
            "\tLOS 1\tPvalue 0.0\n",
            "\tLOS 2\tPvalue 0.0\n",
            "\tLOS 3\tPvalue 0.0\n",
            "\tLOS 4\tPvalue 0.0\n",
            "\tLOS 5\tPvalue 3.0895828541433567e-41\n",
            "\tLOS 6\tPvalue 5.011837864629182e-29\n",
            "LINK 6\n",
            "\tLOS 1\tPvalue 0.0\n",
            "\tLOS 2\tPvalue 0.0\n",
            "\tLOS 3\tPvalue 0.0\n",
            "\tLOS 4\tPvalue 0.0\n",
            "\tLOS 5\tPvalue 8.23121877165319e-39\n",
            "\tLOS 6\tPvalue 1.0535939090175312e-16\n",
            "LINK 7\n",
            "\tLOS 1\tPvalue 0.0\n",
            "\tLOS 2\tPvalue 0.0\n",
            "\tLOS 3\tPvalue 0.0\n",
            "\tLOS 4\tPvalue 0.0\n",
            "\tLOS 5\tPvalue 0.0\n",
            "\tLOS 6\tPvalue 6.297267937140083e-13\n",
            "LINK 8\n",
            "\tLOS 1\tPvalue 0.0\n",
            "\tLOS 2\tPvalue 0.0\n",
            "\tLOS 3\tPvalue 0.0\n",
            "\tLOS 4\tPvalue 2.802596928649634e-45\n",
            "\tLOS 5\tPvalue 5.859512404482781e-33\n",
            "\tLOS 6\tPvalue 2.4114945272565777e-41\n",
            "LINK 9\n",
            "\tLOS 1\tPvalue 0.0\n",
            "\tLOS 2\tPvalue 0.0\n",
            "\tLOS 3\tPvalue 0.0\n",
            "\tLOS 4\tPvalue 1.3216130666316006e-38\n",
            "\tLOS 5\tPvalue 3.42259417150919e-14\n",
            "\tLOS 6\tPvalue 7.32835389594122e-11\n",
            "LINK 10\n",
            "\tLOS 1\tPvalue 0.0\n",
            "\tLOS 2\tPvalue 0.0\n",
            "\tLOS 3\tPvalue 0.0\n",
            "\tLOS 4\tPvalue 0.0\n",
            "\tLOS 5\tPvalue 1.401298464324817e-45\n",
            "\tLOS 6\tPvalue 1.0998466610191978e-22\n"
          ]
        }
      ]
    },
    {
      "cell_type": "markdown",
      "source": [
        "# **NAIVE BAYES**"
      ],
      "metadata": {
        "id": "Jf0vYHbXf_9d"
      }
    },
    {
      "cell_type": "markdown",
      "source": [
        "## **NO FEATURE ENGINEERING**"
      ],
      "metadata": {
        "id": "b0q_xwSKgXob"
      }
    },
    {
      "cell_type": "markdown",
      "source": [
        "### *Validation*"
      ],
      "metadata": {
        "id": "-nSLNVNPC-eg"
      }
    },
    {
      "cell_type": "code",
      "source": [
        "for LINK in range(5,11):\n",
        "    print(f\"LINK {LINK}\")\n",
        "    X_train = training_df[training_df['link_id'] == LINK]['tt_arr'].values.reshape(-1, 1)\n",
        "    y_train = training_df[training_df['link_id'] == LINK]['LOS_dep'].values\n",
        "    \n",
        "    sc = preprocessing.StandardScaler()\n",
        "    X_train = sc.fit_transform(X_train)\n",
        "\n",
        "    model = GaussianNB().fit(X_train, y_train)\n",
        "    for LOS in range(1,7):\n",
        "        X_test = sc.transform( validation_df[(validation_df['link_id'] == LINK) & (validation_df['LOS_dep'] == LOS)]['tt_arr'].values.reshape(-1, 1) )\n",
        "        y_pred = model.predict(X_test)\n",
        "\n",
        "        score = metrics.recall_score([LOS]*len(y_pred), y_pred, average='micro')\n",
        "        print(f\"\\tLOS {LOS}: Recall {round(score*100, 2) }%\")"
      ],
      "metadata": {
        "id": "_M_l-rXMC-QF",
        "outputId": "b6c0521f-3bd9-4469-fcfa-7c3ffacdc7a4",
        "colab": {
          "base_uri": "https://localhost:8080/"
        }
      },
      "execution_count": null,
      "outputs": [
        {
          "output_type": "stream",
          "name": "stdout",
          "text": [
            "LINK 5\n",
            "\tLOS 1: Recall 97.23%\n",
            "\tLOS 2: Recall 53.06%\n",
            "\tLOS 3: Recall 40.82%\n",
            "\tLOS 4: Recall 21.36%\n",
            "\tLOS 5: Recall 22.88%\n",
            "\tLOS 6: Recall 59.9%\n",
            "LINK 6\n",
            "\tLOS 1: Recall 96.11%\n",
            "\tLOS 2: Recall 34.04%\n",
            "\tLOS 3: Recall 33.21%\n",
            "\tLOS 4: Recall 15.45%\n",
            "\tLOS 5: Recall 17.77%\n",
            "\tLOS 6: Recall 34.31%\n",
            "LINK 7\n",
            "\tLOS 1: Recall 98.42%\n",
            "\tLOS 2: Recall 57.11%\n",
            "\tLOS 3: Recall 46.48%\n",
            "\tLOS 4: Recall 13.87%\n",
            "\tLOS 5: Recall 16.24%\n",
            "\tLOS 6: Recall 30.1%\n",
            "LINK 8\n",
            "\tLOS 1: Recall 99.53%\n",
            "\tLOS 2: Recall 37.57%\n",
            "\tLOS 3: Recall 80.84%\n",
            "\tLOS 4: Recall 8.35%\n",
            "\tLOS 5: Recall 8.25%\n",
            "\tLOS 6: Recall 60.68%\n",
            "LINK 9\n",
            "\tLOS 1: Recall 97.78%\n",
            "\tLOS 2: Recall 74.72%\n",
            "\tLOS 3: Recall 27.35%\n",
            "\tLOS 4: Recall 37.26%\n",
            "\tLOS 5: Recall 12.93%\n",
            "\tLOS 6: Recall 28.05%\n",
            "LINK 10\n",
            "\tLOS 1: Recall 99.24%\n",
            "\tLOS 2: Recall 46.15%\n",
            "\tLOS 3: Recall 33.92%\n",
            "\tLOS 4: Recall 33.91%\n",
            "\tLOS 5: Recall 46.21%\n",
            "\tLOS 6: Recall 46.8%\n"
          ]
        }
      ]
    },
    {
      "cell_type": "markdown",
      "source": [
        "## **FEATURE ENGINEERING ADJACENT LINK INFORMATION**"
      ],
      "metadata": {
        "id": "kMCMH4xLVPOg"
      }
    },
    {
      "cell_type": "markdown",
      "source": [
        "### *Features creation*\n",
        "\n",
        "For each link, the tt_arrival of the other links are added as features. Therefore we will be using 6 features in total."
      ],
      "metadata": {
        "id": "QwOislVpWYCx"
      }
    },
    {
      "cell_type": "markdown",
      "source": [
        "### *Validation*"
      ],
      "metadata": {
        "id": "3OVEJrjUiqax"
      }
    },
    {
      "cell_type": "code",
      "source": [
        "for LINK in range(5,11):\n",
        "    print(f\"LINK {LINK}\")\n",
        "    other_links = [5,6,7,8,9,10]; other_links.remove(LINK)\n",
        "    training_df_link = training_df[training_df['link_id'] == LINK].copy()\n",
        "\n",
        "    for other_link in other_links:\n",
        "        training_df_link = pd.merge(training_df_link, training_df[training_df['link_id'] == other_link]['tt_arr'], on=['date'], how='inner', suffixes=[None, f'_{other_link}'])\n",
        "    \n",
        "    X_train = training_df_link.filter(regex=(\"tt_ar[^-]+$\")).values\n",
        "    y_train = training_df_link['LOS_dep'].values\n",
        "    \n",
        "    sc = preprocessing.StandardScaler()\n",
        "    X_train = sc.fit_transform(X_train)\n",
        "\n",
        "    model = GaussianNB().fit(X_train, y_train)\n",
        "    for LOS in range(1,7):\n",
        "        validation_df_link = validation_df[(validation_df['link_id'] == LINK) & (validation_df['LOS_dep'] == LOS)].copy()\n",
        "        for other_link in other_links:\n",
        "            validation_df_link = pd.merge(validation_df_link, validation_df[validation_df['link_id'] == other_link]['tt_arr'], on=['date'], how='inner', suffixes=[None, f'_{other_link}'])\n",
        "        X_test = sc.transform( validation_df_link.filter(regex=(\"tt_ar[^-]+$\")).values )\n",
        "        y_pred = model.predict(X_test)\n",
        "\n",
        "        score = metrics.recall_score([LOS]*len(y_pred), y_pred, average='micro')\n",
        "        print(f\"\\tLOS {LOS}: Recall {round(score*100, 2) }%\")"
      ],
      "metadata": {
        "id": "xUUuA-vpinjr",
        "outputId": "614d0c27-626e-43de-cfef-2483ed71514d",
        "colab": {
          "base_uri": "https://localhost:8080/"
        }
      },
      "execution_count": null,
      "outputs": [
        {
          "output_type": "stream",
          "name": "stdout",
          "text": [
            "LINK 5\n",
            "\tLOS 1: Recall 94.71%\n",
            "\tLOS 2: Recall 45.1%\n",
            "\tLOS 3: Recall 38.25%\n",
            "\tLOS 4: Recall 20.15%\n",
            "\tLOS 5: Recall 24.19%\n",
            "\tLOS 6: Recall 59.22%\n",
            "LINK 6\n",
            "\tLOS 1: Recall 92.41%\n",
            "\tLOS 2: Recall 38.44%\n",
            "\tLOS 3: Recall 46.79%\n",
            "\tLOS 4: Recall 17.23%\n",
            "\tLOS 5: Recall 26.79%\n",
            "\tLOS 6: Recall 35.65%\n",
            "LINK 7\n",
            "\tLOS 1: Recall 92.15%\n",
            "\tLOS 2: Recall 61.94%\n",
            "\tLOS 3: Recall 42.9%\n",
            "\tLOS 4: Recall 14.3%\n",
            "\tLOS 5: Recall 12.48%\n",
            "\tLOS 6: Recall 47.77%\n",
            "LINK 8\n",
            "\tLOS 1: Recall 94.01%\n",
            "\tLOS 2: Recall 60.07%\n",
            "\tLOS 3: Recall 76.98%\n",
            "\tLOS 4: Recall 19.58%\n",
            "\tLOS 5: Recall 10.38%\n",
            "\tLOS 6: Recall 62.61%\n",
            "LINK 9\n",
            "\tLOS 1: Recall 91.33%\n",
            "\tLOS 2: Recall 66.3%\n",
            "\tLOS 3: Recall 34.29%\n",
            "\tLOS 4: Recall 35.3%\n",
            "\tLOS 5: Recall 24.19%\n",
            "\tLOS 6: Recall 31.44%\n",
            "LINK 10\n",
            "\tLOS 1: Recall 92.21%\n",
            "\tLOS 2: Recall 52.36%\n",
            "\tLOS 3: Recall 29.03%\n",
            "\tLOS 4: Recall 25.99%\n",
            "\tLOS 5: Recall 37.58%\n",
            "\tLOS 6: Recall 49.08%\n"
          ]
        }
      ]
    },
    {
      "cell_type": "markdown",
      "source": [
        "## **FEATURE ENGINEERING ADJACENT LINK INFORMATION + TEMPORAL INFORMATION (UP TO PREVIOUS 45MIN)**"
      ],
      "metadata": {
        "id": "q5rt2wXpNypB"
      }
    },
    {
      "cell_type": "markdown",
      "source": [
        "### *Features creation*\n",
        "\n",
        "For each link, the tt_arrival of the other links, covering the previous 50min from prediction time, are added as features. Therefore we will be using 60 features in total as maximum."
      ],
      "metadata": {
        "id": "ZZRaFA1QN_X0"
      }
    },
    {
      "cell_type": "markdown",
      "source": [
        "### *Validation*"
      ],
      "metadata": {
        "id": "I4AoRG2RlgIB"
      }
    },
    {
      "cell_type": "code",
      "source": [
        "print(f'USING PREVIOUS {INPUT_MINUTES_BEFORE}m INFORMATION')\n",
        "for LINK in range(5,11):\n",
        "    print(f\"LINK {LINK}\")\n",
        "    other_links = [5,6,7,8,9,10]; other_links.remove(LINK)\n",
        "    training_df_link = training_df[training_df['link_id'] == LINK].copy()\n",
        "\n",
        "    for other_link in other_links:\n",
        "        training_df_link = pd.merge(training_df_link, training_df[training_df['link_id'] == other_link].filter(regex=(\"tt_arr.*\")), on=['date'], how='inner', suffixes=[None, f'_{other_link}'])\n",
        "    \n",
        "    X_train = training_df_link.filter(regex=(\"tt_arr.*\")).values\n",
        "    y_train = training_df_link['LOS_dep'].values\n",
        "    \n",
        "    sc = preprocessing.StandardScaler()\n",
        "    X_train = sc.fit_transform(X_train)\n",
        "\n",
        "    model = GaussianNB().fit(X_train, y_train)\n",
        "    for LOS in range(1,7):\n",
        "        validation_df_link = validation_df[(validation_df['link_id'] == LINK) & (validation_df['LOS_dep'] == LOS)].copy()\n",
        "        for other_link in other_links:\n",
        "            validation_df_link = pd.merge(validation_df_link, validation_df[validation_df['link_id'] == other_link].filter(regex=(\"tt_arr.*\")), on=['date'], how='inner', suffixes=[None, f'_{other_link}'])\n",
        "        X_test = sc.transform( validation_df_link.filter(regex=(\"tt_arr.*\")).values )\n",
        "        y_pred = model.predict(X_test)\n",
        "\n",
        "        score = metrics.recall_score([LOS]*len(y_pred), y_pred, average='micro')\n",
        "        print(f\"\\tLOS {LOS}: Recall {round(score*100, 2) }%\")"
      ],
      "metadata": {
        "id": "F9LI4WsIllAB",
        "outputId": "c0b6c309-60a0-4ceb-f9fa-e5a8096d3b40",
        "colab": {
          "base_uri": "https://localhost:8080/"
        }
      },
      "execution_count": null,
      "outputs": [
        {
          "output_type": "stream",
          "name": "stdout",
          "text": [
            "LINK 5\n",
            "\tLOS 1: Recall 92.13%\n",
            "\tLOS 2: Recall 39.55%\n",
            "\tLOS 3: Recall 29.16%\n",
            "\tLOS 4: Recall 19.54%\n",
            "\tLOS 5: Recall 23.77%\n",
            "\tLOS 6: Recall 62.57%\n",
            "LINK 6\n",
            "\tLOS 1: Recall 89.42%\n",
            "\tLOS 2: Recall 33.89%\n",
            "\tLOS 3: Recall 39.04%\n",
            "\tLOS 4: Recall 15.23%\n",
            "\tLOS 5: Recall 22.03%\n",
            "\tLOS 6: Recall 41.77%\n",
            "LINK 7\n",
            "\tLOS 1: Recall 88.72%\n",
            "\tLOS 2: Recall 58.36%\n",
            "\tLOS 3: Recall 28.98%\n",
            "\tLOS 4: Recall 20.79%\n",
            "\tLOS 5: Recall 11.4%\n",
            "\tLOS 6: Recall 37.96%\n",
            "LINK 8\n",
            "\tLOS 1: Recall 89.82%\n",
            "\tLOS 2: Recall 32.24%\n",
            "\tLOS 3: Recall 68.63%\n",
            "\tLOS 4: Recall 34.23%\n",
            "\tLOS 5: Recall 15.5%\n",
            "\tLOS 6: Recall 48.55%\n",
            "LINK 9\n",
            "\tLOS 1: Recall 87.66%\n",
            "\tLOS 2: Recall 53.49%\n",
            "\tLOS 3: Recall 17.93%\n",
            "\tLOS 4: Recall 3.58%\n",
            "\tLOS 5: Recall 16.82%\n",
            "\tLOS 6: Recall 47.88%\n",
            "LINK 10\n",
            "\tLOS 1: Recall 87.75%\n",
            "\tLOS 2: Recall 33.32%\n",
            "\tLOS 3: Recall 17.89%\n",
            "\tLOS 4: Recall 17.53%\n",
            "\tLOS 5: Recall 19.25%\n",
            "\tLOS 6: Recall 48.41%\n"
          ]
        }
      ]
    },
    {
      "cell_type": "markdown",
      "source": [
        "# **RUSBoost**"
      ],
      "metadata": {
        "id": "RMogxy-BNDjn"
      }
    },
    {
      "cell_type": "markdown",
      "source": [
        "## **MANUAL RUS**"
      ],
      "metadata": {
        "id": "hOR0-uKCzk7s"
      }
    },
    {
      "cell_type": "markdown",
      "source": [
        "This implementation validates that the performance acchieved with the RUSBoost algorithm is consistent with a first approach of Random Undersampling and posterior training."
      ],
      "metadata": {
        "id": "RaA8Y5Jn5BqR"
      }
    },
    {
      "cell_type": "markdown",
      "source": [
        "![image.png](data:image/png;base64,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)"
      ],
      "metadata": {
        "id": "BX1vedbB7CQh"
      }
    },
    {
      "cell_type": "markdown",
      "source": [
        "### *Validation*"
      ],
      "metadata": {
        "id": "T2nYKujgzvMr"
      }
    },
    {
      "cell_type": "code",
      "source": [
        "for LINK in range(5,11):\n",
        "    print(f\"LINK {LINK}\")\n",
        "    n = min(training_df[training_df['link_id'] == LINK].groupby('LOS_dep')['tt_arr'].count())\n",
        "    X = np.empty(0)\n",
        "    y = np.empty(0)\n",
        "    for LOS in range(1,7):\n",
        "        training_df_LOS = training_df[(training_df['link_id'] == LINK) & (training_df['LOS_dep'] == LOS)].sample(n)[['tt_arr','LOS_dep']]\n",
        "        X = np.append(X, training_df_LOS['tt_arr'].values)\n",
        "        y = np.append(y, training_df_LOS['LOS_dep'].values)\n",
        "    X = X.reshape(-1, 1)\n",
        "\n",
        "    model = DecisionTreeClassifier(max_depth=64).fit(X, y)\n",
        "\n",
        "    for LOS in range(1,7):\n",
        "        X_test = validation_df[(validation_df['link_id'] == LINK) & (validation_df['LOS_dep'] == LOS)]['tt_arr'].values.reshape(-1, 1)\n",
        "        y_pred = model.predict(X_test)\n",
        "\n",
        "        score = metrics.recall_score([LOS]*len(y_pred), y_pred, average='micro')\n",
        "        print(f\"\\tLOS {LOS}: Recall {round(score*100, 2) }%\")"
      ],
      "metadata": {
        "id": "TdK1p84ezgo3",
        "outputId": "640901e6-1a46-458a-fd2c-782002fa3e34",
        "colab": {
          "base_uri": "https://localhost:8080/"
        }
      },
      "execution_count": null,
      "outputs": [
        {
          "output_type": "stream",
          "name": "stdout",
          "text": [
            "LINK 5\n",
            "\tLOS 1: Recall 87.26%\n",
            "\tLOS 2: Recall 58.04%\n",
            "\tLOS 3: Recall 36.73%\n",
            "\tLOS 4: Recall 37.12%\n",
            "\tLOS 5: Recall 38.59%\n",
            "\tLOS 6: Recall 63.68%\n",
            "LINK 6\n",
            "\tLOS 1: Recall 88.45%\n",
            "\tLOS 2: Recall 64.12%\n",
            "\tLOS 3: Recall 48.08%\n",
            "\tLOS 4: Recall 30.14%\n",
            "\tLOS 5: Recall 31.07%\n",
            "\tLOS 6: Recall 37.92%\n",
            "LINK 7\n",
            "\tLOS 1: Recall 91.45%\n",
            "\tLOS 2: Recall 67.06%\n",
            "\tLOS 3: Recall 46.35%\n",
            "\tLOS 4: Recall 23.48%\n",
            "\tLOS 5: Recall 30.35%\n",
            "\tLOS 6: Recall 43.59%\n",
            "LINK 8\n",
            "\tLOS 1: Recall 95.02%\n",
            "\tLOS 2: Recall 64.22%\n",
            "\tLOS 3: Recall 71.28%\n",
            "\tLOS 4: Recall 39.37%\n",
            "\tLOS 5: Recall 24.46%\n",
            "\tLOS 6: Recall 51.76%\n",
            "LINK 9\n",
            "\tLOS 1: Recall 88.56%\n",
            "\tLOS 2: Recall 59.88%\n",
            "\tLOS 3: Recall 56.42%\n",
            "\tLOS 4: Recall 46.73%\n",
            "\tLOS 5: Recall 48.79%\n",
            "\tLOS 6: Recall 28.33%\n",
            "LINK 10\n",
            "\tLOS 1: Recall 92.72%\n",
            "\tLOS 2: Recall 69.06%\n",
            "\tLOS 3: Recall 44.51%\n",
            "\tLOS 4: Recall 33.7%\n",
            "\tLOS 5: Recall 36.66%\n",
            "\tLOS 6: Recall 56.1%\n"
          ]
        }
      ]
    },
    {
      "cell_type": "markdown",
      "source": [
        "## **NO FEATURE ENGINEERING**"
      ],
      "metadata": {
        "id": "0-sWClA_oG-s"
      }
    },
    {
      "cell_type": "markdown",
      "source": [
        "### *Validation*"
      ],
      "metadata": {
        "id": "di2v_3BPztW8"
      }
    },
    {
      "cell_type": "code",
      "source": [
        "training = []\n",
        "validation = []\n",
        "total_size = 0\n",
        "\n",
        "directory = '/content/drive/MyDrive/Traffic/data/processed/'\n",
        "for filename in os.listdir(directory):\n",
        "    f = os.path.join(directory, filename)\n",
        "    df=pd.read_csv(f)\n",
        "    print(f'{filename} {df.shape[0]/(60*24*6)}')\n",
        "    df[\"date\"] = pd.to_datetime(df[\"date\"], format='%d-%b-%Y %H:%M:%S')\n",
        "    df = df.set_index(\"date\")\n",
        "    Y = df.shift(-PREDICTED_MINUTES_AHEAD, freq='min')[['link_id', 'LOS_dep']]\n",
        "    # Training set\n",
        "    X = df.loc[(df.index.day < 20)][['link_id', 'tt_arr']]\n",
        "    training.append( pd.merge(X, Y, on=['date', 'link_id'], how='inner') )\n",
        "    # Validation set\n",
        "    X = df.loc[~(df.index.day < 20)][['link_id', 'tt_arr']]\n",
        "    validation.append( pd.merge(X, Y, on=['date', 'link_id'], how='inner') )\n",
        "    total_size += df.shape[0]\n",
        "    break\n",
        "del df\n",
        "training_df = pd.concat(training)\n",
        "validation_df = pd.concat(validation)"
      ],
      "metadata": {
        "id": "XsaA3qEpvuLr",
        "outputId": "28f2326c-a52c-43c2-800e-9900a367c013",
        "colab": {
          "base_uri": "https://localhost:8080/"
        }
      },
      "execution_count": 82,
      "outputs": [
        {
          "output_type": "stream",
          "name": "stdout",
          "text": [
            "Sevilla_2015.csv 365.0\n"
          ]
        }
      ]
    },
    {
      "cell_type": "code",
      "source": [
        "for LINK in range(5,11):\n",
        "    print(f\"LINK {LINK}\")\n",
        "    X = training_df[training_df['link_id'] == LINK]['tt_arr'].values.reshape(-1, 1)\n",
        "    y = training_df[training_df['link_id'] == LINK]['LOS_dep'].values\n",
        "\n",
        "    model = RUSBoostClassifier(base_estimator=DecisionTreeClassifier(max_depth=128), n_estimators=60, learning_rate=0.3).fit(X, y)\n",
        "\n",
        "    for LOS in range(1,7):\n",
        "        X_test = validation_df[(validation_df['link_id'] == LINK) & (validation_df['LOS_dep'] == LOS)]['tt_arr'].values.reshape(-1, 1)\n",
        "        y_pred = model.predict(X_test)\n",
        "\n",
        "        score = metrics.recall_score([LOS]*len(y_pred), y_pred, average='micro')\n",
        "        print(f\"\\tLOS {LOS}: Recall {round(score*100, 2) }%\")"
      ],
      "metadata": {
        "id": "KBCTMBoxoN4M"
      },
      "execution_count": null,
      "outputs": []
    },
    {
      "cell_type": "code",
      "source": [
        "def labelToIndex(i,clf):\n",
        "    return clf.labelDict[i]\n",
        "\n",
        "def indexToLabel(i,clf):\n",
        "    return clf.classes[i]\n",
        "\n",
        "class RusBoostClassifier:\n",
        "    \n",
        "    def __init__(self,base_estimator=None,n_estimators=50,learning_rate=1.0):\n",
        "        self.n_estimators = n_estimators\n",
        "        self.learning_rate = learning_rate\n",
        "        self.models = [None]*n_estimators\n",
        "        if base_estimator == None:\n",
        "            base_estimator = DecisionTreeClassifier(max_depth=1)\n",
        "        self.base_estimator = base_estimator\n",
        "        self.estimator_errors_ = []\n",
        "        \n",
        "    def fit(self, df: pd.DataFrame, X_columns: str, y_column: str):\n",
        "        \"\"\"\n",
        "        param df: Training dataframe with shape (n_samples, )\n",
        "        param X_columns: pattern matching df column names that contain the features\n",
        "        param y_column: name of df column name that contains the labels\n",
        "        \"\"\"\n",
        "        \n",
        "        N = df.shape[0]\n",
        "        w = {epoch: 1/N for epoch in np.int32(df.index.astype(np.int64)/1e9)}\n",
        "        \n",
        "        self.createLabelDict(np.unique(df[y_column]))\n",
        "        k = len(self.classes)\n",
        "        undersampling_n = min(df[y_column].value_counts())\n",
        "        \n",
        "        for m in range(self.n_estimators):\n",
        "            \n",
        "            df_ = pd.DataFrame()\n",
        "            for label_ in self.classes:\n",
        "                # Quizas muestrear usando la inversa de los pesos (.sample(weights=1/w)) para hacer overfit en los casos con menos error == underfit\n",
        "                df_ = pd.concat([ df_, df[ df[y_column]==label_ ].sample(undersampling_n, replace=False) ])\n",
        "            \n",
        "            w_indices_ = np.int32(df_.index.astype(np.int64)/1e9)\n",
        "            w_ = np.array([w[i] for i in w_indices_])\n",
        "\n",
        "            X_ = df_.filter(regex=(X_columns)).values\n",
        "            y_ = df_[y_column].values\n",
        "\n",
        "            Gm = base.clone(self.base_estimator).\\\n",
        "                            fit(X_,y_,sample_weight=w_).predict\n",
        "            \n",
        "            incorrect = Gm(X_) != y_\n",
        "            errM = np.average(incorrect,weights=w_,axis=0)\n",
        "            \n",
        "            self.estimator_errors_.append(errM)\n",
        "            \n",
        "            BetaM = np.log((1-errM)/errM)+np.log(k-1)\n",
        "            incorrect_ = incorrect*(w_ > 0)\n",
        "            for i, j in enumerate(w_indices_):\n",
        "                w[j] *= np.exp(self.learning_rate* BetaM*incorrect_[i])\n",
        "            \n",
        "            self.models[m] = (BetaM,Gm)\n",
        "        self.weights = w\n",
        "\n",
        "        return self\n",
        "            \n",
        "    def createLabelDict(self,classes):\n",
        "        self.labelDict = {}\n",
        "        self.classes = classes\n",
        "        for i,cl in enumerate(classes):\n",
        "            self.labelDict[cl] = i\n",
        "\n",
        "    def predict(self,X):\n",
        "        k = len(self.classes)\n",
        "        Bms_ = [Bm for Bm,Gm in self.models]\n",
        "        prob_matrix = np.full((X.shape[0],k), -sum(Bms_)/(k-1))\n",
        "        \n",
        "        # Obtain the predicted index array with shape (#obs,#weak_learners)\n",
        "        iTL = np.vectorize(labelToIndex)\n",
        "        y_pred = np.stack([iTL(Gm(X),self) for Bm,Gm in self.models], axis=-1)\n",
        "\n",
        "        # Weight the indices count using Bm associated to each weak_learner\n",
        "        prob_matrix += np.apply_along_axis(lambda x: np.bincount(x, weights=Bms_, minlength=k), axis=1, arr=y_pred)*k/(k-1)\n",
        "        \n",
        "        iTL = np.vectorize(indexToLabel)\n",
        "        return iTL(np.argmax(prob_matrix,axis=1),self)"
      ],
      "metadata": {
        "id": "ZlA-vfNNpYOP"
      },
      "execution_count": 109,
      "outputs": []
    },
    {
      "cell_type": "code",
      "source": [
        "fig, ax = plt.subplots()\n",
        "ax.plot(np.arange(len(model.weights)), model.weights)\n",
        "\n",
        "ax.set(xlabel='Observation', ylabel='weight',\n",
        "       title='Weight per observation')\n",
        "ax.grid()\n",
        "plt.show()"
      ],
      "metadata": {
        "id": "CubsFZ5p1h8I"
      },
      "execution_count": null,
      "outputs": []
    },
    {
      "cell_type": "code",
      "source": [
        "fig, ax = plt.subplots()\n",
        "ax.plot(np.arange(model.n_estimators), model.estimator_errors_)\n",
        "\n",
        "ax.set(xlabel='#Estimator', ylabel='Estimation error',\n",
        "       title='Evolution of errors training estimators')\n",
        "ax.grid()\n",
        "plt.show()"
      ],
      "metadata": {
        "id": "fzFBi1h7q_EO",
        "outputId": "a9b9d022-803d-4594-c1b8-517c0d4a4d88",
        "colab": {
          "base_uri": "https://localhost:8080/",
          "height": 472
        }
      },
      "execution_count": 104,
      "outputs": [
        {
          "output_type": "display_data",
          "data": {
            "text/plain": [
              "<Figure size 640x480 with 1 Axes>"
            ],
            "image/png": "[encoded data removed]"
          },
          "metadata": {}
        }
      ]
    },
    {
      "cell_type": "code",
      "source": [
        "for LINK in range(5,11):\n",
        "    print(f\"LINK {LINK}\")\n",
        "    X = training_df[training_df['link_id'] == LINK]['tt_arr'].values.reshape(-1, 1)\n",
        "    y = training_df[training_df['link_id'] == LINK]['LOS_dep'].values\n",
        "\n",
        "    model = RusBoostClassifier(n_estimators=60, learning_rate=0.3).fit(training_df[training_df['link_id'] == LINK], 'tt_arr', 'LOS_dep')\n",
        "\n",
        "    for LOS in range(1,7):\n",
        "        X_test = validation_df[(validation_df['link_id'] == LINK) & (validation_df['LOS_dep'] == LOS)]['tt_arr'].values.reshape(-1, 1)\n",
        "        y_pred = model.predict(X_test)\n",
        "\n",
        "        score = metrics.recall_score([LOS]*len(y_pred), y_pred, average='micro')\n",
        "        print(f\"\\tLOS {LOS}: Recall {round(score*100, 2) }%\")"
      ],
      "metadata": {
        "id": "mYPP7uf-rlIw",
        "outputId": "3a16ecdf-e2b3-46e9-bc90-a72644eb4918",
        "colab": {
          "base_uri": "https://localhost:8080/",
          "height": 641
        }
      },
      "execution_count": 110,
      "outputs": [
        {
          "output_type": "stream",
          "name": "stdout",
          "text": [
            "LINK 5\n",
            "\tLOS 1: Recall 0.0%\n",
            "\tLOS 2: Recall 0.0%\n",
            "\tLOS 3: Recall 0.0%\n",
            "\tLOS 4: Recall 0.0%\n",
            "\tLOS 5: Recall 5.09%\n",
            "\tLOS 6: Recall 98.44%\n",
            "LINK 6\n",
            "\tLOS 1: Recall 0.0%\n",
            "\tLOS 2: Recall 80.29%\n",
            "\tLOS 3: Recall 0.0%\n",
            "\tLOS 4: Recall 0.0%\n",
            "\tLOS 5: Recall 0.0%\n",
            "\tLOS 6: Recall 100.0%\n",
            "LINK 7\n"
          ]
        },
        {
          "output_type": "error",
          "ename": "KeyboardInterrupt",
          "evalue": "ignored",
          "traceback": [
            "\u001b[0;31m---------------------------------------------------------------------------\u001b[0m",
            "\u001b[0;31mKeyboardInterrupt\u001b[0m                         Traceback (most recent call last)",
            "\u001b[0;32m<ipython-input-110-366cc8d57bc6>\u001b[0m in \u001b[0;36m<cell line: 1>\u001b[0;34m()\u001b[0m\n\u001b[1;32m      4\u001b[0m     \u001b[0my\u001b[0m \u001b[0;34m=\u001b[0m \u001b[0mtraining_df\u001b[0m\u001b[0;34m[\u001b[0m\u001b[0mtraining_df\u001b[0m\u001b[0;34m[\u001b[0m\u001b[0;34m'link_id'\u001b[0m\u001b[0;34m]\u001b[0m \u001b[0;34m==\u001b[0m \u001b[0mLINK\u001b[0m\u001b[0;34m]\u001b[0m\u001b[0;34m[\u001b[0m\u001b[0;34m'LOS_dep'\u001b[0m\u001b[0;34m]\u001b[0m\u001b[0;34m.\u001b[0m\u001b[0mvalues\u001b[0m\u001b[0;34m\u001b[0m\u001b[0;34m\u001b[0m\u001b[0m\n\u001b[1;32m      5\u001b[0m \u001b[0;34m\u001b[0m\u001b[0m\n\u001b[0;32m----> 6\u001b[0;31m     \u001b[0mmodel\u001b[0m \u001b[0;34m=\u001b[0m \u001b[0mRusBoostClassifier\u001b[0m\u001b[0;34m(\u001b[0m\u001b[0mn_estimators\u001b[0m\u001b[0;34m=\u001b[0m\u001b[0;36m60\u001b[0m\u001b[0;34m,\u001b[0m \u001b[0mlearning_rate\u001b[0m\u001b[0;34m=\u001b[0m\u001b[0;36m0.3\u001b[0m\u001b[0;34m)\u001b[0m\u001b[0;34m.\u001b[0m\u001b[0mfit\u001b[0m\u001b[0;34m(\u001b[0m\u001b[0mtraining_df\u001b[0m\u001b[0;34m[\u001b[0m\u001b[0mtraining_df\u001b[0m\u001b[0;34m[\u001b[0m\u001b[0;34m'link_id'\u001b[0m\u001b[0;34m]\u001b[0m \u001b[0;34m==\u001b[0m \u001b[0mLINK\u001b[0m\u001b[0;34m]\u001b[0m\u001b[0;34m,\u001b[0m \u001b[0;34m'tt_arr'\u001b[0m\u001b[0;34m,\u001b[0m \u001b[0;34m'LOS_dep'\u001b[0m\u001b[0;34m)\u001b[0m\u001b[0;34m\u001b[0m\u001b[0;34m\u001b[0m\u001b[0m\n\u001b[0m\u001b[1;32m      7\u001b[0m \u001b[0;34m\u001b[0m\u001b[0m\n\u001b[1;32m      8\u001b[0m     \u001b[0;32mfor\u001b[0m \u001b[0mLOS\u001b[0m \u001b[0;32min\u001b[0m \u001b[0mrange\u001b[0m\u001b[0;34m(\u001b[0m\u001b[0;36m1\u001b[0m\u001b[0;34m,\u001b[0m\u001b[0;36m7\u001b[0m\u001b[0;34m)\u001b[0m\u001b[0;34m:\u001b[0m\u001b[0;34m\u001b[0m\u001b[0;34m\u001b[0m\u001b[0m\n",
            "\u001b[0;32m<ipython-input-109-e18749e18995>\u001b[0m in \u001b[0;36mfit\u001b[0;34m(self, df, X_columns, y_column)\u001b[0m\n\u001b[1;32m     40\u001b[0m             \u001b[0mw_\u001b[0m \u001b[0;34m=\u001b[0m \u001b[0mnp\u001b[0m\u001b[0;34m.\u001b[0m\u001b[0marray\u001b[0m\u001b[0;34m(\u001b[0m\u001b[0;34m[\u001b[0m\u001b[0mw\u001b[0m\u001b[0;34m[\u001b[0m\u001b[0mi\u001b[0m\u001b[0;34m]\u001b[0m \u001b[0;32mfor\u001b[0m \u001b[0mi\u001b[0m \u001b[0;32min\u001b[0m \u001b[0mw_indices_\u001b[0m\u001b[0;34m]\u001b[0m\u001b[0;34m)\u001b[0m\u001b[0;34m\u001b[0m\u001b[0;34m\u001b[0m\u001b[0m\n\u001b[1;32m     41\u001b[0m \u001b[0;34m\u001b[0m\u001b[0m\n\u001b[0;32m---> 42\u001b[0;31m             \u001b[0mX_\u001b[0m \u001b[0;34m=\u001b[0m \u001b[0mdf_\u001b[0m\u001b[0;34m.\u001b[0m\u001b[0mfilter\u001b[0m\u001b[0;34m(\u001b[0m\u001b[0mregex\u001b[0m\u001b[0;34m=\u001b[0m\u001b[0;34m(\u001b[0m\u001b[0mX_columns\u001b[0m\u001b[0;34m)\u001b[0m\u001b[0;34m)\u001b[0m\u001b[0;34m.\u001b[0m\u001b[0mvalues\u001b[0m\u001b[0;34m\u001b[0m\u001b[0;34m\u001b[0m\u001b[0m\n\u001b[0m\u001b[1;32m     43\u001b[0m             \u001b[0my_\u001b[0m \u001b[0;34m=\u001b[0m \u001b[0mdf_\u001b[0m\u001b[0;34m[\u001b[0m\u001b[0my_column\u001b[0m\u001b[0;34m]\u001b[0m\u001b[0;34m.\u001b[0m\u001b[0mvalues\u001b[0m\u001b[0;34m\u001b[0m\u001b[0;34m\u001b[0m\u001b[0m\n\u001b[1;32m     44\u001b[0m \u001b[0;34m\u001b[0m\u001b[0m\n",
            "\u001b[0;32m/usr/local/lib/python3.9/dist-packages/pandas/core/generic.py\u001b[0m in \u001b[0;36mfilter\u001b[0;34m(self, items, like, regex, axis)\u001b[0m\n\u001b[1;32m   5145\u001b[0m             \u001b[0mmatcher\u001b[0m \u001b[0;34m=\u001b[0m \u001b[0mre\u001b[0m\u001b[0;34m.\u001b[0m\u001b[0mcompile\u001b[0m\u001b[0;34m(\u001b[0m\u001b[0mregex\u001b[0m\u001b[0;34m)\u001b[0m\u001b[0;34m\u001b[0m\u001b[0;34m\u001b[0m\u001b[0m\n\u001b[1;32m   5146\u001b[0m             \u001b[0mvalues\u001b[0m \u001b[0;34m=\u001b[0m \u001b[0mlabels\u001b[0m\u001b[0;34m.\u001b[0m\u001b[0mmap\u001b[0m\u001b[0;34m(\u001b[0m\u001b[0mf\u001b[0m\u001b[0;34m)\u001b[0m\u001b[0;34m\u001b[0m\u001b[0;34m\u001b[0m\u001b[0m\n\u001b[0;32m-> 5147\u001b[0;31m             \u001b[0;32mreturn\u001b[0m \u001b[0mself\u001b[0m\u001b[0;34m.\u001b[0m\u001b[0mloc\u001b[0m\u001b[0;34m(\u001b[0m\u001b[0maxis\u001b[0m\u001b[0;34m=\u001b[0m\u001b[0maxis\u001b[0m\u001b[0;34m)\u001b[0m\u001b[0;34m[\u001b[0m\u001b[0mvalues\u001b[0m\u001b[0;34m]\u001b[0m\u001b[0;34m\u001b[0m\u001b[0;34m\u001b[0m\u001b[0m\n\u001b[0m\u001b[1;32m   5148\u001b[0m         \u001b[0;32melse\u001b[0m\u001b[0;34m:\u001b[0m\u001b[0;34m\u001b[0m\u001b[0;34m\u001b[0m\u001b[0m\n\u001b[1;32m   5149\u001b[0m             \u001b[0;32mraise\u001b[0m \u001b[0mTypeError\u001b[0m\u001b[0;34m(\u001b[0m\u001b[0;34m\"Must pass either `items`, `like`, or `regex`\"\u001b[0m\u001b[0;34m)\u001b[0m\u001b[0;34m\u001b[0m\u001b[0;34m\u001b[0m\u001b[0m\n",
            "\u001b[0;32m/usr/local/lib/python3.9/dist-packages/pandas/core/indexing.py\u001b[0m in \u001b[0;36m__getitem__\u001b[0;34m(self, key)\u001b[0m\n\u001b[1;32m    965\u001b[0m \u001b[0;34m\u001b[0m\u001b[0m\n\u001b[1;32m    966\u001b[0m             \u001b[0mmaybe_callable\u001b[0m \u001b[0;34m=\u001b[0m \u001b[0mcom\u001b[0m\u001b[0;34m.\u001b[0m\u001b[0mapply_if_callable\u001b[0m\u001b[0;34m(\u001b[0m\u001b[0mkey\u001b[0m\u001b[0;34m,\u001b[0m \u001b[0mself\u001b[0m\u001b[0;34m.\u001b[0m\u001b[0mobj\u001b[0m\u001b[0;34m)\u001b[0m\u001b[0;34m\u001b[0m\u001b[0;34m\u001b[0m\u001b[0m\n\u001b[0;32m--> 967\u001b[0;31m             \u001b[0;32mreturn\u001b[0m \u001b[0mself\u001b[0m\u001b[0;34m.\u001b[0m\u001b[0m_getitem_axis\u001b[0m\u001b[0;34m(\u001b[0m\u001b[0mmaybe_callable\u001b[0m\u001b[0;34m,\u001b[0m \u001b[0maxis\u001b[0m\u001b[0;34m=\u001b[0m\u001b[0maxis\u001b[0m\u001b[0;34m)\u001b[0m\u001b[0;34m\u001b[0m\u001b[0;34m\u001b[0m\u001b[0m\n\u001b[0m\u001b[1;32m    968\u001b[0m \u001b[0;34m\u001b[0m\u001b[0m\n\u001b[1;32m    969\u001b[0m     \u001b[0;32mdef\u001b[0m \u001b[0m_is_scalar_access\u001b[0m\u001b[0;34m(\u001b[0m\u001b[0mself\u001b[0m\u001b[0;34m,\u001b[0m \u001b[0mkey\u001b[0m\u001b[0;34m:\u001b[0m \u001b[0mtuple\u001b[0m\u001b[0;34m)\u001b[0m\u001b[0;34m:\u001b[0m\u001b[0;34m\u001b[0m\u001b[0;34m\u001b[0m\u001b[0m\n",
            "\u001b[0;32m/usr/local/lib/python3.9/dist-packages/pandas/core/indexing.py\u001b[0m in \u001b[0;36m_getitem_axis\u001b[0;34m(self, key, axis)\u001b[0m\n\u001b[1;32m   1183\u001b[0m             \u001b[0;32mreturn\u001b[0m \u001b[0mself\u001b[0m\u001b[0;34m.\u001b[0m\u001b[0m_get_slice_axis\u001b[0m\u001b[0;34m(\u001b[0m\u001b[0mkey\u001b[0m\u001b[0;34m,\u001b[0m \u001b[0maxis\u001b[0m\u001b[0;34m=\u001b[0m\u001b[0maxis\u001b[0m\u001b[0;34m)\u001b[0m\u001b[0;34m\u001b[0m\u001b[0;34m\u001b[0m\u001b[0m\n\u001b[1;32m   1184\u001b[0m         \u001b[0;32melif\u001b[0m \u001b[0mcom\u001b[0m\u001b[0;34m.\u001b[0m\u001b[0mis_bool_indexer\u001b[0m\u001b[0;34m(\u001b[0m\u001b[0mkey\u001b[0m\u001b[0;34m)\u001b[0m\u001b[0;34m:\u001b[0m\u001b[0;34m\u001b[0m\u001b[0;34m\u001b[0m\u001b[0m\n\u001b[0;32m-> 1185\u001b[0;31m             \u001b[0;32mreturn\u001b[0m \u001b[0mself\u001b[0m\u001b[0;34m.\u001b[0m\u001b[0m_getbool_axis\u001b[0m\u001b[0;34m(\u001b[0m\u001b[0mkey\u001b[0m\u001b[0;34m,\u001b[0m \u001b[0maxis\u001b[0m\u001b[0;34m=\u001b[0m\u001b[0maxis\u001b[0m\u001b[0;34m)\u001b[0m\u001b[0;34m\u001b[0m\u001b[0;34m\u001b[0m\u001b[0m\n\u001b[0m\u001b[1;32m   1186\u001b[0m         \u001b[0;32melif\u001b[0m \u001b[0mis_list_like_indexer\u001b[0m\u001b[0;34m(\u001b[0m\u001b[0mkey\u001b[0m\u001b[0;34m)\u001b[0m\u001b[0;34m:\u001b[0m\u001b[0;34m\u001b[0m\u001b[0;34m\u001b[0m\u001b[0m\n\u001b[1;32m   1187\u001b[0m \u001b[0;34m\u001b[0m\u001b[0m\n",
            "\u001b[0;32m/usr/local/lib/python3.9/dist-packages/pandas/core/indexing.py\u001b[0m in \u001b[0;36m_getbool_axis\u001b[0;34m(self, key, axis)\u001b[0m\n\u001b[1;32m    984\u001b[0m         \u001b[0mkey\u001b[0m \u001b[0;34m=\u001b[0m \u001b[0mcheck_bool_indexer\u001b[0m\u001b[0;34m(\u001b[0m\u001b[0mlabels\u001b[0m\u001b[0;34m,\u001b[0m \u001b[0mkey\u001b[0m\u001b[0;34m)\u001b[0m\u001b[0;34m\u001b[0m\u001b[0;34m\u001b[0m\u001b[0m\n\u001b[1;32m    985\u001b[0m         \u001b[0minds\u001b[0m \u001b[0;34m=\u001b[0m \u001b[0mkey\u001b[0m\u001b[0;34m.\u001b[0m\u001b[0mnonzero\u001b[0m\u001b[0;34m(\u001b[0m\u001b[0;34m)\u001b[0m\u001b[0;34m[\u001b[0m\u001b[0;36m0\u001b[0m\u001b[0;34m]\u001b[0m\u001b[0;34m\u001b[0m\u001b[0;34m\u001b[0m\u001b[0m\n\u001b[0;32m--> 986\u001b[0;31m         \u001b[0;32mreturn\u001b[0m \u001b[0mself\u001b[0m\u001b[0;34m.\u001b[0m\u001b[0mobj\u001b[0m\u001b[0;34m.\u001b[0m\u001b[0m_take_with_is_copy\u001b[0m\u001b[0;34m(\u001b[0m\u001b[0minds\u001b[0m\u001b[0;34m,\u001b[0m \u001b[0maxis\u001b[0m\u001b[0;34m=\u001b[0m\u001b[0maxis\u001b[0m\u001b[0;34m)\u001b[0m\u001b[0;34m\u001b[0m\u001b[0;34m\u001b[0m\u001b[0m\n\u001b[0m\u001b[1;32m    987\u001b[0m \u001b[0;34m\u001b[0m\u001b[0m\n\u001b[1;32m    988\u001b[0m \u001b[0;34m\u001b[0m\u001b[0m\n",
            "\u001b[0;32m/usr/local/lib/python3.9/dist-packages/pandas/core/generic.py\u001b[0m in \u001b[0;36m_take_with_is_copy\u001b[0;34m(self, indices, axis)\u001b[0m\n\u001b[1;32m   3714\u001b[0m         \u001b[0mSee\u001b[0m \u001b[0mthe\u001b[0m \u001b[0mdocstring\u001b[0m \u001b[0mof\u001b[0m\u001b[0;31m \u001b[0m\u001b[0;31m`\u001b[0m\u001b[0mtake\u001b[0m\u001b[0;31m`\u001b[0m \u001b[0;32mfor\u001b[0m \u001b[0mfull\u001b[0m \u001b[0mexplanation\u001b[0m \u001b[0mof\u001b[0m \u001b[0mthe\u001b[0m \u001b[0mparameters\u001b[0m\u001b[0;34m.\u001b[0m\u001b[0;34m\u001b[0m\u001b[0;34m\u001b[0m\u001b[0m\n\u001b[1;32m   3715\u001b[0m         \"\"\"\n\u001b[0;32m-> 3716\u001b[0;31m         \u001b[0mresult\u001b[0m \u001b[0;34m=\u001b[0m \u001b[0mself\u001b[0m\u001b[0;34m.\u001b[0m\u001b[0mtake\u001b[0m\u001b[0;34m(\u001b[0m\u001b[0mindices\u001b[0m\u001b[0;34m=\u001b[0m\u001b[0mindices\u001b[0m\u001b[0;34m,\u001b[0m \u001b[0maxis\u001b[0m\u001b[0;34m=\u001b[0m\u001b[0maxis\u001b[0m\u001b[0;34m)\u001b[0m\u001b[0;34m\u001b[0m\u001b[0;34m\u001b[0m\u001b[0m\n\u001b[0m\u001b[1;32m   3717\u001b[0m         \u001b[0;31m# Maybe set copy if we didn't actually change the index.\u001b[0m\u001b[0;34m\u001b[0m\u001b[0;34m\u001b[0m\u001b[0m\n\u001b[1;32m   3718\u001b[0m         \u001b[0;32mif\u001b[0m \u001b[0;32mnot\u001b[0m \u001b[0mresult\u001b[0m\u001b[0;34m.\u001b[0m\u001b[0m_get_axis\u001b[0m\u001b[0;34m(\u001b[0m\u001b[0maxis\u001b[0m\u001b[0;34m)\u001b[0m\u001b[0;34m.\u001b[0m\u001b[0mequals\u001b[0m\u001b[0;34m(\u001b[0m\u001b[0mself\u001b[0m\u001b[0;34m.\u001b[0m\u001b[0m_get_axis\u001b[0m\u001b[0;34m(\u001b[0m\u001b[0maxis\u001b[0m\u001b[0;34m)\u001b[0m\u001b[0;34m)\u001b[0m\u001b[0;34m:\u001b[0m\u001b[0;34m\u001b[0m\u001b[0;34m\u001b[0m\u001b[0m\n",
            "\u001b[0;32m/usr/local/lib/python3.9/dist-packages/pandas/core/generic.py\u001b[0m in \u001b[0;36mtake\u001b[0;34m(self, indices, axis, is_copy, **kwargs)\u001b[0m\n\u001b[1;32m   3699\u001b[0m         \u001b[0mnv\u001b[0m\u001b[0;34m.\u001b[0m\u001b[0mvalidate_take\u001b[0m\u001b[0;34m(\u001b[0m\u001b[0;34m(\u001b[0m\u001b[0;34m)\u001b[0m\u001b[0;34m,\u001b[0m \u001b[0mkwargs\u001b[0m\u001b[0;34m)\u001b[0m\u001b[0;34m\u001b[0m\u001b[0;34m\u001b[0m\u001b[0m\n\u001b[1;32m   3700\u001b[0m \u001b[0;34m\u001b[0m\u001b[0m\n\u001b[0;32m-> 3701\u001b[0;31m         \u001b[0mself\u001b[0m\u001b[0;34m.\u001b[0m\u001b[0m_consolidate_inplace\u001b[0m\u001b[0;34m(\u001b[0m\u001b[0;34m)\u001b[0m\u001b[0;34m\u001b[0m\u001b[0;34m\u001b[0m\u001b[0m\n\u001b[0m\u001b[1;32m   3702\u001b[0m \u001b[0;34m\u001b[0m\u001b[0m\n\u001b[1;32m   3703\u001b[0m         new_data = self._mgr.take(\n",
            "\u001b[0;32m/usr/local/lib/python3.9/dist-packages/pandas/core/generic.py\u001b[0m in \u001b[0;36m_consolidate_inplace\u001b[0;34m(self)\u001b[0m\n\u001b[1;32m   5651\u001b[0m             \u001b[0mself\u001b[0m\u001b[0;34m.\u001b[0m\u001b[0m_mgr\u001b[0m \u001b[0;34m=\u001b[0m \u001b[0mself\u001b[0m\u001b[0;34m.\u001b[0m\u001b[0m_mgr\u001b[0m\u001b[0;34m.\u001b[0m\u001b[0mconsolidate\u001b[0m\u001b[0;34m(\u001b[0m\u001b[0;34m)\u001b[0m\u001b[0;34m\u001b[0m\u001b[0;34m\u001b[0m\u001b[0m\n\u001b[1;32m   5652\u001b[0m \u001b[0;34m\u001b[0m\u001b[0m\n\u001b[0;32m-> 5653\u001b[0;31m         \u001b[0mself\u001b[0m\u001b[0;34m.\u001b[0m\u001b[0m_protect_consolidate\u001b[0m\u001b[0;34m(\u001b[0m\u001b[0mf\u001b[0m\u001b[0;34m)\u001b[0m\u001b[0;34m\u001b[0m\u001b[0;34m\u001b[0m\u001b[0m\n\u001b[0m\u001b[1;32m   5654\u001b[0m \u001b[0;34m\u001b[0m\u001b[0m\n\u001b[1;32m   5655\u001b[0m     \u001b[0;34m@\u001b[0m\u001b[0mfinal\u001b[0m\u001b[0;34m\u001b[0m\u001b[0;34m\u001b[0m\u001b[0m\n",
            "\u001b[0;32m/usr/local/lib/python3.9/dist-packages/pandas/core/generic.py\u001b[0m in \u001b[0;36m_protect_consolidate\u001b[0;34m(self, f)\u001b[0m\n\u001b[1;32m   5639\u001b[0m             \u001b[0;32mreturn\u001b[0m \u001b[0mf\u001b[0m\u001b[0;34m(\u001b[0m\u001b[0;34m)\u001b[0m\u001b[0;34m\u001b[0m\u001b[0;34m\u001b[0m\u001b[0m\n\u001b[1;32m   5640\u001b[0m         \u001b[0mblocks_before\u001b[0m \u001b[0;34m=\u001b[0m \u001b[0mlen\u001b[0m\u001b[0;34m(\u001b[0m\u001b[0mself\u001b[0m\u001b[0;34m.\u001b[0m\u001b[0m_mgr\u001b[0m\u001b[0;34m.\u001b[0m\u001b[0mblocks\u001b[0m\u001b[0;34m)\u001b[0m\u001b[0;34m\u001b[0m\u001b[0;34m\u001b[0m\u001b[0m\n\u001b[0;32m-> 5641\u001b[0;31m         \u001b[0mresult\u001b[0m \u001b[0;34m=\u001b[0m \u001b[0mf\u001b[0m\u001b[0;34m(\u001b[0m\u001b[0;34m)\u001b[0m\u001b[0;34m\u001b[0m\u001b[0;34m\u001b[0m\u001b[0m\n\u001b[0m\u001b[1;32m   5642\u001b[0m         \u001b[0;32mif\u001b[0m \u001b[0mlen\u001b[0m\u001b[0;34m(\u001b[0m\u001b[0mself\u001b[0m\u001b[0;34m.\u001b[0m\u001b[0m_mgr\u001b[0m\u001b[0;34m.\u001b[0m\u001b[0mblocks\u001b[0m\u001b[0;34m)\u001b[0m \u001b[0;34m!=\u001b[0m \u001b[0mblocks_before\u001b[0m\u001b[0;34m:\u001b[0m\u001b[0;34m\u001b[0m\u001b[0;34m\u001b[0m\u001b[0m\n\u001b[1;32m   5643\u001b[0m             \u001b[0mself\u001b[0m\u001b[0;34m.\u001b[0m\u001b[0m_clear_item_cache\u001b[0m\u001b[0;34m(\u001b[0m\u001b[0;34m)\u001b[0m\u001b[0;34m\u001b[0m\u001b[0;34m\u001b[0m\u001b[0m\n",
            "\u001b[0;32m/usr/local/lib/python3.9/dist-packages/pandas/core/generic.py\u001b[0m in \u001b[0;36mf\u001b[0;34m()\u001b[0m\n\u001b[1;32m   5649\u001b[0m \u001b[0;34m\u001b[0m\u001b[0m\n\u001b[1;32m   5650\u001b[0m         \u001b[0;32mdef\u001b[0m \u001b[0mf\u001b[0m\u001b[0;34m(\u001b[0m\u001b[0;34m)\u001b[0m\u001b[0;34m:\u001b[0m\u001b[0;34m\u001b[0m\u001b[0;34m\u001b[0m\u001b[0m\n\u001b[0;32m-> 5651\u001b[0;31m             \u001b[0mself\u001b[0m\u001b[0;34m.\u001b[0m\u001b[0m_mgr\u001b[0m \u001b[0;34m=\u001b[0m \u001b[0mself\u001b[0m\u001b[0;34m.\u001b[0m\u001b[0m_mgr\u001b[0m\u001b[0;34m.\u001b[0m\u001b[0mconsolidate\u001b[0m\u001b[0;34m(\u001b[0m\u001b[0;34m)\u001b[0m\u001b[0;34m\u001b[0m\u001b[0;34m\u001b[0m\u001b[0m\n\u001b[0m\u001b[1;32m   5652\u001b[0m \u001b[0;34m\u001b[0m\u001b[0m\n\u001b[1;32m   5653\u001b[0m         \u001b[0mself\u001b[0m\u001b[0;34m.\u001b[0m\u001b[0m_protect_consolidate\u001b[0m\u001b[0;34m(\u001b[0m\u001b[0mf\u001b[0m\u001b[0;34m)\u001b[0m\u001b[0;34m\u001b[0m\u001b[0;34m\u001b[0m\u001b[0m\n",
            "\u001b[0;32m/usr/local/lib/python3.9/dist-packages/pandas/core/internals/managers.py\u001b[0m in \u001b[0;36mconsolidate\u001b[0;34m(self)\u001b[0m\n\u001b[1;32m    629\u001b[0m         \u001b[0mbm\u001b[0m \u001b[0;34m=\u001b[0m \u001b[0mtype\u001b[0m\u001b[0;34m(\u001b[0m\u001b[0mself\u001b[0m\u001b[0;34m)\u001b[0m\u001b[0;34m(\u001b[0m\u001b[0mself\u001b[0m\u001b[0;34m.\u001b[0m\u001b[0mblocks\u001b[0m\u001b[0;34m,\u001b[0m \u001b[0mself\u001b[0m\u001b[0;34m.\u001b[0m\u001b[0maxes\u001b[0m\u001b[0;34m,\u001b[0m \u001b[0mverify_integrity\u001b[0m\u001b[0;34m=\u001b[0m\u001b[0;32mFalse\u001b[0m\u001b[0;34m)\u001b[0m\u001b[0;34m\u001b[0m\u001b[0;34m\u001b[0m\u001b[0m\n\u001b[1;32m    630\u001b[0m         \u001b[0mbm\u001b[0m\u001b[0;34m.\u001b[0m\u001b[0m_is_consolidated\u001b[0m \u001b[0;34m=\u001b[0m \u001b[0;32mFalse\u001b[0m\u001b[0;34m\u001b[0m\u001b[0;34m\u001b[0m\u001b[0m\n\u001b[0;32m--> 631\u001b[0;31m         \u001b[0mbm\u001b[0m\u001b[0;34m.\u001b[0m\u001b[0m_consolidate_inplace\u001b[0m\u001b[0;34m(\u001b[0m\u001b[0;34m)\u001b[0m\u001b[0;34m\u001b[0m\u001b[0;34m\u001b[0m\u001b[0m\n\u001b[0m\u001b[1;32m    632\u001b[0m         \u001b[0;32mreturn\u001b[0m \u001b[0mbm\u001b[0m\u001b[0;34m\u001b[0m\u001b[0;34m\u001b[0m\u001b[0m\n\u001b[1;32m    633\u001b[0m \u001b[0;34m\u001b[0m\u001b[0m\n",
            "\u001b[0;32m/usr/local/lib/python3.9/dist-packages/pandas/core/internals/managers.py\u001b[0m in \u001b[0;36m_consolidate_inplace\u001b[0;34m(self)\u001b[0m\n\u001b[1;32m   1697\u001b[0m         \u001b[0;31m#  BlockManager objects not yet attached to a DataFrame.\u001b[0m\u001b[0;34m\u001b[0m\u001b[0;34m\u001b[0m\u001b[0m\n\u001b[1;32m   1698\u001b[0m         \u001b[0;32mif\u001b[0m \u001b[0;32mnot\u001b[0m \u001b[0mself\u001b[0m\u001b[0;34m.\u001b[0m\u001b[0mis_consolidated\u001b[0m\u001b[0;34m(\u001b[0m\u001b[0;34m)\u001b[0m\u001b[0;34m:\u001b[0m\u001b[0;34m\u001b[0m\u001b[0;34m\u001b[0m\u001b[0m\n\u001b[0;32m-> 1699\u001b[0;31m             \u001b[0mself\u001b[0m\u001b[0;34m.\u001b[0m\u001b[0mblocks\u001b[0m \u001b[0;34m=\u001b[0m \u001b[0mtuple\u001b[0m\u001b[0;34m(\u001b[0m\u001b[0m_consolidate\u001b[0m\u001b[0;34m(\u001b[0m\u001b[0mself\u001b[0m\u001b[0;34m.\u001b[0m\u001b[0mblocks\u001b[0m\u001b[0;34m)\u001b[0m\u001b[0;34m)\u001b[0m\u001b[0;34m\u001b[0m\u001b[0;34m\u001b[0m\u001b[0m\n\u001b[0m\u001b[1;32m   1700\u001b[0m             \u001b[0mself\u001b[0m\u001b[0;34m.\u001b[0m\u001b[0m_is_consolidated\u001b[0m \u001b[0;34m=\u001b[0m \u001b[0;32mTrue\u001b[0m\u001b[0;34m\u001b[0m\u001b[0;34m\u001b[0m\u001b[0m\n\u001b[1;32m   1701\u001b[0m             \u001b[0mself\u001b[0m\u001b[0;34m.\u001b[0m\u001b[0m_known_consolidated\u001b[0m \u001b[0;34m=\u001b[0m \u001b[0;32mTrue\u001b[0m\u001b[0;34m\u001b[0m\u001b[0;34m\u001b[0m\u001b[0m\n",
            "\u001b[0;32m/usr/local/lib/python3.9/dist-packages/pandas/core/internals/managers.py\u001b[0m in \u001b[0;36m_consolidate\u001b[0;34m(blocks)\u001b[0m\n\u001b[1;32m   2092\u001b[0m     \u001b[0;31m# sort by _can_consolidate, dtype\u001b[0m\u001b[0;34m\u001b[0m\u001b[0;34m\u001b[0m\u001b[0m\n\u001b[1;32m   2093\u001b[0m     \u001b[0mgkey\u001b[0m \u001b[0;34m=\u001b[0m \u001b[0;32mlambda\u001b[0m \u001b[0mx\u001b[0m\u001b[0;34m:\u001b[0m \u001b[0mx\u001b[0m\u001b[0;34m.\u001b[0m\u001b[0m_consolidate_key\u001b[0m\u001b[0;34m\u001b[0m\u001b[0;34m\u001b[0m\u001b[0m\n\u001b[0;32m-> 2094\u001b[0;31m     \u001b[0mgrouper\u001b[0m \u001b[0;34m=\u001b[0m \u001b[0mitertools\u001b[0m\u001b[0;34m.\u001b[0m\u001b[0mgroupby\u001b[0m\u001b[0;34m(\u001b[0m\u001b[0msorted\u001b[0m\u001b[0;34m(\u001b[0m\u001b[0mblocks\u001b[0m\u001b[0;34m,\u001b[0m \u001b[0mkey\u001b[0m\u001b[0;34m=\u001b[0m\u001b[0mgkey\u001b[0m\u001b[0;34m)\u001b[0m\u001b[0;34m,\u001b[0m \u001b[0mgkey\u001b[0m\u001b[0;34m)\u001b[0m\u001b[0;34m\u001b[0m\u001b[0;34m\u001b[0m\u001b[0m\n\u001b[0m\u001b[1;32m   2095\u001b[0m \u001b[0;34m\u001b[0m\u001b[0m\n\u001b[1;32m   2096\u001b[0m     \u001b[0mnew_blocks\u001b[0m\u001b[0;34m:\u001b[0m \u001b[0mlist\u001b[0m\u001b[0;34m[\u001b[0m\u001b[0mBlock\u001b[0m\u001b[0;34m]\u001b[0m \u001b[0;34m=\u001b[0m \u001b[0;34m[\u001b[0m\u001b[0;34m]\u001b[0m\u001b[0;34m\u001b[0m\u001b[0;34m\u001b[0m\u001b[0m\n",
            "\u001b[0;32m/usr/local/lib/python3.9/dist-packages/pandas/core/internals/managers.py\u001b[0m in \u001b[0;36m<lambda>\u001b[0;34m(x)\u001b[0m\n\u001b[1;32m   2091\u001b[0m     \"\"\"\n\u001b[1;32m   2092\u001b[0m     \u001b[0;31m# sort by _can_consolidate, dtype\u001b[0m\u001b[0;34m\u001b[0m\u001b[0;34m\u001b[0m\u001b[0m\n\u001b[0;32m-> 2093\u001b[0;31m     \u001b[0mgkey\u001b[0m \u001b[0;34m=\u001b[0m \u001b[0;32mlambda\u001b[0m \u001b[0mx\u001b[0m\u001b[0;34m:\u001b[0m \u001b[0mx\u001b[0m\u001b[0;34m.\u001b[0m\u001b[0m_consolidate_key\u001b[0m\u001b[0;34m\u001b[0m\u001b[0;34m\u001b[0m\u001b[0m\n\u001b[0m\u001b[1;32m   2094\u001b[0m     \u001b[0mgrouper\u001b[0m \u001b[0;34m=\u001b[0m \u001b[0mitertools\u001b[0m\u001b[0;34m.\u001b[0m\u001b[0mgroupby\u001b[0m\u001b[0;34m(\u001b[0m\u001b[0msorted\u001b[0m\u001b[0;34m(\u001b[0m\u001b[0mblocks\u001b[0m\u001b[0;34m,\u001b[0m \u001b[0mkey\u001b[0m\u001b[0;34m=\u001b[0m\u001b[0mgkey\u001b[0m\u001b[0;34m)\u001b[0m\u001b[0;34m,\u001b[0m \u001b[0mgkey\u001b[0m\u001b[0;34m)\u001b[0m\u001b[0;34m\u001b[0m\u001b[0;34m\u001b[0m\u001b[0m\n\u001b[1;32m   2095\u001b[0m \u001b[0;34m\u001b[0m\u001b[0m\n",
            "\u001b[0;32m/usr/local/lib/python3.9/dist-packages/pandas/_libs/properties.pyx\u001b[0m in \u001b[0;36mpandas._libs.properties.CachedProperty.__get__\u001b[0;34m()\u001b[0m\n",
            "\u001b[0;32m/usr/local/lib/python3.9/dist-packages/pandas/core/internals/blocks.py\u001b[0m in \u001b[0;36m_consolidate_key\u001b[0;34m(self)\u001b[0m\n\u001b[1;32m    167\u001b[0m     \u001b[0;34m@\u001b[0m\u001b[0mcache_readonly\u001b[0m\u001b[0;34m\u001b[0m\u001b[0;34m\u001b[0m\u001b[0m\n\u001b[1;32m    168\u001b[0m     \u001b[0;32mdef\u001b[0m \u001b[0m_consolidate_key\u001b[0m\u001b[0;34m(\u001b[0m\u001b[0mself\u001b[0m\u001b[0;34m)\u001b[0m\u001b[0;34m:\u001b[0m\u001b[0;34m\u001b[0m\u001b[0;34m\u001b[0m\u001b[0m\n\u001b[0;32m--> 169\u001b[0;31m         \u001b[0;32mreturn\u001b[0m \u001b[0mself\u001b[0m\u001b[0;34m.\u001b[0m\u001b[0m_can_consolidate\u001b[0m\u001b[0;34m,\u001b[0m \u001b[0mself\u001b[0m\u001b[0;34m.\u001b[0m\u001b[0mdtype\u001b[0m\u001b[0;34m.\u001b[0m\u001b[0mname\u001b[0m\u001b[0;34m\u001b[0m\u001b[0;34m\u001b[0m\u001b[0m\n\u001b[0m\u001b[1;32m    170\u001b[0m \u001b[0;34m\u001b[0m\u001b[0m\n\u001b[1;32m    171\u001b[0m     \u001b[0;34m@\u001b[0m\u001b[0mproperty\u001b[0m\u001b[0;34m\u001b[0m\u001b[0;34m\u001b[0m\u001b[0m\n",
            "\u001b[0;32m/usr/local/lib/python3.9/dist-packages/numpy/core/_dtype.py\u001b[0m in \u001b[0;36m_name_get\u001b[0;34m(dtype)\u001b[0m\n\u001b[1;32m    326\u001b[0m \u001b[0;34m\u001b[0m\u001b[0m\n\u001b[1;32m    327\u001b[0m \u001b[0;34m\u001b[0m\u001b[0m\n\u001b[0;32m--> 328\u001b[0;31m \u001b[0;32mdef\u001b[0m \u001b[0m_name_get\u001b[0m\u001b[0;34m(\u001b[0m\u001b[0mdtype\u001b[0m\u001b[0;34m)\u001b[0m\u001b[0;34m:\u001b[0m\u001b[0;34m\u001b[0m\u001b[0;34m\u001b[0m\u001b[0m\n\u001b[0m\u001b[1;32m    329\u001b[0m     \u001b[0;31m# provides dtype.name.__get__, documented as returning a \"bit name\"\u001b[0m\u001b[0;34m\u001b[0m\u001b[0;34m\u001b[0m\u001b[0m\n\u001b[1;32m    330\u001b[0m \u001b[0;34m\u001b[0m\u001b[0m\n",
            "\u001b[0;31mKeyboardInterrupt\u001b[0m: "
          ]
        }
      ]
    },
    {
      "cell_type": "markdown",
      "source": [
        "## **FEATURE ENGINEERING ADJACENT LINK INFORMATION**"
      ],
      "metadata": {
        "id": "5GwdnL80wEtn"
      }
    },
    {
      "cell_type": "markdown",
      "source": [
        "### *Features creation*\n",
        "\n",
        "For each link, the tt_arrival of the other links are added as features. Therefore we will be using 6 features in total."
      ],
      "metadata": {
        "id": "SX6uOIxdwEtp"
      }
    },
    {
      "cell_type": "markdown",
      "source": [
        "### *Validation*"
      ],
      "metadata": {
        "id": "ahvsFKMPwZqG"
      }
    },
    {
      "cell_type": "code",
      "source": [
        "for LINK in range(5,11):\n",
        "    print(f\"LINK {LINK}\")\n",
        "    other_links = [5,6,7,8,9,10]; other_links.remove(LINK)\n",
        "    training_df_link = training_df.copy()\n",
        "    training_df_link = training_df_link[training_df_link['link_id'] == LINK]\n",
        "\n",
        "    for other_link in other_links:\n",
        "        training_df_link = pd.merge(training_df_link, training_df[training_df['link_id'] == other_link].filter(regex=(\"tt_ar[^-]+$\")), on=['date'], how='inner', suffixes=[None, f'_{other_link}'])\n",
        "    \n",
        "    X = training_df_link.filter(regex=(\"tt_ar[^-]+$\")).values\n",
        "    y = training_df_link['LOS_dep'].values    \n",
        "\n",
        "    sc = preprocessing.StandardScaler()\n",
        "    X = sc.fit_transform(X)\n",
        "\n",
        "    model = RUSBoostClassifier(base_estimator=DecisionTreeClassifier(max_depth=128), n_estimators=60, learning_rate=0.3).fit(X, y)\n",
        "\n",
        "    for LOS in range(1,7):\n",
        "        validation_df_link = validation_df[(validation_df['link_id'] == LINK) & (validation_df['LOS_dep'] == LOS)].copy()\n",
        "        for other_link in other_links:\n",
        "            validation_df_link = pd.merge(validation_df_link, validation_df[validation_df['link_id'] == other_link].filter(regex=(\"tt_ar[^-]+$\")), on=['date'], how='inner', suffixes=[None, f'_{other_link}'])\n",
        "        X_test = sc.transform( validation_df_link.filter(regex=(\"tt_ar[^-]+$\")).values )\n",
        "        y_pred = model.predict(X_test)\n",
        "\n",
        "        score = metrics.recall_score([LOS]*len(y_pred), y_pred, average='micro')\n",
        "        print(f\"\\tLOS {LOS}: Recall {round(score*100, 2) }%\")"
      ],
      "metadata": {
        "id": "lG3lIJ4Swav-"
      },
      "execution_count": null,
      "outputs": []
    },
    {
      "cell_type": "markdown",
      "source": [
        "### *Features creation*\n",
        "\n",
        "For each link, the tt_arrival of the other links, covering the previous 50min from prediction time, are added as features. Therefore we will be using 60 features in total as maximum."
      ],
      "metadata": {
        "id": "AwH0urzowYPm"
      }
    },
    {
      "cell_type": "markdown",
      "source": [
        "## **FEATURE ENGINEERING ADJACENT LINK INFORMATION + TEMPORAL INFORMATION (UP TO PREVIOUS 45MIN)**"
      ],
      "metadata": {
        "id": "sOP6-k1pNP3l"
      }
    },
    {
      "cell_type": "markdown",
      "source": [
        "### *Features creation*\n",
        "\n",
        "For each link, the tt_arrival of the other links, covering the previous 50min from prediction time, are added as features. Therefore we will be using 60 features in total as maximum."
      ],
      "metadata": {
        "id": "rxNerGt4wTQW"
      }
    },
    {
      "cell_type": "markdown",
      "source": [
        "### *Validation*"
      ],
      "metadata": {
        "id": "QhAGUQz_v3po"
      }
    },
    {
      "cell_type": "code",
      "source": [
        "print(f'USING PREVIOUS {INPUT_MINUTES_BEFORE}m INFORMATION')\n",
        "for LINK in range(5,11):\n",
        "    print(f\"LINK {LINK}\")\n",
        "    other_links = [5,6,7,8,9,10]; other_links.remove(LINK)\n",
        "    training_df_link = training_df.copy()\n",
        "    training_df_link = training_df_link[training_df_link['link_id'] == LINK]\n",
        "\n",
        "    for other_link in other_links:\n",
        "        training_df_link = pd.merge(training_df_link, training_df[training_df['link_id'] == other_link].filter(regex=(\"tt_arr.*\")), on=['date'], how='inner', suffixes=[None, f'_{other_link}'])\n",
        "    \n",
        "    X = training_df_link.filter(regex=(\"tt_arr.*\")).values\n",
        "    y = training_df_link['LOS_dep'].values    \n",
        "\n",
        "    sc = preprocessing.StandardScaler()\n",
        "    X = sc.fit_transform(X)\n",
        "\n",
        "    model = RUSBoostClassifier(base_estimator=DecisionTreeClassifier(max_depth=128), n_estimators=60, learning_rate=0.3).fit(X, y)\n",
        "\n",
        "    for LOS in range(1,7):\n",
        "        validation_df_link = validation_df[(validation_df['link_id'] == LINK) & (validation_df['LOS_dep'] == LOS)].copy()\n",
        "        for other_link in other_links:\n",
        "            validation_df_link = pd.merge(validation_df_link, validation_df[validation_df['link_id'] == other_link].filter(regex=(\"tt_arr.*\")), on=['date'], how='inner', suffixes=[None, f'_{other_link}'])\n",
        "        X_test = sc.transform( validation_df_link.filter(regex=(\"tt_arr.*\")).values )\n",
        "        y_pred = model.predict(X_test)\n",
        "\n",
        "        score = metrics.recall_score([LOS]*len(y_pred), y_pred, average='micro')\n",
        "        print(f\"\\tLOS {LOS}: Recall {round(score*100, 2) }%\")"
      ],
      "metadata": {
        "id": "M6JecW2nvBMv"
      },
      "execution_count": null,
      "outputs": []
    },
    {
      "cell_type": "markdown",
      "source": [
        "# **LSTM**"
      ],
      "metadata": {
        "id": "YdG4O3Ww2eoi"
      }
    },
    {
      "cell_type": "markdown",
      "source": [
        "## **NO FEATURE ENGINEERING**"
      ],
      "metadata": {
        "id": "kXrhCdD6piR8"
      }
    },
    {
      "cell_type": "markdown",
      "source": [
        "**TRAIN or LOAD switch**"
      ],
      "metadata": {
        "id": "CvVzUnHs7h8s"
      }
    },
    {
      "cell_type": "code",
      "source": [
        "train_again = False"
      ],
      "metadata": {
        "id": "H0SB66O57h9M"
      },
      "execution_count": null,
      "outputs": []
    },
    {
      "cell_type": "markdown",
      "source": [
        "### *Validation*"
      ],
      "metadata": {
        "id": "12T_5HcwpiSX"
      }
    },
    {
      "cell_type": "code",
      "source": [
        "for LINK in range(5,11):\n",
        "    print(f\"LINK {LINK}\")\n",
        "    \n",
        "    X = training_df[training_df['link_id'] == LINK].filter(regex=(\"tt_arr.*\")).values\n",
        "    # Min-Max Scaling\n",
        "    sc = preprocessing.MinMaxScaler().fit(np.array([[X[:,0].max()]*X.shape[1], [X[:,0].min()]*X.shape[1]]))\n",
        "    \n",
        "    if train_again:\n",
        "        X = sc.transform(X)\n",
        "        X = np.expand_dims(X, axis=2)\n",
        "        print(f'Size of training data array {X.shape}')\n",
        "        y = training_df[training_df['link_id'] == LINK]['LOS_dep'].values\n",
        "        y = np.expand_dims(y, axis=1)\n",
        "        \n",
        "        onehot_encoder = preprocessing.OneHotEncoder()\n",
        "        y = onehot_encoder.fit_transform(y).toarray()\n",
        "        print(f'Size of training labels {y.shape}')\n",
        "\n",
        "        # build the model\n",
        "        num_features = X.shape[2]\n",
        "        num_out = y.shape[1]\n",
        "\n",
        "        model = keras.models.Sequential()\n",
        "\n",
        "        model.add(keras.layers.LSTM(\n",
        "                input_shape=(int(INPUT_MINUTES_BEFORE/5)+1, num_features),\n",
        "                units=100,\n",
        "                return_sequences=True))\n",
        "        model.add(keras.layers.Dropout(0.2))\n",
        "\n",
        "        model.add(keras.layers.LSTM(\n",
        "                units=50,\n",
        "                return_sequences=False))\n",
        "        model.add(keras.layers.Dropout(0.2))\n",
        "\n",
        "        model.add(keras.layers.Dense(units=6, activation='softmax'))\n",
        "\n",
        "        model.compile(loss='categorical_crossentropy', optimizer='adam', metrics=['accuracy'])\n",
        "\n",
        "        model.fit(X, y, epochs=10, batch_size=500, validation_split=0, verbose=1)\n",
        "\n",
        "        model.save(f'/content/Traffic/models/LSTM_link{LINK}_{PREDICTED_MINUTES_AHEAD}m_horizon_{INPUT_MINUTES_BEFORE}m_feed.h5')\n",
        "    \n",
        "    else:\n",
        "        model = keras.models.load_model(f'/content/Traffic/models/LSTM_link{LINK}_{PREDICTED_MINUTES_AHEAD}m_horizon_{INPUT_MINUTES_BEFORE}m_feed.h5')\n",
        "    \n",
        "    for LOS in range(1,7):\n",
        "        X_test = sc.transform( validation_df[(validation_df['link_id'] == LINK) & (validation_df['LOS_dep'] == LOS)].filter(regex=(\"tt_arr.*\")).values )\n",
        "        X_test = np.expand_dims(X_test, axis=2)\n",
        "        y_pred = model.predict(X_test)\n",
        "        y_pred = onehot_encoder.inverse_transform(y_pred)\n",
        "\n",
        "        score = metrics.recall_score([LOS]*len(y_pred), y_pred, average='micro')\n",
        "        print(f\"\\tLOS {LOS}: Recall {round(score*100, 2) }%\")\n",
        "\n",
        "    del model\n",
        "    gc.collect()"
      ],
      "metadata": {
        "id": "mA1Q8r2Apjki",
        "outputId": "fa9f9bc8-c415-45ea-c899-3160a309ce05",
        "colab": {
          "base_uri": "https://localhost:8080/"
        }
      },
      "execution_count": null,
      "outputs": [
        {
          "output_type": "stream",
          "name": "stdout",
          "text": [
            "LINK 5\n",
            "17717/17717 [==============================] - 50s 3ms/step\n",
            "\tLOS 1: Recall 96.67%\n",
            "2564/2564 [==============================] - 8s 3ms/step\n",
            "\tLOS 2: Recall 52.13%\n",
            "1647/1647 [==============================] - 4s 3ms/step\n",
            "\tLOS 3: Recall 62.17%\n",
            "635/635 [==============================] - 2s 3ms/step\n",
            "\tLOS 4: Recall 24.53%\n",
            "322/322 [==============================] - 1s 3ms/step\n",
            "\tLOS 5: Recall 33.63%\n",
            "247/247 [==============================] - 1s 3ms/step\n",
            "\tLOS 6: Recall 62.68%\n",
            "LINK 6\n",
            "19747/19747 [==============================] - 57s 3ms/step\n",
            "\tLOS 1: Recall 97.78%\n",
            "1299/1299 [==============================] - 3s 3ms/step\n",
            "\tLOS 2: Recall 32.92%\n",
            "1465/1465 [==============================] - 4s 3ms/step\n",
            "\tLOS 3: Recall 75.37%\n",
            "425/425 [==============================] - 1s 3ms/step\n",
            "\tLOS 4: Recall 22.16%\n",
            "142/142 [==============================] - 0s 3ms/step\n",
            "\tLOS 5: Recall 29.02%\n",
            "54/54 [==============================] - 0s 3ms/step\n",
            "\tLOS 6: Recall 47.26%\n",
            "LINK 7\n",
            "19655/19655 [==============================] - 55s 3ms/step\n",
            "\tLOS 1: Recall 97.69%\n",
            "1943/1943 [==============================] - 5s 3ms/step\n",
            "\tLOS 2: Recall 56.89%\n",
            "1200/1200 [==============================] - 3s 3ms/step\n",
            "\tLOS 3: Recall 70.51%\n",
            "229/229 [==============================] - 1s 4ms/step\n",
            "\tLOS 4: Recall 15.99%\n",
            "81/81 [==============================] - 0s 4ms/step\n",
            "\tLOS 5: Recall 10.43%\n",
            "24/24 [==============================] - 0s 3ms/step\n",
            "\tLOS 6: Recall 23.04%\n",
            "LINK 8\n",
            "21742/21742 [==============================] - 61s 3ms/step\n",
            "\tLOS 1: Recall 99.4%\n",
            "408/408 [==============================] - 1s 3ms/step\n",
            "\tLOS 2: Recall 44.74%\n",
            "659/659 [==============================] - 2s 3ms/step\n",
            "\tLOS 3: Recall 77.51%\n",
            "176/176 [==============================] - 1s 3ms/step\n",
            "\tLOS 4: Recall 33.54%\n",
            "75/75 [==============================] - 0s 3ms/step\n",
            "\tLOS 5: Recall 22.71%\n",
            "72/72 [==============================] - 0s 3ms/step\n",
            "\tLOS 6: Recall 61.25%\n",
            "LINK 9\n",
            "20036/20036 [==============================] - 57s 3ms/step\n",
            "\tLOS 1: Recall 97.58%\n",
            "2461/2461 [==============================] - 7s 3ms/step\n",
            "\tLOS 2: Recall 72.56%\n",
            "521/521 [==============================] - 1s 3ms/step\n",
            "\tLOS 3: Recall 55.45%\n",
            "72/72 [==============================] - 0s 2ms/step\n",
            "\tLOS 4: Recall 64.66%\n",
            "30/30 [==============================] - 0s 3ms/step\n",
            "\tLOS 5: Recall 33.54%\n",
            "12/12 [==============================] - 0s 3ms/step\n",
            "\tLOS 6: Recall 0.0%\n",
            "LINK 10\n",
            "21212/21212 [==============================] - 61s 3ms/step\n",
            "\tLOS 1: Recall 99.14%\n",
            "673/673 [==============================] - 2s 3ms/step\n",
            "\tLOS 2: Recall 46.37%\n",
            "458/458 [==============================] - 2s 4ms/step\n",
            "\tLOS 3: Recall 44.61%\n",
            "338/338 [==============================] - 1s 3ms/step\n",
            "\tLOS 4: Recall 51.38%\n",
            "283/283 [==============================] - 1s 3ms/step\n",
            "\tLOS 5: Recall 55.17%\n",
            "168/168 [==============================] - 0s 3ms/step\n",
            "\tLOS 6: Recall 54.99%\n"
          ]
        }
      ]
    },
    {
      "cell_type": "markdown",
      "source": [
        "## **FEATURE ENGINEERING ADJACENT LINK INFORMATION**"
      ],
      "metadata": {
        "id": "v4hiITcW2eoj"
      }
    },
    {
      "cell_type": "markdown",
      "source": [
        "**TRAIN or LOAD switch**"
      ],
      "metadata": {
        "id": "8fYb-uhw60Gr"
      }
    },
    {
      "cell_type": "code",
      "source": [
        "train_again = True"
      ],
      "metadata": {
        "id": "R_QtgDIsA2nY"
      },
      "execution_count": null,
      "outputs": []
    },
    {
      "cell_type": "markdown",
      "source": [
        "### *Validation*"
      ],
      "metadata": {
        "id": "JcUqqwAr2eoj"
      }
    },
    {
      "cell_type": "code",
      "source": [
        "for LINK in range(5,11):\n",
        "    print(f\"LINK {LINK}\")\n",
        "    other_links = [5,6,7,8,9,10]; other_links.remove(LINK)\n",
        "\n",
        "    X = training_df[training_df['link_id'] == LINK].filter(regex=(\"tt_arr.*\")).values\n",
        "    # Min-Max Scaling per Link\n",
        "    sc = {}\n",
        "    sc[LINK] = preprocessing.MinMaxScaler().fit(np.array([[X[:,0].max()]*X.shape[1], [X[:,0].min()]*X.shape[1]]))\n",
        "    X = sc[LINK].transform(X)\n",
        "    X = np.expand_dims(X, axis=2)\n",
        "\n",
        "    for other_link in other_links:\n",
        "        temp = training_df[training_df['link_id'] == other_link].filter(regex=(\"tt_arr.*\")).values\n",
        "        sc[other_link] = preprocessing.MinMaxScaler().fit(np.array([[temp[:,0].max()]*temp.shape[1], [temp[:,0].min()]*temp.shape[1]]))\n",
        "        temp = sc[other_link].transform(temp)\n",
        "        X = np.concatenate( (X, np.expand_dims(temp, axis=2)) , axis=2)\n",
        "        \n",
        "    if train_again:\n",
        "        print(f'Size of training data array {X.shape}')\n",
        "        y = training_df[training_df['link_id'] == LINK]['LOS_dep'].values\n",
        "        y = np.expand_dims(y, axis=1)\n",
        "        \n",
        "        onehot_encoder = preprocessing.OneHotEncoder()\n",
        "        y = onehot_encoder.fit_transform(y).toarray()\n",
        "        print(f'Size of training labels {y.shape}')\n",
        "\n",
        "        # build the model\n",
        "        num_features = X.shape[2]\n",
        "        num_out = y.shape[1]\n",
        "\n",
        "        model = keras.models.Sequential()\n",
        "\n",
        "        model.add(keras.layers.LSTM(\n",
        "                input_shape=(int(INPUT_MINUTES_BEFORE/5)+1, num_features),\n",
        "                units=100,\n",
        "                return_sequences=True))\n",
        "        model.add(keras.layers.Dropout(0.2))\n",
        "\n",
        "        model.add(keras.layers.LSTM(\n",
        "                units=50,\n",
        "                return_sequences=False))\n",
        "        model.add(keras.layers.Dropout(0.2))\n",
        "\n",
        "        model.add(keras.layers.Dense(units=6, activation='softmax'))\n",
        "\n",
        "        model.compile(loss='categorical_crossentropy', optimizer='adam', metrics=['accuracy'])\n",
        "\n",
        "        model.fit(X, y, epochs=10, batch_size=500, validation_split=0, verbose=1)\n",
        "\n",
        "        model.save(f'/content/Traffic/models/LSTM_link{LINK}_adjacent_{PREDICTED_MINUTES_AHEAD}m_horizon_{INPUT_MINUTES_BEFORE}m_feed.h5')\n",
        "    \n",
        "    else:\n",
        "        model = keras.models.load_model(f'/content/Traffic/models/LSTM_link{LINK}_adjacent_{PREDICTED_MINUTES_AHEAD}m_horizon_{INPUT_MINUTES_BEFORE}m_feed.h5')\n",
        "    \n",
        "    for LOS in range(1,7):        \n",
        "        X_test = sc[LINK].transform( validation_df[validation_df['link_id'] == LINK].filter(regex=(\"tt_arr.*\")).values )\n",
        "        X_test = np.expand_dims(X_test, axis=2)\n",
        "\n",
        "        for other_link in other_links:\n",
        "            temp = validation_df[validation_df['link_id'] == other_link].filter(regex=(\"tt_arr.*\")).values\n",
        "            temp = sc[other_link].transform(temp)\n",
        "            X_test = np.concatenate( (X_test, np.expand_dims(temp, axis=2)) , axis=2)\n",
        "        y_pred = model.predict(X_test)\n",
        "        y_pred = onehot_encoder.inverse_transform(y_pred)\n",
        "\n",
        "        score = metrics.recall_score([LOS]*len(y_pred), y_pred, average='micro')\n",
        "        print(f\"\\tLOS {LOS}: Recall {round(score*100, 2) }%\")\n",
        "\n",
        "    del model\n",
        "    gc.collect()"
      ],
      "metadata": {
        "id": "yoXuuTvqA-l9",
        "outputId": "42518ac3-d05f-434f-e9f6-e032ab211b99",
        "colab": {
          "base_uri": "https://localhost:8080/"
        }
      },
      "execution_count": null,
      "outputs": [
        {
          "output_type": "stream",
          "name": "stdout",
          "text": [
            "LINK 5\n",
            "Size of training data array (1231020, 10, 6)\n",
            "Size of training labels (1231020, 6)\n",
            "Epoch 1/10\n",
            "2463/2463 [==============================] - 21s 7ms/step - loss: 0.3747 - accuracy: 0.8492\n",
            "Epoch 2/10\n",
            "2463/2463 [==============================] - 18s 7ms/step - loss: 0.3271 - accuracy: 0.8618\n",
            "Epoch 3/10\n",
            "2463/2463 [==============================] - 17s 7ms/step - loss: 0.3190 - accuracy: 0.8657\n",
            "Epoch 4/10\n",
            "2463/2463 [==============================] - 17s 7ms/step - loss: 0.3136 - accuracy: 0.8682\n",
            "Epoch 5/10\n",
            "2463/2463 [==============================] - 17s 7ms/step - loss: 0.3094 - accuracy: 0.8704\n",
            "Epoch 6/10\n",
            "2463/2463 [==============================] - 18s 7ms/step - loss: 0.3067 - accuracy: 0.8718\n",
            "Epoch 7/10\n",
            "2463/2463 [==============================] - 17s 7ms/step - loss: 0.3034 - accuracy: 0.8732\n",
            "Epoch 8/10\n",
            "2463/2463 [==============================] - 17s 7ms/step - loss: 0.3005 - accuracy: 0.8744\n",
            "Epoch 9/10\n",
            "2463/2463 [==============================] - 17s 7ms/step - loss: 0.2983 - accuracy: 0.8755\n",
            "Epoch 10/10\n",
            "2463/2463 [==============================] - 18s 7ms/step - loss: 0.2959 - accuracy: 0.8764\n",
            "23130/23130 [==============================] - 67s 3ms/step\n",
            "\tLOS 1: Recall 80.38%\n",
            "23130/23130 [==============================] - 66s 3ms/step\n",
            "\tLOS 2: Recall 9.45%\n",
            "23130/23130 [==============================] - 67s 3ms/step\n",
            "\tLOS 3: Recall 7.09%\n",
            "23130/23130 [==============================] - 67s 3ms/step\n",
            "\tLOS 4: Recall 1.24%\n",
            "23130/23130 [==============================] - 67s 3ms/step\n",
            "\tLOS 5: Recall 0.83%\n",
            "23130/23130 [==============================] - 66s 3ms/step\n",
            "\tLOS 6: Recall 1.0%\n",
            "LINK 6\n",
            "Size of training data array (1231020, 10, 6)\n",
            "Size of training labels (1231020, 6)\n",
            "Epoch 1/10\n",
            "2463/2463 [==============================] - 22s 7ms/step - loss: 0.2730 - accuracy: 0.9015\n",
            "Epoch 2/10\n",
            "2463/2463 [==============================] - 17s 7ms/step - loss: 0.2287 - accuracy: 0.9107\n",
            "Epoch 3/10\n",
            "2463/2463 [==============================] - 17s 7ms/step - loss: 0.2234 - accuracy: 0.9125\n",
            "Epoch 4/10\n",
            "2463/2463 [==============================] - 18s 7ms/step - loss: 0.2204 - accuracy: 0.9136\n",
            "Epoch 5/10\n",
            "2463/2463 [==============================] - 17s 7ms/step - loss: 0.2172 - accuracy: 0.9149\n",
            "Epoch 6/10\n",
            "2463/2463 [==============================] - 17s 7ms/step - loss: 0.2142 - accuracy: 0.9162\n",
            "Epoch 7/10\n",
            "2463/2463 [==============================] - 17s 7ms/step - loss: 0.2117 - accuracy: 0.9174\n",
            "Epoch 8/10\n",
            "2463/2463 [==============================] - 18s 7ms/step - loss: 0.2093 - accuracy: 0.9182\n",
            "Epoch 9/10\n",
            "2463/2463 [==============================] - 17s 7ms/step - loss: 0.2075 - accuracy: 0.9190\n",
            "Epoch 10/10\n",
            "2463/2463 [==============================] - 17s 7ms/step - loss: 0.2057 - accuracy: 0.9199\n",
            "23130/23130 [==============================] - 68s 3ms/step\n",
            "\tLOS 1: Recall 86.8%\n",
            "23130/23130 [==============================] - 68s 3ms/step\n",
            "\tLOS 2: Recall 3.41%\n",
            "23130/23130 [==============================] - 67s 3ms/step\n",
            "\tLOS 3: Recall 7.63%\n",
            "23130/23130 [==============================] - 69s 3ms/step\n",
            "\tLOS 4: Recall 1.56%\n",
            "23130/23130 [==============================] - 69s 3ms/step\n",
            "\tLOS 5: Recall 0.46%\n",
            "23130/23130 [==============================] - 69s 3ms/step\n",
            "\tLOS 6: Recall 0.14%\n",
            "LINK 7\n",
            "Size of training data array (1231020, 10, 6)\n",
            "Size of training labels (1231020, 6)\n",
            "Epoch 1/10\n",
            "2463/2463 [==============================] - 23s 8ms/step - loss: 0.2674 - accuracy: 0.9031\n",
            "Epoch 2/10\n",
            "2463/2463 [==============================] - 18s 7ms/step - loss: 0.2271 - accuracy: 0.9142\n",
            "Epoch 3/10\n",
            "2463/2463 [==============================] - 18s 7ms/step - loss: 0.2217 - accuracy: 0.9156\n",
            "Epoch 4/10\n",
            "2463/2463 [==============================] - 19s 8ms/step - loss: 0.2187 - accuracy: 0.9165\n",
            "Epoch 5/10\n",
            "2463/2463 [==============================] - 18s 7ms/step - loss: 0.2153 - accuracy: 0.9178\n",
            "Epoch 6/10\n",
            "2463/2463 [==============================] - 18s 7ms/step - loss: 0.2125 - accuracy: 0.9184\n",
            "Epoch 7/10\n",
            "2463/2463 [==============================] - 18s 7ms/step - loss: 0.2103 - accuracy: 0.9190\n",
            "Epoch 8/10\n",
            "2463/2463 [==============================] - 18s 7ms/step - loss: 0.2088 - accuracy: 0.9196\n",
            "Epoch 9/10\n",
            "2463/2463 [==============================] - 18s 7ms/step - loss: 0.2071 - accuracy: 0.9202\n",
            "Epoch 10/10\n",
            "2463/2463 [==============================] - 18s 7ms/step - loss: 0.2059 - accuracy: 0.9205\n",
            "23130/23130 [==============================] - 69s 3ms/step\n",
            "\tLOS 1: Recall 85.22%\n",
            "23130/23130 [==============================] - 69s 3ms/step\n",
            "\tLOS 2: Recall 8.69%\n",
            "23130/23130 [==============================] - 69s 3ms/step\n",
            "\tLOS 3: Recall 5.38%\n",
            "23130/23130 [==============================] - 68s 3ms/step\n",
            "\tLOS 4: Recall 0.32%\n",
            "23130/23130 [==============================] - 67s 3ms/step\n",
            "\tLOS 5: Recall 0.35%\n",
            "23130/23130 [==============================] - 68s 3ms/step\n",
            "\tLOS 6: Recall 0.03%\n",
            "LINK 8\n",
            "Size of training data array (1231020, 10, 6)\n",
            "Size of training labels (1231020, 6)\n",
            "Epoch 1/10\n",
            "2463/2463 [==============================] - 22s 7ms/step - loss: 0.1150 - accuracy: 0.9643\n",
            "Epoch 2/10\n",
            "2463/2463 [==============================] - 17s 7ms/step - loss: 0.0887 - accuracy: 0.9687\n",
            "Epoch 3/10\n",
            "2463/2463 [==============================] - 18s 7ms/step - loss: 0.0859 - accuracy: 0.9695\n",
            "Epoch 4/10\n",
            "2463/2463 [==============================] - 18s 7ms/step - loss: 0.0838 - accuracy: 0.9701\n",
            "Epoch 5/10\n",
            "2463/2463 [==============================] - 17s 7ms/step - loss: 0.0823 - accuracy: 0.9706\n",
            "Epoch 6/10\n",
            "2463/2463 [==============================] - 21s 8ms/step - loss: 0.0808 - accuracy: 0.9709\n",
            "Epoch 7/10\n",
            "2463/2463 [==============================] - 20s 8ms/step - loss: 0.0796 - accuracy: 0.9711\n",
            "Epoch 8/10\n",
            "2463/2463 [==============================] - 17s 7ms/step - loss: 0.0787 - accuracy: 0.9716\n",
            "Epoch 9/10\n",
            "2463/2463 [==============================] - 18s 7ms/step - loss: 0.0779 - accuracy: 0.9719\n",
            "Epoch 10/10\n",
            "2463/2463 [==============================] - 18s 7ms/step - loss: 0.0775 - accuracy: 0.9719\n",
            "23130/23130 [==============================] - 68s 3ms/step\n",
            "\tLOS 1: Recall 94.58%\n",
            "23130/23130 [==============================] - 68s 3ms/step\n",
            "\tLOS 2: Recall 1.34%\n",
            "23130/23130 [==============================] - 67s 3ms/step\n",
            "\tLOS 3: Recall 2.84%\n",
            "23130/23130 [==============================] - 68s 3ms/step\n",
            "\tLOS 4: Recall 0.61%\n",
            "23130/23130 [==============================] - 67s 3ms/step\n",
            "\tLOS 5: Recall 0.24%\n",
            "23130/23130 [==============================] - 67s 3ms/step\n",
            "\tLOS 6: Recall 0.38%\n",
            "LINK 9\n",
            "Size of training data array (1231020, 10, 6)\n",
            "Size of training labels (1231020, 6)\n",
            "Epoch 1/10\n",
            "2463/2463 [==============================] - 22s 7ms/step - loss: 0.2190 - accuracy: 0.9233\n",
            "Epoch 2/10\n",
            "2463/2463 [==============================] - 17s 7ms/step - loss: 0.1815 - accuracy: 0.9347\n",
            "Epoch 3/10\n",
            "2463/2463 [==============================] - 17s 7ms/step - loss: 0.1777 - accuracy: 0.9363\n",
            "Epoch 4/10\n",
            "2463/2463 [==============================] - 18s 7ms/step - loss: 0.1752 - accuracy: 0.9370\n",
            "Epoch 5/10\n",
            "2463/2463 [==============================] - 17s 7ms/step - loss: 0.1737 - accuracy: 0.9375\n",
            "Epoch 6/10\n",
            "2463/2463 [==============================] - 17s 7ms/step - loss: 0.1727 - accuracy: 0.9379\n",
            "Epoch 7/10\n",
            "2463/2463 [==============================] - 17s 7ms/step - loss: 0.1711 - accuracy: 0.9385\n",
            "Epoch 8/10\n",
            "2463/2463 [==============================] - 18s 7ms/step - loss: 0.1706 - accuracy: 0.9385\n",
            "Epoch 9/10\n",
            "2463/2463 [==============================] - 17s 7ms/step - loss: 0.1697 - accuracy: 0.9391\n",
            "Epoch 10/10\n",
            "2463/2463 [==============================] - 17s 7ms/step - loss: 0.1691 - accuracy: 0.9392\n",
            "23130/23130 [==============================] - 68s 3ms/step\n",
            "\tLOS 1: Recall 87.27%\n",
            "23130/23130 [==============================] - 69s 3ms/step\n",
            "\tLOS 2: Recall 10.62%\n",
            "23130/23130 [==============================] - 67s 3ms/step\n",
            "\tLOS 3: Recall 1.69%\n",
            "23130/23130 [==============================] - 68s 3ms/step\n",
            "\tLOS 4: Recall 0.33%\n",
            "23130/23130 [==============================] - 67s 3ms/step\n",
            "\tLOS 5: Recall 0.09%\n",
            "23130/23130 [==============================] - 68s 3ms/step\n",
            "\tLOS 6: Recall 0.0%\n",
            "LINK 10\n",
            "Size of training data array (1231020, 10, 6)\n",
            "Size of training labels (1231020, 6)\n",
            "Epoch 1/10\n",
            "2463/2463 [==============================] - 21s 7ms/step - loss: 0.2011 - accuracy: 0.9347\n",
            "Epoch 2/10\n",
            "2463/2463 [==============================] - 18s 7ms/step - loss: 0.1635 - accuracy: 0.9434\n",
            "Epoch 3/10\n",
            "2463/2463 [==============================] - 17s 7ms/step - loss: 0.1594 - accuracy: 0.9444\n",
            "Epoch 4/10\n",
            "2463/2463 [==============================] - 17s 7ms/step - loss: 0.1564 - accuracy: 0.9452\n",
            "Epoch 5/10\n",
            "2463/2463 [==============================] - 17s 7ms/step - loss: 0.1539 - accuracy: 0.9455\n",
            "Epoch 6/10\n",
            "2463/2463 [==============================] - 18s 7ms/step - loss: 0.1518 - accuracy: 0.9462\n",
            "Epoch 7/10\n",
            "2463/2463 [==============================] - 17s 7ms/step - loss: 0.1502 - accuracy: 0.9466\n",
            "Epoch 8/10\n",
            "2463/2463 [==============================] - 17s 7ms/step - loss: 0.1486 - accuracy: 0.9471\n",
            "Epoch 9/10\n",
            "2463/2463 [==============================] - 17s 7ms/step - loss: 0.1475 - accuracy: 0.9475\n",
            "Epoch 10/10\n",
            "2463/2463 [==============================] - 18s 7ms/step - loss: 0.1459 - accuracy: 0.9481\n",
            "23130/23130 [==============================] - 69s 3ms/step\n",
            "\tLOS 1: Recall 92.56%\n",
            "23130/23130 [==============================] - 68s 3ms/step\n",
            "\tLOS 2: Recall 2.13%\n",
            "23130/23130 [==============================] - 68s 3ms/step\n",
            "\tLOS 3: Recall 1.72%\n",
            "23130/23130 [==============================] - 68s 3ms/step\n",
            "\tLOS 4: Recall 1.69%\n",
            "23130/23130 [==============================] - 68s 3ms/step\n",
            "\tLOS 5: Recall 1.37%\n",
            "23130/23130 [==============================] - 68s 3ms/step\n",
            "\tLOS 6: Recall 0.53%\n"
          ]
        }
      ]
    },
    {
      "cell_type": "markdown",
      "source": [
        "## **FEATURE ENGINEERING CLASS BALANCING BY RUS**"
      ],
      "metadata": {
        "id": "Xl4PkY479EXD"
      }
    },
    {
      "cell_type": "markdown",
      "source": [
        "# **CLEAN UP**"
      ],
      "metadata": {
        "id": "l3Uq8ZqIQ55g"
      }
    },
    {
      "cell_type": "code",
      "source": [
        "!git status"
      ],
      "metadata": {
        "id": "aMbYu1JbnzEy",
        "outputId": "748cdc1c-738c-4908-e1c9-efd6ca3dc112",
        "colab": {
          "base_uri": "https://localhost:8080/"
        }
      },
      "execution_count": null,
      "outputs": [
        {
          "output_type": "stream",
          "name": "stdout",
          "text": [
            "fatal: not a git repository (or any of the parent directories): .git\n"
          ]
        }
      ]
    },
    {
      "cell_type": "code",
      "source": [
        "!git pull"
      ],
      "metadata": {
        "id": "kQnWKUfl8zBx"
      },
      "execution_count": null,
      "outputs": []
    },
    {
      "cell_type": "markdown",
      "source": [
        "## COMMIT AND REMOVE"
      ],
      "metadata": {
        "id": "rN4hjHN5n8ns"
      }
    },
    {
      "cell_type": "code",
      "source": [
        "%cd /content/Traffic\n",
        "!sh /content/drive/MyDrive/Traffic/scripts/logout.sh"
      ],
      "metadata": {
        "id": "xKwc6DK9xcrr",
        "outputId": "f818a739-6cb7-4c61-ee9f-969701996e61",
        "colab": {
          "base_uri": "https://localhost:8080/"
        }
      },
      "execution_count": null,
      "outputs": [
        {
          "output_type": "stream",
          "name": "stdout",
          "text": [
            "/content/Traffic\n",
            ": not found\n",
            "fatal: pathspec '.?' did not match any files\n",
            "On branch master\n",
            "Your branch is ahead of 'origin/master' by 1 commit.\n",
            "  (use \"git push\" to publish your local commits)\n",
            "\n",
            "nothing to commit, working tree clean\n",
            "Everything up-to-date\n"
          ]
        }
      ]
    },
    {
      "cell_type": "code",
      "source": [
        "drive.flush_and_unmount()\n",
        "!rm -rf /content/Traffic"
      ],
      "metadata": {
        "id": "2ifNpENMcesP",
        "outputId": "ca191f22-7c84-4569-e9cd-25875f101521",
        "colab": {
          "base_uri": "https://localhost:8080/",
          "height": 304
        }
      },
      "execution_count": null,
      "outputs": [
        {
          "output_type": "error",
          "ename": "ValueError",
          "evalue": "ignored",
          "traceback": [
            "\u001b[0;31m---------------------------------------------------------------------------\u001b[0m",
            "\u001b[0;31mValueError\u001b[0m                                Traceback (most recent call last)",
            "\u001b[0;32m<ipython-input-14-299d6ccaf3c6>\u001b[0m in \u001b[0;36m<cell line: 1>\u001b[0;34m()\u001b[0m\n\u001b[0;32m----> 1\u001b[0;31m \u001b[0mdrive\u001b[0m\u001b[0;34m.\u001b[0m\u001b[0mflush_and_unmount\u001b[0m\u001b[0;34m(\u001b[0m\u001b[0;34m)\u001b[0m\u001b[0;34m\u001b[0m\u001b[0;34m\u001b[0m\u001b[0m\n\u001b[0m\u001b[1;32m      2\u001b[0m \u001b[0mget_ipython\u001b[0m\u001b[0;34m(\u001b[0m\u001b[0;34m)\u001b[0m\u001b[0;34m.\u001b[0m\u001b[0msystem\u001b[0m\u001b[0;34m(\u001b[0m\u001b[0;34m'rm -rf /content/Traffic'\u001b[0m\u001b[0;34m)\u001b[0m\u001b[0;34m\u001b[0m\u001b[0;34m\u001b[0m\u001b[0m\n",
            "\u001b[0;32m/usr/local/lib/python3.9/dist-packages/google/colab/drive.py\u001b[0m in \u001b[0;36mflush_and_unmount\u001b[0;34m(timeout_ms)\u001b[0m\n\u001b[1;32m     96\u001b[0m     \u001b[0mprint\u001b[0m\u001b[0;34m(\u001b[0m\u001b[0;34m'flush_and_unmount: out: {}\\nerr: {}'\u001b[0m\u001b[0;34m.\u001b[0m\u001b[0mformat\u001b[0m\u001b[0;34m(\u001b[0m\u001b[0mout\u001b[0m\u001b[0;34m,\u001b[0m \u001b[0merr\u001b[0m\u001b[0;34m)\u001b[0m\u001b[0;34m)\u001b[0m\u001b[0;34m\u001b[0m\u001b[0;34m\u001b[0m\u001b[0m\n\u001b[1;32m     97\u001b[0m   \u001b[0;32mif\u001b[0m \u001b[0mp\u001b[0m\u001b[0;34m.\u001b[0m\u001b[0mreturncode\u001b[0m\u001b[0;34m:\u001b[0m\u001b[0;34m\u001b[0m\u001b[0;34m\u001b[0m\u001b[0m\n\u001b[0;32m---> 98\u001b[0;31m     \u001b[0;32mraise\u001b[0m \u001b[0mValueError\u001b[0m\u001b[0;34m(\u001b[0m\u001b[0;34m'flush_and_unmount failed'\u001b[0m\u001b[0;34m)\u001b[0m\u001b[0;34m\u001b[0m\u001b[0;34m\u001b[0m\u001b[0m\n\u001b[0m\u001b[1;32m     99\u001b[0m \u001b[0;34m\u001b[0m\u001b[0m\n\u001b[1;32m    100\u001b[0m \u001b[0;34m\u001b[0m\u001b[0m\n",
            "\u001b[0;31mValueError\u001b[0m: flush_and_unmount failed"
          ]
        }
      ]
    }
  ]
}