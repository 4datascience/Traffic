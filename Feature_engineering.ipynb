{
  "nbformat": 4,
  "nbformat_minor": 0,
  "metadata": {
    "colab": {
      "provenance": [],
      "mount_file_id": "1Z2Z4EeQPbfgdwWew4IfwOLqQ_conuu2c",
      "authorship_tag": "ABX9TyPpUhKDOhwBoI/Vv/pMQPtf",
      "include_colab_link": true
    },
    "kernelspec": {
      "name": "python3",
      "display_name": "Python 3"
    },
    "language_info": {
      "name": "python"
    }
  },
  "cells": [
    {
      "cell_type": "markdown",
      "metadata": {
        "id": "view-in-github",
        "colab_type": "text"
      },
      "source": [
        "<a href=\"https://colab.research.google.com/github/4datascience/Traffic/blob/master/Feature_engineering.ipynb\" target=\"_parent\"><img src=\"https://colab.research.google.com/assets/colab-badge.svg\" alt=\"Open In Colab\"/></a>"
      ]
    },
    {
      "cell_type": "code",
      "execution_count": 1,
      "metadata": {
        "colab": {
          "base_uri": "https://localhost:8080/"
        },
        "id": "PtJt6uekJtLb",
        "outputId": "6b41e576-5363-4ad7-f96f-4028f7b14353"
      },
      "outputs": [
        {
          "output_type": "stream",
          "name": "stdout",
          "text": [
            "Drive already mounted at /content/drive; to attempt to forcibly remount, call drive.mount(\"/content/drive\", force_remount=True).\n"
          ]
        }
      ],
      "source": [
        "from google.colab import drive\n",
        "drive.mount('/content/drive')"
      ]
    },
    {
      "cell_type": "markdown",
      "source": [
        "# **NAIVE BAYES**"
      ],
      "metadata": {
        "id": "Jf0vYHbXf_9d"
      }
    },
    {
      "cell_type": "markdown",
      "source": [
        "## **NO FEATURE ENGINEERING**"
      ],
      "metadata": {
        "id": "b0q_xwSKgXob"
      }
    },
    {
      "cell_type": "code",
      "source": [
        "import os\n",
        "import pandas as pd\n",
        "\n",
        "PREDICTED_MINUTES_AHEAD = 5\n",
        "if (PREDICTED_MINUTES_AHEAD%5 != 0): raise ValueError(\"Invalid prediction horizon. Must be multiple of 5 minutes\")\n",
        "\n",
        "training = []\n",
        "validation = []\n",
        "total_size = 0\n",
        "\n",
        "directory = '/content/drive/MyDrive/Traffic/data/processed/'\n",
        "for filename in os.listdir(directory):\n",
        "    f = os.path.join(directory, filename)\n",
        "    df=pd.read_csv(f)\n",
        "    df[\"date\"] = pd.to_datetime(df[\"date\"], format='%d-%b-%Y %H:%M:%S')\n",
        "    df = df.set_index(\"date\")\n",
        "    Y = df.shift(-PREDICTED_MINUTES_AHEAD, freq='min')['LOS_dep']\n",
        "    # Training set\n",
        "    X = df.loc[(df.index.day < 20)][['link_id', 'tt_arr']]\n",
        "    training.append( X.join(Y, how='inner') )\n",
        "    # Validation set\n",
        "    X = df.loc[~(df.index.day < 20)][['link_id', 'tt_arr']]\n",
        "    validation.append( X.join(Y, how='inner') )\n",
        "    total_size += df.size\n",
        "del df\n",
        "training_df = pd.concat(training)\n",
        "validation_df = pd.concat(validation)\n",
        "\n",
        "del training, validation\n",
        "print(f'Training percentage ({training_df.size} elements):\\n\\t{training_df.size / total_size * 100}%')\n",
        "print(f'Validation percentage:\\n\\t{validation_df.size / total_size * 100}%')\n",
        "\n",
        "training_df.to_csv(f'/content/drive/MyDrive/Traffic/data/intermediate/Sevilla_Naive_Bayes_{PREDICTED_MINUTES_AHEAD}m_training.csv')\n",
        "validation_df.to_csv(f'/content/drive/MyDrive/Traffic/data/intermediate/Sevilla_Naive_Bayes_{PREDICTED_MINUTES_AHEAD}m_validating.csv')"
      ],
      "metadata": {
        "id": "BUC8BXTYMQP9"
      },
      "execution_count": null,
      "outputs": []
    }
  ]
}