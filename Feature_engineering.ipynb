{
 "cells": [
  {
   "cell_type": "markdown",
   "metadata": {
    "id": "uZ_KQy9CaghT",
    "tags": []
   },
   "source": [
    "# **INITIALISATION**"
   ]
  },
  {
   "cell_type": "markdown",
   "metadata": {
    "id": "J1aLPKnRdfSq"
   },
   "source": [
    "## Python Environment"
   ]
  },
  {
   "cell_type": "markdown",
   "metadata": {
    "id": "2O_6vDSUdG5G"
   },
   "source": [
    "### Import Python libraries"
   ]
  },
  {
   "cell_type": "code",
   "execution_count": 1,
   "metadata": {
    "id": "0aZLKV7udGBe"
   },
   "outputs": [],
   "source": [
    "# Data libraries\n",
    "import os\n",
    "import pandas as pd\n",
    "import calendar\n",
    "import numpy as np\n",
    "import gc\n",
    "import math\n",
    "from operator import itemgetter\n",
    "from datetime import datetime\n",
    "\n",
    "# Plotting\n",
    "import matplotlib.pyplot as plt\n",
    "from matplotlib.ticker import StrMethodFormatter\n",
    "from seaborn import violinplot, boxenplot\n",
    "\n",
    "# Model training\n",
    "from sklearn.model_selection import cross_validate\n",
    "from sklearn import metrics, preprocessing\n",
    "from sklearn.pipeline import make_pipeline\n",
    "from sklearn.naive_bayes import GaussianNB\n",
    "#from imblearn.ensemble import RUSBoostClassifier\n",
    "from sklearn.ensemble import AdaBoostClassifier\n",
    "from sklearn.tree import DecisionTreeClassifier\n",
    "from sklearn import base\n",
    "import joblib\n",
    "    # Keras\n",
    "from tensorflow import keras\n",
    "from keras.models import Sequential\n",
    "from keras.layers import Dense, Dropout, LSTM, Activation, Lambda\n",
    "    # Tensorflow\n",
    "import tensorflow as tf\n",
    "\n",
    "# Statistical tests\n",
    "from scipy.stats import shapiro"
   ]
  },
  {
   "cell_type": "markdown",
   "metadata": {
    "id": "4sHUoA4jdmit"
   },
   "source": [
    "### SET ENVIRONMENT VARIABLES"
   ]
  },
  {
   "cell_type": "code",
   "execution_count": 2,
   "metadata": {
    "id": "aGdil-f9dr5k"
   },
   "outputs": [],
   "source": [
    "# WORKING FOLDER: /content/local/Traffic/data or /content/drive/MyDrive/Traffic/data\n",
    "ROOT = '/content/local/Traffic/data'\n",
    "# PREDICTION HORIZON\n",
    "PREDICTED_MINUTES_AHEAD = 5\n",
    "if (PREDICTED_MINUTES_AHEAD%5 != 0): raise ValueError(\"Invalid prediction horizon. Must be multiple of 5 minutes\")\n",
    "INPUT_MINUTES_BEFORE = 45\n",
    "if (INPUT_MINUTES_BEFORE%5 != 0): raise ValueError(\"Invalid input minutes span. Must be multiple of 5 minutes\")"
   ]
  },
  {
   "cell_type": "markdown",
   "metadata": {
    "id": "v7P6CQyDdblM",
    "jp-MarkdownHeadingCollapsed": true,
    "tags": []
   },
   "source": [
    "## Files (Ignore if working locally)"
   ]
  },
  {
   "cell_type": "markdown",
   "metadata": {
    "id": "s7uxqluGalb6",
    "tags": []
   },
   "source": [
    "### Mount \\<Google Drive\\>"
   ]
  },
  {
   "cell_type": "code",
   "execution_count": 3,
   "metadata": {
    "colab": {
     "base_uri": "https://localhost:8080/"
    },
    "id": "PtJt6uekJtLb",
    "outputId": "d69b4573-b5d6-442d-9525-dac0f6d854e2"
   },
   "outputs": [
    {
     "name": "stdout",
     "output_type": "stream",
     "text": [
      "Mounted at /content/drive\n"
     ]
    }
   ],
   "source": [
    "from google.colab import drive\n",
    "drive.mount('/content/drive')\n",
    "!rm -rf sample_data"
   ]
  },
  {
   "cell_type": "markdown",
   "metadata": {
    "id": "EPQCjHeEa0Tt",
    "tags": []
   },
   "source": [
    "### Clone \\<Github\\>"
   ]
  },
  {
   "cell_type": "code",
   "execution_count": null,
   "metadata": {
    "colab": {
     "base_uri": "https://localhost:8080/"
    },
    "id": "9T3lXEPdJv29",
    "outputId": "eba39175-cb03-4cae-ebb4-c91057d4ab7d"
   },
   "outputs": [
    {
     "name": "stdout",
     "output_type": "stream",
     "text": [
      "/content/drive/MyDrive/Traffic/scripts/initialisation.sh: 1: %cd: not found\n",
      "Cloning into 'Traffic'...\n",
      "remote: Enumerating objects: 104, done.\u001b[K\n",
      "remote: Counting objects: 100% (104/104), done.\u001b[K\n",
      "remote: Compressing objects: 100% (96/96), done.\u001b[K\n",
      "remote: Total 104 (delta 42), reused 36 (delta 3), pack-reused 0\u001b[K\n",
      "Receiving objects: 100% (104/104), 9.85 MiB | 17.27 MiB/s, done.\n",
      "Resolving deltas: 100% (42/42), done.\n",
      "/content/drive/MyDrive/Traffic/scripts/initialisation.sh: 3: %cd: not found\n"
     ]
    }
   ],
   "source": [
    "!sh /content/drive/MyDrive/Traffic/scripts/initialisation.sh"
   ]
  },
  {
   "cell_type": "code",
   "execution_count": null,
   "metadata": {
    "colab": {
     "base_uri": "https://localhost:8080/"
    },
    "id": "wTfD2Vw6a64d",
    "outputId": "bf4680f8-e4cc-440a-f9df-c11f283eafa2"
   },
   "outputs": [
    {
     "name": "stdout",
     "output_type": "stream",
     "text": [
      "/content/Traffic\n"
     ]
    }
   ],
   "source": [
    "%cd /content/Traffic\n",
    "!git config user.email diego@google.colab.com\n",
    "!git config user.name \"Google Colab\"\n",
    "!git config http.postBuffer 524288000"
   ]
  },
  {
   "cell_type": "markdown",
   "metadata": {
    "id": "wOQaX0TnQJti"
   },
   "source": [
    "# **UPLOAD DATA**"
   ]
  },
  {
   "cell_type": "markdown",
   "metadata": {
    "id": "fRqNJgJxQf8l",
    "jp-MarkdownHeadingCollapsed": true,
    "tags": []
   },
   "source": [
    "## TO GOOGLE DRIVE [ LINK_ID, TT_ARR, LOS_DEP ]"
   ]
  },
  {
   "cell_type": "code",
   "execution_count": null,
   "metadata": {
    "colab": {
     "base_uri": "https://localhost:8080/"
    },
    "id": "0Jet-m9yQJSQ",
    "outputId": "8b659314-fbf3-4f74-ba1d-c4af2da2e837"
   },
   "outputs": [
    {
     "name": "stdout",
     "output_type": "stream",
     "text": [
      "Sevilla_2015.csv 365.0\n",
      "Sevilla_2016.csv 366.0\n",
      "Sevilla_2017.csv 365.0\n",
      "Sevilla_2018.csv 273.0\n",
      "Training percentage (7387200 elements):\n",
      "\t62.45434623813002%\n",
      "Validation percentage:\n",
      "\t37.54261017774531%\n"
     ]
    }
   ],
   "source": [
    "\n",
    "\n",
    "training = []\n",
    "validation = []\n",
    "total_size = 0\n",
    "\n",
    "directory = '/content/drive/MyDrive/Traffic/data/processed/'\n",
    "for filename in os.listdir(directory):\n",
    "    f = os.path.join(directory, filename)\n",
    "    df=pd.read_csv(f)\n",
    "    print(f'{filename} {df.shape[0]/(60*24*6)}')\n",
    "    df[\"date\"] = pd.to_datetime(df[\"date\"], format='%d-%b-%Y %H:%M:%S')\n",
    "    df = df.set_index(\"date\")\n",
    "    Y = df.shift(-PREDICTED_MINUTES_AHEAD, freq='min')[['link_id', 'LOS_dep']]\n",
    "    # Training set\n",
    "    X = df.loc[(df.index.day < 20)][['link_id', 'tt_arr']]\n",
    "    training.append( pd.merge(X, Y, on=['date', 'link_id'], how='inner') )\n",
    "    # Validation set\n",
    "    X = df.loc[~(df.index.day < 20)][['link_id', 'tt_arr']]\n",
    "    validation.append( pd.merge(X, Y, on=['date', 'link_id'], how='inner') )\n",
    "    total_size += df.shape[0]\n",
    "del df\n",
    "training_df = pd.concat(training)\n",
    "validation_df = pd.concat(validation)\n",
    "\n",
    "del training, validation\n",
    "print(f'Training percentage ({training_df.shape[0]} elements):\\n\\t{training_df.shape[0] / total_size * 100}%')\n",
    "print(f'Validation percentage:\\n\\t{validation_df.shape[0] / total_size * 100}%')\n",
    "\n",
    "training_df.to_csv(f'/content/drive/MyDrive/Traffic/data/intermediate/Sevilla_{PREDICTED_MINUTES_AHEAD}m_training.csv')\n",
    "validation_df.to_csv(f'/content/drive/MyDrive/Traffic/data/intermediate/Sevilla_{PREDICTED_MINUTES_AHEAD}m_validating.csv')"
   ]
  },
  {
   "cell_type": "markdown",
   "metadata": {
    "id": "uNktJwINXeVt",
    "jp-MarkdownHeadingCollapsed": true,
    "tags": []
   },
   "source": [
    "## TO GOOGLE DRIVE [ LINK_ID, TT_ARR, TT_ARR-5, TT_ARR-10, ..., TT_ARR-N, LOS_DEP ]"
   ]
  },
  {
   "cell_type": "code",
   "execution_count": null,
   "metadata": {
    "colab": {
     "base_uri": "https://localhost:8080/"
    },
    "id": "BokEgQrdavRt",
    "outputId": "393ac4b5-488f-4292-a764-24ca40a30e8d"
   },
   "outputs": [
    {
     "name": "stdout",
     "output_type": "stream",
     "text": [
      "Sevilla_2015.csv 365.0\n",
      "Sevilla_2016.csv 366.0\n",
      "Sevilla_2017.csv 365.0\n",
      "Sevilla_2018.csv 273.0\n",
      "Training percentage (7386120 elements):\n",
      "\t62.44521548575602%\n",
      "Validation percentage:\n",
      "\t37.54463923382843%\n"
     ]
    }
   ],
   "source": [
    "\n",
    "\n",
    "training = []\n",
    "validation = []\n",
    "total_size = 0\n",
    "\n",
    "directory = '/content/drive/MyDrive/Traffic/data/processed/'\n",
    "for filename in os.listdir(directory):\n",
    "    f = os.path.join(directory, filename)\n",
    "    df=pd.read_csv(f)\n",
    "    print(f'{filename} {df.shape[0]/(60*24*6)}')\n",
    "    df[\"date\"] = pd.to_datetime(df[\"date\"], format='%d-%b-%Y %H:%M:%S')\n",
    "    df = df.set_index(\"date\")\n",
    "    Y = df.shift(-PREDICTED_MINUTES_AHEAD, freq='min')[['link_id', 'LOS_dep']]\n",
    "    # Training set\n",
    "    X = df.loc[(df.index.day < 20)][['link_id', 'tt_arr']]\n",
    "    for offset in range(1,int((INPUT_MINUTES_BEFORE)/5)+1):\n",
    "        X = pd.merge(X, df.shift(offset*5, freq='min')[['link_id', 'tt_arr']], on=['date', 'link_id'], how='inner', suffixes=[None, f'-{int(offset*5)}'])\n",
    "    training.append( pd.merge(X, Y, on=['date', 'link_id'], how='inner') )\n",
    "    # Validation set\n",
    "    X = df.loc[~(df.index.day < 20)][['link_id', 'tt_arr']]\n",
    "    for offset in range(1,int((INPUT_MINUTES_BEFORE)/5)+1):\n",
    "        X = pd.merge(X, df.shift(offset*5, freq='min')[['link_id', 'tt_arr']], on=['date', 'link_id'], how='inner', suffixes=[None, f'-{int(offset*5)}'])\n",
    "    validation.append( pd.merge(X, Y, on=['date', 'link_id'], how='inner') )\n",
    "    total_size += df.shape[0]\n",
    "del df\n",
    "training_df = pd.concat(training)\n",
    "validation_df = pd.concat(validation)\n",
    "\n",
    "del training, validation\n",
    "print(f'Training percentage ({training_df.shape[0]} elements):\\n\\t{training_df.shape[0] / total_size * 100}%')\n",
    "print(f'Validation percentage:\\n\\t{validation_df.shape[0] / total_size * 100}%')\n",
    "\n",
    "training_df.to_csv(f'/content/drive/MyDrive/Traffic/data/intermediate/Sevilla_{PREDICTED_MINUTES_AHEAD}m_horizon_{INPUT_MINUTES_BEFORE}m_feed_training.csv')\n",
    "validation_df.to_csv(f'/content/drive/MyDrive/Traffic/data/intermediate/Sevilla_{PREDICTED_MINUTES_AHEAD}m_horizon_{INPUT_MINUTES_BEFORE}m_feed_validating.csv')"
   ]
  },
  {
   "cell_type": "markdown",
   "metadata": {
    "id": "GNBT0n1PaJDE"
   },
   "source": [
    "# **DOWNLOAD DATA**"
   ]
  },
  {
   "cell_type": "markdown",
   "metadata": {
    "id": "lQ3s6vVAhUqe"
   },
   "source": [
    "## Without temporal information"
   ]
  },
  {
   "cell_type": "code",
   "execution_count": null,
   "metadata": {
    "id": "VbJeopr8bNxm"
   },
   "outputs": [],
   "source": [
    "training_df = pd.read_csv(f'/content/drive/MyDrive/Traffic/data/intermediate/Sevilla_{PREDICTED_MINUTES_AHEAD}m_training.csv')\n",
    "training_df[\"date\"] = pd.to_datetime(training_df[\"date\"], format='%Y-%m-%d %H:%M:%S')\n",
    "training_df = training_df.set_index(\"date\")\n",
    "validation_df = pd.read_csv(f'/content/drive/MyDrive/Traffic/data/intermediate/Sevilla_{PREDICTED_MINUTES_AHEAD}m_validating.csv')\n",
    "validation_df[\"date\"] = pd.to_datetime(validation_df[\"date\"], format='%Y-%m-%d %H:%M:%S')\n",
    "validation_df = validation_df.set_index(\"date\")"
   ]
  },
  {
   "cell_type": "markdown",
   "metadata": {
    "id": "kVAtVDMNhafE"
   },
   "source": [
    "## With temporal information"
   ]
  },
  {
   "cell_type": "code",
   "execution_count": 3,
   "metadata": {
    "id": "uinjRHA3hcbc"
   },
   "outputs": [],
   "source": [
    "training_df = pd.read_csv(f'/content/drive/MyDrive/Traffic/data/intermediate/Sevilla_{PREDICTED_MINUTES_AHEAD}m_horizon_{INPUT_MINUTES_BEFORE}m_feed_training.csv')\n",
    "training_df[\"date\"] = pd.to_datetime(training_df[\"date\"], format='%Y-%m-%d %H:%M:%S')\n",
    "training_df = training_df.set_index(\"date\")\n",
    "validation_df = pd.read_csv(f'/content/drive/MyDrive/Traffic/data/intermediate/Sevilla_{PREDICTED_MINUTES_AHEAD}m_horizon_{INPUT_MINUTES_BEFORE}m_feed_validating.csv')\n",
    "validation_df[\"date\"] = pd.to_datetime(validation_df[\"date\"], format='%Y-%m-%d %H:%M:%S')\n",
    "validation_df = validation_df.set_index(\"date\")"
   ]
  },
  {
   "cell_type": "markdown",
   "metadata": {
    "id": "u_1jQ8xMeJVL",
    "jp-MarkdownHeadingCollapsed": true,
    "tags": []
   },
   "source": [
    "# DATA EXPLORATION"
   ]
  },
  {
   "cell_type": "markdown",
   "metadata": {
    "id": "F4Q-LjQboREY"
   },
   "source": [
    "## Visual"
   ]
  },
  {
   "cell_type": "markdown",
   "metadata": {
    "id": "kWEUIgWaiIHu"
   },
   "source": [
    "> Dataframe content"
   ]
  },
  {
   "cell_type": "code",
   "execution_count": 5,
   "metadata": {
    "colab": {
     "base_uri": "https://localhost:8080/",
     "height": 438
    },
    "id": "E33RcTyqFuxE",
    "outputId": "229f6004-5c27-45af-a87a-399ae5f6e8bd"
   },
   "outputs": [
    {
     "data": {
      "text/html": [
       "<div>\n",
       "<style scoped>\n",
       "    .dataframe tbody tr th:only-of-type {\n",
       "        vertical-align: middle;\n",
       "    }\n",
       "\n",
       "    .dataframe tbody tr th {\n",
       "        vertical-align: top;\n",
       "    }\n",
       "\n",
       "    .dataframe thead th {\n",
       "        text-align: right;\n",
       "    }\n",
       "</style>\n",
       "<table border=\"1\" class=\"dataframe\">\n",
       "  <thead>\n",
       "    <tr style=\"text-align: right;\">\n",
       "      <th></th>\n",
       "      <th>link_id</th>\n",
       "      <th>tt_arr</th>\n",
       "      <th>tt_arr-5</th>\n",
       "      <th>tt_arr-10</th>\n",
       "      <th>tt_arr-15</th>\n",
       "      <th>tt_arr-20</th>\n",
       "      <th>tt_arr-25</th>\n",
       "      <th>tt_arr-30</th>\n",
       "      <th>tt_arr-35</th>\n",
       "      <th>tt_arr-40</th>\n",
       "      <th>tt_arr-45</th>\n",
       "      <th>LOS_dep</th>\n",
       "    </tr>\n",
       "    <tr>\n",
       "      <th>date</th>\n",
       "      <th></th>\n",
       "      <th></th>\n",
       "      <th></th>\n",
       "      <th></th>\n",
       "      <th></th>\n",
       "      <th></th>\n",
       "      <th></th>\n",
       "      <th></th>\n",
       "      <th></th>\n",
       "      <th></th>\n",
       "      <th></th>\n",
       "      <th></th>\n",
       "    </tr>\n",
       "  </thead>\n",
       "  <tbody>\n",
       "    <tr>\n",
       "      <th>2015-01-01 00:45:00</th>\n",
       "      <td>8</td>\n",
       "      <td>109.0</td>\n",
       "      <td>109.0</td>\n",
       "      <td>109.0</td>\n",
       "      <td>109.0</td>\n",
       "      <td>109.0</td>\n",
       "      <td>109.0</td>\n",
       "      <td>109.0</td>\n",
       "      <td>109.0</td>\n",
       "      <td>109.0</td>\n",
       "      <td>109.0</td>\n",
       "      <td>1</td>\n",
       "    </tr>\n",
       "    <tr>\n",
       "      <th>2015-01-01 00:46:00</th>\n",
       "      <td>8</td>\n",
       "      <td>109.0</td>\n",
       "      <td>109.0</td>\n",
       "      <td>109.0</td>\n",
       "      <td>109.0</td>\n",
       "      <td>109.0</td>\n",
       "      <td>109.0</td>\n",
       "      <td>109.0</td>\n",
       "      <td>109.0</td>\n",
       "      <td>109.0</td>\n",
       "      <td>109.0</td>\n",
       "      <td>1</td>\n",
       "    </tr>\n",
       "    <tr>\n",
       "      <th>2015-01-01 00:47:00</th>\n",
       "      <td>8</td>\n",
       "      <td>109.0</td>\n",
       "      <td>109.0</td>\n",
       "      <td>109.0</td>\n",
       "      <td>109.0</td>\n",
       "      <td>109.0</td>\n",
       "      <td>109.0</td>\n",
       "      <td>109.0</td>\n",
       "      <td>109.0</td>\n",
       "      <td>109.0</td>\n",
       "      <td>109.0</td>\n",
       "      <td>1</td>\n",
       "    </tr>\n",
       "    <tr>\n",
       "      <th>2015-01-01 00:48:00</th>\n",
       "      <td>8</td>\n",
       "      <td>109.0</td>\n",
       "      <td>109.0</td>\n",
       "      <td>109.0</td>\n",
       "      <td>109.0</td>\n",
       "      <td>109.0</td>\n",
       "      <td>109.0</td>\n",
       "      <td>109.0</td>\n",
       "      <td>109.0</td>\n",
       "      <td>109.0</td>\n",
       "      <td>109.0</td>\n",
       "      <td>1</td>\n",
       "    </tr>\n",
       "    <tr>\n",
       "      <th>2015-01-01 00:49:00</th>\n",
       "      <td>8</td>\n",
       "      <td>109.0</td>\n",
       "      <td>109.0</td>\n",
       "      <td>109.0</td>\n",
       "      <td>109.0</td>\n",
       "      <td>109.0</td>\n",
       "      <td>109.0</td>\n",
       "      <td>109.0</td>\n",
       "      <td>109.0</td>\n",
       "      <td>109.0</td>\n",
       "      <td>109.0</td>\n",
       "      <td>1</td>\n",
       "    </tr>\n",
       "    <tr>\n",
       "      <th>2015-01-01 00:50:00</th>\n",
       "      <td>8</td>\n",
       "      <td>109.0</td>\n",
       "      <td>109.0</td>\n",
       "      <td>109.0</td>\n",
       "      <td>109.0</td>\n",
       "      <td>109.0</td>\n",
       "      <td>109.0</td>\n",
       "      <td>109.0</td>\n",
       "      <td>109.0</td>\n",
       "      <td>109.0</td>\n",
       "      <td>109.0</td>\n",
       "      <td>1</td>\n",
       "    </tr>\n",
       "    <tr>\n",
       "      <th>2015-01-01 00:51:00</th>\n",
       "      <td>8</td>\n",
       "      <td>109.0</td>\n",
       "      <td>109.0</td>\n",
       "      <td>109.0</td>\n",
       "      <td>109.0</td>\n",
       "      <td>109.0</td>\n",
       "      <td>109.0</td>\n",
       "      <td>109.0</td>\n",
       "      <td>109.0</td>\n",
       "      <td>109.0</td>\n",
       "      <td>109.0</td>\n",
       "      <td>1</td>\n",
       "    </tr>\n",
       "    <tr>\n",
       "      <th>2015-01-01 00:52:00</th>\n",
       "      <td>8</td>\n",
       "      <td>109.0</td>\n",
       "      <td>109.0</td>\n",
       "      <td>109.0</td>\n",
       "      <td>109.0</td>\n",
       "      <td>109.0</td>\n",
       "      <td>109.0</td>\n",
       "      <td>109.0</td>\n",
       "      <td>109.0</td>\n",
       "      <td>109.0</td>\n",
       "      <td>109.0</td>\n",
       "      <td>1</td>\n",
       "    </tr>\n",
       "    <tr>\n",
       "      <th>2015-01-01 00:53:00</th>\n",
       "      <td>8</td>\n",
       "      <td>109.0</td>\n",
       "      <td>109.0</td>\n",
       "      <td>109.0</td>\n",
       "      <td>109.0</td>\n",
       "      <td>109.0</td>\n",
       "      <td>109.0</td>\n",
       "      <td>109.0</td>\n",
       "      <td>109.0</td>\n",
       "      <td>109.0</td>\n",
       "      <td>109.0</td>\n",
       "      <td>1</td>\n",
       "    </tr>\n",
       "    <tr>\n",
       "      <th>2015-01-01 00:54:00</th>\n",
       "      <td>8</td>\n",
       "      <td>109.0</td>\n",
       "      <td>109.0</td>\n",
       "      <td>109.0</td>\n",
       "      <td>109.0</td>\n",
       "      <td>109.0</td>\n",
       "      <td>109.0</td>\n",
       "      <td>109.0</td>\n",
       "      <td>109.0</td>\n",
       "      <td>109.0</td>\n",
       "      <td>109.0</td>\n",
       "      <td>1</td>\n",
       "    </tr>\n",
       "  </tbody>\n",
       "</table>\n",
       "</div>"
      ],
      "text/plain": [
       "                     link_id  tt_arr  tt_arr-5  tt_arr-10  tt_arr-15  \\\n",
       "date                                                                   \n",
       "2015-01-01 00:45:00        8   109.0     109.0      109.0      109.0   \n",
       "2015-01-01 00:46:00        8   109.0     109.0      109.0      109.0   \n",
       "2015-01-01 00:47:00        8   109.0     109.0      109.0      109.0   \n",
       "2015-01-01 00:48:00        8   109.0     109.0      109.0      109.0   \n",
       "2015-01-01 00:49:00        8   109.0     109.0      109.0      109.0   \n",
       "2015-01-01 00:50:00        8   109.0     109.0      109.0      109.0   \n",
       "2015-01-01 00:51:00        8   109.0     109.0      109.0      109.0   \n",
       "2015-01-01 00:52:00        8   109.0     109.0      109.0      109.0   \n",
       "2015-01-01 00:53:00        8   109.0     109.0      109.0      109.0   \n",
       "2015-01-01 00:54:00        8   109.0     109.0      109.0      109.0   \n",
       "\n",
       "                     tt_arr-20  tt_arr-25  tt_arr-30  tt_arr-35  tt_arr-40  \\\n",
       "date                                                                         \n",
       "2015-01-01 00:45:00      109.0      109.0      109.0      109.0      109.0   \n",
       "2015-01-01 00:46:00      109.0      109.0      109.0      109.0      109.0   \n",
       "2015-01-01 00:47:00      109.0      109.0      109.0      109.0      109.0   \n",
       "2015-01-01 00:48:00      109.0      109.0      109.0      109.0      109.0   \n",
       "2015-01-01 00:49:00      109.0      109.0      109.0      109.0      109.0   \n",
       "2015-01-01 00:50:00      109.0      109.0      109.0      109.0      109.0   \n",
       "2015-01-01 00:51:00      109.0      109.0      109.0      109.0      109.0   \n",
       "2015-01-01 00:52:00      109.0      109.0      109.0      109.0      109.0   \n",
       "2015-01-01 00:53:00      109.0      109.0      109.0      109.0      109.0   \n",
       "2015-01-01 00:54:00      109.0      109.0      109.0      109.0      109.0   \n",
       "\n",
       "                     tt_arr-45  LOS_dep  \n",
       "date                                     \n",
       "2015-01-01 00:45:00      109.0        1  \n",
       "2015-01-01 00:46:00      109.0        1  \n",
       "2015-01-01 00:47:00      109.0        1  \n",
       "2015-01-01 00:48:00      109.0        1  \n",
       "2015-01-01 00:49:00      109.0        1  \n",
       "2015-01-01 00:50:00      109.0        1  \n",
       "2015-01-01 00:51:00      109.0        1  \n",
       "2015-01-01 00:52:00      109.0        1  \n",
       "2015-01-01 00:53:00      109.0        1  \n",
       "2015-01-01 00:54:00      109.0        1  "
      ]
     },
     "execution_count": 5,
     "metadata": {},
     "output_type": "execute_result"
    }
   ],
   "source": [
    "training_df[training_df['link_id']==8].head(10)"
   ]
  },
  {
   "cell_type": "code",
   "execution_count": null,
   "metadata": {
    "colab": {
     "base_uri": "https://localhost:8080/",
     "height": 394
    },
    "id": "BTRvJfL8iSmI",
    "outputId": "fd91da8f-c479-4baf-925b-0484364ff508"
   },
   "outputs": [
    {
     "data": {
      "text/html": [
       "\n",
       "  <div id=\"df-47b6c36b-3113-4274-b654-3479c24036bb\">\n",
       "    <div class=\"colab-df-container\">\n",
       "      <div>\n",
       "<style scoped>\n",
       "    .dataframe tbody tr th:only-of-type {\n",
       "        vertical-align: middle;\n",
       "    }\n",
       "\n",
       "    .dataframe tbody tr th {\n",
       "        vertical-align: top;\n",
       "    }\n",
       "\n",
       "    .dataframe thead th {\n",
       "        text-align: right;\n",
       "    }\n",
       "</style>\n",
       "<table border=\"1\" class=\"dataframe\">\n",
       "  <thead>\n",
       "    <tr style=\"text-align: right;\">\n",
       "      <th></th>\n",
       "      <th>link_id</th>\n",
       "      <th>tt_arr</th>\n",
       "      <th>LOS_dep</th>\n",
       "    </tr>\n",
       "    <tr>\n",
       "      <th>date</th>\n",
       "      <th></th>\n",
       "      <th></th>\n",
       "      <th></th>\n",
       "    </tr>\n",
       "  </thead>\n",
       "  <tbody>\n",
       "    <tr>\n",
       "      <th>2016-06-04 12:35:00</th>\n",
       "      <td>5</td>\n",
       "      <td>291.0</td>\n",
       "      <td>1</td>\n",
       "    </tr>\n",
       "    <tr>\n",
       "      <th>2017-02-04 03:47:00</th>\n",
       "      <td>5</td>\n",
       "      <td>281.0</td>\n",
       "      <td>1</td>\n",
       "    </tr>\n",
       "    <tr>\n",
       "      <th>2015-12-04 14:02:00</th>\n",
       "      <td>5</td>\n",
       "      <td>688.0</td>\n",
       "      <td>4</td>\n",
       "    </tr>\n",
       "    <tr>\n",
       "      <th>2015-02-10 00:19:00</th>\n",
       "      <td>5</td>\n",
       "      <td>304.0</td>\n",
       "      <td>1</td>\n",
       "    </tr>\n",
       "    <tr>\n",
       "      <th>2015-06-18 17:21:00</th>\n",
       "      <td>5</td>\n",
       "      <td>320.0</td>\n",
       "      <td>1</td>\n",
       "    </tr>\n",
       "    <tr>\n",
       "      <th>2016-03-14 09:47:00</th>\n",
       "      <td>5</td>\n",
       "      <td>346.0</td>\n",
       "      <td>1</td>\n",
       "    </tr>\n",
       "    <tr>\n",
       "      <th>2017-09-09 13:20:00</th>\n",
       "      <td>5</td>\n",
       "      <td>507.0</td>\n",
       "      <td>1</td>\n",
       "    </tr>\n",
       "    <tr>\n",
       "      <th>2015-04-04 14:05:00</th>\n",
       "      <td>5</td>\n",
       "      <td>299.5</td>\n",
       "      <td>1</td>\n",
       "    </tr>\n",
       "    <tr>\n",
       "      <th>2018-08-11 12:26:00</th>\n",
       "      <td>5</td>\n",
       "      <td>373.0</td>\n",
       "      <td>1</td>\n",
       "    </tr>\n",
       "    <tr>\n",
       "      <th>2015-08-08 05:35:00</th>\n",
       "      <td>5</td>\n",
       "      <td>301.0</td>\n",
       "      <td>1</td>\n",
       "    </tr>\n",
       "  </tbody>\n",
       "</table>\n",
       "</div>\n",
       "      <button class=\"colab-df-convert\" onclick=\"convertToInteractive('df-47b6c36b-3113-4274-b654-3479c24036bb')\"\n",
       "              title=\"Convert this dataframe to an interactive table.\"\n",
       "              style=\"display:none;\">\n",
       "        \n",
       "  <svg xmlns=\"http://www.w3.org/2000/svg\" height=\"24px\"viewBox=\"0 0 24 24\"\n",
       "       width=\"24px\">\n",
       "    <path d=\"M0 0h24v24H0V0z\" fill=\"none\"/>\n",
       "    <path d=\"M18.56 5.44l.94 2.06.94-2.06 2.06-.94-2.06-.94-.94-2.06-.94 2.06-2.06.94zm-11 1L8.5 8.5l.94-2.06 2.06-.94-2.06-.94L8.5 2.5l-.94 2.06-2.06.94zm10 10l.94 2.06.94-2.06 2.06-.94-2.06-.94-.94-2.06-.94 2.06-2.06.94z\"/><path d=\"M17.41 7.96l-1.37-1.37c-.4-.4-.92-.59-1.43-.59-.52 0-1.04.2-1.43.59L10.3 9.45l-7.72 7.72c-.78.78-.78 2.05 0 2.83L4 21.41c.39.39.9.59 1.41.59.51 0 1.02-.2 1.41-.59l7.78-7.78 2.81-2.81c.8-.78.8-2.07 0-2.86zM5.41 20L4 18.59l7.72-7.72 1.47 1.35L5.41 20z\"/>\n",
       "  </svg>\n",
       "      </button>\n",
       "      \n",
       "  <style>\n",
       "    .colab-df-container {\n",
       "      display:flex;\n",
       "      flex-wrap:wrap;\n",
       "      gap: 12px;\n",
       "    }\n",
       "\n",
       "    .colab-df-convert {\n",
       "      background-color: #E8F0FE;\n",
       "      border: none;\n",
       "      border-radius: 50%;\n",
       "      cursor: pointer;\n",
       "      display: none;\n",
       "      fill: #1967D2;\n",
       "      height: 32px;\n",
       "      padding: 0 0 0 0;\n",
       "      width: 32px;\n",
       "    }\n",
       "\n",
       "    .colab-df-convert:hover {\n",
       "      background-color: #E2EBFA;\n",
       "      box-shadow: 0px 1px 2px rgba(60, 64, 67, 0.3), 0px 1px 3px 1px rgba(60, 64, 67, 0.15);\n",
       "      fill: #174EA6;\n",
       "    }\n",
       "\n",
       "    [theme=dark] .colab-df-convert {\n",
       "      background-color: #3B4455;\n",
       "      fill: #D2E3FC;\n",
       "    }\n",
       "\n",
       "    [theme=dark] .colab-df-convert:hover {\n",
       "      background-color: #434B5C;\n",
       "      box-shadow: 0px 1px 3px 1px rgba(0, 0, 0, 0.15);\n",
       "      filter: drop-shadow(0px 1px 2px rgba(0, 0, 0, 0.3));\n",
       "      fill: #FFFFFF;\n",
       "    }\n",
       "  </style>\n",
       "\n",
       "      <script>\n",
       "        const buttonEl =\n",
       "          document.querySelector('#df-47b6c36b-3113-4274-b654-3479c24036bb button.colab-df-convert');\n",
       "        buttonEl.style.display =\n",
       "          google.colab.kernel.accessAllowed ? 'block' : 'none';\n",
       "\n",
       "        async function convertToInteractive(key) {\n",
       "          const element = document.querySelector('#df-47b6c36b-3113-4274-b654-3479c24036bb');\n",
       "          const dataTable =\n",
       "            await google.colab.kernel.invokeFunction('convertToInteractive',\n",
       "                                                     [key], {});\n",
       "          if (!dataTable) return;\n",
       "\n",
       "          const docLinkHtml = 'Like what you see? Visit the ' +\n",
       "            '<a target=\"_blank\" href=https://colab.research.google.com/notebooks/data_table.ipynb>data table notebook</a>'\n",
       "            + ' to learn more about interactive tables.';\n",
       "          element.innerHTML = '';\n",
       "          dataTable['output_type'] = 'display_data';\n",
       "          await google.colab.output.renderOutput(dataTable, element);\n",
       "          const docLink = document.createElement('div');\n",
       "          docLink.innerHTML = docLinkHtml;\n",
       "          element.appendChild(docLink);\n",
       "        }\n",
       "      </script>\n",
       "    </div>\n",
       "  </div>\n",
       "  "
      ],
      "text/plain": [
       "                     link_id  tt_arr  LOS_dep\n",
       "date                                         \n",
       "2016-06-04 12:35:00        5   291.0        1\n",
       "2017-02-04 03:47:00        5   281.0        1\n",
       "2015-12-04 14:02:00        5   688.0        4\n",
       "2015-02-10 00:19:00        5   304.0        1\n",
       "2015-06-18 17:21:00        5   320.0        1\n",
       "2016-03-14 09:47:00        5   346.0        1\n",
       "2017-09-09 13:20:00        5   507.0        1\n",
       "2015-04-04 14:05:00        5   299.5        1\n",
       "2018-08-11 12:26:00        5   373.0        1\n",
       "2015-08-08 05:35:00        5   301.0        1"
      ]
     },
     "execution_count": 7,
     "metadata": {},
     "output_type": "execute_result"
    }
   ],
   "source": [
    "training_df[training_df['link_id']==5].sample(n=10)"
   ]
  },
  {
   "cell_type": "markdown",
   "metadata": {
    "id": "uztk_icRpyfN"
   },
   "source": [
    "> Per weekday link LOS histogram\n"
   ]
  },
  {
   "cell_type": "code",
   "execution_count": null,
   "metadata": {
    "colab": {
     "base_uri": "https://localhost:8080/",
     "height": 532
    },
    "id": "vEXbqgri97D_",
    "outputId": "3b694900-edb9-4df6-bc91-40e19f8f3169"
   },
   "outputs": [
    {
     "data": {
      "image/png": "[encoded data removed]",
      "text/plain": [
       "<Figure size 1080x576 with 8 Axes>"
      ]
     },
     "metadata": {
      "needs_background": "light"
     },
     "output_type": "display_data"
    }
   ],
   "source": [
    "dias_semana = ['Monday', 'Tuesday', 'Wednesday', 'Thursday', 'Friday', 'Saturday', 'Sunday']\n",
    "fig, axes = plt.subplots(nrows=2, ncols=4)\n",
    "for weekday in range(0,7):\n",
    "    plot_df = pd.DataFrame(index=[i for i in range(1,7)])\n",
    "    for LINK in range(5,11):\n",
    "        plot_df[f'Link{LINK}'] = training_df[(training_df['link_id']==LINK) & (training_df.index.weekday == weekday)].groupby('LOS_dep')['tt_arr'].count()\n",
    "    plot_df.fillna(0)\n",
    "    \n",
    "    plot_df.plot.bar(ax=axes[math.floor(weekday/4),weekday%4], rot=0, figsize=(15,8), log=True)\n",
    "    # Set title\n",
    "    axes[math.floor(weekday/4),weekday%4].set_title(f'{dias_semana[weekday]}')\n",
    "\n",
    "for x_col in axes:\n",
    "    for x in x_col:\n",
    "        if x.get_title() != '':\n",
    "            # Despine\n",
    "            x.spines['right'].set_visible(False)\n",
    "            x.spines['top'].set_visible(False)\n",
    "            x.spines['left'].set_visible(False)\n",
    "\n",
    "            # Switch off ticks\n",
    "            x.tick_params(axis=\"both\", which=\"both\", bottom=\"off\", top=\"off\", labelbottom=\"on\", left=\"off\", right=\"off\", labelleft=\"on\")\n",
    "\n",
    "            # Draw horizontal axis lines\n",
    "            vals = x.get_yticks()\n",
    "            for tick in vals:\n",
    "                x.axhline(y=tick, linestyle='dashed', alpha=0.4, color='#eeeeee', zorder=1)\n",
    "\n",
    "            # Set y-lim\n",
    "            x.set_ylim(top=1e6)\n",
    "\n",
    "            # Set x-axis label\n",
    "            x.set_xlabel(f\"LOS\", labelpad=20, weight='bold', size=12)"
   ]
  },
  {
   "cell_type": "markdown",
   "metadata": {
    "id": "wSrnpPc_Unbz"
   },
   "source": [
    "> Per hour link LOS histogram"
   ]
  },
  {
   "cell_type": "code",
   "execution_count": null,
   "metadata": {
    "colab": {
     "base_uri": "https://localhost:8080/",
     "height": 749
    },
    "id": "LrhJGWF5tX1X",
    "outputId": "aa0f8976-c235-4b0c-c011-215b75bd096f"
   },
   "outputs": [
    {
     "data": {
      "image/png": "[encoded data removed]",
      "text/plain": [
       "<Figure size 2160x864 with 24 Axes>"
      ]
     },
     "metadata": {
      "needs_background": "light"
     },
     "output_type": "display_data"
    }
   ],
   "source": [
    "fig, axes = plt.subplots(nrows=3, ncols=8)\n",
    "for hour in range(0,24):\n",
    "    plot_df = pd.DataFrame(index=[i for i in range(1,7)])\n",
    "    for LINK in range(5,11):\n",
    "        plot_df[f'Link{LINK}'] = training_df[(training_df['link_id']==LINK) & (training_df.index.hour == hour)].groupby('LOS_dep')['tt_arr'].count()\n",
    "    plot_df.fillna(0)\n",
    "    \n",
    "    plot_df.plot.bar(ax=axes[math.floor(hour/8),hour%8], rot=0, figsize=(30,12), log=True)\n",
    "    # Set title\n",
    "    axes[math.floor(hour/8),hour%8].set_title(f'Hour {hour}')\n",
    "\n",
    "for x_col in axes:\n",
    "    for x in x_col:\n",
    "        if x.get_title() != '':\n",
    "            # Despine\n",
    "            x.spines['right'].set_visible(False)\n",
    "            x.spines['top'].set_visible(False)\n",
    "            x.spines['left'].set_visible(False)\n",
    "\n",
    "            # Switch off ticks\n",
    "            x.tick_params(axis=\"both\", which=\"both\", bottom=\"off\", top=\"off\", labelbottom=\"on\", left=\"off\", right=\"off\", labelleft=\"on\")\n",
    "\n",
    "            # Draw horizontal axis lines\n",
    "            vals = x.get_yticks()\n",
    "            for tick in vals:\n",
    "                x.axhline(y=tick, linestyle='dashed', alpha=0.4, color='#eeeeee', zorder=1)\n",
    "\n",
    "            # Set y-lim\n",
    "            x.set_ylim(top=1e6)\n",
    "\n",
    "            # Set x-axis label\n",
    "            x.set_xlabel(f\"LOS\", labelpad=20, weight='bold', size=12)"
   ]
  },
  {
   "cell_type": "markdown",
   "metadata": {
    "id": "lai3PjvDrjAe"
   },
   "source": [
    "> Statistical distribution of Times of Arrival per Level of Service"
   ]
  },
  {
   "cell_type": "code",
   "execution_count": null,
   "metadata": {
    "colab": {
     "base_uri": "https://localhost:8080/",
     "height": 606
    },
    "id": "rfKm1u3IwXrW",
    "outputId": "d81bab32-a967-495b-d71b-6731a2c18814"
   },
   "outputs": [
    {
     "data": {
      "image/png": "[encoded data removed]",
      "text/plain": [
       "<Figure size 1800x720 with 36 Axes>"
      ]
     },
     "metadata": {
      "needs_background": "light"
     },
     "output_type": "display_data"
    }
   ],
   "source": [
    "fig, axs = plt.subplots(6,6)\n",
    "fig.set_size_inches(25, 10)\n",
    "for LINK in range(5,11):\n",
    "    plot_df=training_df[(training_df['link_id']==LINK)]\n",
    "\n",
    "    # Plot violinplot tt_arr per LOS\n",
    "    for LOS in range(1,7):\n",
    "        axs[LOS-1,LINK-5].set(xlim=(0, 1800))\n",
    "        violinplot(data=plot_df[plot_df[\"LOS_dep\"] == LOS], x=\"tt_arr\", cut=0, ax=axs[LOS-1,LINK-5]).set(ylabel=f\"LOS {LOS}\")"
   ]
  },
  {
   "cell_type": "markdown",
   "metadata": {
    "id": "vSWs7NiIosxn"
   },
   "source": [
    "## Statistical"
   ]
  },
  {
   "cell_type": "markdown",
   "metadata": {
    "id": "qRCPZB2RoaEj"
   },
   "source": [
    "> Features available"
   ]
  },
  {
   "cell_type": "code",
   "execution_count": null,
   "metadata": {
    "colab": {
     "base_uri": "https://localhost:8080/",
     "height": 300
    },
    "id": "l3_060ENohq6",
    "outputId": "f0b56dd6-d7da-444a-db95-b9373ab8298c"
   },
   "outputs": [
    {
     "data": {
      "text/html": [
       "\n",
       "  <div id=\"df-e24d4568-f8db-4635-9087-3b425d241b56\">\n",
       "    <div class=\"colab-df-container\">\n",
       "      <div>\n",
       "<style scoped>\n",
       "    .dataframe tbody tr th:only-of-type {\n",
       "        vertical-align: middle;\n",
       "    }\n",
       "\n",
       "    .dataframe tbody tr th {\n",
       "        vertical-align: top;\n",
       "    }\n",
       "\n",
       "    .dataframe thead th {\n",
       "        text-align: right;\n",
       "    }\n",
       "</style>\n",
       "<table border=\"1\" class=\"dataframe\">\n",
       "  <thead>\n",
       "    <tr style=\"text-align: right;\">\n",
       "      <th></th>\n",
       "      <th>link_id</th>\n",
       "      <th>tt_arr</th>\n",
       "      <th>LOS_dep</th>\n",
       "    </tr>\n",
       "  </thead>\n",
       "  <tbody>\n",
       "    <tr>\n",
       "      <th>count</th>\n",
       "      <td>7.386120e+06</td>\n",
       "      <td>7.386120e+06</td>\n",
       "      <td>7.386120e+06</td>\n",
       "    </tr>\n",
       "    <tr>\n",
       "      <th>mean</th>\n",
       "      <td>7.500000e+00</td>\n",
       "      <td>2.466202e+02</td>\n",
       "      <td>1.214961e+00</td>\n",
       "    </tr>\n",
       "    <tr>\n",
       "      <th>std</th>\n",
       "      <td>1.707825e+00</td>\n",
       "      <td>1.247695e+02</td>\n",
       "      <td>6.847303e-01</td>\n",
       "    </tr>\n",
       "    <tr>\n",
       "      <th>min</th>\n",
       "      <td>5.000000e+00</td>\n",
       "      <td>9.400000e+01</td>\n",
       "      <td>1.000000e+00</td>\n",
       "    </tr>\n",
       "    <tr>\n",
       "      <th>25%</th>\n",
       "      <td>6.000000e+00</td>\n",
       "      <td>1.250000e+02</td>\n",
       "      <td>1.000000e+00</td>\n",
       "    </tr>\n",
       "    <tr>\n",
       "      <th>50%</th>\n",
       "      <td>7.500000e+00</td>\n",
       "      <td>2.440000e+02</td>\n",
       "      <td>1.000000e+00</td>\n",
       "    </tr>\n",
       "    <tr>\n",
       "      <th>75%</th>\n",
       "      <td>9.000000e+00</td>\n",
       "      <td>3.080000e+02</td>\n",
       "      <td>1.000000e+00</td>\n",
       "    </tr>\n",
       "    <tr>\n",
       "      <th>max</th>\n",
       "      <td>1.000000e+01</td>\n",
       "      <td>1.756500e+03</td>\n",
       "      <td>6.000000e+00</td>\n",
       "    </tr>\n",
       "  </tbody>\n",
       "</table>\n",
       "</div>\n",
       "      <button class=\"colab-df-convert\" onclick=\"convertToInteractive('df-e24d4568-f8db-4635-9087-3b425d241b56')\"\n",
       "              title=\"Convert this dataframe to an interactive table.\"\n",
       "              style=\"display:none;\">\n",
       "        \n",
       "  <svg xmlns=\"http://www.w3.org/2000/svg\" height=\"24px\"viewBox=\"0 0 24 24\"\n",
       "       width=\"24px\">\n",
       "    <path d=\"M0 0h24v24H0V0z\" fill=\"none\"/>\n",
       "    <path d=\"M18.56 5.44l.94 2.06.94-2.06 2.06-.94-2.06-.94-.94-2.06-.94 2.06-2.06.94zm-11 1L8.5 8.5l.94-2.06 2.06-.94-2.06-.94L8.5 2.5l-.94 2.06-2.06.94zm10 10l.94 2.06.94-2.06 2.06-.94-2.06-.94-.94-2.06-.94 2.06-2.06.94z\"/><path d=\"M17.41 7.96l-1.37-1.37c-.4-.4-.92-.59-1.43-.59-.52 0-1.04.2-1.43.59L10.3 9.45l-7.72 7.72c-.78.78-.78 2.05 0 2.83L4 21.41c.39.39.9.59 1.41.59.51 0 1.02-.2 1.41-.59l7.78-7.78 2.81-2.81c.8-.78.8-2.07 0-2.86zM5.41 20L4 18.59l7.72-7.72 1.47 1.35L5.41 20z\"/>\n",
       "  </svg>\n",
       "      </button>\n",
       "      \n",
       "  <style>\n",
       "    .colab-df-container {\n",
       "      display:flex;\n",
       "      flex-wrap:wrap;\n",
       "      gap: 12px;\n",
       "    }\n",
       "\n",
       "    .colab-df-convert {\n",
       "      background-color: #E8F0FE;\n",
       "      border: none;\n",
       "      border-radius: 50%;\n",
       "      cursor: pointer;\n",
       "      display: none;\n",
       "      fill: #1967D2;\n",
       "      height: 32px;\n",
       "      padding: 0 0 0 0;\n",
       "      width: 32px;\n",
       "    }\n",
       "\n",
       "    .colab-df-convert:hover {\n",
       "      background-color: #E2EBFA;\n",
       "      box-shadow: 0px 1px 2px rgba(60, 64, 67, 0.3), 0px 1px 3px 1px rgba(60, 64, 67, 0.15);\n",
       "      fill: #174EA6;\n",
       "    }\n",
       "\n",
       "    [theme=dark] .colab-df-convert {\n",
       "      background-color: #3B4455;\n",
       "      fill: #D2E3FC;\n",
       "    }\n",
       "\n",
       "    [theme=dark] .colab-df-convert:hover {\n",
       "      background-color: #434B5C;\n",
       "      box-shadow: 0px 1px 3px 1px rgba(0, 0, 0, 0.15);\n",
       "      filter: drop-shadow(0px 1px 2px rgba(0, 0, 0, 0.3));\n",
       "      fill: #FFFFFF;\n",
       "    }\n",
       "  </style>\n",
       "\n",
       "      <script>\n",
       "        const buttonEl =\n",
       "          document.querySelector('#df-e24d4568-f8db-4635-9087-3b425d241b56 button.colab-df-convert');\n",
       "        buttonEl.style.display =\n",
       "          google.colab.kernel.accessAllowed ? 'block' : 'none';\n",
       "\n",
       "        async function convertToInteractive(key) {\n",
       "          const element = document.querySelector('#df-e24d4568-f8db-4635-9087-3b425d241b56');\n",
       "          const dataTable =\n",
       "            await google.colab.kernel.invokeFunction('convertToInteractive',\n",
       "                                                     [key], {});\n",
       "          if (!dataTable) return;\n",
       "\n",
       "          const docLinkHtml = 'Like what you see? Visit the ' +\n",
       "            '<a target=\"_blank\" href=https://colab.research.google.com/notebooks/data_table.ipynb>data table notebook</a>'\n",
       "            + ' to learn more about interactive tables.';\n",
       "          element.innerHTML = '';\n",
       "          dataTable['output_type'] = 'display_data';\n",
       "          await google.colab.output.renderOutput(dataTable, element);\n",
       "          const docLink = document.createElement('div');\n",
       "          docLink.innerHTML = docLinkHtml;\n",
       "          element.appendChild(docLink);\n",
       "        }\n",
       "      </script>\n",
       "    </div>\n",
       "  </div>\n",
       "  "
      ],
      "text/plain": [
       "            link_id        tt_arr       LOS_dep\n",
       "count  7.386120e+06  7.386120e+06  7.386120e+06\n",
       "mean   7.500000e+00  2.466202e+02  1.214961e+00\n",
       "std    1.707825e+00  1.247695e+02  6.847303e-01\n",
       "min    5.000000e+00  9.400000e+01  1.000000e+00\n",
       "25%    6.000000e+00  1.250000e+02  1.000000e+00\n",
       "50%    7.500000e+00  2.440000e+02  1.000000e+00\n",
       "75%    9.000000e+00  3.080000e+02  1.000000e+00\n",
       "max    1.000000e+01  1.756500e+03  6.000000e+00"
      ]
     },
     "execution_count": 18,
     "metadata": {},
     "output_type": "execute_result"
    }
   ],
   "source": [
    "training_df[['link_id','tt_arr','LOS_dep']].describe()"
   ]
  },
  {
   "cell_type": "markdown",
   "metadata": {
    "id": "LffejJtNee70"
   },
   "source": [
    "> Per-link id data balance\n",
    "\n",
    "\n",
    "\n"
   ]
  },
  {
   "cell_type": "code",
   "execution_count": null,
   "metadata": {
    "colab": {
     "base_uri": "https://localhost:8080/"
    },
    "id": "FHc-vNs-oeQi",
    "outputId": "22c390c7-5bc7-44fc-b264-40b0f253ac2c"
   },
   "outputs": [
    {
     "data": {
      "text/plain": [
       "5     28407\n",
       "6     20875\n",
       "7     11497\n",
       "8      8188\n",
       "9      4173\n",
       "10    20101\n",
       "Name: link_id, dtype: int64"
      ]
     },
     "execution_count": 25,
     "metadata": {},
     "output_type": "execute_result"
    }
   ],
   "source": [
    "training_df[training_df['LOS_dep']==4]['link_id'].value_counts()[training_df.link_id.unique()]"
   ]
  },
  {
   "cell_type": "markdown",
   "metadata": {
    "id": "wF_8AlPWoH5g"
   },
   "source": [
    "> Test normality of Times of Arrival"
   ]
  },
  {
   "cell_type": "code",
   "execution_count": null,
   "metadata": {
    "colab": {
     "base_uri": "https://localhost:8080/"
    },
    "id": "mKq-cbYopKVw",
    "outputId": "5a3e2f63-f664-4bc2-eb1a-5bf65432a8ef"
   },
   "outputs": [
    {
     "name": "stdout",
     "output_type": "stream",
     "text": [
      "LINK 5\n",
      "\tLOS 1\tPvalue 0.0\n",
      "\tLOS 2\tPvalue 0.0\n",
      "\tLOS 3\tPvalue 0.0\n",
      "\tLOS 4\tPvalue 0.0\n",
      "\tLOS 5\tPvalue 3.0895828541433567e-41\n",
      "\tLOS 6\tPvalue 5.011837864629182e-29\n",
      "LINK 6\n",
      "\tLOS 1\tPvalue 0.0\n",
      "\tLOS 2\tPvalue 0.0\n",
      "\tLOS 3\tPvalue 0.0\n",
      "\tLOS 4\tPvalue 0.0\n",
      "\tLOS 5\tPvalue 8.23121877165319e-39\n",
      "\tLOS 6\tPvalue 1.0535939090175312e-16\n",
      "LINK 7\n",
      "\tLOS 1\tPvalue 0.0\n",
      "\tLOS 2\tPvalue 0.0\n",
      "\tLOS 3\tPvalue 0.0\n",
      "\tLOS 4\tPvalue 0.0\n",
      "\tLOS 5\tPvalue 0.0\n",
      "\tLOS 6\tPvalue 6.297267937140083e-13\n",
      "LINK 8\n",
      "\tLOS 1\tPvalue 0.0\n",
      "\tLOS 2\tPvalue 0.0\n",
      "\tLOS 3\tPvalue 0.0\n",
      "\tLOS 4\tPvalue 2.802596928649634e-45\n",
      "\tLOS 5\tPvalue 5.859512404482781e-33\n",
      "\tLOS 6\tPvalue 2.4114945272565777e-41\n",
      "LINK 9\n",
      "\tLOS 1\tPvalue 0.0\n",
      "\tLOS 2\tPvalue 0.0\n",
      "\tLOS 3\tPvalue 0.0\n",
      "\tLOS 4\tPvalue 1.3216130666316006e-38\n",
      "\tLOS 5\tPvalue 3.42259417150919e-14\n",
      "\tLOS 6\tPvalue 7.32835389594122e-11\n",
      "LINK 10\n",
      "\tLOS 1\tPvalue 0.0\n",
      "\tLOS 2\tPvalue 0.0\n",
      "\tLOS 3\tPvalue 0.0\n",
      "\tLOS 4\tPvalue 0.0\n",
      "\tLOS 5\tPvalue 1.401298464324817e-45\n",
      "\tLOS 6\tPvalue 1.0998466610191978e-22\n"
     ]
    }
   ],
   "source": [
    "for LINK in range(5,11):\n",
    "    print(f\"LINK {LINK}\")\n",
    "    for LOS in range(1,7):\n",
    "        print(f\"\\tLOS {LOS}\\tPvalue {shapiro(training_df[(training_df['link_id']==LINK) & (training_df['LOS_dep']==LOS)]['tt_arr']).pvalue}\")"
   ]
  },
  {
   "cell_type": "markdown",
   "metadata": {
    "id": "Jf0vYHbXf_9d",
    "jp-MarkdownHeadingCollapsed": true,
    "tags": []
   },
   "source": [
    "# **NAIVE BAYES**"
   ]
  },
  {
   "cell_type": "markdown",
   "metadata": {
    "id": "b0q_xwSKgXob"
   },
   "source": [
    "### **NO FEATURE ENGINEERING**"
   ]
  },
  {
   "cell_type": "code",
   "execution_count": null,
   "metadata": {
    "colab": {
     "base_uri": "https://localhost:8080/"
    },
    "id": "_M_l-rXMC-QF",
    "outputId": "b6c0521f-3bd9-4469-fcfa-7c3ffacdc7a4"
   },
   "outputs": [
    {
     "name": "stdout",
     "output_type": "stream",
     "text": [
      "LINK 5\n",
      "\tLOS 1: Recall 97.23%\n",
      "\tLOS 2: Recall 53.06%\n",
      "\tLOS 3: Recall 40.82%\n",
      "\tLOS 4: Recall 21.36%\n",
      "\tLOS 5: Recall 22.88%\n",
      "\tLOS 6: Recall 59.9%\n",
      "LINK 6\n",
      "\tLOS 1: Recall 96.11%\n",
      "\tLOS 2: Recall 34.04%\n",
      "\tLOS 3: Recall 33.21%\n",
      "\tLOS 4: Recall 15.45%\n",
      "\tLOS 5: Recall 17.77%\n",
      "\tLOS 6: Recall 34.31%\n",
      "LINK 7\n",
      "\tLOS 1: Recall 98.42%\n",
      "\tLOS 2: Recall 57.11%\n",
      "\tLOS 3: Recall 46.48%\n",
      "\tLOS 4: Recall 13.87%\n",
      "\tLOS 5: Recall 16.24%\n",
      "\tLOS 6: Recall 30.1%\n",
      "LINK 8\n",
      "\tLOS 1: Recall 99.53%\n",
      "\tLOS 2: Recall 37.57%\n",
      "\tLOS 3: Recall 80.84%\n",
      "\tLOS 4: Recall 8.35%\n",
      "\tLOS 5: Recall 8.25%\n",
      "\tLOS 6: Recall 60.68%\n",
      "LINK 9\n",
      "\tLOS 1: Recall 97.78%\n",
      "\tLOS 2: Recall 74.72%\n",
      "\tLOS 3: Recall 27.35%\n",
      "\tLOS 4: Recall 37.26%\n",
      "\tLOS 5: Recall 12.93%\n",
      "\tLOS 6: Recall 28.05%\n",
      "LINK 10\n",
      "\tLOS 1: Recall 99.24%\n",
      "\tLOS 2: Recall 46.15%\n",
      "\tLOS 3: Recall 33.92%\n",
      "\tLOS 4: Recall 33.91%\n",
      "\tLOS 5: Recall 46.21%\n",
      "\tLOS 6: Recall 46.8%\n"
     ]
    }
   ],
   "source": [
    "for LINK in range(5,11):\n",
    "    print(f\"LINK {LINK}\")\n",
    "    X_train = training_df[training_df['link_id'] == LINK]['tt_arr'].values.reshape(-1, 1)\n",
    "    y_train = training_df[training_df['link_id'] == LINK]['LOS_dep'].values\n",
    "    \n",
    "    sc = preprocessing.StandardScaler()\n",
    "    X_train = sc.fit_transform(X_train)\n",
    "\n",
    "    model = GaussianNB().fit(X_train, y_train)\n",
    "    for LOS in range(1,7):\n",
    "        X_test = sc.transform( validation_df[(validation_df['link_id'] == LINK) & (validation_df['LOS_dep'] == LOS)]['tt_arr'].values.reshape(-1, 1) )\n",
    "        y_pred = model.predict(X_test)\n",
    "\n",
    "        score = metrics.recall_score([LOS]*len(y_pred), y_pred, average='micro')\n",
    "        print(f\"\\tLOS {LOS}: Recall {round(score*100, 2) }%\")"
   ]
  },
  {
   "cell_type": "markdown",
   "metadata": {
    "id": "kMCMH4xLVPOg"
   },
   "source": [
    "### **FEATURE ENGINEERING ADJACENT LINK INFORMATION**"
   ]
  },
  {
   "cell_type": "markdown",
   "metadata": {
    "id": "QwOislVpWYCx"
   },
   "source": [
    "*Features creation*\n",
    "\n",
    "For each link, the tt_arrival of the other links are added as features. Therefore we will be using 6 features in total."
   ]
  },
  {
   "cell_type": "code",
   "execution_count": null,
   "metadata": {
    "colab": {
     "base_uri": "https://localhost:8080/"
    },
    "id": "xUUuA-vpinjr",
    "outputId": "614d0c27-626e-43de-cfef-2483ed71514d"
   },
   "outputs": [
    {
     "name": "stdout",
     "output_type": "stream",
     "text": [
      "LINK 5\n",
      "\tLOS 1: Recall 94.71%\n",
      "\tLOS 2: Recall 45.1%\n",
      "\tLOS 3: Recall 38.25%\n",
      "\tLOS 4: Recall 20.15%\n",
      "\tLOS 5: Recall 24.19%\n",
      "\tLOS 6: Recall 59.22%\n",
      "LINK 6\n",
      "\tLOS 1: Recall 92.41%\n",
      "\tLOS 2: Recall 38.44%\n",
      "\tLOS 3: Recall 46.79%\n",
      "\tLOS 4: Recall 17.23%\n",
      "\tLOS 5: Recall 26.79%\n",
      "\tLOS 6: Recall 35.65%\n",
      "LINK 7\n",
      "\tLOS 1: Recall 92.15%\n",
      "\tLOS 2: Recall 61.94%\n",
      "\tLOS 3: Recall 42.9%\n",
      "\tLOS 4: Recall 14.3%\n",
      "\tLOS 5: Recall 12.48%\n",
      "\tLOS 6: Recall 47.77%\n",
      "LINK 8\n",
      "\tLOS 1: Recall 94.01%\n",
      "\tLOS 2: Recall 60.07%\n",
      "\tLOS 3: Recall 76.98%\n",
      "\tLOS 4: Recall 19.58%\n",
      "\tLOS 5: Recall 10.38%\n",
      "\tLOS 6: Recall 62.61%\n",
      "LINK 9\n",
      "\tLOS 1: Recall 91.33%\n",
      "\tLOS 2: Recall 66.3%\n",
      "\tLOS 3: Recall 34.29%\n",
      "\tLOS 4: Recall 35.3%\n",
      "\tLOS 5: Recall 24.19%\n",
      "\tLOS 6: Recall 31.44%\n",
      "LINK 10\n",
      "\tLOS 1: Recall 92.21%\n",
      "\tLOS 2: Recall 52.36%\n",
      "\tLOS 3: Recall 29.03%\n",
      "\tLOS 4: Recall 25.99%\n",
      "\tLOS 5: Recall 37.58%\n",
      "\tLOS 6: Recall 49.08%\n"
     ]
    }
   ],
   "source": [
    "for LINK in range(5,11):\n",
    "    print(f\"LINK {LINK}\")\n",
    "    other_links = [5,6,7,8,9,10]; other_links.remove(LINK)\n",
    "    training_df_link = training_df[training_df['link_id'] == LINK].copy()\n",
    "\n",
    "    for other_link in other_links:\n",
    "        training_df_link = pd.merge(training_df_link, training_df[training_df['link_id'] == other_link]['tt_arr'], on=['date'], how='inner', suffixes=[None, f'_{other_link}'])\n",
    "    \n",
    "    X_train = training_df_link.filter(regex=(\"tt_ar[^-]+$\")).values\n",
    "    y_train = training_df_link['LOS_dep'].values\n",
    "    \n",
    "    sc = preprocessing.StandardScaler()\n",
    "    X_train = sc.fit_transform(X_train)\n",
    "\n",
    "    model = GaussianNB().fit(X_train, y_train)\n",
    "    for LOS in range(1,7):\n",
    "        validation_df_link = validation_df[(validation_df['link_id'] == LINK) & (validation_df['LOS_dep'] == LOS)].copy()\n",
    "        for other_link in other_links:\n",
    "            validation_df_link = pd.merge(validation_df_link, validation_df[validation_df['link_id'] == other_link]['tt_arr'], on=['date'], how='inner', suffixes=[None, f'_{other_link}'])\n",
    "        X_test = sc.transform( validation_df_link.filter(regex=(\"tt_ar[^-]+$\")).values )\n",
    "        y_pred = model.predict(X_test)\n",
    "\n",
    "        score = metrics.recall_score([LOS]*len(y_pred), y_pred, average='micro')\n",
    "        print(f\"\\tLOS {LOS}: Recall {round(score*100, 2) }%\")"
   ]
  },
  {
   "cell_type": "markdown",
   "metadata": {
    "id": "q5rt2wXpNypB"
   },
   "source": [
    "### **FEATURE ENGINEERING ADJACENT LINK INFORMATION + TEMPORAL INFORMATION (UP TO PREVIOUS 45MIN)**"
   ]
  },
  {
   "cell_type": "markdown",
   "metadata": {
    "id": "ZZRaFA1QN_X0"
   },
   "source": [
    "*Features creation*\n",
    "\n",
    "For each link, the tt_arrival of the other links, covering the previous 50min from prediction time, are added as features. Therefore we will be using 60 features in total as maximum."
   ]
  },
  {
   "cell_type": "code",
   "execution_count": null,
   "metadata": {
    "colab": {
     "base_uri": "https://localhost:8080/"
    },
    "id": "F9LI4WsIllAB",
    "outputId": "c0b6c309-60a0-4ceb-f9fa-e5a8096d3b40"
   },
   "outputs": [
    {
     "name": "stdout",
     "output_type": "stream",
     "text": [
      "LINK 5\n",
      "\tLOS 1: Recall 92.13%\n",
      "\tLOS 2: Recall 39.55%\n",
      "\tLOS 3: Recall 29.16%\n",
      "\tLOS 4: Recall 19.54%\n",
      "\tLOS 5: Recall 23.77%\n",
      "\tLOS 6: Recall 62.57%\n",
      "LINK 6\n",
      "\tLOS 1: Recall 89.42%\n",
      "\tLOS 2: Recall 33.89%\n",
      "\tLOS 3: Recall 39.04%\n",
      "\tLOS 4: Recall 15.23%\n",
      "\tLOS 5: Recall 22.03%\n",
      "\tLOS 6: Recall 41.77%\n",
      "LINK 7\n",
      "\tLOS 1: Recall 88.72%\n",
      "\tLOS 2: Recall 58.36%\n",
      "\tLOS 3: Recall 28.98%\n",
      "\tLOS 4: Recall 20.79%\n",
      "\tLOS 5: Recall 11.4%\n",
      "\tLOS 6: Recall 37.96%\n",
      "LINK 8\n",
      "\tLOS 1: Recall 89.82%\n",
      "\tLOS 2: Recall 32.24%\n",
      "\tLOS 3: Recall 68.63%\n",
      "\tLOS 4: Recall 34.23%\n",
      "\tLOS 5: Recall 15.5%\n",
      "\tLOS 6: Recall 48.55%\n",
      "LINK 9\n",
      "\tLOS 1: Recall 87.66%\n",
      "\tLOS 2: Recall 53.49%\n",
      "\tLOS 3: Recall 17.93%\n",
      "\tLOS 4: Recall 3.58%\n",
      "\tLOS 5: Recall 16.82%\n",
      "\tLOS 6: Recall 47.88%\n",
      "LINK 10\n",
      "\tLOS 1: Recall 87.75%\n",
      "\tLOS 2: Recall 33.32%\n",
      "\tLOS 3: Recall 17.89%\n",
      "\tLOS 4: Recall 17.53%\n",
      "\tLOS 5: Recall 19.25%\n",
      "\tLOS 6: Recall 48.41%\n"
     ]
    }
   ],
   "source": [
    "print(f'USING PREVIOUS {INPUT_MINUTES_BEFORE}m INFORMATION')\n",
    "for LINK in range(5,11):\n",
    "    print(f\"LINK {LINK}\")\n",
    "    other_links = [5,6,7,8,9,10]; other_links.remove(LINK)\n",
    "    training_df_link = training_df[training_df['link_id'] == LINK].copy()\n",
    "\n",
    "    for other_link in other_links:\n",
    "        training_df_link = pd.merge(training_df_link, training_df[training_df['link_id'] == other_link].filter(regex=(\"tt_arr.*\")), on=['date'], how='inner', suffixes=[None, f'_{other_link}'])\n",
    "    \n",
    "    X_train = training_df_link.filter(regex=(\"tt_arr.*\")).values\n",
    "    y_train = training_df_link['LOS_dep'].values\n",
    "    \n",
    "    sc = preprocessing.StandardScaler()\n",
    "    X_train = sc.fit_transform(X_train)\n",
    "\n",
    "    model = GaussianNB().fit(X_train, y_train)\n",
    "    for LOS in range(1,7):\n",
    "        validation_df_link = validation_df[(validation_df['link_id'] == LINK) & (validation_df['LOS_dep'] == LOS)].copy()\n",
    "        for other_link in other_links:\n",
    "            validation_df_link = pd.merge(validation_df_link, validation_df[validation_df['link_id'] == other_link].filter(regex=(\"tt_arr.*\")), on=['date'], how='inner', suffixes=[None, f'_{other_link}'])\n",
    "        X_test = sc.transform( validation_df_link.filter(regex=(\"tt_arr.*\")).values )\n",
    "        y_pred = model.predict(X_test)\n",
    "\n",
    "        score = metrics.recall_score([LOS]*len(y_pred), y_pred, average='micro')\n",
    "        print(f\"\\tLOS {LOS}: Recall {round(score*100, 2) }%\")"
   ]
  },
  {
   "cell_type": "markdown",
   "metadata": {
    "id": "RMogxy-BNDjn",
    "jp-MarkdownHeadingCollapsed": true,
    "tags": []
   },
   "source": [
    "# **AdaBoost**"
   ]
  },
  {
   "cell_type": "markdown",
   "metadata": {
    "id": "YkB202STmN-4",
    "jp-MarkdownHeadingCollapsed": true,
    "tags": []
   },
   "source": [
    "### *Algorithms*"
   ]
  },
  {
   "cell_type": "markdown",
   "metadata": {
    "id": "x5kQKXvwbMtK"
   },
   "source": [
    "**Algorithm implementation SAMME**"
   ]
  },
  {
   "cell_type": "code",
   "execution_count": 6,
   "metadata": {
    "id": "jMBdunUFYwAB"
   },
   "outputs": [],
   "source": [
    "def labelToIndex(cl,clf):\n",
    "    return clf.labelDict[cl]\n",
    "\n",
    "def indexToLabel(i,clf):\n",
    "    return clf.classes[i]\n",
    "\n",
    "class AdaBoostClassifier_:\n",
    "    \n",
    "    def __init__(self,base_estimator=None,n_estimators=50,learning_rate=1.0):\n",
    "        print(\"SAMME Implementation of AdaBoost\")\n",
    "        self.n_estimators = n_estimators\n",
    "        self.learning_rate = learning_rate\n",
    "        self.models = [None]*n_estimators\n",
    "        if base_estimator == None:\n",
    "            base_estimator = DecisionTreeClassifier(max_depth=1)\n",
    "        self.base_estimator = base_estimator\n",
    "        self.estimator_errors_ = []\n",
    "        self.observation_weights_ = {}\n",
    "        \n",
    "    def fit(self, df: pd.DataFrame, X_columns: str, y_column: str):\n",
    "        \"\"\"\n",
    "        param df: Training dataframe with shape (n_samples, )\n",
    "        param X_columns: pattern matching DataFrame column names that contain the features\n",
    "        param y_column: name of DataFrame column name with the labels\n",
    "        \"\"\"\n",
    "        \n",
    "        # Initialize observation weights as 1/N where N is total `n_samples`\n",
    "        N = df.shape[0]\n",
    "        w = {epoch: 1/N for epoch in df.index}\n",
    "        \n",
    "        # Class labels mapping to indices\n",
    "        self.createLabelDict(np.unique(df[y_column]))\n",
    "        k = len(self.classes)\n",
    "\n",
    "        # Training data initalization\n",
    "        X_ = df.filter(regex=(X_columns)).values\n",
    "        y_ = df[y_column].values\n",
    "        w_indices_ = np.array(list(w.keys()))\n",
    "        \n",
    "        # M iterations (#WeakLearners)\n",
    "        for m in range(self.n_estimators):\n",
    "            w_ = np.array(list(w.values()))\n",
    "\n",
    "        # 1) WeakLearner training\n",
    "            Gm = base.clone(self.base_estimator).\\\n",
    "                            fit(X_,y_,sample_weight=w_).predict\n",
    "        \n",
    "        # 2) Error-rate computation\n",
    "            incorrect = Gm(X_) != y_\n",
    "            errM = np.average(incorrect,weights=w_,axis=0)\n",
    "            self.estimator_errors_.append(np.average(incorrect,axis=0))\n",
    "        \n",
    "        # 3) WeakLearner weight for ensemble computation [errM < (k-1)/k]\n",
    "            BetaM = np.log((1-errM)/errM)+np.log(k-1)\n",
    "            self.models[m] = (BetaM,Gm)\n",
    "\n",
    "        # 4) Observation weights update for next iteration with weights normalization\n",
    "            w_ *= np.exp(self.learning_rate* BetaM*(incorrect*(w_ > 0)))\n",
    "            norm_ = np.sum(w_)\n",
    "            for i, j in enumerate(w_indices_):\n",
    "                w[j] = w_[i]/norm_\n",
    "        \n",
    "        self.observation_weights_ = w\n",
    "        return self\n",
    "            \n",
    "    def createLabelDict(self,classes):\n",
    "        self.labelDict = {}\n",
    "        self.classes = classes\n",
    "        for i,cl in enumerate(classes):\n",
    "            self.labelDict[cl] = i\n",
    "\n",
    "    def predict(self,X):\n",
    "        k = len(self.classes)\n",
    "        Bms_ = [Bm for Bm,_ in self.models]\n",
    "        prob_matrix = np.full((X.shape[0],k), -sum(Bms_)/(k-1))\n",
    "        \n",
    "        # Obtain the predicted index array with shape (#obs,#weak_learners)\n",
    "        iTL = np.vectorize(labelToIndex)\n",
    "        y_pred = np.stack([iTL(Gm(X),self) for _,Gm in self.models], axis=-1)\n",
    "\n",
    "        # Weight the indices count using Beta (Bm) associated to each weak_learner\n",
    "        prob_matrix += np.apply_along_axis(lambda x: np.bincount(x, weights=Bms_, minlength=k), axis=1, arr=y_pred)*k/(k-1)\n",
    "        \n",
    "        iTL = np.vectorize(indexToLabel)\n",
    "        return iTL(np.argmax(prob_matrix,axis=1),self)"
   ]
  },
  {
   "cell_type": "markdown",
   "metadata": {
    "id": "nlogJYdJbOZZ"
   },
   "source": [
    "**Algorithm implementation SAMME.R**"
   ]
  },
  {
   "cell_type": "code",
   "execution_count": 4,
   "metadata": {
    "id": "3XzVduvjbSPG"
   },
   "outputs": [],
   "source": [
    "def labelToIndex(cl,clf):\n",
    "    return clf.labelDict[cl]\n",
    "\n",
    "def indexToLabel(i,clf):\n",
    "    return clf.classes[i]\n",
    "\n",
    "class AdaBoostClassifier_:\n",
    "    \n",
    "    def __init__(self,base_estimator=None,n_estimators=50,learning_rate=1.0):\n",
    "        print(\"SAMME.R Implementation of AdaBoost\")\n",
    "        self.n_estimators = n_estimators\n",
    "        self.learning_rate = learning_rate\n",
    "        self.models = []\n",
    "        if base_estimator == None:\n",
    "            base_estimator = DecisionTreeClassifier(max_depth=1)\n",
    "        self.base_estimator = base_estimator\n",
    "        self.estimator_errors_ = []\n",
    "        self.observation_weights_ = {}\n",
    "        \n",
    "    def fit(self, df: pd.DataFrame, X_columns: str, y_column: str):\n",
    "        \"\"\"\n",
    "        param df: Training dataframe with shape (n_samples, )\n",
    "        param X_columns: pattern matching DataFrame column names that contain the features\n",
    "        param y_column: name of DataFrame column name with the labels\n",
    "        \"\"\"\n",
    "        \n",
    "        # Initialize observation weights as 1/N where N is total `n_samples`\n",
    "        N = df.shape[0]\n",
    "        w = {epoch: 1/N for epoch in df.index}\n",
    "        \n",
    "        # Class labels mapping to indices\n",
    "        self.createLabelDict(np.unique(df[y_column]))\n",
    "        k = len(self.classes)\n",
    "\n",
    "        # Training data initalization\n",
    "        X_ = df.filter(regex=(X_columns)).values\n",
    "        y_ = df[y_column].values\n",
    "        w_indices_ = np.array(list(w.keys()))\n",
    "        \n",
    "        # M iterations (#WeakLearners)\n",
    "        for m in range(self.n_estimators):\n",
    "            w_ = np.array(list(w.values()))\n",
    "\n",
    "        # 1) WeakLearner training\n",
    "            Gm = base.clone(self.base_estimator).\\\n",
    "                            fit(X_,y_,sample_weight=w_).predict_proba\n",
    "            self.models.append(Gm)\n",
    "        \n",
    "        # 2) Error-rate computation\n",
    "            sum_model_hypothesis = np.sum(np.stack([self._prob2classWeight_(model(X_)) for model in self.models], axis=-1), axis=-1)\n",
    "            iTL = np.vectorize(indexToLabel)            \n",
    "            incorrect = iTL(np.argmax(sum_model_hypothesis,axis=1),self) != y_\n",
    "            self.estimator_errors_.append(np.average(incorrect,axis=0))\n",
    "\n",
    "        # 3) Observation weights update for next iteration with weights normalization\n",
    "            iTL = np.vectorize(labelToIndex)\n",
    "            tmp_ = iTL(y_,self)\n",
    "            w_ *= np.exp(-self.learning_rate* (k-1)/k * np.log(Gm(X_)[np.arange(len(tmp_)),tmp_]))\n",
    "            norm_ = sum(w_)\n",
    "            for i, j in enumerate(w_indices_):\n",
    "                w[j] = w_[i]/norm_\n",
    "        \n",
    "        self.observation_weights_ = w\n",
    "        return self\n",
    "            \n",
    "    def createLabelDict(self,classes):\n",
    "        self.labelDict = {}\n",
    "        self.classes = classes\n",
    "        for i,cl in enumerate(classes):\n",
    "            self.labelDict[cl] = i\n",
    "\n",
    "    def _prob2classWeight_(self, probabilities):\n",
    "        \"\"\"\n",
    "        Following the SAMME.R algorithm, returns the hypothesis probabilities for each class\n",
    "        param probabilities: The class probabiilties output by the fitted model (n_samples, n_classes)\n",
    "        \"\"\"\n",
    "        k = len(self.classes)\n",
    "        tmp_ = np.log(probabilities+1e-8)\n",
    "        h_k = np.log(probabilities+1e-8)\n",
    "        for i in range(k):\n",
    "            h_k[:,i] -= np.sum(np.delete(tmp_,i,axis=1), axis=1) / k\n",
    "        h_k *= (k-1)\n",
    "        return h_k\n",
    "    \n",
    "    def predict(self,X):\n",
    "        sum_model_hypothesis = np.sum(np.stack([self._prob2classWeight_(model(X)) for model in self.models], axis=-1), axis=-1)\n",
    "        iTL = np.vectorize(indexToLabel)            \n",
    "        return iTL(np.argmax(sum_model_hypothesis,axis=1),self)"
   ]
  },
  {
   "cell_type": "markdown",
   "metadata": {
    "id": "rGggV6MdOQ_O"
   },
   "source": [
    "**Algorithm implementation M2**"
   ]
  },
  {
   "cell_type": "code",
   "execution_count": 6,
   "metadata": {
    "id": "sLLHlzg7OOhd"
   },
   "outputs": [],
   "source": [
    "def labelToIndex(cl,clf):\n",
    "    return clf.labelDict[cl]\n",
    "\n",
    "def indexToLabel(i,clf):\n",
    "    return clf.classes[i]\n",
    "\n",
    "class AdaBoostClassifier_:\n",
    "    \n",
    "    def __init__(self,base_estimator=None,n_estimators=50,learning_rate=1.0):\n",
    "        print(\"M2 Implementation of AdaBoost\")\n",
    "        self.n_estimators = n_estimators\n",
    "        self.learning_rate = learning_rate\n",
    "        self.models = []\n",
    "        if base_estimator == None:\n",
    "            base_estimator = DecisionTreeClassifier(max_depth=1)\n",
    "        self.base_estimator = base_estimator\n",
    "        self.estimator_errors_ = []        \n",
    "        self.observation_weights_ = {}\n",
    "\n",
    "    def fit(self, df: pd.DataFrame, X_columns: str, y_column: str):\n",
    "        \"\"\"\n",
    "        param df: Training dataframe with shape (n_samples, )\n",
    "        param X_columns: pattern matching DataFrame column names that contain the features\n",
    "        param y_column: name of DataFrame column name with the labels\n",
    "        \"\"\"        \n",
    "        \n",
    "        # Class labels mapping to indices\n",
    "        self.createLabelDict(np.unique(df[y_column]))\n",
    "        k = len(self.classes)\n",
    "\n",
    "        # Initialize observation weights as 1/(N*(k-1)) where N is total `n_samples` and k is the numebr of classes\n",
    "        N = df.shape[0]\n",
    "        B = N*(k-1)\n",
    "        D = {epoch: [1/B]*(k-1) for epoch in df.index}\n",
    "\n",
    "        # Training data initalization\n",
    "        X_ = df.filter(regex=(X_columns)).values\n",
    "        y_ = df[y_column].values\n",
    "        \n",
    "        # M iterations (#WeakLearners)\n",
    "        for m in range(self.n_estimators):\n",
    "            D_ = np.sum(list(D.values()), axis=-1)\n",
    "            iTL = np.vectorize(labelToIndex)\n",
    "            y_indices_ = iTL(y_,self)\n",
    "\n",
    "        # 1) WeakLearner training\n",
    "            Gm = base.clone(self.base_estimator).\\\n",
    "                            fit(X_,y_,sample_weight=D_).predict_proba\n",
    "            self.models.append(Gm)\n",
    "        \n",
    "        # 2) Error-rate computation\n",
    "            predictions_proba = Gm(X_)\n",
    "            sum_pseudolosses = 0\n",
    "            for i, epoch in enumerate(D):\n",
    "                k_index = 0\n",
    "                for cl in range(k):\n",
    "                    if cl != y_indices_[i]:\n",
    "                        sum_pseudolosses += D[epoch][k_index]*(1-predictions_proba[i,y_indices_[i]]+predictions_proba[i,cl])\n",
    "                        k_index += 1\n",
    "\n",
    "            error = 0.5 * sum_pseudolosses\n",
    "            self.estimator_errors_.append(error)\n",
    "        \n",
    "        # 3) WeakLearner weight for ensemble computation\n",
    "            BetaM = error/(1- error +1e-8)\n",
    "            self.models[m] = (BetaM,Gm)\n",
    "\n",
    "        # 4) Observation weights update for next iteration with weights normalization\n",
    "            norm_ = 0\n",
    "            for i, epoch in enumerate(D.keys()):\n",
    "                k_index = 0\n",
    "                for cl in range(k):\n",
    "                    if cl != y_indices_[i]:\n",
    "                        w_ = 0.5*(1+predictions_proba[i,y_indices_[i]]-predictions_proba[i,cl])\n",
    "                        D[epoch][k_index] *= BetaM**(self.learning_rate*w_)\n",
    "                        norm_ += D[epoch][k_index]\n",
    "                        k_index += 1\n",
    "            for epoch in D.keys():\n",
    "                for k_index in range(k-1):\n",
    "                    D[epoch][k_index] /= norm_\n",
    "        \n",
    "        self.observation_weights_ = D\n",
    "        \n",
    "        return self\n",
    "            \n",
    "    def createLabelDict(self,classes):\n",
    "        self.labelDict = {}\n",
    "        self.classes = classes\n",
    "        for i,cl in enumerate(classes):\n",
    "            self.labelDict[cl] = i\n",
    "    \n",
    "    def predict(self,X):\n",
    "        sum_model_hypothesis = np.sum(np.stack([-np.log(Bm)*Gm(X) for Bm,Gm in self.models], axis=-1), axis=-1)\n",
    "        iTL = np.vectorize(indexToLabel)            \n",
    "        return iTL(np.argmax(sum_model_hypothesis,axis=1),self)"
   ]
  },
  {
   "cell_type": "markdown",
   "metadata": {
    "id": "DcJh_1IMYm8j",
    "jp-MarkdownHeadingCollapsed": true,
    "tags": []
   },
   "source": [
    "### **NO FEATURE ENGINEERING SAMME**"
   ]
  },
  {
   "cell_type": "code",
   "execution_count": null,
   "metadata": {
    "colab": {
     "base_uri": "https://localhost:8080/"
    },
    "id": "04ipnQIXbtyo",
    "outputId": "14b6aaf5-9b4e-4236-8e59-38a258d8b47a"
   },
   "outputs": [
    {
     "name": "stdout",
     "output_type": "stream",
     "text": [
      "LINK 5\n",
      "\tLOS 1: Recall 95.69%\n",
      "\tLOS 2: Recall 56.05%\n",
      "\tLOS 3: Recall 55.62%\n",
      "\tLOS 4: Recall 29.12%\n",
      "\tLOS 5: Recall 31.17%\n",
      "\tLOS 6: Recall 72.0%\n",
      "LINK 6\n",
      "\tLOS 1: Recall 97.54%\n",
      "\tLOS 2: Recall 34.74%\n",
      "\tLOS 3: Recall 76.62%\n",
      "\tLOS 4: Recall 15.01%\n",
      "\tLOS 5: Recall 22.07%\n",
      "\tLOS 6: Recall 48.95%\n",
      "LINK 7\n",
      "\tLOS 1: Recall 97.44%\n",
      "\tLOS 2: Recall 61.72%\n",
      "\tLOS 3: Recall 67.67%\n",
      "\tLOS 4: Recall 4.63%\n",
      "\tLOS 5: Recall 23.02%\n",
      "\tLOS 6: Recall 47.12%\n",
      "LINK 8\n",
      "\tLOS 1: Recall 99.37%\n",
      "\tLOS 2: Recall 44.37%\n",
      "\tLOS 3: Recall 75.47%\n",
      "\tLOS 4: Recall 39.53%\n",
      "\tLOS 5: Recall 34.54%\n",
      "\tLOS 6: Recall 52.46%\n",
      "LINK 9\n",
      "\tLOS 1: Recall 97.6%\n",
      "\tLOS 2: Recall 73.01%\n",
      "\tLOS 3: Recall 52.44%\n",
      "\tLOS 4: Recall 59.9%\n",
      "\tLOS 5: Recall 48.26%\n",
      "\tLOS 6: Recall 39.66%\n",
      "LINK 10\n",
      "\tLOS 1: Recall 98.73%\n",
      "\tLOS 2: Recall 54.63%\n",
      "\tLOS 3: Recall 47.7%\n",
      "\tLOS 4: Recall 47.09%\n",
      "\tLOS 5: Recall 51.94%\n",
      "\tLOS 6: Recall 55.55%\n"
     ]
    }
   ],
   "source": [
    "for LINK in range(5,11):\n",
    "    print(f\"LINK {LINK}\")\n",
    "    filename = f'{ROOT}/models/AdaBoost_{PREDICTED_MINUTES_AHEAD}m_SAMME_nofeat_link{LINK}.joblib'\n",
    "\n",
    "    # Max Depth = 3 because we have 6 possible classes (2^3=8)\n",
    "    model = AdaBoostClassifier_(base_estimator=DecisionTreeClassifier(max_depth=3), n_estimators=60, learning_rate=0.3).fit(training_df[training_df['link_id'] == LINK], 'tt_arr$', 'LOS_dep')\n",
    "    joblib.dump(model, filename)\n",
    "\n",
    "    for LOS in range(1,7):\n",
    "        X_test = validation_df[(validation_df['link_id'] == LINK) & (validation_df['LOS_dep'] == LOS)]['tt_arr'].values.reshape(-1, 1)\n",
    "        y_pred = model.predict(X_test)\n",
    "\n",
    "        score = metrics.recall_score([LOS]*len(y_pred), y_pred, average='micro')\n",
    "        print(f\"\\tLOS {LOS}: Recall {round(score*100, 2) }%\")"
   ]
  },
  {
   "cell_type": "code",
   "execution_count": null,
   "metadata": {
    "colab": {
     "base_uri": "https://localhost:8080/",
     "height": 472
    },
    "id": "f9ZR9V4AeVmv",
    "outputId": "f7365753-d602-4f0b-8e9f-8fce020eb4e3"
   },
   "outputs": [
    {
     "data": {
      "image/png": "[encoded data removed]",
      "text/plain": [
       "<Figure size 640x480 with 1 Axes>"
      ]
     },
     "metadata": {},
     "output_type": "display_data"
    }
   ],
   "source": [
    "fig, ax = plt.subplots()\n",
    "ax.plot(np.arange(len(model.observation_weights_)), model.observation_weights_.values())\n",
    "\n",
    "ax.set(xlabel='Observation', ylabel='weight',\n",
    "       title='Weight per observation')\n",
    "ax.grid()\n",
    "plt.show()"
   ]
  },
  {
   "cell_type": "code",
   "execution_count": null,
   "metadata": {
    "colab": {
     "base_uri": "https://localhost:8080/",
     "height": 472
    },
    "id": "DVs9B0zjfDbt",
    "outputId": "b5d731aa-2b41-46e0-862e-aeae364accd8"
   },
   "outputs": [
    {
     "data": {
      "image/png": "[encoded data removed]",
      "text/plain": [
       "<Figure size 640x480 with 1 Axes>"
      ]
     },
     "metadata": {},
     "output_type": "display_data"
    }
   ],
   "source": [
    "fig, ax = plt.subplots()\n",
    "ax.plot(np.arange(model.n_estimators), model.estimator_errors_)\n",
    "\n",
    "ax.set(xlabel='#Estimator', ylabel='Estimation error',\n",
    "       title='Evolution of errors training estimators')\n",
    "ax.grid()\n",
    "plt.show()"
   ]
  },
  {
   "cell_type": "markdown",
   "metadata": {
    "id": "xgEAoIcAsohG"
   },
   "source": [
    "*Validate with implementation from sklearn*"
   ]
  },
  {
   "cell_type": "code",
   "execution_count": null,
   "metadata": {
    "colab": {
     "base_uri": "https://localhost:8080/"
    },
    "id": "yJYav2UfwG2t",
    "outputId": "79699cc8-cad1-48bd-9303-3a9e35deefc7"
   },
   "outputs": [
    {
     "name": "stdout",
     "output_type": "stream",
     "text": [
      "LINK 5\n",
      "\tLOS 1: Recall 93.5%\n",
      "\tLOS 2: Recall 67.2%\n",
      "\tLOS 3: Recall 55.96%\n",
      "\tLOS 4: Recall 23.94%\n",
      "\tLOS 5: Recall 34.87%\n",
      "\tLOS 6: Recall 63.43%\n",
      "LINK 6\n",
      "\tLOS 1: Recall 97.04%\n",
      "\tLOS 2: Recall 46.95%\n",
      "\tLOS 3: Recall 79.21%\n",
      "\tLOS 4: Recall 7.75%\n",
      "\tLOS 5: Recall 23.48%\n",
      "\tLOS 6: Recall 35.12%\n",
      "LINK 7\n",
      "\tLOS 1: Recall 97.44%\n",
      "\tLOS 2: Recall 61.72%\n",
      "\tLOS 3: Recall 68.97%\n",
      "\tLOS 4: Recall 4.62%\n",
      "\tLOS 5: Recall 15.7%\n",
      "\tLOS 6: Recall 0.0%\n",
      "LINK 8\n",
      "\tLOS 1: Recall 99.2%\n",
      "\tLOS 2: Recall 53.62%\n",
      "\tLOS 3: Recall 77.87%\n",
      "\tLOS 4: Recall 28.76%\n",
      "\tLOS 5: Recall 21.08%\n",
      "\tLOS 6: Recall 59.14%\n",
      "LINK 9\n",
      "\tLOS 1: Recall 97.35%\n",
      "\tLOS 2: Recall 73.33%\n",
      "\tLOS 3: Recall 61.51%\n",
      "\tLOS 4: Recall 59.9%\n",
      "\tLOS 5: Recall 51.63%\n",
      "\tLOS 6: Recall 0.0%\n",
      "LINK 10\n",
      "\tLOS 1: Recall 98.71%\n",
      "\tLOS 2: Recall 56.87%\n",
      "\tLOS 3: Recall 53.61%\n",
      "\tLOS 4: Recall 36.83%\n",
      "\tLOS 5: Recall 54.03%\n",
      "\tLOS 6: Recall 43.27%\n"
     ]
    }
   ],
   "source": [
    "for LINK in range(5,11):\n",
    "    print(f\"LINK {LINK}\")\n",
    "    X = training_df[training_df['link_id'] == LINK]['tt_arr'].values.reshape(-1, 1)\n",
    "    y = training_df[training_df['link_id'] == LINK]['LOS_dep'].values\n",
    "\n",
    "    model = AdaBoostClassifier(n_estimators=60, learning_rate=0.3, algorithm=\"SAMME\").fit(X, y)\n",
    "\n",
    "    for LOS in range(1,7):\n",
    "        X_test = validation_df[(validation_df['link_id'] == LINK) & (validation_df['LOS_dep'] == LOS)]['tt_arr'].values.reshape(-1, 1)\n",
    "        y_pred = model.predict(X_test)\n",
    "\n",
    "        score = metrics.recall_score([LOS]*len(y_pred), y_pred, average='micro')\n",
    "        print(f\"\\tLOS {LOS}: Recall {round(score*100, 2) }%\")"
   ]
  },
  {
   "cell_type": "code",
   "execution_count": null,
   "metadata": {
    "colab": {
     "base_uri": "https://localhost:8080/",
     "height": 472
    },
    "id": "5XOZJXAyyViT",
    "outputId": "3e272d33-77e8-4631-8c72-543133988f08"
   },
   "outputs": [
    {
     "data": {
      "image/png": "[encoded data removed]",
      "text/plain": [
       "<Figure size 640x480 with 1 Axes>"
      ]
     },
     "metadata": {},
     "output_type": "display_data"
    }
   ],
   "source": [
    "fig, ax = plt.subplots()\n",
    "ax.plot(np.arange(model.n_estimators), model.estimator_errors_)\n",
    "\n",
    "ax.set(xlabel='#Estimator', ylabel='Estimation error',\n",
    "       title='Evolution of errors training estimators')\n",
    "ax.grid()\n",
    "plt.show()"
   ]
  },
  {
   "cell_type": "markdown",
   "metadata": {
    "id": "3pDHddWEbkTV",
    "jp-MarkdownHeadingCollapsed": true,
    "tags": []
   },
   "source": [
    "### **NO FEATURE ENGINEERING SAMME.R**"
   ]
  },
  {
   "cell_type": "code",
   "execution_count": 5,
   "metadata": {
    "colab": {
     "base_uri": "https://localhost:8080/"
    },
    "id": "phEAAjhRbnex",
    "outputId": "c0e09892-69a2-48d4-a213-4edbb66864af"
   },
   "outputs": [
    {
     "name": "stdout",
     "output_type": "stream",
     "text": [
      "LINK 5\n",
      "SAMME.R Implementation of AdaBoost\n",
      "\tLOS 1: Recall 95.53%\n",
      "\tLOS 2: Recall 58.66%\n",
      "\tLOS 3: Recall 58.82%\n",
      "\tLOS 4: Recall 28.78%\n",
      "\tLOS 5: Recall 23.0%\n",
      "\tLOS 6: Recall 63.43%\n",
      "LINK 6\n",
      "SAMME.R Implementation of AdaBoost\n",
      "\tLOS 1: Recall 97.77%\n",
      "\tLOS 2: Recall 31.94%\n",
      "\tLOS 3: Recall 77.72%\n",
      "\tLOS 4: Recall 14.45%\n",
      "\tLOS 5: Recall 22.91%\n",
      "\tLOS 6: Recall 36.76%\n",
      "LINK 7\n",
      "SAMME.R Implementation of AdaBoost\n",
      "\tLOS 1: Recall 97.9%\n",
      "\tLOS 2: Recall 57.11%\n",
      "\tLOS 3: Recall 67.01%\n",
      "\tLOS 4: Recall 15.27%\n",
      "\tLOS 5: Recall 10.89%\n",
      "\tLOS 6: Recall 37.83%\n",
      "LINK 8\n",
      "SAMME.R Implementation of AdaBoost\n",
      "\tLOS 1: Recall 99.5%\n",
      "\tLOS 2: Recall 37.08%\n",
      "\tLOS 3: Recall 79.54%\n",
      "\tLOS 4: Recall 28.26%\n",
      "\tLOS 5: Recall 25.08%\n",
      "\tLOS 6: Recall 52.46%\n",
      "LINK 9\n",
      "SAMME.R Implementation of AdaBoost\n",
      "\tLOS 1: Recall 97.66%\n",
      "\tLOS 2: Recall 71.86%\n",
      "\tLOS 3: Recall 52.44%\n",
      "\tLOS 4: Recall 59.9%\n",
      "\tLOS 5: Recall 47.0%\n",
      "\tLOS 6: Recall 11.61%\n",
      "LINK 10\n",
      "SAMME.R Implementation of AdaBoost\n",
      "\tLOS 1: Recall 98.75%\n",
      "\tLOS 2: Recall 55.42%\n",
      "\tLOS 3: Recall 48.72%\n",
      "\tLOS 4: Recall 47.09%\n",
      "\tLOS 5: Recall 51.94%\n",
      "\tLOS 6: Recall 55.55%\n"
     ]
    }
   ],
   "source": [
    "for LINK in range(5,11):\n",
    "    print(f\"LINK {LINK}\")\n",
    "    filename = f'{ROOT}/models/AdaBoost_{PREDICTED_MINUTES_AHEAD}m_SAMME.R_nofeat_link{LINK}.joblib'\n",
    "\n",
    "    # Max Depth = 3 because we have 6 possible classes (2^3=8 separable regions)\n",
    "    model = AdaBoostClassifier_(base_estimator=DecisionTreeClassifier(max_depth=3), n_estimators=60, learning_rate=0.3).fit(training_df[training_df['link_id'] == LINK], 'tt_arr$', 'LOS_dep')\n",
    "    joblib.dump(model, filename)\n",
    "\n",
    "    for LOS in range(1,7):\n",
    "        X_test = validation_df[(validation_df['link_id'] == LINK) & (validation_df['LOS_dep'] == LOS)]['tt_arr'].values.reshape(-1, 1)\n",
    "        y_pred = model.predict(X_test)\n",
    "\n",
    "        score = metrics.recall_score([LOS]*len(y_pred), y_pred, average='micro')\n",
    "        print(f\"\\tLOS {LOS}: Recall {round(score*100, 2) }%\")"
   ]
  },
  {
   "cell_type": "code",
   "execution_count": null,
   "metadata": {
    "colab": {
     "base_uri": "https://localhost:8080/",
     "height": 472
    },
    "id": "oTrQInejiyaL",
    "outputId": "3d0edab4-608a-414a-8925-ed7f8c42fc55"
   },
   "outputs": [
    {
     "data": {
      "image/png": "[encoded data removed]",
      "text/plain": [
       "<Figure size 640x480 with 1 Axes>"
      ]
     },
     "metadata": {},
     "output_type": "display_data"
    }
   ],
   "source": [
    "fig, ax = plt.subplots()\n",
    "ax.plot(np.arange(model.n_estimators), model.estimator_errors_)\n",
    "\n",
    "ax.set(xlabel='#Estimator', ylabel='Estimation error',\n",
    "       title='Evolution of errors training estimators')\n",
    "ax.grid()\n",
    "plt.show()"
   ]
  },
  {
   "cell_type": "markdown",
   "metadata": {
    "id": "AxrzoVWGnANI"
   },
   "source": [
    "*Validate with implementation from sklearn*"
   ]
  },
  {
   "cell_type": "code",
   "execution_count": null,
   "metadata": {
    "colab": {
     "base_uri": "https://localhost:8080/"
    },
    "id": "hXP_q6JJnFxT",
    "outputId": "1934e1aa-8836-4584-db2c-e62b2cc895ee"
   },
   "outputs": [
    {
     "name": "stdout",
     "output_type": "stream",
     "text": [
      "LINK 5\n",
      "\tLOS 1: Recall 93.5%\n",
      "\tLOS 2: Recall 67.2%\n",
      "\tLOS 3: Recall 55.96%\n",
      "\tLOS 4: Recall 23.94%\n",
      "\tLOS 5: Recall 34.87%\n",
      "\tLOS 6: Recall 63.43%\n",
      "LINK 6\n",
      "\tLOS 1: Recall 97.04%\n",
      "\tLOS 2: Recall 46.95%\n",
      "\tLOS 3: Recall 79.21%\n",
      "\tLOS 4: Recall 7.75%\n",
      "\tLOS 5: Recall 23.48%\n",
      "\tLOS 6: Recall 35.12%\n",
      "LINK 7\n",
      "\tLOS 1: Recall 97.44%\n",
      "\tLOS 2: Recall 61.72%\n",
      "\tLOS 3: Recall 68.97%\n",
      "\tLOS 4: Recall 4.62%\n",
      "\tLOS 5: Recall 15.7%\n",
      "\tLOS 6: Recall 0.0%\n",
      "LINK 8\n",
      "\tLOS 1: Recall 99.2%\n",
      "\tLOS 2: Recall 53.62%\n",
      "\tLOS 3: Recall 77.87%\n",
      "\tLOS 4: Recall 28.76%\n",
      "\tLOS 5: Recall 21.08%\n",
      "\tLOS 6: Recall 59.14%\n",
      "LINK 9\n",
      "\tLOS 1: Recall 97.35%\n",
      "\tLOS 2: Recall 73.33%\n",
      "\tLOS 3: Recall 61.51%\n",
      "\tLOS 4: Recall 59.9%\n",
      "\tLOS 5: Recall 51.63%\n",
      "\tLOS 6: Recall 0.0%\n",
      "LINK 10\n",
      "\tLOS 1: Recall 98.71%\n",
      "\tLOS 2: Recall 56.87%\n",
      "\tLOS 3: Recall 53.61%\n",
      "\tLOS 4: Recall 36.83%\n",
      "\tLOS 5: Recall 54.03%\n",
      "\tLOS 6: Recall 43.27%\n"
     ]
    }
   ],
   "source": [
    "for LINK in range(5,11):\n",
    "    print(f\"LINK {LINK}\")\n",
    "    X = training_df[training_df['link_id'] == LINK]['tt_arr'].values.reshape(-1, 1)\n",
    "    y = training_df[training_df['link_id'] == LINK]['LOS_dep'].values\n",
    "\n",
    "    model = AdaBoostClassifier(n_estimators=60, learning_rate=0.3, algorithm=\"SAMME.R\").fit(X, y)\n",
    "\n",
    "    for LOS in range(1,7):\n",
    "        X_test = validation_df[(validation_df['link_id'] == LINK) & (validation_df['LOS_dep'] == LOS)]['tt_arr'].values.reshape(-1, 1)\n",
    "        y_pred = model.predict(X_test)\n",
    "\n",
    "        score = metrics.recall_score([LOS]*len(y_pred), y_pred, average='micro')\n",
    "        print(f\"\\tLOS {LOS}: Recall {round(score*100, 2) }%\")"
   ]
  },
  {
   "cell_type": "code",
   "execution_count": null,
   "metadata": {
    "colab": {
     "base_uri": "https://localhost:8080/",
     "height": 472
    },
    "id": "Nq3IWGAQnIqU",
    "outputId": "444be42a-2124-423b-8230-9386d036d4d6"
   },
   "outputs": [
    {
     "data": {
      "image/png": "[encoded data removed]",
      "text/plain": [
       "<Figure size 640x480 with 1 Axes>"
      ]
     },
     "metadata": {},
     "output_type": "display_data"
    }
   ],
   "source": [
    "fig, ax = plt.subplots()\n",
    "ax.plot(np.arange(model.n_estimators), model.estimator_errors_)\n",
    "\n",
    "ax.set(xlabel='#Estimator', ylabel='Estimation error',\n",
    "       title='Evolution of errors training estimators')\n",
    "ax.grid()\n",
    "plt.show()"
   ]
  },
  {
   "cell_type": "markdown",
   "metadata": {
    "id": "w_Ca_aXeOqMM",
    "jp-MarkdownHeadingCollapsed": true,
    "tags": []
   },
   "source": [
    "### **NO FEATURE ENGINEERING M2**"
   ]
  },
  {
   "cell_type": "code",
   "execution_count": 8,
   "metadata": {
    "colab": {
     "base_uri": "https://localhost:8080/"
    },
    "id": "cTMrnYPSOx56",
    "outputId": "3a9e23c3-f2db-40ba-ae95-61e639c33032"
   },
   "outputs": [
    {
     "name": "stdout",
     "output_type": "stream",
     "text": [
      "LINK 5\n",
      "M2 Implementation of AdaBoost\n",
      "\tLOS 1: Recall 95.62%\n",
      "\tLOS 2: Recall 61.56%\n",
      "\tLOS 3: Recall 57.07%\n",
      "\tLOS 4: Recall 17.41%\n",
      "\tLOS 5: Recall 15.1%\n",
      "\tLOS 6: Recall 71.52%\n",
      "LINK 6\n",
      "M2 Implementation of AdaBoost\n",
      "\tLOS 1: Recall 97.77%\n",
      "\tLOS 2: Recall 31.89%\n",
      "\tLOS 3: Recall 79.46%\n",
      "\tLOS 4: Recall 7.75%\n",
      "\tLOS 5: Recall 28.49%\n",
      "\tLOS 6: Recall 0.0%\n",
      "LINK 7\n",
      "M2 Implementation of AdaBoost\n",
      "\tLOS 1: Recall 97.88%\n",
      "\tLOS 2: Recall 57.3%\n",
      "\tLOS 3: Recall 70.9%\n",
      "\tLOS 4: Recall 0.0%\n",
      "\tLOS 5: Recall 0.0%\n",
      "\tLOS 6: Recall 0.0%\n",
      "LINK 8\n",
      "M2 Implementation of AdaBoost\n",
      "\tLOS 1: Recall 99.47%\n",
      "\tLOS 2: Recall 38.62%\n",
      "\tLOS 3: Recall 80.61%\n",
      "\tLOS 4: Recall 32.78%\n",
      "\tLOS 5: Recall 0.0%\n",
      "\tLOS 6: Recall 59.14%\n",
      "LINK 9\n",
      "M2 Implementation of AdaBoost\n",
      "\tLOS 1: Recall 97.61%\n",
      "\tLOS 2: Recall 72.69%\n",
      "\tLOS 3: Recall 52.45%\n",
      "\tLOS 4: Recall 71.82%\n",
      "\tLOS 5: Recall 0.0%\n",
      "\tLOS 6: Recall 0.0%\n",
      "LINK 10\n",
      "M2 Implementation of AdaBoost\n",
      "\tLOS 1: Recall 98.85%\n",
      "\tLOS 2: Recall 53.68%\n",
      "\tLOS 3: Recall 48.04%\n",
      "\tLOS 4: Recall 47.61%\n",
      "\tLOS 5: Recall 51.14%\n",
      "\tLOS 6: Recall 55.55%\n"
     ]
    }
   ],
   "source": [
    "for LINK in range(5,11):\n",
    "    print(f\"LINK {LINK}\")\n",
    "    filename = f'/{ROOT}/models/AdaBoost_{PREDICTED_MINUTES_AHEAD}m_M2_nofeat_link{LINK}.joblib'\n",
    "\n",
    "    # Max Depth = 3 because we have 6 possible classes (2^3=8 separable regions)\n",
    "    model = AdaBoostClassifier_(base_estimator=DecisionTreeClassifier(max_depth=3), n_estimators=60, learning_rate=0.3).fit(training_df[training_df['link_id'] == LINK], 'tt_arr$', 'LOS_dep')\n",
    "    joblib.dump(model, filename)\n",
    "\n",
    "    for LOS in range(1,7):\n",
    "        X_test = validation_df[(validation_df['link_id'] == LINK) & (validation_df['LOS_dep'] == LOS)]['tt_arr'].values.reshape(-1, 1)\n",
    "        y_pred = model.predict(X_test)\n",
    "\n",
    "        score = metrics.recall_score([LOS]*len(y_pred), y_pred, average='micro')\n",
    "        print(f\"\\tLOS {LOS}: Recall {round(score*100, 2) }%\")"
   ]
  },
  {
   "cell_type": "code",
   "execution_count": 9,
   "metadata": {
    "colab": {
     "base_uri": "https://localhost:8080/",
     "height": 472
    },
    "id": "f_NY9RtAikd-",
    "outputId": "0031b0da-65a8-40fe-b76e-187e0f1f4a3b"
   },
   "outputs": [
    {
     "data": {
      "image/png": "[encoded data removed]",
      "text/plain": [
       "<Figure size 432x288 with 1 Axes>"
      ]
     },
     "metadata": {
      "needs_background": "light"
     },
     "output_type": "display_data"
    }
   ],
   "source": [
    "fig, ax = plt.subplots()\n",
    "ax.plot(np.arange(model.n_estimators), model.estimator_errors_)\n",
    "\n",
    "ax.set(xlabel='#Estimator', ylabel='Estimation error',\n",
    "       title='Evolution of errors training estimators')\n",
    "ax.grid()\n",
    "plt.show()"
   ]
  },
  {
   "cell_type": "markdown",
   "metadata": {
    "id": "7mRQ067bsgED",
    "jp-MarkdownHeadingCollapsed": true,
    "tags": []
   },
   "source": [
    "## Feature engineering SAMME"
   ]
  },
  {
   "cell_type": "markdown",
   "metadata": {
    "id": "J-6iXrUQsmMa",
    "jp-MarkdownHeadingCollapsed": true,
    "tags": []
   },
   "source": [
    "### **FEATURE ENGINEERING ADJACENT LINK INFORMATION**"
   ]
  },
  {
   "cell_type": "markdown",
   "metadata": {
    "id": "BbOf-QHasmMb"
   },
   "source": [
    "*Features creation*\n",
    "\n",
    "For each link, the tt_arrival of the other links are added as features. Therefore we will be using 6 features in total."
   ]
  },
  {
   "cell_type": "code",
   "execution_count": 7,
   "metadata": {
    "id": "y6Ro4-Q7stJ5"
   },
   "outputs": [
    {
     "name": "stdout",
     "output_type": "stream",
     "text": [
      "LINK 5\n",
      "SAMME Implementation of AdaBoost\n",
      "\tLOS 1: Recall 95.71%\n",
      "\tLOS 2: Recall 52.89%\n",
      "\tLOS 3: Recall 55.61%\n",
      "\tLOS 4: Recall 19.4%\n",
      "\tLOS 5: Recall 33.17%\n",
      "\tLOS 6: Recall 68.93%\n",
      "LINK 6\n",
      "SAMME Implementation of AdaBoost\n",
      "\tLOS 1: Recall 97.82%\n",
      "\tLOS 2: Recall 31.19%\n",
      "\tLOS 3: Recall 74.82%\n",
      "\tLOS 4: Recall 23.47%\n",
      "\tLOS 5: Recall 29.7%\n",
      "\tLOS 6: Recall 48.95%\n",
      "LINK 7\n",
      "SAMME Implementation of AdaBoost\n",
      "\tLOS 1: Recall 97.8%\n",
      "\tLOS 2: Recall 51.25%\n",
      "\tLOS 3: Recall 66.65%\n",
      "\tLOS 4: Recall 15.75%\n",
      "\tLOS 5: Recall 24.65%\n",
      "\tLOS 6: Recall 7.46%\n",
      "LINK 8\n",
      "SAMME Implementation of AdaBoost\n",
      "\tLOS 1: Recall 99.37%\n",
      "\tLOS 2: Recall 43.4%\n",
      "\tLOS 3: Recall 77.95%\n",
      "\tLOS 4: Recall 33.17%\n",
      "\tLOS 5: Recall 32.42%\n",
      "\tLOS 6: Recall 52.46%\n",
      "LINK 9\n",
      "SAMME Implementation of AdaBoost\n",
      "\tLOS 1: Recall 97.99%\n",
      "\tLOS 2: Recall 69.08%\n",
      "\tLOS 3: Recall 49.81%\n",
      "\tLOS 4: Recall 55.8%\n",
      "\tLOS 5: Recall 33.12%\n",
      "\tLOS 6: Recall 2.27%\n",
      "LINK 10\n",
      "SAMME Implementation of AdaBoost\n",
      "\tLOS 1: Recall 98.89%\n",
      "\tLOS 2: Recall 49.52%\n",
      "\tLOS 3: Recall 46.41%\n",
      "\tLOS 4: Recall 44.45%\n",
      "\tLOS 5: Recall 51.87%\n",
      "\tLOS 6: Recall 56.1%\n"
     ]
    }
   ],
   "source": [
    "for LINK in range(5,11):\n",
    "    print(f\"LINK {LINK}\")\n",
    "    filename = f'{ROOT}/models/AdaBoost_{PREDICTED_MINUTES_AHEAD}m_SAMME_adjacent_link{LINK}.joblib'\n",
    "\n",
    "    other_links = [5,6,7,8,9,10]; other_links.remove(LINK)\n",
    "    training_df_link = training_df.copy()\n",
    "    training_df_link = training_df_link[training_df_link['link_id'] == LINK]\n",
    "\n",
    "    for other_link in other_links:\n",
    "        training_df_link = pd.merge(training_df_link, training_df[training_df['link_id'] == other_link].filter(regex=(\"tt_ar[^-]+$\")), on=['date'], how='inner', suffixes=[None, f'_{other_link}'])\n",
    "\n",
    "    model = AdaBoostClassifier_(base_estimator=DecisionTreeClassifier(max_depth=3), n_estimators=60, learning_rate=0.3).fit(training_df_link, \"tt_ar[^-]+$\", 'LOS_dep')\n",
    "    joblib.dump(model, filename)\n",
    "\n",
    "    for LOS in range(1,7):\n",
    "        validation_df_link = validation_df[(validation_df['link_id'] == LINK) & (validation_df['LOS_dep'] == LOS)].copy()\n",
    "        for other_link in other_links:\n",
    "            validation_df_link = pd.merge(validation_df_link, validation_df[validation_df['link_id'] == other_link].filter(regex=(\"tt_ar[^-]+$\")), on=['date'], how='inner', suffixes=[None, f'_{other_link}'])\n",
    "        X_test = validation_df_link.filter(regex=(\"tt_ar[^-]+$\")).values\n",
    "        y_pred = model.predict(X_test)\n",
    "\n",
    "        score = metrics.recall_score([LOS]*len(y_pred), y_pred, average='micro')\n",
    "        print(f\"\\tLOS {LOS}: Recall {round(score*100, 2) }%\")"
   ]
  },
  {
   "cell_type": "markdown",
   "metadata": {
    "id": "KpvBdxc9s6XC",
    "jp-MarkdownHeadingCollapsed": true,
    "tags": []
   },
   "source": [
    "### **FEATURE ENGINEERING ADJACENT LINK INFORMATION + TEMPORAL INFORMATION (UP TO PREVIOUS 45MIN)**"
   ]
  },
  {
   "cell_type": "markdown",
   "metadata": {
    "id": "_TQuxAFZs6XE"
   },
   "source": [
    "*Features creation*\n",
    "\n",
    "For each link, the tt_arrival of the other links, covering the previous 50min from prediction time, are added as features. Therefore we will be using 60 features in total as maximum."
   ]
  },
  {
   "cell_type": "code",
   "execution_count": 23,
   "metadata": {
    "colab": {
     "base_uri": "https://localhost:8080/"
    },
    "id": "xrchAR-stEmK",
    "outputId": "63ee0b14-e985-46e4-dda4-4cf79e072269"
   },
   "outputs": [
    {
     "name": "stdout",
     "output_type": "stream",
     "text": [
      "USING PREVIOUS 45m INFORMATION\n",
      "LINK 5\n",
      "SAMME Implementation of AdaBoost\n",
      "\tLOS 1: Recall 96.0%\n",
      "\tLOS 2: Recall 50.11%\n",
      "\tLOS 3: Recall 53.99%\n",
      "\tLOS 4: Recall 19.38%\n",
      "\tLOS 5: Recall 34.58%\n",
      "\tLOS 6: Recall 67.33%\n",
      "LINK 6\n",
      "SAMME Implementation of AdaBoost\n",
      "\tLOS 1: Recall 97.96%\n",
      "\tLOS 2: Recall 34.49%\n",
      "\tLOS 3: Recall 75.16%\n",
      "\tLOS 4: Recall 25.57%\n",
      "\tLOS 5: Recall 30.01%\n",
      "\tLOS 6: Recall 46.15%\n",
      "LINK 7\n",
      "SAMME Implementation of AdaBoost\n",
      "\tLOS 1: Recall 97.91%\n",
      "\tLOS 2: Recall 51.23%\n",
      "\tLOS 3: Recall 66.12%\n",
      "\tLOS 4: Recall 16.72%\n",
      "\tLOS 5: Recall 9.88%\n",
      "\tLOS 6: Recall 8.51%\n",
      "LINK 8\n",
      "SAMME Implementation of AdaBoost\n",
      "\tLOS 1: Recall 99.35%\n",
      "\tLOS 2: Recall 38.54%\n",
      "\tLOS 3: Recall 77.63%\n",
      "\tLOS 4: Recall 39.53%\n",
      "\tLOS 5: Recall 25.67%\n",
      "\tLOS 6: Recall 55.4%\n",
      "LINK 9\n",
      "SAMME Implementation of AdaBoost\n",
      "\tLOS 1: Recall 97.79%\n",
      "\tLOS 2: Recall 70.68%\n",
      "\tLOS 3: Recall 49.54%\n",
      "\tLOS 4: Recall 63.22%\n",
      "\tLOS 5: Recall 35.23%\n",
      "\tLOS 6: Recall 0.57%\n",
      "LINK 10\n",
      "SAMME Implementation of AdaBoost\n",
      "\tLOS 1: Recall 98.77%\n",
      "\tLOS 2: Recall 53.79%\n",
      "\tLOS 3: Recall 48.83%\n",
      "\tLOS 4: Recall 47.21%\n",
      "\tLOS 5: Recall 49.61%\n",
      "\tLOS 6: Recall 60.3%\n"
     ]
    }
   ],
   "source": [
    "print(f'USING PREVIOUS {INPUT_MINUTES_BEFORE}m INFORMATION')\n",
    "for LINK in range(5,11):\n",
    "    print(f\"LINK {LINK}\")\n",
    "    filename = f'{ROOT}/models/AdaBoost_{PREDICTED_MINUTES_AHEAD}m_SAMME_temp{INPUT_MINUTES_BEFORE}m_link{LINK}.joblib'\n",
    "\n",
    "    other_links = [5,6,7,8,9,10]; other_links.remove(LINK)\n",
    "    training_df_link = training_df.copy()\n",
    "    training_df_link = training_df_link[training_df_link['link_id'] == LINK]\n",
    "\n",
    "    for other_link in other_links:\n",
    "        training_df_link = pd.merge(training_df_link, training_df[training_df['link_id'] == other_link].filter(regex=(\"tt_arr.*\")), on=['date'], how='inner', suffixes=[None, f'_{other_link}'])\n",
    "\n",
    "    model = AdaBoostClassifier_(base_estimator=DecisionTreeClassifier(max_depth=3), n_estimators=60, learning_rate=0.3).fit(training_df_link, \"tt_arr.*\", 'LOS_dep')\n",
    "    joblib.dump(model, filename)\n",
    "\n",
    "    for LOS in range(1,7):\n",
    "        validation_df_link = validation_df[(validation_df['link_id'] == LINK) & (validation_df['LOS_dep'] == LOS)].copy()\n",
    "        for other_link in other_links:\n",
    "            validation_df_link = pd.merge(validation_df_link, validation_df[validation_df['link_id'] == other_link].filter(regex=(\"tt_arr.*\")), on=['date'], how='inner', suffixes=[None, f'_{other_link}'])\n",
    "        X_test = validation_df_link.filter(regex=(\"tt_arr.*\")).values\n",
    "        y_pred = model.predict(X_test)\n",
    "\n",
    "        score = metrics.recall_score([LOS]*len(y_pred), y_pred, average='micro')\n",
    "        print(f\"\\tLOS {LOS}: Recall {round(score*100, 2) }%\")"
   ]
  },
  {
   "cell_type": "markdown",
   "metadata": {
    "id": "iN57ErfEtQEj",
    "jp-MarkdownHeadingCollapsed": true,
    "tags": []
   },
   "source": [
    "## Feature engineering SAMME.R"
   ]
  },
  {
   "cell_type": "markdown",
   "metadata": {
    "id": "QX-1y_K9tQEk",
    "jp-MarkdownHeadingCollapsed": true,
    "tags": []
   },
   "source": [
    "### **FEATURE ENGINEERING ADJACENT LINK INFORMATION**"
   ]
  },
  {
   "cell_type": "markdown",
   "metadata": {
    "id": "jZr9HEIotQEl"
   },
   "source": [
    "*Features creation*\n",
    "\n",
    "For each link, the tt_arrival of the other links are added as features. Therefore we will be using 6 features in total."
   ]
  },
  {
   "cell_type": "code",
   "execution_count": 9,
   "metadata": {
    "id": "MeqLvOwLtScZ"
   },
   "outputs": [
    {
     "name": "stdout",
     "output_type": "stream",
     "text": [
      "LINK 5\n",
      "SAMME.R Implementation of AdaBoost\n",
      "\tLOS 1: Recall 95.89%\n",
      "\tLOS 2: Recall 44.87%\n",
      "\tLOS 3: Recall 43.68%\n",
      "\tLOS 4: Recall 22.51%\n",
      "\tLOS 5: Recall 25.27%\n",
      "\tLOS 6: Recall 55.17%\n",
      "LINK 6\n",
      "SAMME.R Implementation of AdaBoost\n",
      "\tLOS 1: Recall 98.09%\n",
      "\tLOS 2: Recall 32.8%\n",
      "\tLOS 3: Recall 76.65%\n",
      "\tLOS 4: Recall 23.32%\n",
      "\tLOS 5: Recall 27.52%\n",
      "\tLOS 6: Recall 32.61%\n",
      "LINK 7\n",
      "SAMME.R Implementation of AdaBoost\n",
      "\tLOS 1: Recall 97.95%\n",
      "\tLOS 2: Recall 56.35%\n",
      "\tLOS 3: Recall 68.74%\n",
      "\tLOS 4: Recall 11.74%\n",
      "\tLOS 5: Recall 5.81%\n",
      "\tLOS 6: Recall 27.62%\n",
      "LINK 8\n",
      "SAMME.R Implementation of AdaBoost\n",
      "\tLOS 1: Recall 99.48%\n",
      "\tLOS 2: Recall 39.33%\n",
      "\tLOS 3: Recall 79.74%\n",
      "\tLOS 4: Recall 31.21%\n",
      "\tLOS 5: Recall 19.92%\n",
      "\tLOS 6: Recall 58.52%\n",
      "LINK 9\n",
      "SAMME.R Implementation of AdaBoost\n",
      "\tLOS 1: Recall 97.89%\n",
      "\tLOS 2: Recall 71.12%\n",
      "\tLOS 3: Recall 50.73%\n",
      "\tLOS 4: Recall 49.43%\n",
      "\tLOS 5: Recall 28.08%\n",
      "\tLOS 6: Recall 10.48%\n",
      "LINK 10\n",
      "SAMME.R Implementation of AdaBoost\n",
      "\tLOS 1: Recall 98.75%\n",
      "\tLOS 2: Recall 55.89%\n",
      "\tLOS 3: Recall 48.78%\n",
      "\tLOS 4: Recall 44.04%\n",
      "\tLOS 5: Recall 51.16%\n",
      "\tLOS 6: Recall 47.03%\n"
     ]
    }
   ],
   "source": [
    "for LINK in range(5,11):\n",
    "    print(f\"LINK {LINK}\")\n",
    "    filename = f'{ROOT}/models/AdaBoost_{PREDICTED_MINUTES_AHEAD}m_SAMME.R_adjacent_link{LINK}.joblib'\n",
    "\n",
    "    other_links = [5,6,7,8,9,10]; other_links.remove(LINK)\n",
    "    training_df_link = training_df.copy()\n",
    "    training_df_link = training_df_link[training_df_link['link_id'] == LINK]\n",
    "\n",
    "    for other_link in other_links:\n",
    "        training_df_link = pd.merge(training_df_link, training_df[training_df['link_id'] == other_link].filter(regex=(\"tt_ar[^-]+$\")), on=['date'], how='inner', suffixes=[None, f'_{other_link}'])\n",
    "\n",
    "    model = AdaBoostClassifier_(base_estimator=DecisionTreeClassifier(max_depth=3), n_estimators=60, learning_rate=0.3).fit(training_df_link, \"tt_ar[^-]+$\", 'LOS_dep')\n",
    "    joblib.dump(model, filename)\n",
    "\n",
    "    for LOS in range(1,7):\n",
    "        validation_df_link = validation_df[(validation_df['link_id'] == LINK) & (validation_df['LOS_dep'] == LOS)].copy()\n",
    "        for other_link in other_links:\n",
    "            validation_df_link = pd.merge(validation_df_link, validation_df[validation_df['link_id'] == other_link].filter(regex=(\"tt_ar[^-]+$\")), on=['date'], how='inner', suffixes=[None, f'_{other_link}'])\n",
    "        X_test = validation_df_link.filter(regex=(\"tt_ar[^-]+$\")).values\n",
    "        y_pred = model.predict(X_test)\n",
    "\n",
    "        score = metrics.recall_score([LOS]*len(y_pred), y_pred, average='micro')\n",
    "        print(f\"\\tLOS {LOS}: Recall {round(score*100, 2) }%\")"
   ]
  },
  {
   "cell_type": "markdown",
   "metadata": {
    "id": "A-8NrOlytQEl",
    "jp-MarkdownHeadingCollapsed": true,
    "tags": []
   },
   "source": [
    "### **FEATURE ENGINEERING ADJACENT LINK INFORMATION + TEMPORAL INFORMATION (UP TO PREVIOUS 45MIN)**"
   ]
  },
  {
   "cell_type": "markdown",
   "metadata": {
    "id": "pgq0XefftQEm"
   },
   "source": [
    "*Features creation*\n",
    "\n",
    "For each link, the tt_arrival of the other links, covering the previous 50min from prediction time, are added as features. Therefore we will be using 60 features in total as maximum."
   ]
  },
  {
   "cell_type": "code",
   "execution_count": 10,
   "metadata": {
    "id": "rDd9yKj6tT2b"
   },
   "outputs": [
    {
     "name": "stdout",
     "output_type": "stream",
     "text": [
      "USING PREVIOUS 45m INFORMATION\n",
      "LINK 5\n",
      "SAMME.R Implementation of AdaBoost\n",
      "\tLOS 1: Recall 95.34%\n",
      "\tLOS 2: Recall 45.53%\n",
      "\tLOS 3: Recall 52.55%\n",
      "\tLOS 4: Recall 23.27%\n",
      "\tLOS 5: Recall 26.99%\n",
      "\tLOS 6: Recall 60.14%\n",
      "LINK 6\n",
      "SAMME.R Implementation of AdaBoost\n",
      "\tLOS 1: Recall 98.15%\n",
      "\tLOS 2: Recall 26.18%\n",
      "\tLOS 3: Recall 78.65%\n",
      "\tLOS 4: Recall 20.48%\n",
      "\tLOS 5: Recall 25.6%\n",
      "\tLOS 6: Recall 24.97%\n",
      "LINK 7\n",
      "SAMME.R Implementation of AdaBoost\n",
      "\tLOS 1: Recall 97.96%\n",
      "\tLOS 2: Recall 57.69%\n",
      "\tLOS 3: Recall 67.62%\n",
      "\tLOS 4: Recall 12.47%\n",
      "\tLOS 5: Recall 7.02%\n",
      "\tLOS 6: Recall 29.45%\n",
      "LINK 8\n",
      "SAMME.R Implementation of AdaBoost\n",
      "\tLOS 1: Recall 99.52%\n",
      "\tLOS 2: Recall 36.22%\n",
      "\tLOS 3: Recall 78.37%\n",
      "\tLOS 4: Recall 30.48%\n",
      "\tLOS 5: Recall 15.04%\n",
      "\tLOS 6: Recall 58.13%\n",
      "LINK 9\n",
      "SAMME.R Implementation of AdaBoost\n",
      "\tLOS 1: Recall 97.76%\n",
      "\tLOS 2: Recall 71.65%\n",
      "\tLOS 3: Recall 51.81%\n",
      "\tLOS 4: Recall 41.75%\n",
      "\tLOS 5: Recall 36.17%\n",
      "\tLOS 6: Recall 0.0%\n",
      "LINK 10\n",
      "SAMME.R Implementation of AdaBoost\n",
      "\tLOS 1: Recall 98.75%\n",
      "\tLOS 2: Recall 53.66%\n",
      "\tLOS 3: Recall 50.19%\n",
      "\tLOS 4: Recall 47.17%\n",
      "\tLOS 5: Recall 49.72%\n",
      "\tLOS 6: Recall 50.04%\n"
     ]
    }
   ],
   "source": [
    "print(f'USING PREVIOUS {INPUT_MINUTES_BEFORE}m INFORMATION')\n",
    "for LINK in range(5,11):\n",
    "    print(f\"LINK {LINK}\")\n",
    "    filename = f'{ROOT}/models/AdaBoost_{PREDICTED_MINUTES_AHEAD}m_SAMME.R_temp{INPUT_MINUTES_BEFORE}m_link{LINK}.joblib'\n",
    "\n",
    "    other_links = [5,6,7,8,9,10]; other_links.remove(LINK)\n",
    "    training_df_link = training_df.copy()\n",
    "    training_df_link = training_df_link[training_df_link['link_id'] == LINK]\n",
    "\n",
    "    for other_link in other_links:\n",
    "        training_df_link = pd.merge(training_df_link, training_df[training_df['link_id'] == other_link].filter(regex=(\"tt_arr.*\")), on=['date'], how='inner', suffixes=[None, f'_{other_link}'])\n",
    "\n",
    "    model = AdaBoostClassifier_(base_estimator=DecisionTreeClassifier(max_depth=3), n_estimators=60, learning_rate=0.3).fit(training_df_link, \"tt_arr.*\", 'LOS_dep')\n",
    "    joblib.dump(model, filename)\n",
    "\n",
    "    for LOS in range(1,7):\n",
    "        validation_df_link = validation_df[(validation_df['link_id'] == LINK) & (validation_df['LOS_dep'] == LOS)].copy()\n",
    "        for other_link in other_links:\n",
    "            validation_df_link = pd.merge(validation_df_link, validation_df[validation_df['link_id'] == other_link].filter(regex=(\"tt_arr.*\")), on=['date'], how='inner', suffixes=[None, f'_{other_link}'])\n",
    "        X_test = validation_df_link.filter(regex=(\"tt_arr.*\")).values\n",
    "        y_pred = model.predict(X_test)\n",
    "\n",
    "        score = metrics.recall_score([LOS]*len(y_pred), y_pred, average='micro')\n",
    "        print(f\"\\tLOS {LOS}: Recall {round(score*100, 2) }%\")"
   ]
  },
  {
   "cell_type": "markdown",
   "metadata": {
    "id": "8kMuPjKAtZ9U",
    "tags": []
   },
   "source": [
    "## Feature engineering M2"
   ]
  },
  {
   "cell_type": "markdown",
   "metadata": {
    "id": "MFPtdH0htZ9V",
    "tags": []
   },
   "source": [
    "### **FEATURE ENGINEERING ADJACENT LINK INFORMATION**"
   ]
  },
  {
   "cell_type": "markdown",
   "metadata": {
    "id": "W-KS7Q_ntZ9W"
   },
   "source": [
    "*Features creation*\n",
    "\n",
    "For each link, the tt_arrival of the other links are added as features. Therefore we will be using 6 features in total."
   ]
  },
  {
   "cell_type": "code",
   "execution_count": 15,
   "metadata": {
    "id": "gfQaEmUHtfDl"
   },
   "outputs": [
    {
     "name": "stdout",
     "output_type": "stream",
     "text": [
      "LINK 5\n",
      "M2 Implementation of AdaBoost\n",
      "\tLOS 1: Recall 95.36%\n",
      "\tLOS 2: Recall 58.94%\n",
      "\tLOS 3: Recall 58.36%\n",
      "\tLOS 4: Recall 18.6%\n",
      "\tLOS 5: Recall 15.1%\n",
      "\tLOS 6: Recall 71.52%\n",
      "LINK 6\n",
      "M2 Implementation of AdaBoost\n",
      "\tLOS 1: Recall 98.18%\n",
      "\tLOS 2: Recall 31.09%\n",
      "\tLOS 3: Recall 79.67%\n",
      "\tLOS 4: Recall 7.75%\n",
      "\tLOS 5: Recall 28.49%\n",
      "\tLOS 6: Recall 0.0%\n",
      "LINK 7\n",
      "M2 Implementation of AdaBoost\n",
      "\tLOS 1: Recall 97.8%\n",
      "\tLOS 2: Recall 57.37%\n",
      "\tLOS 3: Recall 72.43%\n",
      "\tLOS 4: Recall 0.0%\n",
      "\tLOS 5: Recall 0.0%\n",
      "\tLOS 6: Recall 0.0%\n",
      "LINK 8\n",
      "M2 Implementation of AdaBoost\n",
      "\tLOS 1: Recall 99.44%\n",
      "\tLOS 2: Recall 41.34%\n",
      "\tLOS 3: Recall 80.62%\n",
      "\tLOS 4: Recall 28.82%\n",
      "\tLOS 5: Recall 7.29%\n",
      "\tLOS 6: Recall 57.64%\n",
      "LINK 9\n",
      "M2 Implementation of AdaBoost\n",
      "\tLOS 1: Recall 97.66%\n",
      "\tLOS 2: Recall 73.08%\n",
      "\tLOS 3: Recall 55.14%\n",
      "\tLOS 4: Recall 8.03%\n",
      "\tLOS 5: Recall 0.0%\n",
      "\tLOS 6: Recall 0.0%\n",
      "LINK 10\n",
      "M2 Implementation of AdaBoost\n",
      "\tLOS 1: Recall 98.83%\n",
      "\tLOS 2: Recall 54.28%\n",
      "\tLOS 3: Recall 48.04%\n",
      "\tLOS 4: Recall 47.61%\n",
      "\tLOS 5: Recall 51.14%\n",
      "\tLOS 6: Recall 55.55%\n"
     ]
    }
   ],
   "source": [
    "for LINK in range(5,11):\n",
    "    print(f\"LINK {LINK}\")\n",
    "    filename = f'{ROOT}/models/AdaBoost_{PREDICTED_MINUTES_AHEAD}m_M2_adjacent_link{LINK}.joblib'\n",
    "\n",
    "    other_links = [5,6,7,8,9,10]; other_links.remove(LINK)\n",
    "    training_df_link = training_df.copy()\n",
    "    training_df_link = training_df_link[training_df_link['link_id'] == LINK]\n",
    "\n",
    "    for other_link in other_links:\n",
    "        training_df_link = pd.merge(training_df_link, training_df[training_df['link_id'] == other_link].filter(regex=(\"tt_ar[^-]+$\")), on=['date'], how='inner', suffixes=[None, f'_{other_link}'])\n",
    "\n",
    "    model = AdaBoostClassifier_(base_estimator=DecisionTreeClassifier(max_depth=3), n_estimators=60, learning_rate=0.3).fit(training_df_link, \"tt_ar[^-]+$\", 'LOS_dep')\n",
    "    joblib.dump(model, filename)\n",
    "\n",
    "    for LOS in range(1,7):\n",
    "        validation_df_link = validation_df[(validation_df['link_id'] == LINK) & (validation_df['LOS_dep'] == LOS)].copy()\n",
    "        for other_link in other_links:\n",
    "            validation_df_link = pd.merge(validation_df_link, validation_df[validation_df['link_id'] == other_link].filter(regex=(\"tt_ar[^-]+$\")), on=['date'], how='inner', suffixes=[None, f'_{other_link}'])\n",
    "        X_test = validation_df_link.filter(regex=(\"tt_ar[^-]+$\")).values\n",
    "        y_pred = model.predict(X_test)\n",
    "\n",
    "        score = metrics.recall_score([LOS]*len(y_pred), y_pred, average='micro')\n",
    "        print(f\"\\tLOS {LOS}: Recall {round(score*100, 2) }%\")"
   ]
  },
  {
   "cell_type": "markdown",
   "metadata": {
    "id": "UbhOVU0qtZ9W",
    "jp-MarkdownHeadingCollapsed": true,
    "tags": []
   },
   "source": [
    "### **FEATURE ENGINEERING ADJACENT LINK INFORMATION + TEMPORAL INFORMATION (UP TO PREVIOUS 45MIN)**"
   ]
  },
  {
   "cell_type": "markdown",
   "metadata": {
    "id": "URsbx593tZ9X"
   },
   "source": [
    "*Features creation*\n",
    "\n",
    "For each link, the tt_arrival of the other links, covering the previous 50min from prediction time, are added as features. Therefore we will be using 60 features in total as maximum."
   ]
  },
  {
   "cell_type": "code",
   "execution_count": 16,
   "metadata": {
    "id": "5_8-VsFdthPa"
   },
   "outputs": [
    {
     "name": "stdout",
     "output_type": "stream",
     "text": [
      "USING PREVIOUS 45m INFORMATION\n",
      "LINK 5\n",
      "M2 Implementation of AdaBoost\n",
      "\tLOS 1: Recall 94.91%\n",
      "\tLOS 2: Recall 59.05%\n",
      "\tLOS 3: Recall 59.09%\n",
      "\tLOS 4: Recall 18.6%\n",
      "\tLOS 5: Recall 15.1%\n",
      "\tLOS 6: Recall 71.52%\n",
      "LINK 6\n",
      "M2 Implementation of AdaBoost\n",
      "\tLOS 1: Recall 98.19%\n",
      "\tLOS 2: Recall 31.06%\n",
      "\tLOS 3: Recall 79.68%\n",
      "\tLOS 4: Recall 7.75%\n",
      "\tLOS 5: Recall 28.49%\n",
      "\tLOS 6: Recall 0.0%\n",
      "LINK 7\n",
      "M2 Implementation of AdaBoost\n",
      "\tLOS 1: Recall 97.78%\n",
      "\tLOS 2: Recall 57.54%\n",
      "\tLOS 3: Recall 72.55%\n",
      "\tLOS 4: Recall 0.0%\n",
      "\tLOS 5: Recall 0.0%\n",
      "\tLOS 6: Recall 0.0%\n",
      "LINK 8\n",
      "M2 Implementation of AdaBoost\n",
      "\tLOS 1: Recall 99.44%\n",
      "\tLOS 2: Recall 40.55%\n",
      "\tLOS 3: Recall 80.63%\n",
      "\tLOS 4: Recall 28.74%\n",
      "\tLOS 5: Recall 7.29%\n",
      "\tLOS 6: Recall 57.64%\n",
      "LINK 9\n",
      "M2 Implementation of AdaBoost\n",
      "\tLOS 1: Recall 97.67%\n",
      "\tLOS 2: Recall 73.05%\n",
      "\tLOS 3: Recall 48.59%\n",
      "\tLOS 4: Recall 71.82%\n",
      "\tLOS 5: Recall 0.0%\n",
      "\tLOS 6: Recall 0.0%\n",
      "LINK 10\n",
      "M2 Implementation of AdaBoost\n",
      "\tLOS 1: Recall 98.83%\n",
      "\tLOS 2: Recall 54.6%\n",
      "\tLOS 3: Recall 53.54%\n",
      "\tLOS 4: Recall 39.07%\n",
      "\tLOS 5: Recall 51.14%\n",
      "\tLOS 6: Recall 55.55%\n"
     ]
    }
   ],
   "source": [
    "print(f'USING PREVIOUS {INPUT_MINUTES_BEFORE}m INFORMATION')\n",
    "for LINK in range(5,11):\n",
    "    print(f\"LINK {LINK}\")\n",
    "    filename = f'{ROOT}/models/AdaBoost_{PREDICTED_MINUTES_AHEAD}m_M2_temp{INPUT_MINUTES_BEFORE}m_link{LINK}.joblib'\n",
    "\n",
    "    other_links = [5,6,7,8,9,10]; other_links.remove(LINK)\n",
    "    training_df_link = training_df.copy()\n",
    "    training_df_link = training_df_link[training_df_link['link_id'] == LINK]\n",
    "\n",
    "    for other_link in other_links:\n",
    "        training_df_link = pd.merge(training_df_link, training_df[training_df['link_id'] == other_link].filter(regex=(\"tt_arr.*\")), on=['date'], how='inner', suffixes=[None, f'_{other_link}'])\n",
    "\n",
    "    model = AdaBoostClassifier_(base_estimator=DecisionTreeClassifier(max_depth=3), n_estimators=60, learning_rate=0.3).fit(training_df_link, \"tt_arr.*\", 'LOS_dep')\n",
    "    joblib.dump(model, filename)\n",
    "\n",
    "    for LOS in range(1,7):\n",
    "        validation_df_link = validation_df[(validation_df['link_id'] == LINK) & (validation_df['LOS_dep'] == LOS)].copy()\n",
    "        for other_link in other_links:\n",
    "            validation_df_link = pd.merge(validation_df_link, validation_df[validation_df['link_id'] == other_link].filter(regex=(\"tt_arr.*\")), on=['date'], how='inner', suffixes=[None, f'_{other_link}'])\n",
    "        X_test = validation_df_link.filter(regex=(\"tt_arr.*\")).values\n",
    "        y_pred = model.predict(X_test)\n",
    "\n",
    "        score = metrics.recall_score([LOS]*len(y_pred), y_pred, average='micro')\n",
    "        print(f\"\\tLOS {LOS}: Recall {round(score*100, 2) }%\")"
   ]
  },
  {
   "cell_type": "markdown",
   "metadata": {
    "id": "56v0Qmq5YalF",
    "jp-MarkdownHeadingCollapsed": true,
    "tags": []
   },
   "source": [
    "# **RUSBoost**"
   ]
  },
  {
   "cell_type": "markdown",
   "metadata": {
    "id": "K8YP3zubmE0w",
    "jp-MarkdownHeadingCollapsed": true,
    "tags": []
   },
   "source": [
    "### *Algorithms*"
   ]
  },
  {
   "cell_type": "markdown",
   "metadata": {
    "id": "hvykyM8IbeNb"
   },
   "source": [
    "**Algorithm implementation SAMME**"
   ]
  },
  {
   "cell_type": "code",
   "execution_count": 17,
   "metadata": {
    "id": "ZlA-vfNNpYOP"
   },
   "outputs": [],
   "source": [
    "def labelToIndex(i,clf):\n",
    "    return clf.labelDict[i]\n",
    "\n",
    "def indexToLabel(i,clf):\n",
    "    return clf.classes[i]\n",
    "\n",
    "class RUSBoostClassifier_:\n",
    "    \n",
    "    def __init__(self,base_estimator=None,n_estimators=50,learning_rate=1.0):\n",
    "        print(\"SAMME Implementation of RUSBoost\")\n",
    "        self.n_estimators = n_estimators\n",
    "        self.learning_rate = learning_rate\n",
    "        self.models = [None]*n_estimators\n",
    "        if base_estimator == None:\n",
    "            base_estimator = DecisionTreeClassifier(max_depth=1)\n",
    "        self.base_estimator = base_estimator\n",
    "        self.estimator_errors_ = []\n",
    "        self.observation_weights_ = {}\n",
    "        \n",
    "    def fit(self, df: pd.DataFrame, X_columns: str, y_column: str):\n",
    "        \"\"\"\n",
    "        param df: Training dataframe with shape (n_samples, )\n",
    "        param X_columns: pattern matching DataFrame column names that contain the features\n",
    "        param y_column: name of DataFrame column name with the labels\n",
    "        \"\"\"\n",
    "        \n",
    "        # Initialize observation weights as 1/N where N is total `n_samples`\n",
    "        N = df.shape[0]\n",
    "        w = {epoch: 1/N for epoch in df.index}\n",
    "        \n",
    "        # `undersampling_n` elements to sample from each class, equal #samples minority class\n",
    "        self.createLabelDict(np.unique(df[y_column]))\n",
    "        k = len(self.classes)\n",
    "        undersampling_n = min(df[y_column].value_counts())\n",
    "\n",
    "        # Get whole dataset samples to later calculate the weighting factors on every iteration\n",
    "        X = df.filter(regex=(X_columns)).values\n",
    "        y = df[y_column].values\n",
    "        \n",
    "        # M iterations (#WeakLearners)\n",
    "        for m in range(self.n_estimators):\n",
    "            \n",
    "        # 1) Random UnderSampling\n",
    "            df_ = pd.DataFrame()\n",
    "            for label_ in self.classes:\n",
    "                # Quizas muestrear usando la inversa de los pesos (.sample(weights=1/w)) para hacer overfit en los casos con menos error == underfit\n",
    "                df_ = pd.concat([ df_, df[ df[y_column]==label_ ].sample(undersampling_n, replace=False) ])\n",
    "            \n",
    "            # Indices are dates in integer format\n",
    "            w_ = np.array([w[epoch] for epoch in df_.index])\n",
    "\n",
    "            X_ = df_.filter(regex=(X_columns)).values\n",
    "            y_ = df_[y_column].values\n",
    "\n",
    "        # 2) WeakLearner training\n",
    "            Gm = base.clone(self.base_estimator).\\\n",
    "                            fit(X_,y_,sample_weight=w_).predict\n",
    "        \n",
    "        # 3) Error-rate computation\n",
    "            incorrect = Gm(X) != y\n",
    "            errM = np.average(incorrect,weights=list(w.values()),axis=0)\n",
    "            self.estimator_errors_.append(errM)\n",
    "        \n",
    "        # 4) WeakLearner weight for ensemble computation [errM < (k-1)/k]\n",
    "            BetaM = np.log((1-errM)/errM)+np.log(k-1)            \n",
    "            self.models[m] = (BetaM,Gm)\n",
    "\n",
    "        # 5) Observation weights update for next iteration with weights normalization\n",
    "            norm_ = 0\n",
    "            w_ = np.array(list(w.values()))\n",
    "            positive_mask = w_ > 0\n",
    "            w_ *= np.exp(self.learning_rate* BetaM*(incorrect * positive_mask))\n",
    "            for i, epoch in enumerate(w.keys()):\n",
    "                w[epoch] = w_[i]\n",
    "                norm_ += w_[i]\n",
    "            for epoch in w.keys():\n",
    "                w[epoch] /= norm_\n",
    "        \n",
    "        self.observation_weights_ = w\n",
    "        return self\n",
    "            \n",
    "    def createLabelDict(self,classes):\n",
    "        self.labelDict = {}\n",
    "        self.classes = classes\n",
    "        for i,cl in enumerate(classes):\n",
    "            self.labelDict[cl] = i\n",
    "\n",
    "    def predict(self,X):\n",
    "        k = len(self.classes)\n",
    "        Bms_ = [Bm for Bm,_ in self.models]\n",
    "        prob_matrix = np.full((X.shape[0],k), -sum(Bms_)/(k-1))\n",
    "        \n",
    "        # Obtain the predicted index array with shape (#obs,#weak_learners)\n",
    "        iTL = np.vectorize(labelToIndex)\n",
    "        y_pred = np.stack([iTL(Gm(X),self) for _,Gm in self.models], axis=-1)\n",
    "\n",
    "        # Weight the indices count using Bm associated to each weak_learner\n",
    "        prob_matrix += np.apply_along_axis(lambda x: np.bincount(x, weights=Bms_, minlength=k), axis=1, arr=y_pred)*k/(k-1)\n",
    "        \n",
    "        iTL = np.vectorize(indexToLabel)\n",
    "        return iTL(np.argmax(prob_matrix,axis=1),self)"
   ]
  },
  {
   "cell_type": "markdown",
   "metadata": {
    "id": "ufAzojIniPjV"
   },
   "source": [
    "**Algorithm implementation M2**"
   ]
  },
  {
   "cell_type": "code",
   "execution_count": 19,
   "metadata": {
    "id": "wvGE01esiNX8"
   },
   "outputs": [],
   "source": [
    "def labelToIndex(cl,clf):\n",
    "    return clf.labelDict[cl]\n",
    "\n",
    "def indexToLabel(i,clf):\n",
    "    return clf.classes[i]\n",
    "\n",
    "class RUSBoostClassifier_:\n",
    "    \n",
    "    def __init__(self,base_estimator=None,n_estimators=50,learning_rate=1.0):\n",
    "        print(\"M2 Implementation of RUSBoost\")\n",
    "        self.n_estimators = n_estimators\n",
    "        self.learning_rate = learning_rate\n",
    "        self.models = []\n",
    "        if base_estimator == None:\n",
    "            base_estimator = DecisionTreeClassifier(max_depth=1)\n",
    "        self.base_estimator = base_estimator\n",
    "        self.estimator_errors_ = []\n",
    "        self.observation_weights_ = {}\n",
    "\n",
    "    def fit(self, df: pd.DataFrame, X_columns: str, y_column: str):\n",
    "        \"\"\"\n",
    "        param df: Training dataframe with shape (n_samples, )\n",
    "        param X_columns: pattern matching DataFrame column names that contain the features\n",
    "        param y_column: name of DataFrame column name with the labels\n",
    "        \"\"\"        \n",
    "        \n",
    "        # Class labels mapping to indices\n",
    "        self.createLabelDict(np.unique(df[y_column]))\n",
    "        k = len(self.classes)\n",
    "        # `undersampling_n` elements to sample from each class, equal #samples minority class\n",
    "        undersampling_n = min(df[y_column].value_counts())\n",
    "\n",
    "        # Initialize observation weights as 1/(N*(k-1)) where N is total `n_samples` and k is the numebr of classes\n",
    "        N = df.shape[0]\n",
    "        B = N*(k-1)\n",
    "        D = {epoch: np.full(k-1,1/B) for epoch in df.index}\n",
    "\n",
    "        # Get whole dataset samples to later calculate the weighting factors on every iteration\n",
    "        X = df.filter(regex=(X_columns)).values\n",
    "        y = df[y_column].values\n",
    "        iTL = np.vectorize(labelToIndex)\n",
    "        y_indices = iTL(y,self)\n",
    "        \n",
    "        # M iterations (#WeakLearners)\n",
    "        for m in range(self.n_estimators):\n",
    "\n",
    "        # 1) Random UnderSampling\n",
    "            df_ = pd.DataFrame()\n",
    "            for label_ in self.classes:\n",
    "                # Quizas muestrear usando la inversa de los pesos (.sample(weights=1/w)) para hacer overfit en los casos con menos error == underfit\n",
    "                df_ = pd.concat([ df_, df[ df[y_column]==label_ ].sample(undersampling_n, replace=False) ])\n",
    "\n",
    "            \n",
    "            # Training data initalization\n",
    "            X_ = df_.filter(regex=(X_columns)).values\n",
    "            y_ = df_[y_column].values\n",
    "            D_ = np.sum([D[epoch] for epoch in df_.index], axis=-1)\n",
    "\n",
    "        # 2) WeakLearner training\n",
    "            Gm = base.clone(self.base_estimator).\\\n",
    "                            fit(X_,y_,sample_weight=D_).predict_proba\n",
    "            self.models.append(Gm)\n",
    "        \n",
    "        # 3) Error-rate computation\n",
    "            predictions_proba = Gm(X)\n",
    "            sum_pseudolosses = 0\n",
    "            for i, epoch in enumerate(D.keys()):\n",
    "                k_index = 0\n",
    "                for cl in range(k):\n",
    "                    if cl != y_indices[i]:\n",
    "                        sum_pseudolosses += D[epoch][k_index]*(1-predictions_proba[i,y_indices[i]]+predictions_proba[i,cl])\n",
    "                        k_index += 1\n",
    "\n",
    "            error = 0.5 * sum_pseudolosses\n",
    "            self.estimator_errors_.append(error)\n",
    "        \n",
    "        # 4) WeakLearner weight for ensemble computation\n",
    "            BetaM = error/(1-error)\n",
    "            self.models[m] = (BetaM,Gm)\n",
    "\n",
    "        # 5) Observation weights update for next iteration with weights normalization\n",
    "            norm_ = 0\n",
    "            for i, epoch in enumerate(D.keys()):\n",
    "                k_index = 0\n",
    "                for cl in range(k):\n",
    "                    if cl != y_indices[i]:\n",
    "                        w_ = 0.5*(1+predictions_proba[i,y_indices[i]]-predictions_proba[i,cl])\n",
    "                        D[epoch][k_index] *= BetaM**(self.learning_rate*w_)\n",
    "                        norm_ += D[epoch][k_index]\n",
    "                        k_index += 1\n",
    "            for epoch in D.keys():\n",
    "                D[epoch] /= norm_\n",
    "        \n",
    "        self.observation_weights_ = D\n",
    "        \n",
    "        return self\n",
    "            \n",
    "    def createLabelDict(self,classes):\n",
    "        self.labelDict = {}\n",
    "        self.classes = classes\n",
    "        for i,cl in enumerate(classes):\n",
    "            self.labelDict[cl] = i\n",
    "    \n",
    "    def predict(self,X):\n",
    "        sum_model_hypothesis = np.sum(np.stack([-np.log(Bm)*Gm(X) for Bm,Gm in self.models], axis=-1), axis=-1)\n",
    "        iTL = np.vectorize(indexToLabel)            \n",
    "        return iTL(np.argmax(sum_model_hypothesis,axis=1),self)\n"
   ]
  },
  {
   "cell_type": "markdown",
   "metadata": {
    "id": "0-sWClA_oG-s",
    "jp-MarkdownHeadingCollapsed": true,
    "tags": []
   },
   "source": [
    "### **NO FEATURE ENGINEERING SAMME**"
   ]
  },
  {
   "cell_type": "code",
   "execution_count": null,
   "metadata": {
    "colab": {
     "base_uri": "https://localhost:8080/"
    },
    "id": "mYPP7uf-rlIw",
    "outputId": "3b780349-5ed7-4f89-c5c0-15999bc76c09"
   },
   "outputs": [
    {
     "name": "stdout",
     "output_type": "stream",
     "text": [
      "LINK 5\n",
      "SAMME Implementation of RUSBoost\n",
      "\tLOS 1: Recall 88.13%\n",
      "\tLOS 2: Recall 67.61%\n",
      "\tLOS 3: Recall 41.42%\n",
      "\tLOS 4: Recall 30.92%\n",
      "\tLOS 5: Recall 58.25%\n",
      "\tLOS 6: Recall 65.74%\n",
      "LINK 6\n",
      "SAMME Implementation of RUSBoost\n",
      "\tLOS 1: Recall 88.83%\n",
      "\tLOS 2: Recall 70.36%\n",
      "\tLOS 3: Recall 42.64%\n",
      "\tLOS 4: Recall 27.05%\n",
      "\tLOS 5: Recall 69.26%\n",
      "\tLOS 6: Recall 50.12%\n",
      "LINK 7\n",
      "SAMME Implementation of RUSBoost\n",
      "\tLOS 1: Recall 89.03%\n",
      "\tLOS 2: Recall 71.48%\n",
      "\tLOS 3: Recall 63.45%\n",
      "\tLOS 4: Recall 8.46%\n",
      "\tLOS 5: Recall 33.53%\n",
      "\tLOS 6: Recall 67.8%\n",
      "LINK 8\n",
      "SAMME Implementation of RUSBoost\n",
      "\tLOS 1: Recall 96.62%\n",
      "\tLOS 2: Recall 71.89%\n",
      "\tLOS 3: Recall 68.17%\n",
      "\tLOS 4: Recall 48.21%\n",
      "\tLOS 5: Recall 0.0%\n",
      "\tLOS 6: Recall 75.66%\n",
      "LINK 9\n",
      "SAMME Implementation of RUSBoost\n",
      "\tLOS 1: Recall 93.38%\n",
      "\tLOS 2: Recall 78.64%\n",
      "\tLOS 3: Recall 57.15%\n",
      "\tLOS 4: Recall 54.06%\n",
      "\tLOS 5: Recall 11.67%\n",
      "\tLOS 6: Recall 63.17%\n",
      "LINK 10\n",
      "SAMME Implementation of RUSBoost\n",
      "\tLOS 1: Recall 93.11%\n",
      "\tLOS 2: Recall 72.25%\n",
      "\tLOS 3: Recall 54.19%\n",
      "\tLOS 4: Recall 40.77%\n",
      "\tLOS 5: Recall 44.75%\n",
      "\tLOS 6: Recall 56.02%\n"
     ]
    }
   ],
   "source": [
    "for LINK in range(5,11):\n",
    "    print(f\"LINK {LINK}\")\n",
    "    filename = f'{ROOT}/models/RUSBoost_{PREDICTED_MINUTES_AHEAD}m_SAMME_nofeat_link{LINK}.joblib'\n",
    "\n",
    "    model = RUSBoostClassifier_(base_estimator=DecisionTreeClassifier(max_depth=3), n_estimators=60, learning_rate=0.3).fit(training_df[training_df['link_id'] == LINK], 'tt_arr$', 'LOS_dep')\n",
    "    joblib.dump(model, filename)\n",
    "\n",
    "    for LOS in range(1,7):\n",
    "        X_test = validation_df[(validation_df['link_id'] == LINK) & (validation_df['LOS_dep'] == LOS)]['tt_arr'].values.reshape(-1, 1)\n",
    "        y_pred = model.predict(X_test)\n",
    "\n",
    "        score = metrics.recall_score([LOS]*len(y_pred), y_pred, average='micro')\n",
    "        print(f\"\\tLOS {LOS}: Recall {round(score*100, 2) }%\")"
   ]
  },
  {
   "cell_type": "code",
   "execution_count": null,
   "metadata": {
    "colab": {
     "base_uri": "https://localhost:8080/",
     "height": 472
    },
    "id": "CubsFZ5p1h8I",
    "outputId": "5ebb646f-8bdc-4ca7-838d-fe52809dfcf2"
   },
   "outputs": [
    {
     "data": {
      "image/png": "[encoded data removed]",
      "text/plain": [
       "<Figure size 640x480 with 1 Axes>"
      ]
     },
     "metadata": {},
     "output_type": "display_data"
    }
   ],
   "source": [
    "fig, ax = plt.subplots()\n",
    "\n",
    "ax.plot(np.arange(len(model.observation_weights_)), model.observation_weights_.values())\n",
    "\n",
    "tmp = training_df[training_df['link_id'] == LINK]\n",
    "ax.plot(np.arange(len(model.observation_weights_)), np.array(list(model.observation_weights_.values()))*np.array(tmp['LOS_dep'] == 6).astype(np.int8).astype(np.int8))\n",
    "\n",
    "ax.set(xlabel='Observation', ylabel='weight',\n",
    "       title='Weight per observation')\n",
    "ax.grid()\n",
    "plt.show()"
   ]
  },
  {
   "cell_type": "code",
   "execution_count": null,
   "metadata": {
    "colab": {
     "base_uri": "https://localhost:8080/",
     "height": 472
    },
    "id": "fzFBi1h7q_EO",
    "outputId": "848687ae-deee-43c3-c9b1-ffccf89b32fc"
   },
   "outputs": [
    {
     "data": {
      "image/png": "[encoded data removed]",
      "text/plain": [
       "<Figure size 640x480 with 1 Axes>"
      ]
     },
     "metadata": {},
     "output_type": "display_data"
    }
   ],
   "source": [
    "fig, ax = plt.subplots()\n",
    "ax.plot(np.arange(model.n_estimators), model.estimator_errors_)\n",
    "\n",
    "ax.set(xlabel='#Estimator', ylabel='Estimation error',\n",
    "       title='Evolution of errors training estimators')\n",
    "ax.grid()\n",
    "plt.show()"
   ]
  },
  {
   "cell_type": "markdown",
   "metadata": {
    "id": "Z8T8KoJtliq5",
    "jp-MarkdownHeadingCollapsed": true,
    "tags": []
   },
   "source": [
    "### **NO FEATURE ENGINEERING M2**"
   ]
  },
  {
   "cell_type": "code",
   "execution_count": null,
   "metadata": {
    "colab": {
     "base_uri": "https://localhost:8080/"
    },
    "id": "oqF7lfLMlpOp",
    "outputId": "61226b7f-eda0-44bc-9116-6a4b60a97e49"
   },
   "outputs": [
    {
     "name": "stdout",
     "output_type": "stream",
     "text": [
      "LINK 5\n",
      "M2 Implementation of RUSBoost\n",
      "\tLOS 1: Recall 87.25%\n",
      "\tLOS 2: Recall 72.06%\n",
      "\tLOS 3: Recall 45.84%\n",
      "\tLOS 4: Recall 38.24%\n",
      "\tLOS 5: Recall 42.83%\n",
      "\tLOS 6: Recall 72.0%\n",
      "LINK 6\n",
      "M2 Implementation of RUSBoost\n",
      "\tLOS 1: Recall 86.87%\n",
      "\tLOS 2: Recall 70.26%\n",
      "\tLOS 3: Recall 57.05%\n",
      "\tLOS 4: Recall 47.57%\n",
      "\tLOS 5: Recall 50.5%\n",
      "\tLOS 6: Recall 50.12%\n",
      "LINK 7\n",
      "M2 Implementation of RUSBoost\n",
      "\tLOS 1: Recall 87.91%\n",
      "\tLOS 2: Recall 74.31%\n",
      "\tLOS 3: Recall 60.87%\n",
      "\tLOS 4: Recall 20.57%\n",
      "\tLOS 5: Recall 36.98%\n",
      "\tLOS 6: Recall 60.86%\n",
      "LINK 8\n",
      "M2 Implementation of RUSBoost\n",
      "\tLOS 1: Recall 93.63%\n",
      "\tLOS 2: Recall 69.7%\n",
      "\tLOS 3: Recall 76.79%\n",
      "\tLOS 4: Recall 42.32%\n",
      "\tLOS 5: Recall 28.33%\n",
      "\tLOS 6: Recall 59.14%\n",
      "LINK 9\n",
      "M2 Implementation of RUSBoost\n",
      "\tLOS 1: Recall 92.75%\n",
      "\tLOS 2: Recall 73.63%\n",
      "\tLOS 3: Recall 64.74%\n",
      "\tLOS 4: Recall 56.72%\n",
      "\tLOS 5: Recall 42.48%\n",
      "\tLOS 6: Recall 49.29%\n",
      "LINK 10\n",
      "M2 Implementation of RUSBoost\n",
      "\tLOS 1: Recall 93.11%\n",
      "\tLOS 2: Recall 72.25%\n",
      "\tLOS 3: Recall 49.54%\n",
      "\tLOS 4: Recall 46.97%\n",
      "\tLOS 5: Recall 42.27%\n",
      "\tLOS 6: Recall 66.14%\n"
     ]
    }
   ],
   "source": [
    "for LINK in range(5,11):\n",
    "    print(f\"LINK {LINK}\")\n",
    "    filename = f'{ROOT}/models/RUSBoost_{PREDICTED_MINUTES_AHEAD}m_M2_nofeat_link{LINK}.joblib'\n",
    "\n",
    "    model = RUSBoostClassifier_(base_estimator=DecisionTreeClassifier(max_depth=3), n_estimators=60, learning_rate=0.3).fit(training_df[training_df['link_id'] == LINK], 'tt_arr$', 'LOS_dep')\n",
    "    joblib.dump(model, filename)\n",
    "\n",
    "    for LOS in range(1,7):\n",
    "        X_test = validation_df[(validation_df['link_id'] == LINK) & (validation_df['LOS_dep'] == LOS)]['tt_arr'].values.reshape(-1, 1)\n",
    "        y_pred = model.predict(X_test)\n",
    "\n",
    "        score = metrics.recall_score([LOS]*len(y_pred), y_pred, average='micro')\n",
    "        print(f\"\\tLOS {LOS}: Recall {round(score*100, 2) }%\")"
   ]
  },
  {
   "cell_type": "code",
   "execution_count": null,
   "metadata": {
    "colab": {
     "base_uri": "https://localhost:8080/",
     "height": 472
    },
    "id": "x6zbR-vhlrsx",
    "outputId": "4cc16337-c95d-44de-dbe4-1562486d8c42"
   },
   "outputs": [
    {
     "data": {
      "image/png": "[encoded data removed]",
      "text/plain": [
       "<Figure size 640x480 with 1 Axes>"
      ]
     },
     "metadata": {},
     "output_type": "display_data"
    }
   ],
   "source": [
    "fig, ax = plt.subplots()\n",
    "ax.plot(np.arange(model.n_estimators), model.estimator_errors_)\n",
    "\n",
    "ax.set(xlabel='#Estimator', ylabel='Estimation error',\n",
    "       title='Evolution of errors training estimators')\n",
    "ax.grid()\n",
    "plt.show()"
   ]
  },
  {
   "cell_type": "markdown",
   "metadata": {
    "id": "9Dm-Rr2LryUa",
    "jp-MarkdownHeadingCollapsed": true,
    "tags": []
   },
   "source": [
    "## Feature engineering SAMME"
   ]
  },
  {
   "cell_type": "markdown",
   "metadata": {
    "id": "5GwdnL80wEtn"
   },
   "source": [
    "### **FEATURE ENGINEERING ADJACENT LINK INFORMATION**"
   ]
  },
  {
   "cell_type": "markdown",
   "metadata": {
    "id": "SX6uOIxdwEtp"
   },
   "source": [
    "*Features creation*\n",
    "\n",
    "For each link, the tt_arrival of the other links are added as features. Therefore we will be using 6 features in total."
   ]
  },
  {
   "cell_type": "code",
   "execution_count": 18,
   "metadata": {
    "id": "lG3lIJ4Swav-"
   },
   "outputs": [
    {
     "name": "stdout",
     "output_type": "stream",
     "text": [
      "LINK 5\n",
      "SAMME Implementation of RUSBoost\n",
      "\tLOS 1: Recall 87.36%\n",
      "\tLOS 2: Recall 29.26%\n",
      "\tLOS 3: Recall 65.32%\n",
      "\tLOS 4: Recall 31.23%\n",
      "\tLOS 5: Recall 28.09%\n",
      "\tLOS 6: Recall 83.83%\n",
      "LINK 6\n",
      "SAMME Implementation of RUSBoost\n",
      "\tLOS 1: Recall 89.35%\n",
      "\tLOS 2: Recall 70.61%\n",
      "\tLOS 3: Recall 49.2%\n",
      "\tLOS 4: Recall 12.59%\n",
      "\tLOS 5: Recall 65.4%\n",
      "\tLOS 6: Recall 50.93%\n",
      "LINK 7\n",
      "SAMME Implementation of RUSBoost\n",
      "\tLOS 1: Recall 93.8%\n",
      "\tLOS 2: Recall 70.75%\n",
      "\tLOS 3: Recall 56.11%\n",
      "\tLOS 4: Recall 5.8%\n",
      "\tLOS 5: Recall 45.81%\n",
      "\tLOS 6: Recall 55.5%\n",
      "LINK 8\n",
      "SAMME Implementation of RUSBoost\n",
      "\tLOS 1: Recall 94.93%\n",
      "\tLOS 2: Recall 70.43%\n",
      "\tLOS 3: Recall 68.53%\n",
      "\tLOS 4: Recall 11.32%\n",
      "\tLOS 5: Recall 55.29%\n",
      "\tLOS 6: Recall 60.94%\n",
      "LINK 9\n",
      "SAMME Implementation of RUSBoost\n",
      "\tLOS 1: Recall 91.54%\n",
      "\tLOS 2: Recall 76.04%\n",
      "\tLOS 3: Recall 62.64%\n",
      "\tLOS 4: Recall 25.31%\n",
      "\tLOS 5: Recall 28.29%\n",
      "\tLOS 6: Recall 53.26%\n",
      "LINK 10\n",
      "SAMME Implementation of RUSBoost\n",
      "\tLOS 1: Recall 93.25%\n",
      "\tLOS 2: Recall 71.68%\n",
      "\tLOS 3: Recall 43.59%\n",
      "\tLOS 4: Recall 41.53%\n",
      "\tLOS 5: Recall 34.22%\n",
      "\tLOS 6: Recall 71.26%\n"
     ]
    }
   ],
   "source": [
    "for LINK in range(5,11):\n",
    "    print(f\"LINK {LINK}\")\n",
    "    filename = f'{ROOT}/models/RUSBoost_{PREDICTED_MINUTES_AHEAD}m_SAMME_adjacent_link{LINK}.joblib'\n",
    "\n",
    "    other_links = [5,6,7,8,9,10]; other_links.remove(LINK)\n",
    "    training_df_link = training_df.copy()\n",
    "    training_df_link = training_df_link[training_df_link['link_id'] == LINK]\n",
    "\n",
    "    for other_link in other_links:\n",
    "        training_df_link = pd.merge(training_df_link, training_df[training_df['link_id'] == other_link].filter(regex=(\"tt_ar[^-]+$\")), on=['date'], how='inner', suffixes=[None, f'_{other_link}'])\n",
    "\n",
    "    model = RUSBoostClassifier_(base_estimator=DecisionTreeClassifier(max_depth=3), n_estimators=60, learning_rate=0.3).fit(training_df_link, \"tt_ar[^-]+$\", 'LOS_dep')\n",
    "    joblib.dump(model, filename)\n",
    "\n",
    "    for LOS in range(1,7):\n",
    "        validation_df_link = validation_df[(validation_df['link_id'] == LINK) & (validation_df['LOS_dep'] == LOS)].copy()\n",
    "        for other_link in other_links:\n",
    "            validation_df_link = pd.merge(validation_df_link, validation_df[validation_df['link_id'] == other_link].filter(regex=(\"tt_ar[^-]+$\")), on=['date'], how='inner', suffixes=[None, f'_{other_link}'])\n",
    "        X_test = validation_df_link.filter(regex=(\"tt_ar[^-]+$\")).values\n",
    "        y_pred = model.predict(X_test)\n",
    "\n",
    "        score = metrics.recall_score([LOS]*len(y_pred), y_pred, average='micro')\n",
    "        print(f\"\\tLOS {LOS}: Recall {round(score*100, 2) }%\")"
   ]
  },
  {
   "cell_type": "markdown",
   "metadata": {
    "id": "sOP6-k1pNP3l",
    "tags": []
   },
   "source": [
    "### **FEATURE ENGINEERING ADJACENT LINK INFORMATION + TEMPORAL INFORMATION (UP TO PREVIOUS 45MIN)**"
   ]
  },
  {
   "cell_type": "markdown",
   "metadata": {
    "id": "rxNerGt4wTQW"
   },
   "source": [
    "*Features creation*\n",
    "\n",
    "For each link, the tt_arrival of the other links, covering the previous 50min from prediction time, are added as features. Therefore we will be using 60 features in total as maximum."
   ]
  },
  {
   "cell_type": "code",
   "execution_count": 17,
   "metadata": {
    "colab": {
     "base_uri": "https://localhost:8080/"
    },
    "id": "M6JecW2nvBMv",
    "outputId": "dc442871-3613-4bf2-f223-8081041cbfc5"
   },
   "outputs": [
    {
     "name": "stdout",
     "output_type": "stream",
     "text": [
      "USING PREVIOUS 45m INFORMATION\n",
      "LINK 5\n",
      "SAMME Implementation of RUSBoost\n",
      "\tLOS 1: Recall 89.51%\n",
      "\tLOS 2: Recall 69.33%\n",
      "\tLOS 3: Recall 35.28%\n",
      "\tLOS 4: Recall 56.28%\n",
      "\tLOS 5: Recall 31.3%\n",
      "\tLOS 6: Recall 71.24%\n",
      "LINK 6\n",
      "SAMME Implementation of RUSBoost\n",
      "\tLOS 1: Recall 92.65%\n",
      "\tLOS 2: Recall 51.45%\n",
      "\tLOS 3: Recall 65.07%\n",
      "\tLOS 4: Recall 44.84%\n",
      "\tLOS 5: Recall 25.62%\n",
      "\tLOS 6: Recall 69.19%\n",
      "LINK 7\n",
      "SAMME Implementation of RUSBoost\n",
      "\tLOS 1: Recall 93.94%\n",
      "\tLOS 2: Recall 61.48%\n",
      "\tLOS 3: Recall 49.83%\n",
      "\tLOS 4: Recall 55.63%\n",
      "\tLOS 5: Recall 9.57%\n",
      "\tLOS 6: Recall 60.08%\n",
      "LINK 8\n",
      "SAMME Implementation of RUSBoost\n",
      "\tLOS 1: Recall 94.37%\n",
      "\tLOS 2: Recall 65.6%\n",
      "\tLOS 3: Recall 48.5%\n",
      "\tLOS 4: Recall 27.25%\n",
      "\tLOS 5: Recall 42.92%\n",
      "\tLOS 6: Recall 59.93%\n",
      "LINK 9\n",
      "SAMME Implementation of RUSBoost\n",
      "\tLOS 1: Recall 91.08%\n",
      "\tLOS 2: Recall 79.46%\n",
      "\tLOS 3: Recall 47.91%\n",
      "\tLOS 4: Recall 45.59%\n",
      "\tLOS 5: Recall 60.36%\n",
      "\tLOS 6: Recall 9.07%\n",
      "LINK 10\n",
      "SAMME Implementation of RUSBoost\n",
      "\tLOS 1: Recall 93.47%\n",
      "\tLOS 2: Recall 72.3%\n",
      "\tLOS 3: Recall 44.89%\n",
      "\tLOS 4: Recall 28.86%\n",
      "\tLOS 5: Recall 42.97%\n",
      "\tLOS 6: Recall 72.42%\n"
     ]
    }
   ],
   "source": [
    "print(f'USING PREVIOUS {INPUT_MINUTES_BEFORE}m INFORMATION')\n",
    "for LINK in range(5,11):\n",
    "    print(f\"LINK {LINK}\")\n",
    "    filename = f'{ROOT}/models/RUSBoost_{PREDICTED_MINUTES_AHEAD}m_SAMME_temp{INPUT_MINUTES_BEFORE}m_link{LINK}.joblib'\n",
    "\n",
    "    other_links = [5,6,7,8,9,10]; other_links.remove(LINK)\n",
    "    training_df_link = training_df.copy()\n",
    "    training_df_link = training_df_link[training_df_link['link_id'] == LINK]\n",
    "\n",
    "    for other_link in other_links:\n",
    "        training_df_link = pd.merge(training_df_link, training_df[training_df['link_id'] == other_link].filter(regex=(\"tt_arr.*\")), on=['date'], how='inner', suffixes=[None, f'_{other_link}'])\n",
    "\n",
    "    model = RUSBoostClassifier_(base_estimator=DecisionTreeClassifier(max_depth=3), n_estimators=60, learning_rate=0.3).fit(training_df_link, \"tt_arr.*\", 'LOS_dep')\n",
    "    joblib.dump(model, filename)\n",
    "\n",
    "    for LOS in range(1,7):\n",
    "        validation_df_link = validation_df[(validation_df['link_id'] == LINK) & (validation_df['LOS_dep'] == LOS)].copy()\n",
    "        for other_link in other_links:\n",
    "            validation_df_link = pd.merge(validation_df_link, validation_df[validation_df['link_id'] == other_link].filter(regex=(\"tt_arr.*\")), on=['date'], how='inner', suffixes=[None, f'_{other_link}'])\n",
    "        X_test = validation_df_link.filter(regex=(\"tt_arr.*\")).values\n",
    "        y_pred = model.predict(X_test)\n",
    "\n",
    "        score = metrics.recall_score([LOS]*len(y_pred), y_pred, average='micro')\n",
    "        print(f\"\\tLOS {LOS}: Recall {round(score*100, 2) }%\")"
   ]
  },
  {
   "cell_type": "markdown",
   "metadata": {
    "id": "OOgz5KTvr6jU"
   },
   "source": [
    "## Feature engineering M2"
   ]
  },
  {
   "cell_type": "markdown",
   "metadata": {
    "id": "mc6_lQUSsKiM",
    "tags": []
   },
   "source": [
    "### **FEATURE ENGINEERING ADJACENT LINK INFORMATION**"
   ]
  },
  {
   "cell_type": "markdown",
   "metadata": {
    "id": "_c5Zd21qsNCy"
   },
   "source": [
    "*Features creation*\n",
    "\n",
    "For each link, the tt_arrival of the other links are added as features. Therefore we will be using 6 features in total."
   ]
  },
  {
   "cell_type": "code",
   "execution_count": 20,
   "metadata": {
    "id": "dKswQdsJsPLO"
   },
   "outputs": [
    {
     "name": "stdout",
     "output_type": "stream",
     "text": [
      "LINK 5\n",
      "M2 Implementation of RUSBoost\n",
      "\tLOS 1: Recall 87.05%\n",
      "\tLOS 2: Recall 72.8%\n",
      "\tLOS 3: Recall 46.02%\n",
      "\tLOS 4: Recall 36.31%\n",
      "\tLOS 5: Recall 45.29%\n",
      "\tLOS 6: Recall 72.0%\n",
      "LINK 6\n",
      "M2 Implementation of RUSBoost\n",
      "\tLOS 1: Recall 87.36%\n",
      "\tLOS 2: Recall 72.6%\n",
      "\tLOS 3: Recall 58.84%\n",
      "\tLOS 4: Recall 48.28%\n",
      "\tLOS 5: Recall 50.5%\n",
      "\tLOS 6: Recall 50.12%\n",
      "LINK 7\n",
      "M2 Implementation of RUSBoost\n",
      "\tLOS 1: Recall 89.07%\n",
      "\tLOS 2: Recall 74.61%\n",
      "\tLOS 3: Recall 61.75%\n",
      "\tLOS 4: Recall 20.38%\n",
      "\tLOS 5: Recall 38.41%\n",
      "\tLOS 6: Recall 61.78%\n",
      "LINK 8\n",
      "M2 Implementation of RUSBoost\n",
      "\tLOS 1: Recall 92.71%\n",
      "\tLOS 2: Recall 73.96%\n",
      "\tLOS 3: Recall 77.77%\n",
      "\tLOS 4: Recall 37.09%\n",
      "\tLOS 5: Recall 34.04%\n",
      "\tLOS 6: Recall 57.82%\n",
      "LINK 9\n",
      "M2 Implementation of RUSBoost\n",
      "\tLOS 1: Recall 93.5%\n",
      "\tLOS 2: Recall 77.14%\n",
      "\tLOS 3: Recall 62.29%\n",
      "\tLOS 4: Recall 58.99%\n",
      "\tLOS 5: Recall 45.43%\n",
      "\tLOS 6: Recall 39.94%\n",
      "LINK 10\n",
      "M2 Implementation of RUSBoost\n",
      "\tLOS 1: Recall 93.19%\n",
      "\tLOS 2: Recall 72.36%\n",
      "\tLOS 3: Recall 49.24%\n",
      "\tLOS 4: Recall 48.07%\n",
      "\tLOS 5: Recall 41.4%\n",
      "\tLOS 6: Recall 66.14%\n"
     ]
    }
   ],
   "source": [
    "for LINK in range(5,11):\n",
    "    print(f\"LINK {LINK}\")\n",
    "    filename = f'{ROOT}/models/RUSBoost_{PREDICTED_MINUTES_AHEAD}m_M2_adjacent_link{LINK}.joblib'\n",
    "\n",
    "    other_links = [5,6,7,8,9,10]; other_links.remove(LINK)\n",
    "    training_df_link = training_df.copy()\n",
    "    training_df_link = training_df_link[training_df_link['link_id'] == LINK]\n",
    "\n",
    "    for other_link in other_links:\n",
    "        training_df_link = pd.merge(training_df_link, training_df[training_df['link_id'] == other_link].filter(regex=(\"tt_ar[^-]+$\")), on=['date'], how='inner', suffixes=[None, f'_{other_link}'])\n",
    "\n",
    "    model = RUSBoostClassifier_(base_estimator=DecisionTreeClassifier(max_depth=3), n_estimators=60, learning_rate=0.3).fit(training_df_link, \"tt_ar[^-]+$\", 'LOS_dep')\n",
    "    joblib.dump(model, filename)\n",
    "\n",
    "    for LOS in range(1,7):\n",
    "        validation_df_link = validation_df[(validation_df['link_id'] == LINK) & (validation_df['LOS_dep'] == LOS)].copy()\n",
    "        for other_link in other_links:\n",
    "            validation_df_link = pd.merge(validation_df_link, validation_df[validation_df['link_id'] == other_link].filter(regex=(\"tt_ar[^-]+$\")), on=['date'], how='inner', suffixes=[None, f'_{other_link}'])\n",
    "        X_test = validation_df_link.filter(regex=(\"tt_ar[^-]+$\")).values\n",
    "        y_pred = model.predict(X_test)\n",
    "\n",
    "        score = metrics.recall_score([LOS]*len(y_pred), y_pred, average='micro')\n",
    "        print(f\"\\tLOS {LOS}: Recall {round(score*100, 2) }%\")"
   ]
  },
  {
   "cell_type": "markdown",
   "metadata": {
    "id": "poTwjhkKsQ62",
    "jp-MarkdownHeadingCollapsed": true,
    "tags": []
   },
   "source": [
    "### **FEATURE ENGINEERING ADJACENT LINK INFORMATION + TEMPORAL INFORMATION (UP TO PREVIOUS 45MIN)**"
   ]
  },
  {
   "cell_type": "markdown",
   "metadata": {
    "id": "LFmqR-o_sTPj"
   },
   "source": [
    "*Features creation*\n",
    "\n",
    "For each link, the tt_arrival of the other links, covering the previous 50min from prediction time, are added as features. Therefore we will be using 60 features in total as maximum."
   ]
  },
  {
   "cell_type": "code",
   "execution_count": 21,
   "metadata": {
    "colab": {
     "base_uri": "https://localhost:8080/"
    },
    "id": "y74FuDnRsVhu",
    "outputId": "11f55f1e-2ccd-44f5-c815-181251dcff05"
   },
   "outputs": [
    {
     "name": "stdout",
     "output_type": "stream",
     "text": [
      "USING PREVIOUS 45m INFORMATION\n",
      "LINK 5\n",
      "M2 Implementation of RUSBoost\n",
      "\tLOS 1: Recall 87.22%\n",
      "\tLOS 2: Recall 72.91%\n",
      "\tLOS 3: Recall 45.85%\n",
      "\tLOS 4: Recall 36.32%\n",
      "\tLOS 5: Recall 45.6%\n",
      "\tLOS 6: Recall 72.0%\n",
      "LINK 6\n",
      "M2 Implementation of RUSBoost\n",
      "\tLOS 1: Recall 87.41%\n",
      "\tLOS 2: Recall 72.34%\n",
      "\tLOS 3: Recall 59.65%\n",
      "\tLOS 4: Recall 47.66%\n",
      "\tLOS 5: Recall 47.72%\n",
      "\tLOS 6: Recall 54.14%\n",
      "LINK 7\n",
      "M2 Implementation of RUSBoost\n",
      "\tLOS 1: Recall 89.17%\n",
      "\tLOS 2: Recall 74.58%\n",
      "\tLOS 3: Recall 61.82%\n",
      "\tLOS 4: Recall 21.12%\n",
      "\tLOS 5: Recall 34.73%\n",
      "\tLOS 6: Recall 61.65%\n",
      "LINK 8\n",
      "M2 Implementation of RUSBoost\n",
      "\tLOS 1: Recall 92.66%\n",
      "\tLOS 2: Recall 76.04%\n",
      "\tLOS 3: Recall 75.85%\n",
      "\tLOS 4: Recall 39.92%\n",
      "\tLOS 5: Recall 33.25%\n",
      "\tLOS 6: Recall 57.82%\n",
      "LINK 9\n",
      "M2 Implementation of RUSBoost\n",
      "\tLOS 1: Recall 92.15%\n",
      "\tLOS 2: Recall 79.04%\n",
      "\tLOS 3: Recall 62.03%\n",
      "\tLOS 4: Recall 58.51%\n",
      "\tLOS 5: Recall 41.64%\n",
      "\tLOS 6: Recall 35.98%\n",
      "LINK 10\n",
      "M2 Implementation of RUSBoost\n",
      "\tLOS 1: Recall 93.15%\n",
      "\tLOS 2: Recall 72.62%\n",
      "\tLOS 3: Recall 49.45%\n",
      "\tLOS 4: Recall 44.04%\n",
      "\tLOS 5: Recall 47.07%\n",
      "\tLOS 6: Recall 67.84%\n"
     ]
    }
   ],
   "source": [
    "print(f'USING PREVIOUS {INPUT_MINUTES_BEFORE}m INFORMATION')\n",
    "for LINK in range(5,11):\n",
    "    print(f\"LINK {LINK}\")\n",
    "    filename = f'{ROOT}/models/RUSBoost_{PREDICTED_MINUTES_AHEAD}m_M2_temp{INPUT_MINUTES_BEFORE}m_link{LINK}.joblib'\n",
    "\n",
    "    other_links = [5,6,7,8,9,10]; other_links.remove(LINK)\n",
    "    training_df_link = training_df.copy()\n",
    "    training_df_link = training_df_link[training_df_link['link_id'] == LINK]\n",
    "\n",
    "    for other_link in other_links:\n",
    "        training_df_link = pd.merge(training_df_link, training_df[training_df['link_id'] == other_link].filter(regex=(\"tt_arr.*\")), on=['date'], how='inner', suffixes=[None, f'_{other_link}'])\n",
    "\n",
    "    model = RUSBoostClassifier_(base_estimator=DecisionTreeClassifier(max_depth=3), n_estimators=60, learning_rate=0.3).fit(training_df_link, \"tt_arr.*\", 'LOS_dep')\n",
    "    joblib.dump(model, filename)\n",
    "\n",
    "    for LOS in range(1,7):\n",
    "        validation_df_link = validation_df[(validation_df['link_id'] == LINK) & (validation_df['LOS_dep'] == LOS)].copy()\n",
    "        for other_link in other_links:\n",
    "            validation_df_link = pd.merge(validation_df_link, validation_df[validation_df['link_id'] == other_link].filter(regex=(\"tt_arr.*\")), on=['date'], how='inner', suffixes=[None, f'_{other_link}'])\n",
    "        X_test = validation_df_link.filter(regex=(\"tt_arr.*\")).values\n",
    "        y_pred = model.predict(X_test)\n",
    "\n",
    "        score = metrics.recall_score([LOS]*len(y_pred), y_pred, average='micro')\n",
    "        print(f\"\\tLOS {LOS}: Recall {round(score*100, 2) }%\")"
   ]
  },
  {
   "cell_type": "markdown",
   "metadata": {
    "id": "SFPlNAf6Lx4j",
    "jp-MarkdownHeadingCollapsed": true,
    "tags": []
   },
   "source": [
    "# **Modified RUSBoost**"
   ]
  },
  {
   "cell_type": "markdown",
   "metadata": {
    "id": "6bhoLHJ_Lx4o",
    "jp-MarkdownHeadingCollapsed": true,
    "tags": []
   },
   "source": [
    "### *Algorithms*"
   ]
  },
  {
   "cell_type": "markdown",
   "metadata": {
    "id": "U6GMHz0WLx4o"
   },
   "source": [
    "**Algorithm implementation M2**"
   ]
  },
  {
   "cell_type": "code",
   "execution_count": 10,
   "metadata": {
    "id": "KYN6IC8LL3Rk"
   },
   "outputs": [],
   "source": [
    "def labelToIndex(cl,clf):\n",
    "    return clf.labelDict[cl]\n",
    "\n",
    "def indexToLabel(i,clf):\n",
    "    return clf.classes[i]\n",
    "\n",
    "class ModifiedRUSBoostClassifier_:\n",
    "    \n",
    "    def __init__(self,base_estimator=None,n_estimators=50,learning_rate=1.0):\n",
    "        print(\"M2 Implementation of MODIFIED RUSBoost\")\n",
    "        self.n_estimators = n_estimators\n",
    "        self.learning_rate = learning_rate\n",
    "        self.models = []\n",
    "        if base_estimator == None:\n",
    "            base_estimator = DecisionTreeClassifier(max_depth=1)\n",
    "        self.base_estimator = base_estimator\n",
    "        self.estimator_errors_ = []\n",
    "        self.observation_weights_ = {}\n",
    "\n",
    "    def fit(self, df: pd.DataFrame, X_columns: str, y_column: str):\n",
    "        \"\"\"\n",
    "        param df: Training dataframe with shape (n_samples, )\n",
    "        param X_columns: pattern matching DataFrame column names that contain the features\n",
    "        param y_column: name of DataFrame column name with the labels\n",
    "        \"\"\"        \n",
    "        \n",
    "        # Class labels mapping to indices\n",
    "        self.createLabelDict(np.unique(df[y_column]))\n",
    "        k = len(self.classes)\n",
    "        # `undersampling_n` elements to sample from each class, equal #samples minority class\n",
    "        undersampling_n = min(df[y_column].value_counts())\n",
    "\n",
    "        # Initialize observation weights as 1/(N*(k-1)) where N is total `n_samples` and k is the number of classes\n",
    "        N = df.shape[0]\n",
    "        B = N*(k-1)\n",
    "        D = {epoch: np.full(k-1,1/B) for epoch in df.index}\n",
    "\n",
    "        # Get whole dataset samples to later calculate the weighting factors on every iteration\n",
    "        X = df.filter(regex=(X_columns)).values\n",
    "        y = df[y_column].values\n",
    "        iTL = np.vectorize(labelToIndex)\n",
    "        y_indices = iTL(y,self)\n",
    "        \n",
    "        # M iterations (#WeakLearners)\n",
    "        for m in range(self.n_estimators):\n",
    "\n",
    "        # 1) Random UnderSampling\n",
    "            df_ = pd.DataFrame()\n",
    "            for label_ in self.classes:\n",
    "                _df_label_ = df[ df[y_column]==label_ ]\n",
    "                if len(_df_label_) <= undersampling_n:\n",
    "                    df_ = pd.concat([ df_, df[ df[y_column]==label_ ] ])\n",
    "                else:\n",
    "                    # Order weights array in decreasing order to select the first `undersampling_n` elements\n",
    "                    _D_ = {epoch: weight for epoch, weight in D.items() if epoch in _df_label_.index}\n",
    "                    _D_ = [epoch for epoch,_ in sorted(_D_.items(), key = lambda x: sum(itemgetter(1)(x)), reverse = True)[:undersampling_n]]\n",
    "                    df_ = pd.concat([ df_, _df_label_.loc[_D_] ])\n",
    "\n",
    "            \n",
    "            # Training data initalization\n",
    "            X_ = df_.filter(regex=(X_columns)).values\n",
    "            y_ = df_[y_column].values\n",
    "            D_ = np.sum([D[epoch] for epoch in df_.index], axis=-1)\n",
    "\n",
    "        # 2) WeakLearner training\n",
    "            Gm = base.clone(self.base_estimator).\\\n",
    "                            fit(X_,y_,sample_weight=D_).predict_proba\n",
    "            self.models.append(Gm)\n",
    "        \n",
    "        # 3) Error-rate computation\n",
    "            predictions_proba = Gm(X)\n",
    "            sum_pseudolosses = 0\n",
    "            for i, epoch in enumerate(D.keys()):\n",
    "                k_index = 0\n",
    "                for cl in range(k):\n",
    "                    if cl != y_indices[i]:\n",
    "                        sum_pseudolosses += D[epoch][k_index]*(1-predictions_proba[i,y_indices[i]]+predictions_proba[i,cl])\n",
    "                        k_index += 1\n",
    "\n",
    "            error = 0.5 * sum_pseudolosses\n",
    "            self.estimator_errors_.append(error)\n",
    "        \n",
    "        # 4) WeakLearner weight for ensemble computation\n",
    "            BetaM = error/(1-error)\n",
    "            self.models[m] = (BetaM,Gm)\n",
    "\n",
    "        # 5) Observation weights update for next iteration with weights normalization\n",
    "            norm_ = 0\n",
    "            for i, epoch in enumerate(D.keys()):\n",
    "                k_index = 0\n",
    "                for cl in range(k):\n",
    "                    if cl != y_indices[i]:\n",
    "                        w_ = 0.5*(1+predictions_proba[i,y_indices[i]]-predictions_proba[i,cl])\n",
    "                        D[epoch][k_index] *= BetaM**(self.learning_rate*w_)\n",
    "                        norm_ += D[epoch][k_index]\n",
    "                        k_index += 1\n",
    "            for epoch in D.keys():\n",
    "                D[epoch] /= norm_\n",
    "\n",
    "        self.observation_weights_ = D\n",
    "        \n",
    "        return self\n",
    "            \n",
    "    def createLabelDict(self,classes):\n",
    "        self.labelDict = {}\n",
    "        self.classes = classes\n",
    "        for i,cl in enumerate(classes):\n",
    "            self.labelDict[cl] = i\n",
    "    \n",
    "    def predict(self,X):\n",
    "        sum_model_hypothesis = np.sum(np.stack([-np.log(Bm)*Gm(X) for Bm,Gm in self.models], axis=-1), axis=-1)\n",
    "        iTL = np.vectorize(indexToLabel)            \n",
    "        return iTL(np.argmax(sum_model_hypothesis,axis=1),self)"
   ]
  },
  {
   "cell_type": "markdown",
   "metadata": {
    "id": "Z8T8KoJtliq5",
    "tags": []
   },
   "source": [
    "### **NO FEATURE ENGINEERING M2**"
   ]
  },
  {
   "cell_type": "code",
   "execution_count": 11,
   "metadata": {},
   "outputs": [
    {
     "name": "stdout",
     "output_type": "stream",
     "text": [
      "LINK 5\n",
      "M2 Implementation of MODIFIED RUSBoost\n",
      "\tLOS 1: Recall 96.63%\n",
      "\tLOS 2: Recall 63.9%\n",
      "\tLOS 3: Recall 16.12%\n",
      "\tLOS 4: Recall 7.13%\n",
      "\tLOS 5: Recall 14.34%\n",
      "\tLOS 6: Recall 58.11%\n",
      "LINK 6\n",
      "M2 Implementation of MODIFIED RUSBoost\n",
      "\tLOS 1: Recall 19.14%\n",
      "\tLOS 2: Recall 65.5%\n",
      "\tLOS 3: Recall 5.33%\n",
      "\tLOS 4: Recall 78.15%\n",
      "\tLOS 5: Recall 29.86%\n",
      "\tLOS 6: Recall 0.0%\n",
      "LINK 7\n",
      "M2 Implementation of MODIFIED RUSBoost\n",
      "\tLOS 1: Recall 94.51%\n",
      "\tLOS 2: Recall 0.0%\n",
      "\tLOS 3: Recall 0.07%\n",
      "\tLOS 4: Recall 0.0%\n",
      "\tLOS 5: Recall 0.0%\n",
      "\tLOS 6: Recall 0.13%\n",
      "LINK 8\n",
      "M2 Implementation of MODIFIED RUSBoost\n",
      "\tLOS 1: Recall 90.66%\n",
      "\tLOS 2: Recall 70.75%\n",
      "\tLOS 3: Recall 83.57%\n",
      "\tLOS 4: Recall 19.79%\n",
      "\tLOS 5: Recall 0.0%\n",
      "\tLOS 6: Recall 0.0%\n",
      "LINK 9\n",
      "M2 Implementation of MODIFIED RUSBoost\n",
      "\tLOS 1: Recall 88.93%\n",
      "\tLOS 2: Recall 0.69%\n",
      "\tLOS 3: Recall 0.0%\n",
      "\tLOS 4: Recall 4.23%\n",
      "\tLOS 5: Recall 0.0%\n",
      "\tLOS 6: Recall 0.0%\n",
      "LINK 10\n",
      "M2 Implementation of MODIFIED RUSBoost\n",
      "\tLOS 1: Recall 93.21%\n",
      "\tLOS 2: Recall 73.31%\n",
      "\tLOS 3: Recall 48.1%\n",
      "\tLOS 4: Recall 1.3%\n",
      "\tLOS 5: Recall 42.38%\n",
      "\tLOS 6: Recall 0.0%\n"
     ]
    }
   ],
   "source": [
    "for LINK in range(5,11):\n",
    "    print(f\"LINK {LINK}\")\n",
    "    filename = f'{ROOT}/models/ModifiedRUSBoost_{PREDICTED_MINUTES_AHEAD}m_M2_nofeat_link{LINK}.joblib'\n",
    "\n",
    "    model = ModifiedRUSBoostClassifier_(base_estimator=DecisionTreeClassifier(max_depth=3), n_estimators=60, learning_rate=0.3).fit(training_df[training_df['link_id'] == LINK], \"tt_arr$\", 'LOS_dep')\n",
    "    joblib.dump(model, filename)\n",
    "\n",
    "    for LOS in range(1,7):\n",
    "        X_test = validation_df[(validation_df['link_id'] == LINK) & (validation_df['LOS_dep'] == LOS)]['tt_arr'].values.reshape(-1, 1)\n",
    "        y_pred = model.predict(X_test)\n",
    "\n",
    "        score = metrics.recall_score([LOS]*len(y_pred), y_pred, average='micro')\n",
    "        print(f\"\\tLOS {LOS}: Recall {round(score*100, 2) }%\")"
   ]
  },
  {
   "cell_type": "markdown",
   "metadata": {
    "id": "mc6_lQUSsKiM",
    "tags": []
   },
   "source": [
    "### **FEATURE ENGINEERING ADJACENT LINK INFORMATION**"
   ]
  },
  {
   "cell_type": "code",
   "execution_count": 12,
   "metadata": {},
   "outputs": [
    {
     "name": "stdout",
     "output_type": "stream",
     "text": [
      "LINK 5\n",
      "M2 Implementation of MODIFIED RUSBoost\n",
      "\tLOS 1: Recall 90.76%\n",
      "\tLOS 2: Recall 0.0%\n",
      "\tLOS 3: Recall 18.13%\n",
      "\tLOS 4: Recall 40.67%\n",
      "\tLOS 5: Recall 0.0%\n",
      "\tLOS 6: Recall 0.15%\n",
      "LINK 6\n",
      "M2 Implementation of MODIFIED RUSBoost\n",
      "\tLOS 1: Recall 17.82%\n",
      "\tLOS 2: Recall 78.2%\n",
      "\tLOS 3: Recall 0.03%\n",
      "\tLOS 4: Recall 78.64%\n",
      "\tLOS 5: Recall 0.44%\n",
      "\tLOS 6: Recall 0.0%\n",
      "LINK 7\n",
      "M2 Implementation of MODIFIED RUSBoost\n",
      "\tLOS 1: Recall 34.79%\n",
      "\tLOS 2: Recall 81.55%\n",
      "\tLOS 3: Recall 61.51%\n",
      "\tLOS 4: Recall 1.85%\n",
      "\tLOS 5: Recall 0.0%\n",
      "\tLOS 6: Recall 0.0%\n",
      "LINK 8\n",
      "M2 Implementation of MODIFIED RUSBoost\n",
      "\tLOS 1: Recall 58.74%\n",
      "\tLOS 2: Recall 70.88%\n",
      "\tLOS 3: Recall 83.6%\n",
      "\tLOS 4: Recall 19.75%\n",
      "\tLOS 5: Recall 0.0%\n",
      "\tLOS 6: Recall 0.0%\n",
      "LINK 9\n",
      "M2 Implementation of MODIFIED RUSBoost\n",
      "\tLOS 1: Recall 41.5%\n",
      "\tLOS 2: Recall 13.31%\n",
      "\tLOS 3: Recall 42.54%\n",
      "\tLOS 4: Recall 78.53%\n",
      "\tLOS 5: Recall 11.57%\n",
      "\tLOS 6: Recall 0.57%\n",
      "LINK 10\n",
      "M2 Implementation of MODIFIED RUSBoost\n",
      "\tLOS 1: Recall 87.03%\n",
      "\tLOS 2: Recall 1.97%\n",
      "\tLOS 3: Recall 0.0%\n",
      "\tLOS 4: Recall 0.95%\n",
      "\tLOS 5: Recall 0.33%\n",
      "\tLOS 6: Recall 2.64%\n"
     ]
    }
   ],
   "source": [
    "for LINK in range(5,11):\n",
    "    print(f\"LINK {LINK}\")\n",
    "    filename = f'{ROOT}/models/ModifiedRUSBoost_{PREDICTED_MINUTES_AHEAD}m_M2_adjacent_linkm_link{LINK}.joblib'\n",
    "\n",
    "    other_links = [5,6,7,8,9,10]; other_links.remove(LINK)\n",
    "    training_df_link = training_df.copy()\n",
    "    training_df_link = training_df_link[training_df_link['link_id'] == LINK]\n",
    "\n",
    "    for other_link in other_links:\n",
    "        training_df_link = pd.merge(training_df_link, training_df[training_df['link_id'] == other_link].filter(regex=(\"tt_ar[^-]+$\")), on=['date'], how='inner', suffixes=[None, f'_{other_link}'])\n",
    "\n",
    "    model = ModifiedRUSBoostClassifier_(base_estimator=DecisionTreeClassifier(max_depth=3), n_estimators=60, learning_rate=0.3).fit(training_df_link, \"tt_ar[^-]+$\", 'LOS_dep')\n",
    "    joblib.dump(model, filename)\n",
    "\n",
    "    for LOS in range(1,7):\n",
    "        validation_df_link = validation_df[(validation_df['link_id'] == LINK) & (validation_df['LOS_dep'] == LOS)].copy()\n",
    "        for other_link in other_links:\n",
    "            validation_df_link = pd.merge(validation_df_link, validation_df[validation_df['link_id'] == other_link].filter(regex=(\"tt_ar[^-]+$\")), on=['date'], how='inner', suffixes=[None, f'_{other_link}'])\n",
    "        X_test = validation_df_link.filter(regex=(\"tt_ar[^-]+$\")).values\n",
    "        y_pred = model.predict(X_test)\n",
    "\n",
    "        score = metrics.recall_score([LOS]*len(y_pred), y_pred, average='micro')\n",
    "        print(f\"\\tLOS {LOS}: Recall {round(score*100, 2) }%\")"
   ]
  },
  {
   "cell_type": "markdown",
   "metadata": {
    "id": "EizvT4LFMHFt"
   },
   "source": [
    "### **FEATURE ENGINEERING ADJACENT LINK INFORMATION + TEMPORAL INFORMATION (UP TO PREVIOUS 45MIN)**"
   ]
  },
  {
   "cell_type": "markdown",
   "metadata": {
    "id": "aXU1_hUvMHFu"
   },
   "source": [
    "*Features creation*\n",
    "\n",
    "For each link, the tt_arrival of the other links, covering the previous 50min from prediction time, are added as features. Therefore we will be using 60 features in total as maximum."
   ]
  },
  {
   "cell_type": "code",
   "execution_count": 24,
   "metadata": {
    "id": "pyAilkmPMMPb"
   },
   "outputs": [
    {
     "name": "stdout",
     "output_type": "stream",
     "text": [
      "USING PREVIOUS 45m INFORMATION\n",
      "LINK 5\n",
      "M2 Implementation of MODIFIED RUSBoost\n",
      "\tLOS 1: Recall 93.74%\n",
      "\tLOS 2: Recall 0.0%\n",
      "\tLOS 3: Recall 51.62%\n",
      "\tLOS 4: Recall 26.17%\n",
      "\tLOS 5: Recall 22.45%\n",
      "\tLOS 6: Recall 0.0%\n",
      "LINK 6\n",
      "M2 Implementation of MODIFIED RUSBoost\n",
      "\tLOS 1: Recall 18.88%\n",
      "\tLOS 2: Recall 78.11%\n",
      "\tLOS 3: Recall 0.0%\n",
      "\tLOS 4: Recall 78.64%\n",
      "\tLOS 5: Recall 0.44%\n",
      "\tLOS 6: Recall 0.0%\n",
      "LINK 7\n",
      "M2 Implementation of MODIFIED RUSBoost\n",
      "\tLOS 1: Recall 28.75%\n",
      "\tLOS 2: Recall 81.51%\n",
      "\tLOS 3: Recall 1.7%\n",
      "\tLOS 4: Recall 2.62%\n",
      "\tLOS 5: Recall 17.87%\n",
      "\tLOS 6: Recall 0.0%\n",
      "LINK 8\n",
      "M2 Implementation of MODIFIED RUSBoost\n",
      "\tLOS 1: Recall 86.35%\n",
      "\tLOS 2: Recall 0.14%\n",
      "\tLOS 3: Recall 8.21%\n",
      "\tLOS 4: Recall 18.56%\n",
      "\tLOS 5: Recall 0.0%\n",
      "\tLOS 6: Recall 0.0%\n",
      "LINK 9\n",
      "M2 Implementation of MODIFIED RUSBoost\n",
      "\tLOS 1: Recall 54.06%\n",
      "\tLOS 2: Recall 5.66%\n",
      "\tLOS 3: Recall 5.03%\n",
      "\tLOS 4: Recall 0.87%\n",
      "\tLOS 5: Recall 93.8%\n",
      "\tLOS 6: Recall 1.13%\n",
      "LINK 10\n",
      "M2 Implementation of MODIFIED RUSBoost\n",
      "\tLOS 1: Recall 94.88%\n",
      "\tLOS 2: Recall 0.54%\n",
      "\tLOS 3: Recall 0.0%\n",
      "\tLOS 4: Recall 0.14%\n",
      "\tLOS 5: Recall 0.0%\n",
      "\tLOS 6: Recall 0.0%\n"
     ]
    }
   ],
   "source": [
    "print(f'USING PREVIOUS {INPUT_MINUTES_BEFORE}m INFORMATION')\n",
    "for LINK in range(5,11):\n",
    "    print(f\"LINK {LINK}\")\n",
    "    filename = f'{ROOT}/models/ModifiedRUSBoost_{PREDICTED_MINUTES_AHEAD}m_M2_temp{INPUT_MINUTES_BEFORE}m_link{LINK}.joblib'\n",
    "\n",
    "    other_links = [5,6,7,8,9,10]; other_links.remove(LINK)\n",
    "    training_df_link = training_df.copy()\n",
    "    training_df_link = training_df_link[training_df_link['link_id'] == LINK]\n",
    "\n",
    "    for other_link in other_links:\n",
    "        training_df_link = pd.merge(training_df_link, training_df[training_df['link_id'] == other_link].filter(regex=(\"tt_arr.*\")), on=['date'], how='inner', suffixes=[None, f'_{other_link}'])\n",
    "\n",
    "    model = ModifiedRUSBoostClassifier_(base_estimator=DecisionTreeClassifier(max_depth=3), n_estimators=60, learning_rate=0.3).fit(training_df_link, \"tt_arr.*\", 'LOS_dep')\n",
    "    joblib.dump(model, filename)\n",
    "\n",
    "    for LOS in range(1,7):\n",
    "        validation_df_link = validation_df[(validation_df['link_id'] == LINK) & (validation_df['LOS_dep'] == LOS)].copy()\n",
    "        for other_link in other_links:\n",
    "            validation_df_link = pd.merge(validation_df_link, validation_df[validation_df['link_id'] == other_link].filter(regex=(\"tt_arr.*\")), on=['date'], how='inner', suffixes=[None, f'_{other_link}'])\n",
    "        X_test = validation_df_link.filter(regex=(\"tt_arr.*\")).values\n",
    "        y_pred = model.predict(X_test)\n",
    "\n",
    "        score = metrics.recall_score([LOS]*len(y_pred), y_pred, average='micro')\n",
    "        print(f\"\\tLOS {LOS}: Recall {round(score*100, 2) }%\")"
   ]
  },
  {
   "cell_type": "markdown",
   "metadata": {
    "id": "YdG4O3Ww2eoi",
    "jp-MarkdownHeadingCollapsed": true,
    "tags": []
   },
   "source": [
    "# **LSTM**"
   ]
  },
  {
   "cell_type": "markdown",
   "metadata": {
    "id": "J_97Az6Ddwtq"
   },
   "source": [
    "Chosen number of LSTM units equal to number of classes to directly obtain number of classes predictions, and attach a same dimensionality Dense layer that combines each class prediction. This can be useful to compensate for possible class imbalance. https://tung2389.github.io/coding-note/unitslstm"
   ]
  },
  {
   "cell_type": "markdown",
   "metadata": {
    "id": "kXrhCdD6piR8"
   },
   "source": [
    "### **NO FEATURE ENGINEERING**"
   ]
  },
  {
   "cell_type": "markdown",
   "metadata": {
    "id": "CvVzUnHs7h8s"
   },
   "source": [
    "**TRAIN or LOAD switch**"
   ]
  },
  {
   "cell_type": "code",
   "execution_count": 6,
   "metadata": {
    "id": "H0SB66O57h9M"
   },
   "outputs": [],
   "source": [
    "train_again = False"
   ]
  },
  {
   "cell_type": "code",
   "execution_count": null,
   "metadata": {},
   "outputs": [],
   "source": [
    "LINK = 5\n",
    "\n",
    "X_columns=\"tt_arr.*\"\n",
    "df = training_df[training_df['link_id'] == LINK]\n",
    "N = df.shape[0]\n",
    "B = N*(6-1)\n",
    "D = {epoch: np.full(6-1,1/B) for epoch in df.index}\n",
    "X = df.filter(regex=(X_columns)).values\n",
    "X = np.expand_dims(X, axis=2)\n",
    "X = np.flip(X, 1)\n",
    "scaler = preprocessing.MinMaxScaler().fit(np.array([[X[:,-1,0].max()]*10, [X[:,-1,0].min()]*10]))\n",
    "\n",
    "y_column='LOS_dep'\n",
    "y = df[y_column].values\n",
    "onehot_encoder = preprocessing.OneHotEncoder().fit(np.expand_dims(y, axis=1))\n",
    "df_ = pd.DataFrame()\n",
    "undersampling_n = min(df[y_column].value_counts())\n",
    "undersampling_n = undersampling_n\n",
    "for label_ in [1,2,3,4,5,6]:\n",
    "    tmp = df[ df[y_column]==label_ ].sample(undersampling_n, replace=True)\n",
    "    if label_ == PRED_LABEL: x_val=np.expand_dims(tmp.filter(regex=(X_columns)).values, axis=2)\n",
    "    if label_ == 1: x_val_1=np.expand_dims(tmp.filter(regex=(X_columns)).values, axis=2)\n",
    "    elif label_ == 2: x_val_2=np.expand_dims(tmp.filter(regex=(X_columns)).values, axis=2)\n",
    "    elif label_ == 3: x_val_3=np.expand_dims(tmp.filter(regex=(X_columns)).values, axis=2)\n",
    "    elif label_ == 4: x_val_4=np.expand_dims(tmp.filter(regex=(X_columns)).values, axis=2)\n",
    "    elif label_ == 5: x_val_5=np.expand_dims(tmp.filter(regex=(X_columns)).values, axis=2)\n",
    "    elif label_ == 6: x_val_6=np.expand_dims(tmp.filter(regex=(X_columns)).values, axis=2)\n",
    "    df_ = pd.concat([ df_, tmp ])\n",
    "X_ = df_.filter(regex=(X_columns)).values\n",
    "X_ = np.expand_dims(X_, axis=2)\n",
    "X_[:,:,0] = scaler.transform(X_[:,:,0])\n",
    "X_ = np.flip(X_, 1)\n",
    "y_ = df_[y_column].values\n",
    "y_ = onehot_encoder.transform(np.expand_dims(y_, axis=1)).toarray()\n",
    "D_ = np.sum([D[epoch] for epoch in df_.index], axis=-1)\n",
    "\n",
    "model = keras.models.Sequential()\n",
    "\n",
    "model.add(keras.layers.LSTM(\n",
    "        input_shape=(10, 1),\n",
    "        units=32,\n",
    "        return_sequences=False))\n",
    "model.add(keras.layers.Dropout(0.2))\n",
    "\n",
    "model.add(keras.layers.Dense(units=6, activation='softmax'))\n",
    "\n",
    "model.compile(loss='categorical_crossentropy', optimizer='adam', metrics=['accuracy'])\n",
    "model.fit(X_, y_, sample_weight=D_, epochs=5, batch_size=32, validation_split=0, verbose=1)\n",
    "\n",
    "x_val = x_val_1\n",
    "x_val[:,:,0] = scaler.transform(x_val[:,:,0])\n",
    "y_pred = list(np.argmax(model.predict(x_val), axis=1)+1)\n",
    "print(metrics.recall_score([1]*undersampling_n,y_pred, average='micro'))\n",
    "\n",
    "x_val = x_val_2\n",
    "x_val[:,:,0] = scaler.transform(x_val[:,:,0])\n",
    "y_pred = list(np.argmax(model.predict(x_val), axis=1)+1)\n",
    "print(metrics.recall_score([2]*undersampling_n,y_pred, average='micro'))\n",
    "\n",
    "x_val = x_val_3\n",
    "x_val[:,:,0] = scaler.transform(x_val[:,:,0])\n",
    "y_pred = list(np.argmax(model.predict(x_val), axis=1)+1)\n",
    "print(metrics.recall_score([3]*undersampling_n,y_pred, average='micro'))\n",
    "\n",
    "x_val = x_val_4\n",
    "x_val[:,:,0] = scaler.transform(x_val[:,:,0])\n",
    "y_pred = list(np.argmax(model.predict(x_val), axis=1)+1)\n",
    "print(metrics.recall_score([4]*undersampling_n,y_pred, average='micro'))\n",
    "\n",
    "x_val = x_val_5\n",
    "x_val[:,:,0] = scaler.transform(x_val[:,:,0])\n",
    "y_pred = list(np.argmax(model.predict(x_val), axis=1)+1)\n",
    "print(metrics.recall_score([5]*undersampling_n,y_pred, average='micro'))\n",
    "\n",
    "x_val = x_val_6\n",
    "x_val[:,:,0] = scaler.transform(x_val[:,:,0])\n",
    "y_pred = list(np.argmax(model.predict(x_val), axis=1)+1)\n",
    "print(metrics.recall_score([6]*undersampling_n,y_pred, average='micro'))"
   ]
  },
  {
   "cell_type": "code",
   "execution_count": 7,
   "metadata": {
    "colab": {
     "base_uri": "https://localhost:8080/"
    },
    "id": "mA1Q8r2Apjki",
    "outputId": "5fdfac78-1485-4219-98d4-06b966e7b141"
   },
   "outputs": [
    {
     "name": "stdout",
     "output_type": "stream",
     "text": [
      "LINK 5\n",
      "Size of training data array (1231020, 10, 1)\n",
      "Size of training labels (1231020, 6)\n",
      "Epoch 1/10\n",
      "4809/4809 [==============================] - 33s 5ms/step - loss: 0.4210 - accuracy: 0.8373\n",
      "Epoch 2/10\n",
      "4809/4809 [==============================] - 25s 5ms/step - loss: 0.3557 - accuracy: 0.8566\n",
      "Epoch 3/10\n",
      "4809/4809 [==============================] - 26s 5ms/step - loss: 0.3451 - accuracy: 0.8605\n",
      "Epoch 4/10\n",
      "4809/4809 [==============================] - 25s 5ms/step - loss: 0.3409 - accuracy: 0.8617\n",
      "Epoch 5/10\n",
      "4809/4809 [==============================] - 25s 5ms/step - loss: 0.3372 - accuracy: 0.8626\n",
      "Epoch 6/10\n",
      "4809/4809 [==============================] - 26s 5ms/step - loss: 0.3337 - accuracy: 0.8630\n",
      "Epoch 7/10\n",
      "4809/4809 [==============================] - 25s 5ms/step - loss: 0.3311 - accuracy: 0.8637\n",
      "Epoch 8/10\n",
      "4809/4809 [==============================] - 25s 5ms/step - loss: 0.3291 - accuracy: 0.8643\n",
      "Epoch 9/10\n",
      "4809/4809 [==============================] - 25s 5ms/step - loss: 0.3275 - accuracy: 0.8647\n",
      "Epoch 10/10\n",
      "4809/4809 [==============================] - 26s 5ms/step - loss: 0.3263 - accuracy: 0.8650\n",
      "17717/17717 [==============================] - 41s 2ms/step\n",
      "\tLOS 1: Recall 97.21%\n",
      "2564/2564 [==============================] - 6s 2ms/step\n",
      "\tLOS 2: Recall 52.18%\n",
      "1647/1647 [==============================] - 3s 2ms/step\n",
      "\tLOS 3: Recall 56.58%\n",
      "635/635 [==============================] - 1s 2ms/step\n",
      "\tLOS 4: Recall 25.78%\n",
      "322/322 [==============================] - 1s 2ms/step\n",
      "\tLOS 5: Recall 37.93%\n",
      "247/247 [==============================] - 1s 2ms/step\n",
      "\tLOS 6: Recall 60.41%\n",
      "LINK 6\n",
      "Size of training data array (1231020, 10, 1)\n",
      "Size of training labels (1231020, 6)\n",
      "Epoch 1/10\n",
      "4809/4809 [==============================] - 27s 5ms/step - loss: 0.3112 - accuracy: 0.8956\n",
      "Epoch 2/10\n",
      "4809/4809 [==============================] - 25s 5ms/step - loss: 0.2522 - accuracy: 0.9075\n",
      "Epoch 3/10\n",
      "4809/4809 [==============================] - 25s 5ms/step - loss: 0.2414 - accuracy: 0.9101\n",
      "Epoch 4/10\n",
      "4809/4809 [==============================] - 25s 5ms/step - loss: 0.2367 - accuracy: 0.9114\n",
      "Epoch 5/10\n",
      "4809/4809 [==============================] - 25s 5ms/step - loss: 0.2346 - accuracy: 0.9120\n",
      "Epoch 6/10\n",
      "4809/4809 [==============================] - 24s 5ms/step - loss: 0.2330 - accuracy: 0.9123\n",
      "Epoch 7/10\n",
      "4809/4809 [==============================] - 25s 5ms/step - loss: 0.2319 - accuracy: 0.9126\n",
      "Epoch 8/10\n",
      "4809/4809 [==============================] - 25s 5ms/step - loss: 0.2310 - accuracy: 0.9129\n",
      "Epoch 9/10\n",
      "4809/4809 [==============================] - 25s 5ms/step - loss: 0.2303 - accuracy: 0.9133\n",
      "Epoch 10/10\n",
      "4809/4809 [==============================] - 25s 5ms/step - loss: 0.2297 - accuracy: 0.9135\n",
      "19747/19747 [==============================] - 45s 2ms/step\n",
      "\tLOS 1: Recall 98.39%\n",
      "1299/1299 [==============================] - 3s 2ms/step\n",
      "\tLOS 2: Recall 27.0%\n",
      "1465/1465 [==============================] - 3s 2ms/step\n",
      "\tLOS 3: Recall 71.85%\n",
      "425/425 [==============================] - 1s 3ms/step\n",
      "\tLOS 4: Recall 21.51%\n",
      "142/142 [==============================] - 0s 2ms/step\n",
      "\tLOS 5: Recall 27.74%\n",
      "54/54 [==============================] - 0s 2ms/step\n",
      "\tLOS 6: Recall 40.61%\n",
      "LINK 7\n",
      "Size of training data array (1231020, 10, 1)\n",
      "Size of training labels (1231020, 6)\n",
      "Epoch 1/10\n",
      "4809/4809 [==============================] - 27s 5ms/step - loss: 0.3021 - accuracy: 0.8952\n",
      "Epoch 2/10\n",
      "4809/4809 [==============================] - 25s 5ms/step - loss: 0.2474 - accuracy: 0.9092\n",
      "Epoch 3/10\n",
      "4809/4809 [==============================] - 25s 5ms/step - loss: 0.2392 - accuracy: 0.9117\n",
      "Epoch 4/10\n",
      "4809/4809 [==============================] - 25s 5ms/step - loss: 0.2351 - accuracy: 0.9131\n",
      "Epoch 5/10\n",
      "4809/4809 [==============================] - 25s 5ms/step - loss: 0.2330 - accuracy: 0.9140\n",
      "Epoch 6/10\n",
      "4809/4809 [==============================] - 25s 5ms/step - loss: 0.2315 - accuracy: 0.9145\n",
      "Epoch 7/10\n",
      "4809/4809 [==============================] - 25s 5ms/step - loss: 0.2303 - accuracy: 0.9149\n",
      "Epoch 8/10\n",
      "4809/4809 [==============================] - 25s 5ms/step - loss: 0.2293 - accuracy: 0.9151\n",
      "Epoch 9/10\n",
      "4809/4809 [==============================] - 25s 5ms/step - loss: 0.2282 - accuracy: 0.9153\n",
      "Epoch 10/10\n",
      "4809/4809 [==============================] - 26s 5ms/step - loss: 0.2274 - accuracy: 0.9156\n",
      "19655/19655 [==============================] - 45s 2ms/step\n",
      "\tLOS 1: Recall 98.35%\n",
      "1943/1943 [==============================] - 4s 2ms/step\n",
      "\tLOS 2: Recall 49.83%\n",
      "1200/1200 [==============================] - 3s 2ms/step\n",
      "\tLOS 3: Recall 67.55%\n",
      "229/229 [==============================] - 1s 2ms/step\n",
      "\tLOS 4: Recall 11.1%\n",
      "81/81 [==============================] - 0s 2ms/step\n",
      "\tLOS 5: Recall 13.41%\n",
      "24/24 [==============================] - 0s 2ms/step\n",
      "\tLOS 6: Recall 28.93%\n",
      "LINK 8\n",
      "Size of training data array (1231020, 10, 1)\n",
      "Size of training labels (1231020, 6)\n",
      "Epoch 1/10\n",
      "4809/4809 [==============================] - 28s 5ms/step - loss: 0.1395 - accuracy: 0.9619\n",
      "Epoch 2/10\n",
      "4809/4809 [==============================] - 25s 5ms/step - loss: 0.1005 - accuracy: 0.9672\n",
      "Epoch 3/10\n",
      "4809/4809 [==============================] - 26s 5ms/step - loss: 0.0950 - accuracy: 0.9684\n",
      "Epoch 4/10\n",
      "4809/4809 [==============================] - 25s 5ms/step - loss: 0.0928 - accuracy: 0.9689\n",
      "Epoch 5/10\n",
      "4809/4809 [==============================] - 25s 5ms/step - loss: 0.0917 - accuracy: 0.9692\n",
      "Epoch 6/10\n",
      "4809/4809 [==============================] - 25s 5ms/step - loss: 0.0911 - accuracy: 0.9695\n",
      "Epoch 7/10\n",
      "4809/4809 [==============================] - 25s 5ms/step - loss: 0.0905 - accuracy: 0.9698\n",
      "Epoch 8/10\n",
      "4809/4809 [==============================] - 25s 5ms/step - loss: 0.0901 - accuracy: 0.9698\n",
      "Epoch 9/10\n",
      "4809/4809 [==============================] - 25s 5ms/step - loss: 0.0897 - accuracy: 0.9699\n",
      "Epoch 10/10\n",
      "4809/4809 [==============================] - 24s 5ms/step - loss: 0.0894 - accuracy: 0.9700\n",
      "21742/21742 [==============================] - 51s 2ms/step\n",
      "\tLOS 1: Recall 99.57%\n",
      "408/408 [==============================] - 1s 2ms/step\n",
      "\tLOS 2: Recall 35.91%\n",
      "659/659 [==============================] - 1s 2ms/step\n",
      "\tLOS 3: Recall 77.65%\n",
      "176/176 [==============================] - 1s 3ms/step\n",
      "\tLOS 4: Recall 25.62%\n",
      "75/75 [==============================] - 0s 3ms/step\n",
      "\tLOS 5: Recall 23.79%\n",
      "72/72 [==============================] - 0s 3ms/step\n",
      "\tLOS 6: Recall 56.85%\n",
      "LINK 9\n",
      "Size of training data array (1231020, 10, 1)\n",
      "Size of training labels (1231020, 6)\n",
      "Epoch 1/10\n",
      "4809/4809 [==============================] - 28s 5ms/step - loss: 0.2564 - accuracy: 0.9121\n",
      "Epoch 2/10\n",
      "4809/4809 [==============================] - 25s 5ms/step - loss: 0.1994 - accuracy: 0.9302\n",
      "Epoch 3/10\n",
      "4809/4809 [==============================] - 25s 5ms/step - loss: 0.1923 - accuracy: 0.9331\n",
      "Epoch 4/10\n",
      "4809/4809 [==============================] - 26s 5ms/step - loss: 0.1901 - accuracy: 0.9340\n",
      "Epoch 5/10\n",
      "4809/4809 [==============================] - 26s 5ms/step - loss: 0.1886 - accuracy: 0.9345\n",
      "Epoch 6/10\n",
      "4809/4809 [==============================] - 25s 5ms/step - loss: 0.1874 - accuracy: 0.9347\n",
      "Epoch 7/10\n",
      "4809/4809 [==============================] - 25s 5ms/step - loss: 0.1864 - accuracy: 0.9351\n",
      "Epoch 8/10\n",
      "4809/4809 [==============================] - 25s 5ms/step - loss: 0.1856 - accuracy: 0.9351\n",
      "Epoch 9/10\n",
      "4809/4809 [==============================] - 25s 5ms/step - loss: 0.1846 - accuracy: 0.9354\n",
      "Epoch 10/10\n",
      "4809/4809 [==============================] - 25s 5ms/step - loss: 0.1840 - accuracy: 0.9356\n",
      "20036/20036 [==============================] - 46s 2ms/step\n",
      "\tLOS 1: Recall 97.59%\n",
      "2461/2461 [==============================] - 6s 2ms/step\n",
      "\tLOS 2: Recall 74.78%\n",
      "521/521 [==============================] - 1s 2ms/step\n",
      "\tLOS 3: Recall 41.98%\n",
      "72/72 [==============================] - 0s 2ms/step\n",
      "\tLOS 4: Recall 16.54%\n",
      "30/30 [==============================] - 0s 2ms/step\n",
      "\tLOS 5: Recall 29.44%\n",
      "12/12 [==============================] - 0s 3ms/step\n",
      "\tLOS 6: Recall 4.82%\n",
      "LINK 10\n",
      "Size of training data array (1231020, 10, 1)\n",
      "Size of training labels (1231020, 6)\n",
      "Epoch 1/10\n",
      "4809/4809 [==============================] - 28s 5ms/step - loss: 0.2207 - accuracy: 0.9305\n",
      "Epoch 2/10\n",
      "4809/4809 [==============================] - 25s 5ms/step - loss: 0.1687 - accuracy: 0.9405\n",
      "Epoch 3/10\n",
      "4809/4809 [==============================] - 26s 5ms/step - loss: 0.1615 - accuracy: 0.9425\n",
      "Epoch 4/10\n",
      "4809/4809 [==============================] - 25s 5ms/step - loss: 0.1589 - accuracy: 0.9434\n",
      "Epoch 5/10\n",
      "4809/4809 [==============================] - 26s 5ms/step - loss: 0.1579 - accuracy: 0.9440\n",
      "Epoch 6/10\n",
      "4809/4809 [==============================] - 25s 5ms/step - loss: 0.1570 - accuracy: 0.9443\n",
      "Epoch 7/10\n",
      "4809/4809 [==============================] - 25s 5ms/step - loss: 0.1564 - accuracy: 0.9447\n",
      "Epoch 8/10\n",
      "4809/4809 [==============================] - 25s 5ms/step - loss: 0.1559 - accuracy: 0.9450\n",
      "Epoch 9/10\n",
      "4809/4809 [==============================] - 25s 5ms/step - loss: 0.1554 - accuracy: 0.9454\n",
      "Epoch 10/10\n",
      "4809/4809 [==============================] - 26s 5ms/step - loss: 0.1549 - accuracy: 0.9455\n",
      "21212/21212 [==============================] - 50s 2ms/step\n",
      "\tLOS 1: Recall 99.15%\n",
      "673/673 [==============================] - 1s 2ms/step\n",
      "\tLOS 2: Recall 43.99%\n",
      "458/458 [==============================] - 1s 2ms/step\n",
      "\tLOS 3: Recall 47.62%\n",
      "338/338 [==============================] - 1s 2ms/step\n",
      "\tLOS 4: Recall 47.9%\n",
      "283/283 [==============================] - 1s 2ms/step\n",
      "\tLOS 5: Recall 49.97%\n",
      "168/168 [==============================] - 0s 2ms/step\n",
      "\tLOS 6: Recall 52.9%\n"
     ]
    }
   ],
   "source": [
    "for LINK in range(5,11):\n",
    "    print(f\"LINK {LINK}\")\n",
    "    \n",
    "    X = training_df[training_df['link_id'] == LINK].filter(regex=(\"tt_arr.*\")).values\n",
    "    #Correctly order the sequence [X(t-N),...,X(t)]\n",
    "    X = np.flip(X, 1)\n",
    "    # Min-Max Scaling\n",
    "    sc = preprocessing.MinMaxScaler().fit(np.array([[X[:,-1].max()]*X.shape[1], [X[:,-1].min()]*X.shape[1]]))\n",
    "    \n",
    "    if train_again:\n",
    "        X = sc.transform(X)\n",
    "        X = np.expand_dims(X, axis=2)\n",
    "        y = training_df[training_df['link_id'] == LINK]['LOS_dep'].values\n",
    "        y = np.expand_dims(y, axis=1)\n",
    "        \n",
    "        onehot_encoder = preprocessing.OneHotEncoder()\n",
    "        y = onehot_encoder.fit_transform(y).toarray()\n",
    "\n",
    "        # build the model\n",
    "        num_features = X.shape[2]\n",
    "        num_out = y.shape[1]\n",
    "\n",
    "        model = keras.models.Sequential()\n",
    "\n",
    "        model.add(keras.layers.LSTM(\n",
    "                input_shape=(int(INPUT_MINUTES_BEFORE/5)+1, num_features),\n",
    "                units=64-num_features,\n",
    "                return_sequences=False))\n",
    "        model.add(keras.layers.Dropout(0.2))\n",
    "\n",
    "        model.add(keras.layers.Dense(units=num_out, activation='softmax'))\n",
    "\n",
    "        model.compile(loss='categorical_crossentropy', optimizer='adam', metrics=['accuracy'])\n",
    "\n",
    "        model.fit(X, y, epochs=10, batch_size=256, validation_split=0, verbose=0)\n",
    "\n",
    "        model.save(f'{ROOT}/models/LSTM_{PREDICTED_MINUTES_AHEAD}m_horizon_{INPUT_MINUTES_BEFORE}m_nofeat_link{LINK}.h5')\n",
    "    \n",
    "    else:\n",
    "        model = keras.models.load_model(f'{ROOT}/models/LSTM_{PREDICTED_MINUTES_AHEAD}m_horizon_{INPUT_MINUTES_BEFORE}m_nofeat_link{LINK}.h5')\n",
    "    \n",
    "    for LOS in range(1,7):\n",
    "        X_test = sc.transform( validation_df[(validation_df['link_id'] == LINK) & (validation_df['LOS_dep'] == LOS)].filter(regex=(\"tt_arr.*\")).values )\n",
    "        X_test = np.flip(X_test, 1)\n",
    "        X_test = np.expand_dims(X_test, axis=2)\n",
    "        y_pred = model.predict(X_test)\n",
    "        y_pred = onehot_encoder.inverse_transform(y_pred)\n",
    "\n",
    "        score = metrics.recall_score([LOS]*len(y_pred), y_pred, average='micro')\n",
    "        print(f\"\\tLOS {LOS}: Recall {round(score*100, 2) }%\")\n",
    "\n",
    "    del model\n",
    "    gc.collect()"
   ]
  },
  {
   "cell_type": "markdown",
   "metadata": {
    "id": "v4hiITcW2eoj"
   },
   "source": [
    "### **FEATURE ENGINEERING ADJACENT LINK INFORMATION**"
   ]
  },
  {
   "cell_type": "markdown",
   "metadata": {
    "id": "8fYb-uhw60Gr"
   },
   "source": [
    "**TRAIN or LOAD switch**"
   ]
  },
  {
   "cell_type": "code",
   "execution_count": 19,
   "metadata": {
    "id": "R_QtgDIsA2nY"
   },
   "outputs": [],
   "source": [
    "train_again = False"
   ]
  },
  {
   "cell_type": "code",
   "execution_count": null,
   "metadata": {
    "colab": {
     "base_uri": "https://localhost:8080/"
    },
    "id": "yoXuuTvqA-l9",
    "outputId": "d4157ab8-acf7-4814-962c-1eb17511a098"
   },
   "outputs": [],
   "source": [
    "for LINK in range(5,11):\n",
    "    print(f\"LINK {LINK}\")\n",
    "    other_links = [5,6,7,8,9,10]; other_links.remove(LINK)\n",
    "\n",
    "    X = training_df[training_df['link_id'] == LINK].filter(regex=(\"tt_arr.*\")).values\n",
    "    # Min-Max Scaling per Link\n",
    "    sc = {}\n",
    "    sc[LINK] = preprocessing.MinMaxScaler().fit(np.array([[X[:,0].max()]*X.shape[1], [X[:,0].min()]*X.shape[1]]))\n",
    "    X = sc[LINK].transform(X)\n",
    "    X = np.expand_dims(X, axis=2)\n",
    "\n",
    "    for other_link in other_links:\n",
    "        temp = training_df[training_df['link_id'] == other_link].filter(regex=(\"tt_arr.*\")).values\n",
    "        sc[other_link] = preprocessing.MinMaxScaler().fit(np.array([[temp[:,0].max()]*temp.shape[1], [temp[:,0].min()]*temp.shape[1]]))\n",
    "        temp = sc[other_link].transform(temp)\n",
    "        X = np.concatenate( (X, np.expand_dims(temp, axis=2)) , axis=2)\n",
    "    #Correctly order the sequence [X(t-N),...,X(t)]\n",
    "    X = np.flip(X, 1)\n",
    "        \n",
    "    if train_again:\n",
    "        y = training_df[training_df['link_id'] == LINK]['LOS_dep'].values\n",
    "        y = np.expand_dims(y, axis=1)\n",
    "        \n",
    "        onehot_encoder = preprocessing.OneHotEncoder()\n",
    "        y = onehot_encoder.fit_transform(y).toarray()\n",
    "\n",
    "        # build the model\n",
    "        num_features = X.shape[2]\n",
    "        num_out = y.shape[1]\n",
    "\n",
    "        model = keras.models.Sequential()\n",
    "\n",
    "        model.add(keras.layers.LSTM(\n",
    "                input_shape=(int(INPUT_MINUTES_BEFORE/5)+1, num_features),\n",
    "                units=64-num_features,\n",
    "                return_sequences=False))\n",
    "        model.add(keras.layers.Dropout(0.2))\n",
    "\n",
    "        model.add(keras.layers.Dense(units=num_out, activation='softmax'))\n",
    "\n",
    "        model.compile(loss='categorical_crossentropy', optimizer='adam', metrics=['accuracy'])\n",
    "\n",
    "        model.fit(X, y, epochs=10, batch_size=256, validation_split=0, verbose=0)\n",
    "\n",
    "        model.save(f'{ROOT}/models/LSTM_{PREDICTED_MINUTES_AHEAD}m_horizon_{INPUT_MINUTES_BEFORE}m_adjacent_link{LINK}.h5')\n",
    "    \n",
    "    else:\n",
    "        model = keras.models.load_model(f'{ROOT}/models/LSTM_{PREDICTED_MINUTES_AHEAD}m_horizon_{INPUT_MINUTES_BEFORE}m_adjacent_link{LINK}.h5')\n",
    "    \n",
    "    for LOS in range(1,7):        \n",
    "        X_test = sc[LINK].transform( validation_df[validation_df['link_id'] == LINK].filter(regex=(\"tt_arr.*\")).values )\n",
    "        X_test = np.expand_dims(X_test, axis=2)\n",
    "\n",
    "        for other_link in other_links:\n",
    "            temp = validation_df[validation_df['link_id'] == other_link].filter(regex=(\"tt_arr.*\")).values\n",
    "            temp = sc[other_link].transform(temp)\n",
    "            X_test = np.concatenate( (X_test, np.expand_dims(temp, axis=2)) , axis=2)\n",
    "        X_test = np.flip(X_test, 1)\n",
    "        y_pred = model.predict(X_test)\n",
    "        y_pred = onehot_encoder.inverse_transform(y_pred)\n",
    "\n",
    "        score = metrics.recall_score([LOS]*len(y_pred), y_pred, average='micro')\n",
    "        print(f\"\\tLOS {LOS}: Recall {round(score*100, 2) }%\")\n",
    "\n",
    "    del model\n",
    "    gc.collect()"
   ]
  },
  {
   "cell_type": "markdown",
   "metadata": {
    "id": "Xl4PkY479EXD"
   },
   "source": [
    "### **FEATURE ENGINEERING CLASS BALANCING BY RUS**"
   ]
  },
  {
   "cell_type": "markdown",
   "metadata": {
    "id": "OPv4d6drm3P9"
   },
   "source": [
    "https://machinelearningmastery.com/gentle-introduction-mini-batch-gradient-descent-configure-batch-size/\n",
    "Stochastic Gradient descent increases variance but avoids local minima. A Boosting of high variance LSTM can reduce this variance."
   ]
  },
  {
   "cell_type": "markdown",
   "metadata": {
    "id": "LOIbBK0pdwtr",
    "tags": []
   },
   "source": [
    "# **LSTM Stacked**"
   ]
  },
  {
   "cell_type": "markdown",
   "metadata": {
    "id": "qFUkrQCIdwtr"
   },
   "source": [
    "Determine number of hidden units in first LSTM (don't want to sparse the hidden units space much more than the features space)\n",
    "units = highestPowerof2(num_features+1)"
   ]
  },
  {
   "cell_type": "code",
   "execution_count": null,
   "metadata": {
    "id": "j5ZkoH8ydwtr"
   },
   "outputs": [],
   "source": [
    "def highestPowerof2(n):\n",
    "    for i in range(n, 0, -1):\n",
    "        if ((i & (i - 1)) == 0): return i;"
   ]
  },
  {
   "cell_type": "markdown",
   "metadata": {
    "id": "S-XBUKOydwtr"
   },
   "source": [
    "## **NO FEATURE ENGINEERING**"
   ]
  },
  {
   "cell_type": "markdown",
   "metadata": {
    "id": "i_mfCQI7dwtr"
   },
   "source": [
    "**TRAIN or LOAD switch**"
   ]
  },
  {
   "cell_type": "code",
   "execution_count": null,
   "metadata": {
    "id": "tMh1maWQdwtr"
   },
   "outputs": [],
   "source": [
    "train_again = False"
   ]
  },
  {
   "cell_type": "code",
   "execution_count": null,
   "metadata": {
    "id": "WMuXd4TIdwtr"
   },
   "outputs": [],
   "source": [
    "for LINK in range(5,11):\n",
    "    print(f\"LINK {LINK}\")\n",
    "    \n",
    "    X = training_df[training_df['link_id'] == LINK].filter(regex=(\"tt_arr.*\")).values\n",
    "    # Min-Max Scaling\n",
    "    sc = preprocessing.MinMaxScaler().fit(np.array([[X[:,0].max()]*X.shape[1], [X[:,0].min()]*X.shape[1]]))\n",
    "    \n",
    "    if train_again:\n",
    "        X = sc.transform(X)\n",
    "        X = np.expand_dims(X, axis=2)\n",
    "        print(f'Size of training data array {X.shape}')\n",
    "        y = training_df[training_df['link_id'] == LINK]['LOS_dep'].values\n",
    "        y = np.expand_dims(y, axis=1)\n",
    "        \n",
    "        onehot_encoder = preprocessing.OneHotEncoder()\n",
    "        y = onehot_encoder.fit_transform(y).toarray()\n",
    "        print(f'Size of training labels {y.shape}')\n",
    "\n",
    "        # build the model\n",
    "        num_features = X.shape[2]\n",
    "        num_out = y.shape[1]\n",
    "\n",
    "        model = keras.models.Sequential()\n",
    "\n",
    "        model.add(keras.layers.LSTM(\n",
    "                input_shape=(int(INPUT_MINUTES_BEFORE/5)+1, num_features),\n",
    "                units=highestPowerof2(num_features+1),\n",
    "                return_sequences=True))\n",
    "        model.add(keras.layers.Dropout(0.2))\n",
    "\n",
    "        model.add(keras.layers.LSTM(\n",
    "                units=num_out,\n",
    "                return_sequences=False))\n",
    "        model.add(keras.layers.Dropout(0.2))\n",
    "\n",
    "        model.add(keras.layers.Dense(units=num_out, activation='softmax'))\n",
    "\n",
    "        model.compile(loss='categorical_crossentropy', optimizer='adam', metrics=['accuracy'])\n",
    "\n",
    "        model.fit(X, y, epochs=10, batch_size=500, validation_split=0, verbose=0)\n",
    "\n",
    "        model.save(f'{ROOT}/models/LSTM_Stacked_{PREDICTED_MINUTES_AHEAD}m_horizon_{INPUT_MINUTES_BEFORE}m_nofeat_link{LINK}.h5')\n",
    "    \n",
    "    else:\n",
    "        model = keras.models.load_model(f'{ROOT}/models/LSTM_Stacked_{PREDICTED_MINUTES_AHEAD}m_horizon_{INPUT_MINUTES_BEFORE}m_nofeat_link{LINK}.h5')\n",
    "    \n",
    "    for LOS in range(1,7):\n",
    "        X_test = sc.transform( validation_df[(validation_df['link_id'] == LINK) & (validation_df['LOS_dep'] == LOS)].filter(regex=(\"tt_arr.*\")).values )\n",
    "        X_test = np.expand_dims(X_test, axis=2)\n",
    "        y_pred = model.predict(X_test)\n",
    "        y_pred = onehot_encoder.inverse_transform(y_pred)\n",
    "\n",
    "        score = metrics.recall_score([LOS]*len(y_pred), y_pred, average='micro')\n",
    "        print(f\"\\tLOS {LOS}: Recall {round(score*100, 2) }%\")\n",
    "\n",
    "    del model\n",
    "    gc.collect()"
   ]
  },
  {
   "cell_type": "markdown",
   "metadata": {
    "id": "CSV6kOdGdwtr"
   },
   "source": [
    "### **FEATURE ENGINEERING ADJACENT LINK INFORMATION**"
   ]
  },
  {
   "cell_type": "markdown",
   "metadata": {
    "id": "51kHKIKjdwtr"
   },
   "source": [
    "**TRAIN or LOAD switch**"
   ]
  },
  {
   "cell_type": "code",
   "execution_count": null,
   "metadata": {
    "id": "XjfBKxitdwtr"
   },
   "outputs": [],
   "source": [
    "train_again = False"
   ]
  },
  {
   "cell_type": "code",
   "execution_count": null,
   "metadata": {
    "id": "JFUBi3K9dwts"
   },
   "outputs": [],
   "source": [
    "for LINK in range(5,11):\n",
    "    print(f\"LINK {LINK}\")\n",
    "    other_links = [5,6,7,8,9,10]; other_links.remove(LINK)\n",
    "\n",
    "    X = training_df[training_df['link_id'] == LINK].filter(regex=(\"tt_arr.*\")).values\n",
    "    # Min-Max Scaling per Link\n",
    "    sc = {}\n",
    "    sc[LINK] = preprocessing.MinMaxScaler().fit(np.array([[X[:,0].max()]*X.shape[1], [X[:,0].min()]*X.shape[1]]))\n",
    "    X = sc[LINK].transform(X)\n",
    "    X = np.expand_dims(X, axis=2)\n",
    "\n",
    "    for other_link in other_links:\n",
    "        temp = training_df[training_df['link_id'] == other_link].filter(regex=(\"tt_arr.*\")).values\n",
    "        sc[other_link] = preprocessing.MinMaxScaler().fit(np.array([[temp[:,0].max()]*temp.shape[1], [temp[:,0].min()]*temp.shape[1]]))\n",
    "        temp = sc[other_link].transform(temp)\n",
    "        X = np.concatenate( (X, np.expand_dims(temp, axis=2)) , axis=2)\n",
    "        \n",
    "    if train_again:\n",
    "        print(f'Size of training data array {X.shape}')\n",
    "        y = training_df[training_df['link_id'] == LINK]['LOS_dep'].values\n",
    "        y = np.expand_dims(y, axis=1)\n",
    "        \n",
    "        onehot_encoder = preprocessing.OneHotEncoder()\n",
    "        y = onehot_encoder.fit_transform(y).toarray()\n",
    "        print(f'Size of training labels {y.shape}')\n",
    "\n",
    "        # build the model\n",
    "        num_features = X.shape[2]\n",
    "        num_out = y.shape[1]\n",
    "\n",
    "        model = keras.models.Sequential()\n",
    "        \n",
    "        model.add(keras.layers.LSTM(\n",
    "                input_shape=(int(INPUT_MINUTES_BEFORE/5)+1, num_features),\n",
    "                units=highestPowerof2(num_features+1),\n",
    "                return_sequences=True))\n",
    "        model.add(keras.layers.Dropout(0.2))\n",
    "\n",
    "        model.add(keras.layers.LSTM(\n",
    "                units=num_out,\n",
    "                return_sequences=False))\n",
    "        model.add(keras.layers.Dropout(0.2))\n",
    "\n",
    "        model.add(keras.layers.Dense(units=num_out, activation='softmax'))\n",
    "\n",
    "        model.compile(loss='categorical_crossentropy', optimizer='adam', metrics=['accuracy'])\n",
    "\n",
    "        model.fit(X, y, epochs=10, batch_size=500, validation_split=0, verbose=1)\n",
    "\n",
    "        model.save(f'{ROOT}/models/LSTM_Stacked_{PREDICTED_MINUTES_AHEAD}m_horizon_{INPUT_MINUTES_BEFORE}m_adjacent_link{LINK}.h5')\n",
    "    \n",
    "    else:\n",
    "        model = keras.models.load_model(f'{ROOT}/models/LSTM_Stacked_{PREDICTED_MINUTES_AHEAD}m_horizon_{INPUT_MINUTES_BEFORE}m_adjacent_link{LINK}.h5')\n",
    "    \n",
    "    for LOS in range(1,7):        \n",
    "        X_test = sc[LINK].transform( validation_df[validation_df['link_id'] == LINK].filter(regex=(\"tt_arr.*\")).values )\n",
    "        X_test = np.expand_dims(X_test, axis=2)\n",
    "\n",
    "        for other_link in other_links:\n",
    "            temp = validation_df[validation_df['link_id'] == other_link].filter(regex=(\"tt_arr.*\")).values\n",
    "            temp = sc[other_link].transform(temp)\n",
    "            X_test = np.concatenate( (X_test, np.expand_dims(temp, axis=2)) , axis=2)\n",
    "        y_pred = model.predict(X_test)\n",
    "        y_pred = onehot_encoder.inverse_transform(y_pred)\n",
    "\n",
    "        score = metrics.recall_score([LOS]*len(y_pred), y_pred, average='micro')\n",
    "        print(f\"\\tLOS {LOS}: Recall {round(score*100, 2) }%\")\n",
    "\n",
    "    del model\n",
    "    gc.collect()"
   ]
  },
  {
   "cell_type": "markdown",
   "metadata": {},
   "source": [
    "# **LSTM RUSBoost**"
   ]
  },
  {
   "cell_type": "markdown",
   "metadata": {},
   "source": [
    "### *Algorithms*"
   ]
  },
  {
   "cell_type": "markdown",
   "metadata": {},
   "source": [
    "**Algorithm implementation M2**"
   ]
  },
  {
   "cell_type": "code",
   "execution_count": 5,
   "metadata": {},
   "outputs": [],
   "source": [
    "def labelToIndex(cl,clf):\n",
    "    return clf.labelDict[cl]\n",
    "\n",
    "def indexToLabel(i,clf):\n",
    "    return clf.classes[i]\n",
    "\n",
    "class LSTMRUSBoostClassifier_:\n",
    "    \n",
    "    def __init__(self, sequence_length: int, n_lstm=50, learning_rate=1.0):\n",
    "        \"\"\"\n",
    "        param sequence_length: Length of each feature sequence. sequence_length = N in the feature sample [x(t),...,x(t-N)]\n",
    "        \"\"\"\n",
    "        print(\"M2 Implementation of LSTM RUSBoost\")\n",
    "        self.n_lstm = n_lstm\n",
    "        self.learning_rate = learning_rate\n",
    "        self.models = []\n",
    "        self.scaler = []\n",
    "        self.onehot_encoder = preprocessing.OneHotEncoder\n",
    "        self.sequence_length = sequence_length\n",
    "        self.estimator_errors_ = []\n",
    "        self.observation_weights_ = {}\n",
    "\n",
    "    def fit(self, df: pd.DataFrame, X_columns: str, y_column: str):\n",
    "        \"\"\"\n",
    "        param df: Training dataframe with shape (n_samples, ). Sample sequence order is expected to be received as [x(t),...,x(t-N)]\n",
    "        param X_columns: pattern matching DataFrame column names that contain the features\n",
    "        param y_column: name of DataFrame column name with the labels\n",
    "        \"\"\"        \n",
    "        \n",
    "        # Class labels mapping to internal indices ('lab1'->0, 'lab2'->1,...'labN'->N)\n",
    "        self.createLabelDict(np.unique(df[y_column]))\n",
    "        # `undersampling_n` elements to sample from each class, equal #samples minority class\n",
    "        undersampling_n = min(df[y_column].value_counts())\n",
    "\n",
    "        # Initialize observation weights as 1/(N*(k-1)) where N is total `n_samples` and k is the number of classes\n",
    "        N = df.shape[0]\n",
    "        k = len(self.classes)\n",
    "        B = N*(k-1)\n",
    "        D = {epoch: np.full(k-1,1/B) for epoch in df.index}\n",
    "\n",
    "        # Get whole dataset samples to later calculate the weighting factors on every iteration\n",
    "        X = df.filter(regex=(X_columns)).values\n",
    "        if X.shape[1] == self.sequence_length:\n",
    "            X = np.expand_dims(X, axis=2)\n",
    "        elif X.shape[1] % self.sequence_length == 0:\n",
    "            X = X.reshape((X.shape[0],self.sequence_length,int(X.shape[0]/self.sequence_length)), order='F')\n",
    "        else:\n",
    "            print(\"The length of all feature sequences must be the same\")\n",
    "        #Correctly order the sequence [X(t-N),...,X(t)]\n",
    "        X = np.flip(X, 1)\n",
    "\n",
    "        # Initialize input scaler for each feature\n",
    "        for feature in range(X.shape[2]):\n",
    "            self.scaler.append( preprocessing.MinMaxScaler().fit(np.array([[X[:,-1,feature].max()]*self.sequence_length, [X[:,-1,feature].min()]*self.sequence_length])) )\n",
    "            X[:,:,feature] = self.scaler[feature].transform(X[:,:,feature])\n",
    "        \n",
    "        # Initialize output one-hot vector encoder\n",
    "        y = df[y_column].values\n",
    "        iTL = np.vectorize(labelToIndex)\n",
    "        y_indices = iTL(y,self)\n",
    "        self.onehot_encoder = self.onehot_encoder().fit(np.expand_dims(y, axis=1))\n",
    "        \n",
    "        # M iterations (#WeakLearners)\n",
    "        for m in range(self.n_lstm):\n",
    "\n",
    "        # 1) Random UnderSampling\n",
    "            df_ = pd.DataFrame()\n",
    "            for label_ in self.classes:\n",
    "                df_ = pd.concat([ df_, df[ df[y_column]==label_ ].sample(undersampling_n, replace=False) ])\n",
    "            \n",
    "            # Training data initalization\n",
    "            X_ = df_.filter(regex=(X_columns)).values\n",
    "            if X_.shape[1] == self.sequence_length:\n",
    "                X_ = np.expand_dims(X_, axis=2)\n",
    "            elif X_.shape[1] % self.sequence_length == 0:\n",
    "                X_ = X_.reshape((X_.shape[0],self.sequence_length,int(X_.shape[0]/self.sequence_length)), order='F')\n",
    "            # Scale inputs\n",
    "            for feature in range(X_.shape[2]):\n",
    "                X_[:,:,feature] = self.scaler[feature].transform(X_[:,:,feature])\n",
    "            #Correctly order the sequence [X(t-N),...,X(t)]\n",
    "            X_ = np.flip(X_, 1)\n",
    "\n",
    "            y_ = df_[y_column].values\n",
    "            y_ = self.onehot_encoder.transform(np.expand_dims(y_, axis=1)).toarray()\n",
    "            D_ = np.sum([D[epoch] for epoch in df_.index], axis=-1)\n",
    "\n",
    "        # 2) LSTM training\n",
    "            num_features = X_.shape[2]\n",
    "            num_out = y_.shape[1]\n",
    "\n",
    "            model = keras.models.Sequential()\n",
    "\n",
    "            model.add(keras.layers.LSTM(\n",
    "                    input_shape=(self.sequence_length, num_features),\n",
    "                    units=32,\n",
    "                    return_sequences=False))\n",
    "            model.add(keras.layers.Dropout(0.2))\n",
    "\n",
    "            model.add(keras.layers.Dense(units=num_out, activation='softmax'))\n",
    "\n",
    "            model.compile(loss='categorical_crossentropy', optimizer='adam', metrics=['accuracy'])\n",
    "            model.fit(X_, y_, sample_weight=D_, epochs=5, batch_size=32, validation_split=0, verbose=0)\n",
    "        \n",
    "        # 3) Error-rate computation\n",
    "            predictions_proba = model.predict(X,verbose=None)\n",
    "            sum_pseudolosses = 0\n",
    "            for i, epoch in enumerate(D.keys()):\n",
    "                k_index = 0\n",
    "                for cl in range(k):\n",
    "                    if cl != y_indices[i]:\n",
    "                        sum_pseudolosses += D[epoch][k_index]*(1-predictions_proba[i,y_indices[i]]+predictions_proba[i,cl])\n",
    "                        k_index += 1\n",
    "\n",
    "            error = 0.5 * sum_pseudolosses\n",
    "            self.estimator_errors_.append(error)\n",
    "        \n",
    "        # 4) WeakLearner weight for ensemble computation\n",
    "            BetaM = error/(1-error)\n",
    "            self.models.append( (BetaM,model.predict) )\n",
    "\n",
    "        # 5) Observation weights update for next iteration with weights normalization\n",
    "            norm_ = 0\n",
    "            for i, epoch in enumerate(D.keys()):\n",
    "                k_index = 0\n",
    "                for cl in range(k):\n",
    "                    if cl != y_indices[i]:\n",
    "                        w_ = 0.5*(1+predictions_proba[i,y_indices[i]]-predictions_proba[i,cl])\n",
    "                        D[epoch][k_index] *= BetaM**(self.learning_rate*w_)\n",
    "                        norm_ += D[epoch][k_index]\n",
    "                        k_index += 1\n",
    "            for epoch in D.keys():\n",
    "                D[epoch] /= norm_\n",
    "\n",
    "        self.observation_weights_ = D\n",
    "        \n",
    "        return self\n",
    "            \n",
    "    def createLabelDict(self,classes):\n",
    "        self.labelDict = {}\n",
    "        self.classes = classes\n",
    "        for i,cl in enumerate(classes):\n",
    "            self.labelDict[cl] = i\n",
    "    \n",
    "    def predict(self,X):\n",
    "        if X.shape[1] == self.sequence_length:\n",
    "            X = np.expand_dims(X, axis=2)\n",
    "        elif X.shape[1] % self.sequence_length == 0:\n",
    "            X = X.reshape((X.shape[0],self.sequence_length,int(X.shape[0]/self.sequence_length)), order='F')\n",
    "        else:\n",
    "            print(\"The length of all feature sequences must be the same\")\n",
    "        \n",
    "        # Scale inputs\n",
    "        for feature in range(X.shape[2]):\n",
    "            X[:,:,feature] = self.scaler[feature].transform(X[:,:,feature])\n",
    "        \n",
    "        sum_model_hypothesis = np.sum(np.stack([-np.log(Bm)*Gm(X,verbose=None) for Bm,Gm in self.models], axis=-1), axis=-1)\n",
    "        return self.onehot_encoder.inverse_transform(sum_model_hypothesis)"
   ]
  },
  {
   "cell_type": "markdown",
   "metadata": {},
   "source": [
    "### **NO FEATURE ENGINEERING M2**"
   ]
  },
  {
   "cell_type": "code",
   "execution_count": 6,
   "metadata": {},
   "outputs": [
    {
     "name": "stdout",
     "output_type": "stream",
     "text": [
      "LINK 5\n",
      "M2 Implementation of LSTM RUSBoost\n",
      "\tLOS 1: Recall 86.89%\n",
      "\tLOS 2: Recall 54.01%\n",
      "\tLOS 3: Recall 28.22%\n",
      "\tLOS 4: Recall 31.31%\n",
      "\tLOS 5: Recall 24.29%\n",
      "\tLOS 6: Recall 49.63%\n",
      "LINK 6\n",
      "M2 Implementation of LSTM RUSBoost\n",
      "\tLOS 1: Recall 98.6%\n",
      "\tLOS 2: Recall 3.19%\n",
      "\tLOS 3: Recall 7.6%\n",
      "\tLOS 4: Recall 4.55%\n",
      "\tLOS 5: Recall 14.95%\n",
      "\tLOS 6: Recall 75.55%\n",
      "LINK 7\n",
      "M2 Implementation of LSTM RUSBoost\n",
      "\tLOS 1: Recall 98.49%\n",
      "\tLOS 2: Recall 0.0%\n",
      "\tLOS 3: Recall 10.71%\n",
      "\tLOS 4: Recall 0.0%\n",
      "\tLOS 5: Recall 0.0%\n",
      "\tLOS 6: Recall 83.38%\n",
      "LINK 8\n",
      "M2 Implementation of LSTM RUSBoost\n",
      "\tLOS 1: Recall 97.71%\n",
      "\tLOS 2: Recall 28.8%\n",
      "\tLOS 3: Recall 76.41%\n",
      "\tLOS 4: Recall 0.36%\n",
      "\tLOS 5: Recall 11.25%\n",
      "\tLOS 6: Recall 52.77%\n",
      "LINK 9\n",
      "M2 Implementation of LSTM RUSBoost\n",
      "\tLOS 1: Recall 92.41%\n",
      "\tLOS 2: Recall 0.0%\n",
      "\tLOS 3: Recall 0.0%\n",
      "\tLOS 4: Recall 36.82%\n",
      "\tLOS 5: Recall 0.0%\n",
      "\tLOS 6: Recall 45.89%\n",
      "LINK 10\n",
      "M2 Implementation of LSTM RUSBoost\n",
      "\tLOS 1: Recall 95.43%\n",
      "\tLOS 2: Recall 42.45%\n",
      "\tLOS 3: Recall 21.19%\n",
      "\tLOS 4: Recall 5.6%\n",
      "\tLOS 5: Recall 10.18%\n",
      "\tLOS 6: Recall 43.55%\n"
     ]
    }
   ],
   "source": [
    "for LINK in range(5,11):\n",
    "    print(f\"LINK {LINK}\")\n",
    "    \n",
    "    filename = f'{ROOT}/models/LSTM-RUSBoost_{PREDICTED_MINUTES_AHEAD}m_horizon_{INPUT_MINUTES_BEFORE}m_M2_nofeat_link{LINK}.joblib'\n",
    "\n",
    "    model = LSTMRUSBoostClassifier_(sequence_length=int(INPUT_MINUTES_BEFORE/5)+1, n_lstm=30, learning_rate=0.3).fit(training_df[training_df['link_id'] == LINK], \"tt_arr.*\", 'LOS_dep')\n",
    "    #joblib.dump(model, filename)\n",
    "\n",
    "    for LOS in range(1,7):\n",
    "        X_test = validation_df[(validation_df['link_id'] == LINK) & (validation_df['LOS_dep'] == LOS)].filter(regex=(\"tt_arr.*\")).values\n",
    "        y_pred = model.predict(X_test)\n",
    "\n",
    "        score = metrics.recall_score([LOS]*len(y_pred), y_pred, average='micro')\n",
    "        print(f\"\\tLOS {LOS}: Recall {round(score*100, 2) }%\")"
   ]
  },
  {
   "cell_type": "markdown",
   "metadata": {
    "id": "l3Uq8ZqIQ55g",
    "jp-MarkdownHeadingCollapsed": true,
    "tags": []
   },
   "source": [
    "# **CLEAN UP**"
   ]
  },
  {
   "cell_type": "code",
   "execution_count": null,
   "metadata": {
    "colab": {
     "base_uri": "https://localhost:8080/"
    },
    "id": "aMbYu1JbnzEy",
    "outputId": "748cdc1c-738c-4908-e1c9-efd6ca3dc112"
   },
   "outputs": [
    {
     "name": "stdout",
     "output_type": "stream",
     "text": [
      "fatal: not a git repository (or any of the parent directories): .git\n"
     ]
    }
   ],
   "source": [
    "!git status"
   ]
  },
  {
   "cell_type": "code",
   "execution_count": null,
   "metadata": {
    "id": "kQnWKUfl8zBx"
   },
   "outputs": [],
   "source": [
    "!git pull"
   ]
  },
  {
   "cell_type": "markdown",
   "metadata": {
    "id": "rN4hjHN5n8ns"
   },
   "source": [
    "## COMMIT AND REMOVE"
   ]
  },
  {
   "cell_type": "code",
   "execution_count": null,
   "metadata": {
    "colab": {
     "base_uri": "https://localhost:8080/"
    },
    "id": "xKwc6DK9xcrr",
    "outputId": "f818a739-6cb7-4c61-ee9f-969701996e61"
   },
   "outputs": [],
   "source": [
    "%cd /content/Traffic\n",
    "!sh /content/drive/MyDrive/Traffic/scripts/logout.sh"
   ]
  },
  {
   "cell_type": "code",
   "execution_count": null,
   "metadata": {
    "colab": {
     "base_uri": "https://localhost:8080/",
     "height": 304
    },
    "id": "2ifNpENMcesP",
    "outputId": "ca191f22-7c84-4569-e9cd-25875f101521"
   },
   "outputs": [],
   "source": [
    "drive.flush_and_unmount()\n",
    "!rm -rf /content/Traffic"
   ]
  }
 ],
 "metadata": {
  "colab": {
   "authorship_tag": "ABX9TyMHe0NkQoa9ACIkTbFtjTmK",
   "include_colab_link": true,
   "mount_file_id": "1Z2Z4EeQPbfgdwWew4IfwOLqQ_conuu2c",
   "provenance": []
  },
  "gpuClass": "standard",
  "kernelspec": {
   "display_name": "Python 3",
   "language": "python",
   "name": "python3"
  },
  "language_info": {
   "codemirror_mode": {
    "name": "ipython",
    "version": 3
   },
   "file_extension": ".py",
   "mimetype": "text/x-python",
   "name": "python",
   "nbconvert_exporter": "python",
   "pygments_lexer": "ipython3",
   "version": "3.9.16"
  }
 },
 "nbformat": 4,
 "nbformat_minor": 4
}
