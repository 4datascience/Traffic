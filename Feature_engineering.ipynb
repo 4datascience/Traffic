{
  "nbformat": 4,
  "nbformat_minor": 0,
  "metadata": {
    "colab": {
      "provenance": [],
      "mount_file_id": "1Z2Z4EeQPbfgdwWew4IfwOLqQ_conuu2c",
      "authorship_tag": "ABX9TyMDK6NtTn0s3T3RuWbMt1W8",
      "include_colab_link": true
    },
    "kernelspec": {
      "name": "python3",
      "display_name": "Python 3"
    },
    "language_info": {
      "name": "python"
    }
  },
  "cells": [
    {
      "cell_type": "markdown",
      "metadata": {
        "id": "view-in-github",
        "colab_type": "text"
      },
      "source": [
        "<a href=\"https://colab.research.google.com/github/4datascience/Traffic/blob/master/Feature_engineering.ipynb\" target=\"_parent\"><img src=\"https://colab.research.google.com/assets/colab-badge.svg\" alt=\"Open In Colab\"/></a>"
      ]
    },
    {
      "cell_type": "code",
      "execution_count": 1,
      "metadata": {
        "colab": {
          "base_uri": "https://localhost:8080/"
        },
        "id": "PtJt6uekJtLb",
        "outputId": "be4178e7-459e-4fa6-88c5-b4faeaa18483"
      },
      "outputs": [
        {
          "output_type": "stream",
          "name": "stdout",
          "text": [
            "Mounted at /content/drive\n"
          ]
        }
      ],
      "source": [
        "from google.colab import drive\n",
        "drive.mount('/content/drive')\n",
        "!rm -rf sample_data\n",
        "!sh /content/drive/MyDrive/Traffic/scripts/initialisation.sh"
      ]
    },
    {
      "cell_type": "markdown",
      "source": [
        "#**UPLOAD DATA**"
      ],
      "metadata": {
        "id": "wOQaX0TnQJti"
      }
    },
    {
      "cell_type": "markdown",
      "source": [
        "## FROM GOOGLE DRIVE TO GOOGLE DRIVE"
      ],
      "metadata": {
        "id": "fRqNJgJxQf8l"
      }
    },
    {
      "cell_type": "code",
      "source": [
        "import os\n",
        "import pandas as pd\n",
        "\n",
        "PREDICTED_MINUTES_AHEAD = 5\n",
        "if (PREDICTED_MINUTES_AHEAD%5 != 0): raise ValueError(\"Invalid prediction horizon. Must be multiple of 5 minutes\")\n",
        "\n",
        "training = []\n",
        "validation = []\n",
        "total_size = 0\n",
        "\n",
        "directory = '/content/drive/MyDrive/Traffic/data/processed/'\n",
        "for filename in os.listdir(directory):\n",
        "    f = os.path.join(directory, filename)\n",
        "    df=pd.read_csv(f)\n",
        "    print(f'{filename} {df.shape[0]/(60*24*6)}')\n",
        "    df[\"date\"] = pd.to_datetime(df[\"date\"], format='%d-%b-%Y %H:%M:%S')\n",
        "    df = df.set_index(\"date\")\n",
        "    Y = df.shift(-PREDICTED_MINUTES_AHEAD, freq='min')[['link_id', 'LOS_dep']]\n",
        "    # Training set\n",
        "    X = df.loc[(df.index.day < 20)][['link_id', 'tt_arr']]\n",
        "    training.append( pd.merge(X, Y, on=['date', 'link_id'], how='inner') )\n",
        "    # Validation set\n",
        "    X = df.loc[~(df.index.day < 20)][['link_id', 'tt_arr']]\n",
        "    validation.append( pd.merge(X, Y, on=['date', 'link_id'], how='inner') )\n",
        "    total_size += df.shape[0]\n",
        "del df\n",
        "training_df = pd.concat(training)\n",
        "validation_df = pd.concat(validation)\n",
        "\n",
        "del training, validation\n",
        "print(f'Training percentage ({training_df.shape[0]} elements):\\n\\t{training_df.shape[0] / total_size * 100}%')\n",
        "print(f'Validation percentage:\\n\\t{validation_df.shape[0] / total_size * 100}%')\n",
        "\n",
        "training_df.to_csv(f'/content/drive/MyDrive/Traffic/data/intermediate/Sevilla_Naive_Bayes_{PREDICTED_MINUTES_AHEAD}m_training.csv')\n",
        "validation_df.to_csv(f'/content/drive/MyDrive/Traffic/data/intermediate/Sevilla_Naive_Bayes_{PREDICTED_MINUTES_AHEAD}m_validating.csv')"
      ],
      "metadata": {
        "id": "0Jet-m9yQJSQ",
        "outputId": "6bdede64-991f-498e-8672-06cdf8f61cb3",
        "colab": {
          "base_uri": "https://localhost:8080/"
        }
      },
      "execution_count": 132,
      "outputs": [
        {
          "output_type": "stream",
          "name": "stdout",
          "text": [
            "Sevilla_2015.csv 365.0\n",
            "Sevilla_2016.csv 366.0\n",
            "Sevilla_2017.csv 365.0\n",
            "Sevilla_2018.csv 273.0\n",
            "Training percentage (7387200 elements):\n",
            "\t62.45434623813002%\n",
            "Validation percentage:\n",
            "\t37.54463923382843%\n"
          ]
        }
      ]
    },
    {
      "cell_type": "markdown",
      "source": [
        "# **NAIVE BAYES**"
      ],
      "metadata": {
        "id": "Jf0vYHbXf_9d"
      }
    },
    {
      "cell_type": "markdown",
      "source": [
        "## **NO FEATURE ENGINEERING**"
      ],
      "metadata": {
        "id": "b0q_xwSKgXob"
      }
    },
    {
      "cell_type": "code",
      "source": [
        "training_df[training_df['LOS_dep']==4]['link_id'].value_counts()"
      ],
      "metadata": {
        "colab": {
          "base_uri": "https://localhost:8080/"
        },
        "id": "aFC0a5S-yL30",
        "outputId": "3affc334-76be-4f6f-aef9-04b1e15ecbf9"
      },
      "execution_count": 43,
      "outputs": [
        {
          "output_type": "execute_result",
          "data": {
            "text/plain": [
              "5     28407\n",
              "6     20875\n",
              "10    20101\n",
              "7     11497\n",
              "8      8188\n",
              "9      4173\n",
              "Name: link_id, dtype: int64"
            ]
          },
          "metadata": {},
          "execution_count": 43
        }
      ]
    },
    {
      "cell_type": "code",
      "source": [
        "base_df=training_df[training_df['link_id']==9][\"2016-05-20\":\"2016-08-20\"]\n",
        "pd.merge(base_df['LOS_dep'],\n",
        "pd.DataFrame(list(base_df.index.weekday), index=base_df.index, columns=['weekday']), left_index=True, right_index=True).plot()"
      ],
      "metadata": {
        "colab": {
          "base_uri": "https://localhost:8080/",
          "height": 302
        },
        "id": "7BHnjgq-zkvk",
        "outputId": "d0a7a032-7661-43ea-abf9-125cd84f2f38"
      },
      "execution_count": 108,
      "outputs": [
        {
          "output_type": "execute_result",
          "data": {
            "text/plain": [
              "<matplotlib.axes._subplots.AxesSubplot at 0x7fed683b85e0>"
            ]
          },
          "metadata": {},
          "execution_count": 108
        },
        {
          "output_type": "display_data",
          "data": {
            "text/plain": [
              "<Figure size 432x288 with 1 Axes>"
            ],
            "image/png": "[encoded data removed]"
          },
          "metadata": {
            "needs_background": "light"
          }
        }
      ]
    },
    {
      "cell_type": "markdown",
      "source": [
        "# **CLEAN UP**"
      ],
      "metadata": {
        "id": "l3Uq8ZqIQ55g"
      }
    },
    {
      "cell_type": "code",
      "source": [
        "!sh /content/drive/MyDrive/Traffic/scripts/logout.sh\n",
        "drive.flush_and_unmount()"
      ],
      "metadata": {
        "id": "fz-q08HgOF6X"
      },
      "execution_count": null,
      "outputs": []
    }
  ]
}