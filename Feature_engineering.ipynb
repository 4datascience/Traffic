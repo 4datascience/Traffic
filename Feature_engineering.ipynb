{
  "nbformat": 4,
  "nbformat_minor": 0,
  "metadata": {
    "colab": {
      "provenance": [],
      "mount_file_id": "1Z2Z4EeQPbfgdwWew4IfwOLqQ_conuu2c",
      "authorship_tag": "ABX9TyMawKI4yDI54U1z0fRGKk94",
      "include_colab_link": true
    },
    "kernelspec": {
      "name": "python3",
      "display_name": "Python 3"
    },
    "language_info": {
      "name": "python"
    },
    "accelerator": "GPU",
    "gpuClass": "standard"
  },
  "cells": [
    {
      "cell_type": "markdown",
      "metadata": {
        "id": "view-in-github",
        "colab_type": "text"
      },
      "source": [
        "<a href=\"https://colab.research.google.com/github/4datascience/Traffic/blob/master/Feature_engineering.ipynb\" target=\"_parent\"><img src=\"https://colab.research.google.com/assets/colab-badge.svg\" alt=\"Open In Colab\"/></a>"
      ]
    },
    {
      "cell_type": "markdown",
      "source": [
        "#**INITIALISATION**"
      ],
      "metadata": {
        "id": "uZ_KQy9CaghT"
      }
    },
    {
      "cell_type": "markdown",
      "source": [
        "## Python Environment"
      ],
      "metadata": {
        "id": "J1aLPKnRdfSq"
      }
    },
    {
      "cell_type": "markdown",
      "source": [
        "### Import Python libraries"
      ],
      "metadata": {
        "id": "2O_6vDSUdG5G"
      }
    },
    {
      "cell_type": "code",
      "source": [
        "# Data libraries\n",
        "from google.colab import drive\n",
        "import os\n",
        "import pandas as pd\n",
        "import calendar\n",
        "import numpy as np\n",
        "import gc\n",
        "import math\n",
        "\n",
        "# Plotting\n",
        "import matplotlib.pyplot as plt\n",
        "from matplotlib.ticker import StrMethodFormatter\n",
        "from seaborn import violinplot, boxenplot\n",
        "\n",
        "# Model training\n",
        "from sklearn.model_selection import cross_validate\n",
        "from sklearn import metrics, preprocessing\n",
        "from sklearn.pipeline import make_pipeline\n",
        "from sklearn.naive_bayes import GaussianNB\n",
        "from imblearn.ensemble import RUSBoostClassifier\n",
        "from sklearn.tree import DecisionTreeClassifier\n",
        "    # Keras\n",
        "from tensorflow import keras\n",
        "from keras.models import Sequential\n",
        "from keras.layers import Dense, Dropout, LSTM, Activation, Lambda\n",
        "    # Tensorflow\n",
        "import tensorflow as tf\n",
        "\n",
        "# Statistical tests\n",
        "from scipy.stats import shapiro"
      ],
      "metadata": {
        "id": "0aZLKV7udGBe"
      },
      "execution_count": 68,
      "outputs": []
    },
    {
      "cell_type": "markdown",
      "source": [
        "### SET ENVIRONMENT VARIABLES"
      ],
      "metadata": {
        "id": "4sHUoA4jdmit"
      }
    },
    {
      "cell_type": "code",
      "source": [
        "# PREDICTION HORIZON\n",
        "PREDICTED_MINUTES_AHEAD = 5\n",
        "if (PREDICTED_MINUTES_AHEAD%5 != 0): raise ValueError(\"Invalid prediction horizon. Must be multiple of 5 minutes\")"
      ],
      "metadata": {
        "id": "aGdil-f9dr5k"
      },
      "execution_count": 2,
      "outputs": []
    },
    {
      "cell_type": "markdown",
      "source": [
        "## Files"
      ],
      "metadata": {
        "id": "v7P6CQyDdblM"
      }
    },
    {
      "cell_type": "markdown",
      "source": [
        "### Mount \\<Google Drive\\>"
      ],
      "metadata": {
        "id": "s7uxqluGalb6"
      }
    },
    {
      "cell_type": "code",
      "execution_count": 3,
      "metadata": {
        "colab": {
          "base_uri": "https://localhost:8080/"
        },
        "id": "PtJt6uekJtLb",
        "outputId": "980df953-46b5-43c4-9a9a-5fc4d77d6ce5"
      },
      "outputs": [
        {
          "output_type": "stream",
          "name": "stdout",
          "text": [
            "Mounted at /content/drive\n"
          ]
        }
      ],
      "source": [
        "drive.mount('/content/drive')\n",
        "!rm -rf sample_data"
      ]
    },
    {
      "cell_type": "markdown",
      "source": [
        "### Clone \\<Github\\>"
      ],
      "metadata": {
        "id": "EPQCjHeEa0Tt"
      }
    },
    {
      "cell_type": "code",
      "source": [
        "!sh /content/drive/MyDrive/Traffic/scripts/initialisation.sh"
      ],
      "metadata": {
        "id": "9T3lXEPdJv29",
        "outputId": "1faeefbc-de83-4fa7-bb5c-d6e833f46995",
        "colab": {
          "base_uri": "https://localhost:8080/"
        }
      },
      "execution_count": 4,
      "outputs": [
        {
          "output_type": "stream",
          "name": "stdout",
          "text": [
            "/content/drive/MyDrive/Traffic/scripts/initialisation.sh: 1: %cd: not found\n",
            "Cloning into 'Traffic'...\n",
            "remote: Enumerating objects: 80, done.\u001b[K\n",
            "remote: Counting objects: 100% (80/80), done.\u001b[K\n",
            "remote: Compressing objects: 100% (73/73), done.\u001b[K\n",
            "remote: Total 80 (delta 32), reused 26 (delta 2), pack-reused 0\u001b[K\n",
            "Unpacking objects: 100% (80/80), 4.96 MiB | 4.00 MiB/s, done.\n",
            "/content/drive/MyDrive/Traffic/scripts/initialisation.sh: 3: %cd: not found\n"
          ]
        }
      ]
    },
    {
      "cell_type": "code",
      "source": [
        "%cd /content/Traffic\n",
        "!git config user.email diego@google.colab.com\n",
        "!git config user.name \"Google Colab\"\n",
        "!git config http.postBuffer 524288000"
      ],
      "metadata": {
        "id": "wTfD2Vw6a64d",
        "outputId": "e95caff1-4adf-40c1-f009-5751337c857d",
        "colab": {
          "base_uri": "https://localhost:8080/"
        }
      },
      "execution_count": 5,
      "outputs": [
        {
          "output_type": "stream",
          "name": "stdout",
          "text": [
            "/content/Traffic\n"
          ]
        }
      ]
    },
    {
      "cell_type": "markdown",
      "source": [
        "#**UPLOAD DATA**"
      ],
      "metadata": {
        "id": "wOQaX0TnQJti"
      }
    },
    {
      "cell_type": "markdown",
      "source": [
        "## TO GOOGLE DRIVE [ LINK_ID, TT_ARR, LOS_DEP ]"
      ],
      "metadata": {
        "id": "fRqNJgJxQf8l"
      }
    },
    {
      "cell_type": "code",
      "source": [
        "\n",
        "\n",
        "training = []\n",
        "validation = []\n",
        "total_size = 0\n",
        "\n",
        "directory = '/content/drive/MyDrive/Traffic/data/processed/'\n",
        "for filename in os.listdir(directory):\n",
        "    f = os.path.join(directory, filename)\n",
        "    df=pd.read_csv(f)\n",
        "    print(f'{filename} {df.shape[0]/(60*24*6)}')\n",
        "    df[\"date\"] = pd.to_datetime(df[\"date\"], format='%d-%b-%Y %H:%M:%S')\n",
        "    df = df.set_index(\"date\")\n",
        "    Y = df.shift(-PREDICTED_MINUTES_AHEAD, freq='min')[['link_id', 'LOS_dep']]\n",
        "    # Training set\n",
        "    X = df.loc[(df.index.day < 20)][['link_id', 'tt_arr']]\n",
        "    training.append( pd.merge(X, Y, on=['date', 'link_id'], how='inner') )\n",
        "    # Validation set\n",
        "    X = df.loc[~(df.index.day < 20)][['link_id', 'tt_arr']]\n",
        "    validation.append( pd.merge(X, Y, on=['date', 'link_id'], how='inner') )\n",
        "    total_size += df.shape[0]\n",
        "del df\n",
        "training_df = pd.concat(training)\n",
        "validation_df = pd.concat(validation)\n",
        "\n",
        "del training, validation\n",
        "print(f'Training percentage ({training_df.shape[0]} elements):\\n\\t{training_df.shape[0] / total_size * 100}%')\n",
        "print(f'Validation percentage:\\n\\t{validation_df.shape[0] / total_size * 100}%')\n",
        "\n",
        "training_df.to_csv(f'/content/drive/MyDrive/Traffic/data/intermediate/Sevilla_{PREDICTED_MINUTES_AHEAD}m_training.csv')\n",
        "validation_df.to_csv(f'/content/drive/MyDrive/Traffic/data/intermediate/Sevilla_{PREDICTED_MINUTES_AHEAD}m_validating.csv')"
      ],
      "metadata": {
        "id": "0Jet-m9yQJSQ",
        "outputId": "8b659314-fbf3-4f74-ba1d-c4af2da2e837",
        "colab": {
          "base_uri": "https://localhost:8080/"
        }
      },
      "execution_count": null,
      "outputs": [
        {
          "output_type": "stream",
          "name": "stdout",
          "text": [
            "Sevilla_2015.csv 365.0\n",
            "Sevilla_2016.csv 366.0\n",
            "Sevilla_2017.csv 365.0\n",
            "Sevilla_2018.csv 273.0\n",
            "Training percentage (7387200 elements):\n",
            "\t62.45434623813002%\n",
            "Validation percentage:\n",
            "\t37.54261017774531%\n"
          ]
        }
      ]
    },
    {
      "cell_type": "markdown",
      "source": [
        "## TO GOOGLE DRIVE [ LINK_ID, TT_ARR, TT_ARR-5, TT_ARR-10, ..., TT_ARR-N, LOS_DEP ]"
      ],
      "metadata": {
        "id": "uNktJwINXeVt"
      }
    },
    {
      "cell_type": "code",
      "source": [
        "\n",
        "\n",
        "training = []\n",
        "validation = []\n",
        "total_size = 0\n",
        "\n",
        "directory = '/content/drive/MyDrive/Traffic/data/processed/'\n",
        "for filename in os.listdir(directory):\n",
        "    f = os.path.join(directory, filename)\n",
        "    df=pd.read_csv(f)\n",
        "    print(f'{filename} {df.shape[0]/(60*24*6)}')\n",
        "    df[\"date\"] = pd.to_datetime(df[\"date\"], format='%d-%b-%Y %H:%M:%S')\n",
        "    df = df.set_index(\"date\")\n",
        "    Y = df.shift(-PREDICTED_MINUTES_AHEAD, freq='min')[['link_id', 'LOS_dep']]\n",
        "    # Training set\n",
        "    X = df.loc[(df.index.day < 20)][['link_id', 'tt_arr']]\n",
        "    for offset in range(1,int((50-PREDICTED_MINUTES_AHEAD)/5)+1):\n",
        "        X = pd.merge(X, df.shift(offset*5, freq='min')[['link_id', 'tt_arr']], on=['date', 'link_id'], how='inner', suffixes=[None, f'-{int(offset*5)}'])\n",
        "    training.append( pd.merge(X, Y, on=['date', 'link_id'], how='inner') )\n",
        "    # Validation set\n",
        "    X = df.loc[~(df.index.day < 20)][['link_id', 'tt_arr']]\n",
        "    for offset in range(1,int((50-PREDICTED_MINUTES_AHEAD)/5)+1):\n",
        "        X = pd.merge(X, df.shift(offset*5, freq='min')[['link_id', 'tt_arr']], on=['date', 'link_id'], how='inner', suffixes=[None, f'-{int(offset*5)}'])\n",
        "    validation.append( pd.merge(X, Y, on=['date', 'link_id'], how='inner') )\n",
        "    total_size += df.shape[0]\n",
        "del df\n",
        "training_df = pd.concat(training)\n",
        "validation_df = pd.concat(validation)\n",
        "\n",
        "del training, validation\n",
        "print(f'Training percentage ({training_df.shape[0]} elements):\\n\\t{training_df.shape[0] / total_size * 100}%')\n",
        "print(f'Validation percentage:\\n\\t{validation_df.shape[0] / total_size * 100}%')\n",
        "\n",
        "training_df.to_csv(f'/content/drive/MyDrive/Traffic/data/intermediate/Sevilla_{PREDICTED_MINUTES_AHEAD}m_temporalinfo_training.csv')\n",
        "validation_df.to_csv(f'/content/drive/MyDrive/Traffic/data/intermediate/Sevilla_{PREDICTED_MINUTES_AHEAD}m_temporalinfo_validating.csv')"
      ],
      "metadata": {
        "id": "BokEgQrdavRt",
        "outputId": "7119f739-7613-49f5-e73d-465bca4b05eb",
        "colab": {
          "base_uri": "https://localhost:8080/"
        }
      },
      "execution_count": null,
      "outputs": [
        {
          "output_type": "stream",
          "name": "stdout",
          "text": [
            "Sevilla_2015.csv 365.0\n",
            "Sevilla_2016.csv 366.0\n",
            "Sevilla_2017.csv 365.0\n",
            "Sevilla_2018.csv 273.0\n",
            "Training percentage (7386120 elements):\n",
            "\t62.44521548575602%\n",
            "Validation percentage:\n",
            "\t37.54463923382843%\n"
          ]
        }
      ]
    },
    {
      "cell_type": "markdown",
      "source": [
        "#**DOWNLOAD DATA**"
      ],
      "metadata": {
        "id": "GNBT0n1PaJDE"
      }
    },
    {
      "cell_type": "markdown",
      "source": [
        "## Without temporal information"
      ],
      "metadata": {
        "id": "lQ3s6vVAhUqe"
      }
    },
    {
      "cell_type": "code",
      "source": [
        "training_df = pd.read_csv(f'/content/drive/MyDrive/Traffic/data/intermediate/Sevilla_{PREDICTED_MINUTES_AHEAD}m_training.csv')\n",
        "training_df[\"date\"] = pd.to_datetime(training_df[\"date\"], format='%Y-%m-%d %H:%M:%S')\n",
        "training_df = training_df.set_index(\"date\")\n",
        "validation_df = pd.read_csv(f'/content/drive/MyDrive/Traffic/data/intermediate/Sevilla_{PREDICTED_MINUTES_AHEAD}m_validating.csv')\n",
        "validation_df[\"date\"] = pd.to_datetime(validation_df[\"date\"], format='%Y-%m-%d %H:%M:%S')\n",
        "validation_df = validation_df.set_index(\"date\")"
      ],
      "metadata": {
        "id": "VbJeopr8bNxm"
      },
      "execution_count": 6,
      "outputs": []
    },
    {
      "cell_type": "markdown",
      "source": [
        "## With temporal information"
      ],
      "metadata": {
        "id": "kVAtVDMNhafE"
      }
    },
    {
      "cell_type": "code",
      "source": [
        "training_df = pd.read_csv(f'/content/drive/MyDrive/Traffic/data/intermediate/Sevilla_{PREDICTED_MINUTES_AHEAD}m_temporalinfo_training.csv')\n",
        "training_df[\"date\"] = pd.to_datetime(training_df[\"date\"], format='%Y-%m-%d %H:%M:%S')\n",
        "training_df = training_df.set_index(\"date\")\n",
        "validation_df = pd.read_csv(f'/content/drive/MyDrive/Traffic/data/intermediate/Sevilla_{PREDICTED_MINUTES_AHEAD}m_temporalinfo_validating.csv')\n",
        "validation_df[\"date\"] = pd.to_datetime(validation_df[\"date\"], format='%Y-%m-%d %H:%M:%S')\n",
        "validation_df = validation_df.set_index(\"date\")"
      ],
      "metadata": {
        "id": "uinjRHA3hcbc"
      },
      "execution_count": null,
      "outputs": []
    },
    {
      "cell_type": "markdown",
      "source": [
        "# DATA EXPLORATION"
      ],
      "metadata": {
        "id": "u_1jQ8xMeJVL"
      }
    },
    {
      "cell_type": "markdown",
      "source": [
        "## Visual"
      ],
      "metadata": {
        "id": "F4Q-LjQboREY"
      }
    },
    {
      "cell_type": "markdown",
      "source": [
        "> Dataframe content"
      ],
      "metadata": {
        "id": "kWEUIgWaiIHu"
      }
    },
    {
      "cell_type": "code",
      "source": [
        "training_df[training_df['link_id']==8].head(10)"
      ],
      "metadata": {
        "colab": {
          "base_uri": "https://localhost:8080/",
          "height": 438
        },
        "id": "E33RcTyqFuxE",
        "outputId": "229f6004-5c27-45af-a87a-399ae5f6e8bd"
      },
      "execution_count": null,
      "outputs": [
        {
          "output_type": "execute_result",
          "data": {
            "text/plain": [
              "                     link_id  tt_arr  tt_arr-5  tt_arr-10  tt_arr-15  \\\n",
              "date                                                                   \n",
              "2015-01-01 00:45:00        8   109.0     109.0      109.0      109.0   \n",
              "2015-01-01 00:46:00        8   109.0     109.0      109.0      109.0   \n",
              "2015-01-01 00:47:00        8   109.0     109.0      109.0      109.0   \n",
              "2015-01-01 00:48:00        8   109.0     109.0      109.0      109.0   \n",
              "2015-01-01 00:49:00        8   109.0     109.0      109.0      109.0   \n",
              "2015-01-01 00:50:00        8   109.0     109.0      109.0      109.0   \n",
              "2015-01-01 00:51:00        8   109.0     109.0      109.0      109.0   \n",
              "2015-01-01 00:52:00        8   109.0     109.0      109.0      109.0   \n",
              "2015-01-01 00:53:00        8   109.0     109.0      109.0      109.0   \n",
              "2015-01-01 00:54:00        8   109.0     109.0      109.0      109.0   \n",
              "\n",
              "                     tt_arr-20  tt_arr-25  tt_arr-30  tt_arr-35  tt_arr-40  \\\n",
              "date                                                                         \n",
              "2015-01-01 00:45:00      109.0      109.0      109.0      109.0      109.0   \n",
              "2015-01-01 00:46:00      109.0      109.0      109.0      109.0      109.0   \n",
              "2015-01-01 00:47:00      109.0      109.0      109.0      109.0      109.0   \n",
              "2015-01-01 00:48:00      109.0      109.0      109.0      109.0      109.0   \n",
              "2015-01-01 00:49:00      109.0      109.0      109.0      109.0      109.0   \n",
              "2015-01-01 00:50:00      109.0      109.0      109.0      109.0      109.0   \n",
              "2015-01-01 00:51:00      109.0      109.0      109.0      109.0      109.0   \n",
              "2015-01-01 00:52:00      109.0      109.0      109.0      109.0      109.0   \n",
              "2015-01-01 00:53:00      109.0      109.0      109.0      109.0      109.0   \n",
              "2015-01-01 00:54:00      109.0      109.0      109.0      109.0      109.0   \n",
              "\n",
              "                     tt_arr-45  LOS_dep  \n",
              "date                                     \n",
              "2015-01-01 00:45:00      109.0        1  \n",
              "2015-01-01 00:46:00      109.0        1  \n",
              "2015-01-01 00:47:00      109.0        1  \n",
              "2015-01-01 00:48:00      109.0        1  \n",
              "2015-01-01 00:49:00      109.0        1  \n",
              "2015-01-01 00:50:00      109.0        1  \n",
              "2015-01-01 00:51:00      109.0        1  \n",
              "2015-01-01 00:52:00      109.0        1  \n",
              "2015-01-01 00:53:00      109.0        1  \n",
              "2015-01-01 00:54:00      109.0        1  "
            ],
            "text/html": [
              "\n",
              "  <div id=\"df-63e02ab5-0bec-47ae-a1b7-f98cfa69c665\">\n",
              "    <div class=\"colab-df-container\">\n",
              "      <div>\n",
              "<style scoped>\n",
              "    .dataframe tbody tr th:only-of-type {\n",
              "        vertical-align: middle;\n",
              "    }\n",
              "\n",
              "    .dataframe tbody tr th {\n",
              "        vertical-align: top;\n",
              "    }\n",
              "\n",
              "    .dataframe thead th {\n",
              "        text-align: right;\n",
              "    }\n",
              "</style>\n",
              "<table border=\"1\" class=\"dataframe\">\n",
              "  <thead>\n",
              "    <tr style=\"text-align: right;\">\n",
              "      <th></th>\n",
              "      <th>link_id</th>\n",
              "      <th>tt_arr</th>\n",
              "      <th>tt_arr-5</th>\n",
              "      <th>tt_arr-10</th>\n",
              "      <th>tt_arr-15</th>\n",
              "      <th>tt_arr-20</th>\n",
              "      <th>tt_arr-25</th>\n",
              "      <th>tt_arr-30</th>\n",
              "      <th>tt_arr-35</th>\n",
              "      <th>tt_arr-40</th>\n",
              "      <th>tt_arr-45</th>\n",
              "      <th>LOS_dep</th>\n",
              "    </tr>\n",
              "    <tr>\n",
              "      <th>date</th>\n",
              "      <th></th>\n",
              "      <th></th>\n",
              "      <th></th>\n",
              "      <th></th>\n",
              "      <th></th>\n",
              "      <th></th>\n",
              "      <th></th>\n",
              "      <th></th>\n",
              "      <th></th>\n",
              "      <th></th>\n",
              "      <th></th>\n",
              "      <th></th>\n",
              "    </tr>\n",
              "  </thead>\n",
              "  <tbody>\n",
              "    <tr>\n",
              "      <th>2015-01-01 00:45:00</th>\n",
              "      <td>8</td>\n",
              "      <td>109.0</td>\n",
              "      <td>109.0</td>\n",
              "      <td>109.0</td>\n",
              "      <td>109.0</td>\n",
              "      <td>109.0</td>\n",
              "      <td>109.0</td>\n",
              "      <td>109.0</td>\n",
              "      <td>109.0</td>\n",
              "      <td>109.0</td>\n",
              "      <td>109.0</td>\n",
              "      <td>1</td>\n",
              "    </tr>\n",
              "    <tr>\n",
              "      <th>2015-01-01 00:46:00</th>\n",
              "      <td>8</td>\n",
              "      <td>109.0</td>\n",
              "      <td>109.0</td>\n",
              "      <td>109.0</td>\n",
              "      <td>109.0</td>\n",
              "      <td>109.0</td>\n",
              "      <td>109.0</td>\n",
              "      <td>109.0</td>\n",
              "      <td>109.0</td>\n",
              "      <td>109.0</td>\n",
              "      <td>109.0</td>\n",
              "      <td>1</td>\n",
              "    </tr>\n",
              "    <tr>\n",
              "      <th>2015-01-01 00:47:00</th>\n",
              "      <td>8</td>\n",
              "      <td>109.0</td>\n",
              "      <td>109.0</td>\n",
              "      <td>109.0</td>\n",
              "      <td>109.0</td>\n",
              "      <td>109.0</td>\n",
              "      <td>109.0</td>\n",
              "      <td>109.0</td>\n",
              "      <td>109.0</td>\n",
              "      <td>109.0</td>\n",
              "      <td>109.0</td>\n",
              "      <td>1</td>\n",
              "    </tr>\n",
              "    <tr>\n",
              "      <th>2015-01-01 00:48:00</th>\n",
              "      <td>8</td>\n",
              "      <td>109.0</td>\n",
              "      <td>109.0</td>\n",
              "      <td>109.0</td>\n",
              "      <td>109.0</td>\n",
              "      <td>109.0</td>\n",
              "      <td>109.0</td>\n",
              "      <td>109.0</td>\n",
              "      <td>109.0</td>\n",
              "      <td>109.0</td>\n",
              "      <td>109.0</td>\n",
              "      <td>1</td>\n",
              "    </tr>\n",
              "    <tr>\n",
              "      <th>2015-01-01 00:49:00</th>\n",
              "      <td>8</td>\n",
              "      <td>109.0</td>\n",
              "      <td>109.0</td>\n",
              "      <td>109.0</td>\n",
              "      <td>109.0</td>\n",
              "      <td>109.0</td>\n",
              "      <td>109.0</td>\n",
              "      <td>109.0</td>\n",
              "      <td>109.0</td>\n",
              "      <td>109.0</td>\n",
              "      <td>109.0</td>\n",
              "      <td>1</td>\n",
              "    </tr>\n",
              "    <tr>\n",
              "      <th>2015-01-01 00:50:00</th>\n",
              "      <td>8</td>\n",
              "      <td>109.0</td>\n",
              "      <td>109.0</td>\n",
              "      <td>109.0</td>\n",
              "      <td>109.0</td>\n",
              "      <td>109.0</td>\n",
              "      <td>109.0</td>\n",
              "      <td>109.0</td>\n",
              "      <td>109.0</td>\n",
              "      <td>109.0</td>\n",
              "      <td>109.0</td>\n",
              "      <td>1</td>\n",
              "    </tr>\n",
              "    <tr>\n",
              "      <th>2015-01-01 00:51:00</th>\n",
              "      <td>8</td>\n",
              "      <td>109.0</td>\n",
              "      <td>109.0</td>\n",
              "      <td>109.0</td>\n",
              "      <td>109.0</td>\n",
              "      <td>109.0</td>\n",
              "      <td>109.0</td>\n",
              "      <td>109.0</td>\n",
              "      <td>109.0</td>\n",
              "      <td>109.0</td>\n",
              "      <td>109.0</td>\n",
              "      <td>1</td>\n",
              "    </tr>\n",
              "    <tr>\n",
              "      <th>2015-01-01 00:52:00</th>\n",
              "      <td>8</td>\n",
              "      <td>109.0</td>\n",
              "      <td>109.0</td>\n",
              "      <td>109.0</td>\n",
              "      <td>109.0</td>\n",
              "      <td>109.0</td>\n",
              "      <td>109.0</td>\n",
              "      <td>109.0</td>\n",
              "      <td>109.0</td>\n",
              "      <td>109.0</td>\n",
              "      <td>109.0</td>\n",
              "      <td>1</td>\n",
              "    </tr>\n",
              "    <tr>\n",
              "      <th>2015-01-01 00:53:00</th>\n",
              "      <td>8</td>\n",
              "      <td>109.0</td>\n",
              "      <td>109.0</td>\n",
              "      <td>109.0</td>\n",
              "      <td>109.0</td>\n",
              "      <td>109.0</td>\n",
              "      <td>109.0</td>\n",
              "      <td>109.0</td>\n",
              "      <td>109.0</td>\n",
              "      <td>109.0</td>\n",
              "      <td>109.0</td>\n",
              "      <td>1</td>\n",
              "    </tr>\n",
              "    <tr>\n",
              "      <th>2015-01-01 00:54:00</th>\n",
              "      <td>8</td>\n",
              "      <td>109.0</td>\n",
              "      <td>109.0</td>\n",
              "      <td>109.0</td>\n",
              "      <td>109.0</td>\n",
              "      <td>109.0</td>\n",
              "      <td>109.0</td>\n",
              "      <td>109.0</td>\n",
              "      <td>109.0</td>\n",
              "      <td>109.0</td>\n",
              "      <td>109.0</td>\n",
              "      <td>1</td>\n",
              "    </tr>\n",
              "  </tbody>\n",
              "</table>\n",
              "</div>\n",
              "      <button class=\"colab-df-convert\" onclick=\"convertToInteractive('df-63e02ab5-0bec-47ae-a1b7-f98cfa69c665')\"\n",
              "              title=\"Convert this dataframe to an interactive table.\"\n",
              "              style=\"display:none;\">\n",
              "        \n",
              "  <svg xmlns=\"http://www.w3.org/2000/svg\" height=\"24px\"viewBox=\"0 0 24 24\"\n",
              "       width=\"24px\">\n",
              "    <path d=\"M0 0h24v24H0V0z\" fill=\"none\"/>\n",
              "    <path d=\"M18.56 5.44l.94 2.06.94-2.06 2.06-.94-2.06-.94-.94-2.06-.94 2.06-2.06.94zm-11 1L8.5 8.5l.94-2.06 2.06-.94-2.06-.94L8.5 2.5l-.94 2.06-2.06.94zm10 10l.94 2.06.94-2.06 2.06-.94-2.06-.94-.94-2.06-.94 2.06-2.06.94z\"/><path d=\"M17.41 7.96l-1.37-1.37c-.4-.4-.92-.59-1.43-.59-.52 0-1.04.2-1.43.59L10.3 9.45l-7.72 7.72c-.78.78-.78 2.05 0 2.83L4 21.41c.39.39.9.59 1.41.59.51 0 1.02-.2 1.41-.59l7.78-7.78 2.81-2.81c.8-.78.8-2.07 0-2.86zM5.41 20L4 18.59l7.72-7.72 1.47 1.35L5.41 20z\"/>\n",
              "  </svg>\n",
              "      </button>\n",
              "      \n",
              "  <style>\n",
              "    .colab-df-container {\n",
              "      display:flex;\n",
              "      flex-wrap:wrap;\n",
              "      gap: 12px;\n",
              "    }\n",
              "\n",
              "    .colab-df-convert {\n",
              "      background-color: #E8F0FE;\n",
              "      border: none;\n",
              "      border-radius: 50%;\n",
              "      cursor: pointer;\n",
              "      display: none;\n",
              "      fill: #1967D2;\n",
              "      height: 32px;\n",
              "      padding: 0 0 0 0;\n",
              "      width: 32px;\n",
              "    }\n",
              "\n",
              "    .colab-df-convert:hover {\n",
              "      background-color: #E2EBFA;\n",
              "      box-shadow: 0px 1px 2px rgba(60, 64, 67, 0.3), 0px 1px 3px 1px rgba(60, 64, 67, 0.15);\n",
              "      fill: #174EA6;\n",
              "    }\n",
              "\n",
              "    [theme=dark] .colab-df-convert {\n",
              "      background-color: #3B4455;\n",
              "      fill: #D2E3FC;\n",
              "    }\n",
              "\n",
              "    [theme=dark] .colab-df-convert:hover {\n",
              "      background-color: #434B5C;\n",
              "      box-shadow: 0px 1px 3px 1px rgba(0, 0, 0, 0.15);\n",
              "      filter: drop-shadow(0px 1px 2px rgba(0, 0, 0, 0.3));\n",
              "      fill: #FFFFFF;\n",
              "    }\n",
              "  </style>\n",
              "\n",
              "      <script>\n",
              "        const buttonEl =\n",
              "          document.querySelector('#df-63e02ab5-0bec-47ae-a1b7-f98cfa69c665 button.colab-df-convert');\n",
              "        buttonEl.style.display =\n",
              "          google.colab.kernel.accessAllowed ? 'block' : 'none';\n",
              "\n",
              "        async function convertToInteractive(key) {\n",
              "          const element = document.querySelector('#df-63e02ab5-0bec-47ae-a1b7-f98cfa69c665');\n",
              "          const dataTable =\n",
              "            await google.colab.kernel.invokeFunction('convertToInteractive',\n",
              "                                                     [key], {});\n",
              "          if (!dataTable) return;\n",
              "\n",
              "          const docLinkHtml = 'Like what you see? Visit the ' +\n",
              "            '<a target=\"_blank\" href=https://colab.research.google.com/notebooks/data_table.ipynb>data table notebook</a>'\n",
              "            + ' to learn more about interactive tables.';\n",
              "          element.innerHTML = '';\n",
              "          dataTable['output_type'] = 'display_data';\n",
              "          await google.colab.output.renderOutput(dataTable, element);\n",
              "          const docLink = document.createElement('div');\n",
              "          docLink.innerHTML = docLinkHtml;\n",
              "          element.appendChild(docLink);\n",
              "        }\n",
              "      </script>\n",
              "    </div>\n",
              "  </div>\n",
              "  "
            ]
          },
          "metadata": {},
          "execution_count": 11
        }
      ]
    },
    {
      "cell_type": "code",
      "source": [
        "training_df[training_df['link_id']==5].sample(n=10)"
      ],
      "metadata": {
        "id": "BTRvJfL8iSmI",
        "outputId": "26f53630-6592-40f0-8f8c-083f95658988",
        "colab": {
          "base_uri": "https://localhost:8080/",
          "height": 394
        }
      },
      "execution_count": null,
      "outputs": [
        {
          "output_type": "execute_result",
          "data": {
            "text/plain": [
              "                     link_id  tt_arr  tt_arr-5  tt_arr-10  tt_arr-15  \\\n",
              "date                                                                   \n",
              "2018-02-12 04:15:00        5   310.0     310.0      310.0      310.0   \n",
              "2018-08-01 23:42:00        5   297.0     296.0      296.0      296.0   \n",
              "2018-02-04 07:47:00        5   304.0     304.0      304.0      274.0   \n",
              "2015-11-05 11:15:00        5   324.0     324.0      337.5      337.5   \n",
              "2015-10-12 19:19:00        5   315.0     315.0      315.0      315.0   \n",
              "2015-09-07 06:14:00        5   310.0     299.0      299.0      299.0   \n",
              "2016-04-05 11:07:00        5   353.5     317.0      330.0      330.0   \n",
              "2016-03-06 17:39:00        5   299.0     296.0      296.0      296.0   \n",
              "2016-02-15 07:42:00        5   416.5     392.0      394.0      410.5   \n",
              "2016-10-06 10:32:00        5   338.0     361.0      361.0      353.0   \n",
              "\n",
              "                     tt_arr-20  tt_arr-25  tt_arr-30  tt_arr-35  tt_arr-40  \\\n",
              "date                                                                         \n",
              "2018-02-12 04:15:00      310.0      310.0      310.0      310.0      310.0   \n",
              "2018-08-01 23:42:00      296.0      296.0      296.0      296.0      294.5   \n",
              "2018-02-04 07:47:00      274.0      274.0      274.0      274.0      274.0   \n",
              "2015-11-05 11:15:00      320.0      320.0      310.5      310.5      324.0   \n",
              "2015-10-12 19:19:00      325.0      325.0      325.0      308.0      308.0   \n",
              "2015-09-07 06:14:00      299.0      299.0      299.0      300.0      300.0   \n",
              "2016-04-05 11:07:00      368.0      368.0      348.0      348.0      348.0   \n",
              "2016-03-06 17:39:00      311.0      311.0      311.0      311.0      311.0   \n",
              "2016-02-15 07:42:00      410.5      349.0      349.0      331.5      331.5   \n",
              "2016-10-06 10:32:00      335.0      335.0      322.0      322.0      345.5   \n",
              "\n",
              "                     tt_arr-45  LOS_dep  \n",
              "date                                     \n",
              "2018-02-12 04:15:00      310.0        1  \n",
              "2018-08-01 23:42:00      294.5        1  \n",
              "2018-02-04 07:47:00      274.0        1  \n",
              "2015-11-05 11:15:00      324.0        1  \n",
              "2015-10-12 19:19:00      319.0        1  \n",
              "2015-09-07 06:14:00      300.0        1  \n",
              "2016-04-05 11:07:00      348.0        1  \n",
              "2016-03-06 17:39:00      311.0        1  \n",
              "2016-02-15 07:42:00      297.0        4  \n",
              "2016-10-06 10:32:00      345.5        1  "
            ],
            "text/html": [
              "\n",
              "  <div id=\"df-0fc9f4d6-7184-4520-adfe-1140c1e69b56\">\n",
              "    <div class=\"colab-df-container\">\n",
              "      <div>\n",
              "<style scoped>\n",
              "    .dataframe tbody tr th:only-of-type {\n",
              "        vertical-align: middle;\n",
              "    }\n",
              "\n",
              "    .dataframe tbody tr th {\n",
              "        vertical-align: top;\n",
              "    }\n",
              "\n",
              "    .dataframe thead th {\n",
              "        text-align: right;\n",
              "    }\n",
              "</style>\n",
              "<table border=\"1\" class=\"dataframe\">\n",
              "  <thead>\n",
              "    <tr style=\"text-align: right;\">\n",
              "      <th></th>\n",
              "      <th>link_id</th>\n",
              "      <th>tt_arr</th>\n",
              "      <th>tt_arr-5</th>\n",
              "      <th>tt_arr-10</th>\n",
              "      <th>tt_arr-15</th>\n",
              "      <th>tt_arr-20</th>\n",
              "      <th>tt_arr-25</th>\n",
              "      <th>tt_arr-30</th>\n",
              "      <th>tt_arr-35</th>\n",
              "      <th>tt_arr-40</th>\n",
              "      <th>tt_arr-45</th>\n",
              "      <th>LOS_dep</th>\n",
              "    </tr>\n",
              "    <tr>\n",
              "      <th>date</th>\n",
              "      <th></th>\n",
              "      <th></th>\n",
              "      <th></th>\n",
              "      <th></th>\n",
              "      <th></th>\n",
              "      <th></th>\n",
              "      <th></th>\n",
              "      <th></th>\n",
              "      <th></th>\n",
              "      <th></th>\n",
              "      <th></th>\n",
              "      <th></th>\n",
              "    </tr>\n",
              "  </thead>\n",
              "  <tbody>\n",
              "    <tr>\n",
              "      <th>2018-02-12 04:15:00</th>\n",
              "      <td>5</td>\n",
              "      <td>310.0</td>\n",
              "      <td>310.0</td>\n",
              "      <td>310.0</td>\n",
              "      <td>310.0</td>\n",
              "      <td>310.0</td>\n",
              "      <td>310.0</td>\n",
              "      <td>310.0</td>\n",
              "      <td>310.0</td>\n",
              "      <td>310.0</td>\n",
              "      <td>310.0</td>\n",
              "      <td>1</td>\n",
              "    </tr>\n",
              "    <tr>\n",
              "      <th>2018-08-01 23:42:00</th>\n",
              "      <td>5</td>\n",
              "      <td>297.0</td>\n",
              "      <td>296.0</td>\n",
              "      <td>296.0</td>\n",
              "      <td>296.0</td>\n",
              "      <td>296.0</td>\n",
              "      <td>296.0</td>\n",
              "      <td>296.0</td>\n",
              "      <td>296.0</td>\n",
              "      <td>294.5</td>\n",
              "      <td>294.5</td>\n",
              "      <td>1</td>\n",
              "    </tr>\n",
              "    <tr>\n",
              "      <th>2018-02-04 07:47:00</th>\n",
              "      <td>5</td>\n",
              "      <td>304.0</td>\n",
              "      <td>304.0</td>\n",
              "      <td>304.0</td>\n",
              "      <td>274.0</td>\n",
              "      <td>274.0</td>\n",
              "      <td>274.0</td>\n",
              "      <td>274.0</td>\n",
              "      <td>274.0</td>\n",
              "      <td>274.0</td>\n",
              "      <td>274.0</td>\n",
              "      <td>1</td>\n",
              "    </tr>\n",
              "    <tr>\n",
              "      <th>2015-11-05 11:15:00</th>\n",
              "      <td>5</td>\n",
              "      <td>324.0</td>\n",
              "      <td>324.0</td>\n",
              "      <td>337.5</td>\n",
              "      <td>337.5</td>\n",
              "      <td>320.0</td>\n",
              "      <td>320.0</td>\n",
              "      <td>310.5</td>\n",
              "      <td>310.5</td>\n",
              "      <td>324.0</td>\n",
              "      <td>324.0</td>\n",
              "      <td>1</td>\n",
              "    </tr>\n",
              "    <tr>\n",
              "      <th>2015-10-12 19:19:00</th>\n",
              "      <td>5</td>\n",
              "      <td>315.0</td>\n",
              "      <td>315.0</td>\n",
              "      <td>315.0</td>\n",
              "      <td>315.0</td>\n",
              "      <td>325.0</td>\n",
              "      <td>325.0</td>\n",
              "      <td>325.0</td>\n",
              "      <td>308.0</td>\n",
              "      <td>308.0</td>\n",
              "      <td>319.0</td>\n",
              "      <td>1</td>\n",
              "    </tr>\n",
              "    <tr>\n",
              "      <th>2015-09-07 06:14:00</th>\n",
              "      <td>5</td>\n",
              "      <td>310.0</td>\n",
              "      <td>299.0</td>\n",
              "      <td>299.0</td>\n",
              "      <td>299.0</td>\n",
              "      <td>299.0</td>\n",
              "      <td>299.0</td>\n",
              "      <td>299.0</td>\n",
              "      <td>300.0</td>\n",
              "      <td>300.0</td>\n",
              "      <td>300.0</td>\n",
              "      <td>1</td>\n",
              "    </tr>\n",
              "    <tr>\n",
              "      <th>2016-04-05 11:07:00</th>\n",
              "      <td>5</td>\n",
              "      <td>353.5</td>\n",
              "      <td>317.0</td>\n",
              "      <td>330.0</td>\n",
              "      <td>330.0</td>\n",
              "      <td>368.0</td>\n",
              "      <td>368.0</td>\n",
              "      <td>348.0</td>\n",
              "      <td>348.0</td>\n",
              "      <td>348.0</td>\n",
              "      <td>348.0</td>\n",
              "      <td>1</td>\n",
              "    </tr>\n",
              "    <tr>\n",
              "      <th>2016-03-06 17:39:00</th>\n",
              "      <td>5</td>\n",
              "      <td>299.0</td>\n",
              "      <td>296.0</td>\n",
              "      <td>296.0</td>\n",
              "      <td>296.0</td>\n",
              "      <td>311.0</td>\n",
              "      <td>311.0</td>\n",
              "      <td>311.0</td>\n",
              "      <td>311.0</td>\n",
              "      <td>311.0</td>\n",
              "      <td>311.0</td>\n",
              "      <td>1</td>\n",
              "    </tr>\n",
              "    <tr>\n",
              "      <th>2016-02-15 07:42:00</th>\n",
              "      <td>5</td>\n",
              "      <td>416.5</td>\n",
              "      <td>392.0</td>\n",
              "      <td>394.0</td>\n",
              "      <td>410.5</td>\n",
              "      <td>410.5</td>\n",
              "      <td>349.0</td>\n",
              "      <td>349.0</td>\n",
              "      <td>331.5</td>\n",
              "      <td>331.5</td>\n",
              "      <td>297.0</td>\n",
              "      <td>4</td>\n",
              "    </tr>\n",
              "    <tr>\n",
              "      <th>2016-10-06 10:32:00</th>\n",
              "      <td>5</td>\n",
              "      <td>338.0</td>\n",
              "      <td>361.0</td>\n",
              "      <td>361.0</td>\n",
              "      <td>353.0</td>\n",
              "      <td>335.0</td>\n",
              "      <td>335.0</td>\n",
              "      <td>322.0</td>\n",
              "      <td>322.0</td>\n",
              "      <td>345.5</td>\n",
              "      <td>345.5</td>\n",
              "      <td>1</td>\n",
              "    </tr>\n",
              "  </tbody>\n",
              "</table>\n",
              "</div>\n",
              "      <button class=\"colab-df-convert\" onclick=\"convertToInteractive('df-0fc9f4d6-7184-4520-adfe-1140c1e69b56')\"\n",
              "              title=\"Convert this dataframe to an interactive table.\"\n",
              "              style=\"display:none;\">\n",
              "        \n",
              "  <svg xmlns=\"http://www.w3.org/2000/svg\" height=\"24px\"viewBox=\"0 0 24 24\"\n",
              "       width=\"24px\">\n",
              "    <path d=\"M0 0h24v24H0V0z\" fill=\"none\"/>\n",
              "    <path d=\"M18.56 5.44l.94 2.06.94-2.06 2.06-.94-2.06-.94-.94-2.06-.94 2.06-2.06.94zm-11 1L8.5 8.5l.94-2.06 2.06-.94-2.06-.94L8.5 2.5l-.94 2.06-2.06.94zm10 10l.94 2.06.94-2.06 2.06-.94-2.06-.94-.94-2.06-.94 2.06-2.06.94z\"/><path d=\"M17.41 7.96l-1.37-1.37c-.4-.4-.92-.59-1.43-.59-.52 0-1.04.2-1.43.59L10.3 9.45l-7.72 7.72c-.78.78-.78 2.05 0 2.83L4 21.41c.39.39.9.59 1.41.59.51 0 1.02-.2 1.41-.59l7.78-7.78 2.81-2.81c.8-.78.8-2.07 0-2.86zM5.41 20L4 18.59l7.72-7.72 1.47 1.35L5.41 20z\"/>\n",
              "  </svg>\n",
              "      </button>\n",
              "      \n",
              "  <style>\n",
              "    .colab-df-container {\n",
              "      display:flex;\n",
              "      flex-wrap:wrap;\n",
              "      gap: 12px;\n",
              "    }\n",
              "\n",
              "    .colab-df-convert {\n",
              "      background-color: #E8F0FE;\n",
              "      border: none;\n",
              "      border-radius: 50%;\n",
              "      cursor: pointer;\n",
              "      display: none;\n",
              "      fill: #1967D2;\n",
              "      height: 32px;\n",
              "      padding: 0 0 0 0;\n",
              "      width: 32px;\n",
              "    }\n",
              "\n",
              "    .colab-df-convert:hover {\n",
              "      background-color: #E2EBFA;\n",
              "      box-shadow: 0px 1px 2px rgba(60, 64, 67, 0.3), 0px 1px 3px 1px rgba(60, 64, 67, 0.15);\n",
              "      fill: #174EA6;\n",
              "    }\n",
              "\n",
              "    [theme=dark] .colab-df-convert {\n",
              "      background-color: #3B4455;\n",
              "      fill: #D2E3FC;\n",
              "    }\n",
              "\n",
              "    [theme=dark] .colab-df-convert:hover {\n",
              "      background-color: #434B5C;\n",
              "      box-shadow: 0px 1px 3px 1px rgba(0, 0, 0, 0.15);\n",
              "      filter: drop-shadow(0px 1px 2px rgba(0, 0, 0, 0.3));\n",
              "      fill: #FFFFFF;\n",
              "    }\n",
              "  </style>\n",
              "\n",
              "      <script>\n",
              "        const buttonEl =\n",
              "          document.querySelector('#df-0fc9f4d6-7184-4520-adfe-1140c1e69b56 button.colab-df-convert');\n",
              "        buttonEl.style.display =\n",
              "          google.colab.kernel.accessAllowed ? 'block' : 'none';\n",
              "\n",
              "        async function convertToInteractive(key) {\n",
              "          const element = document.querySelector('#df-0fc9f4d6-7184-4520-adfe-1140c1e69b56');\n",
              "          const dataTable =\n",
              "            await google.colab.kernel.invokeFunction('convertToInteractive',\n",
              "                                                     [key], {});\n",
              "          if (!dataTable) return;\n",
              "\n",
              "          const docLinkHtml = 'Like what you see? Visit the ' +\n",
              "            '<a target=\"_blank\" href=https://colab.research.google.com/notebooks/data_table.ipynb>data table notebook</a>'\n",
              "            + ' to learn more about interactive tables.';\n",
              "          element.innerHTML = '';\n",
              "          dataTable['output_type'] = 'display_data';\n",
              "          await google.colab.output.renderOutput(dataTable, element);\n",
              "          const docLink = document.createElement('div');\n",
              "          docLink.innerHTML = docLinkHtml;\n",
              "          element.appendChild(docLink);\n",
              "        }\n",
              "      </script>\n",
              "    </div>\n",
              "  </div>\n",
              "  "
            ]
          },
          "metadata": {},
          "execution_count": 19
        }
      ]
    },
    {
      "cell_type": "markdown",
      "source": [
        "> Per weekday link LOS histogram\n"
      ],
      "metadata": {
        "id": "uztk_icRpyfN"
      }
    },
    {
      "cell_type": "code",
      "source": [
        "dias_semana = ['Monday', 'Tuesday', 'Wednesday', 'Thursday', 'Friday', 'Saturday', 'Sunday']\n",
        "fig, axes = plt.subplots(nrows=2, ncols=4)\n",
        "for weekday in range(0,7):\n",
        "    plot_df = pd.DataFrame(index=[i for i in range(1,7)])\n",
        "    for LINK in range(5,11):\n",
        "        plot_df[f'Link{LINK}'] = training_df[(training_df['link_id']==LINK) & (training_df.index.weekday == weekday)].groupby('LOS_dep')['tt_arr'].count()\n",
        "    plot_df.fillna(0)\n",
        "    \n",
        "    plot_df.plot.bar(ax=axes[math.floor(weekday/4),weekday%4], rot=0, figsize=(15,8), log=True)\n",
        "    # Set title\n",
        "    axes[math.floor(weekday/4),weekday%4].set_title(f'{dias_semana[weekday]}')\n",
        "\n",
        "for x_col in axes:\n",
        "    for x in x_col:\n",
        "        if x.get_title() != '':\n",
        "            # Despine\n",
        "            x.spines['right'].set_visible(False)\n",
        "            x.spines['top'].set_visible(False)\n",
        "            x.spines['left'].set_visible(False)\n",
        "\n",
        "            # Switch off ticks\n",
        "            x.tick_params(axis=\"both\", which=\"both\", bottom=\"off\", top=\"off\", labelbottom=\"on\", left=\"off\", right=\"off\", labelleft=\"on\")\n",
        "\n",
        "            # Draw horizontal axis lines\n",
        "            vals = x.get_yticks()\n",
        "            for tick in vals:\n",
        "                x.axhline(y=tick, linestyle='dashed', alpha=0.4, color='#eeeeee', zorder=1)\n",
        "\n",
        "            # Set y-lim\n",
        "            x.set_ylim(top=1e6)\n",
        "\n",
        "            # Set x-axis label\n",
        "            x.set_xlabel(f\"LOS\", labelpad=20, weight='bold', size=12)"
      ],
      "metadata": {
        "id": "vEXbqgri97D_",
        "outputId": "3b694900-edb9-4df6-bc91-40e19f8f3169",
        "colab": {
          "base_uri": "https://localhost:8080/",
          "height": 532
        }
      },
      "execution_count": 84,
      "outputs": [
        {
          "output_type": "display_data",
          "data": {
            "text/plain": [
              "<Figure size 1080x576 with 8 Axes>"
            ],
            "image/png": "[encoded data removed]"
          },
          "metadata": {
            "needs_background": "light"
          }
        }
      ]
    },
    {
      "cell_type": "markdown",
      "source": [
        "> Per hour link LOS histogram"
      ],
      "metadata": {
        "id": "wSrnpPc_Unbz"
      }
    },
    {
      "cell_type": "code",
      "source": [
        "fig, axes = plt.subplots(nrows=3, ncols=8)\n",
        "for hour in range(0,24):\n",
        "    plot_df = pd.DataFrame(index=[i for i in range(1,7)])\n",
        "    for LINK in range(5,11):\n",
        "        plot_df[f'Link{LINK}'] = training_df[(training_df['link_id']==LINK) & (training_df.index.hour == hour)].groupby('LOS_dep')['tt_arr'].count()\n",
        "    plot_df.fillna(0)\n",
        "    \n",
        "    plot_df.plot.bar(ax=axes[math.floor(hour/8),hour%8], rot=0, figsize=(30,12), log=True)\n",
        "    # Set title\n",
        "    axes[math.floor(hour/8),hour%8].set_title(f'Hour {hour}')\n",
        "\n",
        "for x_col in axes:\n",
        "    for x in x_col:\n",
        "        if x.get_title() != '':\n",
        "            # Despine\n",
        "            x.spines['right'].set_visible(False)\n",
        "            x.spines['top'].set_visible(False)\n",
        "            x.spines['left'].set_visible(False)\n",
        "\n",
        "            # Switch off ticks\n",
        "            x.tick_params(axis=\"both\", which=\"both\", bottom=\"off\", top=\"off\", labelbottom=\"on\", left=\"off\", right=\"off\", labelleft=\"on\")\n",
        "\n",
        "            # Draw horizontal axis lines\n",
        "            vals = x.get_yticks()\n",
        "            for tick in vals:\n",
        "                x.axhline(y=tick, linestyle='dashed', alpha=0.4, color='#eeeeee', zorder=1)\n",
        "\n",
        "            # Set y-lim\n",
        "            x.set_ylim(top=1e6)\n",
        "\n",
        "            # Set x-axis label\n",
        "            x.set_xlabel(f\"LOS\", labelpad=20, weight='bold', size=12)"
      ],
      "metadata": {
        "id": "LrhJGWF5tX1X",
        "outputId": "aa0f8976-c235-4b0c-c011-215b75bd096f",
        "colab": {
          "base_uri": "https://localhost:8080/",
          "height": 749
        }
      },
      "execution_count": 79,
      "outputs": [
        {
          "output_type": "display_data",
          "data": {
            "text/plain": [
              "<Figure size 2160x864 with 24 Axes>"
            ],
            "image/png": "[encoded data removed]"
          },
          "metadata": {
            "needs_background": "light"
          }
        }
      ]
    },
    {
      "cell_type": "markdown",
      "source": [
        "> Statistical distribution of Times of Arrival per Level of Service"
      ],
      "metadata": {
        "id": "lai3PjvDrjAe"
      }
    },
    {
      "cell_type": "code",
      "source": [
        "LINK = 7\n",
        "plot_df=training_df[(training_df['link_id']==LINK)]\n",
        "\n",
        "# Plot violinplot tt_arr per LOS\n",
        "fig, axs = plt.subplots(6,1)\n",
        "fig.set_size_inches(15, 10)\n",
        "for LOS in range(1,7):\n",
        "    axs[LOS-1].set(xlim=(0, 1800))\n",
        "    violinplot(data=plot_df[plot_df[\"LOS_dep\"] == LOS], x=\"tt_arr\", cut=0, ax=axs[LOS-1]).set(ylabel=f\"LOS {LOS}\")"
      ],
      "metadata": {
        "colab": {
          "base_uri": "https://localhost:8080/",
          "height": 606
        },
        "id": "rfKm1u3IwXrW",
        "outputId": "4e2e7962-d1e0-4756-ff2f-d4ae27d0075b"
      },
      "execution_count": null,
      "outputs": [
        {
          "output_type": "display_data",
          "data": {
            "text/plain": [
              "<Figure size 1080x720 with 6 Axes>"
            ],
            "image/png": "[encoded data removed]"
          },
          "metadata": {
            "needs_background": "light"
          }
        }
      ]
    },
    {
      "cell_type": "markdown",
      "source": [
        "## Statistical"
      ],
      "metadata": {
        "id": "vSWs7NiIosxn"
      }
    },
    {
      "cell_type": "markdown",
      "source": [
        "> Features available"
      ],
      "metadata": {
        "id": "qRCPZB2RoaEj"
      }
    },
    {
      "cell_type": "code",
      "source": [
        "training_df[['link_id','tt_arr','LOS_dep']].describe()"
      ],
      "metadata": {
        "colab": {
          "base_uri": "https://localhost:8080/",
          "height": 300
        },
        "id": "l3_060ENohq6",
        "outputId": "f0b56dd6-d7da-444a-db95-b9373ab8298c"
      },
      "execution_count": null,
      "outputs": [
        {
          "output_type": "execute_result",
          "data": {
            "text/plain": [
              "            link_id        tt_arr       LOS_dep\n",
              "count  7.386120e+06  7.386120e+06  7.386120e+06\n",
              "mean   7.500000e+00  2.466202e+02  1.214961e+00\n",
              "std    1.707825e+00  1.247695e+02  6.847303e-01\n",
              "min    5.000000e+00  9.400000e+01  1.000000e+00\n",
              "25%    6.000000e+00  1.250000e+02  1.000000e+00\n",
              "50%    7.500000e+00  2.440000e+02  1.000000e+00\n",
              "75%    9.000000e+00  3.080000e+02  1.000000e+00\n",
              "max    1.000000e+01  1.756500e+03  6.000000e+00"
            ],
            "text/html": [
              "\n",
              "  <div id=\"df-e24d4568-f8db-4635-9087-3b425d241b56\">\n",
              "    <div class=\"colab-df-container\">\n",
              "      <div>\n",
              "<style scoped>\n",
              "    .dataframe tbody tr th:only-of-type {\n",
              "        vertical-align: middle;\n",
              "    }\n",
              "\n",
              "    .dataframe tbody tr th {\n",
              "        vertical-align: top;\n",
              "    }\n",
              "\n",
              "    .dataframe thead th {\n",
              "        text-align: right;\n",
              "    }\n",
              "</style>\n",
              "<table border=\"1\" class=\"dataframe\">\n",
              "  <thead>\n",
              "    <tr style=\"text-align: right;\">\n",
              "      <th></th>\n",
              "      <th>link_id</th>\n",
              "      <th>tt_arr</th>\n",
              "      <th>LOS_dep</th>\n",
              "    </tr>\n",
              "  </thead>\n",
              "  <tbody>\n",
              "    <tr>\n",
              "      <th>count</th>\n",
              "      <td>7.386120e+06</td>\n",
              "      <td>7.386120e+06</td>\n",
              "      <td>7.386120e+06</td>\n",
              "    </tr>\n",
              "    <tr>\n",
              "      <th>mean</th>\n",
              "      <td>7.500000e+00</td>\n",
              "      <td>2.466202e+02</td>\n",
              "      <td>1.214961e+00</td>\n",
              "    </tr>\n",
              "    <tr>\n",
              "      <th>std</th>\n",
              "      <td>1.707825e+00</td>\n",
              "      <td>1.247695e+02</td>\n",
              "      <td>6.847303e-01</td>\n",
              "    </tr>\n",
              "    <tr>\n",
              "      <th>min</th>\n",
              "      <td>5.000000e+00</td>\n",
              "      <td>9.400000e+01</td>\n",
              "      <td>1.000000e+00</td>\n",
              "    </tr>\n",
              "    <tr>\n",
              "      <th>25%</th>\n",
              "      <td>6.000000e+00</td>\n",
              "      <td>1.250000e+02</td>\n",
              "      <td>1.000000e+00</td>\n",
              "    </tr>\n",
              "    <tr>\n",
              "      <th>50%</th>\n",
              "      <td>7.500000e+00</td>\n",
              "      <td>2.440000e+02</td>\n",
              "      <td>1.000000e+00</td>\n",
              "    </tr>\n",
              "    <tr>\n",
              "      <th>75%</th>\n",
              "      <td>9.000000e+00</td>\n",
              "      <td>3.080000e+02</td>\n",
              "      <td>1.000000e+00</td>\n",
              "    </tr>\n",
              "    <tr>\n",
              "      <th>max</th>\n",
              "      <td>1.000000e+01</td>\n",
              "      <td>1.756500e+03</td>\n",
              "      <td>6.000000e+00</td>\n",
              "    </tr>\n",
              "  </tbody>\n",
              "</table>\n",
              "</div>\n",
              "      <button class=\"colab-df-convert\" onclick=\"convertToInteractive('df-e24d4568-f8db-4635-9087-3b425d241b56')\"\n",
              "              title=\"Convert this dataframe to an interactive table.\"\n",
              "              style=\"display:none;\">\n",
              "        \n",
              "  <svg xmlns=\"http://www.w3.org/2000/svg\" height=\"24px\"viewBox=\"0 0 24 24\"\n",
              "       width=\"24px\">\n",
              "    <path d=\"M0 0h24v24H0V0z\" fill=\"none\"/>\n",
              "    <path d=\"M18.56 5.44l.94 2.06.94-2.06 2.06-.94-2.06-.94-.94-2.06-.94 2.06-2.06.94zm-11 1L8.5 8.5l.94-2.06 2.06-.94-2.06-.94L8.5 2.5l-.94 2.06-2.06.94zm10 10l.94 2.06.94-2.06 2.06-.94-2.06-.94-.94-2.06-.94 2.06-2.06.94z\"/><path d=\"M17.41 7.96l-1.37-1.37c-.4-.4-.92-.59-1.43-.59-.52 0-1.04.2-1.43.59L10.3 9.45l-7.72 7.72c-.78.78-.78 2.05 0 2.83L4 21.41c.39.39.9.59 1.41.59.51 0 1.02-.2 1.41-.59l7.78-7.78 2.81-2.81c.8-.78.8-2.07 0-2.86zM5.41 20L4 18.59l7.72-7.72 1.47 1.35L5.41 20z\"/>\n",
              "  </svg>\n",
              "      </button>\n",
              "      \n",
              "  <style>\n",
              "    .colab-df-container {\n",
              "      display:flex;\n",
              "      flex-wrap:wrap;\n",
              "      gap: 12px;\n",
              "    }\n",
              "\n",
              "    .colab-df-convert {\n",
              "      background-color: #E8F0FE;\n",
              "      border: none;\n",
              "      border-radius: 50%;\n",
              "      cursor: pointer;\n",
              "      display: none;\n",
              "      fill: #1967D2;\n",
              "      height: 32px;\n",
              "      padding: 0 0 0 0;\n",
              "      width: 32px;\n",
              "    }\n",
              "\n",
              "    .colab-df-convert:hover {\n",
              "      background-color: #E2EBFA;\n",
              "      box-shadow: 0px 1px 2px rgba(60, 64, 67, 0.3), 0px 1px 3px 1px rgba(60, 64, 67, 0.15);\n",
              "      fill: #174EA6;\n",
              "    }\n",
              "\n",
              "    [theme=dark] .colab-df-convert {\n",
              "      background-color: #3B4455;\n",
              "      fill: #D2E3FC;\n",
              "    }\n",
              "\n",
              "    [theme=dark] .colab-df-convert:hover {\n",
              "      background-color: #434B5C;\n",
              "      box-shadow: 0px 1px 3px 1px rgba(0, 0, 0, 0.15);\n",
              "      filter: drop-shadow(0px 1px 2px rgba(0, 0, 0, 0.3));\n",
              "      fill: #FFFFFF;\n",
              "    }\n",
              "  </style>\n",
              "\n",
              "      <script>\n",
              "        const buttonEl =\n",
              "          document.querySelector('#df-e24d4568-f8db-4635-9087-3b425d241b56 button.colab-df-convert');\n",
              "        buttonEl.style.display =\n",
              "          google.colab.kernel.accessAllowed ? 'block' : 'none';\n",
              "\n",
              "        async function convertToInteractive(key) {\n",
              "          const element = document.querySelector('#df-e24d4568-f8db-4635-9087-3b425d241b56');\n",
              "          const dataTable =\n",
              "            await google.colab.kernel.invokeFunction('convertToInteractive',\n",
              "                                                     [key], {});\n",
              "          if (!dataTable) return;\n",
              "\n",
              "          const docLinkHtml = 'Like what you see? Visit the ' +\n",
              "            '<a target=\"_blank\" href=https://colab.research.google.com/notebooks/data_table.ipynb>data table notebook</a>'\n",
              "            + ' to learn more about interactive tables.';\n",
              "          element.innerHTML = '';\n",
              "          dataTable['output_type'] = 'display_data';\n",
              "          await google.colab.output.renderOutput(dataTable, element);\n",
              "          const docLink = document.createElement('div');\n",
              "          docLink.innerHTML = docLinkHtml;\n",
              "          element.appendChild(docLink);\n",
              "        }\n",
              "      </script>\n",
              "    </div>\n",
              "  </div>\n",
              "  "
            ]
          },
          "metadata": {},
          "execution_count": 18
        }
      ]
    },
    {
      "cell_type": "markdown",
      "source": [
        "> Per-link id data balance\n",
        "\n",
        "\n",
        "\n"
      ],
      "metadata": {
        "id": "LffejJtNee70"
      }
    },
    {
      "cell_type": "code",
      "source": [
        "training_df[training_df['LOS_dep']==4]['link_id'].value_counts()[training_df.link_id.unique()]"
      ],
      "metadata": {
        "colab": {
          "base_uri": "https://localhost:8080/"
        },
        "id": "FHc-vNs-oeQi",
        "outputId": "22c390c7-5bc7-44fc-b264-40b0f253ac2c"
      },
      "execution_count": null,
      "outputs": [
        {
          "output_type": "execute_result",
          "data": {
            "text/plain": [
              "5     28407\n",
              "6     20875\n",
              "7     11497\n",
              "8      8188\n",
              "9      4173\n",
              "10    20101\n",
              "Name: link_id, dtype: int64"
            ]
          },
          "metadata": {},
          "execution_count": 25
        }
      ]
    },
    {
      "cell_type": "markdown",
      "source": [
        "> Test normality of Times of Arrival"
      ],
      "metadata": {
        "id": "wF_8AlPWoH5g"
      }
    },
    {
      "cell_type": "code",
      "source": [
        "for LINK in range(5,11):\n",
        "    print(f\"LINK {LINK}\")\n",
        "    for LOS in range(1,7):\n",
        "        print(f\"\\tLOS {LOS}\\tPvalue {shapiro(training_df[(training_df['link_id']==LINK) & (training_df['LOS_dep']==LOS)]['tt_arr']).pvalue}\")"
      ],
      "metadata": {
        "colab": {
          "base_uri": "https://localhost:8080/"
        },
        "id": "mKq-cbYopKVw",
        "outputId": "5a3e2f63-f664-4bc2-eb1a-5bf65432a8ef"
      },
      "execution_count": null,
      "outputs": [
        {
          "output_type": "stream",
          "name": "stdout",
          "text": [
            "LINK 5\n",
            "\tLOS 1\tPvalue 0.0\n",
            "\tLOS 2\tPvalue 0.0\n",
            "\tLOS 3\tPvalue 0.0\n",
            "\tLOS 4\tPvalue 0.0\n",
            "\tLOS 5\tPvalue 3.0895828541433567e-41\n",
            "\tLOS 6\tPvalue 5.011837864629182e-29\n",
            "LINK 6\n",
            "\tLOS 1\tPvalue 0.0\n",
            "\tLOS 2\tPvalue 0.0\n",
            "\tLOS 3\tPvalue 0.0\n",
            "\tLOS 4\tPvalue 0.0\n",
            "\tLOS 5\tPvalue 8.23121877165319e-39\n",
            "\tLOS 6\tPvalue 1.0535939090175312e-16\n",
            "LINK 7\n",
            "\tLOS 1\tPvalue 0.0\n",
            "\tLOS 2\tPvalue 0.0\n",
            "\tLOS 3\tPvalue 0.0\n",
            "\tLOS 4\tPvalue 0.0\n",
            "\tLOS 5\tPvalue 0.0\n",
            "\tLOS 6\tPvalue 6.297267937140083e-13\n",
            "LINK 8\n",
            "\tLOS 1\tPvalue 0.0\n",
            "\tLOS 2\tPvalue 0.0\n",
            "\tLOS 3\tPvalue 0.0\n",
            "\tLOS 4\tPvalue 2.802596928649634e-45\n",
            "\tLOS 5\tPvalue 5.859512404482781e-33\n",
            "\tLOS 6\tPvalue 2.4114945272565777e-41\n",
            "LINK 9\n",
            "\tLOS 1\tPvalue 0.0\n",
            "\tLOS 2\tPvalue 0.0\n",
            "\tLOS 3\tPvalue 0.0\n",
            "\tLOS 4\tPvalue 1.3216130666316006e-38\n",
            "\tLOS 5\tPvalue 3.42259417150919e-14\n",
            "\tLOS 6\tPvalue 7.32835389594122e-11\n",
            "LINK 10\n",
            "\tLOS 1\tPvalue 0.0\n",
            "\tLOS 2\tPvalue 0.0\n",
            "\tLOS 3\tPvalue 0.0\n",
            "\tLOS 4\tPvalue 0.0\n",
            "\tLOS 5\tPvalue 1.401298464324817e-45\n",
            "\tLOS 6\tPvalue 1.0998466610191978e-22\n"
          ]
        }
      ]
    },
    {
      "cell_type": "markdown",
      "source": [
        "# **NAIVE BAYES**"
      ],
      "metadata": {
        "id": "Jf0vYHbXf_9d"
      }
    },
    {
      "cell_type": "markdown",
      "source": [
        "## **NO FEATURE ENGINEERING**"
      ],
      "metadata": {
        "id": "b0q_xwSKgXob"
      }
    },
    {
      "cell_type": "markdown",
      "source": [
        "### *Training*"
      ],
      "metadata": {
        "id": "lofYieQvCzUS"
      }
    },
    {
      "cell_type": "code",
      "source": [
        "for LINK in range(5,11):\n",
        "    print(f\"LINK {LINK}\")\n",
        "    X = training_df[training_df['link_id'] == LINK]['tt_arr'].values.reshape(-1, 1)\n",
        "    y = training_df[training_df['link_id'] == LINK]['LOS_dep'].values\n",
        "    clf = make_pipeline(preprocessing.StandardScaler(), GaussianNB())\n",
        "\n",
        "    # 5-fold cross validation\n",
        "    CV = 5\n",
        "    scoring = {'recall1': metrics.make_scorer(metrics.recall_score, average = None, labels = [1]), \n",
        "        'recall2': metrics.make_scorer(metrics.recall_score, average = None, labels = [2]),\n",
        "        'recall3': metrics.make_scorer(metrics.recall_score, average = None, labels = [3]),\n",
        "        'recall4': metrics.make_scorer(metrics.recall_score, average = None, labels = [4]), \n",
        "        'recall5': metrics.make_scorer(metrics.recall_score, average = None, labels = [5]),\n",
        "        'recall6': metrics.make_scorer(metrics.recall_score, average = None, labels = [6])}\n",
        "    results = cross_validate(clf, X, y, cv=CV, scoring=scoring, return_train_score = False)\n",
        "    for LOS in range(1,7):\n",
        "        score = results[f'test_recall{LOS}']\n",
        "        print(f\"\\tLOS {LOS}: Recall {round(sum(score)/CV*100, 2)}%\")"
      ],
      "metadata": {
        "colab": {
          "base_uri": "https://localhost:8080/"
        },
        "id": "5asiDvZtlvVJ",
        "outputId": "cb88084c-f33a-40e8-e393-a7a56ab573fe"
      },
      "execution_count": null,
      "outputs": [
        {
          "output_type": "stream",
          "name": "stdout",
          "text": [
            "LINK 5\n",
            "\tLOS 1: Recall 97.14%\n",
            "\tLOS 2: Recall 33.86%\n",
            "\tLOS 3: Recall 33.81%\n",
            "\tLOS 4: Recall 18.52%\n",
            "\tLOS 5: Recall 24.02%\n",
            "\tLOS 6: Recall 53.54%\n",
            "LINK 6\n",
            "\tLOS 1: Recall 98.17%\n",
            "\tLOS 2: Recall 34.94%\n",
            "\tLOS 3: Recall 43.02%\n",
            "\tLOS 4: Recall 14.94%\n",
            "\tLOS 5: Recall 22.74%\n",
            "\tLOS 6: Recall 36.91%\n",
            "LINK 7\n",
            "\tLOS 1: Recall 98.38%\n",
            "\tLOS 2: Recall 44.38%\n",
            "\tLOS 3: Recall 49.92%\n",
            "\tLOS 4: Recall 18.41%\n",
            "\tLOS 5: Recall 15.15%\n",
            "\tLOS 6: Recall 21.02%\n",
            "LINK 8\n",
            "\tLOS 1: Recall 99.56%\n",
            "\tLOS 2: Recall 34.07%\n",
            "\tLOS 3: Recall 67.94%\n",
            "\tLOS 4: Recall 8.66%\n",
            "\tLOS 5: Recall 14.35%\n",
            "\tLOS 6: Recall 64.07%\n",
            "LINK 9\n",
            "\tLOS 1: Recall 97.85%\n",
            "\tLOS 2: Recall 72.8%\n",
            "\tLOS 3: Recall 26.59%\n",
            "\tLOS 4: Recall 28.52%\n",
            "\tLOS 5: Recall 12.67%\n",
            "\tLOS 6: Recall 10.0%\n",
            "LINK 10\n",
            "\tLOS 1: Recall 99.12%\n",
            "\tLOS 2: Recall 43.34%\n",
            "\tLOS 3: Recall 35.32%\n",
            "\tLOS 4: Recall 32.7%\n",
            "\tLOS 5: Recall 45.56%\n",
            "\tLOS 6: Recall 45.13%\n"
          ]
        }
      ]
    },
    {
      "cell_type": "markdown",
      "source": [
        "### *Validation*"
      ],
      "metadata": {
        "id": "-nSLNVNPC-eg"
      }
    },
    {
      "cell_type": "code",
      "source": [
        "for LINK in range(5,11):\n",
        "    print(f\"LINK {LINK}\")\n",
        "    X_train = training_df[training_df['link_id'] == LINK]['tt_arr'].values.reshape(-1, 1)\n",
        "    y_train = training_df[training_df['link_id'] == LINK]['LOS_dep'].values\n",
        "    \n",
        "    sc = preprocessing.StandardScaler()\n",
        "    X_train = sc.fit_transform(X_train)\n",
        "\n",
        "    model = GaussianNB().fit(X_train, y_train)\n",
        "    for LOS in range(1,7):\n",
        "        X_test = sc.transform( validation_df[(validation_df['link_id'] == LINK) & (validation_df['LOS_dep'] == LOS)]['tt_arr'].values.reshape(-1, 1) )\n",
        "        y_pred = model.predict(X_test)\n",
        "\n",
        "        score = metrics.recall_score([LOS]*len(y_pred), y_pred, average='micro')\n",
        "        print(f\"\\tLOS {LOS}: Recall {round(score*100, 2) }%\")"
      ],
      "metadata": {
        "id": "_M_l-rXMC-QF",
        "outputId": "b6c0521f-3bd9-4469-fcfa-7c3ffacdc7a4",
        "colab": {
          "base_uri": "https://localhost:8080/"
        }
      },
      "execution_count": null,
      "outputs": [
        {
          "output_type": "stream",
          "name": "stdout",
          "text": [
            "LINK 5\n",
            "\tLOS 1: Recall 97.23%\n",
            "\tLOS 2: Recall 53.06%\n",
            "\tLOS 3: Recall 40.82%\n",
            "\tLOS 4: Recall 21.36%\n",
            "\tLOS 5: Recall 22.88%\n",
            "\tLOS 6: Recall 59.9%\n",
            "LINK 6\n",
            "\tLOS 1: Recall 96.11%\n",
            "\tLOS 2: Recall 34.04%\n",
            "\tLOS 3: Recall 33.21%\n",
            "\tLOS 4: Recall 15.45%\n",
            "\tLOS 5: Recall 17.77%\n",
            "\tLOS 6: Recall 34.31%\n",
            "LINK 7\n",
            "\tLOS 1: Recall 98.42%\n",
            "\tLOS 2: Recall 57.11%\n",
            "\tLOS 3: Recall 46.48%\n",
            "\tLOS 4: Recall 13.87%\n",
            "\tLOS 5: Recall 16.24%\n",
            "\tLOS 6: Recall 30.1%\n",
            "LINK 8\n",
            "\tLOS 1: Recall 99.53%\n",
            "\tLOS 2: Recall 37.57%\n",
            "\tLOS 3: Recall 80.84%\n",
            "\tLOS 4: Recall 8.35%\n",
            "\tLOS 5: Recall 8.25%\n",
            "\tLOS 6: Recall 60.68%\n",
            "LINK 9\n",
            "\tLOS 1: Recall 97.78%\n",
            "\tLOS 2: Recall 74.72%\n",
            "\tLOS 3: Recall 27.35%\n",
            "\tLOS 4: Recall 37.26%\n",
            "\tLOS 5: Recall 12.93%\n",
            "\tLOS 6: Recall 28.05%\n",
            "LINK 10\n",
            "\tLOS 1: Recall 99.24%\n",
            "\tLOS 2: Recall 46.15%\n",
            "\tLOS 3: Recall 33.92%\n",
            "\tLOS 4: Recall 33.91%\n",
            "\tLOS 5: Recall 46.21%\n",
            "\tLOS 6: Recall 46.8%\n"
          ]
        }
      ]
    },
    {
      "cell_type": "markdown",
      "source": [
        "## **FEATURE ENGINEERING ADJACENT LINK INFORMATION**"
      ],
      "metadata": {
        "id": "kMCMH4xLVPOg"
      }
    },
    {
      "cell_type": "markdown",
      "source": [
        "### *Features creation*\n",
        "\n",
        "For each link, the tt_arrival of the other links are added as features. Therefore we will be using 6 features in total."
      ],
      "metadata": {
        "id": "QwOislVpWYCx"
      }
    },
    {
      "cell_type": "markdown",
      "source": [
        "### *Training*"
      ],
      "metadata": {
        "id": "VX32_dxlVYmK"
      }
    },
    {
      "cell_type": "code",
      "source": [
        "for LINK in range(5,11):\n",
        "    print(f\"LINK {LINK}\")\n",
        "    other_links = [5,6,7,8,9,10]; other_links.remove(LINK)\n",
        "    training_df_link = training_df.copy()\n",
        "    training_df_link = training_df_link[training_df_link['link_id'] == LINK]\n",
        "\n",
        "    for other_link in other_links:\n",
        "        training_df_link = pd.merge(training_df_link, training_df[training_df['link_id'] == other_link]['tt_arr'], on=['date'], how='inner', suffixes=[None, f'_{other_link}'])\n",
        "    \n",
        "    X = training_df_link.filter(regex=(\"tt_ar[^-]+$\")).values\n",
        "    y = training_df_link['LOS_dep'].values\n",
        "    clf = make_pipeline(preprocessing.StandardScaler(), GaussianNB())\n",
        "\n",
        "    # 5-fold cross validation\n",
        "    CV = 5\n",
        "    scoring = {'recall1': metrics.make_scorer(metrics.recall_score, average = None, labels = [1]), \n",
        "        'recall2': metrics.make_scorer(metrics.recall_score, average = None, labels = [2]),\n",
        "        'recall3': metrics.make_scorer(metrics.recall_score, average = None, labels = [3]),\n",
        "        'recall4': metrics.make_scorer(metrics.recall_score, average = None, labels = [4]), \n",
        "        'recall5': metrics.make_scorer(metrics.recall_score, average = None, labels = [5]),\n",
        "        'recall6': metrics.make_scorer(metrics.recall_score, average = None, labels = [6])}\n",
        "    results = cross_validate(clf, X, y, cv=CV, scoring=scoring, return_train_score = False)\n",
        "    for LOS in range(1,7):\n",
        "        score = results[f'test_recall{LOS}']\n",
        "        print(f\"\\tLOS {LOS}: Recall {round(sum(score)/CV*100, 2)}%\")"
      ],
      "metadata": {
        "id": "pKjLqvCTViFR",
        "outputId": "ba0a0e56-cfb3-407d-ec36-75bba83c6d2a",
        "colab": {
          "base_uri": "https://localhost:8080/"
        }
      },
      "execution_count": null,
      "outputs": [
        {
          "output_type": "stream",
          "name": "stdout",
          "text": [
            "LINK 5\n",
            "\tLOS 1: Recall 94.51%\n",
            "\tLOS 2: Recall 41.46%\n",
            "\tLOS 3: Recall 28.26%\n",
            "\tLOS 4: Recall 16.86%\n",
            "\tLOS 5: Recall 19.81%\n",
            "\tLOS 6: Recall 51.36%\n",
            "LINK 6\n",
            "\tLOS 1: Recall 94.15%\n",
            "\tLOS 2: Recall 39.69%\n",
            "\tLOS 3: Recall 37.99%\n",
            "\tLOS 4: Recall 16.5%\n",
            "\tLOS 5: Recall 25.83%\n",
            "\tLOS 6: Recall 40.06%\n",
            "LINK 7\n",
            "\tLOS 1: Recall 93.53%\n",
            "\tLOS 2: Recall 54.94%\n",
            "\tLOS 3: Recall 40.01%\n",
            "\tLOS 4: Recall 16.91%\n",
            "\tLOS 5: Recall 13.15%\n",
            "\tLOS 6: Recall 46.87%\n",
            "LINK 8\n",
            "\tLOS 1: Recall 94.87%\n",
            "\tLOS 2: Recall 56.78%\n",
            "\tLOS 3: Recall 55.73%\n",
            "\tLOS 4: Recall 23.22%\n",
            "\tLOS 5: Recall 10.85%\n",
            "\tLOS 6: Recall 63.36%\n",
            "LINK 9\n",
            "\tLOS 1: Recall 92.85%\n",
            "\tLOS 2: Recall 64.31%\n",
            "\tLOS 3: Recall 32.22%\n",
            "\tLOS 4: Recall 30.34%\n",
            "\tLOS 5: Recall 26.8%\n",
            "\tLOS 6: Recall 32.07%\n",
            "LINK 10\n",
            "\tLOS 1: Recall 94.22%\n",
            "\tLOS 2: Recall 46.35%\n",
            "\tLOS 3: Recall 29.58%\n",
            "\tLOS 4: Recall 22.92%\n",
            "\tLOS 5: Recall 35.38%\n",
            "\tLOS 6: Recall 46.8%\n"
          ]
        }
      ]
    },
    {
      "cell_type": "markdown",
      "source": [
        "### *Validation*"
      ],
      "metadata": {
        "id": "3OVEJrjUiqax"
      }
    },
    {
      "cell_type": "code",
      "source": [
        "for LINK in range(5,11):\n",
        "    print(f\"LINK {LINK}\")\n",
        "    other_links = [5,6,7,8,9,10]; other_links.remove(LINK)\n",
        "    training_df_link = training_df[training_df['link_id'] == LINK].copy()\n",
        "\n",
        "    for other_link in other_links:\n",
        "        training_df_link = pd.merge(training_df_link, training_df[training_df['link_id'] == other_link]['tt_arr'], on=['date'], how='inner', suffixes=[None, f'_{other_link}'])\n",
        "    \n",
        "    X_train = training_df_link.filter(regex=(\"tt_ar[^-]+$\")).values\n",
        "    y_train = training_df_link['LOS_dep'].values\n",
        "    \n",
        "    sc = preprocessing.StandardScaler()\n",
        "    X_train = sc.fit_transform(X_train)\n",
        "\n",
        "    model = GaussianNB().fit(X_train, y_train)\n",
        "    for LOS in range(1,7):\n",
        "        validation_df_link = validation_df[(validation_df['link_id'] == LINK) & (validation_df['LOS_dep'] == LOS)].copy()\n",
        "        for other_link in other_links:\n",
        "            validation_df_link = pd.merge(validation_df_link, validation_df[validation_df['link_id'] == other_link]['tt_arr'], on=['date'], how='inner', suffixes=[None, f'_{other_link}'])\n",
        "        X_test = sc.transform( validation_df_link.filter(regex=(\"tt_ar[^-]+$\")).values )\n",
        "        y_pred = model.predict(X_test)\n",
        "\n",
        "        score = metrics.recall_score([LOS]*len(y_pred), y_pred, average='micro')\n",
        "        print(f\"\\tLOS {LOS}: Recall {round(score*100, 2) }%\")"
      ],
      "metadata": {
        "id": "xUUuA-vpinjr",
        "outputId": "614d0c27-626e-43de-cfef-2483ed71514d",
        "colab": {
          "base_uri": "https://localhost:8080/"
        }
      },
      "execution_count": null,
      "outputs": [
        {
          "output_type": "stream",
          "name": "stdout",
          "text": [
            "LINK 5\n",
            "\tLOS 1: Recall 94.71%\n",
            "\tLOS 2: Recall 45.1%\n",
            "\tLOS 3: Recall 38.25%\n",
            "\tLOS 4: Recall 20.15%\n",
            "\tLOS 5: Recall 24.19%\n",
            "\tLOS 6: Recall 59.22%\n",
            "LINK 6\n",
            "\tLOS 1: Recall 92.41%\n",
            "\tLOS 2: Recall 38.44%\n",
            "\tLOS 3: Recall 46.79%\n",
            "\tLOS 4: Recall 17.23%\n",
            "\tLOS 5: Recall 26.79%\n",
            "\tLOS 6: Recall 35.65%\n",
            "LINK 7\n",
            "\tLOS 1: Recall 92.15%\n",
            "\tLOS 2: Recall 61.94%\n",
            "\tLOS 3: Recall 42.9%\n",
            "\tLOS 4: Recall 14.3%\n",
            "\tLOS 5: Recall 12.48%\n",
            "\tLOS 6: Recall 47.77%\n",
            "LINK 8\n",
            "\tLOS 1: Recall 94.01%\n",
            "\tLOS 2: Recall 60.07%\n",
            "\tLOS 3: Recall 76.98%\n",
            "\tLOS 4: Recall 19.58%\n",
            "\tLOS 5: Recall 10.38%\n",
            "\tLOS 6: Recall 62.61%\n",
            "LINK 9\n",
            "\tLOS 1: Recall 91.33%\n",
            "\tLOS 2: Recall 66.3%\n",
            "\tLOS 3: Recall 34.29%\n",
            "\tLOS 4: Recall 35.3%\n",
            "\tLOS 5: Recall 24.19%\n",
            "\tLOS 6: Recall 31.44%\n",
            "LINK 10\n",
            "\tLOS 1: Recall 92.21%\n",
            "\tLOS 2: Recall 52.36%\n",
            "\tLOS 3: Recall 29.03%\n",
            "\tLOS 4: Recall 25.99%\n",
            "\tLOS 5: Recall 37.58%\n",
            "\tLOS 6: Recall 49.08%\n"
          ]
        }
      ]
    },
    {
      "cell_type": "markdown",
      "source": [
        "## **FEATURE ENGINEERING ADJACENT LINK INFORMATION + TEMPORAL INFORMATION (UP TO PREVIOUS 45MIN)**"
      ],
      "metadata": {
        "id": "q5rt2wXpNypB"
      }
    },
    {
      "cell_type": "markdown",
      "source": [
        "### *Features creation*\n",
        "\n",
        "For each link, the tt_arrival of the other links, covering the previous 50min from prediction time, are added as features. Therefore we will be using 60 features in total as maximum."
      ],
      "metadata": {
        "id": "ZZRaFA1QN_X0"
      }
    },
    {
      "cell_type": "markdown",
      "source": [
        "### *Training*"
      ],
      "metadata": {
        "id": "qKLi6htTW16e"
      }
    },
    {
      "cell_type": "code",
      "source": [
        "for LINK in range(5,11):\n",
        "    print(f\"LINK {LINK}\")\n",
        "    other_links = [5,6,7,8,9,10]; other_links.remove(LINK)\n",
        "    training_df_link = training_df.copy()\n",
        "    training_df_link = training_df_link[training_df_link['link_id'] == LINK]\n",
        "\n",
        "    for other_link in other_links:\n",
        "        training_df_link = pd.merge(training_df_link, training_df[training_df['link_id'] == other_link].filter(regex=(\"tt_arr.*\")), on=['date'], how='inner', suffixes=[None, f'_{other_link}'])\n",
        "    \n",
        "    X = training_df_link.filter(regex=(\"tt_arr.*\")).values\n",
        "    y = training_df_link['LOS_dep'].values\n",
        "    clf = make_pipeline(preprocessing.StandardScaler(), GaussianNB())\n",
        "\n",
        "    # 5-fold cross validation\n",
        "    CV = 5\n",
        "    scoring = {'recall1': metrics.make_scorer(metrics.recall_score, average = None, labels = [1]), \n",
        "        'recall2': metrics.make_scorer(metrics.recall_score, average = None, labels = [2]),\n",
        "        'recall3': metrics.make_scorer(metrics.recall_score, average = None, labels = [3]),\n",
        "        'recall4': metrics.make_scorer(metrics.recall_score, average = None, labels = [4]), \n",
        "        'recall5': metrics.make_scorer(metrics.recall_score, average = None, labels = [5]),\n",
        "        'recall6': metrics.make_scorer(metrics.recall_score, average = None, labels = [6])}\n",
        "    results = cross_validate(clf, X, y, cv=CV, scoring=scoring, return_train_score = False)\n",
        "    for LOS in range(1,7):\n",
        "        score = results[f'test_recall{LOS}']\n",
        "        print(f\"\\tLOS {LOS}: Recall {round(sum(score)/CV*100, 2)}%\")"
      ],
      "metadata": {
        "id": "TXoQYkyfXDWy",
        "outputId": "24f95e3d-6323-484c-c359-6e65fe1a5321",
        "colab": {
          "base_uri": "https://localhost:8080/"
        }
      },
      "execution_count": null,
      "outputs": [
        {
          "output_type": "stream",
          "name": "stdout",
          "text": [
            "LINK 5\n",
            "\tLOS 1: Recall 92.07%\n",
            "\tLOS 2: Recall 34.89%\n",
            "\tLOS 3: Recall 18.13%\n",
            "\tLOS 4: Recall 15.49%\n",
            "\tLOS 5: Recall 19.2%\n",
            "\tLOS 6: Recall 52.36%\n",
            "LINK 6\n",
            "\tLOS 1: Recall 91.12%\n",
            "\tLOS 2: Recall 32.68%\n",
            "\tLOS 3: Recall 27.95%\n",
            "\tLOS 4: Recall 14.78%\n",
            "\tLOS 5: Recall 20.35%\n",
            "\tLOS 6: Recall 51.26%\n",
            "LINK 7\n",
            "\tLOS 1: Recall 90.29%\n",
            "\tLOS 2: Recall 49.96%\n",
            "\tLOS 3: Recall 25.85%\n",
            "\tLOS 4: Recall 21.68%\n",
            "\tLOS 5: Recall 12.16%\n",
            "\tLOS 6: Recall 46.51%\n",
            "LINK 8\n",
            "\tLOS 1: Recall 91.97%\n",
            "\tLOS 2: Recall 33.39%\n",
            "\tLOS 3: Recall 40.8%\n",
            "\tLOS 4: Recall 35.77%\n",
            "\tLOS 5: Recall 10.35%\n",
            "\tLOS 6: Recall 53.98%\n",
            "LINK 9\n",
            "\tLOS 1: Recall 90.15%\n",
            "\tLOS 2: Recall 50.72%\n",
            "\tLOS 3: Recall 15.86%\n",
            "\tLOS 4: Recall 7.43%\n",
            "\tLOS 5: Recall 30.02%\n",
            "\tLOS 6: Recall 61.03%\n",
            "LINK 10\n",
            "\tLOS 1: Recall 90.99%\n",
            "\tLOS 2: Recall 38.34%\n",
            "\tLOS 3: Recall 15.67%\n",
            "\tLOS 4: Recall 17.91%\n",
            "\tLOS 5: Recall 19.61%\n",
            "\tLOS 6: Recall 46.31%\n"
          ]
        }
      ]
    },
    {
      "cell_type": "markdown",
      "source": [
        "### *Validation*"
      ],
      "metadata": {
        "id": "I4AoRG2RlgIB"
      }
    },
    {
      "cell_type": "code",
      "source": [
        "for LINK in range(5,11):\n",
        "    print(f\"LINK {LINK}\")\n",
        "    other_links = [5,6,7,8,9,10]; other_links.remove(LINK)\n",
        "    training_df_link = training_df[training_df['link_id'] == LINK].copy()\n",
        "\n",
        "    for other_link in other_links:\n",
        "        training_df_link = pd.merge(training_df_link, training_df[training_df['link_id'] == other_link].filter(regex=(\"tt_arr.*\")), on=['date'], how='inner', suffixes=[None, f'_{other_link}'])\n",
        "    \n",
        "    X_train = training_df_link.filter(regex=(\"tt_arr.*\")).values\n",
        "    y_train = training_df_link['LOS_dep'].values\n",
        "    \n",
        "    sc = preprocessing.StandardScaler()\n",
        "    X_train = sc.fit_transform(X_train)\n",
        "\n",
        "    model = GaussianNB().fit(X_train, y_train)\n",
        "    for LOS in range(1,7):\n",
        "        validation_df_link = validation_df[(validation_df['link_id'] == LINK) & (validation_df['LOS_dep'] == LOS)].copy()\n",
        "        for other_link in other_links:\n",
        "            validation_df_link = pd.merge(validation_df_link, validation_df[validation_df['link_id'] == other_link].filter(regex=(\"tt_arr.*\")), on=['date'], how='inner', suffixes=[None, f'_{other_link}'])\n",
        "        X_test = sc.transform( validation_df_link.filter(regex=(\"tt_arr.*\")).values )\n",
        "        y_pred = model.predict(X_test)\n",
        "\n",
        "        score = metrics.recall_score([LOS]*len(y_pred), y_pred, average='micro')\n",
        "        print(f\"\\tLOS {LOS}: Recall {round(score*100, 2) }%\")"
      ],
      "metadata": {
        "id": "F9LI4WsIllAB",
        "outputId": "c0b6c309-60a0-4ceb-f9fa-e5a8096d3b40",
        "colab": {
          "base_uri": "https://localhost:8080/"
        }
      },
      "execution_count": null,
      "outputs": [
        {
          "output_type": "stream",
          "name": "stdout",
          "text": [
            "LINK 5\n",
            "\tLOS 1: Recall 92.13%\n",
            "\tLOS 2: Recall 39.55%\n",
            "\tLOS 3: Recall 29.16%\n",
            "\tLOS 4: Recall 19.54%\n",
            "\tLOS 5: Recall 23.77%\n",
            "\tLOS 6: Recall 62.57%\n",
            "LINK 6\n",
            "\tLOS 1: Recall 89.42%\n",
            "\tLOS 2: Recall 33.89%\n",
            "\tLOS 3: Recall 39.04%\n",
            "\tLOS 4: Recall 15.23%\n",
            "\tLOS 5: Recall 22.03%\n",
            "\tLOS 6: Recall 41.77%\n",
            "LINK 7\n",
            "\tLOS 1: Recall 88.72%\n",
            "\tLOS 2: Recall 58.36%\n",
            "\tLOS 3: Recall 28.98%\n",
            "\tLOS 4: Recall 20.79%\n",
            "\tLOS 5: Recall 11.4%\n",
            "\tLOS 6: Recall 37.96%\n",
            "LINK 8\n",
            "\tLOS 1: Recall 89.82%\n",
            "\tLOS 2: Recall 32.24%\n",
            "\tLOS 3: Recall 68.63%\n",
            "\tLOS 4: Recall 34.23%\n",
            "\tLOS 5: Recall 15.5%\n",
            "\tLOS 6: Recall 48.55%\n",
            "LINK 9\n",
            "\tLOS 1: Recall 87.66%\n",
            "\tLOS 2: Recall 53.49%\n",
            "\tLOS 3: Recall 17.93%\n",
            "\tLOS 4: Recall 3.58%\n",
            "\tLOS 5: Recall 16.82%\n",
            "\tLOS 6: Recall 47.88%\n",
            "LINK 10\n",
            "\tLOS 1: Recall 87.75%\n",
            "\tLOS 2: Recall 33.32%\n",
            "\tLOS 3: Recall 17.89%\n",
            "\tLOS 4: Recall 17.53%\n",
            "\tLOS 5: Recall 19.25%\n",
            "\tLOS 6: Recall 48.41%\n"
          ]
        }
      ]
    },
    {
      "cell_type": "markdown",
      "source": [
        "# **RUSBoost**"
      ],
      "metadata": {
        "id": "RMogxy-BNDjn"
      }
    },
    {
      "cell_type": "markdown",
      "source": [
        "## **FEATURE ENGINEERING ADJACENT LINK INFORMATION + TEMPORAL INFORMATION (UP TO PREVIOUS 45MIN)**"
      ],
      "metadata": {
        "id": "sOP6-k1pNP3l"
      }
    },
    {
      "cell_type": "markdown",
      "source": [
        "### *Features creation*\n",
        "\n",
        "For each link, the tt_arrival of the other links, covering the previous 50min from prediction time, are added as features. Therefore we will be using 60 features in total as maximum."
      ],
      "metadata": {
        "id": "fm6sOFG-NVDt"
      }
    },
    {
      "cell_type": "markdown",
      "source": [
        "### *Training*"
      ],
      "metadata": {
        "id": "_IkMeKgFNbdd"
      }
    },
    {
      "cell_type": "code",
      "source": [
        "for LINK in range(5,11):\n",
        "    print(f\"LINK {LINK}\")\n",
        "    other_links = [5,6,7,8,9,10]; other_links.remove(LINK)\n",
        "    training_df_link = training_df.copy()\n",
        "    training_df_link = training_df_link[training_df_link['link_id'] == LINK]\n",
        "\n",
        "    for other_link in other_links:\n",
        "        training_df_link = pd.merge(training_df_link, training_df[training_df['link_id'] == other_link].filter(regex=(\"tt_arr.*\")), on=['date'], how='inner', suffixes=[None, f'_{other_link}'])\n",
        "    \n",
        "    X = training_df_link.filter(regex=(\"tt_arr.*\")).values\n",
        "    y = training_df_link['LOS_dep'].values\n",
        "    clf = RUSBoostClassifier(base_estimator=DecisionTreeClassifier(max_depth=128), n_estimators=60, learning_rate=0.3)\n",
        "\n",
        "    # 5-fold cross validation\n",
        "    CV = 5\n",
        "    scoring = {'recall1': metrics.make_scorer(metrics.recall_score, average = None, labels = [1]), \n",
        "        'recall2': metrics.make_scorer(metrics.recall_score, average = None, labels = [2]),\n",
        "        'recall3': metrics.make_scorer(metrics.recall_score, average = None, labels = [3]),\n",
        "        'recall4': metrics.make_scorer(metrics.recall_score, average = None, labels = [4]), \n",
        "        'recall5': metrics.make_scorer(metrics.recall_score, average = None, labels = [5]),\n",
        "        'recall6': metrics.make_scorer(metrics.recall_score, average = None, labels = [6])}\n",
        "    results = cross_validate(clf, X, y, cv=CV, scoring=scoring, return_train_score = False)\n",
        "    for LOS in range(1,7):\n",
        "        score = results[f'test_recall{LOS}']\n",
        "        print(f\"\\tLOS {LOS}: Recall {round(sum(score)/CV*100, 2)}%\")"
      ],
      "metadata": {
        "id": "J-5QVUCWNPnP",
        "outputId": "ed974b87-ce3e-4f2f-faaf-9355572b1948",
        "colab": {
          "base_uri": "https://localhost:8080/"
        }
      },
      "execution_count": null,
      "outputs": [
        {
          "output_type": "stream",
          "name": "stdout",
          "text": [
            "LINK 5\n",
            "\tLOS 1: Recall 92.22%\n",
            "\tLOS 2: Recall 40.94%\n",
            "\tLOS 3: Recall 36.4%\n",
            "\tLOS 4: Recall 11.25%\n",
            "\tLOS 5: Recall 5.47%\n",
            "\tLOS 6: Recall 23.26%\n",
            "LINK 6\n",
            "\tLOS 1: Recall 91.73%\n",
            "\tLOS 2: Recall 41.74%\n",
            "\tLOS 3: Recall 43.6%\n",
            "\tLOS 4: Recall 23.72%\n",
            "\tLOS 5: Recall 8.57%\n",
            "\tLOS 6: Recall 2.72%\n",
            "LINK 7\n",
            "\tLOS 1: Recall 89.84%\n",
            "\tLOS 2: Recall 40.22%\n",
            "\tLOS 3: Recall 53.07%\n",
            "\tLOS 4: Recall 12.77%\n",
            "\tLOS 5: Recall 2.0%\n",
            "\tLOS 6: Recall 0.74%\n",
            "LINK 8\n",
            "\tLOS 1: Recall 98.97%\n",
            "\tLOS 2: Recall 26.1%\n",
            "\tLOS 3: Recall 44.81%\n",
            "\tLOS 4: Recall 3.87%\n",
            "\tLOS 5: Recall 2.66%\n",
            "\tLOS 6: Recall 27.67%\n",
            "LINK 9\n",
            "\tLOS 1: Recall 84.57%\n",
            "\tLOS 2: Recall 65.38%\n",
            "\tLOS 3: Recall 55.9%\n",
            "\tLOS 4: Recall 23.82%\n",
            "\tLOS 5: Recall 7.91%\n",
            "\tLOS 6: Recall 3.45%\n",
            "LINK 10\n",
            "\tLOS 1: Recall 98.26%\n",
            "\tLOS 2: Recall 23.83%\n",
            "\tLOS 3: Recall 16.58%\n",
            "\tLOS 4: Recall 17.16%\n",
            "\tLOS 5: Recall 22.2%\n",
            "\tLOS 6: Recall 21.11%\n"
          ]
        }
      ]
    },
    {
      "cell_type": "markdown",
      "source": [
        "# **LSTM**"
      ],
      "metadata": {
        "id": "YdG4O3Ww2eoi"
      }
    },
    {
      "cell_type": "markdown",
      "source": [
        "## **FEATURE ENGINEERING ADJACENT LINK INFORMATION + TEMPORAL INFORMATION (UP TO PREVIOUS 45MIN)**"
      ],
      "metadata": {
        "id": "v4hiITcW2eoj"
      }
    },
    {
      "cell_type": "markdown",
      "source": [
        "**TRAIN or LOAD switch**"
      ],
      "metadata": {
        "id": "8fYb-uhw60Gr"
      }
    },
    {
      "cell_type": "code",
      "source": [
        "train_again = False"
      ],
      "metadata": {
        "id": "z48_PaxN648U"
      },
      "execution_count": null,
      "outputs": []
    },
    {
      "cell_type": "markdown",
      "source": [
        "### *Training*"
      ],
      "metadata": {
        "id": "JcUqqwAr2eoj"
      }
    },
    {
      "cell_type": "code",
      "source": [
        "# pick a window size of previous 45 minutes\n",
        "sequence_length = (50-PREDICTED_MINUTES_AHEAD)\n",
        "\n",
        "# function to reshape features into (samples, time steps, features) \n",
        "def gen_sequence(data_array, seq_length):\n",
        "    num_elements = data_array.shape[0]\n",
        "    for start, stop in zip(range(0, num_elements-seq_length), range(seq_length, num_elements)):\n",
        "        yield data_array[start:stop, :]\n",
        "\n",
        "# function to generate labels\n",
        "def gen_labels(data_array, seq_length):\n",
        "    num_elements = data_array.shape[0]\n",
        "    return data_array[seq_length:num_elements]\n",
        "\n",
        "\n",
        "for LINK in range(5,11):\n",
        "    print(f\"LINK {LINK}\")\n",
        "    other_links = [5,6,7,8,9,10]; other_links.remove(LINK)\n",
        "    training_df_link = training_df.copy()\n",
        "    training_df_link = training_df_link[training_df_link['link_id'] == LINK]\n",
        "\n",
        "    for other_link in other_links:\n",
        "        training_df_link = pd.merge(training_df_link, training_df[training_df['link_id'] == other_link]['tt_arr'], on=['date'], how='inner', suffixes=[None, f'_{other_link}'])\n",
        "    \n",
        "    X = training_df_link.filter(regex=(\"tt_ar[^-]+$\")).values\n",
        "    # Min-Max Scaling\n",
        "    sc = preprocessing.MinMaxScaler()\n",
        "    X = sc.fit_transform(X)\n",
        "\n",
        "    if train_again:\n",
        "        X = gen_sequence(X, sequence_length)\n",
        "        X = np.stack(list(X), axis=0)\n",
        "        print(f'Size of training data array {X.shape}')\n",
        "        y = gen_labels(training_df_link['LOS_dep'].values, sequence_length)\n",
        "        y = np.expand_dims(y, axis=1)\n",
        "        \n",
        "        onehot_encoder = preprocessing.OneHotEncoder()\n",
        "        y = onehot_encoder.fit_transform(y).toarray()\n",
        "        print(f'Size of training labels {y.shape}')\n",
        "\n",
        "        # build the model\n",
        "        num_features = X.shape[2]\n",
        "        num_out = y.shape[1]\n",
        "\n",
        "        model = keras.models.Sequential()\n",
        "\n",
        "        model.add(keras.layers.LSTM(\n",
        "                input_shape=(sequence_length, num_features),\n",
        "                units=100,\n",
        "                return_sequences=True))\n",
        "        model.add(keras.layers.Dropout(0.2))\n",
        "\n",
        "        model.add(keras.layers.LSTM(\n",
        "                units=50,\n",
        "                return_sequences=False))\n",
        "        model.add(keras.layers.Dropout(0.2))\n",
        "\n",
        "        model.add(keras.layers.Dense(units=6, activation='softmax'))\n",
        "\n",
        "        model.compile(loss='categorical_crossentropy', optimizer='adam', metrics=['accuracy'])\n",
        "\n",
        "        model.fit(X, y, epochs=10, batch_size=500, validation_split=0.005, verbose=1)\n",
        "\n",
        "        model.save(f'/content/Traffic/models/LSTM_link{LINK}_predminutes{PREDICTED_MINUTES_AHEAD}.h5')\n",
        "    \n",
        "    else:\n",
        "        model = keras.models.load_model(f'/content/Traffic/models/LSTM_link{LINK}_predminutes{PREDICTED_MINUTES_AHEAD}.h5')\n",
        "    \n",
        "    for LOS in range(1,7):\n",
        "        validation_df_link = validation_df[(validation_df['link_id'] == LINK) & (validation_df['LOS_dep'] == LOS)].copy()\n",
        "        for other_link in other_links:\n",
        "            validation_df_link = pd.merge(validation_df_link, validation_df[validation_df['link_id'] == other_link]['tt_arr'], on=['date'], how='inner', suffixes=[None, f'_{other_link}'])\n",
        "        X_test = sc.transform( validation_df_link.filter(regex=(\"tt_ar[^-]+$\")).values )\n",
        "        X_test = gen_sequence(X_test, sequence_length)\n",
        "        X_test = np.stack(list(X_test), axis=0).astype(np.float32)\n",
        "        y_pred = model.predict(X_test)\n",
        "        y_pred = onehot_encoder.inverse_transform(y_pred)\n",
        "\n",
        "        score = metrics.recall_score([LOS]*len(y_pred), y_pred, average='micro')\n",
        "        print(f\"\\tLOS {LOS}: Recall {round(score*100, 2) }%\")\n",
        "\n",
        "    del model\n",
        "    gc.collect()"
      ],
      "metadata": {
        "colab": {
          "base_uri": "https://localhost:8080/"
        },
        "id": "Uq96UMNb2ipq",
        "outputId": "f710b9ab-9fe9-4ded-df5e-6cef72749dc2"
      },
      "execution_count": null,
      "outputs": [
        {
          "output_type": "stream",
          "name": "stdout",
          "text": [
            "LINK 5\n",
            "17716/17716 [==============================] - 69s 4ms/step\n",
            "\tLOS 1: Recall 96.25%\n",
            "2563/2563 [==============================] - 10s 4ms/step\n",
            "\tLOS 2: Recall 38.85%\n",
            "1645/1645 [==============================] - 7s 4ms/step\n",
            "\tLOS 3: Recall 39.37%\n",
            "634/634 [==============================] - 2s 4ms/step\n",
            "\tLOS 4: Recall 19.88%\n",
            "321/321 [==============================] - 2s 5ms/step\n",
            "\tLOS 5: Recall 19.66%\n",
            "245/245 [==============================] - 1s 4ms/step\n",
            "\tLOS 6: Recall 42.19%\n",
            "LINK 6\n",
            "19745/19745 [==============================] - 76s 4ms/step\n",
            "\tLOS 1: Recall 97.88%\n",
            "1298/1298 [==============================] - 5s 4ms/step\n",
            "\tLOS 2: Recall 27.68%\n",
            "1464/1464 [==============================] - 6s 4ms/step\n",
            "\tLOS 3: Recall 62.14%\n",
            "424/424 [==============================] - 2s 4ms/step\n",
            "\tLOS 4: Recall 20.06%\n",
            "141/141 [==============================] - 1s 4ms/step\n",
            "\tLOS 5: Recall 25.43%\n",
            "53/53 [==============================] - 0s 4ms/step\n",
            "\tLOS 6: Recall 16.84%\n",
            "LINK 7\n",
            "19653/19653 [==============================] - 75s 4ms/step\n",
            "\tLOS 1: Recall 98.16%\n",
            "1941/1941 [==============================] - 7s 4ms/step\n",
            "\tLOS 2: Recall 53.4%\n",
            "1199/1199 [==============================] - 6s 4ms/step\n",
            "\tLOS 3: Recall 59.44%\n",
            "228/228 [==============================] - 1s 5ms/step\n",
            "\tLOS 4: Recall 12.53%\n",
            "80/80 [==============================] - 0s 4ms/step\n",
            "\tLOS 5: Recall 14.75%\n",
            "23/23 [==============================] - 0s 4ms/step\n",
            "\tLOS 6: Recall 17.8%\n",
            "LINK 8\n",
            "21740/21740 [==============================] - 85s 4ms/step\n",
            "\tLOS 1: Recall 99.28%\n",
            "407/407 [==============================] - 2s 4ms/step\n",
            "\tLOS 2: Recall 40.22%\n",
            "658/658 [==============================] - 2s 4ms/step\n",
            "\tLOS 3: Recall 73.69%\n",
            "175/175 [==============================] - 1s 4ms/step\n",
            "\tLOS 4: Recall 20.88%\n",
            "74/74 [==============================] - 0s 3ms/step\n",
            "\tLOS 5: Recall 19.83%\n",
            "70/70 [==============================] - 0s 3ms/step\n",
            "\tLOS 6: Recall 51.1%\n",
            "LINK 9\n",
            "20035/20035 [==============================] - 79s 4ms/step\n",
            "\tLOS 1: Recall 97.84%\n",
            "2460/2460 [==============================] - 10s 4ms/step\n",
            "\tLOS 2: Recall 67.88%\n",
            "520/520 [==============================] - 2s 4ms/step\n",
            "\tLOS 3: Recall 42.65%\n",
            "71/71 [==============================] - 0s 5ms/step\n",
            "\tLOS 4: Recall 28.35%\n",
            "29/29 [==============================] - 0s 5ms/step\n",
            "\tLOS 5: Recall 8.61%\n",
            "10/10 [==============================] - 0s 4ms/step\n",
            "\tLOS 6: Recall 6.49%\n",
            "LINK 10\n",
            "21211/21211 [==============================] - 84s 4ms/step\n",
            "\tLOS 1: Recall 98.65%\n",
            "672/672 [==============================] - 2s 4ms/step\n",
            "\tLOS 2: Recall 42.03%\n",
            "457/457 [==============================] - 2s 4ms/step\n",
            "\tLOS 3: Recall 35.83%\n",
            "337/337 [==============================] - 2s 5ms/step\n",
            "\tLOS 4: Recall 22.26%\n",
            "282/282 [==============================] - 1s 4ms/step\n",
            "\tLOS 5: Recall 44.96%\n",
            "166/166 [==============================] - 1s 4ms/step\n",
            "\tLOS 6: Recall 46.07%\n"
          ]
        }
      ]
    },
    {
      "cell_type": "markdown",
      "source": [
        "# **CLEAN UP**"
      ],
      "metadata": {
        "id": "l3Uq8ZqIQ55g"
      }
    },
    {
      "cell_type": "code",
      "source": [
        "!git status"
      ],
      "metadata": {
        "id": "aMbYu1JbnzEy"
      },
      "execution_count": null,
      "outputs": []
    },
    {
      "cell_type": "code",
      "source": [
        "!git pull"
      ],
      "metadata": {
        "id": "kQnWKUfl8zBx"
      },
      "execution_count": null,
      "outputs": []
    },
    {
      "cell_type": "markdown",
      "source": [
        "## COMMIT AND REMOVE"
      ],
      "metadata": {
        "id": "rN4hjHN5n8ns"
      }
    },
    {
      "cell_type": "code",
      "source": [
        "%cd /content/Traffic\n",
        "!sh /content/drive/MyDrive/Traffic/scripts/logout.sh\n",
        "drive.flush_and_unmount()"
      ],
      "metadata": {
        "id": "xKwc6DK9xcrr",
        "outputId": "f818a739-6cb7-4c61-ee9f-969701996e61",
        "colab": {
          "base_uri": "https://localhost:8080/"
        }
      },
      "execution_count": null,
      "outputs": [
        {
          "output_type": "stream",
          "name": "stdout",
          "text": [
            "/content/Traffic\n",
            ": not found\n",
            "fatal: pathspec '.?' did not match any files\n",
            "On branch master\n",
            "Your branch is ahead of 'origin/master' by 1 commit.\n",
            "  (use \"git push\" to publish your local commits)\n",
            "\n",
            "nothing to commit, working tree clean\n",
            "Everything up-to-date\n"
          ]
        }
      ]
    },
    {
      "cell_type": "code",
      "source": [
        "!rm -rf /content/Traffic"
      ],
      "metadata": {
        "id": "2ifNpENMcesP"
      },
      "execution_count": null,
      "outputs": []
    }
  ]
}