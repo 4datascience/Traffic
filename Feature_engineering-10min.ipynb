{
 "cells": [
  {
   "cell_type": "markdown",
   "metadata": {
    "id": "uZ_KQy9CaghT",
    "tags": []
   },
   "source": [
    "# **INITIALISATION**"
   ]
  },
  {
   "cell_type": "markdown",
   "metadata": {
    "id": "J1aLPKnRdfSq"
   },
   "source": [
    "## Python Environment"
   ]
  },
  {
   "cell_type": "markdown",
   "metadata": {
    "id": "2O_6vDSUdG5G"
   },
   "source": [
    "### Import Python libraries"
   ]
  },
  {
   "cell_type": "code",
   "execution_count": 2,
   "metadata": {
    "id": "0aZLKV7udGBe"
   },
   "outputs": [],
   "source": [
    "# Data libraries\n",
    "import os\n",
    "import pandas as pd\n",
    "import calendar\n",
    "import numpy as np\n",
    "import gc\n",
    "import math\n",
    "from operator import itemgetter\n",
    "from datetime import datetime\n",
    "\n",
    "# Plotting\n",
    "import matplotlib.pyplot as plt\n",
    "from matplotlib.ticker import StrMethodFormatter\n",
    "from seaborn import violinplot, boxenplot\n",
    "\n",
    "# Model training\n",
    "from sklearn.model_selection import cross_validate\n",
    "from sklearn import metrics, preprocessing\n",
    "from sklearn.pipeline import make_pipeline\n",
    "from sklearn.naive_bayes import GaussianNB\n",
    "#from imblearn.ensemble import RUSBoostClassifier\n",
    "from sklearn.ensemble import AdaBoostClassifier\n",
    "from sklearn.tree import DecisionTreeClassifier\n",
    "from sklearn import base\n",
    "import joblib\n",
    "    # Keras\n",
    "from tensorflow import keras\n",
    "from keras.models import Sequential\n",
    "from keras.layers import Dense, Dropout, LSTM, Activation, Lambda\n",
    "    # Tensorflow\n",
    "import tensorflow as tf\n",
    "\n",
    "# Statistical tests\n",
    "from scipy.stats import shapiro"
   ]
  },
  {
   "cell_type": "markdown",
   "metadata": {
    "id": "4sHUoA4jdmit"
   },
   "source": [
    "### SET ENVIRONMENT VARIABLES"
   ]
  },
  {
   "cell_type": "code",
   "execution_count": 1,
   "metadata": {
    "id": "aGdil-f9dr5k"
   },
   "outputs": [],
   "source": [
    "# WORKING FOLDER: /content/local/Traffic/data or /content/drive/MyDrive/Traffic/data\n",
    "ROOT = '/content/local/Traffic/data'\n",
    "# PREDICTION HORIZON\n",
    "PREDICTED_MINUTES_AHEAD = 10\n",
    "if (PREDICTED_MINUTES_AHEAD%5 != 0): raise ValueError(\"Invalid prediction horizon. Must be multiple of 5 minutes\")\n",
    "INPUT_MINUTES_BEFORE = 45\n",
    "if (INPUT_MINUTES_BEFORE%5 != 0): raise ValueError(\"Invalid input minutes span. Must be multiple of 5 minutes\")"
   ]
  },
  {
   "cell_type": "markdown",
   "metadata": {
    "id": "v7P6CQyDdblM",
    "jp-MarkdownHeadingCollapsed": true,
    "tags": []
   },
   "source": [
    "## Files (Ignore if working locally)"
   ]
  },
  {
   "cell_type": "markdown",
   "metadata": {
    "id": "s7uxqluGalb6",
    "tags": []
   },
   "source": [
    "### Mount \\<Google Drive\\>"
   ]
  },
  {
   "cell_type": "code",
   "execution_count": 3,
   "metadata": {
    "colab": {
     "base_uri": "https://localhost:8080/"
    },
    "id": "PtJt6uekJtLb",
    "outputId": "d69b4573-b5d6-442d-9525-dac0f6d854e2"
   },
   "outputs": [
    {
     "name": "stdout",
     "output_type": "stream",
     "text": [
      "Mounted at /content/drive\n"
     ]
    }
   ],
   "source": [
    "from google.colab import drive\n",
    "drive.mount('/content/drive')\n",
    "!rm -rf sample_data"
   ]
  },
  {
   "cell_type": "markdown",
   "metadata": {
    "id": "EPQCjHeEa0Tt",
    "tags": []
   },
   "source": [
    "### Clone \\<Github\\>"
   ]
  },
  {
   "cell_type": "code",
   "execution_count": null,
   "metadata": {
    "colab": {
     "base_uri": "https://localhost:8080/"
    },
    "id": "9T3lXEPdJv29",
    "outputId": "eba39175-cb03-4cae-ebb4-c91057d4ab7d"
   },
   "outputs": [
    {
     "name": "stdout",
     "output_type": "stream",
     "text": [
      "/content/drive/MyDrive/Traffic/scripts/initialisation.sh: 1: %cd: not found\n",
      "Cloning into 'Traffic'...\n",
      "remote: Enumerating objects: 104, done.\u001b[K\n",
      "remote: Counting objects: 100% (104/104), done.\u001b[K\n",
      "remote: Compressing objects: 100% (96/96), done.\u001b[K\n",
      "remote: Total 104 (delta 42), reused 36 (delta 3), pack-reused 0\u001b[K\n",
      "Receiving objects: 100% (104/104), 9.85 MiB | 17.27 MiB/s, done.\n",
      "Resolving deltas: 100% (42/42), done.\n",
      "/content/drive/MyDrive/Traffic/scripts/initialisation.sh: 3: %cd: not found\n"
     ]
    }
   ],
   "source": [
    "!sh /content/drive/MyDrive/Traffic/scripts/initialisation.sh"
   ]
  },
  {
   "cell_type": "code",
   "execution_count": null,
   "metadata": {
    "colab": {
     "base_uri": "https://localhost:8080/"
    },
    "id": "wTfD2Vw6a64d",
    "outputId": "bf4680f8-e4cc-440a-f9df-c11f283eafa2"
   },
   "outputs": [
    {
     "name": "stdout",
     "output_type": "stream",
     "text": [
      "/content/Traffic\n"
     ]
    }
   ],
   "source": [
    "%cd /content/Traffic\n",
    "!git config user.email diego@google.colab.com\n",
    "!git config user.name \"Google Colab\"\n",
    "!git config http.postBuffer 524288000"
   ]
  },
  {
   "cell_type": "markdown",
   "metadata": {
    "id": "wOQaX0TnQJti",
    "jp-MarkdownHeadingCollapsed": true,
    "tags": []
   },
   "source": [
    "# **UPLOAD DATA**"
   ]
  },
  {
   "cell_type": "markdown",
   "metadata": {
    "id": "fRqNJgJxQf8l",
    "tags": []
   },
   "source": [
    "## TO GOOGLE DRIVE [ LINK_ID, TT_ARR, LOS_DEP ]"
   ]
  },
  {
   "cell_type": "code",
   "execution_count": null,
   "metadata": {
    "colab": {
     "base_uri": "https://localhost:8080/"
    },
    "id": "0Jet-m9yQJSQ",
    "outputId": "8b659314-fbf3-4f74-ba1d-c4af2da2e837"
   },
   "outputs": [
    {
     "name": "stdout",
     "output_type": "stream",
     "text": [
      "Sevilla_2015.csv 365.0\n",
      "Sevilla_2016.csv 366.0\n",
      "Sevilla_2017.csv 365.0\n",
      "Sevilla_2018.csv 273.0\n",
      "Training percentage (7387200 elements):\n",
      "\t62.45434623813002%\n",
      "Validation percentage:\n",
      "\t37.54261017774531%\n"
     ]
    }
   ],
   "source": [
    "\n",
    "\n",
    "training = []\n",
    "validation = []\n",
    "total_size = 0\n",
    "\n",
    "directory = '/content/drive/MyDrive/Traffic/data/processed/'\n",
    "filenames = os.listdir(directory)\n",
    "filenames.sort()\n",
    "for filename in filenames:\n",
    "    f = os.path.join(directory, filename)\n",
    "    df=pd.read_csv(f)\n",
    "    print(f'{filename} {df.shape[0]/(60*24*6)}')\n",
    "    df[\"date\"] = pd.to_datetime(df[\"date\"], format='%d-%b-%Y %H:%M:%S')\n",
    "    df = df.set_index(\"date\")\n",
    "    Y = df.shift(-PREDICTED_MINUTES_AHEAD, freq='min')[['link_id', 'LOS_dep']]\n",
    "    # Training set\n",
    "    X = df.loc[(df.index.day < 20)][['link_id', 'tt_arr']]\n",
    "    training.append( pd.merge(X, Y, on=['date', 'link_id'], how='inner') )\n",
    "    # Validation set\n",
    "    X = df.loc[~(df.index.day < 20)][['link_id', 'tt_arr']]\n",
    "    validation.append( pd.merge(X, Y, on=['date', 'link_id'], how='inner') )\n",
    "    total_size += df.shape[0]\n",
    "del df\n",
    "training_df = pd.concat(training)\n",
    "validation_df = pd.concat(validation)\n",
    "\n",
    "del training, validation\n",
    "print(f'Training percentage ({training_df.shape[0]} elements):\\n\\t{training_df.shape[0] / total_size * 100}%')\n",
    "print(f'Validation percentage:\\n\\t{validation_df.shape[0] / total_size * 100}%')\n",
    "\n",
    "training_df.to_csv(f'/content/drive/MyDrive/Traffic/data/intermediate/Sevilla_{PREDICTED_MINUTES_AHEAD}m_training.csv')\n",
    "validation_df.to_csv(f'/content/drive/MyDrive/Traffic/data/intermediate/Sevilla_{PREDICTED_MINUTES_AHEAD}m_validating.csv')"
   ]
  },
  {
   "cell_type": "markdown",
   "metadata": {
    "id": "uNktJwINXeVt",
    "tags": []
   },
   "source": [
    "## TO GOOGLE DRIVE [ LINK_ID, TT_ARR, TT_ARR-5, TT_ARR-10, ..., TT_ARR-N, LOS_DEP ]"
   ]
  },
  {
   "cell_type": "code",
   "execution_count": null,
   "metadata": {
    "colab": {
     "base_uri": "https://localhost:8080/"
    },
    "id": "BokEgQrdavRt",
    "outputId": "393ac4b5-488f-4292-a764-24ca40a30e8d"
   },
   "outputs": [
    {
     "name": "stdout",
     "output_type": "stream",
     "text": [
      "Sevilla_2015.csv 365.0\n",
      "Sevilla_2016.csv 366.0\n",
      "Sevilla_2017.csv 365.0\n",
      "Sevilla_2018.csv 273.0\n",
      "Training percentage (7386120 elements):\n",
      "\t62.44521548575602%\n",
      "Validation percentage:\n",
      "\t37.54463923382843%\n"
     ]
    }
   ],
   "source": [
    "\n",
    "\n",
    "training = []\n",
    "validation = []\n",
    "total_size = 0\n",
    "\n",
    "directory = '/content/drive/MyDrive/Traffic/data/processed/'\n",
    "filenames = os.listdir(directory)\n",
    "filenames.sort()\n",
    "for filename in filenames:\n",
    "    f = os.path.join(directory, filename)\n",
    "    df=pd.read_csv(f)\n",
    "    print(f'{filename} {df.shape[0]/(60*24*6)}')\n",
    "    df[\"date\"] = pd.to_datetime(df[\"date\"], format='%d-%b-%Y %H:%M:%S')\n",
    "    df = df.set_index(\"date\")\n",
    "    Y = df.shift(-PREDICTED_MINUTES_AHEAD, freq='min')[['link_id', 'LOS_dep']]\n",
    "    # Training set\n",
    "    X = df.loc[(df.index.day < 20)][['link_id', 'tt_arr']]\n",
    "    for offset in range(1,int((INPUT_MINUTES_BEFORE)/5)+1):\n",
    "        X = pd.merge(X, df.shift(offset*5, freq='min')[['link_id', 'tt_arr']], on=['date', 'link_id'], how='inner', suffixes=[None, f'-{int(offset*5)}'])\n",
    "    training.append( pd.merge(X, Y, on=['date', 'link_id'], how='inner') )\n",
    "    # Validation set\n",
    "    X = df.loc[~(df.index.day < 20)][['link_id', 'tt_arr']]\n",
    "    for offset in range(1,int((INPUT_MINUTES_BEFORE)/5)+1):\n",
    "        X = pd.merge(X, df.shift(offset*5, freq='min')[['link_id', 'tt_arr']], on=['date', 'link_id'], how='inner', suffixes=[None, f'-{int(offset*5)}'])\n",
    "    validation.append( pd.merge(X, Y, on=['date', 'link_id'], how='inner') )\n",
    "    total_size += df.shape[0]\n",
    "del df\n",
    "training_df = pd.concat(training)\n",
    "validation_df = pd.concat(validation)\n",
    "\n",
    "del training, validation\n",
    "print(f'Training percentage ({training_df.shape[0]} elements):\\n\\t{training_df.shape[0] / total_size * 100}%')\n",
    "print(f'Validation percentage:\\n\\t{validation_df.shape[0] / total_size * 100}%')\n",
    "\n",
    "training_df.to_csv(f'/content/drive/MyDrive/Traffic/data/intermediate/Sevilla_{PREDICTED_MINUTES_AHEAD}m_horizon_{INPUT_MINUTES_BEFORE}m_feed_training.csv')\n",
    "validation_df.to_csv(f'/content/drive/MyDrive/Traffic/data/intermediate/Sevilla_{PREDICTED_MINUTES_AHEAD}m_horizon_{INPUT_MINUTES_BEFORE}m_feed_validating.csv')"
   ]
  },
  {
   "cell_type": "markdown",
   "metadata": {
    "id": "GNBT0n1PaJDE",
    "tags": []
   },
   "source": [
    "# **DOWNLOAD DATA**"
   ]
  },
  {
   "cell_type": "markdown",
   "metadata": {
    "id": "lQ3s6vVAhUqe",
    "jp-MarkdownHeadingCollapsed": true,
    "tags": []
   },
   "source": [
    "## Without temporal information"
   ]
  },
  {
   "cell_type": "code",
   "execution_count": null,
   "metadata": {
    "id": "VbJeopr8bNxm"
   },
   "outputs": [],
   "source": [
    "training_df = pd.read_csv(f'/content/drive/MyDrive/Traffic/data/intermediate/Sevilla_{PREDICTED_MINUTES_AHEAD}m_training.csv')\n",
    "training_df[\"date\"] = pd.to_datetime(training_df[\"date\"], format='%Y-%m-%d %H:%M:%S')\n",
    "training_df = training_df.set_index(\"date\")\n",
    "validation_df = pd.read_csv(f'/content/drive/MyDrive/Traffic/data/intermediate/Sevilla_{PREDICTED_MINUTES_AHEAD}m_validating.csv')\n",
    "validation_df[\"date\"] = pd.to_datetime(validation_df[\"date\"], format='%Y-%m-%d %H:%M:%S')\n",
    "validation_df = validation_df.set_index(\"date\")"
   ]
  },
  {
   "cell_type": "markdown",
   "metadata": {
    "id": "kVAtVDMNhafE"
   },
   "source": [
    "## With temporal information"
   ]
  },
  {
   "cell_type": "code",
   "execution_count": 3,
   "metadata": {
    "id": "uinjRHA3hcbc"
   },
   "outputs": [],
   "source": [
    "training_df = pd.read_csv(f'/content/drive/MyDrive/Traffic/data/intermediate/Sevilla_{PREDICTED_MINUTES_AHEAD}m_horizon_{INPUT_MINUTES_BEFORE}m_feed_training.csv')\n",
    "training_df[\"date\"] = pd.to_datetime(training_df[\"date\"], format='%Y-%m-%d %H:%M:%S')\n",
    "training_df = training_df.set_index(\"date\")\n",
    "validation_df = pd.read_csv(f'/content/drive/MyDrive/Traffic/data/intermediate/Sevilla_{PREDICTED_MINUTES_AHEAD}m_horizon_{INPUT_MINUTES_BEFORE}m_feed_validating.csv')\n",
    "validation_df[\"date\"] = pd.to_datetime(validation_df[\"date\"], format='%Y-%m-%d %H:%M:%S')\n",
    "validation_df = validation_df.set_index(\"date\")"
   ]
  },
  {
   "cell_type": "markdown",
   "metadata": {
    "id": "Jf0vYHbXf_9d",
    "jp-MarkdownHeadingCollapsed": true,
    "tags": []
   },
   "source": [
    "# **NAIVE BAYES**"
   ]
  },
  {
   "cell_type": "markdown",
   "metadata": {
    "id": "b0q_xwSKgXob"
   },
   "source": [
    "### **NO FEATURE ENGINEERING**"
   ]
  },
  {
   "cell_type": "code",
   "execution_count": 14,
   "metadata": {
    "colab": {
     "base_uri": "https://localhost:8080/"
    },
    "id": "_M_l-rXMC-QF",
    "outputId": "b6c0521f-3bd9-4469-fcfa-7c3ffacdc7a4"
   },
   "outputs": [
    {
     "name": "stdout",
     "output_type": "stream",
     "text": [
      "LINK 5\n",
      "\tLOS 1: Recall 97.06%\n",
      "\tLOS 2: Recall 28.93%\n",
      "\tLOS 3: Recall 34.57%\n",
      "\tLOS 4: Recall 16.3%\n",
      "\tLOS 5: Recall 18.49%\n",
      "\tLOS 6: Recall 56.02%\n",
      "LINK 6\n",
      "\tLOS 1: Recall 95.95%\n",
      "\tLOS 2: Recall 24.13%\n",
      "\tLOS 3: Recall 29.36%\n",
      "\tLOS 4: Recall 10.07%\n",
      "\tLOS 5: Recall 13.36%\n",
      "\tLOS 6: Recall 30.46%\n",
      "LINK 7\n",
      "\tLOS 1: Recall 98.02%\n",
      "\tLOS 2: Recall 45.01%\n",
      "\tLOS 3: Recall 36.91%\n",
      "\tLOS 4: Recall 8.05%\n",
      "\tLOS 5: Recall 11.98%\n",
      "\tLOS 6: Recall 26.05%\n",
      "LINK 8\n",
      "\tLOS 1: Recall 99.37%\n",
      "\tLOS 2: Recall 25.21%\n",
      "\tLOS 3: Recall 77.5%\n",
      "\tLOS 4: Recall 4.76%\n",
      "\tLOS 5: Recall 2.38%\n",
      "\tLOS 6: Recall 53.56%\n",
      "LINK 9\n",
      "\tLOS 1: Recall 97.44%\n",
      "\tLOS 2: Recall 66.52%\n",
      "\tLOS 3: Recall 21.25%\n",
      "\tLOS 4: Recall 27.53%\n",
      "\tLOS 5: Recall 9.99%\n",
      "\tLOS 6: Recall 21.25%\n",
      "LINK 10\n",
      "\tLOS 1: Recall 99.07%\n",
      "\tLOS 2: Recall 37.06%\n",
      "\tLOS 3: Recall 25.09%\n",
      "\tLOS 4: Recall 23.81%\n",
      "\tLOS 5: Recall 37.24%\n",
      "\tLOS 6: Recall 42.58%\n"
     ]
    }
   ],
   "source": [
    "for LINK in range(5,11):\n",
    "    print(f\"LINK {LINK}\")\n",
    "    X_train = training_df[training_df['link_id'] == LINK]['tt_arr'].values.reshape(-1, 1)\n",
    "    y_train = training_df[training_df['link_id'] == LINK]['LOS_dep'].values\n",
    "    \n",
    "    sc = preprocessing.StandardScaler()\n",
    "    X_train = sc.fit_transform(X_train)\n",
    "\n",
    "    model = GaussianNB().fit(X_train, y_train)\n",
    "    for LOS in range(1,7):\n",
    "        X_test = sc.transform( validation_df[(validation_df['link_id'] == LINK) & (validation_df['LOS_dep'] == LOS)]['tt_arr'].values.reshape(-1, 1) )\n",
    "        y_pred = model.predict(X_test)\n",
    "\n",
    "        score = metrics.recall_score([LOS]*len(y_pred), y_pred, average='micro')\n",
    "        print(f\"\\tLOS {LOS}: Recall {round(score*100, 2) }%\")"
   ]
  },
  {
   "cell_type": "markdown",
   "metadata": {
    "id": "kMCMH4xLVPOg"
   },
   "source": [
    "### **FEATURE ENGINEERING ADJACENT LINK INFORMATION**"
   ]
  },
  {
   "cell_type": "markdown",
   "metadata": {
    "id": "QwOislVpWYCx"
   },
   "source": [
    "*Features creation*\n",
    "\n",
    "For each link, the tt_arrival of the other links are added as features. Therefore we will be using 6 features in total."
   ]
  },
  {
   "cell_type": "code",
   "execution_count": 15,
   "metadata": {
    "colab": {
     "base_uri": "https://localhost:8080/"
    },
    "id": "xUUuA-vpinjr",
    "outputId": "614d0c27-626e-43de-cfef-2483ed71514d"
   },
   "outputs": [
    {
     "name": "stdout",
     "output_type": "stream",
     "text": [
      "LINK 5\n",
      "\tLOS 1: Recall 94.58%\n",
      "\tLOS 2: Recall 40.71%\n",
      "\tLOS 3: Recall 33.83%\n",
      "\tLOS 4: Recall 17.61%\n",
      "\tLOS 5: Recall 19.64%\n",
      "\tLOS 6: Recall 56.47%\n",
      "LINK 6\n",
      "\tLOS 1: Recall 92.29%\n",
      "\tLOS 2: Recall 31.59%\n",
      "\tLOS 3: Recall 44.95%\n",
      "\tLOS 4: Recall 12.97%\n",
      "\tLOS 5: Recall 24.01%\n",
      "\tLOS 6: Recall 31.74%\n",
      "LINK 7\n",
      "\tLOS 1: Recall 91.77%\n",
      "\tLOS 2: Recall 53.33%\n",
      "\tLOS 3: Recall 39.36%\n",
      "\tLOS 4: Recall 8.86%\n",
      "\tLOS 5: Recall 11.16%\n",
      "\tLOS 6: Recall 38.87%\n",
      "LINK 8\n",
      "\tLOS 1: Recall 94.07%\n",
      "\tLOS 2: Recall 47.05%\n",
      "\tLOS 3: Recall 73.84%\n",
      "\tLOS 4: Recall 16.73%\n",
      "\tLOS 5: Recall 9.17%\n",
      "\tLOS 6: Recall 58.61%\n",
      "LINK 9\n",
      "\tLOS 1: Recall 91.08%\n",
      "\tLOS 2: Recall 61.24%\n",
      "\tLOS 3: Recall 28.6%\n",
      "\tLOS 4: Recall 29.41%\n",
      "\tLOS 5: Recall 19.87%\n",
      "\tLOS 6: Recall 23.23%\n",
      "LINK 10\n",
      "\tLOS 1: Recall 92.14%\n",
      "\tLOS 2: Recall 34.69%\n",
      "\tLOS 3: Recall 22.71%\n",
      "\tLOS 4: Recall 17.51%\n",
      "\tLOS 5: Recall 30.99%\n",
      "\tLOS 6: Recall 45.1%\n"
     ]
    }
   ],
   "source": [
    "for LINK in range(5,11):\n",
    "    print(f\"LINK {LINK}\")\n",
    "    other_links = [5,6,7,8,9,10]; other_links.remove(LINK)\n",
    "    training_df_link = training_df[training_df['link_id'] == LINK].copy()\n",
    "\n",
    "    for other_link in other_links:\n",
    "        training_df_link = pd.merge(training_df_link, training_df[training_df['link_id'] == other_link]['tt_arr'], on=['date'], how='inner', suffixes=[None, f'_{other_link}'])\n",
    "    \n",
    "    X_train = training_df_link.filter(regex=(\"tt_ar[^-]+$\")).values\n",
    "    y_train = training_df_link['LOS_dep'].values\n",
    "    \n",
    "    sc = preprocessing.StandardScaler()\n",
    "    X_train = sc.fit_transform(X_train)\n",
    "\n",
    "    model = GaussianNB().fit(X_train, y_train)\n",
    "    for LOS in range(1,7):\n",
    "        validation_df_link = validation_df[(validation_df['link_id'] == LINK) & (validation_df['LOS_dep'] == LOS)].copy()\n",
    "        for other_link in other_links:\n",
    "            validation_df_link = pd.merge(validation_df_link, validation_df[validation_df['link_id'] == other_link]['tt_arr'], on=['date'], how='inner', suffixes=[None, f'_{other_link}'])\n",
    "        X_test = sc.transform( validation_df_link.filter(regex=(\"tt_ar[^-]+$\")).values )\n",
    "        y_pred = model.predict(X_test)\n",
    "\n",
    "        score = metrics.recall_score([LOS]*len(y_pred), y_pred, average='micro')\n",
    "        print(f\"\\tLOS {LOS}: Recall {round(score*100, 2) }%\")"
   ]
  },
  {
   "cell_type": "markdown",
   "metadata": {
    "id": "q5rt2wXpNypB"
   },
   "source": [
    "### **FEATURE ENGINEERING ADJACENT LINK INFORMATION + TEMPORAL INFORMATION (UP TO PREVIOUS 45MIN)**"
   ]
  },
  {
   "cell_type": "markdown",
   "metadata": {
    "id": "ZZRaFA1QN_X0"
   },
   "source": [
    "*Features creation*\n",
    "\n",
    "For each link, the tt_arrival of the other links, covering the previous 50min from prediction time, are added as features. Therefore we will be using 60 features in total as maximum."
   ]
  },
  {
   "cell_type": "code",
   "execution_count": 16,
   "metadata": {
    "colab": {
     "base_uri": "https://localhost:8080/"
    },
    "id": "F9LI4WsIllAB",
    "outputId": "c0b6c309-60a0-4ceb-f9fa-e5a8096d3b40"
   },
   "outputs": [
    {
     "name": "stdout",
     "output_type": "stream",
     "text": [
      "USING PREVIOUS 45m INFORMATION\n",
      "LINK 5\n",
      "\tLOS 1: Recall 91.97%\n",
      "\tLOS 2: Recall 36.67%\n",
      "\tLOS 3: Recall 27.33%\n",
      "\tLOS 4: Recall 17.47%\n",
      "\tLOS 5: Recall 19.71%\n",
      "\tLOS 6: Recall 61.25%\n",
      "LINK 6\n",
      "\tLOS 1: Recall 89.32%\n",
      "\tLOS 2: Recall 30.45%\n",
      "\tLOS 3: Recall 37.66%\n",
      "\tLOS 4: Recall 13.44%\n",
      "\tLOS 5: Recall 20.26%\n",
      "\tLOS 6: Recall 38.97%\n",
      "LINK 7\n",
      "\tLOS 1: Recall 88.57%\n",
      "\tLOS 2: Recall 55.26%\n",
      "\tLOS 3: Recall 27.42%\n",
      "\tLOS 4: Recall 17.39%\n",
      "\tLOS 5: Recall 11.12%\n",
      "\tLOS 6: Recall 32.85%\n",
      "LINK 8\n",
      "\tLOS 1: Recall 89.7%\n",
      "\tLOS 2: Recall 25.39%\n",
      "\tLOS 3: Recall 67.38%\n",
      "\tLOS 4: Recall 31.91%\n",
      "\tLOS 5: Recall 13.63%\n",
      "\tLOS 6: Recall 44.86%\n",
      "LINK 9\n",
      "\tLOS 1: Recall 87.39%\n",
      "\tLOS 2: Recall 47.41%\n",
      "\tLOS 3: Recall 12.35%\n",
      "\tLOS 4: Recall 2.84%\n",
      "\tLOS 5: Recall 12.83%\n",
      "\tLOS 6: Recall 45.33%\n",
      "LINK 10\n",
      "\tLOS 1: Recall 87.67%\n",
      "\tLOS 2: Recall 30.71%\n",
      "\tLOS 3: Recall 14.43%\n",
      "\tLOS 4: Recall 14.95%\n",
      "\tLOS 5: Recall 14.85%\n",
      "\tLOS 6: Recall 45.23%\n"
     ]
    }
   ],
   "source": [
    "print(f'USING PREVIOUS {INPUT_MINUTES_BEFORE}m INFORMATION')\n",
    "for LINK in range(5,11):\n",
    "    print(f\"LINK {LINK}\")\n",
    "    other_links = [5,6,7,8,9,10]; other_links.remove(LINK)\n",
    "    training_df_link = training_df[training_df['link_id'] == LINK].copy()\n",
    "\n",
    "    for other_link in other_links:\n",
    "        training_df_link = pd.merge(training_df_link, training_df[training_df['link_id'] == other_link].filter(regex=(\"tt_arr.*\")), on=['date'], how='inner', suffixes=[None, f'_{other_link}'])\n",
    "    \n",
    "    X_train = training_df_link.filter(regex=(\"tt_arr.*\")).values\n",
    "    y_train = training_df_link['LOS_dep'].values\n",
    "    \n",
    "    sc = preprocessing.StandardScaler()\n",
    "    X_train = sc.fit_transform(X_train)\n",
    "\n",
    "    model = GaussianNB().fit(X_train, y_train)\n",
    "    for LOS in range(1,7):\n",
    "        validation_df_link = validation_df[(validation_df['link_id'] == LINK) & (validation_df['LOS_dep'] == LOS)].copy()\n",
    "        for other_link in other_links:\n",
    "            validation_df_link = pd.merge(validation_df_link, validation_df[validation_df['link_id'] == other_link].filter(regex=(\"tt_arr.*\")), on=['date'], how='inner', suffixes=[None, f'_{other_link}'])\n",
    "        X_test = sc.transform( validation_df_link.filter(regex=(\"tt_arr.*\")).values )\n",
    "        y_pred = model.predict(X_test)\n",
    "\n",
    "        score = metrics.recall_score([LOS]*len(y_pred), y_pred, average='micro')\n",
    "        print(f\"\\tLOS {LOS}: Recall {round(score*100, 2) }%\")"
   ]
  },
  {
   "cell_type": "markdown",
   "metadata": {
    "id": "RMogxy-BNDjn",
    "jp-MarkdownHeadingCollapsed": true,
    "tags": []
   },
   "source": [
    "# **AdaBoost**"
   ]
  },
  {
   "cell_type": "markdown",
   "metadata": {
    "id": "YkB202STmN-4",
    "jp-MarkdownHeadingCollapsed": true,
    "tags": []
   },
   "source": [
    "### *Algorithms*"
   ]
  },
  {
   "cell_type": "markdown",
   "metadata": {
    "id": "x5kQKXvwbMtK"
   },
   "source": [
    "**Algorithm implementation SAMME**"
   ]
  },
  {
   "cell_type": "code",
   "execution_count": 43,
   "metadata": {
    "id": "jMBdunUFYwAB"
   },
   "outputs": [],
   "source": [
    "def labelToIndex(cl,clf):\n",
    "    return clf.labelDict[cl]\n",
    "\n",
    "def indexToLabel(i,clf):\n",
    "    return clf.classes[i]\n",
    "\n",
    "class AdaBoostClassifier_:\n",
    "    \n",
    "    def __init__(self,base_estimator=None,n_estimators=50,learning_rate=1.0):\n",
    "        print(\"SAMME Implementation of AdaBoost\")\n",
    "        self.n_estimators = n_estimators\n",
    "        self.learning_rate = learning_rate\n",
    "        self.models = [None]*n_estimators\n",
    "        if base_estimator == None:\n",
    "            base_estimator = DecisionTreeClassifier(max_depth=1)\n",
    "        self.base_estimator = base_estimator\n",
    "        self.estimator_errors_ = []\n",
    "        self.observation_weights_ = {}\n",
    "        \n",
    "    def fit(self, df: pd.DataFrame, X_columns: str, y_column: str):\n",
    "        \"\"\"\n",
    "        param df: Training dataframe with shape (n_samples, )\n",
    "        param X_columns: pattern matching DataFrame column names that contain the features\n",
    "        param y_column: name of DataFrame column name with the labels\n",
    "        \"\"\"\n",
    "        \n",
    "        # Initialize observation weights as 1/N where N is total `n_samples`\n",
    "        N = df.shape[0]\n",
    "        w = {epoch: 1/N for epoch in df.index}\n",
    "        \n",
    "        # Class labels mapping to indices\n",
    "        self.createLabelDict(np.unique(df[y_column]))\n",
    "        k = len(self.classes)\n",
    "\n",
    "        # Training data initalization\n",
    "        X_ = df.filter(regex=(X_columns)).values\n",
    "        y_ = df[y_column].values\n",
    "        w_indices_ = np.array(list(w.keys()))\n",
    "        \n",
    "        # M iterations (#WeakLearners)\n",
    "        for m in range(self.n_estimators):\n",
    "            w_ = np.array(list(w.values()))\n",
    "\n",
    "        # 1) WeakLearner training\n",
    "            Gm = base.clone(self.base_estimator).\\\n",
    "                            fit(X_,y_,sample_weight=w_).predict\n",
    "        \n",
    "        # 2) Error-rate computation\n",
    "            incorrect = Gm(X_) != y_\n",
    "            errM = np.average(incorrect,weights=w_,axis=0)\n",
    "            self.estimator_errors_.append(np.average(incorrect,axis=0))\n",
    "        \n",
    "        # 3) WeakLearner weight for ensemble computation [errM < (k-1)/k]\n",
    "            BetaM = np.log((1-errM)/errM)+np.log(k-1)\n",
    "            self.models[m] = (BetaM,Gm)\n",
    "\n",
    "        # 4) Observation weights update for next iteration with weights normalization\n",
    "            w_ *= np.exp(self.learning_rate* BetaM*(incorrect*(w_ > 0)))\n",
    "            norm_ = np.sum(w_)\n",
    "            for i, j in enumerate(w_indices_):\n",
    "                w[j] = w_[i]/norm_\n",
    "        \n",
    "        self.observation_weights_ = w\n",
    "        return self\n",
    "            \n",
    "    def createLabelDict(self,classes):\n",
    "        self.labelDict = {}\n",
    "        self.classes = classes\n",
    "        for i,cl in enumerate(classes):\n",
    "            self.labelDict[cl] = i\n",
    "\n",
    "    def predict(self,X):\n",
    "        k = len(self.classes)\n",
    "        Bms_ = [Bm for Bm,_ in self.models]\n",
    "        prob_matrix = np.full((X.shape[0],k), -sum(Bms_)/(k-1))\n",
    "        \n",
    "        # Obtain the predicted index array with shape (#obs,#weak_learners)\n",
    "        iTL = np.vectorize(labelToIndex)\n",
    "        y_pred = np.stack([iTL(Gm(X),self) for _,Gm in self.models], axis=-1)\n",
    "\n",
    "        # Weight the indices count using Beta (Bm) associated to each weak_learner\n",
    "        prob_matrix += np.apply_along_axis(lambda x: np.bincount(x, weights=Bms_, minlength=k), axis=1, arr=y_pred)*k/(k-1)\n",
    "        \n",
    "        iTL = np.vectorize(indexToLabel)\n",
    "        return iTL(np.argmax(prob_matrix,axis=1),self)"
   ]
  },
  {
   "cell_type": "markdown",
   "metadata": {
    "id": "nlogJYdJbOZZ"
   },
   "source": [
    "**Algorithm implementation SAMME.R**"
   ]
  },
  {
   "cell_type": "code",
   "execution_count": 49,
   "metadata": {
    "id": "3XzVduvjbSPG"
   },
   "outputs": [],
   "source": [
    "def labelToIndex(cl,clf):\n",
    "    return clf.labelDict[cl]\n",
    "\n",
    "def indexToLabel(i,clf):\n",
    "    return clf.classes[i]\n",
    "\n",
    "class AdaBoostClassifier_:\n",
    "    \n",
    "    def __init__(self,base_estimator=None,n_estimators=50,learning_rate=1.0):\n",
    "        print(\"SAMME.R Implementation of AdaBoost\")\n",
    "        self.n_estimators = n_estimators\n",
    "        self.learning_rate = learning_rate\n",
    "        self.models = []\n",
    "        if base_estimator == None:\n",
    "            base_estimator = DecisionTreeClassifier(max_depth=1)\n",
    "        self.base_estimator = base_estimator\n",
    "        self.estimator_errors_ = []\n",
    "        self.observation_weights_ = {}\n",
    "        \n",
    "    def fit(self, df: pd.DataFrame, X_columns: str, y_column: str):\n",
    "        \"\"\"\n",
    "        param df: Training dataframe with shape (n_samples, )\n",
    "        param X_columns: pattern matching DataFrame column names that contain the features\n",
    "        param y_column: name of DataFrame column name with the labels\n",
    "        \"\"\"\n",
    "        \n",
    "        # Initialize observation weights as 1/N where N is total `n_samples`\n",
    "        N = df.shape[0]\n",
    "        w = {epoch: 1/N for epoch in df.index}\n",
    "        \n",
    "        # Class labels mapping to indices\n",
    "        self.createLabelDict(np.unique(df[y_column]))\n",
    "        k = len(self.classes)\n",
    "\n",
    "        # Training data initalization\n",
    "        X_ = df.filter(regex=(X_columns)).values\n",
    "        y_ = df[y_column].values\n",
    "        w_indices_ = np.array(list(w.keys()))\n",
    "        \n",
    "        # M iterations (#WeakLearners)\n",
    "        for m in range(self.n_estimators):\n",
    "            w_ = np.array(list(w.values()))\n",
    "\n",
    "        # 1) WeakLearner training\n",
    "            Gm = base.clone(self.base_estimator).\\\n",
    "                            fit(X_,y_,sample_weight=w_).predict_proba\n",
    "            self.models.append(Gm)\n",
    "        \n",
    "        # 2) Error-rate computation\n",
    "            sum_model_hypothesis = np.sum(np.stack([self._prob2classWeight_(model(X_)) for model in self.models], axis=-1), axis=-1)\n",
    "            iTL = np.vectorize(indexToLabel)            \n",
    "            incorrect = iTL(np.argmax(sum_model_hypothesis,axis=1),self) != y_\n",
    "            self.estimator_errors_.append(np.average(incorrect,axis=0))\n",
    "\n",
    "        # 3) Observation weights update for next iteration with weights normalization\n",
    "            iTL = np.vectorize(labelToIndex)\n",
    "            tmp_ = iTL(y_,self)\n",
    "            w_ *= np.exp(-self.learning_rate* (k-1)/k * np.log(Gm(X_)[np.arange(len(tmp_)),tmp_]))\n",
    "            norm_ = sum(w_)\n",
    "            for i, j in enumerate(w_indices_):\n",
    "                w[j] = w_[i]/norm_\n",
    "        \n",
    "        self.observation_weights_ = w\n",
    "        return self\n",
    "            \n",
    "    def createLabelDict(self,classes):\n",
    "        self.labelDict = {}\n",
    "        self.classes = classes\n",
    "        for i,cl in enumerate(classes):\n",
    "            self.labelDict[cl] = i\n",
    "\n",
    "    def _prob2classWeight_(self, probabilities):\n",
    "        \"\"\"\n",
    "        Following the SAMME.R algorithm, returns the hypothesis probabilities for each class\n",
    "        param probabilities: The class probabiilties output by the fitted model (n_samples, n_classes)\n",
    "        \"\"\"\n",
    "        k = len(self.classes)\n",
    "        tmp_ = np.log(probabilities+1e-8)\n",
    "        h_k = np.log(probabilities+1e-8)\n",
    "        for i in range(k):\n",
    "            h_k[:,i] -= np.sum(np.delete(tmp_,i,axis=1), axis=1) / k\n",
    "        h_k *= (k-1)\n",
    "        return h_k\n",
    "    \n",
    "    def predict(self,X):\n",
    "        sum_model_hypothesis = np.sum(np.stack([self._prob2classWeight_(model(X)) for model in self.models], axis=-1), axis=-1)\n",
    "        iTL = np.vectorize(indexToLabel)            \n",
    "        return iTL(np.argmax(sum_model_hypothesis,axis=1),self)"
   ]
  },
  {
   "cell_type": "markdown",
   "metadata": {
    "id": "rGggV6MdOQ_O"
   },
   "source": [
    "**Algorithm implementation M2**"
   ]
  },
  {
   "cell_type": "code",
   "execution_count": 19,
   "metadata": {
    "id": "sLLHlzg7OOhd"
   },
   "outputs": [],
   "source": [
    "def labelToIndex(cl,clf):\n",
    "    return clf.labelDict[cl]\n",
    "\n",
    "def indexToLabel(i,clf):\n",
    "    return clf.classes[i]\n",
    "\n",
    "class AdaBoostClassifier_:\n",
    "    \n",
    "    def __init__(self,base_estimator=None,n_estimators=50,learning_rate=1.0):\n",
    "        print(\"M2 Implementation of AdaBoost\")\n",
    "        self.n_estimators = n_estimators\n",
    "        self.learning_rate = learning_rate\n",
    "        self.models = []\n",
    "        if base_estimator == None:\n",
    "            base_estimator = DecisionTreeClassifier(max_depth=1)\n",
    "        self.base_estimator = base_estimator\n",
    "        self.estimator_errors_ = []        \n",
    "        self.observation_weights_ = {}\n",
    "\n",
    "    def fit(self, df: pd.DataFrame, X_columns: str, y_column: str):\n",
    "        \"\"\"\n",
    "        param df: Training dataframe with shape (n_samples, )\n",
    "        param X_columns: pattern matching DataFrame column names that contain the features\n",
    "        param y_column: name of DataFrame column name with the labels\n",
    "        \"\"\"        \n",
    "        \n",
    "        # Class labels mapping to indices\n",
    "        self.createLabelDict(np.unique(df[y_column]))\n",
    "        k = len(self.classes)\n",
    "\n",
    "        # Initialize observation weights as 1/(N*(k-1)) where N is total `n_samples` and k is the numebr of classes\n",
    "        N = df.shape[0]\n",
    "        B = N*(k-1)\n",
    "        D = {epoch: [1/B]*(k-1) for epoch in df.index}\n",
    "\n",
    "        # Training data initalization\n",
    "        X_ = df.filter(regex=(X_columns)).values\n",
    "        y_ = df[y_column].values\n",
    "        \n",
    "        # M iterations (#WeakLearners)\n",
    "        for m in range(self.n_estimators):\n",
    "            D_ = np.sum(list(D.values()), axis=-1)\n",
    "            iTL = np.vectorize(labelToIndex)\n",
    "            y_indices_ = iTL(y_,self)\n",
    "\n",
    "        # 1) WeakLearner training\n",
    "            Gm = base.clone(self.base_estimator).\\\n",
    "                            fit(X_,y_,sample_weight=D_).predict_proba\n",
    "            self.models.append(Gm)\n",
    "        \n",
    "        # 2) Error-rate computation\n",
    "            predictions_proba = Gm(X_)\n",
    "            sum_pseudolosses = 0\n",
    "            for i, epoch in enumerate(D):\n",
    "                k_index = 0\n",
    "                for cl in range(k):\n",
    "                    if cl != y_indices_[i]:\n",
    "                        sum_pseudolosses += D[epoch][k_index]*(1-predictions_proba[i,y_indices_[i]]+predictions_proba[i,cl])\n",
    "                        k_index += 1\n",
    "\n",
    "            error = 0.5 * sum_pseudolosses\n",
    "            self.estimator_errors_.append(error)\n",
    "        \n",
    "        # 3) WeakLearner weight for ensemble computation\n",
    "            BetaM = error/(1- error +1e-8)\n",
    "            self.models[m] = (BetaM,Gm)\n",
    "\n",
    "        # 4) Observation weights update for next iteration with weights normalization\n",
    "            norm_ = 0\n",
    "            for i, epoch in enumerate(D.keys()):\n",
    "                k_index = 0\n",
    "                for cl in range(k):\n",
    "                    if cl != y_indices_[i]:\n",
    "                        w_ = 0.5*(1+predictions_proba[i,y_indices_[i]]-predictions_proba[i,cl])\n",
    "                        D[epoch][k_index] *= BetaM**(self.learning_rate*w_)\n",
    "                        norm_ += D[epoch][k_index]\n",
    "                        k_index += 1\n",
    "            for epoch in D.keys():\n",
    "                for k_index in range(k-1):\n",
    "                    D[epoch][k_index] /= norm_\n",
    "        \n",
    "        self.observation_weights_ = D\n",
    "        \n",
    "        return self\n",
    "            \n",
    "    def createLabelDict(self,classes):\n",
    "        self.labelDict = {}\n",
    "        self.classes = classes\n",
    "        for i,cl in enumerate(classes):\n",
    "            self.labelDict[cl] = i\n",
    "    \n",
    "    def predict(self,X):\n",
    "        sum_model_hypothesis = np.sum(np.stack([-np.log(Bm)*Gm(X) for Bm,Gm in self.models], axis=-1), axis=-1)\n",
    "        iTL = np.vectorize(indexToLabel)            \n",
    "        return iTL(np.argmax(sum_model_hypothesis,axis=1),self)"
   ]
  },
  {
   "cell_type": "markdown",
   "metadata": {
    "id": "DcJh_1IMYm8j",
    "tags": []
   },
   "source": [
    "### **NO FEATURE ENGINEERING SAMME**"
   ]
  },
  {
   "cell_type": "code",
   "execution_count": 44,
   "metadata": {
    "colab": {
     "base_uri": "https://localhost:8080/"
    },
    "id": "04ipnQIXbtyo",
    "outputId": "14b6aaf5-9b4e-4236-8e59-38a258d8b47a"
   },
   "outputs": [
    {
     "name": "stdout",
     "output_type": "stream",
     "text": [
      "LINK 5\n",
      "SAMME Implementation of AdaBoost\n",
      "\tLOS 1: Recall 95.75%\n",
      "\tLOS 2: Recall 35.23%\n",
      "\tLOS 3: Recall 55.84%\n",
      "\tLOS 4: Recall 6.49%\n",
      "\tLOS 5: Recall 25.35%\n",
      "\tLOS 6: Recall 66.57%\n",
      "LINK 6\n",
      "SAMME Implementation of AdaBoost\n",
      "\tLOS 1: Recall 98.36%\n",
      "\tLOS 2: Recall 10.7%\n",
      "\tLOS 3: Recall 71.81%\n",
      "\tLOS 4: Recall 12.69%\n",
      "\tLOS 5: Recall 16.63%\n",
      "\tLOS 6: Recall 45.57%\n",
      "LINK 7\n",
      "SAMME Implementation of AdaBoost\n",
      "\tLOS 1: Recall 98.13%\n",
      "\tLOS 2: Recall 33.05%\n",
      "\tLOS 3: Recall 61.28%\n",
      "\tLOS 4: Recall 10.92%\n",
      "\tLOS 5: Recall 0.0%\n",
      "\tLOS 6: Recall 37.04%\n",
      "LINK 8\n",
      "SAMME Implementation of AdaBoost\n",
      "\tLOS 1: Recall 99.4%\n",
      "\tLOS 2: Recall 25.58%\n",
      "\tLOS 3: Recall 70.15%\n",
      "\tLOS 4: Recall 18.01%\n",
      "\tLOS 5: Recall 16.25%\n",
      "\tLOS 6: Recall 43.5%\n",
      "LINK 9\n",
      "SAMME Implementation of AdaBoost\n",
      "\tLOS 1: Recall 97.36%\n",
      "\tLOS 2: Recall 64.18%\n",
      "\tLOS 3: Recall 39.97%\n",
      "\tLOS 4: Recall 48.78%\n",
      "\tLOS 5: Recall 43.22%\n",
      "\tLOS 6: Recall 0.0%\n",
      "LINK 10\n",
      "SAMME Implementation of AdaBoost\n",
      "\tLOS 1: Recall 98.93%\n",
      "\tLOS 2: Recall 13.15%\n",
      "\tLOS 3: Recall 35.33%\n",
      "\tLOS 4: Recall 39.72%\n",
      "\tLOS 5: Recall 44.07%\n",
      "\tLOS 6: Recall 43.29%\n"
     ]
    }
   ],
   "source": [
    "for LINK in range(5,11):\n",
    "    print(f\"LINK {LINK}\")\n",
    "    filename = f'{ROOT}/models/AdaBoost_{PREDICTED_MINUTES_AHEAD}m_SAMME_nofeat_link{LINK}.joblib'\n",
    "\n",
    "    # Max Depth = 3 because we have 6 possible classes (2^3=8)\n",
    "    model = AdaBoostClassifier_(base_estimator=DecisionTreeClassifier(max_depth=3), n_estimators=60, learning_rate=0.3).fit(training_df[training_df['link_id'] == LINK], 'tt_arr$', 'LOS_dep')\n",
    "    joblib.dump(model, filename)\n",
    "\n",
    "    for LOS in range(1,7):\n",
    "        X_test = validation_df[(validation_df['link_id'] == LINK) & (validation_df['LOS_dep'] == LOS)]['tt_arr'].values.reshape(-1, 1)\n",
    "        y_pred = model.predict(X_test)\n",
    "\n",
    "        score = metrics.recall_score([LOS]*len(y_pred), y_pred, average='micro')\n",
    "        print(f\"\\tLOS {LOS}: Recall {round(score*100, 2) }%\")"
   ]
  },
  {
   "cell_type": "code",
   "execution_count": 45,
   "metadata": {
    "colab": {
     "base_uri": "https://localhost:8080/",
     "height": 472
    },
    "id": "f9ZR9V4AeVmv",
    "outputId": "f7365753-d602-4f0b-8e9f-8fce020eb4e3"
   },
   "outputs": [
    {
     "data": {
      "image/png": "[encoded data removed]",
      "text/plain": [
       "<Figure size 432x288 with 1 Axes>"
      ]
     },
     "metadata": {
      "needs_background": "light"
     },
     "output_type": "display_data"
    }
   ],
   "source": [
    "fig, ax = plt.subplots()\n",
    "ax.plot(np.arange(len(model.observation_weights_)), model.observation_weights_.values())\n",
    "\n",
    "ax.set(xlabel='Observation', ylabel='weight',\n",
    "       title='Weight per observation')\n",
    "ax.grid()\n",
    "plt.show()"
   ]
  },
  {
   "cell_type": "code",
   "execution_count": 46,
   "metadata": {
    "colab": {
     "base_uri": "https://localhost:8080/",
     "height": 472
    },
    "id": "DVs9B0zjfDbt",
    "outputId": "b5d731aa-2b41-46e0-862e-aeae364accd8"
   },
   "outputs": [
    {
     "data": {
      "image/png": "[encoded data removed]",
      "text/plain": [
       "<Figure size 432x288 with 1 Axes>"
      ]
     },
     "metadata": {
      "needs_background": "light"
     },
     "output_type": "display_data"
    }
   ],
   "source": [
    "fig, ax = plt.subplots()\n",
    "ax.plot(np.arange(model.n_estimators), model.estimator_errors_)\n",
    "\n",
    "ax.set(xlabel='#Estimator', ylabel='Estimation error',\n",
    "       title='Evolution of errors training estimators')\n",
    "ax.grid()\n",
    "plt.show()"
   ]
  },
  {
   "cell_type": "markdown",
   "metadata": {
    "id": "xgEAoIcAsohG"
   },
   "source": [
    "*Validate with implementation from sklearn*"
   ]
  },
  {
   "cell_type": "code",
   "execution_count": 23,
   "metadata": {
    "colab": {
     "base_uri": "https://localhost:8080/"
    },
    "id": "yJYav2UfwG2t",
    "outputId": "79699cc8-cad1-48bd-9303-3a9e35deefc7"
   },
   "outputs": [
    {
     "name": "stdout",
     "output_type": "stream",
     "text": [
      "LINK 5\n",
      "\tLOS 1: Recall 95.0%\n",
      "\tLOS 2: Recall 49.24%\n",
      "\tLOS 3: Recall 54.53%\n",
      "\tLOS 4: Recall 24.65%\n",
      "\tLOS 5: Recall 0.0%\n",
      "\tLOS 6: Recall 77.04%\n",
      "LINK 6\n",
      "\tLOS 1: Recall 98.6%\n",
      "\tLOS 2: Recall 6.08%\n",
      "\tLOS 3: Recall 73.23%\n",
      "\tLOS 4: Recall 19.1%\n",
      "\tLOS 5: Recall 0.0%\n",
      "\tLOS 6: Recall 0.0%\n",
      "LINK 7\n",
      "\tLOS 1: Recall 97.8%\n",
      "\tLOS 2: Recall 41.67%\n",
      "\tLOS 3: Recall 55.98%\n",
      "\tLOS 4: Recall 0.0%\n",
      "\tLOS 5: Recall 0.0%\n",
      "\tLOS 6: Recall 0.0%\n",
      "LINK 8\n",
      "\tLOS 1: Recall 99.32%\n",
      "\tLOS 2: Recall 11.78%\n",
      "\tLOS 3: Recall 82.3%\n",
      "\tLOS 4: Recall 20.29%\n",
      "\tLOS 5: Recall 0.0%\n",
      "\tLOS 6: Recall 43.5%\n",
      "LINK 9\n",
      "\tLOS 1: Recall 96.61%\n",
      "\tLOS 2: Recall 71.23%\n",
      "\tLOS 3: Recall 44.96%\n",
      "\tLOS 4: Recall 0.0%\n",
      "\tLOS 5: Recall 0.0%\n",
      "\tLOS 6: Recall 0.0%\n",
      "LINK 10\n",
      "\tLOS 1: Recall 99.22%\n",
      "\tLOS 2: Recall 10.61%\n",
      "\tLOS 3: Recall 41.39%\n",
      "\tLOS 4: Recall 7.32%\n",
      "\tLOS 5: Recall 70.35%\n",
      "\tLOS 6: Recall 0.0%\n"
     ]
    }
   ],
   "source": [
    "for LINK in range(5,11):\n",
    "    print(f\"LINK {LINK}\")\n",
    "    X = training_df[training_df['link_id'] == LINK]['tt_arr'].values.reshape(-1, 1)\n",
    "    y = training_df[training_df['link_id'] == LINK]['LOS_dep'].values\n",
    "\n",
    "    model = AdaBoostClassifier(n_estimators=60, learning_rate=0.3, algorithm=\"SAMME\").fit(X, y)\n",
    "\n",
    "    for LOS in range(1,7):\n",
    "        X_test = validation_df[(validation_df['link_id'] == LINK) & (validation_df['LOS_dep'] == LOS)]['tt_arr'].values.reshape(-1, 1)\n",
    "        y_pred = model.predict(X_test)\n",
    "\n",
    "        score = metrics.recall_score([LOS]*len(y_pred), y_pred, average='micro')\n",
    "        print(f\"\\tLOS {LOS}: Recall {round(score*100, 2) }%\")"
   ]
  },
  {
   "cell_type": "code",
   "execution_count": 24,
   "metadata": {
    "colab": {
     "base_uri": "https://localhost:8080/",
     "height": 472
    },
    "id": "5XOZJXAyyViT",
    "outputId": "3e272d33-77e8-4631-8c72-543133988f08"
   },
   "outputs": [
    {
     "data": {
      "image/png": "[encoded data removed]",
      "text/plain": [
       "<Figure size 432x288 with 1 Axes>"
      ]
     },
     "metadata": {
      "needs_background": "light"
     },
     "output_type": "display_data"
    }
   ],
   "source": [
    "fig, ax = plt.subplots()\n",
    "ax.plot(np.arange(model.n_estimators), model.estimator_errors_)\n",
    "\n",
    "ax.set(xlabel='#Estimator', ylabel='Estimation error',\n",
    "       title='Evolution of errors training estimators')\n",
    "ax.grid()\n",
    "plt.show()"
   ]
  },
  {
   "cell_type": "markdown",
   "metadata": {
    "id": "3pDHddWEbkTV",
    "tags": []
   },
   "source": [
    "### **NO FEATURE ENGINEERING SAMME.R**"
   ]
  },
  {
   "cell_type": "code",
   "execution_count": 50,
   "metadata": {
    "colab": {
     "base_uri": "https://localhost:8080/"
    },
    "id": "phEAAjhRbnex",
    "outputId": "c0e09892-69a2-48d4-a213-4edbb66864af"
   },
   "outputs": [
    {
     "name": "stdout",
     "output_type": "stream",
     "text": [
      "LINK 5\n",
      "SAMME.R Implementation of AdaBoost\n",
      "\tLOS 1: Recall 95.38%\n",
      "\tLOS 2: Recall 47.75%\n",
      "\tLOS 3: Recall 55.81%\n",
      "\tLOS 4: Recall 15.34%\n",
      "\tLOS 5: Recall 20.24%\n",
      "\tLOS 6: Recall 58.4%\n",
      "LINK 6\n",
      "SAMME.R Implementation of AdaBoost\n",
      "\tLOS 1: Recall 98.59%\n",
      "\tLOS 2: Recall 5.44%\n",
      "\tLOS 3: Recall 75.06%\n",
      "\tLOS 4: Recall 6.52%\n",
      "\tLOS 5: Recall 19.14%\n",
      "\tLOS 6: Recall 32.32%\n",
      "LINK 7\n",
      "SAMME.R Implementation of AdaBoost\n",
      "\tLOS 1: Recall 98.08%\n",
      "\tLOS 2: Recall 34.99%\n",
      "\tLOS 3: Recall 62.14%\n",
      "\tLOS 4: Recall 0.0%\n",
      "\tLOS 5: Recall 2.48%\n",
      "\tLOS 6: Recall 34.69%\n",
      "LINK 8\n",
      "SAMME.R Implementation of AdaBoost\n",
      "\tLOS 1: Recall 99.35%\n",
      "\tLOS 2: Recall 25.99%\n",
      "\tLOS 3: Recall 75.47%\n",
      "\tLOS 4: Recall 17.85%\n",
      "\tLOS 5: Recall 9.38%\n",
      "\tLOS 6: Recall 49.82%\n",
      "LINK 9\n",
      "SAMME.R Implementation of AdaBoost\n",
      "\tLOS 1: Recall 97.36%\n",
      "\tLOS 2: Recall 62.46%\n",
      "\tLOS 3: Recall 49.75%\n",
      "\tLOS 4: Recall 10.21%\n",
      "\tLOS 5: Recall 33.44%\n",
      "\tLOS 6: Recall 4.25%\n",
      "LINK 10\n",
      "SAMME.R Implementation of AdaBoost\n",
      "\tLOS 1: Recall 98.78%\n",
      "\tLOS 2: Recall 36.95%\n",
      "\tLOS 3: Recall 36.27%\n",
      "\tLOS 4: Recall 39.4%\n",
      "\tLOS 5: Recall 45.33%\n",
      "\tLOS 6: Recall 42.73%\n"
     ]
    }
   ],
   "source": [
    "for LINK in range(5,11):\n",
    "    print(f\"LINK {LINK}\")\n",
    "    filename = f'{ROOT}/models/AdaBoost_{PREDICTED_MINUTES_AHEAD}m_SAMME.R_nofeat_link{LINK}.joblib'\n",
    "\n",
    "    # Max Depth = 3 because we have 6 possible classes (2^3=8 separable regions)\n",
    "    model = AdaBoostClassifier_(base_estimator=DecisionTreeClassifier(max_depth=3), n_estimators=60, learning_rate=0.3).fit(training_df[training_df['link_id'] == LINK], 'tt_arr$', 'LOS_dep')\n",
    "    joblib.dump(model, filename)\n",
    "\n",
    "    for LOS in range(1,7):\n",
    "        X_test = validation_df[(validation_df['link_id'] == LINK) & (validation_df['LOS_dep'] == LOS)]['tt_arr'].values.reshape(-1, 1)\n",
    "        y_pred = model.predict(X_test)\n",
    "\n",
    "        score = metrics.recall_score([LOS]*len(y_pred), y_pred, average='micro')\n",
    "        print(f\"\\tLOS {LOS}: Recall {round(score*100, 2) }%\")"
   ]
  },
  {
   "cell_type": "code",
   "execution_count": 51,
   "metadata": {
    "colab": {
     "base_uri": "https://localhost:8080/",
     "height": 472
    },
    "id": "oTrQInejiyaL",
    "outputId": "3d0edab4-608a-414a-8925-ed7f8c42fc55"
   },
   "outputs": [
    {
     "data": {
      "image/png": "[encoded data removed]",
      "text/plain": [
       "<Figure size 432x288 with 1 Axes>"
      ]
     },
     "metadata": {
      "needs_background": "light"
     },
     "output_type": "display_data"
    }
   ],
   "source": [
    "fig, ax = plt.subplots()\n",
    "ax.plot(np.arange(model.n_estimators), model.estimator_errors_)\n",
    "\n",
    "ax.set(xlabel='#Estimator', ylabel='Estimation error',\n",
    "       title='Evolution of errors training estimators')\n",
    "ax.grid()\n",
    "plt.show()"
   ]
  },
  {
   "cell_type": "markdown",
   "metadata": {
    "id": "AxrzoVWGnANI"
   },
   "source": [
    "*Validate with implementation from sklearn*"
   ]
  },
  {
   "cell_type": "code",
   "execution_count": 27,
   "metadata": {
    "colab": {
     "base_uri": "https://localhost:8080/"
    },
    "id": "hXP_q6JJnFxT",
    "outputId": "1934e1aa-8836-4584-db2c-e62b2cc895ee"
   },
   "outputs": [
    {
     "name": "stdout",
     "output_type": "stream",
     "text": [
      "LINK 5\n",
      "\tLOS 1: Recall 95.19%\n",
      "\tLOS 2: Recall 49.31%\n",
      "\tLOS 3: Recall 56.0%\n",
      "\tLOS 4: Recall 15.46%\n",
      "\tLOS 5: Recall 20.19%\n",
      "\tLOS 6: Recall 58.61%\n",
      "LINK 6\n",
      "\tLOS 1: Recall 98.76%\n",
      "\tLOS 2: Recall 3.96%\n",
      "\tLOS 3: Recall 75.98%\n",
      "\tLOS 4: Recall 2.91%\n",
      "\tLOS 5: Recall 24.43%\n",
      "\tLOS 6: Recall 0.0%\n",
      "LINK 7\n",
      "\tLOS 1: Recall 98.0%\n",
      "\tLOS 2: Recall 35.24%\n",
      "\tLOS 3: Recall 64.14%\n",
      "\tLOS 4: Recall 0.0%\n",
      "\tLOS 5: Recall 8.99%\n",
      "\tLOS 6: Recall 0.0%\n",
      "LINK 8\n",
      "\tLOS 1: Recall 99.51%\n",
      "\tLOS 2: Recall 11.36%\n",
      "\tLOS 3: Recall 75.24%\n",
      "\tLOS 4: Recall 16.93%\n",
      "\tLOS 5: Recall 16.25%\n",
      "\tLOS 6: Recall 43.5%\n",
      "LINK 9\n",
      "\tLOS 1: Recall 0.0%\n",
      "\tLOS 2: Recall 92.68%\n",
      "\tLOS 3: Recall 53.94%\n",
      "\tLOS 4: Recall 0.0%\n",
      "\tLOS 5: Recall 43.22%\n",
      "\tLOS 6: Recall 0.0%\n",
      "LINK 10\n",
      "\tLOS 1: Recall 98.34%\n",
      "\tLOS 2: Recall 44.8%\n",
      "\tLOS 3: Recall 42.35%\n",
      "\tLOS 4: Recall 29.5%\n",
      "\tLOS 5: Recall 45.17%\n",
      "\tLOS 6: Recall 42.73%\n"
     ]
    }
   ],
   "source": [
    "for LINK in range(5,11):\n",
    "    print(f\"LINK {LINK}\")\n",
    "    X = training_df[training_df['link_id'] == LINK]['tt_arr'].values.reshape(-1, 1)\n",
    "    y = training_df[training_df['link_id'] == LINK]['LOS_dep'].values\n",
    "\n",
    "    model = AdaBoostClassifier(n_estimators=60, learning_rate=0.3, algorithm=\"SAMME.R\").fit(X, y)\n",
    "\n",
    "    for LOS in range(1,7):\n",
    "        X_test = validation_df[(validation_df['link_id'] == LINK) & (validation_df['LOS_dep'] == LOS)]['tt_arr'].values.reshape(-1, 1)\n",
    "        y_pred = model.predict(X_test)\n",
    "\n",
    "        score = metrics.recall_score([LOS]*len(y_pred), y_pred, average='micro')\n",
    "        print(f\"\\tLOS {LOS}: Recall {round(score*100, 2) }%\")"
   ]
  },
  {
   "cell_type": "code",
   "execution_count": 28,
   "metadata": {
    "colab": {
     "base_uri": "https://localhost:8080/",
     "height": 472
    },
    "id": "Nq3IWGAQnIqU",
    "outputId": "444be42a-2124-423b-8230-9386d036d4d6"
   },
   "outputs": [
    {
     "data": {
      "image/png": "[encoded data removed]",
      "text/plain": [
       "<Figure size 432x288 with 1 Axes>"
      ]
     },
     "metadata": {
      "needs_background": "light"
     },
     "output_type": "display_data"
    }
   ],
   "source": [
    "fig, ax = plt.subplots()\n",
    "ax.plot(np.arange(model.n_estimators), model.estimator_errors_)\n",
    "\n",
    "ax.set(xlabel='#Estimator', ylabel='Estimation error',\n",
    "       title='Evolution of errors training estimators')\n",
    "ax.grid()\n",
    "plt.show()"
   ]
  },
  {
   "cell_type": "markdown",
   "metadata": {
    "id": "w_Ca_aXeOqMM",
    "jp-MarkdownHeadingCollapsed": true,
    "tags": []
   },
   "source": [
    "### **NO FEATURE ENGINEERING M2**"
   ]
  },
  {
   "cell_type": "code",
   "execution_count": 29,
   "metadata": {
    "colab": {
     "base_uri": "https://localhost:8080/"
    },
    "id": "cTMrnYPSOx56",
    "outputId": "3a9e23c3-f2db-40ba-ae95-61e639c33032"
   },
   "outputs": [
    {
     "name": "stdout",
     "output_type": "stream",
     "text": [
      "LINK 5\n",
      "M2 Implementation of AdaBoost\n",
      "\tLOS 1: Recall 95.0%\n",
      "\tLOS 2: Recall 50.42%\n",
      "\tLOS 3: Recall 55.99%\n",
      "\tLOS 4: Recall 15.47%\n",
      "\tLOS 5: Recall 13.25%\n",
      "\tLOS 6: Recall 66.57%\n",
      "LINK 6\n",
      "M2 Implementation of AdaBoost\n",
      "\tLOS 1: Recall 98.36%\n",
      "\tLOS 2: Recall 10.54%\n",
      "\tLOS 3: Recall 76.18%\n",
      "\tLOS 4: Recall 2.91%\n",
      "\tLOS 5: Recall 24.43%\n",
      "\tLOS 6: Recall 0.0%\n",
      "LINK 7\n",
      "M2 Implementation of AdaBoost\n",
      "\tLOS 1: Recall 97.25%\n",
      "\tLOS 2: Recall 46.44%\n",
      "\tLOS 3: Recall 64.67%\n",
      "\tLOS 4: Recall 0.0%\n",
      "\tLOS 5: Recall 0.0%\n",
      "\tLOS 6: Recall 0.0%\n",
      "LINK 8\n",
      "M2 Implementation of AdaBoost\n",
      "\tLOS 1: Recall 99.36%\n",
      "\tLOS 2: Recall 25.05%\n",
      "\tLOS 3: Recall 75.47%\n",
      "\tLOS 4: Recall 27.09%\n",
      "\tLOS 5: Recall 0.0%\n",
      "\tLOS 6: Recall 43.5%\n",
      "LINK 9\n",
      "M2 Implementation of AdaBoost\n",
      "\tLOS 1: Recall 96.95%\n",
      "\tLOS 2: Recall 70.44%\n",
      "\tLOS 3: Recall 26.24%\n",
      "\tLOS 4: Recall 0.0%\n",
      "\tLOS 5: Recall 0.0%\n",
      "\tLOS 6: Recall 0.0%\n",
      "LINK 10\n",
      "M2 Implementation of AdaBoost\n",
      "\tLOS 1: Recall 98.78%\n",
      "\tLOS 2: Recall 36.95%\n",
      "\tLOS 3: Recall 36.73%\n",
      "\tLOS 4: Recall 39.29%\n",
      "\tLOS 5: Recall 40.1%\n",
      "\tLOS 6: Recall 49.94%\n"
     ]
    }
   ],
   "source": [
    "for LINK in range(5,11):\n",
    "    print(f\"LINK {LINK}\")\n",
    "    filename = f'/{ROOT}/models/AdaBoost_{PREDICTED_MINUTES_AHEAD}m_M2_nofeat_link{LINK}.joblib'\n",
    "\n",
    "    # Max Depth = 3 because we have 6 possible classes (2^3=8 separable regions)\n",
    "    model = AdaBoostClassifier_(base_estimator=DecisionTreeClassifier(max_depth=3), n_estimators=60, learning_rate=0.3).fit(training_df[training_df['link_id'] == LINK], 'tt_arr$', 'LOS_dep')\n",
    "    joblib.dump(model, filename)\n",
    "\n",
    "    for LOS in range(1,7):\n",
    "        X_test = validation_df[(validation_df['link_id'] == LINK) & (validation_df['LOS_dep'] == LOS)]['tt_arr'].values.reshape(-1, 1)\n",
    "        y_pred = model.predict(X_test)\n",
    "\n",
    "        score = metrics.recall_score([LOS]*len(y_pred), y_pred, average='micro')\n",
    "        print(f\"\\tLOS {LOS}: Recall {round(score*100, 2) }%\")"
   ]
  },
  {
   "cell_type": "code",
   "execution_count": 30,
   "metadata": {
    "colab": {
     "base_uri": "https://localhost:8080/",
     "height": 472
    },
    "id": "f_NY9RtAikd-",
    "outputId": "0031b0da-65a8-40fe-b76e-187e0f1f4a3b"
   },
   "outputs": [
    {
     "data": {
      "image/png": "[encoded data removed]",
      "text/plain": [
       "<Figure size 432x288 with 1 Axes>"
      ]
     },
     "metadata": {
      "needs_background": "light"
     },
     "output_type": "display_data"
    }
   ],
   "source": [
    "fig, ax = plt.subplots()\n",
    "ax.plot(np.arange(model.n_estimators), model.estimator_errors_)\n",
    "\n",
    "ax.set(xlabel='#Estimator', ylabel='Estimation error',\n",
    "       title='Evolution of errors training estimators')\n",
    "ax.grid()\n",
    "plt.show()"
   ]
  },
  {
   "cell_type": "markdown",
   "metadata": {
    "id": "7mRQ067bsgED",
    "jp-MarkdownHeadingCollapsed": true,
    "tags": []
   },
   "source": [
    "## Feature engineering SAMME"
   ]
  },
  {
   "cell_type": "markdown",
   "metadata": {
    "id": "J-6iXrUQsmMa",
    "tags": []
   },
   "source": [
    "### **FEATURE ENGINEERING ADJACENT LINK INFORMATION**"
   ]
  },
  {
   "cell_type": "markdown",
   "metadata": {
    "id": "BbOf-QHasmMb"
   },
   "source": [
    "*Features creation*\n",
    "\n",
    "For each link, the tt_arrival of the other links are added as features. Therefore we will be using 6 features in total."
   ]
  },
  {
   "cell_type": "code",
   "execution_count": 47,
   "metadata": {
    "id": "y6Ro4-Q7stJ5"
   },
   "outputs": [
    {
     "name": "stdout",
     "output_type": "stream",
     "text": [
      "LINK 5\n",
      "SAMME Implementation of AdaBoost\n",
      "\tLOS 1: Recall 96.04%\n",
      "\tLOS 2: Recall 34.61%\n",
      "\tLOS 3: Recall 53.11%\n",
      "\tLOS 4: Recall 12.99%\n",
      "\tLOS 5: Recall 21.13%\n",
      "\tLOS 6: Recall 64.7%\n",
      "LINK 6\n",
      "SAMME Implementation of AdaBoost\n",
      "\tLOS 1: Recall 98.5%\n",
      "\tLOS 2: Recall 15.96%\n",
      "\tLOS 3: Recall 69.21%\n",
      "\tLOS 4: Recall 15.23%\n",
      "\tLOS 5: Recall 19.38%\n",
      "\tLOS 6: Recall 42.47%\n",
      "LINK 7\n",
      "SAMME Implementation of AdaBoost\n",
      "\tLOS 1: Recall 97.88%\n",
      "\tLOS 2: Recall 42.93%\n",
      "\tLOS 3: Recall 55.86%\n",
      "\tLOS 4: Recall 3.31%\n",
      "\tLOS 5: Recall 0.27%\n",
      "\tLOS 6: Recall 12.17%\n",
      "LINK 8\n",
      "SAMME Implementation of AdaBoost\n",
      "\tLOS 1: Recall 99.44%\n",
      "\tLOS 2: Recall 28.45%\n",
      "\tLOS 3: Recall 70.14%\n",
      "\tLOS 4: Recall 17.84%\n",
      "\tLOS 5: Recall 12.67%\n",
      "\tLOS 6: Recall 45.17%\n",
      "LINK 9\n",
      "SAMME Implementation of AdaBoost\n",
      "\tLOS 1: Recall 97.14%\n",
      "\tLOS 2: Recall 63.99%\n",
      "\tLOS 3: Recall 41.98%\n",
      "\tLOS 4: Recall 47.99%\n",
      "\tLOS 5: Recall 23.87%\n",
      "\tLOS 6: Recall 0.0%\n",
      "LINK 10\n",
      "SAMME Implementation of AdaBoost\n",
      "\tLOS 1: Recall 98.96%\n",
      "\tLOS 2: Recall 15.71%\n",
      "\tLOS 3: Recall 37.48%\n",
      "\tLOS 4: Recall 32.13%\n",
      "\tLOS 5: Recall 35.52%\n",
      "\tLOS 6: Recall 53.66%\n"
     ]
    }
   ],
   "source": [
    "for LINK in range(5,11):\n",
    "    print(f\"LINK {LINK}\")\n",
    "    filename = f'{ROOT}/models/AdaBoost_{PREDICTED_MINUTES_AHEAD}m_SAMME_adjacent_link{LINK}.joblib'\n",
    "\n",
    "    other_links = [5,6,7,8,9,10]; other_links.remove(LINK)\n",
    "    training_df_link = training_df.copy()\n",
    "    training_df_link = training_df_link[training_df_link['link_id'] == LINK]\n",
    "\n",
    "    for other_link in other_links:\n",
    "        training_df_link = pd.merge(training_df_link, training_df[training_df['link_id'] == other_link].filter(regex=(\"tt_ar[^-]+$\")), on=['date'], how='inner', suffixes=[None, f'_{other_link}'])\n",
    "\n",
    "    model = AdaBoostClassifier_(base_estimator=DecisionTreeClassifier(max_depth=3), n_estimators=60, learning_rate=0.3).fit(training_df_link, \"tt_ar[^-]+$\", 'LOS_dep')\n",
    "    joblib.dump(model, filename)\n",
    "\n",
    "    for LOS in range(1,7):\n",
    "        validation_df_link = validation_df[(validation_df['link_id'] == LINK) & (validation_df['LOS_dep'] == LOS)].copy()\n",
    "        for other_link in other_links:\n",
    "            validation_df_link = pd.merge(validation_df_link, validation_df[validation_df['link_id'] == other_link].filter(regex=(\"tt_ar[^-]+$\")), on=['date'], how='inner', suffixes=[None, f'_{other_link}'])\n",
    "        X_test = validation_df_link.filter(regex=(\"tt_ar[^-]+$\")).values\n",
    "        y_pred = model.predict(X_test)\n",
    "\n",
    "        score = metrics.recall_score([LOS]*len(y_pred), y_pred, average='micro')\n",
    "        print(f\"\\tLOS {LOS}: Recall {round(score*100, 2) }%\")"
   ]
  },
  {
   "cell_type": "markdown",
   "metadata": {
    "id": "KpvBdxc9s6XC",
    "tags": []
   },
   "source": [
    "### **FEATURE ENGINEERING ADJACENT LINK INFORMATION + TEMPORAL INFORMATION (UP TO PREVIOUS 45MIN)**"
   ]
  },
  {
   "cell_type": "markdown",
   "metadata": {
    "id": "_TQuxAFZs6XE"
   },
   "source": [
    "*Features creation*\n",
    "\n",
    "For each link, the tt_arrival of the other links, covering the previous 50min from prediction time, are added as features. Therefore we will be using 60 features in total as maximum."
   ]
  },
  {
   "cell_type": "code",
   "execution_count": 48,
   "metadata": {
    "colab": {
     "base_uri": "https://localhost:8080/"
    },
    "id": "xrchAR-stEmK",
    "outputId": "63ee0b14-e985-46e4-dda4-4cf79e072269"
   },
   "outputs": [
    {
     "name": "stdout",
     "output_type": "stream",
     "text": [
      "USING PREVIOUS 45m INFORMATION\n",
      "LINK 5\n",
      "SAMME Implementation of AdaBoost\n",
      "\tLOS 1: Recall 95.75%\n",
      "\tLOS 2: Recall 36.97%\n",
      "\tLOS 3: Recall 48.55%\n",
      "\tLOS 4: Recall 12.45%\n",
      "\tLOS 5: Recall 28.01%\n",
      "\tLOS 6: Recall 61.94%\n",
      "LINK 6\n",
      "SAMME Implementation of AdaBoost\n",
      "\tLOS 1: Recall 98.04%\n",
      "\tLOS 2: Recall 20.54%\n",
      "\tLOS 3: Recall 70.4%\n",
      "\tLOS 4: Recall 20.6%\n",
      "\tLOS 5: Recall 18.54%\n",
      "\tLOS 6: Recall 26.84%\n",
      "LINK 7\n",
      "SAMME Implementation of AdaBoost\n",
      "\tLOS 1: Recall 97.78%\n",
      "\tLOS 2: Recall 41.71%\n",
      "\tLOS 3: Recall 58.86%\n",
      "\tLOS 4: Recall 6.34%\n",
      "\tLOS 5: Recall 2.05%\n",
      "\tLOS 6: Recall 10.47%\n",
      "LINK 8\n",
      "SAMME Implementation of AdaBoost\n",
      "\tLOS 1: Recall 99.46%\n",
      "\tLOS 2: Recall 22.69%\n",
      "\tLOS 3: Recall 72.49%\n",
      "\tLOS 4: Recall 18.35%\n",
      "\tLOS 5: Recall 7.5%\n",
      "\tLOS 6: Recall 51.01%\n",
      "LINK 9\n",
      "SAMME Implementation of AdaBoost\n",
      "\tLOS 1: Recall 97.39%\n",
      "\tLOS 2: Recall 63.22%\n",
      "\tLOS 3: Recall 39.14%\n",
      "\tLOS 4: Recall 31.85%\n",
      "\tLOS 5: Recall 27.44%\n",
      "\tLOS 6: Recall 0.0%\n",
      "LINK 10\n",
      "SAMME Implementation of AdaBoost\n",
      "\tLOS 1: Recall 98.92%\n",
      "\tLOS 2: Recall 20.97%\n",
      "\tLOS 3: Recall 36.34%\n",
      "\tLOS 4: Recall 37.06%\n",
      "\tLOS 5: Recall 44.73%\n",
      "\tLOS 6: Recall 52.0%\n"
     ]
    }
   ],
   "source": [
    "print(f'USING PREVIOUS {INPUT_MINUTES_BEFORE}m INFORMATION')\n",
    "for LINK in range(5,11):\n",
    "    print(f\"LINK {LINK}\")\n",
    "    filename = f'{ROOT}/models/AdaBoost_{PREDICTED_MINUTES_AHEAD}m_SAMME_temp{INPUT_MINUTES_BEFORE}m_link{LINK}.joblib'\n",
    "\n",
    "    other_links = [5,6,7,8,9,10]; other_links.remove(LINK)\n",
    "    training_df_link = training_df.copy()\n",
    "    training_df_link = training_df_link[training_df_link['link_id'] == LINK]\n",
    "\n",
    "    for other_link in other_links:\n",
    "        training_df_link = pd.merge(training_df_link, training_df[training_df['link_id'] == other_link].filter(regex=(\"tt_arr.*\")), on=['date'], how='inner', suffixes=[None, f'_{other_link}'])\n",
    "\n",
    "    model = AdaBoostClassifier_(base_estimator=DecisionTreeClassifier(max_depth=3), n_estimators=60, learning_rate=0.3).fit(training_df_link, \"tt_arr.*\", 'LOS_dep')\n",
    "    joblib.dump(model, filename)\n",
    "\n",
    "    for LOS in range(1,7):\n",
    "        validation_df_link = validation_df[(validation_df['link_id'] == LINK) & (validation_df['LOS_dep'] == LOS)].copy()\n",
    "        for other_link in other_links:\n",
    "            validation_df_link = pd.merge(validation_df_link, validation_df[validation_df['link_id'] == other_link].filter(regex=(\"tt_arr.*\")), on=['date'], how='inner', suffixes=[None, f'_{other_link}'])\n",
    "        X_test = validation_df_link.filter(regex=(\"tt_arr.*\")).values\n",
    "        y_pred = model.predict(X_test)\n",
    "\n",
    "        score = metrics.recall_score([LOS]*len(y_pred), y_pred, average='micro')\n",
    "        print(f\"\\tLOS {LOS}: Recall {round(score*100, 2) }%\")"
   ]
  },
  {
   "cell_type": "markdown",
   "metadata": {
    "id": "iN57ErfEtQEj",
    "tags": []
   },
   "source": [
    "## Feature engineering SAMME.R"
   ]
  },
  {
   "cell_type": "markdown",
   "metadata": {
    "id": "QX-1y_K9tQEk",
    "jp-MarkdownHeadingCollapsed": true,
    "tags": []
   },
   "source": [
    "### **FEATURE ENGINEERING ADJACENT LINK INFORMATION**"
   ]
  },
  {
   "cell_type": "markdown",
   "metadata": {
    "id": "jZr9HEIotQEl"
   },
   "source": [
    "*Features creation*\n",
    "\n",
    "For each link, the tt_arrival of the other links are added as features. Therefore we will be using 6 features in total."
   ]
  },
  {
   "cell_type": "code",
   "execution_count": 52,
   "metadata": {
    "id": "MeqLvOwLtScZ"
   },
   "outputs": [
    {
     "name": "stdout",
     "output_type": "stream",
     "text": [
      "LINK 5\n",
      "SAMME.R Implementation of AdaBoost\n",
      "\tLOS 1: Recall 96.03%\n",
      "\tLOS 2: Recall 34.28%\n",
      "\tLOS 3: Recall 38.36%\n",
      "\tLOS 4: Recall 15.27%\n",
      "\tLOS 5: Recall 17.65%\n",
      "\tLOS 6: Recall 47.07%\n",
      "LINK 6\n",
      "SAMME.R Implementation of AdaBoost\n",
      "\tLOS 1: Recall 98.46%\n",
      "\tLOS 2: Recall 9.09%\n",
      "\tLOS 3: Recall 76.51%\n",
      "\tLOS 4: Recall 6.51%\n",
      "\tLOS 5: Recall 20.33%\n",
      "\tLOS 6: Recall 32.03%\n",
      "LINK 7\n",
      "SAMME.R Implementation of AdaBoost\n",
      "\tLOS 1: Recall 97.66%\n",
      "\tLOS 2: Recall 42.62%\n",
      "\tLOS 3: Recall 61.47%\n",
      "\tLOS 4: Recall 2.88%\n",
      "\tLOS 5: Recall 5.58%\n",
      "\tLOS 6: Recall 19.5%\n",
      "LINK 8\n",
      "SAMME.R Implementation of AdaBoost\n",
      "\tLOS 1: Recall 99.37%\n",
      "\tLOS 2: Recall 13.46%\n",
      "\tLOS 3: Recall 76.68%\n",
      "\tLOS 4: Recall 16.84%\n",
      "\tLOS 5: Recall 9.67%\n",
      "\tLOS 6: Recall 53.73%\n",
      "LINK 9\n",
      "SAMME.R Implementation of AdaBoost\n",
      "\tLOS 1: Recall 97.5%\n",
      "\tLOS 2: Recall 62.96%\n",
      "\tLOS 3: Recall 45.43%\n",
      "\tLOS 4: Recall 30.32%\n",
      "\tLOS 5: Recall 15.46%\n",
      "\tLOS 6: Recall 0.0%\n",
      "LINK 10\n",
      "SAMME.R Implementation of AdaBoost\n",
      "\tLOS 1: Recall 99.02%\n",
      "\tLOS 2: Recall 18.09%\n",
      "\tLOS 3: Recall 37.28%\n",
      "\tLOS 4: Recall 31.27%\n",
      "\tLOS 5: Recall 39.22%\n",
      "\tLOS 6: Recall 44.22%\n"
     ]
    }
   ],
   "source": [
    "for LINK in range(5,11):\n",
    "    print(f\"LINK {LINK}\")\n",
    "    filename = f'{ROOT}/models/AdaBoost_{PREDICTED_MINUTES_AHEAD}m_SAMME.R_adjacent_link{LINK}.joblib'\n",
    "\n",
    "    other_links = [5,6,7,8,9,10]; other_links.remove(LINK)\n",
    "    training_df_link = training_df.copy()\n",
    "    training_df_link = training_df_link[training_df_link['link_id'] == LINK]\n",
    "\n",
    "    for other_link in other_links:\n",
    "        training_df_link = pd.merge(training_df_link, training_df[training_df['link_id'] == other_link].filter(regex=(\"tt_ar[^-]+$\")), on=['date'], how='inner', suffixes=[None, f'_{other_link}'])\n",
    "\n",
    "    model = AdaBoostClassifier_(base_estimator=DecisionTreeClassifier(max_depth=3), n_estimators=60, learning_rate=0.3).fit(training_df_link, \"tt_ar[^-]+$\", 'LOS_dep')\n",
    "    joblib.dump(model, filename)\n",
    "\n",
    "    for LOS in range(1,7):\n",
    "        validation_df_link = validation_df[(validation_df['link_id'] == LINK) & (validation_df['LOS_dep'] == LOS)].copy()\n",
    "        for other_link in other_links:\n",
    "            validation_df_link = pd.merge(validation_df_link, validation_df[validation_df['link_id'] == other_link].filter(regex=(\"tt_ar[^-]+$\")), on=['date'], how='inner', suffixes=[None, f'_{other_link}'])\n",
    "        X_test = validation_df_link.filter(regex=(\"tt_ar[^-]+$\")).values\n",
    "        y_pred = model.predict(X_test)\n",
    "\n",
    "        score = metrics.recall_score([LOS]*len(y_pred), y_pred, average='micro')\n",
    "        print(f\"\\tLOS {LOS}: Recall {round(score*100, 2) }%\")"
   ]
  },
  {
   "cell_type": "markdown",
   "metadata": {
    "id": "A-8NrOlytQEl",
    "jp-MarkdownHeadingCollapsed": true,
    "tags": []
   },
   "source": [
    "### **FEATURE ENGINEERING ADJACENT LINK INFORMATION + TEMPORAL INFORMATION (UP TO PREVIOUS 45MIN)**"
   ]
  },
  {
   "cell_type": "markdown",
   "metadata": {
    "id": "pgq0XefftQEm"
   },
   "source": [
    "*Features creation*\n",
    "\n",
    "For each link, the tt_arrival of the other links, covering the previous 50min from prediction time, are added as features. Therefore we will be using 60 features in total as maximum."
   ]
  },
  {
   "cell_type": "code",
   "execution_count": 53,
   "metadata": {
    "id": "rDd9yKj6tT2b"
   },
   "outputs": [
    {
     "name": "stdout",
     "output_type": "stream",
     "text": [
      "USING PREVIOUS 45m INFORMATION\n",
      "LINK 5\n",
      "SAMME.R Implementation of AdaBoost\n",
      "\tLOS 1: Recall 95.71%\n",
      "\tLOS 2: Recall 36.75%\n",
      "\tLOS 3: Recall 40.91%\n",
      "\tLOS 4: Recall 17.27%\n",
      "\tLOS 5: Recall 18.47%\n",
      "\tLOS 6: Recall 45.57%\n",
      "LINK 6\n",
      "SAMME.R Implementation of AdaBoost\n",
      "\tLOS 1: Recall 98.37%\n",
      "\tLOS 2: Recall 10.19%\n",
      "\tLOS 3: Recall 77.31%\n",
      "\tLOS 4: Recall 7.44%\n",
      "\tLOS 5: Recall 22.78%\n",
      "\tLOS 6: Recall 3.21%\n",
      "LINK 7\n",
      "SAMME.R Implementation of AdaBoost\n",
      "\tLOS 1: Recall 97.76%\n",
      "\tLOS 2: Recall 42.6%\n",
      "\tLOS 3: Recall 61.3%\n",
      "\tLOS 4: Recall 4.67%\n",
      "\tLOS 5: Recall 4.26%\n",
      "\tLOS 6: Recall 17.15%\n",
      "LINK 8\n",
      "SAMME.R Implementation of AdaBoost\n",
      "\tLOS 1: Recall 99.43%\n",
      "\tLOS 2: Recall 18.49%\n",
      "\tLOS 3: Recall 75.23%\n",
      "\tLOS 4: Recall 21.25%\n",
      "\tLOS 5: Recall 8.71%\n",
      "\tLOS 6: Recall 54.96%\n",
      "LINK 9\n",
      "SAMME.R Implementation of AdaBoost\n",
      "\tLOS 1: Recall 97.36%\n",
      "\tLOS 2: Recall 63.99%\n",
      "\tLOS 3: Recall 43.04%\n",
      "\tLOS 4: Recall 25.79%\n",
      "\tLOS 5: Recall 15.35%\n",
      "\tLOS 6: Recall 0.0%\n",
      "LINK 10\n",
      "SAMME.R Implementation of AdaBoost\n",
      "\tLOS 1: Recall 98.96%\n",
      "\tLOS 2: Recall 19.26%\n",
      "\tLOS 3: Recall 37.69%\n",
      "\tLOS 4: Recall 42.15%\n",
      "\tLOS 5: Recall 40.06%\n",
      "\tLOS 6: Recall 45.7%\n"
     ]
    }
   ],
   "source": [
    "print(f'USING PREVIOUS {INPUT_MINUTES_BEFORE}m INFORMATION')\n",
    "for LINK in range(5,11):\n",
    "    print(f\"LINK {LINK}\")\n",
    "    filename = f'{ROOT}/models/AdaBoost_{PREDICTED_MINUTES_AHEAD}m_SAMME.R_temp{INPUT_MINUTES_BEFORE}m_link{LINK}.joblib'\n",
    "\n",
    "    other_links = [5,6,7,8,9,10]; other_links.remove(LINK)\n",
    "    training_df_link = training_df.copy()\n",
    "    training_df_link = training_df_link[training_df_link['link_id'] == LINK]\n",
    "\n",
    "    for other_link in other_links:\n",
    "        training_df_link = pd.merge(training_df_link, training_df[training_df['link_id'] == other_link].filter(regex=(\"tt_arr.*\")), on=['date'], how='inner', suffixes=[None, f'_{other_link}'])\n",
    "\n",
    "    model = AdaBoostClassifier_(base_estimator=DecisionTreeClassifier(max_depth=3), n_estimators=60, learning_rate=0.3).fit(training_df_link, \"tt_arr.*\", 'LOS_dep')\n",
    "    joblib.dump(model, filename)\n",
    "\n",
    "    for LOS in range(1,7):\n",
    "        validation_df_link = validation_df[(validation_df['link_id'] == LINK) & (validation_df['LOS_dep'] == LOS)].copy()\n",
    "        for other_link in other_links:\n",
    "            validation_df_link = pd.merge(validation_df_link, validation_df[validation_df['link_id'] == other_link].filter(regex=(\"tt_arr.*\")), on=['date'], how='inner', suffixes=[None, f'_{other_link}'])\n",
    "        X_test = validation_df_link.filter(regex=(\"tt_arr.*\")).values\n",
    "        y_pred = model.predict(X_test)\n",
    "\n",
    "        score = metrics.recall_score([LOS]*len(y_pred), y_pred, average='micro')\n",
    "        print(f\"\\tLOS {LOS}: Recall {round(score*100, 2) }%\")"
   ]
  },
  {
   "cell_type": "markdown",
   "metadata": {
    "id": "8kMuPjKAtZ9U",
    "tags": []
   },
   "source": [
    "## Feature engineering M2"
   ]
  },
  {
   "cell_type": "markdown",
   "metadata": {
    "id": "MFPtdH0htZ9V",
    "tags": []
   },
   "source": [
    "### **FEATURE ENGINEERING ADJACENT LINK INFORMATION**"
   ]
  },
  {
   "cell_type": "markdown",
   "metadata": {
    "id": "W-KS7Q_ntZ9W"
   },
   "source": [
    "*Features creation*\n",
    "\n",
    "For each link, the tt_arrival of the other links are added as features. Therefore we will be using 6 features in total."
   ]
  },
  {
   "cell_type": "code",
   "execution_count": 35,
   "metadata": {
    "id": "gfQaEmUHtfDl"
   },
   "outputs": [
    {
     "name": "stdout",
     "output_type": "stream",
     "text": [
      "LINK 5\n",
      "M2 Implementation of AdaBoost\n",
      "\tLOS 1: Recall 96.02%\n",
      "\tLOS 2: Recall 32.3%\n",
      "\tLOS 3: Recall 52.88%\n",
      "\tLOS 4: Recall 16.42%\n",
      "\tLOS 5: Recall 13.25%\n",
      "\tLOS 6: Recall 66.57%\n",
      "LINK 6\n",
      "M2 Implementation of AdaBoost\n",
      "\tLOS 1: Recall 98.8%\n",
      "\tLOS 2: Recall 3.29%\n",
      "\tLOS 3: Recall 77.0%\n",
      "\tLOS 4: Recall 2.91%\n",
      "\tLOS 5: Recall 24.43%\n",
      "\tLOS 6: Recall 0.0%\n",
      "LINK 7\n",
      "M2 Implementation of AdaBoost\n",
      "\tLOS 1: Recall 97.72%\n",
      "\tLOS 2: Recall 40.74%\n",
      "\tLOS 3: Recall 64.66%\n",
      "\tLOS 4: Recall 0.0%\n",
      "\tLOS 5: Recall 0.0%\n",
      "\tLOS 6: Recall 0.0%\n",
      "LINK 8\n",
      "M2 Implementation of AdaBoost\n",
      "\tLOS 1: Recall 99.49%\n",
      "\tLOS 2: Recall 14.21%\n",
      "\tLOS 3: Recall 76.71%\n",
      "\tLOS 4: Recall 22.92%\n",
      "\tLOS 5: Recall 0.0%\n",
      "\tLOS 6: Recall 56.68%\n",
      "LINK 9\n",
      "M2 Implementation of AdaBoost\n",
      "\tLOS 1: Recall 97.32%\n",
      "\tLOS 2: Recall 66.56%\n",
      "\tLOS 3: Recall 40.64%\n",
      "\tLOS 4: Recall 3.05%\n",
      "\tLOS 5: Recall 0.0%\n",
      "\tLOS 6: Recall 0.0%\n",
      "LINK 10\n",
      "M2 Implementation of AdaBoost\n",
      "\tLOS 1: Recall 98.78%\n",
      "\tLOS 2: Recall 36.67%\n",
      "\tLOS 3: Recall 39.79%\n",
      "\tLOS 4: Recall 34.1%\n",
      "\tLOS 5: Recall 40.1%\n",
      "\tLOS 6: Recall 49.94%\n"
     ]
    }
   ],
   "source": [
    "for LINK in range(5,11):\n",
    "    print(f\"LINK {LINK}\")\n",
    "    filename = f'{ROOT}/models/AdaBoost_{PREDICTED_MINUTES_AHEAD}m_M2_adjacent_link{LINK}.joblib'\n",
    "\n",
    "    other_links = [5,6,7,8,9,10]; other_links.remove(LINK)\n",
    "    training_df_link = training_df.copy()\n",
    "    training_df_link = training_df_link[training_df_link['link_id'] == LINK]\n",
    "\n",
    "    for other_link in other_links:\n",
    "        training_df_link = pd.merge(training_df_link, training_df[training_df['link_id'] == other_link].filter(regex=(\"tt_ar[^-]+$\")), on=['date'], how='inner', suffixes=[None, f'_{other_link}'])\n",
    "\n",
    "    model = AdaBoostClassifier_(base_estimator=DecisionTreeClassifier(max_depth=3), n_estimators=60, learning_rate=0.3).fit(training_df_link, \"tt_ar[^-]+$\", 'LOS_dep')\n",
    "    joblib.dump(model, filename)\n",
    "\n",
    "    for LOS in range(1,7):\n",
    "        validation_df_link = validation_df[(validation_df['link_id'] == LINK) & (validation_df['LOS_dep'] == LOS)].copy()\n",
    "        for other_link in other_links:\n",
    "            validation_df_link = pd.merge(validation_df_link, validation_df[validation_df['link_id'] == other_link].filter(regex=(\"tt_ar[^-]+$\")), on=['date'], how='inner', suffixes=[None, f'_{other_link}'])\n",
    "        X_test = validation_df_link.filter(regex=(\"tt_ar[^-]+$\")).values\n",
    "        y_pred = model.predict(X_test)\n",
    "\n",
    "        score = metrics.recall_score([LOS]*len(y_pred), y_pred, average='micro')\n",
    "        print(f\"\\tLOS {LOS}: Recall {round(score*100, 2) }%\")"
   ]
  },
  {
   "cell_type": "markdown",
   "metadata": {
    "id": "UbhOVU0qtZ9W",
    "tags": []
   },
   "source": [
    "### **FEATURE ENGINEERING ADJACENT LINK INFORMATION + TEMPORAL INFORMATION (UP TO PREVIOUS 45MIN)**"
   ]
  },
  {
   "cell_type": "markdown",
   "metadata": {
    "id": "URsbx593tZ9X"
   },
   "source": [
    "*Features creation*\n",
    "\n",
    "For each link, the tt_arrival of the other links, covering the previous 50min from prediction time, are added as features. Therefore we will be using 60 features in total as maximum."
   ]
  },
  {
   "cell_type": "code",
   "execution_count": 36,
   "metadata": {
    "id": "5_8-VsFdthPa"
   },
   "outputs": [
    {
     "name": "stdout",
     "output_type": "stream",
     "text": [
      "USING PREVIOUS 45m INFORMATION\n",
      "LINK 5\n",
      "M2 Implementation of AdaBoost\n",
      "\tLOS 1: Recall 96.0%\n",
      "\tLOS 2: Recall 32.34%\n",
      "\tLOS 3: Recall 52.96%\n",
      "\tLOS 4: Recall 16.42%\n",
      "\tLOS 5: Recall 13.25%\n",
      "\tLOS 6: Recall 66.57%\n",
      "LINK 6\n",
      "M2 Implementation of AdaBoost\n",
      "\tLOS 1: Recall 98.8%\n",
      "\tLOS 2: Recall 3.29%\n",
      "\tLOS 3: Recall 77.0%\n",
      "\tLOS 4: Recall 2.91%\n",
      "\tLOS 5: Recall 24.43%\n",
      "\tLOS 6: Recall 0.0%\n",
      "LINK 7\n",
      "M2 Implementation of AdaBoost\n",
      "\tLOS 1: Recall 97.71%\n",
      "\tLOS 2: Recall 40.89%\n",
      "\tLOS 3: Recall 64.75%\n",
      "\tLOS 4: Recall 0.0%\n",
      "\tLOS 5: Recall 0.0%\n",
      "\tLOS 6: Recall 0.0%\n",
      "LINK 8\n",
      "M2 Implementation of AdaBoost\n",
      "\tLOS 1: Recall 99.5%\n",
      "\tLOS 2: Recall 14.94%\n",
      "\tLOS 3: Recall 76.52%\n",
      "\tLOS 4: Recall 22.63%\n",
      "\tLOS 5: Recall 0.0%\n",
      "\tLOS 6: Recall 56.68%\n",
      "LINK 9\n",
      "M2 Implementation of AdaBoost\n",
      "\tLOS 1: Recall 97.34%\n",
      "\tLOS 2: Recall 66.47%\n",
      "\tLOS 3: Recall 40.64%\n",
      "\tLOS 4: Recall 1.35%\n",
      "\tLOS 5: Recall 0.0%\n",
      "\tLOS 6: Recall 0.0%\n",
      "LINK 10\n",
      "M2 Implementation of AdaBoost\n",
      "\tLOS 1: Recall 99.42%\n",
      "\tLOS 2: Recall 5.9%\n",
      "\tLOS 3: Recall 41.14%\n",
      "\tLOS 4: Recall 32.51%\n",
      "\tLOS 5: Recall 40.1%\n",
      "\tLOS 6: Recall 49.94%\n"
     ]
    }
   ],
   "source": [
    "print(f'USING PREVIOUS {INPUT_MINUTES_BEFORE}m INFORMATION')\n",
    "for LINK in range(5,11):\n",
    "    print(f\"LINK {LINK}\")\n",
    "    filename = f'{ROOT}/models/AdaBoost_{PREDICTED_MINUTES_AHEAD}m_M2_temp{INPUT_MINUTES_BEFORE}m_link{LINK}.joblib'\n",
    "\n",
    "    other_links = [5,6,7,8,9,10]; other_links.remove(LINK)\n",
    "    training_df_link = training_df.copy()\n",
    "    training_df_link = training_df_link[training_df_link['link_id'] == LINK]\n",
    "\n",
    "    for other_link in other_links:\n",
    "        training_df_link = pd.merge(training_df_link, training_df[training_df['link_id'] == other_link].filter(regex=(\"tt_arr.*\")), on=['date'], how='inner', suffixes=[None, f'_{other_link}'])\n",
    "\n",
    "    model = AdaBoostClassifier_(base_estimator=DecisionTreeClassifier(max_depth=3), n_estimators=60, learning_rate=0.3).fit(training_df_link, \"tt_arr.*\", 'LOS_dep')\n",
    "    joblib.dump(model, filename)\n",
    "\n",
    "    for LOS in range(1,7):\n",
    "        validation_df_link = validation_df[(validation_df['link_id'] == LINK) & (validation_df['LOS_dep'] == LOS)].copy()\n",
    "        for other_link in other_links:\n",
    "            validation_df_link = pd.merge(validation_df_link, validation_df[validation_df['link_id'] == other_link].filter(regex=(\"tt_arr.*\")), on=['date'], how='inner', suffixes=[None, f'_{other_link}'])\n",
    "        X_test = validation_df_link.filter(regex=(\"tt_arr.*\")).values\n",
    "        y_pred = model.predict(X_test)\n",
    "\n",
    "        score = metrics.recall_score([LOS]*len(y_pred), y_pred, average='micro')\n",
    "        print(f\"\\tLOS {LOS}: Recall {round(score*100, 2) }%\")"
   ]
  },
  {
   "cell_type": "markdown",
   "metadata": {
    "id": "56v0Qmq5YalF",
    "jp-MarkdownHeadingCollapsed": true,
    "tags": []
   },
   "source": [
    "# **RUSBoost**"
   ]
  },
  {
   "cell_type": "markdown",
   "metadata": {
    "id": "K8YP3zubmE0w",
    "jp-MarkdownHeadingCollapsed": true,
    "tags": []
   },
   "source": [
    "### *Algorithms*"
   ]
  },
  {
   "cell_type": "markdown",
   "metadata": {
    "id": "hvykyM8IbeNb"
   },
   "source": [
    "**Algorithm implementation SAMME**"
   ]
  },
  {
   "cell_type": "code",
   "execution_count": 54,
   "metadata": {
    "id": "ZlA-vfNNpYOP"
   },
   "outputs": [],
   "source": [
    "def labelToIndex(i,clf):\n",
    "    return clf.labelDict[i]\n",
    "\n",
    "def indexToLabel(i,clf):\n",
    "    return clf.classes[i]\n",
    "\n",
    "class RUSBoostClassifier_:\n",
    "    \n",
    "    def __init__(self,base_estimator=None,n_estimators=50,learning_rate=1.0):\n",
    "        print(\"SAMME Implementation of RUSBoost\")\n",
    "        self.n_estimators = n_estimators\n",
    "        self.learning_rate = learning_rate\n",
    "        self.models = [None]*n_estimators\n",
    "        if base_estimator == None:\n",
    "            base_estimator = DecisionTreeClassifier(max_depth=1)\n",
    "        self.base_estimator = base_estimator\n",
    "        self.estimator_errors_ = []\n",
    "        self.observation_weights_ = {}\n",
    "        \n",
    "    def fit(self, df: pd.DataFrame, X_columns: str, y_column: str):\n",
    "        \"\"\"\n",
    "        param df: Training dataframe with shape (n_samples, )\n",
    "        param X_columns: pattern matching DataFrame column names that contain the features\n",
    "        param y_column: name of DataFrame column name with the labels\n",
    "        \"\"\"\n",
    "        \n",
    "        # Initialize observation weights as 1/N where N is total `n_samples`\n",
    "        N = df.shape[0]\n",
    "        w = {epoch: 1/N for epoch in df.index}\n",
    "        \n",
    "        # `undersampling_n` elements to sample from each class, equal #samples minority class\n",
    "        self.createLabelDict(np.unique(df[y_column]))\n",
    "        k = len(self.classes)\n",
    "        undersampling_n = min(df[y_column].value_counts())\n",
    "\n",
    "        # Get whole dataset samples to later calculate the weighting factors on every iteration\n",
    "        X = df.filter(regex=(X_columns)).values\n",
    "        y = df[y_column].values\n",
    "        \n",
    "        # M iterations (#WeakLearners)\n",
    "        for m in range(self.n_estimators):\n",
    "            \n",
    "        # 1) Random UnderSampling\n",
    "            df_ = pd.DataFrame()\n",
    "            for label_ in self.classes:\n",
    "                # Quizas muestrear usando la inversa de los pesos (.sample(weights=1/w)) para hacer overfit en los casos con menos error == underfit\n",
    "                df_ = pd.concat([ df_, df[ df[y_column]==label_ ].sample(undersampling_n, replace=False) ])\n",
    "            \n",
    "            # Indices are dates in integer format\n",
    "            w_ = np.array([w[epoch] for epoch in df_.index])\n",
    "\n",
    "            X_ = df_.filter(regex=(X_columns)).values\n",
    "            y_ = df_[y_column].values\n",
    "\n",
    "        # 2) WeakLearner training\n",
    "            Gm = base.clone(self.base_estimator).\\\n",
    "                            fit(X_,y_,sample_weight=w_).predict\n",
    "        \n",
    "        # 3) Error-rate computation\n",
    "            incorrect = Gm(X) != y\n",
    "            errM = np.average(incorrect,weights=list(w.values()),axis=0)\n",
    "            self.estimator_errors_.append(errM)\n",
    "        \n",
    "        # 4) WeakLearner weight for ensemble computation [errM < (k-1)/k]\n",
    "            BetaM = np.log((1-errM)/errM)+np.log(k-1)            \n",
    "            self.models[m] = (BetaM,Gm)\n",
    "\n",
    "        # 5) Observation weights update for next iteration with weights normalization\n",
    "            norm_ = 0\n",
    "            w_ = np.array(list(w.values()))\n",
    "            positive_mask = w_ > 0\n",
    "            w_ *= np.exp(self.learning_rate* BetaM*(incorrect * positive_mask))\n",
    "            for i, epoch in enumerate(w.keys()):\n",
    "                w[epoch] = w_[i]\n",
    "                norm_ += w_[i]\n",
    "            for epoch in w.keys():\n",
    "                w[epoch] /= norm_\n",
    "        \n",
    "        self.observation_weights_ = w\n",
    "        return self\n",
    "            \n",
    "    def createLabelDict(self,classes):\n",
    "        self.labelDict = {}\n",
    "        self.classes = classes\n",
    "        for i,cl in enumerate(classes):\n",
    "            self.labelDict[cl] = i\n",
    "\n",
    "    def predict(self,X):\n",
    "        k = len(self.classes)\n",
    "        Bms_ = [Bm for Bm,_ in self.models]\n",
    "        prob_matrix = np.full((X.shape[0],k), -sum(Bms_)/(k-1))\n",
    "        \n",
    "        # Obtain the predicted index array with shape (#obs,#weak_learners)\n",
    "        iTL = np.vectorize(labelToIndex)\n",
    "        y_pred = np.stack([iTL(Gm(X),self) for _,Gm in self.models], axis=-1)\n",
    "\n",
    "        # Weight the indices count using Bm associated to each weak_learner\n",
    "        prob_matrix += np.apply_along_axis(lambda x: np.bincount(x, weights=Bms_, minlength=k), axis=1, arr=y_pred)*k/(k-1)\n",
    "        \n",
    "        iTL = np.vectorize(indexToLabel)\n",
    "        return iTL(np.argmax(prob_matrix,axis=1),self)"
   ]
  },
  {
   "cell_type": "markdown",
   "metadata": {
    "id": "ufAzojIniPjV"
   },
   "source": [
    "**Algorithm implementation M2**"
   ]
  },
  {
   "cell_type": "code",
   "execution_count": 60,
   "metadata": {
    "id": "wvGE01esiNX8"
   },
   "outputs": [],
   "source": [
    "def labelToIndex(cl,clf):\n",
    "    return clf.labelDict[cl]\n",
    "\n",
    "def indexToLabel(i,clf):\n",
    "    return clf.classes[i]\n",
    "\n",
    "class RUSBoostClassifier_:\n",
    "    \n",
    "    def __init__(self,base_estimator=None,n_estimators=50,learning_rate=1.0):\n",
    "        print(\"M2 Implementation of RUSBoost\")\n",
    "        self.n_estimators = n_estimators\n",
    "        self.learning_rate = learning_rate\n",
    "        self.models = []\n",
    "        if base_estimator == None:\n",
    "            base_estimator = DecisionTreeClassifier(max_depth=1)\n",
    "        self.base_estimator = base_estimator\n",
    "        self.estimator_errors_ = []\n",
    "        self.observation_weights_ = {}\n",
    "\n",
    "    def fit(self, df: pd.DataFrame, X_columns: str, y_column: str):\n",
    "        \"\"\"\n",
    "        param df: Training dataframe with shape (n_samples, )\n",
    "        param X_columns: pattern matching DataFrame column names that contain the features\n",
    "        param y_column: name of DataFrame column name with the labels\n",
    "        \"\"\"        \n",
    "        \n",
    "        # Class labels mapping to indices\n",
    "        self.createLabelDict(np.unique(df[y_column]))\n",
    "        k = len(self.classes)\n",
    "        # `undersampling_n` elements to sample from each class, equal #samples minority class\n",
    "        undersampling_n = min(df[y_column].value_counts())\n",
    "\n",
    "        # Initialize observation weights as 1/(N*(k-1)) where N is total `n_samples` and k is the numebr of classes\n",
    "        N = df.shape[0]\n",
    "        B = N*(k-1)\n",
    "        D = {epoch: np.full(k-1,1/B) for epoch in df.index}\n",
    "\n",
    "        # Get whole dataset samples to later calculate the weighting factors on every iteration\n",
    "        X = df.filter(regex=(X_columns)).values\n",
    "        y = df[y_column].values\n",
    "        iTL = np.vectorize(labelToIndex)\n",
    "        y_indices = iTL(y,self)\n",
    "        \n",
    "        # M iterations (#WeakLearners)\n",
    "        for m in range(self.n_estimators):\n",
    "\n",
    "        # 1) Random UnderSampling\n",
    "            df_ = pd.DataFrame()\n",
    "            for label_ in self.classes:\n",
    "                # Quizas muestrear usando la inversa de los pesos (.sample(weights=1/w)) para hacer overfit en los casos con menos error == underfit\n",
    "                df_ = pd.concat([ df_, df[ df[y_column]==label_ ].sample(undersampling_n, replace=False) ])\n",
    "\n",
    "            \n",
    "            # Training data initalization\n",
    "            X_ = df_.filter(regex=(X_columns)).values\n",
    "            y_ = df_[y_column].values\n",
    "            D_ = np.sum([D[epoch] for epoch in df_.index], axis=-1)\n",
    "\n",
    "        # 2) WeakLearner training\n",
    "            Gm = base.clone(self.base_estimator).\\\n",
    "                            fit(X_,y_,sample_weight=D_).predict_proba\n",
    "            self.models.append(Gm)\n",
    "        \n",
    "        # 3) Error-rate computation\n",
    "            predictions_proba = Gm(X)\n",
    "            sum_pseudolosses = 0\n",
    "            for i, epoch in enumerate(D.keys()):\n",
    "                k_index = 0\n",
    "                for cl in range(k):\n",
    "                    if cl != y_indices[i]:\n",
    "                        sum_pseudolosses += D[epoch][k_index]*(1-predictions_proba[i,y_indices[i]]+predictions_proba[i,cl])\n",
    "                        k_index += 1\n",
    "\n",
    "            error = 0.5 * sum_pseudolosses\n",
    "            self.estimator_errors_.append(error)\n",
    "        \n",
    "        # 4) WeakLearner weight for ensemble computation\n",
    "            BetaM = error/(1-error)\n",
    "            self.models[m] = (BetaM,Gm)\n",
    "\n",
    "        # 5) Observation weights update for next iteration with weights normalization\n",
    "            norm_ = 0\n",
    "            for i, epoch in enumerate(D.keys()):\n",
    "                k_index = 0\n",
    "                for cl in range(k):\n",
    "                    if cl != y_indices[i]:\n",
    "                        w_ = 0.5*(1+predictions_proba[i,y_indices[i]]-predictions_proba[i,cl])\n",
    "                        D[epoch][k_index] *= BetaM**(self.learning_rate*w_)\n",
    "                        norm_ += D[epoch][k_index]\n",
    "                        k_index += 1\n",
    "            for epoch in D.keys():\n",
    "                D[epoch] /= norm_\n",
    "        \n",
    "        self.observation_weights_ = D\n",
    "        \n",
    "        return self\n",
    "            \n",
    "    def createLabelDict(self,classes):\n",
    "        self.labelDict = {}\n",
    "        self.classes = classes\n",
    "        for i,cl in enumerate(classes):\n",
    "            self.labelDict[cl] = i\n",
    "    \n",
    "    def predict(self,X):\n",
    "        sum_model_hypothesis = np.sum(np.stack([-np.log(Bm)*Gm(X) for Bm,Gm in self.models], axis=-1), axis=-1)\n",
    "        iTL = np.vectorize(indexToLabel)            \n",
    "        return iTL(np.argmax(sum_model_hypothesis,axis=1),self)\n"
   ]
  },
  {
   "cell_type": "markdown",
   "metadata": {
    "id": "0-sWClA_oG-s",
    "jp-MarkdownHeadingCollapsed": true,
    "tags": []
   },
   "source": [
    "### **NO FEATURE ENGINEERING SAMME**"
   ]
  },
  {
   "cell_type": "code",
   "execution_count": 55,
   "metadata": {
    "colab": {
     "base_uri": "https://localhost:8080/"
    },
    "id": "mYPP7uf-rlIw",
    "outputId": "3b780349-5ed7-4f89-c5c0-15999bc76c09"
   },
   "outputs": [
    {
     "name": "stdout",
     "output_type": "stream",
     "text": [
      "LINK 5\n",
      "SAMME Implementation of RUSBoost\n",
      "\tLOS 1: Recall 81.65%\n",
      "\tLOS 2: Recall 72.67%\n",
      "\tLOS 3: Recall 27.49%\n",
      "\tLOS 4: Recall 31.09%\n",
      "\tLOS 5: Recall 21.48%\n",
      "\tLOS 6: Recall 82.81%\n",
      "LINK 6\n",
      "SAMME Implementation of RUSBoost\n",
      "\tLOS 1: Recall 87.42%\n",
      "\tLOS 2: Recall 49.03%\n",
      "\tLOS 3: Recall 78.64%\n",
      "\tLOS 4: Recall 0.4%\n",
      "\tLOS 5: Recall 45.42%\n",
      "\tLOS 6: Recall 44.92%\n",
      "LINK 7\n",
      "SAMME Implementation of RUSBoost\n",
      "\tLOS 1: Recall 88.62%\n",
      "\tLOS 2: Recall 66.18%\n",
      "\tLOS 3: Recall 51.49%\n",
      "\tLOS 4: Recall 22.28%\n",
      "\tLOS 5: Recall 9.96%\n",
      "\tLOS 6: Recall 53.66%\n",
      "LINK 8\n",
      "SAMME Implementation of RUSBoost\n",
      "\tLOS 1: Recall 95.49%\n",
      "\tLOS 2: Recall 54.36%\n",
      "\tLOS 3: Recall 3.15%\n",
      "\tLOS 4: Recall 38.23%\n",
      "\tLOS 5: Recall 3.96%\n",
      "\tLOS 6: Recall 61.07%\n",
      "LINK 9\n",
      "SAMME Implementation of RUSBoost\n",
      "\tLOS 1: Recall 89.61%\n",
      "\tLOS 2: Recall 77.39%\n",
      "\tLOS 3: Recall 45.63%\n",
      "\tLOS 4: Recall 54.89%\n",
      "\tLOS 5: Recall 43.64%\n",
      "\tLOS 6: Recall 0.0%\n",
      "LINK 10\n",
      "SAMME Implementation of RUSBoost\n",
      "\tLOS 1: Recall 91.26%\n",
      "\tLOS 2: Recall 64.66%\n",
      "\tLOS 3: Recall 10.17%\n",
      "\tLOS 4: Recall 56.94%\n",
      "\tLOS 5: Recall 1.12%\n",
      "\tLOS 6: Recall 79.3%\n"
     ]
    }
   ],
   "source": [
    "for LINK in range(5,11):\n",
    "    print(f\"LINK {LINK}\")\n",
    "    filename = f'{ROOT}/models/RUSBoost_{PREDICTED_MINUTES_AHEAD}m_SAMME_nofeat_link{LINK}.joblib'\n",
    "\n",
    "    model = RUSBoostClassifier_(base_estimator=DecisionTreeClassifier(max_depth=3), n_estimators=60, learning_rate=0.3).fit(training_df[training_df['link_id'] == LINK], 'tt_arr$', 'LOS_dep')\n",
    "    joblib.dump(model, filename)\n",
    "\n",
    "    for LOS in range(1,7):\n",
    "        X_test = validation_df[(validation_df['link_id'] == LINK) & (validation_df['LOS_dep'] == LOS)]['tt_arr'].values.reshape(-1, 1)\n",
    "        y_pred = model.predict(X_test)\n",
    "\n",
    "        score = metrics.recall_score([LOS]*len(y_pred), y_pred, average='micro')\n",
    "        print(f\"\\tLOS {LOS}: Recall {round(score*100, 2) }%\")"
   ]
  },
  {
   "cell_type": "code",
   "execution_count": 56,
   "metadata": {
    "colab": {
     "base_uri": "https://localhost:8080/",
     "height": 472
    },
    "id": "CubsFZ5p1h8I",
    "outputId": "5ebb646f-8bdc-4ca7-838d-fe52809dfcf2"
   },
   "outputs": [
    {
     "data": {
      "image/png": "[encoded data removed]",
      "text/plain": [
       "<Figure size 432x288 with 1 Axes>"
      ]
     },
     "metadata": {
      "needs_background": "light"
     },
     "output_type": "display_data"
    }
   ],
   "source": [
    "fig, ax = plt.subplots()\n",
    "\n",
    "ax.plot(np.arange(len(model.observation_weights_)), model.observation_weights_.values())\n",
    "\n",
    "tmp = training_df[training_df['link_id'] == LINK]\n",
    "ax.plot(np.arange(len(model.observation_weights_)), np.array(list(model.observation_weights_.values()))*np.array(tmp['LOS_dep'] == 6).astype(np.int8).astype(np.int8))\n",
    "\n",
    "ax.set(xlabel='Observation', ylabel='weight',\n",
    "       title='Weight per observation')\n",
    "ax.grid()\n",
    "plt.show()"
   ]
  },
  {
   "cell_type": "code",
   "execution_count": 57,
   "metadata": {
    "colab": {
     "base_uri": "https://localhost:8080/",
     "height": 472
    },
    "id": "fzFBi1h7q_EO",
    "outputId": "848687ae-deee-43c3-c9b1-ffccf89b32fc"
   },
   "outputs": [
    {
     "data": {
      "image/png": "[encoded data removed]",
      "text/plain": [
       "<Figure size 432x288 with 1 Axes>"
      ]
     },
     "metadata": {
      "needs_background": "light"
     },
     "output_type": "display_data"
    }
   ],
   "source": [
    "fig, ax = plt.subplots()\n",
    "ax.plot(np.arange(model.n_estimators), model.estimator_errors_)\n",
    "\n",
    "ax.set(xlabel='#Estimator', ylabel='Estimation error',\n",
    "       title='Evolution of errors training estimators')\n",
    "ax.grid()\n",
    "plt.show()"
   ]
  },
  {
   "cell_type": "markdown",
   "metadata": {
    "id": "Z8T8KoJtliq5",
    "jp-MarkdownHeadingCollapsed": true,
    "tags": []
   },
   "source": [
    "### **NO FEATURE ENGINEERING M2**"
   ]
  },
  {
   "cell_type": "code",
   "execution_count": 61,
   "metadata": {
    "colab": {
     "base_uri": "https://localhost:8080/"
    },
    "id": "oqF7lfLMlpOp",
    "outputId": "61226b7f-eda0-44bc-9116-6a4b60a97e49"
   },
   "outputs": [
    {
     "name": "stdout",
     "output_type": "stream",
     "text": [
      "LINK 5\n",
      "M2 Implementation of RUSBoost\n",
      "\tLOS 1: Recall 83.91%\n",
      "\tLOS 2: Recall 70.04%\n",
      "\tLOS 3: Recall 41.16%\n",
      "\tLOS 4: Recall 24.69%\n",
      "\tLOS 5: Recall 46.41%\n",
      "\tLOS 6: Recall 66.93%\n",
      "LINK 6\n",
      "M2 Implementation of RUSBoost\n",
      "\tLOS 1: Recall 83.97%\n",
      "\tLOS 2: Recall 67.25%\n",
      "\tLOS 3: Recall 51.93%\n",
      "\tLOS 4: Recall 43.82%\n",
      "\tLOS 5: Recall 33.96%\n",
      "\tLOS 6: Recall 55.25%\n",
      "LINK 7\n",
      "M2 Implementation of RUSBoost\n",
      "\tLOS 1: Recall 87.11%\n",
      "\tLOS 2: Recall 67.18%\n",
      "\tLOS 3: Recall 54.31%\n",
      "\tLOS 4: Recall 15.86%\n",
      "\tLOS 5: Recall 25.27%\n",
      "\tLOS 6: Recall 53.66%\n",
      "LINK 8\n",
      "M2 Implementation of RUSBoost\n",
      "\tLOS 1: Recall 93.26%\n",
      "\tLOS 2: Recall 66.1%\n",
      "\tLOS 3: Recall 68.26%\n",
      "\tLOS 4: Recall 26.45%\n",
      "\tLOS 5: Recall 17.83%\n",
      "\tLOS 6: Recall 49.82%\n",
      "LINK 9\n",
      "M2 Implementation of RUSBoost\n",
      "\tLOS 1: Recall 92.48%\n",
      "\tLOS 2: Recall 70.21%\n",
      "\tLOS 3: Recall 55.67%\n",
      "\tLOS 4: Recall 51.88%\n",
      "\tLOS 5: Recall 35.54%\n",
      "\tLOS 6: Recall 39.94%\n",
      "LINK 10\n",
      "M2 Implementation of RUSBoost\n",
      "\tLOS 1: Recall 91.26%\n",
      "\tLOS 2: Recall 64.58%\n",
      "\tLOS 3: Recall 37.77%\n",
      "\tLOS 4: Recall 36.33%\n",
      "\tLOS 5: Recall 34.92%\n",
      "\tLOS 6: Recall 59.26%\n"
     ]
    }
   ],
   "source": [
    "for LINK in range(5,11):\n",
    "    print(f\"LINK {LINK}\")\n",
    "    filename = f'{ROOT}/models/RUSBoost_{PREDICTED_MINUTES_AHEAD}m_M2_nofeat_link{LINK}.joblib'\n",
    "\n",
    "    model = RUSBoostClassifier_(base_estimator=DecisionTreeClassifier(max_depth=3), n_estimators=60, learning_rate=0.3).fit(training_df[training_df['link_id'] == LINK], 'tt_arr$', 'LOS_dep')\n",
    "    joblib.dump(model, filename)\n",
    "\n",
    "    for LOS in range(1,7):\n",
    "        X_test = validation_df[(validation_df['link_id'] == LINK) & (validation_df['LOS_dep'] == LOS)]['tt_arr'].values.reshape(-1, 1)\n",
    "        y_pred = model.predict(X_test)\n",
    "\n",
    "        score = metrics.recall_score([LOS]*len(y_pred), y_pred, average='micro')\n",
    "        print(f\"\\tLOS {LOS}: Recall {round(score*100, 2) }%\")"
   ]
  },
  {
   "cell_type": "code",
   "execution_count": 62,
   "metadata": {
    "colab": {
     "base_uri": "https://localhost:8080/",
     "height": 472
    },
    "id": "x6zbR-vhlrsx",
    "outputId": "4cc16337-c95d-44de-dbe4-1562486d8c42"
   },
   "outputs": [
    {
     "data": {
      "image/png": "[encoded data removed]",
      "text/plain": [
       "<Figure size 432x288 with 1 Axes>"
      ]
     },
     "metadata": {
      "needs_background": "light"
     },
     "output_type": "display_data"
    }
   ],
   "source": [
    "fig, ax = plt.subplots()\n",
    "ax.plot(np.arange(model.n_estimators), model.estimator_errors_)\n",
    "\n",
    "ax.set(xlabel='#Estimator', ylabel='Estimation error',\n",
    "       title='Evolution of errors training estimators')\n",
    "ax.grid()\n",
    "plt.show()"
   ]
  },
  {
   "cell_type": "markdown",
   "metadata": {
    "id": "9Dm-Rr2LryUa",
    "tags": []
   },
   "source": [
    "## Feature engineering SAMME"
   ]
  },
  {
   "cell_type": "markdown",
   "metadata": {
    "id": "5GwdnL80wEtn",
    "jp-MarkdownHeadingCollapsed": true,
    "tags": []
   },
   "source": [
    "### **FEATURE ENGINEERING ADJACENT LINK INFORMATION**"
   ]
  },
  {
   "cell_type": "markdown",
   "metadata": {
    "id": "SX6uOIxdwEtp"
   },
   "source": [
    "*Features creation*\n",
    "\n",
    "For each link, the tt_arrival of the other links are added as features. Therefore we will be using 6 features in total."
   ]
  },
  {
   "cell_type": "code",
   "execution_count": 58,
   "metadata": {
    "id": "lG3lIJ4Swav-"
   },
   "outputs": [
    {
     "name": "stdout",
     "output_type": "stream",
     "text": [
      "LINK 5\n",
      "SAMME Implementation of RUSBoost\n",
      "\tLOS 1: Recall 88.03%\n",
      "\tLOS 2: Recall 50.08%\n",
      "\tLOS 3: Recall 54.91%\n",
      "\tLOS 4: Recall 28.97%\n",
      "\tLOS 5: Recall 39.62%\n",
      "\tLOS 6: Recall 64.18%\n",
      "LINK 6\n",
      "SAMME Implementation of RUSBoost\n",
      "\tLOS 1: Recall 90.1%\n",
      "\tLOS 2: Recall 52.23%\n",
      "\tLOS 3: Recall 68.3%\n",
      "\tLOS 4: Recall 21.43%\n",
      "\tLOS 5: Recall 36.32%\n",
      "\tLOS 6: Recall 53.79%\n",
      "LINK 7\n",
      "SAMME Implementation of RUSBoost\n",
      "\tLOS 1: Recall 89.08%\n",
      "\tLOS 2: Recall 60.76%\n",
      "\tLOS 3: Recall 44.78%\n",
      "\tLOS 4: Recall 33.79%\n",
      "\tLOS 5: Recall 23.26%\n",
      "\tLOS 6: Recall 55.24%\n",
      "LINK 8\n",
      "SAMME Implementation of RUSBoost\n",
      "\tLOS 1: Recall 92.16%\n",
      "\tLOS 2: Recall 61.34%\n",
      "\tLOS 3: Recall 66.85%\n",
      "\tLOS 4: Recall 51.41%\n",
      "\tLOS 5: Recall 10.67%\n",
      "\tLOS 6: Recall 54.61%\n",
      "LINK 9\n",
      "SAMME Implementation of RUSBoost\n",
      "\tLOS 1: Recall 89.11%\n",
      "\tLOS 2: Recall 77.88%\n",
      "\tLOS 3: Recall 24.82%\n",
      "\tLOS 4: Recall 45.68%\n",
      "\tLOS 5: Recall 18.19%\n",
      "\tLOS 6: Recall 51.27%\n",
      "LINK 10\n",
      "SAMME Implementation of RUSBoost\n",
      "\tLOS 1: Recall 90.5%\n",
      "\tLOS 2: Recall 65.21%\n",
      "\tLOS 3: Recall 35.65%\n",
      "\tLOS 4: Recall 36.77%\n",
      "\tLOS 5: Recall 39.76%\n",
      "\tLOS 6: Recall 50.26%\n"
     ]
    }
   ],
   "source": [
    "for LINK in range(5,11):\n",
    "    print(f\"LINK {LINK}\")\n",
    "    filename = f'{ROOT}/models/RUSBoost_{PREDICTED_MINUTES_AHEAD}m_SAMME_adjacent_link{LINK}.joblib'\n",
    "\n",
    "    other_links = [5,6,7,8,9,10]; other_links.remove(LINK)\n",
    "    training_df_link = training_df.copy()\n",
    "    training_df_link = training_df_link[training_df_link['link_id'] == LINK]\n",
    "\n",
    "    for other_link in other_links:\n",
    "        training_df_link = pd.merge(training_df_link, training_df[training_df['link_id'] == other_link].filter(regex=(\"tt_ar[^-]+$\")), on=['date'], how='inner', suffixes=[None, f'_{other_link}'])\n",
    "\n",
    "    model = RUSBoostClassifier_(base_estimator=DecisionTreeClassifier(max_depth=3), n_estimators=60, learning_rate=0.3).fit(training_df_link, \"tt_ar[^-]+$\", 'LOS_dep')\n",
    "    joblib.dump(model, filename)\n",
    "\n",
    "    for LOS in range(1,7):\n",
    "        validation_df_link = validation_df[(validation_df['link_id'] == LINK) & (validation_df['LOS_dep'] == LOS)].copy()\n",
    "        for other_link in other_links:\n",
    "            validation_df_link = pd.merge(validation_df_link, validation_df[validation_df['link_id'] == other_link].filter(regex=(\"tt_ar[^-]+$\")), on=['date'], how='inner', suffixes=[None, f'_{other_link}'])\n",
    "        X_test = validation_df_link.filter(regex=(\"tt_ar[^-]+$\")).values\n",
    "        y_pred = model.predict(X_test)\n",
    "\n",
    "        score = metrics.recall_score([LOS]*len(y_pred), y_pred, average='micro')\n",
    "        print(f\"\\tLOS {LOS}: Recall {round(score*100, 2) }%\")"
   ]
  },
  {
   "cell_type": "markdown",
   "metadata": {
    "id": "sOP6-k1pNP3l",
    "jp-MarkdownHeadingCollapsed": true,
    "tags": []
   },
   "source": [
    "### **FEATURE ENGINEERING ADJACENT LINK INFORMATION + TEMPORAL INFORMATION (UP TO PREVIOUS 45MIN)**"
   ]
  },
  {
   "cell_type": "markdown",
   "metadata": {
    "id": "rxNerGt4wTQW"
   },
   "source": [
    "*Features creation*\n",
    "\n",
    "For each link, the tt_arrival of the other links, covering the previous 50min from prediction time, are added as features. Therefore we will be using 60 features in total as maximum."
   ]
  },
  {
   "cell_type": "code",
   "execution_count": 59,
   "metadata": {
    "colab": {
     "base_uri": "https://localhost:8080/"
    },
    "id": "M6JecW2nvBMv",
    "outputId": "dc442871-3613-4bf2-f223-8081041cbfc5"
   },
   "outputs": [
    {
     "name": "stdout",
     "output_type": "stream",
     "text": [
      "USING PREVIOUS 45m INFORMATION\n",
      "LINK 5\n",
      "SAMME Implementation of RUSBoost\n",
      "\tLOS 1: Recall 87.86%\n",
      "\tLOS 2: Recall 41.5%\n",
      "\tLOS 3: Recall 59.42%\n",
      "\tLOS 4: Recall 20.7%\n",
      "\tLOS 5: Recall 54.49%\n",
      "\tLOS 6: Recall 61.49%\n",
      "LINK 6\n",
      "SAMME Implementation of RUSBoost\n",
      "\tLOS 1: Recall 89.06%\n",
      "\tLOS 2: Recall 47.63%\n",
      "\tLOS 3: Recall 71.23%\n",
      "\tLOS 4: Recall 24.77%\n",
      "\tLOS 5: Recall 31.0%\n",
      "\tLOS 6: Recall 57.18%\n",
      "LINK 7\n",
      "SAMME Implementation of RUSBoost\n",
      "\tLOS 1: Recall 91.07%\n",
      "\tLOS 2: Recall 65.3%\n",
      "\tLOS 3: Recall 44.53%\n",
      "\tLOS 4: Recall 19.33%\n",
      "\tLOS 5: Recall 31.86%\n",
      "\tLOS 6: Recall 25.13%\n",
      "LINK 8\n",
      "SAMME Implementation of RUSBoost\n",
      "\tLOS 1: Recall 93.21%\n",
      "\tLOS 2: Recall 45.19%\n",
      "\tLOS 3: Recall 71.07%\n",
      "\tLOS 4: Recall 0.16%\n",
      "\tLOS 5: Recall 53.92%\n",
      "\tLOS 6: Recall 52.15%\n",
      "LINK 9\n",
      "SAMME Implementation of RUSBoost\n",
      "\tLOS 1: Recall 88.67%\n",
      "\tLOS 2: Recall 71.93%\n",
      "\tLOS 3: Recall 58.41%\n",
      "\tLOS 4: Recall 41.58%\n",
      "\tLOS 5: Recall 45.32%\n",
      "\tLOS 6: Recall 22.66%\n",
      "LINK 10\n",
      "SAMME Implementation of RUSBoost\n",
      "\tLOS 1: Recall 90.73%\n",
      "\tLOS 2: Recall 58.06%\n",
      "\tLOS 3: Recall 43.02%\n",
      "\tLOS 4: Recall 44.3%\n",
      "\tLOS 5: Recall 14.93%\n",
      "\tLOS 6: Recall 65.65%\n"
     ]
    }
   ],
   "source": [
    "print(f'USING PREVIOUS {INPUT_MINUTES_BEFORE}m INFORMATION')\n",
    "for LINK in range(5,11):\n",
    "    print(f\"LINK {LINK}\")\n",
    "    filename = f'{ROOT}/models/RUSBoost_{PREDICTED_MINUTES_AHEAD}m_SAMME_temp{INPUT_MINUTES_BEFORE}m_link{LINK}.joblib'\n",
    "\n",
    "    other_links = [5,6,7,8,9,10]; other_links.remove(LINK)\n",
    "    training_df_link = training_df.copy()\n",
    "    training_df_link = training_df_link[training_df_link['link_id'] == LINK]\n",
    "\n",
    "    for other_link in other_links:\n",
    "        training_df_link = pd.merge(training_df_link, training_df[training_df['link_id'] == other_link].filter(regex=(\"tt_arr.*\")), on=['date'], how='inner', suffixes=[None, f'_{other_link}'])\n",
    "\n",
    "    model = RUSBoostClassifier_(base_estimator=DecisionTreeClassifier(max_depth=3), n_estimators=60, learning_rate=0.3).fit(training_df_link, \"tt_arr.*\", 'LOS_dep')\n",
    "    joblib.dump(model, filename)\n",
    "\n",
    "    for LOS in range(1,7):\n",
    "        validation_df_link = validation_df[(validation_df['link_id'] == LINK) & (validation_df['LOS_dep'] == LOS)].copy()\n",
    "        for other_link in other_links:\n",
    "            validation_df_link = pd.merge(validation_df_link, validation_df[validation_df['link_id'] == other_link].filter(regex=(\"tt_arr.*\")), on=['date'], how='inner', suffixes=[None, f'_{other_link}'])\n",
    "        X_test = validation_df_link.filter(regex=(\"tt_arr.*\")).values\n",
    "        y_pred = model.predict(X_test)\n",
    "\n",
    "        score = metrics.recall_score([LOS]*len(y_pred), y_pred, average='micro')\n",
    "        print(f\"\\tLOS {LOS}: Recall {round(score*100, 2) }%\")"
   ]
  },
  {
   "cell_type": "markdown",
   "metadata": {
    "id": "OOgz5KTvr6jU",
    "tags": []
   },
   "source": [
    "## Feature engineering M2"
   ]
  },
  {
   "cell_type": "markdown",
   "metadata": {
    "id": "mc6_lQUSsKiM",
    "tags": []
   },
   "source": [
    "### **FEATURE ENGINEERING ADJACENT LINK INFORMATION**"
   ]
  },
  {
   "cell_type": "markdown",
   "metadata": {
    "id": "_c5Zd21qsNCy"
   },
   "source": [
    "*Features creation*\n",
    "\n",
    "For each link, the tt_arrival of the other links are added as features. Therefore we will be using 6 features in total."
   ]
  },
  {
   "cell_type": "code",
   "execution_count": 63,
   "metadata": {
    "id": "dKswQdsJsPLO"
   },
   "outputs": [
    {
     "name": "stdout",
     "output_type": "stream",
     "text": [
      "LINK 5\n",
      "M2 Implementation of RUSBoost\n",
      "\tLOS 1: Recall 84.63%\n",
      "\tLOS 2: Recall 69.56%\n",
      "\tLOS 3: Recall 43.37%\n",
      "\tLOS 4: Recall 25.05%\n",
      "\tLOS 5: Recall 44.83%\n",
      "\tLOS 6: Recall 66.93%\n",
      "LINK 6\n",
      "M2 Implementation of RUSBoost\n",
      "\tLOS 1: Recall 83.13%\n",
      "\tLOS 2: Recall 70.36%\n",
      "\tLOS 3: Recall 49.29%\n",
      "\tLOS 4: Recall 48.63%\n",
      "\tLOS 5: Recall 35.48%\n",
      "\tLOS 6: Recall 54.96%\n",
      "LINK 7\n",
      "M2 Implementation of RUSBoost\n",
      "\tLOS 1: Recall 85.56%\n",
      "\tLOS 2: Recall 71.28%\n",
      "\tLOS 3: Recall 43.59%\n",
      "\tLOS 4: Recall 31.0%\n",
      "\tLOS 5: Recall 24.77%\n",
      "\tLOS 6: Recall 52.75%\n",
      "LINK 8\n",
      "M2 Implementation of RUSBoost\n",
      "\tLOS 1: Recall 89.91%\n",
      "\tLOS 2: Recall 64.68%\n",
      "\tLOS 3: Recall 72.46%\n",
      "\tLOS 4: Recall 22.38%\n",
      "\tLOS 5: Recall 29.79%\n",
      "\tLOS 6: Recall 56.11%\n",
      "LINK 9\n",
      "M2 Implementation of RUSBoost\n",
      "\tLOS 1: Recall 90.21%\n",
      "\tLOS 2: Recall 72.55%\n",
      "\tLOS 3: Recall 59.62%\n",
      "\tLOS 4: Recall 51.09%\n",
      "\tLOS 5: Recall 33.96%\n",
      "\tLOS 6: Recall 24.65%\n",
      "LINK 10\n",
      "M2 Implementation of RUSBoost\n",
      "\tLOS 1: Recall 91.37%\n",
      "\tLOS 2: Recall 64.53%\n",
      "\tLOS 3: Recall 37.83%\n",
      "\tLOS 4: Recall 36.56%\n",
      "\tLOS 5: Recall 34.75%\n",
      "\tLOS 6: Recall 59.29%\n"
     ]
    }
   ],
   "source": [
    "for LINK in range(5,11):\n",
    "    print(f\"LINK {LINK}\")\n",
    "    filename = f'{ROOT}/models/RUSBoost_{PREDICTED_MINUTES_AHEAD}m_M2_adjacent_link{LINK}.joblib'\n",
    "\n",
    "    other_links = [5,6,7,8,9,10]; other_links.remove(LINK)\n",
    "    training_df_link = training_df.copy()\n",
    "    training_df_link = training_df_link[training_df_link['link_id'] == LINK]\n",
    "\n",
    "    for other_link in other_links:\n",
    "        training_df_link = pd.merge(training_df_link, training_df[training_df['link_id'] == other_link].filter(regex=(\"tt_ar[^-]+$\")), on=['date'], how='inner', suffixes=[None, f'_{other_link}'])\n",
    "\n",
    "    model = RUSBoostClassifier_(base_estimator=DecisionTreeClassifier(max_depth=3), n_estimators=60, learning_rate=0.3).fit(training_df_link, \"tt_ar[^-]+$\", 'LOS_dep')\n",
    "    joblib.dump(model, filename)\n",
    "\n",
    "    for LOS in range(1,7):\n",
    "        validation_df_link = validation_df[(validation_df['link_id'] == LINK) & (validation_df['LOS_dep'] == LOS)].copy()\n",
    "        for other_link in other_links:\n",
    "            validation_df_link = pd.merge(validation_df_link, validation_df[validation_df['link_id'] == other_link].filter(regex=(\"tt_ar[^-]+$\")), on=['date'], how='inner', suffixes=[None, f'_{other_link}'])\n",
    "        X_test = validation_df_link.filter(regex=(\"tt_ar[^-]+$\")).values\n",
    "        y_pred = model.predict(X_test)\n",
    "\n",
    "        score = metrics.recall_score([LOS]*len(y_pred), y_pred, average='micro')\n",
    "        print(f\"\\tLOS {LOS}: Recall {round(score*100, 2) }%\")"
   ]
  },
  {
   "cell_type": "markdown",
   "metadata": {
    "id": "poTwjhkKsQ62",
    "tags": []
   },
   "source": [
    "### **FEATURE ENGINEERING ADJACENT LINK INFORMATION + TEMPORAL INFORMATION (UP TO PREVIOUS 45MIN)**"
   ]
  },
  {
   "cell_type": "markdown",
   "metadata": {
    "id": "LFmqR-o_sTPj"
   },
   "source": [
    "*Features creation*\n",
    "\n",
    "For each link, the tt_arrival of the other links, covering the previous 50min from prediction time, are added as features. Therefore we will be using 60 features in total as maximum."
   ]
  },
  {
   "cell_type": "code",
   "execution_count": 64,
   "metadata": {
    "colab": {
     "base_uri": "https://localhost:8080/"
    },
    "id": "y74FuDnRsVhu",
    "outputId": "11f55f1e-2ccd-44f5-c815-181251dcff05"
   },
   "outputs": [
    {
     "name": "stdout",
     "output_type": "stream",
     "text": [
      "USING PREVIOUS 45m INFORMATION\n",
      "LINK 5\n",
      "M2 Implementation of RUSBoost\n",
      "\tLOS 1: Recall 84.75%\n",
      "\tLOS 2: Recall 69.35%\n",
      "\tLOS 3: Recall 43.57%\n",
      "\tLOS 4: Recall 26.3%\n",
      "\tLOS 5: Recall 44.82%\n",
      "\tLOS 6: Recall 66.63%\n",
      "LINK 6\n",
      "M2 Implementation of RUSBoost\n",
      "\tLOS 1: Recall 83.06%\n",
      "\tLOS 2: Recall 70.15%\n",
      "\tLOS 3: Recall 49.27%\n",
      "\tLOS 4: Recall 47.76%\n",
      "\tLOS 5: Recall 38.26%\n",
      "\tLOS 6: Recall 54.14%\n",
      "LINK 7\n",
      "M2 Implementation of RUSBoost\n",
      "\tLOS 1: Recall 84.93%\n",
      "\tLOS 2: Recall 72.41%\n",
      "\tLOS 3: Recall 44.09%\n",
      "\tLOS 4: Recall 27.68%\n",
      "\tLOS 5: Recall 24.22%\n",
      "\tLOS 6: Recall 52.75%\n",
      "LINK 8\n",
      "M2 Implementation of RUSBoost\n",
      "\tLOS 1: Recall 89.92%\n",
      "\tLOS 2: Recall 64.43%\n",
      "\tLOS 3: Recall 72.24%\n",
      "\tLOS 4: Recall 22.92%\n",
      "\tLOS 5: Recall 34.04%\n",
      "\tLOS 6: Recall 52.9%\n",
      "LINK 9\n",
      "M2 Implementation of RUSBoost\n",
      "\tLOS 1: Recall 88.1%\n",
      "\tLOS 2: Recall 77.32%\n",
      "\tLOS 3: Recall 53.7%\n",
      "\tLOS 4: Recall 48.39%\n",
      "\tLOS 5: Recall 38.59%\n",
      "\tLOS 6: Recall 29.18%\n",
      "LINK 10\n",
      "M2 Implementation of RUSBoost\n",
      "\tLOS 1: Recall 91.42%\n",
      "\tLOS 2: Recall 65.81%\n",
      "\tLOS 3: Recall 32.78%\n",
      "\tLOS 4: Recall 38.53%\n",
      "\tLOS 5: Recall 43.82%\n",
      "\tLOS 6: Recall 61.31%\n"
     ]
    }
   ],
   "source": [
    "print(f'USING PREVIOUS {INPUT_MINUTES_BEFORE}m INFORMATION')\n",
    "for LINK in range(5,11):\n",
    "    print(f\"LINK {LINK}\")\n",
    "    filename = f'{ROOT}/models/RUSBoost_{PREDICTED_MINUTES_AHEAD}m_M2_temp{INPUT_MINUTES_BEFORE}m_link{LINK}.joblib'\n",
    "\n",
    "    other_links = [5,6,7,8,9,10]; other_links.remove(LINK)\n",
    "    training_df_link = training_df.copy()\n",
    "    training_df_link = training_df_link[training_df_link['link_id'] == LINK]\n",
    "\n",
    "    for other_link in other_links:\n",
    "        training_df_link = pd.merge(training_df_link, training_df[training_df['link_id'] == other_link].filter(regex=(\"tt_arr.*\")), on=['date'], how='inner', suffixes=[None, f'_{other_link}'])\n",
    "\n",
    "    model = RUSBoostClassifier_(base_estimator=DecisionTreeClassifier(max_depth=3), n_estimators=60, learning_rate=0.3).fit(training_df_link, \"tt_arr.*\", 'LOS_dep')\n",
    "    joblib.dump(model, filename)\n",
    "\n",
    "    for LOS in range(1,7):\n",
    "        validation_df_link = validation_df[(validation_df['link_id'] == LINK) & (validation_df['LOS_dep'] == LOS)].copy()\n",
    "        for other_link in other_links:\n",
    "            validation_df_link = pd.merge(validation_df_link, validation_df[validation_df['link_id'] == other_link].filter(regex=(\"tt_arr.*\")), on=['date'], how='inner', suffixes=[None, f'_{other_link}'])\n",
    "        X_test = validation_df_link.filter(regex=(\"tt_arr.*\")).values\n",
    "        y_pred = model.predict(X_test)\n",
    "\n",
    "        score = metrics.recall_score([LOS]*len(y_pred), y_pred, average='micro')\n",
    "        print(f\"\\tLOS {LOS}: Recall {round(score*100, 2) }%\")"
   ]
  },
  {
   "cell_type": "markdown",
   "metadata": {
    "id": "SFPlNAf6Lx4j",
    "jp-MarkdownHeadingCollapsed": true,
    "tags": []
   },
   "source": [
    "# **Modified RUSBoost**"
   ]
  },
  {
   "cell_type": "markdown",
   "metadata": {
    "id": "6bhoLHJ_Lx4o",
    "jp-MarkdownHeadingCollapsed": true,
    "tags": []
   },
   "source": [
    "### *Algorithms*"
   ]
  },
  {
   "cell_type": "markdown",
   "metadata": {
    "id": "U6GMHz0WLx4o"
   },
   "source": [
    "**Algorithm implementation M2**"
   ]
  },
  {
   "cell_type": "code",
   "execution_count": 65,
   "metadata": {
    "id": "KYN6IC8LL3Rk"
   },
   "outputs": [],
   "source": [
    "def labelToIndex(cl,clf):\n",
    "    return clf.labelDict[cl]\n",
    "\n",
    "def indexToLabel(i,clf):\n",
    "    return clf.classes[i]\n",
    "\n",
    "class ModifiedRUSBoostClassifier_:\n",
    "    \n",
    "    def __init__(self,base_estimator=None,n_estimators=50,learning_rate=1.0):\n",
    "        print(\"M2 Implementation of MODIFIED RUSBoost\")\n",
    "        self.n_estimators = n_estimators\n",
    "        self.learning_rate = learning_rate\n",
    "        self.models = []\n",
    "        if base_estimator == None:\n",
    "            base_estimator = DecisionTreeClassifier(max_depth=1)\n",
    "        self.base_estimator = base_estimator\n",
    "        self.estimator_errors_ = []\n",
    "        self.observation_weights_ = {}\n",
    "\n",
    "    def fit(self, df: pd.DataFrame, X_columns: str, y_column: str):\n",
    "        \"\"\"\n",
    "        param df: Training dataframe with shape (n_samples, )\n",
    "        param X_columns: pattern matching DataFrame column names that contain the features\n",
    "        param y_column: name of DataFrame column name with the labels\n",
    "        \"\"\"        \n",
    "        \n",
    "        # Class labels mapping to indices\n",
    "        self.createLabelDict(np.unique(df[y_column]))\n",
    "        k = len(self.classes)\n",
    "        # `undersampling_n` elements to sample from each class, equal #samples minority class\n",
    "        undersampling_n = min(df[y_column].value_counts())\n",
    "\n",
    "        # Initialize observation weights as 1/(N*(k-1)) where N is total `n_samples` and k is the number of classes\n",
    "        N = df.shape[0]\n",
    "        B = N*(k-1)\n",
    "        D = {epoch: np.full(k-1,1/B) for epoch in df.index}\n",
    "\n",
    "        # Get whole dataset samples to later calculate the weighting factors on every iteration\n",
    "        X = df.filter(regex=(X_columns)).values\n",
    "        y = df[y_column].values\n",
    "        iTL = np.vectorize(labelToIndex)\n",
    "        y_indices = iTL(y,self)\n",
    "        \n",
    "        # M iterations (#WeakLearners)\n",
    "        for m in range(self.n_estimators):\n",
    "\n",
    "        # 1) Random UnderSampling\n",
    "            df_ = pd.DataFrame()\n",
    "            for label_ in self.classes:\n",
    "                _df_label_ = df[ df[y_column]==label_ ]\n",
    "                if len(_df_label_) <= undersampling_n:\n",
    "                    df_ = pd.concat([ df_, df[ df[y_column]==label_ ] ])\n",
    "                else:\n",
    "                    # Order weights array in decreasing order to select the first `undersampling_n` elements\n",
    "                    _D_ = {epoch: weight for epoch, weight in D.items() if epoch in _df_label_.index}\n",
    "                    _D_ = [epoch for epoch,_ in sorted(_D_.items(), key = lambda x: sum(itemgetter(1)(x)), reverse = True)[:undersampling_n]]\n",
    "                    df_ = pd.concat([ df_, _df_label_.loc[_D_] ])\n",
    "\n",
    "            \n",
    "            # Training data initalization\n",
    "            X_ = df_.filter(regex=(X_columns)).values\n",
    "            y_ = df_[y_column].values\n",
    "            D_ = np.sum([D[epoch] for epoch in df_.index], axis=-1)\n",
    "\n",
    "        # 2) WeakLearner training\n",
    "            Gm = base.clone(self.base_estimator).\\\n",
    "                            fit(X_,y_,sample_weight=D_).predict_proba\n",
    "            self.models.append(Gm)\n",
    "        \n",
    "        # 3) Error-rate computation\n",
    "            predictions_proba = Gm(X)\n",
    "            sum_pseudolosses = 0\n",
    "            for i, epoch in enumerate(D.keys()):\n",
    "                k_index = 0\n",
    "                for cl in range(k):\n",
    "                    if cl != y_indices[i]:\n",
    "                        sum_pseudolosses += D[epoch][k_index]*(1-predictions_proba[i,y_indices[i]]+predictions_proba[i,cl])\n",
    "                        k_index += 1\n",
    "\n",
    "            error = 0.5 * sum_pseudolosses\n",
    "            self.estimator_errors_.append(error)\n",
    "        \n",
    "        # 4) WeakLearner weight for ensemble computation\n",
    "            BetaM = error/(1-error)\n",
    "            self.models[m] = (BetaM,Gm)\n",
    "\n",
    "        # 5) Observation weights update for next iteration with weights normalization\n",
    "            norm_ = 0\n",
    "            for i, epoch in enumerate(D.keys()):\n",
    "                k_index = 0\n",
    "                for cl in range(k):\n",
    "                    if cl != y_indices[i]:\n",
    "                        w_ = 0.5*(1+predictions_proba[i,y_indices[i]]-predictions_proba[i,cl])\n",
    "                        D[epoch][k_index] *= BetaM**(self.learning_rate*w_)\n",
    "                        norm_ += D[epoch][k_index]\n",
    "                        k_index += 1\n",
    "            for epoch in D.keys():\n",
    "                D[epoch] /= norm_\n",
    "\n",
    "        self.observation_weights_ = D\n",
    "        \n",
    "        return self\n",
    "            \n",
    "    def createLabelDict(self,classes):\n",
    "        self.labelDict = {}\n",
    "        self.classes = classes\n",
    "        for i,cl in enumerate(classes):\n",
    "            self.labelDict[cl] = i\n",
    "    \n",
    "    def predict(self,X):\n",
    "        sum_model_hypothesis = np.sum(np.stack([-np.log(Bm)*Gm(X) for Bm,Gm in self.models], axis=-1), axis=-1)\n",
    "        iTL = np.vectorize(indexToLabel)            \n",
    "        return iTL(np.argmax(sum_model_hypothesis,axis=1),self)"
   ]
  },
  {
   "cell_type": "markdown",
   "metadata": {
    "id": "Z8T8KoJtliq5",
    "jp-MarkdownHeadingCollapsed": true,
    "tags": []
   },
   "source": [
    "### **NO FEATURE ENGINEERING M2**"
   ]
  },
  {
   "cell_type": "code",
   "execution_count": 66,
   "metadata": {},
   "outputs": [
    {
     "name": "stdout",
     "output_type": "stream",
     "text": [
      "LINK 5\n",
      "M2 Implementation of MODIFIED RUSBoost\n",
      "\tLOS 1: Recall 95.63%\n",
      "\tLOS 2: Recall 0.0%\n",
      "\tLOS 3: Recall 0.0%\n",
      "\tLOS 4: Recall 10.57%\n",
      "\tLOS 5: Recall 0.0%\n",
      "\tLOS 6: Recall 0.0%\n",
      "LINK 6\n",
      "M2 Implementation of MODIFIED RUSBoost\n",
      "\tLOS 1: Recall 79.47%\n",
      "\tLOS 2: Recall 58.25%\n",
      "\tLOS 3: Recall 4.84%\n",
      "\tLOS 4: Recall 7.61%\n",
      "\tLOS 5: Recall 0.0%\n",
      "\tLOS 6: Recall 0.0%\n",
      "LINK 7\n",
      "M2 Implementation of MODIFIED RUSBoost\n",
      "\tLOS 1: Recall 90.95%\n",
      "\tLOS 2: Recall 0.0%\n",
      "\tLOS 3: Recall 0.0%\n",
      "\tLOS 4: Recall 0.05%\n",
      "\tLOS 5: Recall 0.0%\n",
      "\tLOS 6: Recall 0.0%\n",
      "LINK 8\n",
      "M2 Implementation of MODIFIED RUSBoost\n",
      "\tLOS 1: Recall 88.81%\n",
      "\tLOS 2: Recall 0.0%\n",
      "\tLOS 3: Recall 10.6%\n",
      "\tLOS 4: Recall 40.42%\n",
      "\tLOS 5: Recall 0.0%\n",
      "\tLOS 6: Recall 0.4%\n",
      "LINK 9\n",
      "M2 Implementation of MODIFIED RUSBoost\n",
      "\tLOS 1: Recall 97.57%\n",
      "\tLOS 2: Recall 0.87%\n",
      "\tLOS 3: Recall 0.0%\n",
      "\tLOS 4: Recall 0.0%\n",
      "\tLOS 5: Recall 0.0%\n",
      "\tLOS 6: Recall 0.0%\n",
      "LINK 10\n",
      "M2 Implementation of MODIFIED RUSBoost\n",
      "\tLOS 1: Recall 41.05%\n",
      "\tLOS 2: Recall 69.23%\n",
      "\tLOS 3: Recall 0.0%\n",
      "\tLOS 4: Recall 0.0%\n",
      "\tLOS 5: Recall 23.41%\n",
      "\tLOS 6: Recall 0.0%\n"
     ]
    }
   ],
   "source": [
    "for LINK in range(5,11):\n",
    "    print(f\"LINK {LINK}\")\n",
    "    filename = f'{ROOT}/models/ModifiedRUSBoost_{PREDICTED_MINUTES_AHEAD}m_M2_nofeat_link{LINK}.joblib'\n",
    "\n",
    "    model = ModifiedRUSBoostClassifier_(base_estimator=DecisionTreeClassifier(max_depth=3), n_estimators=60, learning_rate=0.3).fit(training_df[training_df['link_id'] == LINK], \"tt_arr$\", 'LOS_dep')\n",
    "    joblib.dump(model, filename)\n",
    "\n",
    "    for LOS in range(1,7):\n",
    "        X_test = validation_df[(validation_df['link_id'] == LINK) & (validation_df['LOS_dep'] == LOS)]['tt_arr'].values.reshape(-1, 1)\n",
    "        y_pred = model.predict(X_test)\n",
    "\n",
    "        score = metrics.recall_score([LOS]*len(y_pred), y_pred, average='micro')\n",
    "        print(f\"\\tLOS {LOS}: Recall {round(score*100, 2) }%\")"
   ]
  },
  {
   "cell_type": "markdown",
   "metadata": {
    "id": "mc6_lQUSsKiM",
    "jp-MarkdownHeadingCollapsed": true,
    "tags": []
   },
   "source": [
    "### **FEATURE ENGINEERING ADJACENT LINK INFORMATION**"
   ]
  },
  {
   "cell_type": "code",
   "execution_count": 67,
   "metadata": {},
   "outputs": [
    {
     "name": "stdout",
     "output_type": "stream",
     "text": [
      "LINK 5\n",
      "M2 Implementation of MODIFIED RUSBoost\n",
      "\tLOS 1: Recall 95.53%\n",
      "\tLOS 2: Recall 0.0%\n",
      "\tLOS 3: Recall 0.0%\n",
      "\tLOS 4: Recall 0.0%\n",
      "\tLOS 5: Recall 0.0%\n",
      "\tLOS 6: Recall 0.0%\n",
      "LINK 6\n",
      "M2 Implementation of MODIFIED RUSBoost\n",
      "\tLOS 1: Recall 19.14%\n",
      "\tLOS 2: Recall 66.64%\n",
      "\tLOS 3: Recall 79.01%\n",
      "\tLOS 4: Recall 0.04%\n",
      "\tLOS 5: Recall 45.01%\n",
      "\tLOS 6: Recall 0.0%\n",
      "LINK 7\n",
      "M2 Implementation of MODIFIED RUSBoost\n",
      "\tLOS 1: Recall 34.57%\n",
      "\tLOS 2: Recall 23.95%\n",
      "\tLOS 3: Recall 35.74%\n",
      "\tLOS 4: Recall 61.19%\n",
      "\tLOS 5: Recall 45.7%\n",
      "\tLOS 6: Recall 0.0%\n",
      "LINK 8\n",
      "M2 Implementation of MODIFIED RUSBoost\n",
      "\tLOS 1: Recall 97.08%\n",
      "\tLOS 2: Recall 0.31%\n",
      "\tLOS 3: Recall 0.0%\n",
      "\tLOS 4: Recall 0.0%\n",
      "\tLOS 5: Recall 0.0%\n",
      "\tLOS 6: Recall 0.0%\n",
      "LINK 9\n",
      "M2 Implementation of MODIFIED RUSBoost\n",
      "\tLOS 1: Recall 40.96%\n",
      "\tLOS 2: Recall 32.28%\n",
      "\tLOS 3: Recall 14.48%\n",
      "\tLOS 4: Recall 9.47%\n",
      "\tLOS 5: Recall 1.16%\n",
      "\tLOS 6: Recall 0.0%\n",
      "LINK 10\n",
      "M2 Implementation of MODIFIED RUSBoost\n",
      "\tLOS 1: Recall 77.47%\n",
      "\tLOS 2: Recall 0.0%\n",
      "\tLOS 3: Recall 0.0%\n",
      "\tLOS 4: Recall 6.16%\n",
      "\tLOS 5: Recall 0.6%\n",
      "\tLOS 6: Recall 2.6%\n"
     ]
    }
   ],
   "source": [
    "for LINK in range(5,11):\n",
    "    print(f\"LINK {LINK}\")\n",
    "    filename = f'{ROOT}/models/ModifiedRUSBoost_{PREDICTED_MINUTES_AHEAD}m_M2_adjacent_linkm_link{LINK}.joblib'\n",
    "\n",
    "    other_links = [5,6,7,8,9,10]; other_links.remove(LINK)\n",
    "    training_df_link = training_df.copy()\n",
    "    training_df_link = training_df_link[training_df_link['link_id'] == LINK]\n",
    "\n",
    "    for other_link in other_links:\n",
    "        training_df_link = pd.merge(training_df_link, training_df[training_df['link_id'] == other_link].filter(regex=(\"tt_ar[^-]+$\")), on=['date'], how='inner', suffixes=[None, f'_{other_link}'])\n",
    "\n",
    "    model = ModifiedRUSBoostClassifier_(base_estimator=DecisionTreeClassifier(max_depth=3), n_estimators=60, learning_rate=0.3).fit(training_df_link, \"tt_ar[^-]+$\", 'LOS_dep')\n",
    "    joblib.dump(model, filename)\n",
    "\n",
    "    for LOS in range(1,7):\n",
    "        validation_df_link = validation_df[(validation_df['link_id'] == LINK) & (validation_df['LOS_dep'] == LOS)].copy()\n",
    "        for other_link in other_links:\n",
    "            validation_df_link = pd.merge(validation_df_link, validation_df[validation_df['link_id'] == other_link].filter(regex=(\"tt_ar[^-]+$\")), on=['date'], how='inner', suffixes=[None, f'_{other_link}'])\n",
    "        X_test = validation_df_link.filter(regex=(\"tt_ar[^-]+$\")).values\n",
    "        y_pred = model.predict(X_test)\n",
    "\n",
    "        score = metrics.recall_score([LOS]*len(y_pred), y_pred, average='micro')\n",
    "        print(f\"\\tLOS {LOS}: Recall {round(score*100, 2) }%\")"
   ]
  },
  {
   "cell_type": "markdown",
   "metadata": {
    "id": "EizvT4LFMHFt",
    "jp-MarkdownHeadingCollapsed": true,
    "tags": []
   },
   "source": [
    "### **FEATURE ENGINEERING ADJACENT LINK INFORMATION + TEMPORAL INFORMATION (UP TO PREVIOUS 45MIN)**"
   ]
  },
  {
   "cell_type": "markdown",
   "metadata": {
    "id": "aXU1_hUvMHFu"
   },
   "source": [
    "*Features creation*\n",
    "\n",
    "For each link, the tt_arrival of the other links, covering the previous 50min from prediction time, are added as features. Therefore we will be using 60 features in total as maximum."
   ]
  },
  {
   "cell_type": "code",
   "execution_count": 68,
   "metadata": {
    "id": "pyAilkmPMMPb"
   },
   "outputs": [
    {
     "name": "stdout",
     "output_type": "stream",
     "text": [
      "USING PREVIOUS 45m INFORMATION\n",
      "LINK 5\n",
      "M2 Implementation of MODIFIED RUSBoost\n",
      "\tLOS 1: Recall 78.39%\n",
      "\tLOS 2: Recall 37.79%\n",
      "\tLOS 3: Recall 22.88%\n",
      "\tLOS 4: Recall 48.99%\n",
      "\tLOS 5: Recall 0.0%\n",
      "\tLOS 6: Recall 0.0%\n",
      "LINK 6\n",
      "M2 Implementation of MODIFIED RUSBoost\n",
      "\tLOS 1: Recall 72.05%\n",
      "\tLOS 2: Recall 0.43%\n",
      "\tLOS 3: Recall 92.6%\n",
      "\tLOS 4: Recall 0.82%\n",
      "\tLOS 5: Recall 44.83%\n",
      "\tLOS 6: Recall 0.0%\n",
      "LINK 7\n",
      "M2 Implementation of MODIFIED RUSBoost\n",
      "\tLOS 1: Recall 57.85%\n",
      "\tLOS 2: Recall 0.11%\n",
      "\tLOS 3: Recall 96.02%\n",
      "\tLOS 4: Recall 1.44%\n",
      "\tLOS 5: Recall 0.74%\n",
      "\tLOS 6: Recall 6.28%\n",
      "LINK 8\n",
      "M2 Implementation of MODIFIED RUSBoost\n",
      "\tLOS 1: Recall 86.54%\n",
      "\tLOS 2: Recall 0.04%\n",
      "\tLOS 3: Recall 0.11%\n",
      "\tLOS 4: Recall 0.0%\n",
      "\tLOS 5: Recall 0.0%\n",
      "\tLOS 6: Recall 0.0%\n",
      "LINK 9\n",
      "M2 Implementation of MODIFIED RUSBoost\n",
      "\tLOS 1: Recall 52.63%\n",
      "\tLOS 2: Recall 21.05%\n",
      "\tLOS 3: Recall 35.44%\n",
      "\tLOS 4: Recall 27.57%\n",
      "\tLOS 5: Recall 36.8%\n",
      "\tLOS 6: Recall 0.0%\n",
      "LINK 10\n",
      "M2 Implementation of MODIFIED RUSBoost\n",
      "\tLOS 1: Recall 96.25%\n",
      "\tLOS 2: Recall 58.74%\n",
      "\tLOS 3: Recall 50.14%\n",
      "\tLOS 4: Recall 5.47%\n",
      "\tLOS 5: Recall 42.96%\n",
      "\tLOS 6: Recall 0.58%\n"
     ]
    }
   ],
   "source": [
    "print(f'USING PREVIOUS {INPUT_MINUTES_BEFORE}m INFORMATION')\n",
    "for LINK in range(5,11):\n",
    "    print(f\"LINK {LINK}\")\n",
    "    filename = f'{ROOT}/models/ModifiedRUSBoost_{PREDICTED_MINUTES_AHEAD}m_M2_temp{INPUT_MINUTES_BEFORE}m_link{LINK}.joblib'\n",
    "\n",
    "    other_links = [5,6,7,8,9,10]; other_links.remove(LINK)\n",
    "    training_df_link = training_df.copy()\n",
    "    training_df_link = training_df_link[training_df_link['link_id'] == LINK]\n",
    "\n",
    "    for other_link in other_links:\n",
    "        training_df_link = pd.merge(training_df_link, training_df[training_df['link_id'] == other_link].filter(regex=(\"tt_arr.*\")), on=['date'], how='inner', suffixes=[None, f'_{other_link}'])\n",
    "\n",
    "    model = ModifiedRUSBoostClassifier_(base_estimator=DecisionTreeClassifier(max_depth=3), n_estimators=60, learning_rate=0.3).fit(training_df_link, \"tt_arr.*\", 'LOS_dep')\n",
    "    joblib.dump(model, filename)\n",
    "\n",
    "    for LOS in range(1,7):\n",
    "        validation_df_link = validation_df[(validation_df['link_id'] == LINK) & (validation_df['LOS_dep'] == LOS)].copy()\n",
    "        for other_link in other_links:\n",
    "            validation_df_link = pd.merge(validation_df_link, validation_df[validation_df['link_id'] == other_link].filter(regex=(\"tt_arr.*\")), on=['date'], how='inner', suffixes=[None, f'_{other_link}'])\n",
    "        X_test = validation_df_link.filter(regex=(\"tt_arr.*\")).values\n",
    "        y_pred = model.predict(X_test)\n",
    "\n",
    "        score = metrics.recall_score([LOS]*len(y_pred), y_pred, average='micro')\n",
    "        print(f\"\\tLOS {LOS}: Recall {round(score*100, 2) }%\")"
   ]
  },
  {
   "cell_type": "markdown",
   "metadata": {
    "id": "YdG4O3Ww2eoi",
    "tags": []
   },
   "source": [
    "# **LSTM**"
   ]
  },
  {
   "cell_type": "markdown",
   "metadata": {
    "id": "J_97Az6Ddwtq"
   },
   "source": [
    "Chosen number of LSTM units equal to number of classes to directly obtain number of classes predictions, and attach a same dimensionality Dense layer that combines each class prediction. This can be useful to compensate for possible class imbalance. https://tung2389.github.io/coding-note/unitslstm"
   ]
  },
  {
   "cell_type": "markdown",
   "metadata": {
    "id": "kXrhCdD6piR8",
    "jp-MarkdownHeadingCollapsed": true,
    "tags": []
   },
   "source": [
    "### **NO FEATURE ENGINEERING**"
   ]
  },
  {
   "cell_type": "markdown",
   "metadata": {
    "id": "CvVzUnHs7h8s"
   },
   "source": [
    "**TRAIN or LOAD switch**"
   ]
  },
  {
   "cell_type": "code",
   "execution_count": 5,
   "metadata": {
    "id": "H0SB66O57h9M"
   },
   "outputs": [],
   "source": [
    "train_again = False"
   ]
  },
  {
   "cell_type": "code",
   "execution_count": 6,
   "metadata": {
    "colab": {
     "base_uri": "https://localhost:8080/"
    },
    "id": "mA1Q8r2Apjki",
    "outputId": "5fdfac78-1485-4219-98d4-06b966e7b141"
   },
   "outputs": [
    {
     "name": "stdout",
     "output_type": "stream",
     "text": [
      "LINK 5\n",
      "17717/17717 [==============================] - 57s 3ms/step\n",
      "\tLOS 1: Recall 97.24%\n",
      "2564/2564 [==============================] - 9s 3ms/step\n",
      "\tLOS 2: Recall 45.53%\n",
      "1646/1646 [==============================] - 6s 4ms/step\n",
      "\tLOS 3: Recall 45.89%\n",
      "635/635 [==============================] - 2s 3ms/step\n",
      "\tLOS 4: Recall 19.5%\n",
      "322/322 [==============================] - 1s 3ms/step\n",
      "\tLOS 5: Recall 22.7%\n",
      "247/247 [==============================] - 1s 4ms/step\n",
      "\tLOS 6: Recall 63.39%\n",
      "LINK 6\n",
      "19746/19746 [==============================] - 62s 3ms/step\n",
      "\tLOS 1: Recall 98.55%\n",
      "1299/1299 [==============================] - 5s 3ms/step\n",
      "\tLOS 2: Recall 18.82%\n",
      "1465/1465 [==============================] - 5s 3ms/step\n",
      "\tLOS 3: Recall 70.24%\n",
      "425/425 [==============================] - 1s 3ms/step\n",
      "\tLOS 4: Recall 13.54%\n",
      "142/142 [==============================] - 0s 3ms/step\n",
      "\tLOS 5: Recall 20.9%\n",
      "54/54 [==============================] - 0s 3ms/step\n",
      "\tLOS 6: Recall 33.31%\n",
      "LINK 7\n",
      "19655/19655 [==============================] - 63s 3ms/step\n",
      "\tLOS 1: Recall 98.29%\n",
      "1943/1943 [==============================] - 7s 3ms/step\n",
      "\tLOS 2: Recall 36.76%\n",
      "1200/1200 [==============================] - 4s 3ms/step\n",
      "\tLOS 3: Recall 62.06%\n",
      "229/229 [==============================] - 1s 3ms/step\n",
      "\tLOS 4: Recall 4.61%\n",
      "81/81 [==============================] - 0s 3ms/step\n",
      "\tLOS 5: Recall 4.5%\n",
      "24/24 [==============================] - 0s 3ms/step\n",
      "\tLOS 6: Recall 17.54%\n",
      "LINK 8\n",
      "21741/21741 [==============================] - 71s 3ms/step\n",
      "\tLOS 1: Recall 99.57%\n",
      "408/408 [==============================] - 1s 3ms/step\n",
      "\tLOS 2: Recall 23.39%\n",
      "659/659 [==============================] - 2s 3ms/step\n",
      "\tLOS 3: Recall 72.05%\n",
      "176/176 [==============================] - 0s 3ms/step\n",
      "\tLOS 4: Recall 18.14%\n",
      "75/75 [==============================] - 0s 3ms/step\n",
      "\tLOS 5: Recall 7.96%\n",
      "72/72 [==============================] - 0s 3ms/step\n",
      "\tLOS 6: Recall 52.46%\n",
      "LINK 9\n",
      "20036/20036 [==============================] - 53s 3ms/step\n",
      "\tLOS 1: Recall 97.65%\n",
      "2461/2461 [==============================] - 7s 3ms/step\n",
      "\tLOS 2: Recall 62.57%\n",
      "521/521 [==============================] - 1s 3ms/step\n",
      "\tLOS 3: Recall 34.01%\n",
      "72/72 [==============================] - 0s 3ms/step\n",
      "\tLOS 4: Recall 22.16%\n",
      "30/30 [==============================] - 0s 3ms/step\n",
      "\tLOS 5: Recall 4.84%\n",
      "12/12 [==============================] - 0s 3ms/step\n",
      "\tLOS 6: Recall 1.42%\n",
      "LINK 10\n",
      "21212/21212 [==============================] - 59s 3ms/step\n",
      "\tLOS 1: Recall 99.33%\n",
      "673/673 [==============================] - 2s 3ms/step\n",
      "\tLOS 2: Recall 14.07%\n",
      "458/458 [==============================] - 1s 3ms/step\n",
      "\tLOS 3: Recall 32.24%\n",
      "338/338 [==============================] - 1s 3ms/step\n",
      "\tLOS 4: Recall 43.9%\n",
      "283/283 [==============================] - 1s 3ms/step\n",
      "\tLOS 5: Recall 44.08%\n",
      "168/168 [==============================] - 0s 3ms/step\n",
      "\tLOS 6: Recall 56.77%\n"
     ]
    }
   ],
   "source": [
    "for LINK in range(5,11):\n",
    "    print(f\"LINK {LINK}\")\n",
    "    \n",
    "    X = training_df[training_df['link_id'] == LINK].filter(regex=(\"tt_arr.*\")).values\n",
    "    #Correctly order the sequence [X(t-N),...,X(t)]\n",
    "    X = np.flip(X, 1)\n",
    "    # Min-Max Scaling\n",
    "    sc = preprocessing.MinMaxScaler().fit(np.array([[X[:,-1].max()]*X.shape[1], [X[:,-1].min()]*X.shape[1]]))\n",
    "    \n",
    "    y = training_df[training_df['link_id'] == LINK]['LOS_dep'].values\n",
    "    y = np.expand_dims(y, axis=1)\n",
    "\n",
    "    onehot_encoder = preprocessing.OneHotEncoder()\n",
    "    y = onehot_encoder.fit_transform(y).toarray()\n",
    "    \n",
    "    if train_again:\n",
    "        X = sc.transform(X)\n",
    "        X = np.expand_dims(X, axis=2)\n",
    "\n",
    "        # build the model\n",
    "        num_features = X.shape[2]\n",
    "        num_out = y.shape[1]\n",
    "\n",
    "        model = keras.models.Sequential()\n",
    "\n",
    "        model.add(keras.layers.LSTM(\n",
    "                input_shape=(int(INPUT_MINUTES_BEFORE/5)+1, num_features),\n",
    "                units=64-num_features,\n",
    "                return_sequences=False))\n",
    "        model.add(keras.layers.Dropout(0.2))\n",
    "\n",
    "        model.add(keras.layers.Dense(units=num_out, activation='softmax'))\n",
    "\n",
    "        model.compile(loss='categorical_crossentropy', optimizer='adam', metrics=['accuracy'])\n",
    "\n",
    "        model.fit(X, y, epochs=10, batch_size=256, validation_split=0, verbose=0)\n",
    "\n",
    "        model.save(f'{ROOT}/models/LSTM_{PREDICTED_MINUTES_AHEAD}m_horizon_{INPUT_MINUTES_BEFORE}m_nofeat_link{LINK}.h5')\n",
    "    \n",
    "    else:\n",
    "        model = keras.models.load_model(f'{ROOT}/models/LSTM_{PREDICTED_MINUTES_AHEAD}m_horizon_{INPUT_MINUTES_BEFORE}m_nofeat_link{LINK}.h5')\n",
    "    \n",
    "    for LOS in range(1,7):\n",
    "        X_test = sc.transform( validation_df[(validation_df['link_id'] == LINK) & (validation_df['LOS_dep'] == LOS)].filter(regex=(\"tt_arr.*\")).values )\n",
    "        X_test = np.flip(X_test, 1)\n",
    "        X_test = np.expand_dims(X_test, axis=2)\n",
    "        y_pred = model.predict(X_test)\n",
    "        y_pred = onehot_encoder.inverse_transform(y_pred)\n",
    "\n",
    "        score = metrics.recall_score([LOS]*len(y_pred), y_pred, average='micro')\n",
    "        print(f\"\\tLOS {LOS}: Recall {round(score*100, 2) }%\")\n",
    "\n",
    "    del model\n",
    "    gc.collect()"
   ]
  },
  {
   "cell_type": "markdown",
   "metadata": {
    "id": "v4hiITcW2eoj"
   },
   "source": [
    "### **FEATURE ENGINEERING ADJACENT LINK INFORMATION**"
   ]
  },
  {
   "cell_type": "markdown",
   "metadata": {
    "id": "8fYb-uhw60Gr"
   },
   "source": [
    "**TRAIN or LOAD switch**"
   ]
  },
  {
   "cell_type": "code",
   "execution_count": 4,
   "metadata": {
    "id": "R_QtgDIsA2nY"
   },
   "outputs": [],
   "source": [
    "train_again = False"
   ]
  },
  {
   "cell_type": "code",
   "execution_count": 5,
   "metadata": {
    "colab": {
     "base_uri": "https://localhost:8080/"
    },
    "id": "yoXuuTvqA-l9",
    "outputId": "d4157ab8-acf7-4814-962c-1eb17511a098"
   },
   "outputs": [
    {
     "name": "stdout",
     "output_type": "stream",
     "text": [
      "LINK 5\n",
      "17717/17717 [==============================] - 52s 3ms/step\n",
      "\tLOS 1: Recall 96.03%\n",
      "2564/2564 [==============================] - 8s 3ms/step\n",
      "\tLOS 2: Recall 36.78%\n",
      "1646/1646 [==============================] - 5s 3ms/step\n",
      "\tLOS 3: Recall 41.88%\n",
      "635/635 [==============================] - 2s 3ms/step\n",
      "\tLOS 4: Recall 15.46%\n",
      "322/322 [==============================] - 1s 3ms/step\n",
      "\tLOS 5: Recall 25.99%\n",
      "247/247 [==============================] - 1s 3ms/step\n",
      "\tLOS 6: Recall 56.42%\n",
      "LINK 6\n",
      "19746/19746 [==============================] - 59s 3ms/step\n",
      "\tLOS 1: Recall 98.53%\n",
      "1299/1299 [==============================] - 4s 3ms/step\n",
      "\tLOS 2: Recall 15.74%\n",
      "1465/1465 [==============================] - 4s 3ms/step\n",
      "\tLOS 3: Recall 72.09%\n",
      "425/425 [==============================] - 1s 3ms/step\n",
      "\tLOS 4: Recall 23.88%\n",
      "142/142 [==============================] - 0s 3ms/step\n",
      "\tLOS 5: Recall 20.93%\n",
      "54/54 [==============================] - 0s 3ms/step\n",
      "\tLOS 6: Recall 27.77%\n",
      "LINK 7\n",
      "19655/19655 [==============================] - 59s 3ms/step\n",
      "\tLOS 1: Recall 98.25%\n",
      "1943/1943 [==============================] - 6s 3ms/step\n",
      "\tLOS 2: Recall 40.16%\n",
      "1200/1200 [==============================] - 4s 3ms/step\n",
      "\tLOS 3: Recall 59.09%\n",
      "229/229 [==============================] - 1s 3ms/step\n",
      "\tLOS 4: Recall 2.36%\n",
      "81/81 [==============================] - 0s 3ms/step\n",
      "\tLOS 5: Recall 6.94%\n",
      "24/24 [==============================] - 0s 3ms/step\n",
      "\tLOS 6: Recall 7.46%\n",
      "LINK 8\n",
      "21741/21741 [==============================] - 65s 3ms/step\n",
      "\tLOS 1: Recall 98.93%\n",
      "408/408 [==============================] - 1s 3ms/step\n",
      "\tLOS 2: Recall 22.36%\n",
      "659/659 [==============================] - 2s 3ms/step\n",
      "\tLOS 3: Recall 75.96%\n",
      "176/176 [==============================] - 1s 3ms/step\n",
      "\tLOS 4: Recall 15.95%\n",
      "75/75 [==============================] - 0s 3ms/step\n",
      "\tLOS 5: Recall 14.71%\n",
      "72/72 [==============================] - 0s 3ms/step\n",
      "\tLOS 6: Recall 52.86%\n",
      "LINK 9\n",
      "20036/20036 [==============================] - 60s 3ms/step\n",
      "\tLOS 1: Recall 97.56%\n",
      "2461/2461 [==============================] - 7s 3ms/step\n",
      "\tLOS 2: Recall 63.29%\n",
      "521/521 [==============================] - 2s 3ms/step\n",
      "\tLOS 3: Recall 39.14%\n",
      "72/72 [==============================] - 0s 3ms/step\n",
      "\tLOS 4: Recall 25.0%\n",
      "30/30 [==============================] - 0s 3ms/step\n",
      "\tLOS 5: Recall 5.78%\n",
      "12/12 [==============================] - 0s 3ms/step\n",
      "\tLOS 6: Recall 0.0%\n",
      "LINK 10\n",
      "21212/21212 [==============================] - 64s 3ms/step\n",
      "\tLOS 1: Recall 99.35%\n",
      "673/673 [==============================] - 2s 3ms/step\n",
      "\tLOS 2: Recall 14.19%\n",
      "458/458 [==============================] - 1s 3ms/step\n",
      "\tLOS 3: Recall 38.6%\n",
      "338/338 [==============================] - 1s 3ms/step\n",
      "\tLOS 4: Recall 35.37%\n",
      "283/283 [==============================] - 1s 3ms/step\n",
      "\tLOS 5: Recall 41.88%\n",
      "168/168 [==============================] - 0s 3ms/step\n",
      "\tLOS 6: Recall 57.72%\n"
     ]
    }
   ],
   "source": [
    "for LINK in range(5,11):\n",
    "    print(f\"LINK {LINK}\")\n",
    "    other_links = [5,6,7,8,9,10]; other_links.remove(LINK)\n",
    "\n",
    "    X = training_df[training_df['link_id'] == LINK].filter(regex=(\"tt_arr.*\")).values\n",
    "    # Min-Max Scaling per Link\n",
    "    sc = {}\n",
    "    sc[LINK] = preprocessing.MinMaxScaler().fit(np.array([[X[:,0].max()]*X.shape[1], [X[:,0].min()]*X.shape[1]]))\n",
    "    X = sc[LINK].transform(X)\n",
    "    X = np.expand_dims(X, axis=2)\n",
    "\n",
    "    for other_link in other_links:\n",
    "        temp = training_df[training_df['link_id'] == other_link].filter(regex=(\"tt_arr.*\")).values\n",
    "        sc[other_link] = preprocessing.MinMaxScaler().fit(np.array([[temp[:,0].max()]*temp.shape[1], [temp[:,0].min()]*temp.shape[1]]))\n",
    "        temp = sc[other_link].transform(temp)\n",
    "        X = np.concatenate( (X, np.expand_dims(temp, axis=2)) , axis=2)\n",
    "    #Correctly order the sequence [X(t-N),...,X(t)]\n",
    "    X = np.flip(X, 1)\n",
    "    \n",
    "    y = training_df[training_df['link_id'] == LINK]['LOS_dep'].values\n",
    "    y = np.expand_dims(y, axis=1)\n",
    "\n",
    "    onehot_encoder = preprocessing.OneHotEncoder()\n",
    "    y = onehot_encoder.fit_transform(y).toarray()\n",
    "        \n",
    "    if train_again:\n",
    "        # build the model\n",
    "        num_features = X.shape[2]\n",
    "        num_out = y.shape[1]\n",
    "\n",
    "        model = keras.models.Sequential()\n",
    "\n",
    "        model.add(keras.layers.LSTM(\n",
    "                input_shape=(int(INPUT_MINUTES_BEFORE/5)+1, num_features),\n",
    "                units=64-num_features,\n",
    "                return_sequences=False))\n",
    "        model.add(keras.layers.Dropout(0.2))\n",
    "\n",
    "        model.add(keras.layers.Dense(units=num_out, activation='softmax'))\n",
    "\n",
    "        model.compile(loss='categorical_crossentropy', optimizer='adam', metrics=['accuracy'])\n",
    "\n",
    "        model.fit(X, y, epochs=10, batch_size=256, validation_split=0, verbose=0)\n",
    "\n",
    "        model.save(f'{ROOT}/models/LSTM_{PREDICTED_MINUTES_AHEAD}m_horizon_{INPUT_MINUTES_BEFORE}m_adjacent_link{LINK}.h5')\n",
    "    \n",
    "    else:\n",
    "        model = keras.models.load_model(f'{ROOT}/models/LSTM_{PREDICTED_MINUTES_AHEAD}m_horizon_{INPUT_MINUTES_BEFORE}m_adjacent_link{LINK}.h5')\n",
    "    \n",
    "    for LOS in range(1,7):\n",
    "        df_test = validation_df[(validation_df['link_id'] == LINK) & (validation_df['LOS_dep'] == LOS)].filter(regex=(\"tt_arr.*\"))\n",
    "        X_test = sc[LINK].transform( df_test.values )\n",
    "        X_test = np.expand_dims(X_test, axis=2)\n",
    "\n",
    "        for other_link in other_links:\n",
    "            temp = validation_df[validation_df['link_id'] == other_link].join(df_test['tt_arr'], how='inner', rsuffix=f'%' ).filter(regex=\"tt_ar.*[^%]$\").values\n",
    "            temp = sc[other_link].transform(temp)\n",
    "            X_test = np.concatenate( (X_test, np.expand_dims(temp, axis=2)) , axis=2)\n",
    "        X_test = np.flip(X_test, 1)\n",
    "        y_pred = model.predict(X_test)\n",
    "        y_pred = onehot_encoder.inverse_transform(y_pred)\n",
    "\n",
    "        score = metrics.recall_score([LOS]*len(y_pred), y_pred, average='micro')\n",
    "        print(f\"\\tLOS {LOS}: Recall {round(score*100, 2) }%\")\n",
    "\n",
    "    del model\n",
    "    gc.collect()"
   ]
  },
  {
   "cell_type": "markdown",
   "metadata": {
    "id": "Xl4PkY479EXD"
   },
   "source": [
    "### **FEATURE ENGINEERING CLASS BALANCING BY RUS**"
   ]
  },
  {
   "cell_type": "markdown",
   "metadata": {
    "id": "OPv4d6drm3P9"
   },
   "source": [
    "https://machinelearningmastery.com/gentle-introduction-mini-batch-gradient-descent-configure-batch-size/\n",
    "Stochastic Gradient descent increases variance but avoids local minima. A Boosting of high variance LSTM can reduce this variance."
   ]
  },
  {
   "cell_type": "markdown",
   "metadata": {
    "id": "LOIbBK0pdwtr",
    "tags": []
   },
   "source": [
    "# **LSTM Stacked**"
   ]
  },
  {
   "cell_type": "markdown",
   "metadata": {
    "id": "qFUkrQCIdwtr"
   },
   "source": [
    "Determine number of hidden units in first LSTM (don't want to sparse the hidden units space much more than the features space)\n",
    "units = highestPowerof2(num_features+1)"
   ]
  },
  {
   "cell_type": "code",
   "execution_count": null,
   "metadata": {
    "id": "j5ZkoH8ydwtr"
   },
   "outputs": [],
   "source": [
    "def highestPowerof2(n):\n",
    "    for i in range(n, 0, -1):\n",
    "        if ((i & (i - 1)) == 0): return i;"
   ]
  },
  {
   "cell_type": "markdown",
   "metadata": {
    "id": "S-XBUKOydwtr"
   },
   "source": [
    "## **NO FEATURE ENGINEERING**"
   ]
  },
  {
   "cell_type": "markdown",
   "metadata": {
    "id": "i_mfCQI7dwtr"
   },
   "source": [
    "**TRAIN or LOAD switch**"
   ]
  },
  {
   "cell_type": "code",
   "execution_count": null,
   "metadata": {
    "id": "tMh1maWQdwtr"
   },
   "outputs": [],
   "source": [
    "train_again = False"
   ]
  },
  {
   "cell_type": "code",
   "execution_count": null,
   "metadata": {
    "id": "WMuXd4TIdwtr"
   },
   "outputs": [],
   "source": [
    "for LINK in range(5,11):\n",
    "    print(f\"LINK {LINK}\")\n",
    "    \n",
    "    X = training_df[training_df['link_id'] == LINK].filter(regex=(\"tt_arr.*\")).values\n",
    "    # Min-Max Scaling\n",
    "    sc = preprocessing.MinMaxScaler().fit(np.array([[X[:,0].max()]*X.shape[1], [X[:,0].min()]*X.shape[1]]))\n",
    "    \n",
    "    if train_again:\n",
    "        X = sc.transform(X)\n",
    "        X = np.expand_dims(X, axis=2)\n",
    "        print(f'Size of training data array {X.shape}')\n",
    "        y = training_df[training_df['link_id'] == LINK]['LOS_dep'].values\n",
    "        y = np.expand_dims(y, axis=1)\n",
    "        \n",
    "        onehot_encoder = preprocessing.OneHotEncoder()\n",
    "        y = onehot_encoder.fit_transform(y).toarray()\n",
    "        print(f'Size of training labels {y.shape}')\n",
    "\n",
    "        # build the model\n",
    "        num_features = X.shape[2]\n",
    "        num_out = y.shape[1]\n",
    "\n",
    "        model = keras.models.Sequential()\n",
    "\n",
    "        model.add(keras.layers.LSTM(\n",
    "                input_shape=(int(INPUT_MINUTES_BEFORE/5)+1, num_features),\n",
    "                units=highestPowerof2(num_features+1),\n",
    "                return_sequences=True))\n",
    "        model.add(keras.layers.Dropout(0.2))\n",
    "\n",
    "        model.add(keras.layers.LSTM(\n",
    "                units=num_out,\n",
    "                return_sequences=False))\n",
    "        model.add(keras.layers.Dropout(0.2))\n",
    "\n",
    "        model.add(keras.layers.Dense(units=num_out, activation='softmax'))\n",
    "\n",
    "        model.compile(loss='categorical_crossentropy', optimizer='adam', metrics=['accuracy'])\n",
    "\n",
    "        model.fit(X, y, epochs=10, batch_size=500, validation_split=0, verbose=0)\n",
    "\n",
    "        model.save(f'{ROOT}/models/LSTM_Stacked_{PREDICTED_MINUTES_AHEAD}m_horizon_{INPUT_MINUTES_BEFORE}m_nofeat_link{LINK}.h5')\n",
    "    \n",
    "    else:\n",
    "        model = keras.models.load_model(f'{ROOT}/models/LSTM_Stacked_{PREDICTED_MINUTES_AHEAD}m_horizon_{INPUT_MINUTES_BEFORE}m_nofeat_link{LINK}.h5')\n",
    "    \n",
    "    for LOS in range(1,7):\n",
    "        X_test = sc.transform( validation_df[(validation_df['link_id'] == LINK) & (validation_df['LOS_dep'] == LOS)].filter(regex=(\"tt_arr.*\")).values )\n",
    "        X_test = np.expand_dims(X_test, axis=2)\n",
    "        y_pred = model.predict(X_test)\n",
    "        y_pred = onehot_encoder.inverse_transform(y_pred)\n",
    "\n",
    "        score = metrics.recall_score([LOS]*len(y_pred), y_pred, average='micro')\n",
    "        print(f\"\\tLOS {LOS}: Recall {round(score*100, 2) }%\")\n",
    "\n",
    "    del model\n",
    "    gc.collect()"
   ]
  },
  {
   "cell_type": "markdown",
   "metadata": {
    "id": "CSV6kOdGdwtr"
   },
   "source": [
    "### **FEATURE ENGINEERING ADJACENT LINK INFORMATION**"
   ]
  },
  {
   "cell_type": "markdown",
   "metadata": {
    "id": "51kHKIKjdwtr"
   },
   "source": [
    "**TRAIN or LOAD switch**"
   ]
  },
  {
   "cell_type": "code",
   "execution_count": null,
   "metadata": {
    "id": "XjfBKxitdwtr"
   },
   "outputs": [],
   "source": [
    "train_again = False"
   ]
  },
  {
   "cell_type": "code",
   "execution_count": null,
   "metadata": {
    "id": "JFUBi3K9dwts"
   },
   "outputs": [],
   "source": [
    "for LINK in range(5,11):\n",
    "    print(f\"LINK {LINK}\")\n",
    "    other_links = [5,6,7,8,9,10]; other_links.remove(LINK)\n",
    "\n",
    "    X = training_df[training_df['link_id'] == LINK].filter(regex=(\"tt_arr.*\")).values\n",
    "    # Min-Max Scaling per Link\n",
    "    sc = {}\n",
    "    sc[LINK] = preprocessing.MinMaxScaler().fit(np.array([[X[:,0].max()]*X.shape[1], [X[:,0].min()]*X.shape[1]]))\n",
    "    X = sc[LINK].transform(X)\n",
    "    X = np.expand_dims(X, axis=2)\n",
    "\n",
    "    for other_link in other_links:\n",
    "        temp = training_df[training_df['link_id'] == other_link].filter(regex=(\"tt_arr.*\")).values\n",
    "        sc[other_link] = preprocessing.MinMaxScaler().fit(np.array([[temp[:,0].max()]*temp.shape[1], [temp[:,0].min()]*temp.shape[1]]))\n",
    "        temp = sc[other_link].transform(temp)\n",
    "        X = np.concatenate( (X, np.expand_dims(temp, axis=2)) , axis=2)\n",
    "        \n",
    "    if train_again:\n",
    "        print(f'Size of training data array {X.shape}')\n",
    "        y = training_df[training_df['link_id'] == LINK]['LOS_dep'].values\n",
    "        y = np.expand_dims(y, axis=1)\n",
    "        \n",
    "        onehot_encoder = preprocessing.OneHotEncoder()\n",
    "        y = onehot_encoder.fit_transform(y).toarray()\n",
    "        print(f'Size of training labels {y.shape}')\n",
    "\n",
    "        # build the model\n",
    "        num_features = X.shape[2]\n",
    "        num_out = y.shape[1]\n",
    "\n",
    "        model = keras.models.Sequential()\n",
    "        \n",
    "        model.add(keras.layers.LSTM(\n",
    "                input_shape=(int(INPUT_MINUTES_BEFORE/5)+1, num_features),\n",
    "                units=highestPowerof2(num_features+1),\n",
    "                return_sequences=True))\n",
    "        model.add(keras.layers.Dropout(0.2))\n",
    "\n",
    "        model.add(keras.layers.LSTM(\n",
    "                units=num_out,\n",
    "                return_sequences=False))\n",
    "        model.add(keras.layers.Dropout(0.2))\n",
    "\n",
    "        model.add(keras.layers.Dense(units=num_out, activation='softmax'))\n",
    "\n",
    "        model.compile(loss='categorical_crossentropy', optimizer='adam', metrics=['accuracy'])\n",
    "\n",
    "        model.fit(X, y, epochs=10, batch_size=500, validation_split=0, verbose=1)\n",
    "\n",
    "        model.save(f'{ROOT}/models/LSTM_Stacked_{PREDICTED_MINUTES_AHEAD}m_horizon_{INPUT_MINUTES_BEFORE}m_adjacent_link{LINK}.h5')\n",
    "    \n",
    "    else:\n",
    "        model = keras.models.load_model(f'{ROOT}/models/LSTM_Stacked_{PREDICTED_MINUTES_AHEAD}m_horizon_{INPUT_MINUTES_BEFORE}m_adjacent_link{LINK}.h5')\n",
    "    \n",
    "    for LOS in range(1,7):\n",
    "        df_test = validation_df[(validation_df['link_id'] == LINK) & (validation_df['LOS_dep'] == LOS)].filter(regex=(\"tt_arr.*\"))\n",
    "        X_test = sc[LINK].transform( df_test.values )\n",
    "        X_test = np.expand_dims(X_test, axis=2)\n",
    "\n",
    "        for other_link in other_links:\n",
    "            temp = validation_df[validation_df['link_id'] == other_link].join(df_test['tt_arr'], how='inner', rsuffix=f'%' ).filter(regex=\"tt_ar.*[^%]$\").values\n",
    "            temp = sc[other_link].transform(temp)\n",
    "            X_test = np.concatenate( (X_test, np.expand_dims(temp, axis=2)) , axis=2)\n",
    "        X_test = np.flip(X_test, 1)\n",
    "        y_pred = model.predict(X_test)\n",
    "        y_pred = onehot_encoder.inverse_transform(y_pred)\n",
    "\n",
    "        score = metrics.recall_score([LOS]*len(y_pred), y_pred, average='micro')\n",
    "        print(f\"\\tLOS {LOS}: Recall {round(score*100, 2) }%\")\n",
    "\n",
    "    del model\n",
    "    gc.collect()"
   ]
  },
  {
   "cell_type": "markdown",
   "metadata": {
    "tags": []
   },
   "source": [
    "# **LSTM RUSBoost**"
   ]
  },
  {
   "cell_type": "markdown",
   "metadata": {
    "jp-MarkdownHeadingCollapsed": true,
    "tags": []
   },
   "source": [
    "### *Algorithms*"
   ]
  },
  {
   "cell_type": "markdown",
   "metadata": {},
   "source": [
    "**Algorithm implementation M2**"
   ]
  },
  {
   "cell_type": "code",
   "execution_count": 7,
   "metadata": {},
   "outputs": [],
   "source": [
    "def labelToIndex(cl,clf):\n",
    "    return clf.labelDict[cl]\n",
    "\n",
    "def indexToLabel(i,clf):\n",
    "    return clf.classes[i]\n",
    "\n",
    "class LSTMRUSBoostClassifier_:\n",
    "    \n",
    "    def __init__(self, sequence_length: int, n_lstm=50, learning_rate=1.0):\n",
    "        \"\"\"\n",
    "        param sequence_length: Length of each feature sequence. sequence_length = N in the feature sample [x(t),...,x(t-N)]\n",
    "        \"\"\"\n",
    "        print(\"M2 Implementation of LSTM RUSBoost\")\n",
    "        self.n_lstm = n_lstm\n",
    "        self.learning_rate = learning_rate\n",
    "        self.models = []\n",
    "        self.scaler = []\n",
    "        self.onehot_encoder = preprocessing.OneHotEncoder\n",
    "        self.sequence_length = sequence_length\n",
    "        self.estimator_errors_ = []\n",
    "        self.observation_weights_ = {}\n",
    "\n",
    "    def fit(self, df: pd.DataFrame, X_columns: str, y_column: str):\n",
    "        \"\"\"\n",
    "        param df: Training dataframe with shape (n_samples, ). Sample sequence order is expected to be received as [x(t),...,x(t-N)]\n",
    "        param X_columns: pattern matching DataFrame column names that contain the features\n",
    "        param y_column: name of DataFrame column name with the labels\n",
    "        \"\"\"        \n",
    "        \n",
    "        # Class labels mapping to internal indices ('lab1'->0, 'lab2'->1,...'labN'->N)\n",
    "        self.createLabelDict(np.unique(df[y_column]))\n",
    "        # `undersampling_n` elements to sample from each class, equal #samples minority class\n",
    "        undersampling_n = min(df[y_column].value_counts())\n",
    "\n",
    "        # Initialize observation weights as 1/(N*(k-1)) where N is total `n_samples` and k is the number of classes\n",
    "        N = df.shape[0]\n",
    "        k = len(self.classes)\n",
    "        B = N*(k-1)\n",
    "        D = {epoch: np.full(k-1,1/B) for epoch in df.index}\n",
    "\n",
    "        # Get whole dataset samples to later calculate the weighting factors on every iteration\n",
    "        X = df.filter(regex=(X_columns)).values\n",
    "        if X.shape[1] == self.sequence_length:\n",
    "            X = np.expand_dims(X, axis=2)\n",
    "        elif X.shape[1] % self.sequence_length == 0:\n",
    "            X = X.reshape((X.shape[0],self.sequence_length,int(X.shape[0]/self.sequence_length)), order='F')\n",
    "        else:\n",
    "            print(\"The length of all feature sequences must be the same\")\n",
    "        #Correctly order the sequence [X(t-N),...,X(t)]\n",
    "        X = np.flip(X, 1)\n",
    "\n",
    "        # Initialize input scaler for each feature\n",
    "        for feature in range(X.shape[2]):\n",
    "            self.scaler.append( preprocessing.MinMaxScaler().fit(np.array([[X[:,-1,feature].max()]*self.sequence_length, [X[:,-1,feature].min()]*self.sequence_length])) )\n",
    "            X[:,:,feature] = self.scaler[feature].transform(X[:,:,feature])\n",
    "        \n",
    "        # Initialize output one-hot vector encoder\n",
    "        y = df[y_column].values\n",
    "        iTL = np.vectorize(labelToIndex)\n",
    "        y_indices = iTL(y,self)\n",
    "        self.onehot_encoder = self.onehot_encoder().fit(np.expand_dims(y, axis=1))\n",
    "        \n",
    "        # M iterations (#WeakLearners)\n",
    "        for m in range(self.n_lstm):\n",
    "\n",
    "        # 1) Random UnderSampling\n",
    "            df_ = pd.DataFrame()\n",
    "            for label_ in self.classes:\n",
    "                df_ = pd.concat([ df_, df[ df[y_column]==label_ ].sample(undersampling_n, replace=False) ])\n",
    "            \n",
    "            # Training data initalization\n",
    "            X_ = df_.filter(regex=(X_columns)).values\n",
    "            if X_.shape[1] == self.sequence_length:\n",
    "                X_ = np.expand_dims(X_, axis=2)\n",
    "            elif X_.shape[1] % self.sequence_length == 0:\n",
    "                X_ = X_.reshape((X_.shape[0],self.sequence_length,int(X_.shape[0]/self.sequence_length)), order='F')\n",
    "            # Scale inputs\n",
    "            for feature in range(X_.shape[2]):\n",
    "                X_[:,:,feature] = self.scaler[feature].transform(X_[:,:,feature])\n",
    "            #Correctly order the sequence [X(t-N),...,X(t)]\n",
    "            X_ = np.flip(X_, 1)\n",
    "\n",
    "            y_ = df_[y_column].values\n",
    "            y_ = self.onehot_encoder.transform(np.expand_dims(y_, axis=1)).toarray()\n",
    "            D_ = np.sum([D[epoch] for epoch in df_.index], axis=-1)\n",
    "\n",
    "        # 2) LSTM training\n",
    "            num_features = X_.shape[2]\n",
    "            num_out = y_.shape[1]\n",
    "\n",
    "            model = keras.models.Sequential()\n",
    "\n",
    "            model.add(keras.layers.LSTM(\n",
    "                    input_shape=(self.sequence_length, num_features),\n",
    "                    units=32,\n",
    "                    return_sequences=False))\n",
    "            model.add(keras.layers.Dropout(0.2))\n",
    "\n",
    "            model.add(keras.layers.Dense(units=num_out, activation='softmax'))\n",
    "\n",
    "            model.compile(loss='categorical_crossentropy', optimizer='adam', metrics=['accuracy'])\n",
    "            model.fit(X_, y_, sample_weight=D_, epochs=5, batch_size=32, validation_split=0, verbose=0)\n",
    "        \n",
    "        # 3) Error-rate computation\n",
    "            predictions_proba = model.predict(X,verbose=None)\n",
    "            sum_pseudolosses = 0\n",
    "            for i, epoch in enumerate(D.keys()):\n",
    "                k_index = 0\n",
    "                for cl in range(k):\n",
    "                    if cl != y_indices[i]:\n",
    "                        sum_pseudolosses += D[epoch][k_index]*(1-predictions_proba[i,y_indices[i]]+predictions_proba[i,cl])\n",
    "                        k_index += 1\n",
    "\n",
    "            error = 0.5 * sum_pseudolosses\n",
    "            self.estimator_errors_.append(error)\n",
    "        \n",
    "        # 4) WeakLearner weight for ensemble computation\n",
    "            BetaM = error/(1-error)\n",
    "            self.models.append( (BetaM,model.predict) )\n",
    "\n",
    "        # 5) Observation weights update for next iteration with weights normalization\n",
    "            norm_ = 0\n",
    "            for i, epoch in enumerate(D.keys()):\n",
    "                k_index = 0\n",
    "                for cl in range(k):\n",
    "                    if cl != y_indices[i]:\n",
    "                        w_ = 0.5*(1+predictions_proba[i,y_indices[i]]-predictions_proba[i,cl])\n",
    "                        D[epoch][k_index] *= BetaM**(self.learning_rate*w_)\n",
    "                        norm_ += D[epoch][k_index]\n",
    "                        k_index += 1\n",
    "            for epoch in D.keys():\n",
    "                D[epoch] /= norm_\n",
    "\n",
    "        self.observation_weights_ = D\n",
    "        \n",
    "        return self\n",
    "            \n",
    "    def createLabelDict(self,classes):\n",
    "        self.labelDict = {}\n",
    "        self.classes = classes\n",
    "        for i,cl in enumerate(classes):\n",
    "            self.labelDict[cl] = i\n",
    "    \n",
    "    def predict(self,X):\n",
    "        if X.shape[1] == self.sequence_length:\n",
    "            X = np.expand_dims(X, axis=2)\n",
    "        elif X.shape[1] % self.sequence_length == 0:\n",
    "            X = X.reshape((X.shape[0],self.sequence_length,int(X.shape[0]/self.sequence_length)), order='F')\n",
    "        else:\n",
    "            print(\"The length of all feature sequences must be the same\")\n",
    "        \n",
    "        # Scale inputs\n",
    "        for feature in range(X.shape[2]):\n",
    "            X[:,:,feature] = self.scaler[feature].transform(X[:,:,feature])\n",
    "        \n",
    "        sum_model_hypothesis = np.sum(np.stack([-np.log(Bm)*Gm(X,verbose=None) for Bm,Gm in self.models], axis=-1), axis=-1)\n",
    "        return self.onehot_encoder.inverse_transform(sum_model_hypothesis)"
   ]
  },
  {
   "cell_type": "markdown",
   "metadata": {},
   "source": [
    "### **NO FEATURE ENGINEERING M2**"
   ]
  },
  {
   "cell_type": "code",
   "execution_count": 8,
   "metadata": {},
   "outputs": [
    {
     "name": "stdout",
     "output_type": "stream",
     "text": [
      "LINK 5\n",
      "M2 Implementation of LSTM RUSBoost\n",
      "\tLOS 1: Recall 86.35%\n",
      "\tLOS 2: Recall 48.29%\n",
      "\tLOS 3: Recall 26.38%\n",
      "\tLOS 4: Recall 30.14%\n",
      "\tLOS 5: Recall 25.84%\n",
      "\tLOS 6: Recall 49.68%\n",
      "LINK 6\n",
      "M2 Implementation of LSTM RUSBoost\n",
      "\tLOS 1: Recall 98.36%\n",
      "\tLOS 2: Recall 2.59%\n",
      "\tLOS 3: Recall 5.06%\n",
      "\tLOS 4: Recall 5.37%\n",
      "\tLOS 5: Recall 9.92%\n",
      "\tLOS 6: Recall 73.92%\n",
      "LINK 7\n",
      "M2 Implementation of LSTM RUSBoost\n",
      "\tLOS 1: Recall 98.02%\n",
      "\tLOS 2: Recall 0.0%\n",
      "\tLOS 3: Recall 0.0%\n",
      "\tLOS 4: Recall 0.0%\n",
      "\tLOS 5: Recall 0.0%\n",
      "\tLOS 6: Recall 84.55%\n",
      "LINK 8\n",
      "M2 Implementation of LSTM RUSBoost\n",
      "\tLOS 1: Recall 97.63%\n",
      "\tLOS 2: Recall 23.6%\n",
      "\tLOS 3: Recall 10.33%\n",
      "\tLOS 4: Recall 0.83%\n",
      "\tLOS 5: Recall 7.5%\n",
      "\tLOS 6: Recall 56.24%\n",
      "LINK 9\n",
      "M2 Implementation of LSTM RUSBoost\n",
      "\tLOS 1: Recall 84.75%\n",
      "\tLOS 2: Recall 75.67%\n",
      "\tLOS 3: Recall 4.45%\n",
      "\tLOS 4: Recall 0.44%\n",
      "\tLOS 5: Recall 0.0%\n",
      "\tLOS 6: Recall 0.0%\n",
      "LINK 10\n",
      "M2 Implementation of LSTM RUSBoost\n",
      "\tLOS 1: Recall 95.77%\n",
      "\tLOS 2: Recall 34.66%\n",
      "\tLOS 3: Recall 22.13%\n",
      "\tLOS 4: Recall 0.31%\n",
      "\tLOS 5: Recall 6.93%\n",
      "\tLOS 6: Recall 44.78%\n"
     ]
    }
   ],
   "source": [
    "for LINK in range(5,11):\n",
    "    print(f\"LINK {LINK}\")\n",
    "    \n",
    "    filename = f'{ROOT}/models/LSTM-RUSBoost_{PREDICTED_MINUTES_AHEAD}m_horizon_{INPUT_MINUTES_BEFORE}m_M2_nofeat_link{LINK}.joblib'\n",
    "\n",
    "    model = LSTMRUSBoostClassifier_(sequence_length=int(INPUT_MINUTES_BEFORE/5)+1, n_lstm=30, learning_rate=0.3).fit(training_df[training_df['link_id'] == LINK], \"tt_arr.*\", 'LOS_dep')\n",
    "    joblib.dump(model, filename)\n",
    "\n",
    "    for LOS in range(1,7):\n",
    "        X_test = validation_df[(validation_df['link_id'] == LINK) & (validation_df['LOS_dep'] == LOS)].filter(regex=(\"tt_arr.*\")).values\n",
    "        y_pred = model.predict(X_test)\n",
    "\n",
    "        score = metrics.recall_score([LOS]*len(y_pred), y_pred, average='micro')\n",
    "        print(f\"\\tLOS {LOS}: Recall {round(score*100, 2) }%\")"
   ]
  },
  {
   "cell_type": "markdown",
   "metadata": {
    "id": "l3Uq8ZqIQ55g",
    "jp-MarkdownHeadingCollapsed": true,
    "tags": []
   },
   "source": [
    "# **CLEAN UP**"
   ]
  },
  {
   "cell_type": "code",
   "execution_count": null,
   "metadata": {
    "colab": {
     "base_uri": "https://localhost:8080/"
    },
    "id": "aMbYu1JbnzEy",
    "outputId": "748cdc1c-738c-4908-e1c9-efd6ca3dc112"
   },
   "outputs": [],
   "source": [
    "!git status"
   ]
  },
  {
   "cell_type": "code",
   "execution_count": null,
   "metadata": {
    "id": "kQnWKUfl8zBx"
   },
   "outputs": [],
   "source": [
    "!git pull"
   ]
  },
  {
   "cell_type": "markdown",
   "metadata": {
    "id": "rN4hjHN5n8ns"
   },
   "source": [
    "## COMMIT AND REMOVE"
   ]
  },
  {
   "cell_type": "code",
   "execution_count": null,
   "metadata": {
    "colab": {
     "base_uri": "https://localhost:8080/"
    },
    "id": "xKwc6DK9xcrr",
    "outputId": "f818a739-6cb7-4c61-ee9f-969701996e61"
   },
   "outputs": [],
   "source": [
    "%cd /content/Traffic\n",
    "!sh /content/drive/MyDrive/Traffic/scripts/logout.sh"
   ]
  },
  {
   "cell_type": "code",
   "execution_count": null,
   "metadata": {
    "colab": {
     "base_uri": "https://localhost:8080/",
     "height": 304
    },
    "id": "2ifNpENMcesP",
    "outputId": "ca191f22-7c84-4569-e9cd-25875f101521",
    "tags": []
   },
   "outputs": [],
   "source": [
    "drive.flush_and_unmount()\n",
    "!rm -rf /content/Traffic"
   ]
  }
 ],
 "metadata": {
  "colab": {
   "authorship_tag": "ABX9TyMHe0NkQoa9ACIkTbFtjTmK",
   "include_colab_link": true,
   "mount_file_id": "1Z2Z4EeQPbfgdwWew4IfwOLqQ_conuu2c",
   "provenance": []
  },
  "gpuClass": "standard",
  "kernelspec": {
   "display_name": "Python 3",
   "language": "python",
   "name": "python3"
  },
  "language_info": {
   "codemirror_mode": {
    "name": "ipython",
    "version": 3
   },
   "file_extension": ".py",
   "mimetype": "text/x-python",
   "name": "python",
   "nbconvert_exporter": "python",
   "pygments_lexer": "ipython3",
   "version": "3.9.16"
  }
 },
 "nbformat": 4,
 "nbformat_minor": 4
}
