{
 "cells": [
  {
   "cell_type": "markdown",
   "metadata": {
    "id": "uZ_KQy9CaghT",
    "tags": []
   },
   "source": [
    "# **ONLY YEAR 2017, Replica of RUSBoost previous work**"
   ]
  },
  {
   "cell_type": "markdown",
   "metadata": {
    "id": "J1aLPKnRdfSq"
   },
   "source": [
    "## Python Environment"
   ]
  },
  {
   "cell_type": "markdown",
   "metadata": {
    "id": "2O_6vDSUdG5G"
   },
   "source": [
    "### Import Python libraries"
   ]
  },
  {
   "cell_type": "code",
   "execution_count": 1,
   "metadata": {
    "id": "0aZLKV7udGBe"
   },
   "outputs": [],
   "source": [
    "# Data libraries\n",
    "#from google.colab import drive\n",
    "import os\n",
    "import pandas as pd\n",
    "import calendar\n",
    "import numpy as np\n",
    "import gc\n",
    "import math\n",
    "from operator import itemgetter\n",
    "\n",
    "# Plotting\n",
    "import matplotlib.pyplot as plt\n",
    "from matplotlib.ticker import StrMethodFormatter\n",
    "from seaborn import violinplot, boxenplot\n",
    "\n",
    "# Model training\n",
    "from sklearn.model_selection import cross_validate\n",
    "from sklearn import metrics, preprocessing\n",
    "from sklearn.pipeline import make_pipeline\n",
    "from sklearn.naive_bayes import GaussianNB\n",
    "#from imblearn.ensemble import RUSBoostClassifier\n",
    "from sklearn.ensemble import AdaBoostClassifier\n",
    "from sklearn.tree import DecisionTreeClassifier\n",
    "from sklearn import base\n",
    "import joblib\n",
    "    # Keras\n",
    "from tensorflow import keras\n",
    "from keras.models import Sequential\n",
    "from keras.layers import Dense, Dropout, LSTM, Activation, Lambda\n",
    "    # Tensorflow\n",
    "import tensorflow as tf\n",
    "\n",
    "# Statistical tests\n",
    "from scipy.stats import shapiro"
   ]
  },
  {
   "cell_type": "markdown",
   "metadata": {
    "id": "4sHUoA4jdmit"
   },
   "source": [
    "### SET ENVIRONMENT VARIABLES"
   ]
  },
  {
   "cell_type": "code",
   "execution_count": 2,
   "metadata": {
    "id": "aGdil-f9dr5k"
   },
   "outputs": [],
   "source": [
    "# WORKING FOLDER: /content/local/Traffic/data or /content/drive/MyDrive/Traffic/data\n",
    "ROOT = '/content/local/Traffic/data'\n",
    "# PREDICTION HORIZON\n",
    "PREDICTED_MINUTES_AHEAD = 5\n",
    "if (PREDICTED_MINUTES_AHEAD%5 != 0): raise ValueError(\"Invalid prediction horizon. Must be multiple of 5 minutes\")\n",
    "INPUT_MINUTES_BEFORE = 45\n",
    "if (INPUT_MINUTES_BEFORE%5 != 0): raise ValueError(\"Invalid input minutes span. Must be multiple of 5 minutes\")"
   ]
  },
  {
   "cell_type": "markdown",
   "metadata": {
    "id": "wOQaX0TnQJti"
   },
   "source": [
    "# **LOAD DATA**"
   ]
  },
  {
   "cell_type": "markdown",
   "metadata": {
    "id": "fRqNJgJxQf8l",
    "tags": []
   },
   "source": [
    "## DATA [ LINK_ID, TT_ARR, LOS_DEP ] (Year 2017)"
   ]
  },
  {
   "cell_type": "code",
   "execution_count": 3,
   "metadata": {
    "colab": {
     "base_uri": "https://localhost:8080/"
    },
    "id": "0Jet-m9yQJSQ",
    "outputId": "8b659314-fbf3-4f74-ba1d-c4af2da2e837"
   },
   "outputs": [
    {
     "name": "stdout",
     "output_type": "stream",
     "text": [
      "Sevilla_2017.csv 365.0\n"
     ]
    }
   ],
   "source": [
    "\n",
    "\n",
    "training_mon = []\n",
    "training_week = []\n",
    "training_fri = []\n",
    "training_weeknd = []\n",
    "\n",
    "directory = '/content/drive/MyDrive/Traffic/data/processed/'\n",
    "for filename in os.listdir(directory):\n",
    "    if \"2017\" not in filename:\n",
    "        continue\n",
    "    f = os.path.join(directory, filename)\n",
    "    df=pd.read_csv(f)\n",
    "    print(f'{filename} {df.shape[0]/(60*24*6)}')\n",
    "    df[\"date\"] = pd.to_datetime(df[\"date\"], format='%d-%b-%Y %H:%M:%S')\n",
    "    df = df.set_index(\"date\")\n",
    "    Y = df.shift(-PREDICTED_MINUTES_AHEAD, freq='min')[['link_id', 'LOS_dep']]\n",
    "    # Training set contains all data\n",
    "    X = df[['link_id', 'tt_arr']]\n",
    "    for weekday in range(0,7):\n",
    "        # Mon\n",
    "        if weekday == 0:\n",
    "            training_mon.append( pd.merge(X, Y[(Y.index.weekday == weekday)], on=['date', 'link_id'], how='inner') )\n",
    "        # Tue-Wed-Thu\n",
    "        elif weekday in [1,2,3]:\n",
    "            training_week.append( pd.merge(X, Y[(Y.index.weekday == weekday)], on=['date', 'link_id'], how='inner') )\n",
    "        elif weekday == 4:\n",
    "            training_fri.append( pd.merge(X, Y[(Y.index.weekday == weekday)], on=['date', 'link_id'], how='inner') )\n",
    "        elif weekday in [5,6]:\n",
    "            training_weeknd.append( pd.merge(X, Y[(Y.index.weekday == weekday)], on=['date', 'link_id'], how='inner') )\n",
    "\n",
    "del df,X,Y\n",
    "training_df_mon = pd.concat(training_mon)\n",
    "training_df_week = pd.concat(training_week)\n",
    "training_df_fri = pd.concat(training_fri)\n",
    "training_df_weeknd = pd.concat(training_weeknd)\n",
    "\n",
    "del training_mon,training_week,training_fri,training_weeknd"
   ]
  },
  {
   "cell_type": "markdown",
   "metadata": {
    "id": "uNktJwINXeVt",
    "tags": []
   },
   "source": [
    "## DATA [ LINK_ID, TT_ARR, TT_ARR-5, TT_ARR-10, ..., TT_ARR-N, LOS_DEP ] (Year 2017)"
   ]
  },
  {
   "cell_type": "code",
   "execution_count": 8,
   "metadata": {
    "colab": {
     "base_uri": "https://localhost:8080/"
    },
    "id": "BokEgQrdavRt",
    "outputId": "393ac4b5-488f-4292-a764-24ca40a30e8d"
   },
   "outputs": [
    {
     "name": "stdout",
     "output_type": "stream",
     "text": [
      "Sevilla_2017.csv 365.0\n"
     ]
    }
   ],
   "source": [
    "\n",
    "\n",
    "training_mon = []\n",
    "training_week = []\n",
    "training_fri = []\n",
    "training_weeknd = []\n",
    "\n",
    "directory = '/content/drive/MyDrive/Traffic/data/processed/'\n",
    "for filename in os.listdir(directory):\n",
    "    if \"2017\" not in filename:\n",
    "        continue\n",
    "    f = os.path.join(directory, filename)\n",
    "    df=pd.read_csv(f)\n",
    "    print(f'{filename} {df.shape[0]/(60*24*6)}')\n",
    "    df[\"date\"] = pd.to_datetime(df[\"date\"], format='%d-%b-%Y %H:%M:%S')\n",
    "    df = df.set_index(\"date\")\n",
    "    Y = df.shift(-PREDICTED_MINUTES_AHEAD, freq='min')[['link_id', 'LOS_dep']]\n",
    "    # Training set\n",
    "    X = df[['link_id', 'tt_arr']]\n",
    "    for offset in range(1,int((INPUT_MINUTES_BEFORE)/5)+1):\n",
    "        X = pd.merge(X, df.shift(offset*5, freq='min')[['link_id', 'tt_arr']], on=['date', 'link_id'], how='inner', suffixes=[None, f'-{int(offset*5)}'])\n",
    "    for weekday in range(0,7):\n",
    "        # Mon\n",
    "        if weekday == 0:\n",
    "            training_mon.append( pd.merge(X, Y[(Y.index.weekday == weekday)], on=['date', 'link_id'], how='inner') )\n",
    "        # Tue-Wed-Thu\n",
    "        elif weekday in [1,2,3]:\n",
    "            training_week.append( pd.merge(X, Y[(Y.index.weekday == weekday)], on=['date', 'link_id'], how='inner') )\n",
    "        elif weekday == 4:\n",
    "            training_fri.append( pd.merge(X, Y[(Y.index.weekday == weekday)], on=['date', 'link_id'], how='inner') )\n",
    "        elif weekday in [5,6]:\n",
    "            training_weeknd.append( pd.merge(X, Y[(Y.index.weekday == weekday)], on=['date', 'link_id'], how='inner') )\n",
    "\n",
    "del df,X,Y\n",
    "training_df_mon = pd.concat(training_mon)\n",
    "training_df_week = pd.concat(training_week)\n",
    "training_df_fri = pd.concat(training_fri)\n",
    "training_df_weeknd = pd.concat(training_weeknd)\n",
    "\n",
    "del training_mon,training_week,training_fri,training_weeknd"
   ]
  },
  {
   "cell_type": "markdown",
   "metadata": {
    "id": "u_1jQ8xMeJVL",
    "jp-MarkdownHeadingCollapsed": true,
    "tags": []
   },
   "source": [
    "# DATA EXPLORATION"
   ]
  },
  {
   "cell_type": "markdown",
   "metadata": {
    "id": "uztk_icRpyfN"
   },
   "source": [
    "> Per weekday link LOS histogram\n"
   ]
  },
  {
   "cell_type": "code",
   "execution_count": 23,
   "metadata": {},
   "outputs": [
    {
     "data": {
      "image/png": "[encoded data removed]",
      "text/plain": [
       "<Figure size 1080x576 with 8 Axes>"
      ]
     },
     "metadata": {
      "needs_background": "light"
     },
     "output_type": "display_data"
    }
   ],
   "source": [
    "dias_semana = ['Monday', 'Tuesday', 'Wednesday', 'Thursday', 'Friday', 'Saturday', 'Sunday']\n",
    "fig, axes = plt.subplots(nrows=2, ncols=4)\n",
    "for weekday in range(0,7):\n",
    "    plot_df = pd.DataFrame(index=[i for i in range(1,7)])\n",
    "    for LINK in range(5,11):\n",
    "        plot_df[f'Link{LINK}'] = df[(df['link_id']==LINK) & (df.index.weekday == weekday)].groupby('LOS_dep')['tt_arr'].count()\n",
    "    plot_df.fillna(0)\n",
    "    \n",
    "    plot_df.plot.bar(ax=axes[math.floor(weekday/4),weekday%4], rot=0, figsize=(15,8), log=True)\n",
    "    # Set title\n",
    "    axes[math.floor(weekday/4),weekday%4].set_title(f'{dias_semana[weekday]}')\n",
    "\n",
    "for x_col in axes:\n",
    "    for x in x_col:\n",
    "        if x.get_title() != '':\n",
    "            # Despine\n",
    "            x.spines['right'].set_visible(False)\n",
    "            x.spines['top'].set_visible(False)\n",
    "            x.spines['left'].set_visible(False)\n",
    "\n",
    "            # Switch off ticks\n",
    "            x.tick_params(axis=\"both\", which=\"both\", bottom=\"off\", top=\"off\", labelbottom=\"on\", left=\"off\", right=\"off\", labelleft=\"on\")\n",
    "\n",
    "            # Draw horizontal axis lines\n",
    "            vals = x.get_yticks()\n",
    "            for tick in vals:\n",
    "                x.axhline(y=tick, linestyle='dashed', alpha=0.4, color='#eeeeee', zorder=1)\n",
    "\n",
    "            # Set y-lim\n",
    "            x.set_ylim(top=1e6)\n",
    "\n",
    "            # Set x-axis label\n",
    "            x.set_xlabel(f\"LOS\", labelpad=20, weight='bold', size=12)"
   ]
  },
  {
   "cell_type": "markdown",
   "metadata": {
    "id": "56v0Qmq5YalF",
    "tags": []
   },
   "source": [
    "# **RUSBoost**"
   ]
  },
  {
   "cell_type": "markdown",
   "metadata": {
    "id": "K8YP3zubmE0w",
    "tags": []
   },
   "source": [
    "### *Algorithms*"
   ]
  },
  {
   "cell_type": "markdown",
   "metadata": {
    "id": "ufAzojIniPjV"
   },
   "source": [
    "**Algorithm implementation M2**"
   ]
  },
  {
   "cell_type": "code",
   "execution_count": 4,
   "metadata": {
    "id": "wvGE01esiNX8"
   },
   "outputs": [],
   "source": [
    "def labelToIndex(cl,clf):\n",
    "    return clf.labelDict[cl]\n",
    "\n",
    "def indexToLabel(i,clf):\n",
    "    return clf.classes[i]\n",
    "\n",
    "class RUSBoostClassifier_(base.BaseEstimator):\n",
    "    \n",
    "    def __init__(self,base_estimator=None,n_estimators=50,learning_rate=1.0):\n",
    "        self.n_estimators = n_estimators\n",
    "        self.learning_rate = learning_rate\n",
    "        self.models = []\n",
    "        if base_estimator == None:\n",
    "            base_estimator = DecisionTreeClassifier(max_depth=1)\n",
    "        self.base_estimator = base_estimator\n",
    "        self.estimator_errors_ = []\n",
    "        self.observation_weights_ = {}\n",
    "        \n",
    "    def classes_(self):\n",
    "        return self.classes\n",
    "\n",
    "    def fit(self, X: pd.DataFrame, y: pd.DataFrame):\n",
    "        \"\"\"\n",
    "        param X: DataFrame that contains the features with shape (n_samples, )\n",
    "        param y: DataFrame with the labels\n",
    "        \"\"\"        \n",
    "        \n",
    "        # Class labels mapping to indices\n",
    "        self.createLabelDict(np.unique(y))\n",
    "        k = len(self.classes)\n",
    "        # `undersampling_n` elements to sample from each class, equal #samples minority class\n",
    "        undersampling_n = min(y.value_counts())\n",
    "\n",
    "        # Initialize observation weights as 1/(N*(k-1)) where N is total `n_samples` and k is the numebr of classes\n",
    "        N = X.shape[0]\n",
    "        B = N*(k-1)\n",
    "        D = {epoch: np.full(k-1,1/B) for epoch in X.index}\n",
    "\n",
    "        # Get whole dataset samples to later calculate the weighting factors on every iteration\n",
    "        iTL = np.vectorize(labelToIndex)\n",
    "        y_indices = iTL(y.values,self)\n",
    "        \n",
    "        # M iterations (#WeakLearners)\n",
    "        for m in range(self.n_estimators):\n",
    "\n",
    "        # 1) Random UnderSampling\n",
    "            df_ = pd.DataFrame()\n",
    "            for label_ in self.classes:\n",
    "                df_ = pd.concat([ df_, X.loc[y==label_].sample(undersampling_n, replace=False) ])\n",
    "\n",
    "            \n",
    "            # Training data initalization\n",
    "            X_ = df_.values\n",
    "            y_ = y.loc[df_.index].values\n",
    "            D_ = np.sum([D[epoch] for epoch in df_.index], axis=-1)\n",
    "\n",
    "        # 2) WeakLearner training\n",
    "            Gm = base.clone(self.base_estimator).\\\n",
    "                            fit(X_,y_,sample_weight=D_).predict_proba\n",
    "            self.models.append(Gm)\n",
    "        \n",
    "        # 3) Error-rate computation\n",
    "            predictions_proba = Gm(X.values)\n",
    "            sum_pseudolosses = 0\n",
    "            for i, epoch in enumerate(D.keys()):\n",
    "                k_index = 0\n",
    "                for cl in range(k):\n",
    "                    if cl != y_indices[i]:\n",
    "                        sum_pseudolosses += D[epoch][k_index]*(1-predictions_proba[i,y_indices[i]]+predictions_proba[i,cl])\n",
    "                        k_index += 1\n",
    "\n",
    "            error = 0.5 * sum_pseudolosses\n",
    "            self.estimator_errors_.append(error)\n",
    "        \n",
    "        # 4) WeakLearner weight for ensemble computation\n",
    "            BetaM = error/(1-error)\n",
    "            self.models[m] = (BetaM,Gm)\n",
    "\n",
    "        # 5) Observation weights update for next iteration with weights normalization\n",
    "            norm_ = 0\n",
    "            for i, epoch in enumerate(D.keys()):\n",
    "                k_index = 0\n",
    "                for cl in range(k):\n",
    "                    if cl != y_indices[i]:\n",
    "                        w_ = 0.5*(1+predictions_proba[i,y_indices[i]]-predictions_proba[i,cl])\n",
    "                        D[epoch][k_index] *= BetaM**(self.learning_rate*w_)\n",
    "                        norm_ += D[epoch][k_index]\n",
    "                        k_index += 1\n",
    "            for epoch in D.keys():\n",
    "                D[epoch] /= norm_\n",
    "        \n",
    "        self.observation_weights_ = D\n",
    "        \n",
    "        return self\n",
    "            \n",
    "    def createLabelDict(self,classes):\n",
    "        self.labelDict = {}\n",
    "        self.classes = classes\n",
    "        for i,cl in enumerate(classes):\n",
    "            self.labelDict[cl] = i\n",
    "    \n",
    "    def predict(self,X):\n",
    "        sum_model_hypothesis = np.sum(np.stack([-np.log(Bm)*Gm(X) for Bm,Gm in self.models], axis=-1), axis=-1)\n",
    "        iTL = np.vectorize(indexToLabel)            \n",
    "        return iTL(np.argmax(sum_model_hypothesis,axis=1),self)\n"
   ]
  },
  {
   "cell_type": "markdown",
   "metadata": {
    "id": "Z8T8KoJtliq5",
    "tags": []
   },
   "source": [
    "### **NO FEATURE ENGINEERING M2**"
   ]
  },
  {
   "cell_type": "code",
   "execution_count": null,
   "metadata": {
    "colab": {
     "base_uri": "https://localhost:8080/"
    },
    "id": "oqF7lfLMlpOp",
    "outputId": "61226b7f-eda0-44bc-9116-6a4b60a97e49"
   },
   "outputs": [
    {
     "name": "stdout",
     "output_type": "stream",
     "text": [
      "LINK 5\n",
      "MONDAY\n"
     ]
    },
    {
     "name": "stderr",
     "output_type": "stream",
     "text": []
    },
    {
     "name": "stdout",
     "output_type": "stream",
     "text": [
      "\tLOS 1: Recall 86.99%\n",
      "\tLOS 2: Recall 36.35%\n",
      "\tLOS 3: Recall 36.23%\n",
      "\tLOS 4: Recall 31.27%\n",
      "\tLOS 5: Recall 35.2%\n",
      "\tLOS 6: Recall 38.43%\n",
      "TUESDAY-WEDNESDAY-THURSDAY\n"
     ]
    },
    {
     "name": "stderr",
     "output_type": "stream",
     "text": []
    },
    {
     "name": "stdout",
     "output_type": "stream",
     "text": [
      "\tLOS 1: Recall 85.57%\n",
      "\tLOS 2: Recall 54.49%\n",
      "\tLOS 3: Recall 36.97%\n",
      "\tLOS 4: Recall 36.14%\n",
      "\tLOS 5: Recall 28.52%\n",
      "\tLOS 6: Recall 36.52%\n",
      "FRIDAY\n"
     ]
    },
    {
     "name": "stderr",
     "output_type": "stream",
     "text": []
    },
    {
     "name": "stdout",
     "output_type": "stream",
     "text": [
      "\tLOS 1: Recall 85.42%\n",
      "\tLOS 2: Recall 41.54%\n",
      "\tLOS 3: Recall 35.65%\n",
      "\tLOS 4: Recall 29.98%\n",
      "\tLOS 5: Recall 30.61%\n",
      "\tLOS 6: Recall 54.04%\n",
      "WEEKEND\n"
     ]
    },
    {
     "name": "stderr",
     "output_type": "stream",
     "text": []
    },
    {
     "name": "stdout",
     "output_type": "stream",
     "text": [
      "\tLOS 1: Recall 95.62%\n",
      "\tLOS 2: Recall 71.76%\n",
      "\tLOS 3: Recall 75.02%\n",
      "\tLOS 4: Recall 0.0%\n",
      "\tLOS 5: Recall 0.0%\n",
      "\tLOS 6: Recall 0.0%\n",
      "LINK 6\n",
      "MONDAY\n"
     ]
    },
    {
     "name": "stderr",
     "output_type": "stream",
     "text": []
    },
    {
     "name": "stdout",
     "output_type": "stream",
     "text": [
      "\tLOS 1: Recall 84.21%\n",
      "\tLOS 2: Recall 57.57%\n",
      "\tLOS 3: Recall 27.5%\n",
      "\tLOS 4: Recall 36.43%\n",
      "\tLOS 5: Recall 39.48%\n",
      "\tLOS 6: Recall 24.21%\n",
      "TUESDAY-WEDNESDAY-THURSDAY\n"
     ]
    },
    {
     "name": "stderr",
     "output_type": "stream",
     "text": []
    },
    {
     "name": "stdout",
     "output_type": "stream",
     "text": [
      "\tLOS 1: Recall 82.52%\n",
      "\tLOS 2: Recall 54.6%\n",
      "\tLOS 3: Recall 32.32%\n",
      "\tLOS 4: Recall 38.51%\n",
      "\tLOS 5: Recall 18.96%\n",
      "\tLOS 6: Recall 55.5%\n",
      "FRIDAY\n"
     ]
    },
    {
     "name": "stderr",
     "output_type": "stream",
     "text": []
    },
    {
     "name": "stdout",
     "output_type": "stream",
     "text": [
      "\tLOS 1: Recall 85.62%\n",
      "\tLOS 2: Recall 48.72%\n",
      "\tLOS 3: Recall 35.13%\n",
      "\tLOS 4: Recall 29.93%\n",
      "\tLOS 5: Recall 23.4%\n",
      "\tLOS 6: Recall 29.5%\n",
      "WEEKEND\n"
     ]
    },
    {
     "name": "stderr",
     "output_type": "stream",
     "text": []
    },
    {
     "name": "stdout",
     "output_type": "stream",
     "text": [
      "\tLOS 1: Recall 97.53%\n",
      "\tLOS 2: Recall 68.79%\n",
      "\tLOS 3: Recall 62.28%\n",
      "\tLOS 4: Recall 0.0%\n",
      "\tLOS 5: Recall 0.0%\n",
      "\tLOS 6: Recall 0.0%\n",
      "LINK 7\n",
      "MONDAY\n"
     ]
    },
    {
     "name": "stderr",
     "output_type": "stream",
     "text": []
    },
    {
     "name": "stdout",
     "output_type": "stream",
     "text": [
      "\tLOS 1: Recall 89.04%\n",
      "\tLOS 2: Recall 47.98%\n",
      "\tLOS 3: Recall 40.72%\n",
      "\tLOS 4: Recall 27.72%\n",
      "\tLOS 5: Recall 27.01%\n",
      "\tLOS 6: Recall 44.53%\n",
      "TUESDAY-WEDNESDAY-THURSDAY\n"
     ]
    },
    {
     "name": "stderr",
     "output_type": "stream",
     "text": []
    },
    {
     "name": "stdout",
     "output_type": "stream",
     "text": [
      "\tLOS 1: Recall 88.59%\n",
      "\tLOS 2: Recall 47.11%\n",
      "\tLOS 3: Recall 51.08%\n",
      "\tLOS 4: Recall 30.64%\n",
      "\tLOS 5: Recall 40.55%\n",
      "\tLOS 6: Recall 21.99%\n",
      "FRIDAY\n"
     ]
    },
    {
     "name": "stderr",
     "output_type": "stream",
     "text": []
    },
    {
     "name": "stdout",
     "output_type": "stream",
     "text": [
      "\tLOS 1: Recall 88.34%\n",
      "\tLOS 2: Recall 45.82%\n",
      "\tLOS 3: Recall 40.07%\n",
      "\tLOS 4: Recall 33.18%\n",
      "\tLOS 5: Recall 29.17%\n",
      "\tLOS 6: Recall 2.8%\n",
      "WEEKEND\n"
     ]
    },
    {
     "name": "stderr",
     "output_type": "stream",
     "text": []
    },
    {
     "name": "stdout",
     "output_type": "stream",
     "text": [
      "\tLOS 1: Recall 94.27%\n",
      "\tLOS 2: Recall 52.7%\n",
      "\tLOS 3: Recall 47.62%\n",
      "\tLOS 4: Recall 29.64%\n",
      "\tLOS 5: Recall 0.0%\n",
      "\tLOS 6: Recall 0.0%\n",
      "LINK 8\n",
      "MONDAY\n"
     ]
    },
    {
     "name": "stderr",
     "output_type": "stream",
     "text": []
    },
    {
     "name": "stdout",
     "output_type": "stream",
     "text": [
      "\tLOS 1: Recall 93.26%\n",
      "\tLOS 2: Recall 49.6%\n",
      "\tLOS 3: Recall 20.66%\n",
      "\tLOS 4: Recall 35.23%\n",
      "\tLOS 5: Recall 16.59%\n",
      "\tLOS 6: Recall 24.44%\n",
      "TUESDAY-WEDNESDAY-THURSDAY\n"
     ]
    },
    {
     "name": "stderr",
     "output_type": "stream",
     "text": []
    },
    {
     "name": "stdout",
     "output_type": "stream",
     "text": [
      "\tLOS 1: Recall 93.56%\n",
      "\tLOS 2: Recall 48.4%\n",
      "\tLOS 3: Recall 40.53%\n",
      "\tLOS 4: Recall 20.75%\n",
      "\tLOS 5: Recall 24.71%\n",
      "\tLOS 6: Recall 36.78%\n",
      "FRIDAY\n"
     ]
    },
    {
     "name": "stderr",
     "output_type": "stream",
     "text": []
    },
    {
     "name": "stdout",
     "output_type": "stream",
     "text": [
      "\tLOS 1: Recall 89.72%\n",
      "\tLOS 2: Recall 41.47%\n",
      "\tLOS 3: Recall 24.25%\n",
      "\tLOS 4: Recall 30.75%\n",
      "\tLOS 5: Recall 13.09%\n",
      "\tLOS 6: Recall 32.55%\n",
      "WEEKEND\n"
     ]
    },
    {
     "name": "stderr",
     "output_type": "stream",
     "text": []
    },
    {
     "name": "stdout",
     "output_type": "stream",
     "text": [
      "\tLOS 1: Recall 99.57%\n",
      "\tLOS 2: Recall 76.56%\n",
      "\tLOS 3: Recall 0.0%\n",
      "\tLOS 4: Recall 0.0%\n",
      "\tLOS 5: Recall 0.0%\n",
      "\tLOS 6: Recall 0.0%\n",
      "LINK 9\n",
      "MONDAY\n"
     ]
    },
    {
     "name": "stderr",
     "output_type": "stream",
     "text": []
    },
    {
     "name": "stdout",
     "output_type": "stream",
     "text": [
      "\tLOS 1: Recall 89.31%\n",
      "\tLOS 2: Recall 65.62%\n",
      "\tLOS 3: Recall 54.87%\n",
      "\tLOS 4: Recall 40.03%\n",
      "\tLOS 5: Recall 0.0%\n",
      "\tLOS 6: Recall 0.0%\n",
      "TUESDAY-WEDNESDAY-THURSDAY\n"
     ]
    },
    {
     "name": "stderr",
     "output_type": "stream",
     "text": []
    },
    {
     "name": "stdout",
     "output_type": "stream",
     "text": [
      "\tLOS 1: Recall 89.68%\n",
      "\tLOS 2: Recall 64.05%\n",
      "\tLOS 3: Recall 52.66%\n",
      "\tLOS 4: Recall 57.89%\n",
      "\tLOS 5: Recall 21.07%\n",
      "\tLOS 6: Recall 75.0%\n",
      "FRIDAY\n"
     ]
    },
    {
     "name": "stderr",
     "output_type": "stream",
     "text": []
    },
    {
     "name": "stdout",
     "output_type": "stream",
     "text": [
      "\tLOS 1: Recall 91.06%\n",
      "\tLOS 2: Recall 66.42%\n",
      "\tLOS 3: Recall 63.34%\n",
      "\tLOS 4: Recall 35.88%\n",
      "\tLOS 5: Recall 44.51%\n",
      "\tLOS 6: Recall 50.95%\n",
      "WEEKEND\n"
     ]
    },
    {
     "name": "stderr",
     "output_type": "stream",
     "text": []
    },
    {
     "name": "stdout",
     "output_type": "stream",
     "text": [
      "\tLOS 1: Recall 96.09%\n",
      "\tLOS 2: Recall 73.11%\n",
      "\tLOS 3: Recall 59.41%\n",
      "\tLOS 4: Recall 54.0%\n",
      "\tLOS 5: Recall 6.67%\n",
      "\tLOS 6: Recall 0.0%\n",
      "LINK 10\n",
      "MONDAY\n"
     ]
    },
    {
     "name": "stderr",
     "output_type": "stream",
     "text": []
    },
    {
     "name": "stdout",
     "output_type": "stream",
     "text": [
      "\tLOS 1: Recall 85.86%\n",
      "\tLOS 2: Recall 39.81%\n",
      "\tLOS 3: Recall 31.86%\n",
      "\tLOS 4: Recall 23.64%\n",
      "\tLOS 5: Recall 38.56%\n",
      "\tLOS 6: Recall 39.76%\n",
      "TUESDAY-WEDNESDAY-THURSDAY\n"
     ]
    },
    {
     "name": "stderr",
     "output_type": "stream",
     "text": []
    }
   ],
   "source": [
    "for LINK in range(5,11):\n",
    "    print(f\"LINK {LINK}\")\n",
    "\n",
    "    features_name = 'tt_arr$'\n",
    "\n",
    "    print(f\"MONDAY\")\n",
    "    model = RUSBoostClassifier_(base_estimator=DecisionTreeClassifier(max_leaf_nodes=128+1), n_estimators=30, learning_rate=0.3)\n",
    "    X = training_df_mon[training_df_mon['link_id'] == LINK].filter(regex=(features_name))\n",
    "    y = training_df_mon[training_df_mon['link_id'] == LINK]['LOS_dep']\n",
    "    # 5-fold cross validation\n",
    "    CV = 5\n",
    "    scoring = {'recall1': metrics.make_scorer(metrics.recall_score, average = None, labels = [1]), \n",
    "        'recall2': metrics.make_scorer(metrics.recall_score, average = None, labels = [2]),\n",
    "        'recall3': metrics.make_scorer(metrics.recall_score, average = None, labels = [3]),\n",
    "        'recall4': metrics.make_scorer(metrics.recall_score, average = None, labels = [4]), \n",
    "        'recall5': metrics.make_scorer(metrics.recall_score, average = None, labels = [5]),\n",
    "        'recall6': metrics.make_scorer(metrics.recall_score, average = None, labels = [6])}\n",
    "    results = cross_validate(model, X, y, cv=CV, scoring=scoring, return_train_score = False)\n",
    "    for LOS in range(1,7):\n",
    "        discard = 0\n",
    "        score = results[f'test_recall{LOS}']\n",
    "        for _score in score:\n",
    "            if _score == 0: discard += 1\n",
    "        if discard != CV:\n",
    "            print(f\"\\tLOS {LOS}: Recall {round(sum(score)/(CV-discard)*100, 2)}%\")\n",
    "        else:\n",
    "            print(f\"\\tLOS {LOS}: Recall 0.0%\")\n",
    "    \n",
    "    print(f\"TUESDAY-WEDNESDAY-THURSDAY\")\n",
    "    model = RUSBoostClassifier_(base_estimator=DecisionTreeClassifier(max_leaf_nodes=196+1), n_estimators=30, learning_rate=0.3)\n",
    "    X = training_df_week[training_df_week['link_id'] == LINK].filter(regex=(features_name))\n",
    "    y = training_df_week[training_df_week['link_id'] == LINK]['LOS_dep']\n",
    "    # 5-fold cross validation\n",
    "    CV = 5\n",
    "    scoring = {'recall1': metrics.make_scorer(metrics.recall_score, average = None, labels = [1]), \n",
    "        'recall2': metrics.make_scorer(metrics.recall_score, average = None, labels = [2]),\n",
    "        'recall3': metrics.make_scorer(metrics.recall_score, average = None, labels = [3]),\n",
    "        'recall4': metrics.make_scorer(metrics.recall_score, average = None, labels = [4]), \n",
    "        'recall5': metrics.make_scorer(metrics.recall_score, average = None, labels = [5]),\n",
    "        'recall6': metrics.make_scorer(metrics.recall_score, average = None, labels = [6])}\n",
    "    results = cross_validate(model, X, y, cv=CV, scoring=scoring, return_train_score = False)\n",
    "    for LOS in range(1,7):\n",
    "        discard = 0\n",
    "        score = results[f'test_recall{LOS}']\n",
    "        for _score in score:\n",
    "            if _score == 0: discard += 1\n",
    "        if discard != CV:\n",
    "            print(f\"\\tLOS {LOS}: Recall {round(sum(score)/(CV-discard)*100, 2)}%\")\n",
    "        else:\n",
    "            print(f\"\\tLOS {LOS}: Recall 0.0%\")\n",
    "\n",
    "    print(f\"FRIDAY\")\n",
    "    model = RUSBoostClassifier_(base_estimator=DecisionTreeClassifier(max_leaf_nodes=128+1), n_estimators=30, learning_rate=0.3)\n",
    "    X = training_df_fri[training_df_fri['link_id'] == LINK].filter(regex=(features_name))\n",
    "    y = training_df_fri[training_df_fri['link_id'] == LINK]['LOS_dep']\n",
    "    # 5-fold cross validation\n",
    "    CV = 5\n",
    "    scoring = {'recall1': metrics.make_scorer(metrics.recall_score, average = None, labels = [1]), \n",
    "        'recall2': metrics.make_scorer(metrics.recall_score, average = None, labels = [2]),\n",
    "        'recall3': metrics.make_scorer(metrics.recall_score, average = None, labels = [3]),\n",
    "        'recall4': metrics.make_scorer(metrics.recall_score, average = None, labels = [4]), \n",
    "        'recall5': metrics.make_scorer(metrics.recall_score, average = None, labels = [5]),\n",
    "        'recall6': metrics.make_scorer(metrics.recall_score, average = None, labels = [6])}\n",
    "    results = cross_validate(model, X, y, cv=CV, scoring=scoring, return_train_score = False)\n",
    "    for LOS in range(1,7):\n",
    "        discard = 0\n",
    "        score = results[f'test_recall{LOS}']\n",
    "        for _score in score:\n",
    "            if _score == 0: discard += 1\n",
    "        if discard != CV:\n",
    "            print(f\"\\tLOS {LOS}: Recall {round(sum(score)/(CV-discard)*100, 2)}%\")\n",
    "        else:\n",
    "            print(f\"\\tLOS {LOS}: Recall 0.0%\")\n",
    "\n",
    "    print(f\"WEEKEND\")\n",
    "    model = RUSBoostClassifier_(base_estimator=DecisionTreeClassifier(max_leaf_nodes=128+1), n_estimators=30, learning_rate=0.3)\n",
    "    X = training_df_weeknd[training_df_weeknd['link_id'] == LINK].filter(regex=(features_name))\n",
    "    y = training_df_weeknd[training_df_weeknd['link_id'] == LINK]['LOS_dep']\n",
    "    # 5-fold cross validation\n",
    "    CV = 5\n",
    "    scoring = {'recall1': metrics.make_scorer(metrics.recall_score, average = None, labels = [1]), \n",
    "        'recall2': metrics.make_scorer(metrics.recall_score, average = None, labels = [2]),\n",
    "        'recall3': metrics.make_scorer(metrics.recall_score, average = None, labels = [3]),\n",
    "        'recall4': metrics.make_scorer(metrics.recall_score, average = None, labels = [4]), \n",
    "        'recall5': metrics.make_scorer(metrics.recall_score, average = None, labels = [5]),\n",
    "        'recall6': metrics.make_scorer(metrics.recall_score, average = None, labels = [6])}\n",
    "    results = cross_validate(model, X, y, cv=CV, scoring=scoring, return_train_score = False)\n",
    "    for LOS in range(1,7):\n",
    "        discard = 0\n",
    "        score = results[f'test_recall{LOS}']\n",
    "        for _score in score:\n",
    "            if _score == 0: discard += 1\n",
    "        if discard != CV:\n",
    "            print(f\"\\tLOS {LOS}: Recall {round(sum(score)/(CV-discard)*100, 2)}%\")\n",
    "        else:\n",
    "            print(f\"\\tLOS {LOS}: Recall 0.0%\")"
   ]
  },
  {
   "cell_type": "markdown",
   "metadata": {
    "id": "5GwdnL80wEtn"
   },
   "source": [
    "### **FEATURE ENGINEERING ADJACENT LINK INFORMATION**"
   ]
  },
  {
   "cell_type": "markdown",
   "metadata": {
    "id": "SX6uOIxdwEtp"
   },
   "source": [
    "*Features creation*\n",
    "\n",
    "For each link, the tt_arrival of the other links are added as features. Therefore we will be using 6 features in total."
   ]
  },
  {
   "cell_type": "code",
   "execution_count": 10,
   "metadata": {
    "id": "lG3lIJ4Swav-"
   },
   "outputs": [
    {
     "name": "stdout",
     "output_type": "stream",
     "text": [
      "LINK 5\n",
      "MONDAY\n"
     ]
    },
    {
     "name": "stderr",
     "output_type": "stream",
     "text": []
    },
    {
     "name": "stdout",
     "output_type": "stream",
     "text": [
      "\tLOS 1: Recall 87.73%\n",
      "\tLOS 2: Recall 53.64%\n",
      "\tLOS 3: Recall 47.5%\n",
      "\tLOS 4: Recall 31.21%\n",
      "\tLOS 5: Recall 38.63%\n",
      "\tLOS 6: Recall 24.04%\n",
      "TUESDAY-WEDNESDAY-THURSDAY\n"
     ]
    },
    {
     "name": "stderr",
     "output_type": "stream",
     "text": []
    },
    {
     "name": "stdout",
     "output_type": "stream",
     "text": [
      "\tLOS 1: Recall 85.7%\n",
      "\tLOS 2: Recall 58.41%\n",
      "\tLOS 3: Recall 47.28%\n",
      "\tLOS 4: Recall 42.23%\n",
      "\tLOS 5: Recall 35.88%\n",
      "\tLOS 6: Recall 34.37%\n",
      "FRIDAY\n"
     ]
    },
    {
     "name": "stderr",
     "output_type": "stream",
     "text": []
    },
    {
     "name": "stdout",
     "output_type": "stream",
     "text": [
      "\tLOS 1: Recall 86.24%\n",
      "\tLOS 2: Recall 61.32%\n",
      "\tLOS 3: Recall 44.78%\n",
      "\tLOS 4: Recall 41.46%\n",
      "\tLOS 5: Recall 42.89%\n",
      "\tLOS 6: Recall 74.0%\n",
      "WEEKEND\n"
     ]
    },
    {
     "name": "stderr",
     "output_type": "stream",
     "text": []
    },
    {
     "name": "stdout",
     "output_type": "stream",
     "text": [
      "\tLOS 1: Recall 97.64%\n",
      "\tLOS 2: Recall 59.3%\n",
      "\tLOS 3: Recall 65.96%\n",
      "\tLOS 4: Recall 0.0%\n",
      "\tLOS 5: Recall 0.0%\n",
      "\tLOS 6: Recall 0.0%\n",
      "LINK 6\n",
      "MONDAY\n"
     ]
    },
    {
     "name": "stderr",
     "output_type": "stream",
     "text": []
    },
    {
     "name": "stdout",
     "output_type": "stream",
     "text": [
      "\tLOS 1: Recall 83.62%\n",
      "\tLOS 2: Recall 65.62%\n",
      "\tLOS 3: Recall 28.96%\n",
      "\tLOS 4: Recall 40.49%\n",
      "\tLOS 5: Recall 36.9%\n",
      "\tLOS 6: Recall 0.0%\n",
      "TUESDAY-WEDNESDAY-THURSDAY\n"
     ]
    },
    {
     "name": "stderr",
     "output_type": "stream",
     "text": []
    },
    {
     "name": "stdout",
     "output_type": "stream",
     "text": [
      "\tLOS 1: Recall 83.88%\n",
      "\tLOS 2: Recall 64.31%\n",
      "\tLOS 3: Recall 41.96%\n",
      "\tLOS 4: Recall 54.92%\n",
      "\tLOS 5: Recall 31.42%\n",
      "\tLOS 6: Recall 58.06%\n",
      "FRIDAY\n"
     ]
    },
    {
     "name": "stderr",
     "output_type": "stream",
     "text": []
    },
    {
     "name": "stdout",
     "output_type": "stream",
     "text": [
      "\tLOS 1: Recall 85.55%\n",
      "\tLOS 2: Recall 61.51%\n",
      "\tLOS 3: Recall 39.23%\n",
      "\tLOS 4: Recall 34.06%\n",
      "\tLOS 5: Recall 26.85%\n",
      "\tLOS 6: Recall 41.85%\n",
      "WEEKEND\n"
     ]
    },
    {
     "name": "stderr",
     "output_type": "stream",
     "text": []
    },
    {
     "name": "stdout",
     "output_type": "stream",
     "text": [
      "\tLOS 1: Recall 97.32%\n",
      "\tLOS 2: Recall 77.4%\n",
      "\tLOS 3: Recall 64.39%\n",
      "\tLOS 4: Recall 0.0%\n",
      "\tLOS 5: Recall 0.0%\n",
      "\tLOS 6: Recall 0.0%\n",
      "LINK 7\n",
      "MONDAY\n"
     ]
    },
    {
     "name": "stderr",
     "output_type": "stream",
     "text": []
    },
    {
     "name": "stdout",
     "output_type": "stream",
     "text": [
      "\tLOS 1: Recall 89.5%\n",
      "\tLOS 2: Recall 58.54%\n",
      "\tLOS 3: Recall 46.52%\n",
      "\tLOS 4: Recall 43.4%\n",
      "\tLOS 5: Recall 35.97%\n",
      "\tLOS 6: Recall 36.55%\n",
      "TUESDAY-WEDNESDAY-THURSDAY\n"
     ]
    },
    {
     "name": "stderr",
     "output_type": "stream",
     "text": []
    },
    {
     "name": "stdout",
     "output_type": "stream",
     "text": [
      "\tLOS 1: Recall 87.66%\n",
      "\tLOS 2: Recall 54.66%\n",
      "\tLOS 3: Recall 53.62%\n",
      "\tLOS 4: Recall 42.87%\n",
      "\tLOS 5: Recall 39.33%\n",
      "\tLOS 6: Recall 25.37%\n",
      "FRIDAY\n"
     ]
    },
    {
     "name": "stderr",
     "output_type": "stream",
     "text": []
    },
    {
     "name": "stdout",
     "output_type": "stream",
     "text": [
      "\tLOS 1: Recall 91.72%\n",
      "\tLOS 2: Recall 55.69%\n",
      "\tLOS 3: Recall 47.61%\n",
      "\tLOS 4: Recall 29.2%\n",
      "\tLOS 5: Recall 22.06%\n",
      "\tLOS 6: Recall 34.98%\n",
      "WEEKEND\n"
     ]
    },
    {
     "name": "stderr",
     "output_type": "stream",
     "text": []
    },
    {
     "name": "stdout",
     "output_type": "stream",
     "text": [
      "\tLOS 1: Recall 95.79%\n",
      "\tLOS 2: Recall 51.23%\n",
      "\tLOS 3: Recall 39.66%\n",
      "\tLOS 4: Recall 18.59%\n",
      "\tLOS 5: Recall 12.45%\n",
      "\tLOS 6: Recall 0.0%\n",
      "LINK 8\n",
      "MONDAY\n"
     ]
    },
    {
     "name": "stderr",
     "output_type": "stream",
     "text": []
    },
    {
     "name": "stdout",
     "output_type": "stream",
     "text": [
      "\tLOS 1: Recall 95.0%\n",
      "\tLOS 2: Recall 57.61%\n",
      "\tLOS 3: Recall 33.92%\n",
      "\tLOS 4: Recall 39.7%\n",
      "\tLOS 5: Recall 11.75%\n",
      "\tLOS 6: Recall 38.87%\n",
      "TUESDAY-WEDNESDAY-THURSDAY\n"
     ]
    },
    {
     "name": "stderr",
     "output_type": "stream",
     "text": []
    },
    {
     "name": "stdout",
     "output_type": "stream",
     "text": [
      "\tLOS 1: Recall 94.19%\n",
      "\tLOS 2: Recall 58.35%\n",
      "\tLOS 3: Recall 46.2%\n",
      "\tLOS 4: Recall 29.49%\n",
      "\tLOS 5: Recall 24.36%\n",
      "\tLOS 6: Recall 41.64%\n",
      "FRIDAY\n"
     ]
    },
    {
     "name": "stderr",
     "output_type": "stream",
     "text": []
    },
    {
     "name": "stdout",
     "output_type": "stream",
     "text": [
      "\tLOS 1: Recall 92.53%\n",
      "\tLOS 2: Recall 52.44%\n",
      "\tLOS 3: Recall 37.63%\n",
      "\tLOS 4: Recall 37.61%\n",
      "\tLOS 5: Recall 11.77%\n",
      "\tLOS 6: Recall 48.98%\n",
      "WEEKEND\n"
     ]
    },
    {
     "name": "stderr",
     "output_type": "stream",
     "text": []
    },
    {
     "name": "stdout",
     "output_type": "stream",
     "text": [
      "\tLOS 1: Recall 99.66%\n",
      "\tLOS 2: Recall 54.04%\n",
      "\tLOS 3: Recall 0.0%\n",
      "\tLOS 4: Recall 0.0%\n",
      "\tLOS 5: Recall 0.0%\n",
      "\tLOS 6: Recall 0.0%\n",
      "LINK 9\n",
      "MONDAY\n"
     ]
    },
    {
     "name": "stderr",
     "output_type": "stream",
     "text": []
    },
    {
     "name": "stdout",
     "output_type": "stream",
     "text": [
      "\tLOS 1: Recall 90.61%\n",
      "\tLOS 2: Recall 72.55%\n",
      "\tLOS 3: Recall 50.18%\n",
      "\tLOS 4: Recall 57.9%\n",
      "\tLOS 5: Recall 0.0%\n",
      "\tLOS 6: Recall 0.0%\n",
      "TUESDAY-WEDNESDAY-THURSDAY\n"
     ]
    },
    {
     "name": "stderr",
     "output_type": "stream",
     "text": []
    },
    {
     "name": "stdout",
     "output_type": "stream",
     "text": [
      "\tLOS 1: Recall 89.59%\n",
      "\tLOS 2: Recall 69.95%\n",
      "\tLOS 3: Recall 57.15%\n",
      "\tLOS 4: Recall 58.34%\n",
      "\tLOS 5: Recall 29.26%\n",
      "\tLOS 6: Recall 0.0%\n",
      "FRIDAY\n"
     ]
    },
    {
     "name": "stderr",
     "output_type": "stream",
     "text": []
    },
    {
     "name": "stdout",
     "output_type": "stream",
     "text": [
      "\tLOS 1: Recall 89.76%\n",
      "\tLOS 2: Recall 70.85%\n",
      "\tLOS 3: Recall 67.3%\n",
      "\tLOS 4: Recall 41.82%\n",
      "\tLOS 5: Recall 12.87%\n",
      "\tLOS 6: Recall 50.95%\n",
      "WEEKEND\n"
     ]
    },
    {
     "name": "stderr",
     "output_type": "stream",
     "text": []
    },
    {
     "name": "stdout",
     "output_type": "stream",
     "text": [
      "\tLOS 1: Recall 95.89%\n",
      "\tLOS 2: Recall 75.86%\n",
      "\tLOS 3: Recall 53.02%\n",
      "\tLOS 4: Recall 54.0%\n",
      "\tLOS 5: Recall 6.67%\n",
      "\tLOS 6: Recall 0.0%\n",
      "LINK 10\n",
      "MONDAY\n"
     ]
    },
    {
     "name": "stderr",
     "output_type": "stream",
     "text": []
    },
    {
     "name": "stdout",
     "output_type": "stream",
     "text": [
      "\tLOS 1: Recall 92.25%\n",
      "\tLOS 2: Recall 51.49%\n",
      "\tLOS 3: Recall 33.0%\n",
      "\tLOS 4: Recall 31.59%\n",
      "\tLOS 5: Recall 48.11%\n",
      "\tLOS 6: Recall 42.41%\n",
      "TUESDAY-WEDNESDAY-THURSDAY\n"
     ]
    },
    {
     "name": "stderr",
     "output_type": "stream",
     "text": []
    },
    {
     "name": "stdout",
     "output_type": "stream",
     "text": [
      "\tLOS 1: Recall 92.99%\n",
      "\tLOS 2: Recall 62.38%\n",
      "\tLOS 3: Recall 45.64%\n",
      "\tLOS 4: Recall 38.47%\n",
      "\tLOS 5: Recall 45.87%\n",
      "\tLOS 6: Recall 39.26%\n",
      "FRIDAY\n"
     ]
    },
    {
     "name": "stderr",
     "output_type": "stream",
     "text": []
    },
    {
     "name": "stdout",
     "output_type": "stream",
     "text": [
      "\tLOS 1: Recall 91.63%\n",
      "\tLOS 2: Recall 65.12%\n",
      "\tLOS 3: Recall 45.21%\n",
      "\tLOS 4: Recall 30.93%\n",
      "\tLOS 5: Recall 45.07%\n",
      "\tLOS 6: Recall 43.61%\n",
      "WEEKEND\n"
     ]
    },
    {
     "name": "stderr",
     "output_type": "stream",
     "text": []
    },
    {
     "name": "stdout",
     "output_type": "stream",
     "text": [
      "\tLOS 1: Recall 96.67%\n",
      "\tLOS 2: Recall 72.53%\n",
      "\tLOS 3: Recall 49.15%\n",
      "\tLOS 4: Recall 63.91%\n",
      "\tLOS 5: Recall 0.0%\n",
      "\tLOS 6: Recall 0.0%\n"
     ]
    },
    {
     "name": "stderr",
     "output_type": "stream",
     "text": []
    }
   ],
   "source": [
    "for LINK in range(5,11):\n",
    "    print(f\"LINK {LINK}\")   \n",
    "\n",
    "    features_name = 'tt_ar[^-]+$'\n",
    "\n",
    "    print(f\"MONDAY\")\n",
    "    other_links = [5,6,7,8,9,10]; other_links.remove(LINK)\n",
    "    training_df_link = training_df_mon.copy()\n",
    "    training_df_link = training_df_link[training_df_link['link_id'] == LINK]\n",
    "\n",
    "    for other_link in other_links:\n",
    "        training_df_link = pd.merge(training_df_link, training_df_mon[training_df_mon['link_id'] == other_link].filter(regex=(features_name)), on=['date'], how='inner', suffixes=[None, f'_{other_link}'])\n",
    "\n",
    "    model = RUSBoostClassifier_(base_estimator=DecisionTreeClassifier(max_leaf_nodes=128+1), n_estimators=30, learning_rate=0.3)\n",
    "    X = training_df_link.filter(regex=(features_name))\n",
    "    y = training_df_link['LOS_dep']\n",
    "    # 5-fold cross validation\n",
    "    CV = 5\n",
    "    scoring = {'recall1': metrics.make_scorer(metrics.recall_score, average = None, labels = [1]), \n",
    "        'recall2': metrics.make_scorer(metrics.recall_score, average = None, labels = [2]),\n",
    "        'recall3': metrics.make_scorer(metrics.recall_score, average = None, labels = [3]),\n",
    "        'recall4': metrics.make_scorer(metrics.recall_score, average = None, labels = [4]), \n",
    "        'recall5': metrics.make_scorer(metrics.recall_score, average = None, labels = [5]),\n",
    "        'recall6': metrics.make_scorer(metrics.recall_score, average = None, labels = [6])}\n",
    "    results = cross_validate(model, X, y, cv=CV, scoring=scoring, return_train_score = False)\n",
    "    for LOS in range(1,7):\n",
    "        discard = 0\n",
    "        score = results[f'test_recall{LOS}']\n",
    "        for _score in score:\n",
    "            if _score == 0: discard += 1\n",
    "        if discard != CV:\n",
    "            print(f\"\\tLOS {LOS}: Recall {round(sum(score)/(CV-discard)*100, 2)}%\")\n",
    "        else:\n",
    "            print(f\"\\tLOS {LOS}: Recall 0.0%\")\n",
    "    \n",
    "    print(f\"TUESDAY-WEDNESDAY-THURSDAY\")\n",
    "    other_links = [5,6,7,8,9,10]; other_links.remove(LINK)\n",
    "    training_df_link = training_df_week.copy()\n",
    "    training_df_link = training_df_link[training_df_link['link_id'] == LINK]\n",
    "\n",
    "    for other_link in other_links:\n",
    "        training_df_link = pd.merge(training_df_link, training_df_week[training_df_week['link_id'] == other_link].filter(regex=(features_name)), on=['date'], how='inner', suffixes=[None, f'_{other_link}'])\n",
    "\n",
    "    model = RUSBoostClassifier_(base_estimator=DecisionTreeClassifier(max_leaf_nodes=196+1), n_estimators=30, learning_rate=0.3)\n",
    "    X = training_df_link.filter(regex=(features_name))\n",
    "    y = training_df_link['LOS_dep']\n",
    "    # 5-fold cross validation\n",
    "    CV = 5\n",
    "    scoring = {'recall1': metrics.make_scorer(metrics.recall_score, average = None, labels = [1]), \n",
    "        'recall2': metrics.make_scorer(metrics.recall_score, average = None, labels = [2]),\n",
    "        'recall3': metrics.make_scorer(metrics.recall_score, average = None, labels = [3]),\n",
    "        'recall4': metrics.make_scorer(metrics.recall_score, average = None, labels = [4]), \n",
    "        'recall5': metrics.make_scorer(metrics.recall_score, average = None, labels = [5]),\n",
    "        'recall6': metrics.make_scorer(metrics.recall_score, average = None, labels = [6])}\n",
    "    results = cross_validate(model, X, y, cv=CV, scoring=scoring, return_train_score = False)\n",
    "    for LOS in range(1,7):\n",
    "        discard = 0\n",
    "        score = results[f'test_recall{LOS}']\n",
    "        for _score in score:\n",
    "            if _score == 0: discard += 1\n",
    "        if discard != CV:\n",
    "            print(f\"\\tLOS {LOS}: Recall {round(sum(score)/(CV-discard)*100, 2)}%\")\n",
    "        else:\n",
    "            print(f\"\\tLOS {LOS}: Recall 0.0%\")\n",
    "\n",
    "    print(f\"FRIDAY\")\n",
    "    other_links = [5,6,7,8,9,10]; other_links.remove(LINK)\n",
    "    training_df_link = training_df_fri.copy()\n",
    "    training_df_link = training_df_link[training_df_link['link_id'] == LINK]\n",
    "\n",
    "    for other_link in other_links:\n",
    "        training_df_link = pd.merge(training_df_link, training_df_fri[training_df_fri['link_id'] == other_link].filter(regex=(features_name)), on=['date'], how='inner', suffixes=[None, f'_{other_link}'])\n",
    "\n",
    "    model = RUSBoostClassifier_(base_estimator=DecisionTreeClassifier(max_leaf_nodes=128+1), n_estimators=30, learning_rate=0.3)\n",
    "    X = training_df_link.filter(regex=(features_name))\n",
    "    y = training_df_link['LOS_dep']\n",
    "    # 5-fold cross validation\n",
    "    CV = 5\n",
    "    scoring = {'recall1': metrics.make_scorer(metrics.recall_score, average = None, labels = [1]), \n",
    "        'recall2': metrics.make_scorer(metrics.recall_score, average = None, labels = [2]),\n",
    "        'recall3': metrics.make_scorer(metrics.recall_score, average = None, labels = [3]),\n",
    "        'recall4': metrics.make_scorer(metrics.recall_score, average = None, labels = [4]), \n",
    "        'recall5': metrics.make_scorer(metrics.recall_score, average = None, labels = [5]),\n",
    "        'recall6': metrics.make_scorer(metrics.recall_score, average = None, labels = [6])}\n",
    "    results = cross_validate(model, X, y, cv=CV, scoring=scoring, return_train_score = False)\n",
    "    for LOS in range(1,7):\n",
    "        discard = 0\n",
    "        score = results[f'test_recall{LOS}']\n",
    "        for _score in score:\n",
    "            if _score == 0: discard += 1\n",
    "        if discard != CV:\n",
    "            print(f\"\\tLOS {LOS}: Recall {round(sum(score)/(CV-discard)*100, 2)}%\")\n",
    "        else:\n",
    "            print(f\"\\tLOS {LOS}: Recall 0.0%\")\n",
    "\n",
    "    print(f\"WEEKEND\")\n",
    "    other_links = [5,6,7,8,9,10]; other_links.remove(LINK)\n",
    "    training_df_link = training_df_weeknd.copy()\n",
    "    training_df_link = training_df_link[training_df_link['link_id'] == LINK]\n",
    "\n",
    "    for other_link in other_links:\n",
    "        training_df_link = pd.merge(training_df_link, training_df_weeknd[training_df_weeknd['link_id'] == other_link].filter(regex=(features_name)), on=['date'], how='inner', suffixes=[None, f'_{other_link}'])\n",
    "\n",
    "    model = RUSBoostClassifier_(base_estimator=DecisionTreeClassifier(max_leaf_nodes=128+1), n_estimators=30, learning_rate=0.3)\n",
    "    X = training_df_link.filter(regex=(features_name))\n",
    "    y = training_df_link['LOS_dep']\n",
    "    # 5-fold cross validation\n",
    "    CV = 5\n",
    "    scoring = {'recall1': metrics.make_scorer(metrics.recall_score, average = None, labels = [1]), \n",
    "        'recall2': metrics.make_scorer(metrics.recall_score, average = None, labels = [2]),\n",
    "        'recall3': metrics.make_scorer(metrics.recall_score, average = None, labels = [3]),\n",
    "        'recall4': metrics.make_scorer(metrics.recall_score, average = None, labels = [4]), \n",
    "        'recall5': metrics.make_scorer(metrics.recall_score, average = None, labels = [5]),\n",
    "        'recall6': metrics.make_scorer(metrics.recall_score, average = None, labels = [6])}\n",
    "    results = cross_validate(model, X, y, cv=CV, scoring=scoring, return_train_score = False)\n",
    "    for LOS in range(1,7):\n",
    "        discard = 0\n",
    "        score = results[f'test_recall{LOS}']\n",
    "        for _score in score:\n",
    "            if _score == 0: discard += 1\n",
    "        if discard != CV:\n",
    "            print(f\"\\tLOS {LOS}: Recall {round(sum(score)/(CV-discard)*100, 2)}%\")\n",
    "        else:\n",
    "            print(f\"\\tLOS {LOS}: Recall 0.0%\")"
   ]
  },
  {
   "cell_type": "markdown",
   "metadata": {
    "id": "sOP6-k1pNP3l",
    "tags": []
   },
   "source": [
    "### **FEATURE ENGINEERING ADJACENT LINK INFORMATION + TEMPORAL INFORMATION (UP TO PREVIOUS 45MIN)**"
   ]
  },
  {
   "cell_type": "markdown",
   "metadata": {
    "id": "rxNerGt4wTQW"
   },
   "source": [
    "*Features creation*\n",
    "\n",
    "For each link, the tt_arrival of the other links, covering the previous 50min from prediction time, are added as features. Therefore we will be using 60 features in total as maximum."
   ]
  },
  {
   "cell_type": "code",
   "execution_count": 13,
   "metadata": {
    "id": "dKswQdsJsPLO"
   },
   "outputs": [
    {
     "name": "stdout",
     "output_type": "stream",
     "text": [
      "LINK 5\n",
      "MONDAY\n"
     ]
    },
    {
     "name": "stderr",
     "output_type": "stream",
     "text": [
     ]
    },
    {
     "name": "stdout",
     "output_type": "stream",
     "text": [
      "\tLOS 1: Recall 87.8%\n",
      "\tLOS 2: Recall 54.68%\n",
      "\tLOS 3: Recall 48.83%\n",
      "\tLOS 4: Recall 27.2%\n",
      "\tLOS 5: Recall 36.5%\n",
      "\tLOS 6: Recall 27.02%\n",
      "TUESDAY-WEDNESDAY-THURSDAY\n"
     ]
    },
    {
     "name": "stderr",
     "output_type": "stream",
     "text": [
     ]
    },
    {
     "name": "stdout",
     "output_type": "stream",
     "text": [
      "\tLOS 1: Recall 85.96%\n",
      "\tLOS 2: Recall 61.87%\n",
      "\tLOS 3: Recall 48.83%\n",
      "\tLOS 4: Recall 41.17%\n",
      "\tLOS 5: Recall 34.23%\n",
      "\tLOS 6: Recall 25.84%\n",
      "FRIDAY\n"
     ]
    },
    {
     "name": "stderr",
     "output_type": "stream",
     "text": [
     ]
    },
    {
     "name": "stdout",
     "output_type": "stream",
     "text": [
      "\tLOS 1: Recall 86.86%\n",
      "\tLOS 2: Recall 64.94%\n",
      "\tLOS 3: Recall 46.23%\n",
      "\tLOS 4: Recall 39.13%\n",
      "\tLOS 5: Recall 43.38%\n",
      "\tLOS 6: Recall 65.93%\n",
      "WEEKEND\n"
     ]
    },
    {
     "name": "stderr",
     "output_type": "stream",
     "text": [
     ]
    },
    {
     "name": "stdout",
     "output_type": "stream",
     "text": [
      "\tLOS 1: Recall 97.28%\n",
      "\tLOS 2: Recall 52.81%\n",
      "\tLOS 3: Recall 73.64%\n",
      "\tLOS 4: Recall 0.0%\n",
      "\tLOS 5: Recall 0.0%\n",
      "\tLOS 6: Recall 0.0%\n",
      "LINK 6\n",
      "MONDAY\n"
     ]
    },
    {
     "name": "stderr",
     "output_type": "stream",
     "text": [
     ]
    },
    {
     "name": "stdout",
     "output_type": "stream",
     "text": [
      "\tLOS 1: Recall 84.8%\n",
      "\tLOS 2: Recall 68.0%\n",
      "\tLOS 3: Recall 32.58%\n",
      "\tLOS 4: Recall 44.11%\n",
      "\tLOS 5: Recall 38.88%\n",
      "\tLOS 6: Recall 0.0%\n",
      "TUESDAY-WEDNESDAY-THURSDAY\n"
     ]
    },
    {
     "name": "stderr",
     "output_type": "stream",
     "text": [
     ]
    },
    {
     "name": "stdout",
     "output_type": "stream",
     "text": [
      "\tLOS 1: Recall 84.41%\n",
      "\tLOS 2: Recall 65.56%\n",
      "\tLOS 3: Recall 46.45%\n",
      "\tLOS 4: Recall 51.85%\n",
      "\tLOS 5: Recall 29.65%\n",
      "\tLOS 6: Recall 52.85%\n",
      "FRIDAY\n"
     ]
    },
    {
     "name": "stderr",
     "output_type": "stream",
     "text": [
     ]
    },
    {
     "name": "stdout",
     "output_type": "stream",
     "text": [
      "\tLOS 1: Recall 84.34%\n",
      "\tLOS 2: Recall 62.91%\n",
      "\tLOS 3: Recall 43.37%\n",
      "\tLOS 4: Recall 36.5%\n",
      "\tLOS 5: Recall 20.5%\n",
      "\tLOS 6: Recall 44.56%\n",
      "WEEKEND\n"
     ]
    },
    {
     "name": "stderr",
     "output_type": "stream",
     "text": [
     ]
    },
    {
     "name": "stdout",
     "output_type": "stream",
     "text": [
      "\tLOS 1: Recall 97.82%\n",
      "\tLOS 2: Recall 74.0%\n",
      "\tLOS 3: Recall 81.94%\n",
      "\tLOS 4: Recall 0.0%\n",
      "\tLOS 5: Recall 0.0%\n",
      "\tLOS 6: Recall 0.0%\n",
      "LINK 7\n",
      "MONDAY\n"
     ]
    },
    {
     "name": "stderr",
     "output_type": "stream",
     "text": [
     ]
    },
    {
     "name": "stdout",
     "output_type": "stream",
     "text": [
      "\tLOS 1: Recall 86.69%\n",
      "\tLOS 2: Recall 57.12%\n",
      "\tLOS 3: Recall 48.07%\n",
      "\tLOS 4: Recall 36.88%\n",
      "\tLOS 5: Recall 29.16%\n",
      "\tLOS 6: Recall 12.18%\n",
      "TUESDAY-WEDNESDAY-THURSDAY\n"
     ]
    },
    {
     "name": "stderr",
     "output_type": "stream",
     "text": [
     ]
    },
    {
     "name": "stdout",
     "output_type": "stream",
     "text": [
      "\tLOS 1: Recall 87.93%\n",
      "\tLOS 2: Recall 51.32%\n",
      "\tLOS 3: Recall 54.8%\n",
      "\tLOS 4: Recall 44.71%\n",
      "\tLOS 5: Recall 28.91%\n",
      "\tLOS 6: Recall 22.06%\n",
      "FRIDAY\n"
     ]
    },
    {
     "name": "stderr",
     "output_type": "stream",
     "text": [
     ]
    },
    {
     "name": "stdout",
     "output_type": "stream",
     "text": [
      "\tLOS 1: Recall 91.66%\n",
      "\tLOS 2: Recall 51.96%\n",
      "\tLOS 3: Recall 49.67%\n",
      "\tLOS 4: Recall 38.25%\n",
      "\tLOS 5: Recall 29.67%\n",
      "\tLOS 6: Recall 33.68%\n",
      "WEEKEND\n"
     ]
    },
    {
     "name": "stderr",
     "output_type": "stream",
     "text": [
     ]
    },
    {
     "name": "stdout",
     "output_type": "stream",
     "text": [
      "\tLOS 1: Recall 96.87%\n",
      "\tLOS 2: Recall 51.26%\n",
      "\tLOS 3: Recall 31.68%\n",
      "\tLOS 4: Recall 30.13%\n",
      "\tLOS 5: Recall 0.0%\n",
      "\tLOS 6: Recall 0.0%\n",
      "LINK 8\n",
      "MONDAY\n"
     ]
    },
    {
     "name": "stderr",
     "output_type": "stream",
     "text": [
     ]
    },
    {
     "name": "stdout",
     "output_type": "stream",
     "text": [
      "\tLOS 1: Recall 95.17%\n",
      "\tLOS 2: Recall 59.4%\n",
      "\tLOS 3: Recall 32.68%\n",
      "\tLOS 4: Recall 43.03%\n",
      "\tLOS 5: Recall 10.21%\n",
      "\tLOS 6: Recall 44.56%\n",
      "TUESDAY-WEDNESDAY-THURSDAY\n"
     ]
    },
    {
     "name": "stderr",
     "output_type": "stream",
     "text": [
     ]
    },
    {
     "name": "stdout",
     "output_type": "stream",
     "text": [
      "\tLOS 1: Recall 94.93%\n",
      "\tLOS 2: Recall 59.19%\n",
      "\tLOS 3: Recall 49.3%\n",
      "\tLOS 4: Recall 35.9%\n",
      "\tLOS 5: Recall 17.36%\n",
      "\tLOS 6: Recall 37.94%\n",
      "FRIDAY\n"
     ]
    },
    {
     "name": "stderr",
     "output_type": "stream",
     "text": [
     ]
    },
    {
     "name": "stdout",
     "output_type": "stream",
     "text": [
      "\tLOS 1: Recall 93.54%\n",
      "\tLOS 2: Recall 57.84%\n",
      "\tLOS 3: Recall 31.93%\n",
      "\tLOS 4: Recall 26.26%\n",
      "\tLOS 5: Recall 14.12%\n",
      "\tLOS 6: Recall 33.04%\n",
      "WEEKEND\n"
     ]
    },
    {
     "name": "stderr",
     "output_type": "stream",
     "text": [
     ]
    },
    {
     "name": "stdout",
     "output_type": "stream",
     "text": [
      "\tLOS 1: Recall 99.67%\n",
      "\tLOS 2: Recall 62.94%\n",
      "\tLOS 3: Recall 0.0%\n",
      "\tLOS 4: Recall 0.0%\n",
      "\tLOS 5: Recall 0.0%\n",
      "\tLOS 6: Recall 0.0%\n",
      "LINK 9\n",
      "MONDAY\n"
     ]
    },
    {
     "name": "stderr",
     "output_type": "stream",
     "text": [
     ]
    },
    {
     "name": "stdout",
     "output_type": "stream",
     "text": [
      "\tLOS 1: Recall 91.12%\n",
      "\tLOS 2: Recall 72.96%\n",
      "\tLOS 3: Recall 56.67%\n",
      "\tLOS 4: Recall 27.93%\n",
      "\tLOS 5: Recall 0.0%\n",
      "\tLOS 6: Recall 0.0%\n",
      "TUESDAY-WEDNESDAY-THURSDAY\n"
     ]
    },
    {
     "name": "stderr",
     "output_type": "stream",
     "text": [
     ]
    },
    {
     "name": "stdout",
     "output_type": "stream",
     "text": [
      "\tLOS 1: Recall 88.3%\n",
      "\tLOS 2: Recall 69.93%\n",
      "\tLOS 3: Recall 55.5%\n",
      "\tLOS 4: Recall 53.31%\n",
      "\tLOS 5: Recall 19.72%\n",
      "\tLOS 6: Recall 36.59%\n",
      "FRIDAY\n"
     ]
    },
    {
     "name": "stderr",
     "output_type": "stream",
     "text": [
     ]
    },
    {
     "name": "stdout",
     "output_type": "stream",
     "text": [
      "\tLOS 1: Recall 90.32%\n",
      "\tLOS 2: Recall 66.82%\n",
      "\tLOS 3: Recall 64.41%\n",
      "\tLOS 4: Recall 33.56%\n",
      "\tLOS 5: Recall 30.0%\n",
      "\tLOS 6: Recall 53.68%\n",
      "WEEKEND\n"
     ]
    },
    {
     "name": "stderr",
     "output_type": "stream",
     "text": [
     ]
    },
    {
     "name": "stdout",
     "output_type": "stream",
     "text": [
      "\tLOS 1: Recall 94.48%\n",
      "\tLOS 2: Recall 69.02%\n",
      "\tLOS 3: Recall 39.65%\n",
      "\tLOS 4: Recall 30.0%\n",
      "\tLOS 5: Recall 0.0%\n",
      "\tLOS 6: Recall 0.0%\n",
      "LINK 10\n",
      "MONDAY\n"
     ]
    },
    {
     "name": "stderr",
     "output_type": "stream",
     "text": [
     ]
    },
    {
     "name": "stdout",
     "output_type": "stream",
     "text": [
      "\tLOS 1: Recall 94.31%\n",
      "\tLOS 2: Recall 51.93%\n",
      "\tLOS 3: Recall 39.88%\n",
      "\tLOS 4: Recall 38.46%\n",
      "\tLOS 5: Recall 51.96%\n",
      "\tLOS 6: Recall 45.12%\n",
      "TUESDAY-WEDNESDAY-THURSDAY\n"
     ]
    },
    {
     "name": "stderr",
     "output_type": "stream",
     "text": [
     ]
    },
    {
     "name": "stdout",
     "output_type": "stream",
     "text": [
      "\tLOS 1: Recall 93.76%\n",
      "\tLOS 2: Recall 62.25%\n",
      "\tLOS 3: Recall 48.65%\n",
      "\tLOS 4: Recall 42.05%\n",
      "\tLOS 5: Recall 53.84%\n",
      "\tLOS 6: Recall 41.75%\n",
      "FRIDAY\n"
     ]
    },
    {
     "name": "stderr",
     "output_type": "stream",
     "text": [
     ]
    },
    {
     "name": "stdout",
     "output_type": "stream",
     "text": [
      "\tLOS 1: Recall 91.87%\n",
      "\tLOS 2: Recall 65.97%\n",
      "\tLOS 3: Recall 50.22%\n",
      "\tLOS 4: Recall 34.35%\n",
      "\tLOS 5: Recall 49.5%\n",
      "\tLOS 6: Recall 44.52%\n",
      "WEEKEND\n"
     ]
    },
    {
     "name": "stderr",
     "output_type": "stream",
     "text": [
     ]
    },
    {
     "name": "stdout",
     "output_type": "stream",
     "text": [
      "\tLOS 1: Recall 96.27%\n",
      "\tLOS 2: Recall 78.41%\n",
      "\tLOS 3: Recall 59.91%\n",
      "\tLOS 4: Recall 85.52%\n",
      "\tLOS 5: Recall 43.68%\n",
      "\tLOS 6: Recall 0.0%\n"
     ]
    }
   ],
   "source": [
    "for LINK in range(5,11):\n",
    "    print(f\"LINK {LINK}\")\n",
    "    other_links = [5,6,7,8,9,10]; other_links.remove(LINK)\n",
    "\n",
    "    features_name = \"tt_arr.*\"\n",
    "\n",
    "    print(f\"MONDAY\")\n",
    "    training_df_link = training_df_mon.copy()\n",
    "    training_df_link = training_df_link[training_df_link['link_id'] == LINK]\n",
    "\n",
    "    for other_link in other_links:\n",
    "        training_df_link = pd.merge(training_df_link, training_df_mon[training_df_mon['link_id'] == other_link].filter(regex=(features_name)), on=['date'], how='inner', suffixes=[None, f'_{other_link}'])\n",
    "\n",
    "    model = RUSBoostClassifier_(base_estimator=DecisionTreeClassifier(max_leaf_nodes=128+1), n_estimators=30, learning_rate=0.3)\n",
    "    X = training_df_link.filter(regex=(features_name))\n",
    "    y = training_df_link['LOS_dep']\n",
    "    # 5-fold cross validation\n",
    "    CV = 5\n",
    "    scoring = {'recall1': metrics.make_scorer(metrics.recall_score, average = None, labels = [1]), \n",
    "        'recall2': metrics.make_scorer(metrics.recall_score, average = None, labels = [2]),\n",
    "        'recall3': metrics.make_scorer(metrics.recall_score, average = None, labels = [3]),\n",
    "        'recall4': metrics.make_scorer(metrics.recall_score, average = None, labels = [4]), \n",
    "        'recall5': metrics.make_scorer(metrics.recall_score, average = None, labels = [5]),\n",
    "        'recall6': metrics.make_scorer(metrics.recall_score, average = None, labels = [6])}\n",
    "    results = cross_validate(model, X, y, cv=CV, scoring=scoring, return_train_score = False)\n",
    "    for LOS in range(1,7):\n",
    "        discard = 0\n",
    "        score = results[f'test_recall{LOS}']\n",
    "        for _score in score:\n",
    "            if _score == 0: discard += 1\n",
    "        if discard != CV:\n",
    "            print(f\"\\tLOS {LOS}: Recall {round(sum(score)/(CV-discard)*100, 2)}%\")\n",
    "        else:\n",
    "            print(f\"\\tLOS {LOS}: Recall 0.0%\")\n",
    "    \n",
    "    print(f\"TUESDAY-WEDNESDAY-THURSDAY\")\n",
    "    training_df_link = training_df_week.copy()\n",
    "    training_df_link = training_df_link[training_df_link['link_id'] == LINK]\n",
    "\n",
    "    for other_link in other_links:\n",
    "        training_df_link = pd.merge(training_df_link, training_df_week[training_df_week['link_id'] == other_link].filter(regex=(features_name)), on=['date'], how='inner', suffixes=[None, f'_{other_link}'])\n",
    "\n",
    "    model = RUSBoostClassifier_(base_estimator=DecisionTreeClassifier(max_leaf_nodes=196+1), n_estimators=30, learning_rate=0.3)\n",
    "    X = training_df_link.filter(regex=(features_name))\n",
    "    y = training_df_link['LOS_dep']\n",
    "    # 5-fold cross validation\n",
    "    CV = 5\n",
    "    scoring = {'recall1': metrics.make_scorer(metrics.recall_score, average = None, labels = [1]), \n",
    "        'recall2': metrics.make_scorer(metrics.recall_score, average = None, labels = [2]),\n",
    "        'recall3': metrics.make_scorer(metrics.recall_score, average = None, labels = [3]),\n",
    "        'recall4': metrics.make_scorer(metrics.recall_score, average = None, labels = [4]), \n",
    "        'recall5': metrics.make_scorer(metrics.recall_score, average = None, labels = [5]),\n",
    "        'recall6': metrics.make_scorer(metrics.recall_score, average = None, labels = [6])}\n",
    "    results = cross_validate(model, X, y, cv=CV, scoring=scoring, return_train_score = False)\n",
    "    for LOS in range(1,7):\n",
    "        discard = 0\n",
    "        score = results[f'test_recall{LOS}']\n",
    "        for _score in score:\n",
    "            if _score == 0: discard += 1\n",
    "        if discard != CV:\n",
    "            print(f\"\\tLOS {LOS}: Recall {round(sum(score)/(CV-discard)*100, 2)}%\")\n",
    "        else:\n",
    "            print(f\"\\tLOS {LOS}: Recall 0.0%\")\n",
    "\n",
    "    print(f\"FRIDAY\")\n",
    "    training_df_link = training_df_fri.copy()\n",
    "    training_df_link = training_df_link[training_df_link['link_id'] == LINK]\n",
    "\n",
    "    for other_link in other_links:\n",
    "        training_df_link = pd.merge(training_df_link, training_df_fri[training_df_fri['link_id'] == other_link].filter(regex=(features_name)), on=['date'], how='inner', suffixes=[None, f'_{other_link}'])\n",
    "\n",
    "    model = RUSBoostClassifier_(base_estimator=DecisionTreeClassifier(max_leaf_nodes=128+1), n_estimators=30, learning_rate=0.3)\n",
    "    X = training_df_link.filter(regex=(features_name))\n",
    "    y = training_df_link['LOS_dep']\n",
    "    # 5-fold cross validation\n",
    "    CV = 5\n",
    "    scoring = {'recall1': metrics.make_scorer(metrics.recall_score, average = None, labels = [1]), \n",
    "        'recall2': metrics.make_scorer(metrics.recall_score, average = None, labels = [2]),\n",
    "        'recall3': metrics.make_scorer(metrics.recall_score, average = None, labels = [3]),\n",
    "        'recall4': metrics.make_scorer(metrics.recall_score, average = None, labels = [4]), \n",
    "        'recall5': metrics.make_scorer(metrics.recall_score, average = None, labels = [5]),\n",
    "        'recall6': metrics.make_scorer(metrics.recall_score, average = None, labels = [6])}\n",
    "    results = cross_validate(model, X, y, cv=CV, scoring=scoring, return_train_score = False)\n",
    "    for LOS in range(1,7):\n",
    "        discard = 0\n",
    "        score = results[f'test_recall{LOS}']\n",
    "        for _score in score:\n",
    "            if _score == 0: discard += 1\n",
    "        if discard != CV:\n",
    "            print(f\"\\tLOS {LOS}: Recall {round(sum(score)/(CV-discard)*100, 2)}%\")\n",
    "        else:\n",
    "            print(f\"\\tLOS {LOS}: Recall 0.0%\")\n",
    "\n",
    "    print(f\"WEEKEND\")\n",
    "    training_df_link = training_df_weeknd.copy()\n",
    "    training_df_link = training_df_link[training_df_link['link_id'] == LINK]\n",
    "\n",
    "    for other_link in other_links:\n",
    "        training_df_link = pd.merge(training_df_link, training_df_weeknd[training_df_weeknd['link_id'] == other_link].filter(regex=(features_name)), on=['date'], how='inner', suffixes=[None, f'_{other_link}'])\n",
    "\n",
    "    model = RUSBoostClassifier_(base_estimator=DecisionTreeClassifier(max_leaf_nodes=128+1), n_estimators=30, learning_rate=0.3)\n",
    "    X = training_df_link.filter(regex=(features_name))\n",
    "    y = training_df_link['LOS_dep']\n",
    "    # 5-fold cross validation\n",
    "    CV = 5\n",
    "    scoring = {'recall1': metrics.make_scorer(metrics.recall_score, average = None, labels = [1]), \n",
    "        'recall2': metrics.make_scorer(metrics.recall_score, average = None, labels = [2]),\n",
    "        'recall3': metrics.make_scorer(metrics.recall_score, average = None, labels = [3]),\n",
    "        'recall4': metrics.make_scorer(metrics.recall_score, average = None, labels = [4]), \n",
    "        'recall5': metrics.make_scorer(metrics.recall_score, average = None, labels = [5]),\n",
    "        'recall6': metrics.make_scorer(metrics.recall_score, average = None, labels = [6])}\n",
    "    results = cross_validate(model, X, y, cv=CV, scoring=scoring, return_train_score = False)\n",
    "    for LOS in range(1,7):\n",
    "        discard = 0\n",
    "        score = results[f'test_recall{LOS}']\n",
    "        for _score in score:\n",
    "            if _score == 0: discard += 1\n",
    "        if discard != CV:\n",
    "            print(f\"\\tLOS {LOS}: Recall {round(sum(score)/(CV-discard)*100, 2)}%\")\n",
    "        else:\n",
    "            print(f\"\\tLOS {LOS}: Recall 0.0%\")"
   ]
  }
 ],
 "metadata": {
  "colab": {
   "authorship_tag": "ABX9TyMHe0NkQoa9ACIkTbFtjTmK",
   "include_colab_link": true,
   "mount_file_id": "1Z2Z4EeQPbfgdwWew4IfwOLqQ_conuu2c",
   "provenance": []
  },
  "gpuClass": "standard",
  "kernelspec": {
   "display_name": "Python 3",
   "language": "python",
   "name": "python3"
  },
  "language_info": {
   "codemirror_mode": {
    "name": "ipython",
    "version": 3
   },
   "file_extension": ".py",
   "mimetype": "text/x-python",
   "name": "python",
   "nbconvert_exporter": "python",
   "pygments_lexer": "ipython3",
   "version": "3.9.16"
  }
 },
 "nbformat": 4,
 "nbformat_minor": 4
}
